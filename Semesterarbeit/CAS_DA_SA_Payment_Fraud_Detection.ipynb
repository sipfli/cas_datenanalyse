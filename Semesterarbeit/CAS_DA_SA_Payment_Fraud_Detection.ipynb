{
  "nbformat": 4,
  "nbformat_minor": 0,
  "metadata": {
    "colab": {
      "name": "CAS-DA-SA_Payment_Fraud_Detection.ipynb",
      "version": "0.3.2",
      "provenance": [],
      "include_colab_link": true
    },
    "kernelspec": {
      "name": "python3",
      "display_name": "Python 3"
    }
  },
  "cells": [
    {
      "cell_type": "markdown",
      "metadata": {
        "id": "view-in-github",
        "colab_type": "text"
      },
      "source": [
        "<a href=\"https://colab.research.google.com/github/sakuronohana/cas_datenanalyse/blob/master/Semesterarbeit/CAS_DA_SA_Payment_Fraud_Detection.ipynb\" target=\"_parent\"><img src=\"https://colab.research.google.com/assets/colab-badge.svg\" alt=\"Open In Colab\"/></a>"
      ]
    },
    {
      "metadata": {
        "id": "jRcJtvy3IiFf",
        "colab_type": "text"
      },
      "cell_type": "markdown",
      "source": [
        "<img \n",
        "src=\"https://www.ffhs.ch/templates/ffhs/img/logo@2x.png\" width=\"100\"> \n",
        "###DaAn, Data Analysis, MAS/CAS Web4B 2018, ZH1, FS19, Dr. Tödtli Beat###\n",
        "\n",
        "##*Semesterarbeit von Patrik Di Lena*##\n",
        "#Betrugserkennung Zahlungsverkehr#\n",
        "\n"
      ]
    },
    {
      "metadata": {
        "id": "Cu2Lax6MMPh0",
        "colab_type": "text"
      },
      "cell_type": "markdown",
      "source": [
        "##Ziel##\n",
        "Auf der Grundlage von maschinellen Lernalgorithmen soll ein Betrugserkennungssystem für den Zahlungsverkehr einer ausschliesslich in der Schweiz tätigen Bank erstellt werden. Auf Basis historisierter Daten in Bezug auf das E-Banking Session- und Zahlungsverhalten von Bankkunden sollen mögliche Betrugsintensionen erkannt und für bestimmte Risikogruppen vorhergesagt werden.\n",
        "\n",
        "##Aufgabenstellung##\n",
        "\n",
        "Aus dem oben formulierten Ziel ergeben sich zwei wesentliche Aufgabenstellungen:\n",
        "1.\tErkennung betrügerischer Handlungen im Zahlungsverkehr\n",
        "2.\tErmittlung potenzieller Kundenrisikogruppen\n",
        "\n",
        "##Betrugsanfällige Risikogruppen##\n",
        "Die für den Betrug im Zahlungsverkehr anfälligen Gruppen werden auf Basis der folgenden Merkmale durch den Lernalgorithmus bestimmt:\n",
        "\n",
        "*\tGeschlecht\n",
        "*\tAlter\n",
        "*\tZivilstand\n",
        "*\tNationalität\n",
        "*\tKontosaldo\n",
        "*\tWohnort\n",
        "*\tRegion\n",
        "*\tZahlungsmethode (E-Rechnung, Einzahlungsschein etc.)\n",
        "*\tRechtsform (Juristisch oder natürliche Person)\n",
        "\n",
        "## Datensatz##\n",
        "Die im Rahmen dieser Semesterarbeit verwendeten Daten entstammen, von ihrer Datenstruktur her, aus einem bereits eingesetzten nicht ML-basierten E-Banking Betrugserkennungssystem. Die Datenwerte wurde zu Wahrung der datenschutzrechtlichen und bankengesetzlichen Aspekte mit Hilfe des folgenden Python-Scripts künstlich erzeugt und beinhalten somit keine reale Zahlungs-, Kunden-, und betrugsspezifischen Informationen. Weiter wurden einige durch die Bank definierten Spezifikationen bzw. Merkmale aus sicherheitstechnischen Gründen umbenannt.  \n",
        "\n",
        "Datenselektion:\n",
        "\n",
        "- 5'000 synthetische Kunden (Vorname, Name, Strasse, Ort, Kanton, Sprachregion, Geschlecht, Alter, Zivilstand,  Nationalität, Kontonummer, Vertragsnummer, Rechtsform )\n",
        "\n",
        "- 100'000 synthetische Zahlungen (Transaktionsid, ,Erstellungdatum/Zeit, Empfängerkonto, Empfängerbank, Empfängerland, Währung, Betrag, Valuta Datum)\n",
        "\n",
        "\n",
        "\n",
        "\n",
        "\n",
        "\n"
      ]
    },
    {
      "metadata": {
        "id": "eSPNIKY7BlqD",
        "colab_type": "text"
      },
      "cell_type": "markdown",
      "source": [
        "###Datengeneratoren###\n",
        "\n",
        "Während die Stammdaten hauptsächlich im Excel manuell von verschiedenen Quellen \n",
        "\n",
        "Datenquellen:\n",
        "\n",
        "Open Government Data https://opendata.swiss/de/\n"
      ]
    },
    {
      "metadata": {
        "id": "juo_qNJ_Hvfc",
        "colab_type": "text"
      },
      "cell_type": "markdown",
      "source": [
        "###IBAN Generator###"
      ]
    },
    {
      "metadata": {
        "id": "1p72CDsQ4GzX",
        "colab_type": "code",
        "outputId": "d5e125d0-09ae-4b62-81c5-82c574f1164f",
        "colab": {
          "base_uri": "https://localhost:8080/",
          "height": 35
        }
      },
      "cell_type": "code",
      "source": [
        "# IBAN Generator\n",
        "\n",
        "import datetime\n",
        "import numpy as np\n",
        "import pandas as pd\n",
        "\n",
        "# Datenquellen Github\n",
        "ibandb_url = 'https://raw.githubusercontent.com/sakuronohana/cas_datenanalyse/master/Semesterarbeit/Dataset/iban_list.csv'\n",
        "\n",
        "# IBAN Generator in elektronischer Form\n",
        "\n",
        "iban_cc = pd.read_csv(ibandb_url, delimiter=';')\n",
        "iban_cc.columns=['Country','Code','Checkdig','Length','Sample','Bank']\n",
        "\n",
        "# IBAN Gen. 1.Teil - Erstellung IBAN Länder- und Bankencode\n",
        "code = np.random.choice(np.ravel(iban_cc['Code']).astype(str))\n",
        "checkdig = np.random.choice(np.ravel(iban_cc['Checkdig']).astype(str))\n",
        "iban_country_code = code + checkdig\n",
        "iban_bank_code = np.random.choice((iban_cc.loc[iban_cc['Code'] == code])['Length']).astype(str)\n",
        "iban_ccbc = iban_country_code + \"00\" + iban_bank_code \n",
        "\n",
        "# IBAN Gen. 2.Teil - Erstellung Kontonummer und Zusammensetzung der IBAN\n",
        "eiban = []\n",
        "for row in range(20):\n",
        "    part_eiban = pd.DataFrame(np.int64(np.random.randint(2000000000000,3000000000000,20800)))\n",
        "    eiban = iban_ccbc + part_eiban.astype(str)\n",
        "\n",
        "# Zufällige Auswahl einer IBAN aus dem generierten Datensatz\n",
        "eiban = np.ravel(eiban)\n",
        "eiban = np.random.choice(eiban)\n",
        "print (eiban)\n",
        "\n",
        "\n",
        "\n"
      ],
      "execution_count": 1,
      "outputs": [
        {
          "output_type": "stream",
          "text": [
            "DO4400282136993702827\n"
          ],
          "name": "stdout"
        }
      ]
    },
    {
      "metadata": {
        "id": "RUs5m-l3IRbC",
        "colab_type": "text"
      },
      "cell_type": "markdown",
      "source": [
        "###Payment Generator###"
      ]
    },
    {
      "metadata": {
        "id": "mAzUQ-9EHthx",
        "colab_type": "code",
        "outputId": "4d8ee4b2-01e0-4504-a619-bae9916f823c",
        "colab": {
          "base_uri": "https://localhost:8080/",
          "height": 1097
        }
      },
      "cell_type": "code",
      "source": [
        "# Erstellung von Transaktionsdaten \n",
        "# Daten Payment ID z.B. 1059295797\n",
        "\n",
        "from datetime import datetime, timedelta\n",
        "import random\n",
        "import numpy as np\n",
        "import pandas as pd\n",
        "\n",
        "# Datenquellen Github\n",
        "ibandb_url = 'https://raw.githubusercontent.com/sakuronohana/cas_datenanalyse/master/Semesterarbeit/Dataset/iban_list.csv'\n",
        "\n",
        "# IBAN Generator in elektronischer Form\n",
        "\n",
        "iban_cc = pd.read_csv(ibandb_url, delimiter=';')\n",
        "iban_cc.columns=['Country','Code','Checkdig','Length','Sample','Bank']\n",
        "\n",
        "# IBAN Gen. 1.Teil - Erstellung IBAN Länder- und Bankencode\n",
        "code = np.random.choice(np.ravel(iban_cc['Code']).astype(str))\n",
        "checkdig = np.random.choice(np.ravel(iban_cc['Checkdig']).astype(str))\n",
        "iban_country_code = code + checkdig\n",
        "iban_bank_code = np.random.choice((iban_cc.loc[iban_cc['Code'] == code])['Length']).astype(str)\n",
        "iban_ccbc = iban_country_code + \"00\" + iban_bank_code \n",
        "\n",
        "# IBAN Gen. 2.Teil - Erstellung Kontonummer und Zusammensetzung der IBAN\n",
        "eiban = []\n",
        "for row in range(20):\n",
        "    part_eiban = pd.DataFrame(np.int64(np.random.randint(2000000000000,3000000000000,20800)))\n",
        "    eiban = iban_ccbc + part_eiban.astype(str)\n",
        "\n",
        "# Zufällige Auswahl einer IBAN aus dem generierten Datensatz\n",
        "eiban = np.ravel(eiban)\n",
        "eiban = np.random.choice(eiban)\n",
        "\n",
        "\n",
        "# Datenquellen Github\n",
        "custdb_url = 'https://raw.githubusercontent.com/sakuronohana/cas_datenanalyse/master/Semesterarbeit/Dataset/cutomer_base_data.csv'\n",
        "\n",
        "cust_data = pd.read_csv(custdb_url, delimiter=';')\n",
        "cust_data.columns=['anrede','vorname','nachname','strasse','nr','plz','ort',\n",
        "                   'kanton','sprachregion',\t'nation',\t'sexcode','mobile_nr',\t\n",
        "                   'vertrag_nr','konto_nr','auth_device']\n",
        "\n",
        "# Importierte Kundendaten bereinigen\n",
        "cust_data = cust_data.fillna(0)\n",
        "cust_data_dtype = {'plz':int,'mobile_nr':int,'vertrag_nr':int}\n",
        "cust_data = cust_data.astype(cust_data_dtype)\n",
        "\n",
        "\n",
        "# Erstellung der Zahlungs-Basisinformationen \n",
        "\n",
        "# Erstellung weiterer Zahlungsmerkmale\n",
        "# ID pro Zahlung\n",
        "\n",
        "\n",
        "#Betrag pro Zahlung\n",
        "amount = pd.DataFrame(np.int64(np.random.randint(100,100000,1)))\n",
        "\n",
        "\n",
        "#Datum Zahlungserstellung\n",
        "\n",
        "trx = []\n",
        "timestamp = []\n",
        "start_date = datetime(2018,1,1,8,0,0)\n",
        "\n",
        "for i in range(30):\n",
        "    tstamp = pd.Timestamp(datetime(2018,1,1,8,0,0)+timedelta(minutes=30*i)).strftime(\"%Y.%m.%d %H:%M\")\n",
        "    paym_id = np.int64(np.random.randint(1000000000000,2000000000000,1))\n",
        "    mount = np.int64(np.random.randint(100,100000,1))\n",
        "    trx = tstamp, paym_id, amount, eiban\n",
        "    print(trx) \n",
        "  \n",
        "    \n"
      ],
      "execution_count": 12,
      "outputs": [
        {
          "output_type": "stream",
          "text": [
            "('2018.01.01 08:00', array([1738906633444]),        0\n",
            "0  34627, 'ES6200242335223254730')\n",
            "('2018.01.01 08:30', array([1461492510411]),        0\n",
            "0  34627, 'ES6200242335223254730')\n",
            "('2018.01.01 09:00', array([1448198230105]),        0\n",
            "0  34627, 'ES6200242335223254730')\n",
            "('2018.01.01 09:30', array([1691984754207]),        0\n",
            "0  34627, 'ES6200242335223254730')\n",
            "('2018.01.01 10:00', array([1047978136240]),        0\n",
            "0  34627, 'ES6200242335223254730')\n",
            "('2018.01.01 10:30', array([1529152949400]),        0\n",
            "0  34627, 'ES6200242335223254730')\n",
            "('2018.01.01 11:00', array([1874464771181]),        0\n",
            "0  34627, 'ES6200242335223254730')\n",
            "('2018.01.01 11:30', array([1132070223245]),        0\n",
            "0  34627, 'ES6200242335223254730')\n",
            "('2018.01.01 12:00', array([1225196431037]),        0\n",
            "0  34627, 'ES6200242335223254730')\n",
            "('2018.01.01 12:30', array([1153274280578]),        0\n",
            "0  34627, 'ES6200242335223254730')\n",
            "('2018.01.01 13:00', array([1267827479904]),        0\n",
            "0  34627, 'ES6200242335223254730')\n",
            "('2018.01.01 13:30', array([1144031037732]),        0\n",
            "0  34627, 'ES6200242335223254730')\n",
            "('2018.01.01 14:00', array([1900052501434]),        0\n",
            "0  34627, 'ES6200242335223254730')\n",
            "('2018.01.01 14:30', array([1677184080834]),        0\n",
            "0  34627, 'ES6200242335223254730')\n",
            "('2018.01.01 15:00', array([1258491549617]),        0\n",
            "0  34627, 'ES6200242335223254730')\n",
            "('2018.01.01 15:30', array([1034592319430]),        0\n",
            "0  34627, 'ES6200242335223254730')\n",
            "('2018.01.01 16:00', array([1710658941984]),        0\n",
            "0  34627, 'ES6200242335223254730')\n",
            "('2018.01.01 16:30', array([1389169186164]),        0\n",
            "0  34627, 'ES6200242335223254730')\n",
            "('2018.01.01 17:00', array([1989100428609]),        0\n",
            "0  34627, 'ES6200242335223254730')\n",
            "('2018.01.01 17:30', array([1737354552522]),        0\n",
            "0  34627, 'ES6200242335223254730')\n",
            "('2018.01.01 18:00', array([1056109949730]),        0\n",
            "0  34627, 'ES6200242335223254730')\n",
            "('2018.01.01 18:30', array([1195215729051]),        0\n",
            "0  34627, 'ES6200242335223254730')\n",
            "('2018.01.01 19:00', array([1700535947708]),        0\n",
            "0  34627, 'ES6200242335223254730')\n",
            "('2018.01.01 19:30', array([1026720779547]),        0\n",
            "0  34627, 'ES6200242335223254730')\n",
            "('2018.01.01 20:00', array([1238535706064]),        0\n",
            "0  34627, 'ES6200242335223254730')\n",
            "('2018.01.01 20:30', array([1234701270859]),        0\n",
            "0  34627, 'ES6200242335223254730')\n",
            "('2018.01.01 21:00', array([1143940738724]),        0\n",
            "0  34627, 'ES6200242335223254730')\n",
            "('2018.01.01 21:30', array([1253024198947]),        0\n",
            "0  34627, 'ES6200242335223254730')\n",
            "('2018.01.01 22:00', array([1656449815436]),        0\n",
            "0  34627, 'ES6200242335223254730')\n",
            "('2018.01.01 22:30', array([1156452125533]),        0\n",
            "0  34627, 'ES6200242335223254730')\n"
          ],
          "name": "stdout"
        }
      ]
    },
    {
      "metadata": {
        "id": "bjKNR3iTCni5",
        "colab_type": "code",
        "colab": {}
      },
      "cell_type": "code",
      "source": [
        ""
      ],
      "execution_count": 0,
      "outputs": []
    }
  ]
}