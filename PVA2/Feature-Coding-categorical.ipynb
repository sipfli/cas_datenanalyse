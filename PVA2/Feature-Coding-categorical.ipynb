{
  "nbformat": 4,
  "nbformat_minor": 0,
  "metadata": {
    "colab": {
      "name": "Feature-Coding-categorical.ipynb",
      "version": "0.3.2",
      "provenance": [],
      "include_colab_link": true
    },
    "kernelspec": {
      "display_name": "Python 3",
      "language": "python",
      "name": "python3"
    }
  },
  "cells": [
    {
      "cell_type": "markdown",
      "metadata": {
        "id": "view-in-github",
        "colab_type": "text"
      },
      "source": [
        "<a href=\"https://colab.research.google.com/github/sakuronohana/cas_datenanalyse/blob/master/PVA2/Feature-Coding-categorical.ipynb\" target=\"_parent\"><img src=\"https://colab.research.google.com/assets/colab-badge.svg\" alt=\"Open In Colab\"/></a>"
      ]
    },
    {
      "metadata": {
        "id": "lXgNL0QN63pc",
        "colab_type": "text"
      },
      "cell_type": "markdown",
      "source": [
        "## Feature (En)coding Kategorische Features in Python"
      ]
    },
    {
      "metadata": {
        "id": "Q3zBXErm63pf",
        "colab_type": "text"
      },
      "cell_type": "markdown",
      "source": [
        "Importiere pandas, scikit-learn, numpy and [category_encoder](http://contrib.scikit-learn.org/categorical-encoding/) libraries."
      ]
    },
    {
      "metadata": {
        "id": "8dfC3NCq63pl",
        "colab_type": "code",
        "colab": {}
      },
      "cell_type": "code",
      "source": [
        "!pip3 install category_encoders"
      ],
      "execution_count": 0,
      "outputs": []
    },
    {
      "metadata": {
        "id": "RcU1ZWT-63pg",
        "colab_type": "code",
        "colab": {}
      },
      "cell_type": "code",
      "source": [
        "import pandas as pd\n",
        "import numpy as np\n",
        "\n",
        "from sklearn.preprocessing import LabelBinarizer, LabelEncoder\n",
        "\n",
        "import category_encoders as ce"
      ],
      "execution_count": 0,
      "outputs": []
    },
    {
      "metadata": {
        "id": "Q2jvTu1463pq",
        "colab_type": "text"
      },
      "cell_type": "markdown",
      "source": [
        "Die Spaltennamen geben wir so an!"
      ]
    },
    {
      "metadata": {
        "id": "qTmUKcep63pr",
        "colab_type": "code",
        "colab": {}
      },
      "cell_type": "code",
      "source": [
        "headers = [\"symboling\", \"normalized_losses\", \"make\", \"fuel_type\", \"aspiration\", \"num_doors\", \"body_style\",\n",
        "           \"drive_wheels\", \"engine_location\", \"wheel_base\", \"length\", \"width\", \"height\", \"curb_weight\",\n",
        "           \"engine_type\", \"num_cylinders\", \"engine_size\", \"fuel_system\", \"bore\", \"stroke\", \n",
        "           \"compression_ratio\", \"horsepower\", \"peak_rpm\", \"city_mpg\", \"highway_mpg\", \"price\"]"
      ],
      "execution_count": 0,
      "outputs": []
    },
    {
      "metadata": {
        "id": "nh3Lz0HI63pt",
        "colab_type": "text"
      },
      "cell_type": "markdown",
      "source": [
        "Lese Daten ein und konvertiere NaN zu ?"
      ]
    },
    {
      "metadata": {
        "id": "_TAfp6-J63pu",
        "colab_type": "code",
        "colab": {}
      },
      "cell_type": "code",
      "source": [
        "df = pd.read_csv(\"./data/imports-85.data\",\n",
        "                 header=None, names=headers, na_values=\"?\" )"
      ],
      "execution_count": 0,
      "outputs": []
    },
    {
      "metadata": {
        "id": "xS8RFRE_63px",
        "colab_type": "code",
        "colab": {},
        "outputId": "f5d69450-11c2-4705-9b24-d0143d325a32"
      },
      "cell_type": "code",
      "source": [
        "df.head()"
      ],
      "execution_count": 0,
      "outputs": [
        {
          "output_type": "execute_result",
          "data": {
            "text/html": [
              "<div>\n",
              "<style>\n",
              "    .dataframe thead tr:only-child th {\n",
              "        text-align: right;\n",
              "    }\n",
              "\n",
              "    .dataframe thead th {\n",
              "        text-align: left;\n",
              "    }\n",
              "\n",
              "    .dataframe tbody tr th {\n",
              "        vertical-align: top;\n",
              "    }\n",
              "</style>\n",
              "<table border=\"1\" class=\"dataframe\">\n",
              "  <thead>\n",
              "    <tr style=\"text-align: right;\">\n",
              "      <th></th>\n",
              "      <th>symboling</th>\n",
              "      <th>normalized_losses</th>\n",
              "      <th>make</th>\n",
              "      <th>fuel_type</th>\n",
              "      <th>aspiration</th>\n",
              "      <th>num_doors</th>\n",
              "      <th>body_style</th>\n",
              "      <th>drive_wheels</th>\n",
              "      <th>engine_location</th>\n",
              "      <th>wheel_base</th>\n",
              "      <th>...</th>\n",
              "      <th>engine_size</th>\n",
              "      <th>fuel_system</th>\n",
              "      <th>bore</th>\n",
              "      <th>stroke</th>\n",
              "      <th>compression_ratio</th>\n",
              "      <th>horsepower</th>\n",
              "      <th>peak_rpm</th>\n",
              "      <th>city_mpg</th>\n",
              "      <th>highway_mpg</th>\n",
              "      <th>price</th>\n",
              "    </tr>\n",
              "  </thead>\n",
              "  <tbody>\n",
              "    <tr>\n",
              "      <th>0</th>\n",
              "      <td>3</td>\n",
              "      <td>NaN</td>\n",
              "      <td>alfa-romero</td>\n",
              "      <td>gas</td>\n",
              "      <td>std</td>\n",
              "      <td>two</td>\n",
              "      <td>convertible</td>\n",
              "      <td>rwd</td>\n",
              "      <td>front</td>\n",
              "      <td>88.6</td>\n",
              "      <td>...</td>\n",
              "      <td>130</td>\n",
              "      <td>mpfi</td>\n",
              "      <td>3.47</td>\n",
              "      <td>2.68</td>\n",
              "      <td>9.0</td>\n",
              "      <td>111.0</td>\n",
              "      <td>5000.0</td>\n",
              "      <td>21</td>\n",
              "      <td>27</td>\n",
              "      <td>13495.0</td>\n",
              "    </tr>\n",
              "    <tr>\n",
              "      <th>1</th>\n",
              "      <td>3</td>\n",
              "      <td>NaN</td>\n",
              "      <td>alfa-romero</td>\n",
              "      <td>gas</td>\n",
              "      <td>std</td>\n",
              "      <td>two</td>\n",
              "      <td>convertible</td>\n",
              "      <td>rwd</td>\n",
              "      <td>front</td>\n",
              "      <td>88.6</td>\n",
              "      <td>...</td>\n",
              "      <td>130</td>\n",
              "      <td>mpfi</td>\n",
              "      <td>3.47</td>\n",
              "      <td>2.68</td>\n",
              "      <td>9.0</td>\n",
              "      <td>111.0</td>\n",
              "      <td>5000.0</td>\n",
              "      <td>21</td>\n",
              "      <td>27</td>\n",
              "      <td>16500.0</td>\n",
              "    </tr>\n",
              "    <tr>\n",
              "      <th>2</th>\n",
              "      <td>1</td>\n",
              "      <td>NaN</td>\n",
              "      <td>alfa-romero</td>\n",
              "      <td>gas</td>\n",
              "      <td>std</td>\n",
              "      <td>two</td>\n",
              "      <td>hatchback</td>\n",
              "      <td>rwd</td>\n",
              "      <td>front</td>\n",
              "      <td>94.5</td>\n",
              "      <td>...</td>\n",
              "      <td>152</td>\n",
              "      <td>mpfi</td>\n",
              "      <td>2.68</td>\n",
              "      <td>3.47</td>\n",
              "      <td>9.0</td>\n",
              "      <td>154.0</td>\n",
              "      <td>5000.0</td>\n",
              "      <td>19</td>\n",
              "      <td>26</td>\n",
              "      <td>16500.0</td>\n",
              "    </tr>\n",
              "    <tr>\n",
              "      <th>3</th>\n",
              "      <td>2</td>\n",
              "      <td>164.0</td>\n",
              "      <td>audi</td>\n",
              "      <td>gas</td>\n",
              "      <td>std</td>\n",
              "      <td>four</td>\n",
              "      <td>sedan</td>\n",
              "      <td>fwd</td>\n",
              "      <td>front</td>\n",
              "      <td>99.8</td>\n",
              "      <td>...</td>\n",
              "      <td>109</td>\n",
              "      <td>mpfi</td>\n",
              "      <td>3.19</td>\n",
              "      <td>3.40</td>\n",
              "      <td>10.0</td>\n",
              "      <td>102.0</td>\n",
              "      <td>5500.0</td>\n",
              "      <td>24</td>\n",
              "      <td>30</td>\n",
              "      <td>13950.0</td>\n",
              "    </tr>\n",
              "    <tr>\n",
              "      <th>4</th>\n",
              "      <td>2</td>\n",
              "      <td>164.0</td>\n",
              "      <td>audi</td>\n",
              "      <td>gas</td>\n",
              "      <td>std</td>\n",
              "      <td>four</td>\n",
              "      <td>sedan</td>\n",
              "      <td>4wd</td>\n",
              "      <td>front</td>\n",
              "      <td>99.4</td>\n",
              "      <td>...</td>\n",
              "      <td>136</td>\n",
              "      <td>mpfi</td>\n",
              "      <td>3.19</td>\n",
              "      <td>3.40</td>\n",
              "      <td>8.0</td>\n",
              "      <td>115.0</td>\n",
              "      <td>5500.0</td>\n",
              "      <td>18</td>\n",
              "      <td>22</td>\n",
              "      <td>17450.0</td>\n",
              "    </tr>\n",
              "  </tbody>\n",
              "</table>\n",
              "<p>5 rows × 26 columns</p>\n",
              "</div>"
            ],
            "text/plain": [
              "   symboling  normalized_losses         make fuel_type aspiration num_doors  \\\n",
              "0          3                NaN  alfa-romero       gas        std       two   \n",
              "1          3                NaN  alfa-romero       gas        std       two   \n",
              "2          1                NaN  alfa-romero       gas        std       two   \n",
              "3          2              164.0         audi       gas        std      four   \n",
              "4          2              164.0         audi       gas        std      four   \n",
              "\n",
              "    body_style drive_wheels engine_location  wheel_base   ...     engine_size  \\\n",
              "0  convertible          rwd           front        88.6   ...             130   \n",
              "1  convertible          rwd           front        88.6   ...             130   \n",
              "2    hatchback          rwd           front        94.5   ...             152   \n",
              "3        sedan          fwd           front        99.8   ...             109   \n",
              "4        sedan          4wd           front        99.4   ...             136   \n",
              "\n",
              "   fuel_system  bore  stroke compression_ratio horsepower  peak_rpm city_mpg  \\\n",
              "0         mpfi  3.47    2.68               9.0      111.0    5000.0       21   \n",
              "1         mpfi  3.47    2.68               9.0      111.0    5000.0       21   \n",
              "2         mpfi  2.68    3.47               9.0      154.0    5000.0       19   \n",
              "3         mpfi  3.19    3.40              10.0      102.0    5500.0       24   \n",
              "4         mpfi  3.19    3.40               8.0      115.0    5500.0       18   \n",
              "\n",
              "   highway_mpg    price  \n",
              "0           27  13495.0  \n",
              "1           27  16500.0  \n",
              "2           26  16500.0  \n",
              "3           30  13950.0  \n",
              "4           22  17450.0  \n",
              "\n",
              "[5 rows x 26 columns]"
            ]
          },
          "metadata": {
            "tags": []
          },
          "execution_count": 7
        }
      ]
    },
    {
      "metadata": {
        "id": "65K3mKx463p1",
        "colab_type": "text"
      },
      "cell_type": "markdown",
      "source": [
        "Datentypen in dataframe"
      ]
    },
    {
      "metadata": {
        "id": "q2krU8K363p2",
        "colab_type": "code",
        "colab": {},
        "outputId": "f70cdeab-073c-4678-cec5-48c21d8bc807"
      },
      "cell_type": "code",
      "source": [
        "df.dtypes"
      ],
      "execution_count": 0,
      "outputs": [
        {
          "output_type": "execute_result",
          "data": {
            "text/plain": [
              "symboling              int64\n",
              "normalized_losses    float64\n",
              "make                  object\n",
              "fuel_type             object\n",
              "aspiration            object\n",
              "num_doors             object\n",
              "body_style            object\n",
              "drive_wheels          object\n",
              "engine_location       object\n",
              "wheel_base           float64\n",
              "length               float64\n",
              "width                float64\n",
              "height               float64\n",
              "curb_weight            int64\n",
              "engine_type           object\n",
              "num_cylinders         object\n",
              "engine_size            int64\n",
              "fuel_system           object\n",
              "bore                 float64\n",
              "stroke               float64\n",
              "compression_ratio    float64\n",
              "horsepower           float64\n",
              "peak_rpm             float64\n",
              "city_mpg               int64\n",
              "highway_mpg            int64\n",
              "price                float64\n",
              "dtype: object"
            ]
          },
          "metadata": {
            "tags": []
          },
          "execution_count": 8
        }
      ]
    },
    {
      "metadata": {
        "id": "y3PGLnwb63p9",
        "colab_type": "text"
      },
      "cell_type": "markdown",
      "source": [
        "Mache Kopie nur mit den object Spalten."
      ]
    },
    {
      "metadata": {
        "id": "OWE0joOJ63p-",
        "colab_type": "code",
        "colab": {}
      },
      "cell_type": "code",
      "source": [
        "obj_df = df.select_dtypes(include=['object']).copy()"
      ],
      "execution_count": 0,
      "outputs": []
    },
    {
      "metadata": {
        "id": "Z6U3XMVN63qB",
        "colab_type": "code",
        "colab": {},
        "outputId": "37773620-3e7b-46ef-9699-210cf5630e9d"
      },
      "cell_type": "code",
      "source": [
        "obj_df.head()"
      ],
      "execution_count": 0,
      "outputs": [
        {
          "output_type": "execute_result",
          "data": {
            "text/html": [
              "<div>\n",
              "<style>\n",
              "    .dataframe thead tr:only-child th {\n",
              "        text-align: right;\n",
              "    }\n",
              "\n",
              "    .dataframe thead th {\n",
              "        text-align: left;\n",
              "    }\n",
              "\n",
              "    .dataframe tbody tr th {\n",
              "        vertical-align: top;\n",
              "    }\n",
              "</style>\n",
              "<table border=\"1\" class=\"dataframe\">\n",
              "  <thead>\n",
              "    <tr style=\"text-align: right;\">\n",
              "      <th></th>\n",
              "      <th>make</th>\n",
              "      <th>fuel_type</th>\n",
              "      <th>aspiration</th>\n",
              "      <th>num_doors</th>\n",
              "      <th>body_style</th>\n",
              "      <th>drive_wheels</th>\n",
              "      <th>engine_location</th>\n",
              "      <th>engine_type</th>\n",
              "      <th>num_cylinders</th>\n",
              "      <th>fuel_system</th>\n",
              "    </tr>\n",
              "  </thead>\n",
              "  <tbody>\n",
              "    <tr>\n",
              "      <th>0</th>\n",
              "      <td>alfa-romero</td>\n",
              "      <td>gas</td>\n",
              "      <td>std</td>\n",
              "      <td>two</td>\n",
              "      <td>convertible</td>\n",
              "      <td>rwd</td>\n",
              "      <td>front</td>\n",
              "      <td>dohc</td>\n",
              "      <td>four</td>\n",
              "      <td>mpfi</td>\n",
              "    </tr>\n",
              "    <tr>\n",
              "      <th>1</th>\n",
              "      <td>alfa-romero</td>\n",
              "      <td>gas</td>\n",
              "      <td>std</td>\n",
              "      <td>two</td>\n",
              "      <td>convertible</td>\n",
              "      <td>rwd</td>\n",
              "      <td>front</td>\n",
              "      <td>dohc</td>\n",
              "      <td>four</td>\n",
              "      <td>mpfi</td>\n",
              "    </tr>\n",
              "    <tr>\n",
              "      <th>2</th>\n",
              "      <td>alfa-romero</td>\n",
              "      <td>gas</td>\n",
              "      <td>std</td>\n",
              "      <td>two</td>\n",
              "      <td>hatchback</td>\n",
              "      <td>rwd</td>\n",
              "      <td>front</td>\n",
              "      <td>ohcv</td>\n",
              "      <td>six</td>\n",
              "      <td>mpfi</td>\n",
              "    </tr>\n",
              "    <tr>\n",
              "      <th>3</th>\n",
              "      <td>audi</td>\n",
              "      <td>gas</td>\n",
              "      <td>std</td>\n",
              "      <td>four</td>\n",
              "      <td>sedan</td>\n",
              "      <td>fwd</td>\n",
              "      <td>front</td>\n",
              "      <td>ohc</td>\n",
              "      <td>four</td>\n",
              "      <td>mpfi</td>\n",
              "    </tr>\n",
              "    <tr>\n",
              "      <th>4</th>\n",
              "      <td>audi</td>\n",
              "      <td>gas</td>\n",
              "      <td>std</td>\n",
              "      <td>four</td>\n",
              "      <td>sedan</td>\n",
              "      <td>4wd</td>\n",
              "      <td>front</td>\n",
              "      <td>ohc</td>\n",
              "      <td>five</td>\n",
              "      <td>mpfi</td>\n",
              "    </tr>\n",
              "  </tbody>\n",
              "</table>\n",
              "</div>"
            ],
            "text/plain": [
              "          make fuel_type aspiration num_doors   body_style drive_wheels  \\\n",
              "0  alfa-romero       gas        std       two  convertible          rwd   \n",
              "1  alfa-romero       gas        std       two  convertible          rwd   \n",
              "2  alfa-romero       gas        std       two    hatchback          rwd   \n",
              "3         audi       gas        std      four        sedan          fwd   \n",
              "4         audi       gas        std      four        sedan          4wd   \n",
              "\n",
              "  engine_location engine_type num_cylinders fuel_system  \n",
              "0           front        dohc          four        mpfi  \n",
              "1           front        dohc          four        mpfi  \n",
              "2           front        ohcv           six        mpfi  \n",
              "3           front         ohc          four        mpfi  \n",
              "4           front         ohc          five        mpfi  "
            ]
          },
          "metadata": {
            "tags": []
          },
          "execution_count": 10
        }
      ]
    },
    {
      "metadata": {
        "id": "pV5cUUrI63qE",
        "colab_type": "raw"
      },
      "cell_type": "markdown",
      "source": [
        "Ueberprüfe null values in the Daten"
      ]
    },
    {
      "metadata": {
        "id": "iBI8cwAJ63qF",
        "colab_type": "code",
        "colab": {},
        "outputId": "d0fba763-92f3-4dd1-d31d-d69088765463"
      },
      "cell_type": "code",
      "source": [
        "obj_df[obj_df.isnull().any(axis=1)]"
      ],
      "execution_count": 0,
      "outputs": [
        {
          "output_type": "execute_result",
          "data": {
            "text/html": [
              "<div>\n",
              "<style>\n",
              "    .dataframe thead tr:only-child th {\n",
              "        text-align: right;\n",
              "    }\n",
              "\n",
              "    .dataframe thead th {\n",
              "        text-align: left;\n",
              "    }\n",
              "\n",
              "    .dataframe tbody tr th {\n",
              "        vertical-align: top;\n",
              "    }\n",
              "</style>\n",
              "<table border=\"1\" class=\"dataframe\">\n",
              "  <thead>\n",
              "    <tr style=\"text-align: right;\">\n",
              "      <th></th>\n",
              "      <th>make</th>\n",
              "      <th>fuel_type</th>\n",
              "      <th>aspiration</th>\n",
              "      <th>num_doors</th>\n",
              "      <th>body_style</th>\n",
              "      <th>drive_wheels</th>\n",
              "      <th>engine_location</th>\n",
              "      <th>engine_type</th>\n",
              "      <th>num_cylinders</th>\n",
              "      <th>fuel_system</th>\n",
              "    </tr>\n",
              "  </thead>\n",
              "  <tbody>\n",
              "    <tr>\n",
              "      <th>27</th>\n",
              "      <td>dodge</td>\n",
              "      <td>gas</td>\n",
              "      <td>turbo</td>\n",
              "      <td>NaN</td>\n",
              "      <td>sedan</td>\n",
              "      <td>fwd</td>\n",
              "      <td>front</td>\n",
              "      <td>ohc</td>\n",
              "      <td>four</td>\n",
              "      <td>mpfi</td>\n",
              "    </tr>\n",
              "    <tr>\n",
              "      <th>63</th>\n",
              "      <td>mazda</td>\n",
              "      <td>diesel</td>\n",
              "      <td>std</td>\n",
              "      <td>NaN</td>\n",
              "      <td>sedan</td>\n",
              "      <td>fwd</td>\n",
              "      <td>front</td>\n",
              "      <td>ohc</td>\n",
              "      <td>four</td>\n",
              "      <td>idi</td>\n",
              "    </tr>\n",
              "  </tbody>\n",
              "</table>\n",
              "</div>"
            ],
            "text/plain": [
              "     make fuel_type aspiration num_doors body_style drive_wheels  \\\n",
              "27  dodge       gas      turbo       NaN      sedan          fwd   \n",
              "63  mazda    diesel        std       NaN      sedan          fwd   \n",
              "\n",
              "   engine_location engine_type num_cylinders fuel_system  \n",
              "27           front         ohc          four        mpfi  \n",
              "63           front         ohc          four         idi  "
            ]
          },
          "metadata": {
            "tags": []
          },
          "execution_count": 11
        }
      ]
    },
    {
      "metadata": {
        "id": "QyO9REgT63qI",
        "colab_type": "text"
      },
      "cell_type": "markdown",
      "source": [
        "Da die num_doors Spalten die null values enthalten, kontrolliere welche Werte vorkommen."
      ]
    },
    {
      "metadata": {
        "id": "vD2qqtdm63qJ",
        "colab_type": "code",
        "colab": {},
        "outputId": "0d159605-2a11-497b-befb-cc8390e25968"
      },
      "cell_type": "code",
      "source": [
        "obj_df[\"num_doors\"].value_counts()"
      ],
      "execution_count": 0,
      "outputs": [
        {
          "output_type": "execute_result",
          "data": {
            "text/plain": [
              "four    114\n",
              "two      89\n",
              "Name: num_doors, dtype: int64"
            ]
          },
          "metadata": {
            "tags": []
          },
          "execution_count": 12
        }
      ]
    },
    {
      "metadata": {
        "id": "LI5fQ6b063qN",
        "colab_type": "text"
      },
      "cell_type": "markdown",
      "source": [
        "Wir füllen es mit dem am häufigsten vorkommenden Element - four."
      ]
    },
    {
      "metadata": {
        "id": "IMKecVcB63qO",
        "colab_type": "code",
        "colab": {}
      },
      "cell_type": "code",
      "source": [
        "obj_df = obj_df.fillna({\"num_doors\": \"four\"})"
      ],
      "execution_count": 0,
      "outputs": []
    },
    {
      "metadata": {
        "id": "IuzbAqiL63qR",
        "colab_type": "code",
        "colab": {},
        "outputId": "e6f2339c-d824-4756-851c-2f2b7b906729"
      },
      "cell_type": "code",
      "source": [
        "obj_df[obj_df.isnull().any(axis=1)]"
      ],
      "execution_count": 0,
      "outputs": [
        {
          "output_type": "execute_result",
          "data": {
            "text/html": [
              "<div>\n",
              "<style>\n",
              "    .dataframe thead tr:only-child th {\n",
              "        text-align: right;\n",
              "    }\n",
              "\n",
              "    .dataframe thead th {\n",
              "        text-align: left;\n",
              "    }\n",
              "\n",
              "    .dataframe tbody tr th {\n",
              "        vertical-align: top;\n",
              "    }\n",
              "</style>\n",
              "<table border=\"1\" class=\"dataframe\">\n",
              "  <thead>\n",
              "    <tr style=\"text-align: right;\">\n",
              "      <th></th>\n",
              "      <th>make</th>\n",
              "      <th>fuel_type</th>\n",
              "      <th>aspiration</th>\n",
              "      <th>num_doors</th>\n",
              "      <th>body_style</th>\n",
              "      <th>drive_wheels</th>\n",
              "      <th>engine_location</th>\n",
              "      <th>engine_type</th>\n",
              "      <th>num_cylinders</th>\n",
              "      <th>fuel_system</th>\n",
              "    </tr>\n",
              "  </thead>\n",
              "  <tbody>\n",
              "  </tbody>\n",
              "</table>\n",
              "</div>"
            ],
            "text/plain": [
              "Empty DataFrame\n",
              "Columns: [make, fuel_type, aspiration, num_doors, body_style, drive_wheels, engine_location, engine_type, num_cylinders, fuel_system]\n",
              "Index: []"
            ]
          },
          "metadata": {
            "tags": []
          },
          "execution_count": 14
        }
      ]
    },
    {
      "metadata": {
        "id": "mdXIxB5d63qW",
        "colab_type": "text"
      },
      "cell_type": "markdown",
      "source": [
        "### Feature coding mit pandas"
      ]
    },
    {
      "metadata": {
        "id": "MvnM0anl63qY",
        "colab_type": "text"
      },
      "cell_type": "markdown",
      "source": [
        "Konvertiere num_cylinders und num_doors zu Zahlen"
      ]
    },
    {
      "metadata": {
        "id": "IraZm9BF63qZ",
        "colab_type": "code",
        "colab": {},
        "outputId": "267f8472-c54d-46b9-ed6b-8751272d16f2"
      },
      "cell_type": "code",
      "source": [
        "obj_df[\"num_cylinders\"].value_counts()"
      ],
      "execution_count": 0,
      "outputs": [
        {
          "output_type": "execute_result",
          "data": {
            "text/plain": [
              "four      159\n",
              "six        24\n",
              "five       11\n",
              "eight       5\n",
              "two         4\n",
              "three       1\n",
              "twelve      1\n",
              "Name: num_cylinders, dtype: int64"
            ]
          },
          "metadata": {
            "tags": []
          },
          "execution_count": 15
        }
      ]
    },
    {
      "metadata": {
        "collapsed": true,
        "id": "t7ovtlIw63qf",
        "colab_type": "code",
        "colab": {}
      },
      "cell_type": "code",
      "source": [
        "cleanup_nums = {\"num_doors\":     {\"four\": 4, \"two\": 2},\n",
        "                \"num_cylinders\": {\"four\": 4, \"six\": 6, \"five\": 5, \"eight\": 8,\n",
        "                                  \"two\": 2, \"twelve\": 12, \"three\":3 }}"
      ],
      "execution_count": 0,
      "outputs": []
    },
    {
      "metadata": {
        "collapsed": true,
        "id": "j1lXrIV363qk",
        "colab_type": "code",
        "colab": {}
      },
      "cell_type": "code",
      "source": [
        "obj_df.replace(cleanup_nums, inplace=True)"
      ],
      "execution_count": 0,
      "outputs": []
    },
    {
      "metadata": {
        "id": "RwuIjLr_63qn",
        "colab_type": "code",
        "colab": {},
        "outputId": "0c788433-dcfd-48a0-81e5-0c1d61f5cd12"
      },
      "cell_type": "code",
      "source": [
        "obj_df.head()"
      ],
      "execution_count": 0,
      "outputs": [
        {
          "output_type": "execute_result",
          "data": {
            "text/html": [
              "<div>\n",
              "<style>\n",
              "    .dataframe thead tr:only-child th {\n",
              "        text-align: right;\n",
              "    }\n",
              "\n",
              "    .dataframe thead th {\n",
              "        text-align: left;\n",
              "    }\n",
              "\n",
              "    .dataframe tbody tr th {\n",
              "        vertical-align: top;\n",
              "    }\n",
              "</style>\n",
              "<table border=\"1\" class=\"dataframe\">\n",
              "  <thead>\n",
              "    <tr style=\"text-align: right;\">\n",
              "      <th></th>\n",
              "      <th>make</th>\n",
              "      <th>fuel_type</th>\n",
              "      <th>aspiration</th>\n",
              "      <th>num_doors</th>\n",
              "      <th>body_style</th>\n",
              "      <th>drive_wheels</th>\n",
              "      <th>engine_location</th>\n",
              "      <th>engine_type</th>\n",
              "      <th>num_cylinders</th>\n",
              "      <th>fuel_system</th>\n",
              "    </tr>\n",
              "  </thead>\n",
              "  <tbody>\n",
              "    <tr>\n",
              "      <th>0</th>\n",
              "      <td>alfa-romero</td>\n",
              "      <td>gas</td>\n",
              "      <td>std</td>\n",
              "      <td>2</td>\n",
              "      <td>convertible</td>\n",
              "      <td>rwd</td>\n",
              "      <td>front</td>\n",
              "      <td>dohc</td>\n",
              "      <td>4</td>\n",
              "      <td>mpfi</td>\n",
              "    </tr>\n",
              "    <tr>\n",
              "      <th>1</th>\n",
              "      <td>alfa-romero</td>\n",
              "      <td>gas</td>\n",
              "      <td>std</td>\n",
              "      <td>2</td>\n",
              "      <td>convertible</td>\n",
              "      <td>rwd</td>\n",
              "      <td>front</td>\n",
              "      <td>dohc</td>\n",
              "      <td>4</td>\n",
              "      <td>mpfi</td>\n",
              "    </tr>\n",
              "    <tr>\n",
              "      <th>2</th>\n",
              "      <td>alfa-romero</td>\n",
              "      <td>gas</td>\n",
              "      <td>std</td>\n",
              "      <td>2</td>\n",
              "      <td>hatchback</td>\n",
              "      <td>rwd</td>\n",
              "      <td>front</td>\n",
              "      <td>ohcv</td>\n",
              "      <td>6</td>\n",
              "      <td>mpfi</td>\n",
              "    </tr>\n",
              "    <tr>\n",
              "      <th>3</th>\n",
              "      <td>audi</td>\n",
              "      <td>gas</td>\n",
              "      <td>std</td>\n",
              "      <td>4</td>\n",
              "      <td>sedan</td>\n",
              "      <td>fwd</td>\n",
              "      <td>front</td>\n",
              "      <td>ohc</td>\n",
              "      <td>4</td>\n",
              "      <td>mpfi</td>\n",
              "    </tr>\n",
              "    <tr>\n",
              "      <th>4</th>\n",
              "      <td>audi</td>\n",
              "      <td>gas</td>\n",
              "      <td>std</td>\n",
              "      <td>4</td>\n",
              "      <td>sedan</td>\n",
              "      <td>4wd</td>\n",
              "      <td>front</td>\n",
              "      <td>ohc</td>\n",
              "      <td>5</td>\n",
              "      <td>mpfi</td>\n",
              "    </tr>\n",
              "  </tbody>\n",
              "</table>\n",
              "</div>"
            ],
            "text/plain": [
              "          make fuel_type aspiration  num_doors   body_style drive_wheels  \\\n",
              "0  alfa-romero       gas        std          2  convertible          rwd   \n",
              "1  alfa-romero       gas        std          2  convertible          rwd   \n",
              "2  alfa-romero       gas        std          2    hatchback          rwd   \n",
              "3         audi       gas        std          4        sedan          fwd   \n",
              "4         audi       gas        std          4        sedan          4wd   \n",
              "\n",
              "  engine_location engine_type  num_cylinders fuel_system  \n",
              "0           front        dohc              4        mpfi  \n",
              "1           front        dohc              4        mpfi  \n",
              "2           front        ohcv              6        mpfi  \n",
              "3           front         ohc              4        mpfi  \n",
              "4           front         ohc              5        mpfi  "
            ]
          },
          "metadata": {
            "tags": []
          },
          "execution_count": 18
        }
      ]
    },
    {
      "metadata": {
        "id": "wuBggvFQ63qq",
        "colab_type": "raw"
      },
      "cell_type": "markdown",
      "source": [
        "Nochmalige Kontrolle der Datentypen, dass sie auch wirklich als Zahlen interpretiert werden."
      ]
    },
    {
      "metadata": {
        "id": "ERR-F6h563qr",
        "colab_type": "code",
        "colab": {},
        "outputId": "b6756320-a9c1-4e00-de01-1d657a260b0f"
      },
      "cell_type": "code",
      "source": [
        "obj_df.dtypes"
      ],
      "execution_count": 0,
      "outputs": [
        {
          "output_type": "execute_result",
          "data": {
            "text/plain": [
              "make               object\n",
              "fuel_type          object\n",
              "aspiration         object\n",
              "num_doors           int64\n",
              "body_style         object\n",
              "drive_wheels       object\n",
              "engine_location    object\n",
              "engine_type        object\n",
              "num_cylinders       int64\n",
              "fuel_system        object\n",
              "dtype: object"
            ]
          },
          "metadata": {
            "tags": []
          },
          "execution_count": 19
        }
      ]
    },
    {
      "metadata": {
        "id": "pXjlq7u_63qu",
        "colab_type": "text"
      },
      "cell_type": "markdown",
      "source": [
        "Eine Möglichkeit des Codings ist die Verwendung der pandas category"
      ]
    },
    {
      "metadata": {
        "id": "_Bsa0a4463qw",
        "colab_type": "code",
        "colab": {},
        "outputId": "1533f258-b542-4797-993e-5bcd1c1753bb"
      },
      "cell_type": "code",
      "source": [
        "obj_df[\"body_style\"].value_counts()"
      ],
      "execution_count": 0,
      "outputs": [
        {
          "output_type": "execute_result",
          "data": {
            "text/plain": [
              "sedan          96\n",
              "hatchback      70\n",
              "wagon          25\n",
              "hardtop         8\n",
              "convertible     6\n",
              "Name: body_style, dtype: int64"
            ]
          },
          "metadata": {
            "tags": []
          },
          "execution_count": 20
        }
      ]
    },
    {
      "metadata": {
        "collapsed": true,
        "id": "wl-FS3DB63qz",
        "colab_type": "code",
        "colab": {}
      },
      "cell_type": "code",
      "source": [
        "obj_df[\"body_style\"] = obj_df[\"body_style\"].astype('category')"
      ],
      "execution_count": 0,
      "outputs": []
    },
    {
      "metadata": {
        "id": "pq7n79u963q2",
        "colab_type": "code",
        "colab": {},
        "outputId": "31a29d45-017c-4a9c-cda4-6ab19c6078c9"
      },
      "cell_type": "code",
      "source": [
        "obj_df.dtypes"
      ],
      "execution_count": 0,
      "outputs": [
        {
          "output_type": "execute_result",
          "data": {
            "text/plain": [
              "make                 object\n",
              "fuel_type            object\n",
              "aspiration           object\n",
              "num_doors             int64\n",
              "body_style         category\n",
              "drive_wheels         object\n",
              "engine_location      object\n",
              "engine_type          object\n",
              "num_cylinders         int64\n",
              "fuel_system          object\n",
              "dtype: object"
            ]
          },
          "metadata": {
            "tags": []
          },
          "execution_count": 22
        }
      ]
    },
    {
      "metadata": {
        "id": "Vxt3Fmnv63q5",
        "colab_type": "text"
      },
      "cell_type": "markdown",
      "source": [
        "We can assign the category codes to a new column so we have a clean numeric representation"
      ]
    },
    {
      "metadata": {
        "id": "wclRI0lg63q6",
        "colab_type": "text"
      },
      "cell_type": "markdown",
      "source": [
        "Wir können die Kategorie codes einer neuen Spalte zuweisen, so dass wir eine saubere numerische Repräsentation haben."
      ]
    },
    {
      "metadata": {
        "collapsed": true,
        "id": "-NvEO2ke63q6",
        "colab_type": "code",
        "colab": {}
      },
      "cell_type": "code",
      "source": [
        "obj_df[\"body_style_cat\"] = obj_df[\"body_style\"].cat.codes"
      ],
      "execution_count": 0,
      "outputs": []
    },
    {
      "metadata": {
        "id": "bje3NQ8H63q9",
        "colab_type": "code",
        "colab": {},
        "outputId": "098005a7-e8d7-41a7-80bf-c6ad48926ab5"
      },
      "cell_type": "code",
      "source": [
        "obj_df.head()"
      ],
      "execution_count": 0,
      "outputs": [
        {
          "output_type": "execute_result",
          "data": {
            "text/html": [
              "<div>\n",
              "<style>\n",
              "    .dataframe thead tr:only-child th {\n",
              "        text-align: right;\n",
              "    }\n",
              "\n",
              "    .dataframe thead th {\n",
              "        text-align: left;\n",
              "    }\n",
              "\n",
              "    .dataframe tbody tr th {\n",
              "        vertical-align: top;\n",
              "    }\n",
              "</style>\n",
              "<table border=\"1\" class=\"dataframe\">\n",
              "  <thead>\n",
              "    <tr style=\"text-align: right;\">\n",
              "      <th></th>\n",
              "      <th>make</th>\n",
              "      <th>fuel_type</th>\n",
              "      <th>aspiration</th>\n",
              "      <th>num_doors</th>\n",
              "      <th>body_style</th>\n",
              "      <th>drive_wheels</th>\n",
              "      <th>engine_location</th>\n",
              "      <th>engine_type</th>\n",
              "      <th>num_cylinders</th>\n",
              "      <th>fuel_system</th>\n",
              "      <th>body_style_cat</th>\n",
              "    </tr>\n",
              "  </thead>\n",
              "  <tbody>\n",
              "    <tr>\n",
              "      <th>0</th>\n",
              "      <td>alfa-romero</td>\n",
              "      <td>gas</td>\n",
              "      <td>std</td>\n",
              "      <td>2</td>\n",
              "      <td>convertible</td>\n",
              "      <td>rwd</td>\n",
              "      <td>front</td>\n",
              "      <td>dohc</td>\n",
              "      <td>4</td>\n",
              "      <td>mpfi</td>\n",
              "      <td>0</td>\n",
              "    </tr>\n",
              "    <tr>\n",
              "      <th>1</th>\n",
              "      <td>alfa-romero</td>\n",
              "      <td>gas</td>\n",
              "      <td>std</td>\n",
              "      <td>2</td>\n",
              "      <td>convertible</td>\n",
              "      <td>rwd</td>\n",
              "      <td>front</td>\n",
              "      <td>dohc</td>\n",
              "      <td>4</td>\n",
              "      <td>mpfi</td>\n",
              "      <td>0</td>\n",
              "    </tr>\n",
              "    <tr>\n",
              "      <th>2</th>\n",
              "      <td>alfa-romero</td>\n",
              "      <td>gas</td>\n",
              "      <td>std</td>\n",
              "      <td>2</td>\n",
              "      <td>hatchback</td>\n",
              "      <td>rwd</td>\n",
              "      <td>front</td>\n",
              "      <td>ohcv</td>\n",
              "      <td>6</td>\n",
              "      <td>mpfi</td>\n",
              "      <td>2</td>\n",
              "    </tr>\n",
              "    <tr>\n",
              "      <th>3</th>\n",
              "      <td>audi</td>\n",
              "      <td>gas</td>\n",
              "      <td>std</td>\n",
              "      <td>4</td>\n",
              "      <td>sedan</td>\n",
              "      <td>fwd</td>\n",
              "      <td>front</td>\n",
              "      <td>ohc</td>\n",
              "      <td>4</td>\n",
              "      <td>mpfi</td>\n",
              "      <td>3</td>\n",
              "    </tr>\n",
              "    <tr>\n",
              "      <th>4</th>\n",
              "      <td>audi</td>\n",
              "      <td>gas</td>\n",
              "      <td>std</td>\n",
              "      <td>4</td>\n",
              "      <td>sedan</td>\n",
              "      <td>4wd</td>\n",
              "      <td>front</td>\n",
              "      <td>ohc</td>\n",
              "      <td>5</td>\n",
              "      <td>mpfi</td>\n",
              "      <td>3</td>\n",
              "    </tr>\n",
              "  </tbody>\n",
              "</table>\n",
              "</div>"
            ],
            "text/plain": [
              "          make fuel_type aspiration  num_doors   body_style drive_wheels  \\\n",
              "0  alfa-romero       gas        std          2  convertible          rwd   \n",
              "1  alfa-romero       gas        std          2  convertible          rwd   \n",
              "2  alfa-romero       gas        std          2    hatchback          rwd   \n",
              "3         audi       gas        std          4        sedan          fwd   \n",
              "4         audi       gas        std          4        sedan          4wd   \n",
              "\n",
              "  engine_location engine_type  num_cylinders fuel_system  body_style_cat  \n",
              "0           front        dohc              4        mpfi               0  \n",
              "1           front        dohc              4        mpfi               0  \n",
              "2           front        ohcv              6        mpfi               2  \n",
              "3           front         ohc              4        mpfi               3  \n",
              "4           front         ohc              5        mpfi               3  "
            ]
          },
          "metadata": {
            "tags": []
          },
          "execution_count": 24
        }
      ]
    },
    {
      "metadata": {
        "id": "5KBGQ_7Q63rB",
        "colab_type": "code",
        "colab": {},
        "outputId": "a180e3f0-4c14-4f32-a82a-3a3eb2bf2883"
      },
      "cell_type": "code",
      "source": [
        "obj_df.dtypes"
      ],
      "execution_count": 0,
      "outputs": [
        {
          "output_type": "execute_result",
          "data": {
            "text/plain": [
              "make                 object\n",
              "fuel_type            object\n",
              "aspiration           object\n",
              "num_doors             int64\n",
              "body_style         category\n",
              "drive_wheels         object\n",
              "engine_location      object\n",
              "engine_type          object\n",
              "num_cylinders         int64\n",
              "fuel_system          object\n",
              "body_style_cat         int8\n",
              "dtype: object"
            ]
          },
          "metadata": {
            "tags": []
          },
          "execution_count": 25
        }
      ]
    },
    {
      "metadata": {
        "id": "rKPJ7XZ-63rF",
        "colab_type": "text"
      },
      "cell_type": "markdown",
      "source": [
        "# One hot Encoding\n",
        "Für das one hot encoding, verwnde pandas get_dummies."
      ]
    },
    {
      "metadata": {
        "id": "FHiTYCk-63rG",
        "colab_type": "code",
        "colab": {},
        "outputId": "e92cdc58-3b99-411b-f2fd-f83c8704da0f"
      },
      "cell_type": "code",
      "source": [
        "pd.get_dummies(obj_df, columns=[\"drive_wheels\"]).head()"
      ],
      "execution_count": 0,
      "outputs": [
        {
          "output_type": "execute_result",
          "data": {
            "text/html": [
              "<div>\n",
              "<style>\n",
              "    .dataframe thead tr:only-child th {\n",
              "        text-align: right;\n",
              "    }\n",
              "\n",
              "    .dataframe thead th {\n",
              "        text-align: left;\n",
              "    }\n",
              "\n",
              "    .dataframe tbody tr th {\n",
              "        vertical-align: top;\n",
              "    }\n",
              "</style>\n",
              "<table border=\"1\" class=\"dataframe\">\n",
              "  <thead>\n",
              "    <tr style=\"text-align: right;\">\n",
              "      <th></th>\n",
              "      <th>make</th>\n",
              "      <th>fuel_type</th>\n",
              "      <th>aspiration</th>\n",
              "      <th>num_doors</th>\n",
              "      <th>body_style</th>\n",
              "      <th>engine_location</th>\n",
              "      <th>engine_type</th>\n",
              "      <th>num_cylinders</th>\n",
              "      <th>fuel_system</th>\n",
              "      <th>body_style_cat</th>\n",
              "      <th>drive_wheels_4wd</th>\n",
              "      <th>drive_wheels_fwd</th>\n",
              "      <th>drive_wheels_rwd</th>\n",
              "    </tr>\n",
              "  </thead>\n",
              "  <tbody>\n",
              "    <tr>\n",
              "      <th>0</th>\n",
              "      <td>alfa-romero</td>\n",
              "      <td>gas</td>\n",
              "      <td>std</td>\n",
              "      <td>2</td>\n",
              "      <td>convertible</td>\n",
              "      <td>front</td>\n",
              "      <td>dohc</td>\n",
              "      <td>4</td>\n",
              "      <td>mpfi</td>\n",
              "      <td>0</td>\n",
              "      <td>0</td>\n",
              "      <td>0</td>\n",
              "      <td>1</td>\n",
              "    </tr>\n",
              "    <tr>\n",
              "      <th>1</th>\n",
              "      <td>alfa-romero</td>\n",
              "      <td>gas</td>\n",
              "      <td>std</td>\n",
              "      <td>2</td>\n",
              "      <td>convertible</td>\n",
              "      <td>front</td>\n",
              "      <td>dohc</td>\n",
              "      <td>4</td>\n",
              "      <td>mpfi</td>\n",
              "      <td>0</td>\n",
              "      <td>0</td>\n",
              "      <td>0</td>\n",
              "      <td>1</td>\n",
              "    </tr>\n",
              "    <tr>\n",
              "      <th>2</th>\n",
              "      <td>alfa-romero</td>\n",
              "      <td>gas</td>\n",
              "      <td>std</td>\n",
              "      <td>2</td>\n",
              "      <td>hatchback</td>\n",
              "      <td>front</td>\n",
              "      <td>ohcv</td>\n",
              "      <td>6</td>\n",
              "      <td>mpfi</td>\n",
              "      <td>2</td>\n",
              "      <td>0</td>\n",
              "      <td>0</td>\n",
              "      <td>1</td>\n",
              "    </tr>\n",
              "    <tr>\n",
              "      <th>3</th>\n",
              "      <td>audi</td>\n",
              "      <td>gas</td>\n",
              "      <td>std</td>\n",
              "      <td>4</td>\n",
              "      <td>sedan</td>\n",
              "      <td>front</td>\n",
              "      <td>ohc</td>\n",
              "      <td>4</td>\n",
              "      <td>mpfi</td>\n",
              "      <td>3</td>\n",
              "      <td>0</td>\n",
              "      <td>1</td>\n",
              "      <td>0</td>\n",
              "    </tr>\n",
              "    <tr>\n",
              "      <th>4</th>\n",
              "      <td>audi</td>\n",
              "      <td>gas</td>\n",
              "      <td>std</td>\n",
              "      <td>4</td>\n",
              "      <td>sedan</td>\n",
              "      <td>front</td>\n",
              "      <td>ohc</td>\n",
              "      <td>5</td>\n",
              "      <td>mpfi</td>\n",
              "      <td>3</td>\n",
              "      <td>1</td>\n",
              "      <td>0</td>\n",
              "      <td>0</td>\n",
              "    </tr>\n",
              "  </tbody>\n",
              "</table>\n",
              "</div>"
            ],
            "text/plain": [
              "          make fuel_type aspiration  num_doors   body_style engine_location  \\\n",
              "0  alfa-romero       gas        std          2  convertible           front   \n",
              "1  alfa-romero       gas        std          2  convertible           front   \n",
              "2  alfa-romero       gas        std          2    hatchback           front   \n",
              "3         audi       gas        std          4        sedan           front   \n",
              "4         audi       gas        std          4        sedan           front   \n",
              "\n",
              "  engine_type  num_cylinders fuel_system  body_style_cat  drive_wheels_4wd  \\\n",
              "0        dohc              4        mpfi               0                 0   \n",
              "1        dohc              4        mpfi               0                 0   \n",
              "2        ohcv              6        mpfi               2                 0   \n",
              "3         ohc              4        mpfi               3                 0   \n",
              "4         ohc              5        mpfi               3                 1   \n",
              "\n",
              "   drive_wheels_fwd  drive_wheels_rwd  \n",
              "0                 0                 1  \n",
              "1                 0                 1  \n",
              "2                 0                 1  \n",
              "3                 1                 0  \n",
              "4                 0                 0  "
            ]
          },
          "metadata": {
            "tags": []
          },
          "execution_count": 27
        }
      ]
    },
    {
      "metadata": {
        "id": "8cxeGd4p63rK",
        "colab_type": "text"
      },
      "cell_type": "markdown",
      "source": [
        "get_dummiers hat noch Optionen für das leichtere Verständnis der Spalten."
      ]
    },
    {
      "metadata": {
        "id": "yIJpu7yU63rL",
        "colab_type": "code",
        "colab": {},
        "outputId": "e1ad596b-19e4-45e2-b76a-54891ba84d6e"
      },
      "cell_type": "code",
      "source": [
        "pd.get_dummies(obj_df, columns=[\"body_style\", \"drive_wheels\"], prefix=[\"body\", \"drive\"]).head()"
      ],
      "execution_count": 0,
      "outputs": [
        {
          "output_type": "execute_result",
          "data": {
            "text/html": [
              "<div>\n",
              "<table border=\"1\" class=\"dataframe\">\n",
              "  <thead>\n",
              "    <tr style=\"text-align: right;\">\n",
              "      <th></th>\n",
              "      <th>make</th>\n",
              "      <th>fuel_type</th>\n",
              "      <th>aspiration</th>\n",
              "      <th>num_doors</th>\n",
              "      <th>engine_location</th>\n",
              "      <th>engine_type</th>\n",
              "      <th>num_cylinders</th>\n",
              "      <th>fuel_system</th>\n",
              "      <th>body_style_cat</th>\n",
              "      <th>body_convertible</th>\n",
              "      <th>body_hardtop</th>\n",
              "      <th>body_hatchback</th>\n",
              "      <th>body_sedan</th>\n",
              "      <th>body_wagon</th>\n",
              "      <th>drive_4wd</th>\n",
              "      <th>drive_fwd</th>\n",
              "      <th>drive_rwd</th>\n",
              "    </tr>\n",
              "  </thead>\n",
              "  <tbody>\n",
              "    <tr>\n",
              "      <th>0</th>\n",
              "      <td>alfa-romero</td>\n",
              "      <td>gas</td>\n",
              "      <td>std</td>\n",
              "      <td>2</td>\n",
              "      <td>front</td>\n",
              "      <td>dohc</td>\n",
              "      <td>4</td>\n",
              "      <td>mpfi</td>\n",
              "      <td>0</td>\n",
              "      <td>1.0</td>\n",
              "      <td>0.0</td>\n",
              "      <td>0.0</td>\n",
              "      <td>0.0</td>\n",
              "      <td>0.0</td>\n",
              "      <td>0.0</td>\n",
              "      <td>0.0</td>\n",
              "      <td>1.0</td>\n",
              "    </tr>\n",
              "    <tr>\n",
              "      <th>1</th>\n",
              "      <td>alfa-romero</td>\n",
              "      <td>gas</td>\n",
              "      <td>std</td>\n",
              "      <td>2</td>\n",
              "      <td>front</td>\n",
              "      <td>dohc</td>\n",
              "      <td>4</td>\n",
              "      <td>mpfi</td>\n",
              "      <td>0</td>\n",
              "      <td>1.0</td>\n",
              "      <td>0.0</td>\n",
              "      <td>0.0</td>\n",
              "      <td>0.0</td>\n",
              "      <td>0.0</td>\n",
              "      <td>0.0</td>\n",
              "      <td>0.0</td>\n",
              "      <td>1.0</td>\n",
              "    </tr>\n",
              "    <tr>\n",
              "      <th>2</th>\n",
              "      <td>alfa-romero</td>\n",
              "      <td>gas</td>\n",
              "      <td>std</td>\n",
              "      <td>2</td>\n",
              "      <td>front</td>\n",
              "      <td>ohcv</td>\n",
              "      <td>6</td>\n",
              "      <td>mpfi</td>\n",
              "      <td>2</td>\n",
              "      <td>0.0</td>\n",
              "      <td>0.0</td>\n",
              "      <td>1.0</td>\n",
              "      <td>0.0</td>\n",
              "      <td>0.0</td>\n",
              "      <td>0.0</td>\n",
              "      <td>0.0</td>\n",
              "      <td>1.0</td>\n",
              "    </tr>\n",
              "    <tr>\n",
              "      <th>3</th>\n",
              "      <td>audi</td>\n",
              "      <td>gas</td>\n",
              "      <td>std</td>\n",
              "      <td>4</td>\n",
              "      <td>front</td>\n",
              "      <td>ohc</td>\n",
              "      <td>4</td>\n",
              "      <td>mpfi</td>\n",
              "      <td>3</td>\n",
              "      <td>0.0</td>\n",
              "      <td>0.0</td>\n",
              "      <td>0.0</td>\n",
              "      <td>1.0</td>\n",
              "      <td>0.0</td>\n",
              "      <td>0.0</td>\n",
              "      <td>1.0</td>\n",
              "      <td>0.0</td>\n",
              "    </tr>\n",
              "    <tr>\n",
              "      <th>4</th>\n",
              "      <td>audi</td>\n",
              "      <td>gas</td>\n",
              "      <td>std</td>\n",
              "      <td>4</td>\n",
              "      <td>front</td>\n",
              "      <td>ohc</td>\n",
              "      <td>5</td>\n",
              "      <td>mpfi</td>\n",
              "      <td>3</td>\n",
              "      <td>0.0</td>\n",
              "      <td>0.0</td>\n",
              "      <td>0.0</td>\n",
              "      <td>1.0</td>\n",
              "      <td>0.0</td>\n",
              "      <td>1.0</td>\n",
              "      <td>0.0</td>\n",
              "      <td>0.0</td>\n",
              "    </tr>\n",
              "  </tbody>\n",
              "</table>\n",
              "</div>"
            ],
            "text/plain": [
              "          make fuel_type aspiration  num_doors engine_location engine_type  \\\n",
              "0  alfa-romero       gas        std          2           front        dohc   \n",
              "1  alfa-romero       gas        std          2           front        dohc   \n",
              "2  alfa-romero       gas        std          2           front        ohcv   \n",
              "3         audi       gas        std          4           front         ohc   \n",
              "4         audi       gas        std          4           front         ohc   \n",
              "\n",
              "   num_cylinders fuel_system  body_style_cat  body_convertible  body_hardtop  \\\n",
              "0              4        mpfi               0               1.0           0.0   \n",
              "1              4        mpfi               0               1.0           0.0   \n",
              "2              6        mpfi               2               0.0           0.0   \n",
              "3              4        mpfi               3               0.0           0.0   \n",
              "4              5        mpfi               3               0.0           0.0   \n",
              "\n",
              "   body_hatchback  body_sedan  body_wagon  drive_4wd  drive_fwd  drive_rwd  \n",
              "0             0.0         0.0         0.0        0.0        0.0        1.0  \n",
              "1             0.0         0.0         0.0        0.0        0.0        1.0  \n",
              "2             1.0         0.0         0.0        0.0        0.0        1.0  \n",
              "3             0.0         1.0         0.0        0.0        1.0        0.0  \n",
              "4             0.0         1.0         0.0        1.0        0.0        0.0  "
            ]
          },
          "metadata": {
            "tags": []
          },
          "execution_count": 24
        }
      ]
    },
    {
      "metadata": {
        "id": "Y_YAny1i63rO",
        "colab_type": "raw"
      },
      "cell_type": "markdown",
      "source": [
        "Noch eine Möglichkeit ist eine true/false zuordnung, wenn möglich."
      ]
    },
    {
      "metadata": {
        "id": "fUGmfzvT63rO",
        "colab_type": "code",
        "colab": {},
        "outputId": "3f7e18cf-7cd3-4c16-876a-c4c7e1d45a11"
      },
      "cell_type": "code",
      "source": [
        "obj_df[\"engine_type\"].value_counts()"
      ],
      "execution_count": 0,
      "outputs": [
        {
          "output_type": "execute_result",
          "data": {
            "text/plain": [
              "ohc      148\n",
              "ohcf      15\n",
              "ohcv      13\n",
              "dohc      12\n",
              "l         12\n",
              "rotor      4\n",
              "dohcv      1\n",
              "Name: engine_type, dtype: int64"
            ]
          },
          "metadata": {
            "tags": []
          },
          "execution_count": 28
        }
      ]
    },
    {
      "metadata": {
        "id": "EkvlvxeN63rR",
        "colab_type": "text"
      },
      "cell_type": "markdown",
      "source": [
        "Verwende np.where und den str accessor um das effizient umzusetzen."
      ]
    },
    {
      "metadata": {
        "id": "CQq_nYMb63rR",
        "colab_type": "code",
        "colab": {}
      },
      "cell_type": "code",
      "source": [
        "obj_df[\"OHC_Code\"] = np.where(obj_df[\"engine_type\"].str.contains(\"ohc\"), 1, 0)"
      ],
      "execution_count": 0,
      "outputs": []
    },
    {
      "metadata": {
        "id": "g6nmYkxU63rT",
        "colab_type": "code",
        "colab": {},
        "outputId": "1101bacb-b00f-4c57-c56a-2924b27eb657"
      },
      "cell_type": "code",
      "source": [
        "obj_df[[\"make\", \"engine_type\", \"OHC_Code\"]].head(20)"
      ],
      "execution_count": 0,
      "outputs": [
        {
          "output_type": "execute_result",
          "data": {
            "text/html": [
              "<div>\n",
              "<style>\n",
              "    .dataframe thead tr:only-child th {\n",
              "        text-align: right;\n",
              "    }\n",
              "\n",
              "    .dataframe thead th {\n",
              "        text-align: left;\n",
              "    }\n",
              "\n",
              "    .dataframe tbody tr th {\n",
              "        vertical-align: top;\n",
              "    }\n",
              "</style>\n",
              "<table border=\"1\" class=\"dataframe\">\n",
              "  <thead>\n",
              "    <tr style=\"text-align: right;\">\n",
              "      <th></th>\n",
              "      <th>make</th>\n",
              "      <th>engine_type</th>\n",
              "      <th>OHC_Code</th>\n",
              "    </tr>\n",
              "  </thead>\n",
              "  <tbody>\n",
              "    <tr>\n",
              "      <th>0</th>\n",
              "      <td>alfa-romero</td>\n",
              "      <td>dohc</td>\n",
              "      <td>1</td>\n",
              "    </tr>\n",
              "    <tr>\n",
              "      <th>1</th>\n",
              "      <td>alfa-romero</td>\n",
              "      <td>dohc</td>\n",
              "      <td>1</td>\n",
              "    </tr>\n",
              "    <tr>\n",
              "      <th>2</th>\n",
              "      <td>alfa-romero</td>\n",
              "      <td>ohcv</td>\n",
              "      <td>1</td>\n",
              "    </tr>\n",
              "    <tr>\n",
              "      <th>3</th>\n",
              "      <td>audi</td>\n",
              "      <td>ohc</td>\n",
              "      <td>1</td>\n",
              "    </tr>\n",
              "    <tr>\n",
              "      <th>4</th>\n",
              "      <td>audi</td>\n",
              "      <td>ohc</td>\n",
              "      <td>1</td>\n",
              "    </tr>\n",
              "    <tr>\n",
              "      <th>5</th>\n",
              "      <td>audi</td>\n",
              "      <td>ohc</td>\n",
              "      <td>1</td>\n",
              "    </tr>\n",
              "    <tr>\n",
              "      <th>6</th>\n",
              "      <td>audi</td>\n",
              "      <td>ohc</td>\n",
              "      <td>1</td>\n",
              "    </tr>\n",
              "    <tr>\n",
              "      <th>7</th>\n",
              "      <td>audi</td>\n",
              "      <td>ohc</td>\n",
              "      <td>1</td>\n",
              "    </tr>\n",
              "    <tr>\n",
              "      <th>8</th>\n",
              "      <td>audi</td>\n",
              "      <td>ohc</td>\n",
              "      <td>1</td>\n",
              "    </tr>\n",
              "    <tr>\n",
              "      <th>9</th>\n",
              "      <td>audi</td>\n",
              "      <td>ohc</td>\n",
              "      <td>1</td>\n",
              "    </tr>\n",
              "    <tr>\n",
              "      <th>10</th>\n",
              "      <td>bmw</td>\n",
              "      <td>ohc</td>\n",
              "      <td>1</td>\n",
              "    </tr>\n",
              "    <tr>\n",
              "      <th>11</th>\n",
              "      <td>bmw</td>\n",
              "      <td>ohc</td>\n",
              "      <td>1</td>\n",
              "    </tr>\n",
              "    <tr>\n",
              "      <th>12</th>\n",
              "      <td>bmw</td>\n",
              "      <td>ohc</td>\n",
              "      <td>1</td>\n",
              "    </tr>\n",
              "    <tr>\n",
              "      <th>13</th>\n",
              "      <td>bmw</td>\n",
              "      <td>ohc</td>\n",
              "      <td>1</td>\n",
              "    </tr>\n",
              "    <tr>\n",
              "      <th>14</th>\n",
              "      <td>bmw</td>\n",
              "      <td>ohc</td>\n",
              "      <td>1</td>\n",
              "    </tr>\n",
              "    <tr>\n",
              "      <th>15</th>\n",
              "      <td>bmw</td>\n",
              "      <td>ohc</td>\n",
              "      <td>1</td>\n",
              "    </tr>\n",
              "    <tr>\n",
              "      <th>16</th>\n",
              "      <td>bmw</td>\n",
              "      <td>ohc</td>\n",
              "      <td>1</td>\n",
              "    </tr>\n",
              "    <tr>\n",
              "      <th>17</th>\n",
              "      <td>bmw</td>\n",
              "      <td>ohc</td>\n",
              "      <td>1</td>\n",
              "    </tr>\n",
              "    <tr>\n",
              "      <th>18</th>\n",
              "      <td>chevrolet</td>\n",
              "      <td>l</td>\n",
              "      <td>0</td>\n",
              "    </tr>\n",
              "    <tr>\n",
              "      <th>19</th>\n",
              "      <td>chevrolet</td>\n",
              "      <td>ohc</td>\n",
              "      <td>1</td>\n",
              "    </tr>\n",
              "  </tbody>\n",
              "</table>\n",
              "</div>"
            ],
            "text/plain": [
              "           make engine_type  OHC_Code\n",
              "0   alfa-romero        dohc         1\n",
              "1   alfa-romero        dohc         1\n",
              "2   alfa-romero        ohcv         1\n",
              "3          audi         ohc         1\n",
              "4          audi         ohc         1\n",
              "5          audi         ohc         1\n",
              "6          audi         ohc         1\n",
              "7          audi         ohc         1\n",
              "8          audi         ohc         1\n",
              "9          audi         ohc         1\n",
              "10          bmw         ohc         1\n",
              "11          bmw         ohc         1\n",
              "12          bmw         ohc         1\n",
              "13          bmw         ohc         1\n",
              "14          bmw         ohc         1\n",
              "15          bmw         ohc         1\n",
              "16          bmw         ohc         1\n",
              "17          bmw         ohc         1\n",
              "18    chevrolet           l         0\n",
              "19    chevrolet         ohc         1"
            ]
          },
          "metadata": {
            "tags": []
          },
          "execution_count": 30
        }
      ]
    },
    {
      "metadata": {
        "id": "oJ0LkUVE63rW",
        "colab_type": "text"
      },
      "cell_type": "markdown",
      "source": [
        "### Feature coding mit Scitkit-learn"
      ]
    },
    {
      "metadata": {
        "id": "KZcc1OJK63rX",
        "colab_type": "text"
      },
      "cell_type": "markdown",
      "source": [
        "Instanziere den LabelEncoder"
      ]
    },
    {
      "metadata": {
        "collapsed": true,
        "id": "LtDu1MqR63rY",
        "colab_type": "code",
        "colab": {}
      },
      "cell_type": "code",
      "source": [
        "lb_make = LabelEncoder()"
      ],
      "execution_count": 0,
      "outputs": []
    },
    {
      "metadata": {
        "collapsed": true,
        "id": "TaxO4HNz63re",
        "colab_type": "code",
        "colab": {}
      },
      "cell_type": "code",
      "source": [
        "obj_df[\"make_code\"] = lb_make.fit_transform(obj_df[\"make\"])"
      ],
      "execution_count": 0,
      "outputs": []
    },
    {
      "metadata": {
        "id": "YVAzFDM063ri",
        "colab_type": "code",
        "colab": {},
        "outputId": "b964d4d3-f224-448b-d0ae-e6e5d1e49fcd"
      },
      "cell_type": "code",
      "source": [
        "obj_df[[\"make\", \"make_code\"]].head(11)"
      ],
      "execution_count": 0,
      "outputs": [
        {
          "output_type": "execute_result",
          "data": {
            "text/html": [
              "<div>\n",
              "<style>\n",
              "    .dataframe thead tr:only-child th {\n",
              "        text-align: right;\n",
              "    }\n",
              "\n",
              "    .dataframe thead th {\n",
              "        text-align: left;\n",
              "    }\n",
              "\n",
              "    .dataframe tbody tr th {\n",
              "        vertical-align: top;\n",
              "    }\n",
              "</style>\n",
              "<table border=\"1\" class=\"dataframe\">\n",
              "  <thead>\n",
              "    <tr style=\"text-align: right;\">\n",
              "      <th></th>\n",
              "      <th>make</th>\n",
              "      <th>make_code</th>\n",
              "    </tr>\n",
              "  </thead>\n",
              "  <tbody>\n",
              "    <tr>\n",
              "      <th>0</th>\n",
              "      <td>alfa-romero</td>\n",
              "      <td>0</td>\n",
              "    </tr>\n",
              "    <tr>\n",
              "      <th>1</th>\n",
              "      <td>alfa-romero</td>\n",
              "      <td>0</td>\n",
              "    </tr>\n",
              "    <tr>\n",
              "      <th>2</th>\n",
              "      <td>alfa-romero</td>\n",
              "      <td>0</td>\n",
              "    </tr>\n",
              "    <tr>\n",
              "      <th>3</th>\n",
              "      <td>audi</td>\n",
              "      <td>1</td>\n",
              "    </tr>\n",
              "    <tr>\n",
              "      <th>4</th>\n",
              "      <td>audi</td>\n",
              "      <td>1</td>\n",
              "    </tr>\n",
              "    <tr>\n",
              "      <th>5</th>\n",
              "      <td>audi</td>\n",
              "      <td>1</td>\n",
              "    </tr>\n",
              "    <tr>\n",
              "      <th>6</th>\n",
              "      <td>audi</td>\n",
              "      <td>1</td>\n",
              "    </tr>\n",
              "    <tr>\n",
              "      <th>7</th>\n",
              "      <td>audi</td>\n",
              "      <td>1</td>\n",
              "    </tr>\n",
              "    <tr>\n",
              "      <th>8</th>\n",
              "      <td>audi</td>\n",
              "      <td>1</td>\n",
              "    </tr>\n",
              "    <tr>\n",
              "      <th>9</th>\n",
              "      <td>audi</td>\n",
              "      <td>1</td>\n",
              "    </tr>\n",
              "    <tr>\n",
              "      <th>10</th>\n",
              "      <td>bmw</td>\n",
              "      <td>2</td>\n",
              "    </tr>\n",
              "  </tbody>\n",
              "</table>\n",
              "</div>"
            ],
            "text/plain": [
              "           make  make_code\n",
              "0   alfa-romero          0\n",
              "1   alfa-romero          0\n",
              "2   alfa-romero          0\n",
              "3          audi          1\n",
              "4          audi          1\n",
              "5          audi          1\n",
              "6          audi          1\n",
              "7          audi          1\n",
              "8          audi          1\n",
              "9          audi          1\n",
              "10          bmw          2"
            ]
          },
          "metadata": {
            "tags": []
          },
          "execution_count": 33
        }
      ]
    },
    {
      "metadata": {
        "id": "Y5erXmsl63rl",
        "colab_type": "text"
      },
      "cell_type": "markdown",
      "source": [
        "Etwas ähnliches zu pandas get_dummies, verwende LabelBinarizer"
      ]
    },
    {
      "metadata": {
        "collapsed": true,
        "id": "jHJ0L95X63rm",
        "colab_type": "code",
        "colab": {}
      },
      "cell_type": "code",
      "source": [
        "lb_style = LabelBinarizer()\n",
        "lb_results = lb_style.fit_transform(obj_df[\"body_style\"])"
      ],
      "execution_count": 0,
      "outputs": []
    },
    {
      "metadata": {
        "id": "nc7Tky0U63rr",
        "colab_type": "text"
      },
      "cell_type": "markdown",
      "source": [
        "The results are an array that needs to be converted to a DataFrame"
      ]
    },
    {
      "metadata": {
        "id": "23XOaudt63rs",
        "colab_type": "text"
      },
      "cell_type": "markdown",
      "source": [
        "Das Resultat ist ein array, das in ein DataFrame umgewandelt werden muss."
      ]
    },
    {
      "metadata": {
        "id": "yshmFyrJ63rt",
        "colab_type": "code",
        "colab": {},
        "outputId": "3e893fd2-2900-431c-9189-3d3bed193c43"
      },
      "cell_type": "code",
      "source": [
        "lb_results"
      ],
      "execution_count": 0,
      "outputs": [
        {
          "output_type": "execute_result",
          "data": {
            "text/plain": [
              "array([[1, 0, 0, 0, 0],\n",
              "       [1, 0, 0, 0, 0],\n",
              "       [0, 0, 1, 0, 0],\n",
              "       ..., \n",
              "       [0, 0, 0, 1, 0],\n",
              "       [0, 0, 0, 1, 0],\n",
              "       [0, 0, 0, 1, 0]])"
            ]
          },
          "metadata": {
            "tags": []
          },
          "execution_count": 35
        }
      ]
    },
    {
      "metadata": {
        "id": "xaOQ-MVb63rv",
        "colab_type": "code",
        "colab": {},
        "outputId": "c38c8b4a-159a-45f8-80d1-97796356a5b4"
      },
      "cell_type": "code",
      "source": [
        "pd.DataFrame(lb_results, columns=lb_style.classes_).head()"
      ],
      "execution_count": 0,
      "outputs": [
        {
          "output_type": "execute_result",
          "data": {
            "text/html": [
              "<div>\n",
              "<style>\n",
              "    .dataframe thead tr:only-child th {\n",
              "        text-align: right;\n",
              "    }\n",
              "\n",
              "    .dataframe thead th {\n",
              "        text-align: left;\n",
              "    }\n",
              "\n",
              "    .dataframe tbody tr th {\n",
              "        vertical-align: top;\n",
              "    }\n",
              "</style>\n",
              "<table border=\"1\" class=\"dataframe\">\n",
              "  <thead>\n",
              "    <tr style=\"text-align: right;\">\n",
              "      <th></th>\n",
              "      <th>convertible</th>\n",
              "      <th>hardtop</th>\n",
              "      <th>hatchback</th>\n",
              "      <th>sedan</th>\n",
              "      <th>wagon</th>\n",
              "    </tr>\n",
              "  </thead>\n",
              "  <tbody>\n",
              "    <tr>\n",
              "      <th>0</th>\n",
              "      <td>1</td>\n",
              "      <td>0</td>\n",
              "      <td>0</td>\n",
              "      <td>0</td>\n",
              "      <td>0</td>\n",
              "    </tr>\n",
              "    <tr>\n",
              "      <th>1</th>\n",
              "      <td>1</td>\n",
              "      <td>0</td>\n",
              "      <td>0</td>\n",
              "      <td>0</td>\n",
              "      <td>0</td>\n",
              "    </tr>\n",
              "    <tr>\n",
              "      <th>2</th>\n",
              "      <td>0</td>\n",
              "      <td>0</td>\n",
              "      <td>1</td>\n",
              "      <td>0</td>\n",
              "      <td>0</td>\n",
              "    </tr>\n",
              "    <tr>\n",
              "      <th>3</th>\n",
              "      <td>0</td>\n",
              "      <td>0</td>\n",
              "      <td>0</td>\n",
              "      <td>1</td>\n",
              "      <td>0</td>\n",
              "    </tr>\n",
              "    <tr>\n",
              "      <th>4</th>\n",
              "      <td>0</td>\n",
              "      <td>0</td>\n",
              "      <td>0</td>\n",
              "      <td>1</td>\n",
              "      <td>0</td>\n",
              "    </tr>\n",
              "  </tbody>\n",
              "</table>\n",
              "</div>"
            ],
            "text/plain": [
              "   convertible  hardtop  hatchback  sedan  wagon\n",
              "0            1        0          0      0      0\n",
              "1            1        0          0      0      0\n",
              "2            0        0          1      0      0\n",
              "3            0        0          0      1      0\n",
              "4            0        0          0      1      0"
            ]
          },
          "metadata": {
            "tags": []
          },
          "execution_count": 36
        }
      ]
    },
    {
      "metadata": {
        "id": "GbO66H8u63rx",
        "colab_type": "text"
      },
      "cell_type": "markdown",
      "source": [
        "### Fortgeschrittenes Feature coding von kategorischen Features\n",
        "[category_encoder](http://contrib.scikit-learn.org/categorical-encoding/) library"
      ]
    },
    {
      "metadata": {
        "collapsed": true,
        "id": "z9Im0shS63ry",
        "colab_type": "code",
        "colab": {}
      },
      "cell_type": "code",
      "source": [
        "# Get a new clean dataframe\n",
        "obj_df = df.select_dtypes(include=['object']).copy()"
      ],
      "execution_count": 0,
      "outputs": []
    },
    {
      "metadata": {
        "id": "wQc5ioKg63r0",
        "colab_type": "code",
        "colab": {},
        "outputId": "22755a10-badb-4549-9496-33539951906b"
      },
      "cell_type": "code",
      "source": [
        "obj_df.head()"
      ],
      "execution_count": 0,
      "outputs": [
        {
          "output_type": "execute_result",
          "data": {
            "text/html": [
              "<div>\n",
              "<style>\n",
              "    .dataframe thead tr:only-child th {\n",
              "        text-align: right;\n",
              "    }\n",
              "\n",
              "    .dataframe thead th {\n",
              "        text-align: left;\n",
              "    }\n",
              "\n",
              "    .dataframe tbody tr th {\n",
              "        vertical-align: top;\n",
              "    }\n",
              "</style>\n",
              "<table border=\"1\" class=\"dataframe\">\n",
              "  <thead>\n",
              "    <tr style=\"text-align: right;\">\n",
              "      <th></th>\n",
              "      <th>make</th>\n",
              "      <th>fuel_type</th>\n",
              "      <th>aspiration</th>\n",
              "      <th>num_doors</th>\n",
              "      <th>body_style</th>\n",
              "      <th>drive_wheels</th>\n",
              "      <th>engine_location</th>\n",
              "      <th>engine_type</th>\n",
              "      <th>num_cylinders</th>\n",
              "      <th>fuel_system</th>\n",
              "    </tr>\n",
              "  </thead>\n",
              "  <tbody>\n",
              "    <tr>\n",
              "      <th>0</th>\n",
              "      <td>alfa-romero</td>\n",
              "      <td>gas</td>\n",
              "      <td>std</td>\n",
              "      <td>two</td>\n",
              "      <td>convertible</td>\n",
              "      <td>rwd</td>\n",
              "      <td>front</td>\n",
              "      <td>dohc</td>\n",
              "      <td>four</td>\n",
              "      <td>mpfi</td>\n",
              "    </tr>\n",
              "    <tr>\n",
              "      <th>1</th>\n",
              "      <td>alfa-romero</td>\n",
              "      <td>gas</td>\n",
              "      <td>std</td>\n",
              "      <td>two</td>\n",
              "      <td>convertible</td>\n",
              "      <td>rwd</td>\n",
              "      <td>front</td>\n",
              "      <td>dohc</td>\n",
              "      <td>four</td>\n",
              "      <td>mpfi</td>\n",
              "    </tr>\n",
              "    <tr>\n",
              "      <th>2</th>\n",
              "      <td>alfa-romero</td>\n",
              "      <td>gas</td>\n",
              "      <td>std</td>\n",
              "      <td>two</td>\n",
              "      <td>hatchback</td>\n",
              "      <td>rwd</td>\n",
              "      <td>front</td>\n",
              "      <td>ohcv</td>\n",
              "      <td>six</td>\n",
              "      <td>mpfi</td>\n",
              "    </tr>\n",
              "    <tr>\n",
              "      <th>3</th>\n",
              "      <td>audi</td>\n",
              "      <td>gas</td>\n",
              "      <td>std</td>\n",
              "      <td>four</td>\n",
              "      <td>sedan</td>\n",
              "      <td>fwd</td>\n",
              "      <td>front</td>\n",
              "      <td>ohc</td>\n",
              "      <td>four</td>\n",
              "      <td>mpfi</td>\n",
              "    </tr>\n",
              "    <tr>\n",
              "      <th>4</th>\n",
              "      <td>audi</td>\n",
              "      <td>gas</td>\n",
              "      <td>std</td>\n",
              "      <td>four</td>\n",
              "      <td>sedan</td>\n",
              "      <td>4wd</td>\n",
              "      <td>front</td>\n",
              "      <td>ohc</td>\n",
              "      <td>five</td>\n",
              "      <td>mpfi</td>\n",
              "    </tr>\n",
              "  </tbody>\n",
              "</table>\n",
              "</div>"
            ],
            "text/plain": [
              "          make fuel_type aspiration num_doors   body_style drive_wheels  \\\n",
              "0  alfa-romero       gas        std       two  convertible          rwd   \n",
              "1  alfa-romero       gas        std       two  convertible          rwd   \n",
              "2  alfa-romero       gas        std       two    hatchback          rwd   \n",
              "3         audi       gas        std      four        sedan          fwd   \n",
              "4         audi       gas        std      four        sedan          4wd   \n",
              "\n",
              "  engine_location engine_type num_cylinders fuel_system  \n",
              "0           front        dohc          four        mpfi  \n",
              "1           front        dohc          four        mpfi  \n",
              "2           front        ohcv           six        mpfi  \n",
              "3           front         ohc          four        mpfi  \n",
              "4           front         ohc          five        mpfi  "
            ]
          },
          "metadata": {
            "tags": []
          },
          "execution_count": 38
        }
      ]
    },
    {
      "metadata": {
        "id": "l7HExXBX63r5",
        "colab_type": "text"
      },
      "cell_type": "markdown",
      "source": [
        "Versuche den Backward Difference Encoder für die Spalte: engine_type"
      ]
    },
    {
      "metadata": {
        "id": "Ye7ZhFex63r6",
        "colab_type": "code",
        "colab": {},
        "outputId": "c47de5ae-34bc-440b-f92c-25cd2e2a0b6c"
      },
      "cell_type": "code",
      "source": [
        "encoder = ce.backward_difference.BackwardDifferenceEncoder(cols=[\"engine_type\"])\n",
        "encoder.fit(obj_df, verbose=1)"
      ],
      "execution_count": 0,
      "outputs": [
        {
          "output_type": "execute_result",
          "data": {
            "text/plain": [
              "BackwardDifferenceEncoder(cols=['engine_type'], drop_invariant=False,\n",
              "             handle_unknown='impute', impute_missing=True, return_df=True,\n",
              "             verbose=0)"
            ]
          },
          "metadata": {
            "tags": []
          },
          "execution_count": 39
        }
      ]
    },
    {
      "metadata": {
        "id": "rIbEFW0D63r8",
        "colab_type": "code",
        "colab": {},
        "outputId": "004f3641-64b3-4f70-9d63-2435fd96a3ea"
      },
      "cell_type": "code",
      "source": [
        "encoder.transform(obj_df).iloc[:,0:7].head()"
      ],
      "execution_count": 0,
      "outputs": [
        {
          "output_type": "execute_result",
          "data": {
            "text/html": [
              "<div>\n",
              "<style>\n",
              "    .dataframe thead tr:only-child th {\n",
              "        text-align: right;\n",
              "    }\n",
              "\n",
              "    .dataframe thead th {\n",
              "        text-align: left;\n",
              "    }\n",
              "\n",
              "    .dataframe tbody tr th {\n",
              "        vertical-align: top;\n",
              "    }\n",
              "</style>\n",
              "<table border=\"1\" class=\"dataframe\">\n",
              "  <thead>\n",
              "    <tr style=\"text-align: right;\">\n",
              "      <th></th>\n",
              "      <th>col_engine_type_0</th>\n",
              "      <th>col_engine_type_1</th>\n",
              "      <th>col_engine_type_2</th>\n",
              "      <th>col_engine_type_3</th>\n",
              "      <th>col_engine_type_4</th>\n",
              "      <th>col_engine_type_5</th>\n",
              "      <th>col_engine_type_6</th>\n",
              "    </tr>\n",
              "  </thead>\n",
              "  <tbody>\n",
              "    <tr>\n",
              "      <th>0</th>\n",
              "      <td>1.0</td>\n",
              "      <td>-0.857143</td>\n",
              "      <td>-0.714286</td>\n",
              "      <td>-0.571429</td>\n",
              "      <td>-0.428571</td>\n",
              "      <td>-0.285714</td>\n",
              "      <td>-0.142857</td>\n",
              "    </tr>\n",
              "    <tr>\n",
              "      <th>1</th>\n",
              "      <td>1.0</td>\n",
              "      <td>-0.857143</td>\n",
              "      <td>-0.714286</td>\n",
              "      <td>-0.571429</td>\n",
              "      <td>-0.428571</td>\n",
              "      <td>-0.285714</td>\n",
              "      <td>-0.142857</td>\n",
              "    </tr>\n",
              "    <tr>\n",
              "      <th>2</th>\n",
              "      <td>1.0</td>\n",
              "      <td>0.142857</td>\n",
              "      <td>-0.714286</td>\n",
              "      <td>-0.571429</td>\n",
              "      <td>-0.428571</td>\n",
              "      <td>-0.285714</td>\n",
              "      <td>-0.142857</td>\n",
              "    </tr>\n",
              "    <tr>\n",
              "      <th>3</th>\n",
              "      <td>1.0</td>\n",
              "      <td>0.142857</td>\n",
              "      <td>0.285714</td>\n",
              "      <td>-0.571429</td>\n",
              "      <td>-0.428571</td>\n",
              "      <td>-0.285714</td>\n",
              "      <td>-0.142857</td>\n",
              "    </tr>\n",
              "    <tr>\n",
              "      <th>4</th>\n",
              "      <td>1.0</td>\n",
              "      <td>0.142857</td>\n",
              "      <td>0.285714</td>\n",
              "      <td>-0.571429</td>\n",
              "      <td>-0.428571</td>\n",
              "      <td>-0.285714</td>\n",
              "      <td>-0.142857</td>\n",
              "    </tr>\n",
              "  </tbody>\n",
              "</table>\n",
              "</div>"
            ],
            "text/plain": [
              "   col_engine_type_0  col_engine_type_1  col_engine_type_2  col_engine_type_3  \\\n",
              "0                1.0          -0.857143          -0.714286          -0.571429   \n",
              "1                1.0          -0.857143          -0.714286          -0.571429   \n",
              "2                1.0           0.142857          -0.714286          -0.571429   \n",
              "3                1.0           0.142857           0.285714          -0.571429   \n",
              "4                1.0           0.142857           0.285714          -0.571429   \n",
              "\n",
              "   col_engine_type_4  col_engine_type_5  col_engine_type_6  \n",
              "0          -0.428571          -0.285714          -0.142857  \n",
              "1          -0.428571          -0.285714          -0.142857  \n",
              "2          -0.428571          -0.285714          -0.142857  \n",
              "3          -0.428571          -0.285714          -0.142857  \n",
              "4          -0.428571          -0.285714          -0.142857  "
            ]
          },
          "metadata": {
            "tags": []
          },
          "execution_count": 40
        }
      ]
    },
    {
      "metadata": {
        "id": "sThFyuE163r-",
        "colab_type": "text"
      },
      "cell_type": "markdown",
      "source": [
        "Hier das polynomial encoding"
      ]
    },
    {
      "metadata": {
        "id": "qtHhMwRF63r_",
        "colab_type": "code",
        "colab": {},
        "outputId": "9f2a1246-047c-445c-d36e-ffaf3e1761f1"
      },
      "cell_type": "code",
      "source": [
        "encoder = ce.polynomial.PolynomialEncoder(cols=[\"engine_type\"])\n",
        "encoder.fit(obj_df, verbose=1)"
      ],
      "execution_count": 0,
      "outputs": [
        {
          "output_type": "execute_result",
          "data": {
            "text/plain": [
              "PolynomialEncoder(cols=['engine_type'], drop_invariant=False,\n",
              "         handle_unknown='impute', impute_missing=True, return_df=True,\n",
              "         verbose=0)"
            ]
          },
          "metadata": {
            "tags": []
          },
          "execution_count": 41
        }
      ]
    },
    {
      "metadata": {
        "id": "NY3DP0Or63sC",
        "colab_type": "code",
        "colab": {},
        "outputId": "316cbb8a-7ef8-469c-dbb9-bff1449f93b6"
      },
      "cell_type": "code",
      "source": [
        "encoder.transform(obj_df).iloc[:,0:7].head()"
      ],
      "execution_count": 0,
      "outputs": [
        {
          "output_type": "execute_result",
          "data": {
            "text/html": [
              "<div>\n",
              "<style>\n",
              "    .dataframe thead tr:only-child th {\n",
              "        text-align: right;\n",
              "    }\n",
              "\n",
              "    .dataframe thead th {\n",
              "        text-align: left;\n",
              "    }\n",
              "\n",
              "    .dataframe tbody tr th {\n",
              "        vertical-align: top;\n",
              "    }\n",
              "</style>\n",
              "<table border=\"1\" class=\"dataframe\">\n",
              "  <thead>\n",
              "    <tr style=\"text-align: right;\">\n",
              "      <th></th>\n",
              "      <th>col_engine_type_0</th>\n",
              "      <th>col_engine_type_1</th>\n",
              "      <th>col_engine_type_2</th>\n",
              "      <th>col_engine_type_3</th>\n",
              "      <th>col_engine_type_4</th>\n",
              "      <th>col_engine_type_5</th>\n",
              "      <th>col_engine_type_6</th>\n",
              "    </tr>\n",
              "  </thead>\n",
              "  <tbody>\n",
              "    <tr>\n",
              "      <th>0</th>\n",
              "      <td>1.0</td>\n",
              "      <td>-0.566947</td>\n",
              "      <td>0.545545</td>\n",
              "      <td>-0.408248</td>\n",
              "      <td>0.241747</td>\n",
              "      <td>-0.109109</td>\n",
              "      <td>0.032898</td>\n",
              "    </tr>\n",
              "    <tr>\n",
              "      <th>1</th>\n",
              "      <td>1.0</td>\n",
              "      <td>-0.566947</td>\n",
              "      <td>0.545545</td>\n",
              "      <td>-0.408248</td>\n",
              "      <td>0.241747</td>\n",
              "      <td>-0.109109</td>\n",
              "      <td>0.032898</td>\n",
              "    </tr>\n",
              "    <tr>\n",
              "      <th>2</th>\n",
              "      <td>1.0</td>\n",
              "      <td>-0.377964</td>\n",
              "      <td>0.000000</td>\n",
              "      <td>0.408248</td>\n",
              "      <td>-0.564076</td>\n",
              "      <td>0.436436</td>\n",
              "      <td>-0.197386</td>\n",
              "    </tr>\n",
              "    <tr>\n",
              "      <th>3</th>\n",
              "      <td>1.0</td>\n",
              "      <td>-0.188982</td>\n",
              "      <td>-0.327327</td>\n",
              "      <td>0.408248</td>\n",
              "      <td>0.080582</td>\n",
              "      <td>-0.545545</td>\n",
              "      <td>0.493464</td>\n",
              "    </tr>\n",
              "    <tr>\n",
              "      <th>4</th>\n",
              "      <td>1.0</td>\n",
              "      <td>-0.188982</td>\n",
              "      <td>-0.327327</td>\n",
              "      <td>0.408248</td>\n",
              "      <td>0.080582</td>\n",
              "      <td>-0.545545</td>\n",
              "      <td>0.493464</td>\n",
              "    </tr>\n",
              "  </tbody>\n",
              "</table>\n",
              "</div>"
            ],
            "text/plain": [
              "   col_engine_type_0  col_engine_type_1  col_engine_type_2  col_engine_type_3  \\\n",
              "0                1.0          -0.566947           0.545545          -0.408248   \n",
              "1                1.0          -0.566947           0.545545          -0.408248   \n",
              "2                1.0          -0.377964           0.000000           0.408248   \n",
              "3                1.0          -0.188982          -0.327327           0.408248   \n",
              "4                1.0          -0.188982          -0.327327           0.408248   \n",
              "\n",
              "   col_engine_type_4  col_engine_type_5  col_engine_type_6  \n",
              "0           0.241747          -0.109109           0.032898  \n",
              "1           0.241747          -0.109109           0.032898  \n",
              "2          -0.564076           0.436436          -0.197386  \n",
              "3           0.080582          -0.545545           0.493464  \n",
              "4           0.080582          -0.545545           0.493464  "
            ]
          },
          "metadata": {
            "tags": []
          },
          "execution_count": 42
        }
      ]
    },
    {
      "metadata": {
        "collapsed": true,
        "id": "DST63V2u63sG",
        "colab_type": "code",
        "colab": {}
      },
      "cell_type": "code",
      "source": [
        ""
      ],
      "execution_count": 0,
      "outputs": []
    }
  ]
}