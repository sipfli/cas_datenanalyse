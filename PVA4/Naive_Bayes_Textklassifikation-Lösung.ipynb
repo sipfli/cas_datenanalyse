{
 "cells": [
  {
   "cell_type": "markdown",
   "metadata": {},
   "source": [
    "# Textklassifikation mit Naive Bayes"
   ]
  },
  {
   "cell_type": "markdown",
   "metadata": {},
   "source": [
    "Der Gemeindechor von Hinterspiessen geht alljährlich auf einen Wanderausflug. Findet er auch dieses Jahr statt? Wir beantworten diese Frage mit einem *Naive-Bayes-Klassifikator*.\n",
    "Lernziele:\n",
    "- Was sind bedingte Wahrscheinlichkeiten? Sie lernen, diese selber zu berechnen.\n",
    "- Wie funktioniert ein Naive-Bayes-Klassifikator? Sie lernen den Satz von Bayes und sehen, wie der Naive-Bayes-Klassifikator darauf aufbaut. \n",
    "- Was ist daran \"naiv\"? Wir besprechen den Begriff der statistischen Unabhängigkeit von Features und sehen, wie dies den Bayes-Klassifikator effizient macht. Eine kleine Überdosis an Formeln gewöhnt Sie an den Umgang mit Ausdrücken wie \"$p(x|y)$\"...\n",
    "\n",
    "Die Wettervorhersagen sind schon bekannt, der Entscheid des Chorleiters steht noch aus. In den Vergangenen Jahren galt:"
   ]
  },
  {
   "cell_type": "code",
   "execution_count": 2,
   "metadata": {},
   "outputs": [
    {
     "data": {
      "text/plain": [
       "'%.3f'"
      ]
     },
     "execution_count": 2,
     "metadata": {},
     "output_type": "execute_result"
    }
   ],
   "source": [
    "import pandas as pd\n",
    "#Anzahl Kommastellen bei floating-point-Ausgabe:\n",
    "%precision 3"
   ]
  },
  {
   "cell_type": "code",
   "execution_count": 4,
   "metadata": {},
   "outputs": [],
   "source": [
    "#Wir laden die Daten:\n",
    "df = pd.read_csv('../Materialien/datasets/Ausflugswetter.csv')"
   ]
  },
  {
   "cell_type": "code",
   "execution_count": 5,
   "metadata": {},
   "outputs": [
    {
     "data": {
      "text/html": [
       "<div>\n",
       "<style scoped>\n",
       "    .dataframe tbody tr th:only-of-type {\n",
       "        vertical-align: middle;\n",
       "    }\n",
       "\n",
       "    .dataframe tbody tr th {\n",
       "        vertical-align: top;\n",
       "    }\n",
       "\n",
       "    .dataframe thead th {\n",
       "        text-align: right;\n",
       "    }\n",
       "</style>\n",
       "<table border=\"1\" class=\"dataframe\">\n",
       "  <thead>\n",
       "    <tr style=\"text-align: right;\">\n",
       "      <th></th>\n",
       "      <th>Aussicht</th>\n",
       "      <th>Temperatur</th>\n",
       "      <th>Feuchtigkeit</th>\n",
       "      <th>Wind</th>\n",
       "      <th>Ausflug findet statt</th>\n",
       "    </tr>\n",
       "  </thead>\n",
       "  <tbody>\n",
       "    <tr>\n",
       "      <th>0</th>\n",
       "      <td>Sonne</td>\n",
       "      <td>Heiss</td>\n",
       "      <td>Hoch</td>\n",
       "      <td>FALSCH</td>\n",
       "      <td>Nein</td>\n",
       "    </tr>\n",
       "    <tr>\n",
       "      <th>1</th>\n",
       "      <td>Sonne</td>\n",
       "      <td>Heiss</td>\n",
       "      <td>Hoch</td>\n",
       "      <td>WAHR</td>\n",
       "      <td>Nein</td>\n",
       "    </tr>\n",
       "    <tr>\n",
       "      <th>2</th>\n",
       "      <td>Bewölkt</td>\n",
       "      <td>Heiss</td>\n",
       "      <td>Hoch</td>\n",
       "      <td>FALSCH</td>\n",
       "      <td>Ja</td>\n",
       "    </tr>\n",
       "    <tr>\n",
       "      <th>3</th>\n",
       "      <td>Regen</td>\n",
       "      <td>Mild</td>\n",
       "      <td>Hoch</td>\n",
       "      <td>FALSCH</td>\n",
       "      <td>Ja</td>\n",
       "    </tr>\n",
       "    <tr>\n",
       "      <th>4</th>\n",
       "      <td>Bewölkt</td>\n",
       "      <td>Mild</td>\n",
       "      <td>Hoch</td>\n",
       "      <td>FALSCH</td>\n",
       "      <td>Ja</td>\n",
       "    </tr>\n",
       "    <tr>\n",
       "      <th>5</th>\n",
       "      <td>Bewölkt</td>\n",
       "      <td>Kühl</td>\n",
       "      <td>Normal</td>\n",
       "      <td>WAHR</td>\n",
       "      <td>Ja</td>\n",
       "    </tr>\n",
       "    <tr>\n",
       "      <th>6</th>\n",
       "      <td>Sonne</td>\n",
       "      <td>Mild</td>\n",
       "      <td>Normal</td>\n",
       "      <td>WAHR</td>\n",
       "      <td>Nein</td>\n",
       "    </tr>\n",
       "    <tr>\n",
       "      <th>7</th>\n",
       "      <td>Sonne</td>\n",
       "      <td>Mild</td>\n",
       "      <td>Normal</td>\n",
       "      <td>FALSCH</td>\n",
       "      <td>Ja</td>\n",
       "    </tr>\n",
       "    <tr>\n",
       "      <th>8</th>\n",
       "      <td>Sonne</td>\n",
       "      <td>Mild</td>\n",
       "      <td>Normal</td>\n",
       "      <td>FALSCH</td>\n",
       "      <td>Ja</td>\n",
       "    </tr>\n",
       "    <tr>\n",
       "      <th>9</th>\n",
       "      <td>Regen</td>\n",
       "      <td>Kühl</td>\n",
       "      <td>Normal</td>\n",
       "      <td>WAHR</td>\n",
       "      <td>Ja</td>\n",
       "    </tr>\n",
       "    <tr>\n",
       "      <th>10</th>\n",
       "      <td>Regen</td>\n",
       "      <td>Kühl</td>\n",
       "      <td>Normal</td>\n",
       "      <td>WAHR</td>\n",
       "      <td>Ja</td>\n",
       "    </tr>\n",
       "    <tr>\n",
       "      <th>11</th>\n",
       "      <td>Regen</td>\n",
       "      <td>Kühl</td>\n",
       "      <td>Hoch</td>\n",
       "      <td>FALSCH</td>\n",
       "      <td>Nein</td>\n",
       "    </tr>\n",
       "    <tr>\n",
       "      <th>12</th>\n",
       "      <td>Bewölkt</td>\n",
       "      <td>Heiss</td>\n",
       "      <td>Normal</td>\n",
       "      <td>FALSCH</td>\n",
       "      <td>Ja</td>\n",
       "    </tr>\n",
       "    <tr>\n",
       "      <th>13</th>\n",
       "      <td>Regen</td>\n",
       "      <td>Mild</td>\n",
       "      <td>Hoch</td>\n",
       "      <td>WAHR</td>\n",
       "      <td>Nein</td>\n",
       "    </tr>\n",
       "  </tbody>\n",
       "</table>\n",
       "</div>"
      ],
      "text/plain": [
       "   Aussicht Temperatur Feuchtigkeit    Wind Ausflug findet statt\n",
       "0     Sonne      Heiss         Hoch  FALSCH                 Nein\n",
       "1     Sonne      Heiss         Hoch    WAHR                 Nein\n",
       "2   Bewölkt      Heiss         Hoch  FALSCH                   Ja\n",
       "3     Regen       Mild         Hoch  FALSCH                   Ja\n",
       "4   Bewölkt       Mild         Hoch  FALSCH                   Ja\n",
       "5   Bewölkt       Kühl       Normal    WAHR                   Ja\n",
       "6     Sonne       Mild       Normal    WAHR                 Nein\n",
       "7     Sonne       Mild       Normal  FALSCH                   Ja\n",
       "8     Sonne       Mild       Normal  FALSCH                   Ja\n",
       "9     Regen       Kühl       Normal    WAHR                   Ja\n",
       "10    Regen       Kühl       Normal    WAHR                   Ja\n",
       "11    Regen       Kühl         Hoch  FALSCH                 Nein\n",
       "12  Bewölkt      Heiss       Normal  FALSCH                   Ja\n",
       "13    Regen       Mild         Hoch    WAHR                 Nein"
      ]
     },
     "execution_count": 5,
     "metadata": {},
     "output_type": "execute_result"
    }
   ],
   "source": [
    "df"
   ]
  },
  {
   "cell_type": "code",
   "execution_count": 4,
   "metadata": {},
   "outputs": [
    {
     "data": {
      "text/html": [
       "<div>\n",
       "<style>\n",
       "    .dataframe thead tr:only-child th {\n",
       "        text-align: right;\n",
       "    }\n",
       "\n",
       "    .dataframe thead th {\n",
       "        text-align: left;\n",
       "    }\n",
       "\n",
       "    .dataframe tbody tr th {\n",
       "        vertical-align: top;\n",
       "    }\n",
       "</style>\n",
       "<table border=\"1\" class=\"dataframe\">\n",
       "  <thead>\n",
       "    <tr style=\"text-align: right;\">\n",
       "      <th></th>\n",
       "      <th>Aussicht</th>\n",
       "      <th>Temperatur</th>\n",
       "      <th>Feuchtigkeit</th>\n",
       "      <th>Wind</th>\n",
       "      <th>y</th>\n",
       "    </tr>\n",
       "  </thead>\n",
       "  <tbody>\n",
       "    <tr>\n",
       "      <th>0</th>\n",
       "      <td>Sonne</td>\n",
       "      <td>Heiss</td>\n",
       "      <td>Hoch</td>\n",
       "      <td>FALSCH</td>\n",
       "      <td>Nein</td>\n",
       "    </tr>\n",
       "    <tr>\n",
       "      <th>1</th>\n",
       "      <td>Sonne</td>\n",
       "      <td>Heiss</td>\n",
       "      <td>Hoch</td>\n",
       "      <td>WAHR</td>\n",
       "      <td>Nein</td>\n",
       "    </tr>\n",
       "    <tr>\n",
       "      <th>2</th>\n",
       "      <td>Bewölkt</td>\n",
       "      <td>Heiss</td>\n",
       "      <td>Hoch</td>\n",
       "      <td>FALSCH</td>\n",
       "      <td>Ja</td>\n",
       "    </tr>\n",
       "  </tbody>\n",
       "</table>\n",
       "</div>"
      ],
      "text/plain": [
       "  Aussicht Temperatur Feuchtigkeit    Wind     y\n",
       "0    Sonne      Heiss         Hoch  FALSCH  Nein\n",
       "1    Sonne      Heiss         Hoch    WAHR  Nein\n",
       "2  Bewölkt      Heiss         Hoch  FALSCH    Ja"
      ]
     },
     "execution_count": 4,
     "metadata": {},
     "output_type": "execute_result"
    }
   ],
   "source": [
    "#Benenne Zielvariable um- nur zur Bequemlichkeit \n",
    "#(df.Ausflug findet statt ist keine korrekte Syntax, df.y schon):\n",
    "df.columns=df.columns[:-1].tolist()+['y']\n",
    "df.head(3)"
   ]
  },
  {
   "cell_type": "markdown",
   "metadata": {},
   "source": [
    "## Bedingte Wahrscheinlichkeiten"
   ]
  },
  {
   "cell_type": "markdown",
   "metadata": {},
   "source": [
    "Bedingte Wahrscheinlichkeiten ergeben sich, wenn die Wahrscheinlichkeit von Ereignissen voneinander abhängen. Eine Untersuchung (Daten frei erfunden!) zeigt z.B. \n",
    "\n",
    "||Mammografie diagnostiziert Brustkrebs|Mammografie findet keinen Brustkrebs|\n",
    "|---------------------------------------------------------------------------|\n",
    "|Patientin entwickelt Brustkrebs|2000|700|\n",
    "|Patientin entwickelt keinen Brustkrebs|200|10000|\n",
    "Die Brustkrebswahrscheinlichkeit wäre hier $$p(\\text{Brustkrebs})=\\frac{2000+700}{2000+700+200+10000}=\\frac{2700}{12900}$$ und bezieht sich auf die Gesamtpopulation.  "
   ]
  },
  {
   "cell_type": "markdown",
   "metadata": {},
   "source": [
    "**Aufgabe 1** Bestimmen Sie die folgenden Wahrscheinlichkeiten:\n",
    "1. $P(Temperatur=Heiss)=$  \n",
    "2. $P(c=Ja)=$\n",
    "3. ${\\arg \\max}_c P(c)=$  \n",
    "\n",
    "Die Klassen c sind c=Nein und c=Ja und beziehen sich darauf, ob der Ausflug stattfindet. "
   ]
  },
  {
   "cell_type": "code",
   "execution_count": 5,
   "metadata": {},
   "outputs": [
    {
     "data": {
      "text/plain": [
       "0.286"
      ]
     },
     "execution_count": 5,
     "metadata": {},
     "output_type": "execute_result"
    }
   ],
   "source": [
    "#Lösung 1:\n",
    "(df.Temperatur=='Heiss').sum()/(df.Temperatur=='Heiss').size"
   ]
  },
  {
   "cell_type": "code",
   "execution_count": 6,
   "metadata": {},
   "outputs": [
    {
     "data": {
      "text/plain": [
       "0.643"
      ]
     },
     "execution_count": 6,
     "metadata": {},
     "output_type": "execute_result"
    }
   ],
   "source": [
    "#Lösung 2:\n",
    "(df.y=='Ja').sum()/df.y.size"
   ]
  },
  {
   "cell_type": "code",
   "execution_count": 7,
   "metadata": {},
   "outputs": [
    {
     "data": {
      "text/plain": [
       "(9, 5)"
      ]
     },
     "execution_count": 7,
     "metadata": {},
     "output_type": "execute_result"
    }
   ],
   "source": [
    "#Lösung 3:\n",
    "(df.y=='Ja').sum(),(df.y=='Nein').sum()"
   ]
  },
  {
   "cell_type": "markdown",
   "metadata": {},
   "source": [
    "Also ist $c=Ja$ die Antwort. \"Ja\" kommt häufiger vor als \"Nein\"."
   ]
  },
  {
   "cell_type": "markdown",
   "metadata": {},
   "source": [
    "Nochmals die Tabelle zur Erinnerung:\n",
    "\n",
    "||Mammografie diagnostiziert Brustkrebs|Mammografie findet keinen Brustkrebs|\n",
    "|---------------------------------------------------------------------------|\n",
    "|Patientin entwickelt Brustkrebs|2000|700|\n",
    "|Patientin entwickelt keinen Brustkrebs|200|10000|\n",
    "\n",
    "Eine bedingte Wahrscheinlichkeit ist nun ein Verhältnis, welches im Nenner nicht die Gesamtpopulation (hier alle 2000+700+200+10000=12900 Frauen) enthält, sondern nur jene, welche die Bedingung erfüllen: z.B. die Precision\n",
    "\n",
    "$$p(\\text{Patientin entwickelt Brustkrebs} \\,|\\, \\text{Mammografie diagnostiziert Brustkrebs})=\\frac{\\#(\\text{Patientin entwickelt diagnostizierten Brustkrebs})}{\\#(\\text{Mammografie diagnostiziert Brustkrebs})}=\\frac{2000}{2200}$$\n",
    "Oder auch den Recall\n",
    "\n",
    "$$p(\\text{Mammografie diagnostiziert Brustkrebs} \\,|\\, \\text{Patientin entwickelt Brustkrebs})=\\frac{\\#(\\text{Brustkrebsdiagnosen bei tatsächlich erkrankten Patientinnen})}{\\#(\\text{tatsächlich erkrankte Patientinnen})}=\\frac{2000}{2700}$$\n",
    "\n",
    "Den senkrechten Strich in $p(X|Y)$ liest man als \"gegeben dass\"."
   ]
  },
  {
   "cell_type": "markdown",
   "metadata": {},
   "source": [
    "**Aufgabe 2** Bestimmen Sie die folgenden (bedingten) Wahrscheinlichkeiten auf dem Wetterausflugs-Datensatz:  \n",
    "1. $P(Sonne|Ja)=$  \n",
    "2. $P(Bewölkt|Nein)=$\n",
    "3. $P(Ja|Regen)=$    "
   ]
  },
  {
   "cell_type": "code",
   "execution_count": 8,
   "metadata": {},
   "outputs": [
    {
     "data": {
      "text/html": [
       "<div>\n",
       "<style>\n",
       "    .dataframe thead tr:only-child th {\n",
       "        text-align: right;\n",
       "    }\n",
       "\n",
       "    .dataframe thead th {\n",
       "        text-align: left;\n",
       "    }\n",
       "\n",
       "    .dataframe tbody tr th {\n",
       "        vertical-align: top;\n",
       "    }\n",
       "</style>\n",
       "<table border=\"1\" class=\"dataframe\">\n",
       "  <thead>\n",
       "    <tr style=\"text-align: right;\">\n",
       "      <th></th>\n",
       "      <th>Aussicht</th>\n",
       "      <th>Temperatur</th>\n",
       "      <th>Feuchtigkeit</th>\n",
       "      <th>Wind</th>\n",
       "      <th>y</th>\n",
       "    </tr>\n",
       "  </thead>\n",
       "  <tbody>\n",
       "    <tr>\n",
       "      <th>2</th>\n",
       "      <td>Bewölkt</td>\n",
       "      <td>Heiss</td>\n",
       "      <td>Hoch</td>\n",
       "      <td>FALSCH</td>\n",
       "      <td>Ja</td>\n",
       "    </tr>\n",
       "    <tr>\n",
       "      <th>3</th>\n",
       "      <td>Regen</td>\n",
       "      <td>Mild</td>\n",
       "      <td>Hoch</td>\n",
       "      <td>FALSCH</td>\n",
       "      <td>Ja</td>\n",
       "    </tr>\n",
       "    <tr>\n",
       "      <th>4</th>\n",
       "      <td>Bewölkt</td>\n",
       "      <td>Mild</td>\n",
       "      <td>Hoch</td>\n",
       "      <td>FALSCH</td>\n",
       "      <td>Ja</td>\n",
       "    </tr>\n",
       "    <tr>\n",
       "      <th>5</th>\n",
       "      <td>Bewölkt</td>\n",
       "      <td>Kühl</td>\n",
       "      <td>Normal</td>\n",
       "      <td>WAHR</td>\n",
       "      <td>Ja</td>\n",
       "    </tr>\n",
       "    <tr>\n",
       "      <th>7</th>\n",
       "      <td>Sonne</td>\n",
       "      <td>Mild</td>\n",
       "      <td>Normal</td>\n",
       "      <td>FALSCH</td>\n",
       "      <td>Ja</td>\n",
       "    </tr>\n",
       "    <tr>\n",
       "      <th>8</th>\n",
       "      <td>Sonne</td>\n",
       "      <td>Mild</td>\n",
       "      <td>Normal</td>\n",
       "      <td>FALSCH</td>\n",
       "      <td>Ja</td>\n",
       "    </tr>\n",
       "    <tr>\n",
       "      <th>9</th>\n",
       "      <td>Regen</td>\n",
       "      <td>Kühl</td>\n",
       "      <td>Normal</td>\n",
       "      <td>WAHR</td>\n",
       "      <td>Ja</td>\n",
       "    </tr>\n",
       "    <tr>\n",
       "      <th>10</th>\n",
       "      <td>Regen</td>\n",
       "      <td>Kühl</td>\n",
       "      <td>Normal</td>\n",
       "      <td>WAHR</td>\n",
       "      <td>Ja</td>\n",
       "    </tr>\n",
       "    <tr>\n",
       "      <th>12</th>\n",
       "      <td>Bewölkt</td>\n",
       "      <td>Heiss</td>\n",
       "      <td>Normal</td>\n",
       "      <td>FALSCH</td>\n",
       "      <td>Ja</td>\n",
       "    </tr>\n",
       "  </tbody>\n",
       "</table>\n",
       "</div>"
      ],
      "text/plain": [
       "   Aussicht Temperatur Feuchtigkeit    Wind   y\n",
       "2   Bewölkt      Heiss         Hoch  FALSCH  Ja\n",
       "3     Regen       Mild         Hoch  FALSCH  Ja\n",
       "4   Bewölkt       Mild         Hoch  FALSCH  Ja\n",
       "5   Bewölkt       Kühl       Normal    WAHR  Ja\n",
       "7     Sonne       Mild       Normal  FALSCH  Ja\n",
       "8     Sonne       Mild       Normal  FALSCH  Ja\n",
       "9     Regen       Kühl       Normal    WAHR  Ja\n",
       "10    Regen       Kühl       Normal    WAHR  Ja\n",
       "12  Bewölkt      Heiss       Normal  FALSCH  Ja"
      ]
     },
     "execution_count": 8,
     "metadata": {},
     "output_type": "execute_result"
    }
   ],
   "source": [
    "#Lösung 1:\n",
    "P_gegebendass_Ja = df[df.y=='Ja']\n",
    "P_gegebendass_Ja"
   ]
  },
  {
   "cell_type": "code",
   "execution_count": 9,
   "metadata": {},
   "outputs": [
    {
     "data": {
      "text/plain": [
       "Bewölkt    4\n",
       "Regen      3\n",
       "Sonne      2\n",
       "Name: Aussicht, dtype: int64"
      ]
     },
     "execution_count": 9,
     "metadata": {},
     "output_type": "execute_result"
    }
   ],
   "source": [
    "vc = P_gegebendass_Ja['Aussicht'].value_counts()\n",
    "vc"
   ]
  },
  {
   "cell_type": "code",
   "execution_count": 10,
   "metadata": {},
   "outputs": [
    {
     "data": {
      "text/plain": [
       "(2, 9, 0.222)"
      ]
     },
     "execution_count": 10,
     "metadata": {},
     "output_type": "execute_result"
    }
   ],
   "source": [
    "vc.to_dict()['Sonne'],vc.sum(),vc.to_dict()['Sonne']/vc.sum()"
   ]
  },
  {
   "cell_type": "markdown",
   "metadata": {},
   "source": [
    "also ist P(Sonne|Ja)=22%  \n"
   ]
  },
  {
   "cell_type": "code",
   "execution_count": 11,
   "metadata": {},
   "outputs": [
    {
     "data": {
      "text/html": [
       "<div>\n",
       "<style>\n",
       "    .dataframe thead tr:only-child th {\n",
       "        text-align: right;\n",
       "    }\n",
       "\n",
       "    .dataframe thead th {\n",
       "        text-align: left;\n",
       "    }\n",
       "\n",
       "    .dataframe tbody tr th {\n",
       "        vertical-align: top;\n",
       "    }\n",
       "</style>\n",
       "<table border=\"1\" class=\"dataframe\">\n",
       "  <thead>\n",
       "    <tr style=\"text-align: right;\">\n",
       "      <th></th>\n",
       "      <th>Aussicht</th>\n",
       "      <th>Temperatur</th>\n",
       "      <th>Feuchtigkeit</th>\n",
       "      <th>Wind</th>\n",
       "      <th>y</th>\n",
       "    </tr>\n",
       "  </thead>\n",
       "  <tbody>\n",
       "    <tr>\n",
       "      <th>0</th>\n",
       "      <td>Sonne</td>\n",
       "      <td>Heiss</td>\n",
       "      <td>Hoch</td>\n",
       "      <td>FALSCH</td>\n",
       "      <td>Nein</td>\n",
       "    </tr>\n",
       "    <tr>\n",
       "      <th>1</th>\n",
       "      <td>Sonne</td>\n",
       "      <td>Heiss</td>\n",
       "      <td>Hoch</td>\n",
       "      <td>WAHR</td>\n",
       "      <td>Nein</td>\n",
       "    </tr>\n",
       "    <tr>\n",
       "      <th>6</th>\n",
       "      <td>Sonne</td>\n",
       "      <td>Mild</td>\n",
       "      <td>Normal</td>\n",
       "      <td>WAHR</td>\n",
       "      <td>Nein</td>\n",
       "    </tr>\n",
       "    <tr>\n",
       "      <th>11</th>\n",
       "      <td>Regen</td>\n",
       "      <td>Kühl</td>\n",
       "      <td>Hoch</td>\n",
       "      <td>FALSCH</td>\n",
       "      <td>Nein</td>\n",
       "    </tr>\n",
       "    <tr>\n",
       "      <th>13</th>\n",
       "      <td>Regen</td>\n",
       "      <td>Mild</td>\n",
       "      <td>Hoch</td>\n",
       "      <td>WAHR</td>\n",
       "      <td>Nein</td>\n",
       "    </tr>\n",
       "  </tbody>\n",
       "</table>\n",
       "</div>"
      ],
      "text/plain": [
       "   Aussicht Temperatur Feuchtigkeit    Wind     y\n",
       "0     Sonne      Heiss         Hoch  FALSCH  Nein\n",
       "1     Sonne      Heiss         Hoch    WAHR  Nein\n",
       "6     Sonne       Mild       Normal    WAHR  Nein\n",
       "11    Regen       Kühl         Hoch  FALSCH  Nein\n",
       "13    Regen       Mild         Hoch    WAHR  Nein"
      ]
     },
     "execution_count": 11,
     "metadata": {},
     "output_type": "execute_result"
    }
   ],
   "source": [
    "#Lösung 2. P(Bewölkt|y=Nein) = \n",
    "P_gegebendass_Nein = df[df.y=='Nein']\n",
    "P_gegebendass_Nein"
   ]
  },
  {
   "cell_type": "markdown",
   "metadata": {},
   "source": [
    "P(Bewölkt|y=Nein) = 0/5=0"
   ]
  },
  {
   "cell_type": "markdown",
   "metadata": {},
   "source": [
    "P(Ja|Aussicht=Regen):"
   ]
  },
  {
   "cell_type": "code",
   "execution_count": 12,
   "metadata": {},
   "outputs": [
    {
     "data": {
      "text/html": [
       "<div>\n",
       "<style>\n",
       "    .dataframe thead tr:only-child th {\n",
       "        text-align: right;\n",
       "    }\n",
       "\n",
       "    .dataframe thead th {\n",
       "        text-align: left;\n",
       "    }\n",
       "\n",
       "    .dataframe tbody tr th {\n",
       "        vertical-align: top;\n",
       "    }\n",
       "</style>\n",
       "<table border=\"1\" class=\"dataframe\">\n",
       "  <thead>\n",
       "    <tr style=\"text-align: right;\">\n",
       "      <th></th>\n",
       "      <th>Aussicht</th>\n",
       "      <th>Temperatur</th>\n",
       "      <th>Feuchtigkeit</th>\n",
       "      <th>Wind</th>\n",
       "      <th>y</th>\n",
       "    </tr>\n",
       "  </thead>\n",
       "  <tbody>\n",
       "    <tr>\n",
       "      <th>3</th>\n",
       "      <td>Regen</td>\n",
       "      <td>Mild</td>\n",
       "      <td>Hoch</td>\n",
       "      <td>FALSCH</td>\n",
       "      <td>Ja</td>\n",
       "    </tr>\n",
       "    <tr>\n",
       "      <th>9</th>\n",
       "      <td>Regen</td>\n",
       "      <td>Kühl</td>\n",
       "      <td>Normal</td>\n",
       "      <td>WAHR</td>\n",
       "      <td>Ja</td>\n",
       "    </tr>\n",
       "    <tr>\n",
       "      <th>10</th>\n",
       "      <td>Regen</td>\n",
       "      <td>Kühl</td>\n",
       "      <td>Normal</td>\n",
       "      <td>WAHR</td>\n",
       "      <td>Ja</td>\n",
       "    </tr>\n",
       "    <tr>\n",
       "      <th>11</th>\n",
       "      <td>Regen</td>\n",
       "      <td>Kühl</td>\n",
       "      <td>Hoch</td>\n",
       "      <td>FALSCH</td>\n",
       "      <td>Nein</td>\n",
       "    </tr>\n",
       "    <tr>\n",
       "      <th>13</th>\n",
       "      <td>Regen</td>\n",
       "      <td>Mild</td>\n",
       "      <td>Hoch</td>\n",
       "      <td>WAHR</td>\n",
       "      <td>Nein</td>\n",
       "    </tr>\n",
       "  </tbody>\n",
       "</table>\n",
       "</div>"
      ],
      "text/plain": [
       "   Aussicht Temperatur Feuchtigkeit    Wind     y\n",
       "3     Regen       Mild         Hoch  FALSCH    Ja\n",
       "9     Regen       Kühl       Normal    WAHR    Ja\n",
       "10    Regen       Kühl       Normal    WAHR    Ja\n",
       "11    Regen       Kühl         Hoch  FALSCH  Nein\n",
       "13    Regen       Mild         Hoch    WAHR  Nein"
      ]
     },
     "execution_count": 12,
     "metadata": {},
     "output_type": "execute_result"
    }
   ],
   "source": [
    "df[df.Aussicht=='Regen']"
   ]
  },
  {
   "cell_type": "markdown",
   "metadata": {},
   "source": [
    "d.h. von den Tagen mit Regen haben drei y=Ja. Daher ist  \n",
    "$P(Ja|Aussicht=Regen)=3/5=0.6$"
   ]
  },
  {
   "cell_type": "markdown",
   "metadata": {},
   "source": [
    "## Satz von Bayes"
   ]
  },
  {
   "cell_type": "markdown",
   "metadata": {},
   "source": [
    "Wir werden gleich den Satz von Bayes verwenden, um eine Vorhersage zu machen. Er lautet allgemein\n",
    "\n",
    "$$\n",
    "P(y|X) = \\frac{P(X|y) P(y)}{P(X)}\n",
    "$$"
   ]
  },
  {
   "cell_type": "markdown",
   "metadata": {},
   "source": [
    "**Aufgabe 3:**\n",
    "Bestimmen Sie die folgenden Grössen:\n",
    "\n",
    "a) $P(sonnig)=$  \n",
    "b) $P(Ja)=$  \n",
    "c) $P(sonnig|Ja)=$      \n",
    "d) $P(Ja|sonnig)=$   \n",
    "e) $P(Nein)=$"
   ]
  },
  {
   "cell_type": "code",
   "execution_count": 19,
   "metadata": {},
   "outputs": [
    {
     "data": {
      "text/plain": [
       "0.357"
      ]
     },
     "execution_count": 19,
     "metadata": {},
     "output_type": "execute_result"
    }
   ],
   "source": [
    "#Lösung a:\n",
    "a = (df['Aussicht']=='Sonne').sum()/df['Aussicht'].size\n",
    "a"
   ]
  },
  {
   "cell_type": "code",
   "execution_count": null,
   "metadata": {
    "collapsed": true
   },
   "outputs": [],
   "source": [
    "(df['Aussicht']).size"
   ]
  },
  {
   "cell_type": "code",
   "execution_count": 14,
   "metadata": {},
   "outputs": [
    {
     "data": {
      "text/plain": [
       "(0.643, 0.643)"
      ]
     },
     "execution_count": 14,
     "metadata": {},
     "output_type": "execute_result"
    }
   ],
   "source": [
    "#Lösung b:\n",
    "P_Ja = b = (df.y=='Ja').mean()\n",
    "b,9/14"
   ]
  },
  {
   "cell_type": "code",
   "execution_count": 15,
   "metadata": {},
   "outputs": [
    {
     "data": {
      "text/html": [
       "<div>\n",
       "<style>\n",
       "    .dataframe thead tr:only-child th {\n",
       "        text-align: right;\n",
       "    }\n",
       "\n",
       "    .dataframe thead th {\n",
       "        text-align: left;\n",
       "    }\n",
       "\n",
       "    .dataframe tbody tr th {\n",
       "        vertical-align: top;\n",
       "    }\n",
       "</style>\n",
       "<table border=\"1\" class=\"dataframe\">\n",
       "  <thead>\n",
       "    <tr style=\"text-align: right;\">\n",
       "      <th></th>\n",
       "      <th>Aussicht</th>\n",
       "      <th>Temperatur</th>\n",
       "      <th>Feuchtigkeit</th>\n",
       "      <th>Wind</th>\n",
       "      <th>y</th>\n",
       "    </tr>\n",
       "  </thead>\n",
       "  <tbody>\n",
       "    <tr>\n",
       "      <th>2</th>\n",
       "      <td>Bewölkt</td>\n",
       "      <td>Heiss</td>\n",
       "      <td>Hoch</td>\n",
       "      <td>FALSCH</td>\n",
       "      <td>Ja</td>\n",
       "    </tr>\n",
       "    <tr>\n",
       "      <th>3</th>\n",
       "      <td>Regen</td>\n",
       "      <td>Mild</td>\n",
       "      <td>Hoch</td>\n",
       "      <td>FALSCH</td>\n",
       "      <td>Ja</td>\n",
       "    </tr>\n",
       "    <tr>\n",
       "      <th>4</th>\n",
       "      <td>Bewölkt</td>\n",
       "      <td>Mild</td>\n",
       "      <td>Hoch</td>\n",
       "      <td>FALSCH</td>\n",
       "      <td>Ja</td>\n",
       "    </tr>\n",
       "    <tr>\n",
       "      <th>5</th>\n",
       "      <td>Bewölkt</td>\n",
       "      <td>Kühl</td>\n",
       "      <td>Normal</td>\n",
       "      <td>WAHR</td>\n",
       "      <td>Ja</td>\n",
       "    </tr>\n",
       "    <tr>\n",
       "      <th>7</th>\n",
       "      <td>Sonne</td>\n",
       "      <td>Mild</td>\n",
       "      <td>Normal</td>\n",
       "      <td>FALSCH</td>\n",
       "      <td>Ja</td>\n",
       "    </tr>\n",
       "    <tr>\n",
       "      <th>8</th>\n",
       "      <td>Sonne</td>\n",
       "      <td>Mild</td>\n",
       "      <td>Normal</td>\n",
       "      <td>FALSCH</td>\n",
       "      <td>Ja</td>\n",
       "    </tr>\n",
       "    <tr>\n",
       "      <th>9</th>\n",
       "      <td>Regen</td>\n",
       "      <td>Kühl</td>\n",
       "      <td>Normal</td>\n",
       "      <td>WAHR</td>\n",
       "      <td>Ja</td>\n",
       "    </tr>\n",
       "    <tr>\n",
       "      <th>10</th>\n",
       "      <td>Regen</td>\n",
       "      <td>Kühl</td>\n",
       "      <td>Normal</td>\n",
       "      <td>WAHR</td>\n",
       "      <td>Ja</td>\n",
       "    </tr>\n",
       "    <tr>\n",
       "      <th>12</th>\n",
       "      <td>Bewölkt</td>\n",
       "      <td>Heiss</td>\n",
       "      <td>Normal</td>\n",
       "      <td>FALSCH</td>\n",
       "      <td>Ja</td>\n",
       "    </tr>\n",
       "  </tbody>\n",
       "</table>\n",
       "</div>"
      ],
      "text/plain": [
       "   Aussicht Temperatur Feuchtigkeit    Wind   y\n",
       "2   Bewölkt      Heiss         Hoch  FALSCH  Ja\n",
       "3     Regen       Mild         Hoch  FALSCH  Ja\n",
       "4   Bewölkt       Mild         Hoch  FALSCH  Ja\n",
       "5   Bewölkt       Kühl       Normal    WAHR  Ja\n",
       "7     Sonne       Mild       Normal  FALSCH  Ja\n",
       "8     Sonne       Mild       Normal  FALSCH  Ja\n",
       "9     Regen       Kühl       Normal    WAHR  Ja\n",
       "10    Regen       Kühl       Normal    WAHR  Ja\n",
       "12  Bewölkt      Heiss       Normal  FALSCH  Ja"
      ]
     },
     "execution_count": 15,
     "metadata": {},
     "output_type": "execute_result"
    }
   ],
   "source": [
    "P_gegeben_Ja = df[(df.y=='Ja')]\n",
    "P_gegeben_Ja"
   ]
  },
  {
   "cell_type": "code",
   "execution_count": 16,
   "metadata": {},
   "outputs": [
    {
     "data": {
      "text/plain": [
       "(0.222, 0.222)"
      ]
     },
     "execution_count": 16,
     "metadata": {},
     "output_type": "execute_result"
    }
   ],
   "source": [
    "#Lösung c:\n",
    "c=(P_gegeben_Ja['Aussicht']=='Sonne').mean()\n",
    "c,2/9"
   ]
  },
  {
   "cell_type": "code",
   "execution_count": 17,
   "metadata": {},
   "outputs": [
    {
     "data": {
      "text/html": [
       "<div>\n",
       "<style>\n",
       "    .dataframe thead tr:only-child th {\n",
       "        text-align: right;\n",
       "    }\n",
       "\n",
       "    .dataframe thead th {\n",
       "        text-align: left;\n",
       "    }\n",
       "\n",
       "    .dataframe tbody tr th {\n",
       "        vertical-align: top;\n",
       "    }\n",
       "</style>\n",
       "<table border=\"1\" class=\"dataframe\">\n",
       "  <thead>\n",
       "    <tr style=\"text-align: right;\">\n",
       "      <th></th>\n",
       "      <th>Aussicht</th>\n",
       "      <th>Temperatur</th>\n",
       "      <th>Feuchtigkeit</th>\n",
       "      <th>Wind</th>\n",
       "      <th>y</th>\n",
       "    </tr>\n",
       "  </thead>\n",
       "  <tbody>\n",
       "    <tr>\n",
       "      <th>0</th>\n",
       "      <td>Sonne</td>\n",
       "      <td>Heiss</td>\n",
       "      <td>Hoch</td>\n",
       "      <td>FALSCH</td>\n",
       "      <td>Nein</td>\n",
       "    </tr>\n",
       "    <tr>\n",
       "      <th>1</th>\n",
       "      <td>Sonne</td>\n",
       "      <td>Heiss</td>\n",
       "      <td>Hoch</td>\n",
       "      <td>WAHR</td>\n",
       "      <td>Nein</td>\n",
       "    </tr>\n",
       "    <tr>\n",
       "      <th>6</th>\n",
       "      <td>Sonne</td>\n",
       "      <td>Mild</td>\n",
       "      <td>Normal</td>\n",
       "      <td>WAHR</td>\n",
       "      <td>Nein</td>\n",
       "    </tr>\n",
       "    <tr>\n",
       "      <th>7</th>\n",
       "      <td>Sonne</td>\n",
       "      <td>Mild</td>\n",
       "      <td>Normal</td>\n",
       "      <td>FALSCH</td>\n",
       "      <td>Ja</td>\n",
       "    </tr>\n",
       "    <tr>\n",
       "      <th>8</th>\n",
       "      <td>Sonne</td>\n",
       "      <td>Mild</td>\n",
       "      <td>Normal</td>\n",
       "      <td>FALSCH</td>\n",
       "      <td>Ja</td>\n",
       "    </tr>\n",
       "  </tbody>\n",
       "</table>\n",
       "</div>"
      ],
      "text/plain": [
       "  Aussicht Temperatur Feuchtigkeit    Wind     y\n",
       "0    Sonne      Heiss         Hoch  FALSCH  Nein\n",
       "1    Sonne      Heiss         Hoch    WAHR  Nein\n",
       "6    Sonne       Mild       Normal    WAHR  Nein\n",
       "7    Sonne       Mild       Normal  FALSCH    Ja\n",
       "8    Sonne       Mild       Normal  FALSCH    Ja"
      ]
     },
     "execution_count": 17,
     "metadata": {},
     "output_type": "execute_result"
    }
   ],
   "source": [
    "#Lösung d: \n",
    "P_gegeben_Sonne = df[df.Aussicht=='Sonne']\n",
    "P_gegeben_Sonne"
   ]
  },
  {
   "cell_type": "code",
   "execution_count": 18,
   "metadata": {},
   "outputs": [
    {
     "data": {
      "text/plain": [
       "(0.400, 0.400)"
      ]
     },
     "execution_count": 18,
     "metadata": {},
     "output_type": "execute_result"
    }
   ],
   "source": [
    "d=(P_gegeben_Sonne.y=='Ja').mean()\n",
    "d,2/5"
   ]
  },
  {
   "cell_type": "code",
   "execution_count": 19,
   "metadata": {},
   "outputs": [
    {
     "data": {
      "text/plain": [
       "0.357"
      ]
     },
     "execution_count": 19,
     "metadata": {},
     "output_type": "execute_result"
    }
   ],
   "source": [
    "#Lösung e)\n",
    "P_Nein = (df.y=='Nein').mean()\n",
    "P_Nein"
   ]
  },
  {
   "cell_type": "code",
   "execution_count": 20,
   "metadata": {},
   "outputs": [
    {
     "data": {
      "text/plain": [
       "1.000"
      ]
     },
     "execution_count": 20,
     "metadata": {},
     "output_type": "execute_result"
    }
   ],
   "source": [
    "P_Ja+P_Nein"
   ]
  },
  {
   "cell_type": "markdown",
   "metadata": {},
   "source": [
    "**Aufgabe 4** verifizieren Sie den Satz von Bayes in der Form\n",
    "$$P(sonnig\\,|\\,Ja) P(Ja) = P(Ja\\,|\\,sonnig)P(sonnig),$$ d.h.\n",
    "$$ c \\cdot b = d\\cdot a$$\n",
    "mit a,b,c,d aus Aufgabe 3."
   ]
  },
  {
   "cell_type": "code",
   "execution_count": 21,
   "metadata": {},
   "outputs": [
    {
     "data": {
      "text/plain": [
       "0.143"
      ]
     },
     "execution_count": 21,
     "metadata": {},
     "output_type": "execute_result"
    }
   ],
   "source": [
    "c*b"
   ]
  },
  {
   "cell_type": "code",
   "execution_count": 22,
   "metadata": {},
   "outputs": [
    {
     "data": {
      "text/plain": [
       "0.143"
      ]
     },
     "execution_count": 22,
     "metadata": {},
     "output_type": "execute_result"
    }
   ],
   "source": [
    "d*a"
   ]
  },
  {
   "cell_type": "code",
   "execution_count": 23,
   "metadata": {},
   "outputs": [
    {
     "data": {
      "text/plain": [
       "-0.000"
      ]
     },
     "execution_count": 23,
     "metadata": {},
     "output_type": "execute_result"
    }
   ],
   "source": [
    "#c*b==d*a ?? Achtung Rundungsfehler!\n",
    "c*b - d*a"
   ]
  },
  {
   "cell_type": "markdown",
   "metadata": {},
   "source": [
    "## Vorhersage"
   ]
  },
  {
   "cell_type": "markdown",
   "metadata": {},
   "source": [
    "Ihre Aufgabe ist es nun, eine Vorhersage zu geben, ob bei den folgenden Bedingungen ein Ausflug wahrscheinlich ist:  \n",
    "- sonnige Aussichten\n",
    "- kühle Temperatur\n",
    "- hohe Feuchtigkeit\n",
    "- windig\n",
    "\n",
    "Der Featurevektor $X$ ist also\n",
    "\n",
    "$$X=(x_1,x_2,x_3,x_4)=(\\text{sonnig,kühl,feucht,WAHR}),$$ \n",
    "und $$y=\\text{Ja}.$$  \n",
    "Der Satz von Bayes lautet also\n",
    "\n",
    "$$\n",
    "P(y \\,|\\, X) = \\frac{P(X \\,|\\, y) \\,P(y)}{P(X)}\n",
    "$$\n",
    "Die rechte Seite ist, wie wir gleich sehen werden, einfacher zu berechnen als die linke. Die linke Seite ist aber, was uns interessiert."
   ]
  },
  {
   "cell_type": "markdown",
   "metadata": {},
   "source": [
    "Sie müssen nämlich rausfinden, ob es bei gegebenen Wetterbedingungen die Wahrscheinlichkeit, dass der Ausflug statt findet, grösser ist als dass er nicht statt findet: $$P(y=Ja|X) > P(y=Nein|X)$$\n",
    "\n",
    "Mit dem Satz von Bayes berechnen wir\n",
    "$$\n",
    "P(y=Ja|X) = \\frac{P(X|y=Ja) P(Ja)}{P(X)}\n",
    "$$\n",
    "und \n",
    "$$\n",
    "P(y=Nein|X) = \\frac{P(X|y=Nein) P(Nein)}{P(X)}\n",
    "$$\n",
    "\n",
    "Die Bedingung $$P(y=Ja|X) > P(y=Nein|X)$$ kann damit umgeschrieben werden zu\n",
    "\n",
    "$$\\frac{P(X|y=Ja) P(Ja)}{P(X)} >\\frac{P(X|y=Nein) P(Nein)}{P(X)}$$\n",
    "\n",
    "Dies bedeutet also $$P(X|y=Ja) P(Ja) >P(X|y=Nein) P(Nein)$$\n",
    "\n",
    "$P(X)$ hat sich gekürzt- es spielt hier also keine wichtige Rolle.\n",
    "\n",
    "Es fehlt noch eine vereinfachende Annahme bis wir diese Ungleichung berechnen können."
   ]
  },
  {
   "cell_type": "markdown",
   "metadata": {},
   "source": [
    "## Naive Bayes Annahme\n",
    "Unter \"Naive Bayes\" versteht man die Annahme, dass die einzelnen Feature voneinander statistisch unabhängig sind. Die Aussage beispielsweise, dass das Feature $x_1$ in einer Klasse $y$ unabhängig ist von dem Feature $x_2$ bedeutet, dass die bedingte Wahrscheinlichkeit $P(x_1|x_2,y)$ gar nicht von $x_2$ abhängt:\n",
    "$$ P(x_1|x_2,y)=P(x_1|y)$$\n",
    "\n",
    "\n",
    "\n",
    "Wenn wir also z.B. die Wahrscheinlichkeitsverteilung der Features $x_1,x_2$ innerhalb einer Klasse $y$ berechnen müssen, dann geht das ganz leicht: Diese Grösse $P(x_1,x_2|y)$ kann nämlich umgeformt werden:\n",
    "$$P(x_1,x_2|y) = P(x_1|x_2,y)P(x_2|y)$$\n",
    "(Das gilt ganz allgemein, auf Grund der Definition von bedingten Wahrscheinlichkeiten.) Weil nun aber $x_1$ von $x_2$ unabhängig ist, gilt eben $P(x_1|x_2,y)=P(x_1|y)$. Dies setzen wir oben ein:\n",
    "$$P(x_1,x_2|y) = P(x_1|x_2,y)P(x_2|y)=P(x_1|y)P(x_2|y)$$\n",
    "Für $N$ Variablen sähe das ganz ähnlich aus:\n",
    "$$P(x_1,x_2,\\ldots,x_N|y)=P(x_1|y)P(x_2|y)\\cdots P(x_N|y)$$\n",
    "\n",
    "Das ist sehr praktisch! Auf der linken Seite der Gleichung können sehr viel mehr unterschiedliche Grössen stehen als rechts. Wir werden viel weniger Trainingsdaten brauchen.\n",
    "Anstelle der Wahrscheinlichkeitstabelle\n",
    "\n",
    "| x_1    | x_2  | x_3  | x_4 | y   | $P(\\vec{x}|y)$|\n",
    "|--------|------|------|-----|-----|---------------|\n",
    "| sonnig | kühl | hoch | WAHR| Ja  |...............|\n",
    "| sonnig | kühl | tief | WAHR| ?   |...............|\n",
    "| sonnig | mild | hoch | WAHR| ?   |...............|\n",
    "| sonnig | mild | tief | WAHR| ?   |...............|\n",
    "|  ...   | ...  | ...  | ... | ... |...............|\n",
    "\n",
    "(insgesamt 3\\*3\\*2\\*2\\*2-1=71 Zeilen) müssen nun nur noch die folgenden Elemente angegeben werden:\n",
    "\n",
    "- P(sonnig|Ja), P(bewölkt|Ja)\n",
    "- P(sonnig|Nein),P(bewölkt|Nein)\n",
    "- P(kühl|Ja), P(mild|Ja)\n",
    "- P(kühl|Nein), P(mild|Nein)\n",
    "- P(hoch|Ja), P(Normal|Ja)\n",
    "- P(WAHR|Ja), \n",
    "- P(WAHR|Nein) \n",
    "- P(Ja)\n",
    "\n",
    "also ((3-1)+(3-1)+(2-1)+(2-1))*2+1=13 Elemente. Beim Elementezählen werden Produkte also zu Summen-- bei vielen Features ist dies ein enormer Effizienzgewinn! Wir brauchen viel weniger Trainingsdaten. Andererseits ist die \"naive\" Annahme eben auch sehr streng, und passt nicht auf jede Situation. Spielt z.B. die Wortreihenfolge bei der Email-Spamklassifikation wirklich keine Rolle?\n"
   ]
  },
  {
   "cell_type": "markdown",
   "metadata": {},
   "source": [
    "**Aufgabe 5:** Berechnen Sie die Grösse $$P(Sonne,kühl,hoch,WAHR|Ja)=P(Sonne|Ja)P(kühl|Ja)P(hoch|Ja)P(WAHR|Ja)$$\n",
    "\n",
    "a) P(Sonne|Ja)=?  \n",
    "b) P(kühl|Ja)=?  \n",
    "c) P(hoch|Ja)=?  \n",
    "d) P(WAHR|Ja)=?\n",
    "\n",
    "Schreiben Sie dazu eine Funktion\n",
    "\n",
    "def PXgivenY(df,Xname,Xval,Yname,Yval):\n",
    "    ...\n",
    "\n",
    "welche Ihre bedingten Wahrscheinlichkeiten berechnet."
   ]
  },
  {
   "cell_type": "code",
   "execution_count": 24,
   "metadata": {},
   "outputs": [
    {
     "data": {
      "text/plain": [
       "0.222"
      ]
     },
     "execution_count": 24,
     "metadata": {},
     "output_type": "execute_result"
    }
   ],
   "source": [
    "def PXgivenY(df,Xname,Xval,Yname,Yval):\n",
    "    \"\"\"\n",
    "    Berechnet für die Ereignistabelle df die Grösse P(Xname=Xval|Yname=Yval). \n",
    "    Sie wird berechnet als \n",
    "    \"Anzahl Ereignisse mit Xname=Xval\" / \"Anzahl Ereignisse mit Yname=Yval\".\n",
    "    \"\"\"\n",
    "    m = (df[(df[Xname]==Xval) & (df[Yname]==Yval)]).shape[0]\n",
    "    n = (df[Yname]==Yval).sum()\n",
    "    return m/n\n",
    "\n",
    "PXgivenY(df,'Aussicht','Sonne','y','Ja')"
   ]
  },
  {
   "cell_type": "code",
   "execution_count": 25,
   "metadata": {},
   "outputs": [
    {
     "data": {
      "text/plain": [
       "0.333"
      ]
     },
     "execution_count": 25,
     "metadata": {},
     "output_type": "execute_result"
    }
   ],
   "source": [
    "PXgivenY(df,'Temperatur','Kühl','y','Ja')"
   ]
  },
  {
   "cell_type": "code",
   "execution_count": 26,
   "metadata": {},
   "outputs": [
    {
     "data": {
      "text/plain": [
       "0.333"
      ]
     },
     "execution_count": 26,
     "metadata": {},
     "output_type": "execute_result"
    }
   ],
   "source": [
    "PXgivenY(df,'Feuchtigkeit','Hoch','y','Ja')"
   ]
  },
  {
   "cell_type": "code",
   "execution_count": 27,
   "metadata": {},
   "outputs": [
    {
     "data": {
      "text/plain": [
       "0.333"
      ]
     },
     "execution_count": 27,
     "metadata": {},
     "output_type": "execute_result"
    }
   ],
   "source": [
    "PXgivenY(df,'Wind','WAHR','y','Ja')"
   ]
  },
  {
   "cell_type": "code",
   "execution_count": 28,
   "metadata": {},
   "outputs": [
    {
     "data": {
      "text/plain": [
       "0.008"
      ]
     },
     "execution_count": 28,
     "metadata": {},
     "output_type": "execute_result"
    }
   ],
   "source": [
    "P_x_given_Ja = PXgivenY(df,'Aussicht','Sonne','y','Ja')*PXgivenY(df,'Temperatur','Kühl','y','Ja')\\\n",
    "*PXgivenY(df,'Feuchtigkeit','Hoch','y','Ja')*PXgivenY(df,'Wind','WAHR','y','Ja')\n",
    "P_x_given_Ja"
   ]
  },
  {
   "cell_type": "code",
   "execution_count": 29,
   "metadata": {},
   "outputs": [
    {
     "data": {
      "text/plain": [
       "0.000"
      ]
     },
     "execution_count": 29,
     "metadata": {},
     "output_type": "execute_result"
    }
   ],
   "source": [
    "P_x_given_Ja- 2/9*3/9*3/9*3/9"
   ]
  },
  {
   "cell_type": "code",
   "execution_count": 30,
   "metadata": {},
   "outputs": [
    {
     "data": {
      "text/plain": [
       "0.058"
      ]
     },
     "execution_count": 30,
     "metadata": {},
     "output_type": "execute_result"
    }
   ],
   "source": [
    "P_x_given_Nein = PXgivenY(df,'Aussicht','Sonne','y','Nein')*PXgivenY(df,'Temperatur','Kühl','y','Nein')\\\n",
    "*PXgivenY(df,'Feuchtigkeit','Hoch','y','Nein')*PXgivenY(df,'Wind','WAHR','y','Nein')\n",
    "P_x_given_Nein"
   ]
  },
  {
   "cell_type": "code",
   "execution_count": 31,
   "metadata": {},
   "outputs": [
    {
     "data": {
      "text/plain": [
       "-0.000"
      ]
     },
     "execution_count": 31,
     "metadata": {},
     "output_type": "execute_result"
    }
   ],
   "source": [
    "P_x_given_Nein - 3/5*1/5*4/5*3/5"
   ]
  },
  {
   "cell_type": "code",
   "execution_count": 32,
   "metadata": {},
   "outputs": [
    {
     "data": {
      "text/plain": [
       "0.021"
      ]
     },
     "execution_count": 32,
     "metadata": {},
     "output_type": "execute_result"
    }
   ],
   "source": [
    "#Hier unterschlagen wir rechts einen Faktor 1/P(x): \n",
    "P_Nein_given_x = P_x_given_Nein*P_Nein\n",
    "P_Nein_given_x"
   ]
  },
  {
   "cell_type": "code",
   "execution_count": 33,
   "metadata": {},
   "outputs": [
    {
     "data": {
      "text/plain": [
       "0.005"
      ]
     },
     "execution_count": 33,
     "metadata": {},
     "output_type": "execute_result"
    }
   ],
   "source": [
    "#Hier unterschlagen wir rechts ebenfalls einen Faktor 1/P(x): \n",
    "P_Ja_given_x = P_x_given_Ja*P_Ja\n",
    "P_Ja_given_x"
   ]
  },
  {
   "cell_type": "code",
   "execution_count": 34,
   "metadata": {},
   "outputs": [
    {
     "data": {
      "text/plain": [
       "0.008"
      ]
     },
     "execution_count": 34,
     "metadata": {},
     "output_type": "execute_result"
    }
   ],
   "source": [
    "2/9*3/9*3/9*3/9"
   ]
  },
  {
   "cell_type": "code",
   "execution_count": 35,
   "metadata": {},
   "outputs": [
    {
     "data": {
      "text/plain": [
       "0.008"
      ]
     },
     "execution_count": 35,
     "metadata": {},
     "output_type": "execute_result"
    }
   ],
   "source": [
    "P_x_given_Ja"
   ]
  },
  {
   "cell_type": "markdown",
   "metadata": {},
   "source": [
    "Damit haben wir unseren Naive-Bayes-Klassifikator:"
   ]
  },
  {
   "cell_type": "code",
   "execution_count": 37,
   "metadata": {},
   "outputs": [
    {
     "name": "stdout",
     "output_type": "stream",
     "text": [
      "Der Ausflug findet hoffentlich nächstes Jahr wieder statt.\n"
     ]
    }
   ],
   "source": [
    "if P_x_given_Nein > P_x_given_Ja:\n",
    "    print(\"Der Ausflug findet hoffentlich nächstes Jahr wieder statt.\")\n",
    "else:\n",
    "    print(\"Der Ausflug findet statt!\")"
   ]
  }
 ],
 "metadata": {
  "kernelspec": {
   "display_name": "v_py3",
   "language": "python",
   "name": "v_py3"
  },
  "language_info": {
   "codemirror_mode": {
    "name": "ipython",
    "version": 3
   },
   "file_extension": ".py",
   "mimetype": "text/x-python",
   "name": "python",
   "nbconvert_exporter": "python",
   "pygments_lexer": "ipython3",
   "version": "3.6.5"
  }
 },
 "nbformat": 4,
 "nbformat_minor": 2
}
