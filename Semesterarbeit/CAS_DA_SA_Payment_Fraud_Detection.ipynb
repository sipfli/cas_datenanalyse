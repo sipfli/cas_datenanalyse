{
  "nbformat": 4,
  "nbformat_minor": 0,
  "metadata": {
    "colab": {
      "name": "CAS-DA-SA_Payment_Fraud_Detection.ipynb",
      "version": "0.3.2",
      "provenance": [],
      "include_colab_link": true
    },
    "kernelspec": {
      "name": "python3",
      "display_name": "Python 3"
    },
    "accelerator": "GPU"
  },
  "cells": [
    {
      "cell_type": "markdown",
      "metadata": {
        "id": "view-in-github",
        "colab_type": "text"
      },
      "source": [
        "<a href=\"https://colab.research.google.com/github/sakuronohana/cas_datenanalyse/blob/master/Semesterarbeit/CAS_DA_SA_Payment_Fraud_Detection.ipynb\" target=\"_parent\"><img src=\"https://colab.research.google.com/assets/colab-badge.svg\" alt=\"Open In Colab\"/></a>"
      ]
    },
    {
      "cell_type": "markdown",
      "metadata": {
        "id": "jRcJtvy3IiFf",
        "colab_type": "text"
      },
      "source": [
        "<img \n",
        "src=\"https://www.ffhs.ch/templates/ffhs/img/logo@2x.png\" width=\"100\"> \n",
        "###DaAn, Data Analysis, MAS/CAS Web4B 2018, ZH1, FS19, Dr. Tödtli Beat###\n",
        "\n",
        "##*Semesterarbeit von Patrik Di Lena*##\n",
        "#Betrugserkennung Zahlungsverkehr#\n",
        "\n"
      ]
    },
    {
      "cell_type": "markdown",
      "metadata": {
        "id": "Cu2Lax6MMPh0",
        "colab_type": "text"
      },
      "source": [
        "##Ziel##\n",
        "Das Ziel dieser Semesterarbeit ist die Gegenüberstellung von Supervised und Unsupervised Lernverfahren mit Hilfe neuronaler Netzwerk Algorithmen. Dabei kommt  ein nicht gelabelter und ein gelabelter Datensatz aus einem Betrugserkennungssystem zum Einsatz. \n",
        "\n",
        "##Aufgabenstellung##\n",
        "###Erkennung von Betrugszahlungen###\n",
        "Mittels Unsupervised Learning sollen Betrugszahlungen aus einem nicht gelabelten Datensatz erkannt und die Effiktivität des vorhandenen Fraud-Detection Systems geprüft werden. In diesem Fall wird ein Autoencoder Neural Network mit Tensorflow aufgebaut. \n",
        "\n",
        "###Betrugsanfällige Risikogruppen###\n",
        "Mit Hilfe von Supervised Learning werden mögliche Risikogruppen ermittelt, welche im Visier von Betrügern stehen.  Auf Basis eines gelabelten Datensatzes  werden die Risikogruppen nach folgenden Merkmalen unterschieden:\n",
        "\n",
        "*\tGeschlecht\n",
        "*\tAlter\n",
        "*\tZivilstand\n",
        "*\tNationalität\n",
        "*\tKontosaldo\n",
        "*\tWohnort\n",
        "*\tRegion\n",
        "\n",
        "In diesem Fall wird der Deep Learning Algorithmus Convlutional Neural Network zum Einsatz kommen.\n",
        "\n",
        "##Datensatz##\n",
        "Die im Rahmen dieser Semesterarbeit verwendeten Daten entstammen, von ihrer Datenstruktur her, aus einem bereits eingesetzten nicht ML-basierten Betrugserkennungssystem. Die Datenwerte wurde zu Wahrung der datenschutzrechtlichen und bankengesetzlichen Aspekte mit Hilfe eines Python-Scripts künstlich erzeugt und beinhalten somit keine reale Zahlungs- oder Kunden-Informationen.   \n",
        "\n",
        "Datenselektion:\n",
        "\n",
        "- 20'800 synthetische Kunden (Vorname, Name, Strasse, Ort, Kanton, Sprachregion, Geschlecht, Alter, Zivilstand,  Nationalität, Kontonummer, Vertragsnummer, Rechtsform)\n",
        "\n",
        "- 60'000 synthetische Zahlungen (Transaktionsid, ,Erstellungdatum/Zeit, Empfängerkonto, Empfängerbank, Empfängerland, Währung, Betrag, Valuta Datum)\n",
        "\n",
        "\n",
        "\n",
        "\n",
        "\n",
        "\n"
      ]
    },
    {
      "cell_type": "markdown",
      "metadata": {
        "id": "4drgj5DtlDOo",
        "colab_type": "text"
      },
      "source": [
        "#Vorbereitungen# \n"
      ]
    },
    {
      "cell_type": "code",
      "metadata": {
        "id": "M9kpR8RAjMzw",
        "colab_type": "code",
        "outputId": "c70bb678-6a67-441e-dca2-b6e46eac1644",
        "colab": {
          "base_uri": "https://localhost:8080/",
          "height": 35
        }
      },
      "source": [
        "# import packages\n",
        "\n",
        "import pandas as pd\n",
        "import numpy as np\n",
        "from scipy import stats\n",
        "import tensorflow as tf\n",
        "import matplotlib.pyplot as plt\n",
        "import seaborn as sns\n",
        "import pickle\n",
        "from sklearn.model_selection import train_test_split\n",
        "from sklearn.metrics import confusion_matrix, precision_recall_curve\n",
        "from sklearn.metrics import recall_score, classification_report, auc, roc_curve\n",
        "from sklearn.metrics import precision_recall_fscore_support, f1_score\n",
        "from sklearn.preprocessing import StandardScaler\n",
        "from pylab import rcParams\n",
        "from keras.models import Model, load_model\n",
        "from keras.layers import Input, Dense\n",
        "from keras.callbacks import ModelCheckpoint, TensorBoard\n",
        "from keras import regularizers\n",
        "%matplotlib inline\n",
        "\n"
      ],
      "execution_count": 1,
      "outputs": [
        {
          "output_type": "stream",
          "text": [
            "Using TensorFlow backend.\n"
          ],
          "name": "stderr"
        }
      ]
    },
    {
      "cell_type": "code",
      "metadata": {
        "id": "tjFPNn0wQW6_",
        "colab_type": "code",
        "colab": {
          "base_uri": "https://localhost:8080/",
          "height": 322
        },
        "outputId": "fbf3279b-d664-48b2-e7c9-19cedaad9436"
      },
      "source": [
        "# Laden der 600000 Transaktionsdaten \n",
        "trx_data_url = 'https://raw.githubusercontent.com/sakuronohana/cas_datenanalyse/master/Semesterarbeit/Dataset/trx_data_ml.csv'\n",
        "trx_data = pd.read_csv(trx_data_url, delimiter=';')\n",
        "\n",
        "print (trx_data.shape)\n",
        "trx_data.head()"
      ],
      "execution_count": 2,
      "outputs": [
        {
          "output_type": "stream",
          "text": [
            "(60000, 20)\n"
          ],
          "name": "stdout"
        },
        {
          "output_type": "execute_result",
          "data": {
            "text/plain": [
              "        timestamp   paym_id   send_bc_nr  amount    rcv_bc_nr  \\\n",
              "0  01.01.18 08:00  10000010  CHBANK71XXX   15368  JOBANK40XXX   \n",
              "1  01.01.18 08:00  10000011  CHBANK71XXX   89137  STBANK68XXX   \n",
              "2  01.01.18 08:01  10000012  CHBANK71XXX   87673  XKBANK43XXX   \n",
              "3  01.01.18 08:01  10000013  CHBANK71XXX   55941  RSBANK72XXX   \n",
              "4  01.01.18 08:02  10000014  CHBANK71XXX   88173  LIBANK48XXX   \n",
              "\n",
              "                      rcv_bc_iban         rcv_bc_country rcv_bc_code  \\\n",
              "0  JO02SCBL1260000000018525836101              Jordanien          JO   \n",
              "1       ST23000200000289355710148  Sao Tome und Principe          ST   \n",
              "2            XK051301001002074155                 Kosovo          XK   \n",
              "3          RS35105008054113238018                Serbien          RS   \n",
              "4           LI0308800000022875748          Liechtenstein          LI   \n",
              "\n",
              "              rcv_iban     valuta_date  cust_vertrag_nr  \\\n",
              "0  JO40002096331755419  01.01.18 08:00            76311   \n",
              "1  ST68002492808312214  01.01.18 20:00            69891   \n",
              "2  XK43002422391264290  02.01.18 08:01            78573   \n",
              "3  RS72002873180573624  02.01.18 20:01            75443   \n",
              "4  LI48002899580343897  03.01.18 08:02            73167   \n",
              "\n",
              "           cust_konto_nr  cust_vname cust_nname  cust_plz     cust_ort  \\\n",
              "0  CH5300772672529640195      Martin      Bader      6020  Emmenbrücke   \n",
              "1  CH5300772670061796126  Margaretha       Fehr      9056         Gais   \n",
              "2  CH5300772500037725234      Daniel   Miéville      1253  Vandoeuvres   \n",
              "3  CH5300772732508635138      Andrea      Iseni      6026         Rain   \n",
              "4  CH5300772640237288398      Andrea     Pinana      6693      Broglio   \n",
              "\n",
              "  cust_kanton cust_sprachregion cust_auth_device  fraud_id  \n",
              "0          LU                de             mtan         0  \n",
              "1          AR                de             ptan         0  \n",
              "2          GE                fr             ptan         0  \n",
              "3          LU                de             mtan         0  \n",
              "4          TI                it             mtan         0  "
            ],
            "text/html": [
              "<div>\n",
              "<style scoped>\n",
              "    .dataframe tbody tr th:only-of-type {\n",
              "        vertical-align: middle;\n",
              "    }\n",
              "\n",
              "    .dataframe tbody tr th {\n",
              "        vertical-align: top;\n",
              "    }\n",
              "\n",
              "    .dataframe thead th {\n",
              "        text-align: right;\n",
              "    }\n",
              "</style>\n",
              "<table border=\"1\" class=\"dataframe\">\n",
              "  <thead>\n",
              "    <tr style=\"text-align: right;\">\n",
              "      <th></th>\n",
              "      <th>timestamp</th>\n",
              "      <th>paym_id</th>\n",
              "      <th>send_bc_nr</th>\n",
              "      <th>amount</th>\n",
              "      <th>rcv_bc_nr</th>\n",
              "      <th>rcv_bc_iban</th>\n",
              "      <th>rcv_bc_country</th>\n",
              "      <th>rcv_bc_code</th>\n",
              "      <th>rcv_iban</th>\n",
              "      <th>valuta_date</th>\n",
              "      <th>cust_vertrag_nr</th>\n",
              "      <th>cust_konto_nr</th>\n",
              "      <th>cust_vname</th>\n",
              "      <th>cust_nname</th>\n",
              "      <th>cust_plz</th>\n",
              "      <th>cust_ort</th>\n",
              "      <th>cust_kanton</th>\n",
              "      <th>cust_sprachregion</th>\n",
              "      <th>cust_auth_device</th>\n",
              "      <th>fraud_id</th>\n",
              "    </tr>\n",
              "  </thead>\n",
              "  <tbody>\n",
              "    <tr>\n",
              "      <th>0</th>\n",
              "      <td>01.01.18 08:00</td>\n",
              "      <td>10000010</td>\n",
              "      <td>CHBANK71XXX</td>\n",
              "      <td>15368</td>\n",
              "      <td>JOBANK40XXX</td>\n",
              "      <td>JO02SCBL1260000000018525836101</td>\n",
              "      <td>Jordanien</td>\n",
              "      <td>JO</td>\n",
              "      <td>JO40002096331755419</td>\n",
              "      <td>01.01.18 08:00</td>\n",
              "      <td>76311</td>\n",
              "      <td>CH5300772672529640195</td>\n",
              "      <td>Martin</td>\n",
              "      <td>Bader</td>\n",
              "      <td>6020</td>\n",
              "      <td>Emmenbrücke</td>\n",
              "      <td>LU</td>\n",
              "      <td>de</td>\n",
              "      <td>mtan</td>\n",
              "      <td>0</td>\n",
              "    </tr>\n",
              "    <tr>\n",
              "      <th>1</th>\n",
              "      <td>01.01.18 08:00</td>\n",
              "      <td>10000011</td>\n",
              "      <td>CHBANK71XXX</td>\n",
              "      <td>89137</td>\n",
              "      <td>STBANK68XXX</td>\n",
              "      <td>ST23000200000289355710148</td>\n",
              "      <td>Sao Tome und Principe</td>\n",
              "      <td>ST</td>\n",
              "      <td>ST68002492808312214</td>\n",
              "      <td>01.01.18 20:00</td>\n",
              "      <td>69891</td>\n",
              "      <td>CH5300772670061796126</td>\n",
              "      <td>Margaretha</td>\n",
              "      <td>Fehr</td>\n",
              "      <td>9056</td>\n",
              "      <td>Gais</td>\n",
              "      <td>AR</td>\n",
              "      <td>de</td>\n",
              "      <td>ptan</td>\n",
              "      <td>0</td>\n",
              "    </tr>\n",
              "    <tr>\n",
              "      <th>2</th>\n",
              "      <td>01.01.18 08:01</td>\n",
              "      <td>10000012</td>\n",
              "      <td>CHBANK71XXX</td>\n",
              "      <td>87673</td>\n",
              "      <td>XKBANK43XXX</td>\n",
              "      <td>XK051301001002074155</td>\n",
              "      <td>Kosovo</td>\n",
              "      <td>XK</td>\n",
              "      <td>XK43002422391264290</td>\n",
              "      <td>02.01.18 08:01</td>\n",
              "      <td>78573</td>\n",
              "      <td>CH5300772500037725234</td>\n",
              "      <td>Daniel</td>\n",
              "      <td>Miéville</td>\n",
              "      <td>1253</td>\n",
              "      <td>Vandoeuvres</td>\n",
              "      <td>GE</td>\n",
              "      <td>fr</td>\n",
              "      <td>ptan</td>\n",
              "      <td>0</td>\n",
              "    </tr>\n",
              "    <tr>\n",
              "      <th>3</th>\n",
              "      <td>01.01.18 08:01</td>\n",
              "      <td>10000013</td>\n",
              "      <td>CHBANK71XXX</td>\n",
              "      <td>55941</td>\n",
              "      <td>RSBANK72XXX</td>\n",
              "      <td>RS35105008054113238018</td>\n",
              "      <td>Serbien</td>\n",
              "      <td>RS</td>\n",
              "      <td>RS72002873180573624</td>\n",
              "      <td>02.01.18 20:01</td>\n",
              "      <td>75443</td>\n",
              "      <td>CH5300772732508635138</td>\n",
              "      <td>Andrea</td>\n",
              "      <td>Iseni</td>\n",
              "      <td>6026</td>\n",
              "      <td>Rain</td>\n",
              "      <td>LU</td>\n",
              "      <td>de</td>\n",
              "      <td>mtan</td>\n",
              "      <td>0</td>\n",
              "    </tr>\n",
              "    <tr>\n",
              "      <th>4</th>\n",
              "      <td>01.01.18 08:02</td>\n",
              "      <td>10000014</td>\n",
              "      <td>CHBANK71XXX</td>\n",
              "      <td>88173</td>\n",
              "      <td>LIBANK48XXX</td>\n",
              "      <td>LI0308800000022875748</td>\n",
              "      <td>Liechtenstein</td>\n",
              "      <td>LI</td>\n",
              "      <td>LI48002899580343897</td>\n",
              "      <td>03.01.18 08:02</td>\n",
              "      <td>73167</td>\n",
              "      <td>CH5300772640237288398</td>\n",
              "      <td>Andrea</td>\n",
              "      <td>Pinana</td>\n",
              "      <td>6693</td>\n",
              "      <td>Broglio</td>\n",
              "      <td>TI</td>\n",
              "      <td>it</td>\n",
              "      <td>mtan</td>\n",
              "      <td>0</td>\n",
              "    </tr>\n",
              "  </tbody>\n",
              "</table>\n",
              "</div>"
            ]
          },
          "metadata": {
            "tags": []
          },
          "execution_count": 2
        }
      ]
    },
    {
      "cell_type": "markdown",
      "metadata": {
        "id": "RjQohIZplkAi",
        "colab_type": "text"
      },
      "source": [
        "###Reduktion des Datensatzes###\n",
        "\n",
        "Der Datensatz wird auf 10000 Daten reduziert, da die für die Semesterarbeit zur Verfügung stehende Infrastruktur über zuwenig Kapazitäten verfügt um die intensiven Rechenoperationen (Encoding, PCA, NN Training) durchzuführen.\n"
      ]
    },
    {
      "cell_type": "code",
      "metadata": {
        "id": "uSzG1YVhlVDk",
        "colab_type": "code",
        "colab": {
          "base_uri": "https://localhost:8080/",
          "height": 35
        },
        "outputId": "d62aa769-f570-4ac3-ae38-71ae762aacf3"
      },
      "source": [
        "# Reduktion des Datensatzes auf 10000 \n",
        "\n",
        "trx_data = trx_data.sample(frac=0.34)\n",
        "trx_data.shape"
      ],
      "execution_count": 3,
      "outputs": [
        {
          "output_type": "execute_result",
          "data": {
            "text/plain": [
              "(20400, 20)"
            ]
          },
          "metadata": {
            "tags": []
          },
          "execution_count": 3
        }
      ]
    },
    {
      "cell_type": "code",
      "metadata": {
        "id": "hXnzVXY4nz3f",
        "colab_type": "code",
        "colab": {
          "base_uri": "https://localhost:8080/",
          "height": 69
        },
        "outputId": "569ff5ae-aed1-4ebe-b122-c444d284b0c6"
      },
      "source": [
        "# Verhältnis zwischen Gesamtdatensatz und Fraud-Daten prüfen\n",
        "# Fraud-Zahlungen haben Wert 1 (Label = fraud_id)\n",
        "\n",
        "pd.value_counts(trx_data['fraud_id'], sort = True)"
      ],
      "execution_count": 4,
      "outputs": [
        {
          "output_type": "execute_result",
          "data": {
            "text/plain": [
              "0    19517\n",
              "1      883\n",
              "Name: fraud_id, dtype: int64"
            ]
          },
          "metadata": {
            "tags": []
          },
          "execution_count": 4
        }
      ]
    },
    {
      "cell_type": "code",
      "metadata": {
        "id": "AAMF1GtqQZKg",
        "colab_type": "code",
        "colab": {
          "base_uri": "https://localhost:8080/",
          "height": 598
        },
        "outputId": "4093cb5d-b20d-4bd8-81b0-8fc09c7e1fd5"
      },
      "source": [
        "# Kleine Bereinigungsarbeiten\n",
        "\n",
        "# Erstellung von Datensatz mit benötigen Merkmalen\n",
        "\n",
        "features = ['send_bc_nr','amount','rcv_bc_nr', \n",
        "            'rcv_bc_iban','rcv_bc_country','rcv_bc_code','rcv_iban',\n",
        "            'valuta_date','cust_vertrag_nr','cust_konto_nr','cust_plz','cust_ort',\n",
        "            'cust_kanton','cust_sprachregion','cust_auth_device','fraud_id'] \n",
        "\n",
        "trx_data = pd.DataFrame((trx_data.loc[:, features].values),columns=[features])\n",
        "\n",
        "# Umwandlung von offensichtlichen nummerische werten in Integers\n",
        "#trx_data['amount'] = trx_data['amount'].convert_objects(convert_numeric=True)\n",
        "#trx_data['cust_vertrag_nr'] = trx_data['cust_vertrag_nr'].convert_objects(convert_numeric=True)\n",
        "#trx_data['cust_plz'] = trx_data['cust_plz'].convert_objects(convert_numeric=True)\n",
        "\n",
        "#Suche des Datensatzes nach Null-Werten\n",
        "trx_data.isnull().values.sum()\n",
        "\n",
        "print(trx_data.dtypes)\n",
        "trx_data.head()"
      ],
      "execution_count": 5,
      "outputs": [
        {
          "output_type": "stream",
          "text": [
            "send_bc_nr           object\n",
            "amount               object\n",
            "rcv_bc_nr            object\n",
            "rcv_bc_iban          object\n",
            "rcv_bc_country       object\n",
            "rcv_bc_code          object\n",
            "rcv_iban             object\n",
            "valuta_date          object\n",
            "cust_vertrag_nr      object\n",
            "cust_konto_nr        object\n",
            "cust_plz             object\n",
            "cust_ort             object\n",
            "cust_kanton          object\n",
            "cust_sprachregion    object\n",
            "cust_auth_device     object\n",
            "fraud_id             object\n",
            "dtype: object\n"
          ],
          "name": "stdout"
        },
        {
          "output_type": "execute_result",
          "data": {
            "text/plain": [
              "    send_bc_nr amount    rcv_bc_nr                    rcv_bc_iban  \\\n",
              "0  CHBANK71XXX  48671  GLBANK32XXX             GL2664710001504964   \n",
              "1  CHBANK71XXX  17857  AEBANK83XXX        AE020090004001079346500   \n",
              "2  CHBANK71XXX  93206  PKBANK61XXX       PK02SCBL0000001925518401   \n",
              "3  CHBANK71XXX  37027  CZBANK79XXX       CZ0201000000199216760237   \n",
              "4  CHBANK71XXX  14946  PSBANK62XXX  PS06ARAB000000009040781605610   \n",
              "\n",
              "                 rcv_bc_country rcv_bc_code             rcv_iban  \\\n",
              "0                      Grönland          GL  GL32002613168342195   \n",
              "1  Vereinigte Arabische Emirate          AE  AE83002878995200146   \n",
              "2                      Pakistan          PK  PK61002589491451064   \n",
              "3                    Tschechien          CZ  CZ79002097367856088   \n",
              "4                     Palästina          PS  PS62002185047371497   \n",
              "\n",
              "      valuta_date cust_vertrag_nr          cust_konto_nr cust_plz  \\\n",
              "0  21.02.60 00:20           66924  CH5300772486098109628     6105   \n",
              "1  23.07.52 02:13           80106  CH5300772632872145624     6102   \n",
              "2  08.07.20 23:19           74928  CH5300772590456720155     6234   \n",
              "3  14.04.77 20:38           69760  CH5300772157447219770     3185   \n",
              "4  19.04.86 03:27           79737  CH5300772990903293339     6110   \n",
              "\n",
              "       cust_ort cust_kanton cust_sprachregion cust_auth_device fraud_id  \n",
              "0   Schachen LU          LU                de             mtan        1  \n",
              "1       Malters          LU                de             ptan        0  \n",
              "2      Triengen          LU                de             mtan        0  \n",
              "3  Schmitten FR          FR                de             ptan        0  \n",
              "4      Wolhusen          LU                de             mtan        0  "
            ],
            "text/html": [
              "<div>\n",
              "<style scoped>\n",
              "    .dataframe tbody tr th:only-of-type {\n",
              "        vertical-align: middle;\n",
              "    }\n",
              "\n",
              "    .dataframe tbody tr th {\n",
              "        vertical-align: top;\n",
              "    }\n",
              "\n",
              "    .dataframe thead tr th {\n",
              "        text-align: left;\n",
              "    }\n",
              "</style>\n",
              "<table border=\"1\" class=\"dataframe\">\n",
              "  <thead>\n",
              "    <tr>\n",
              "      <th></th>\n",
              "      <th>send_bc_nr</th>\n",
              "      <th>amount</th>\n",
              "      <th>rcv_bc_nr</th>\n",
              "      <th>rcv_bc_iban</th>\n",
              "      <th>rcv_bc_country</th>\n",
              "      <th>rcv_bc_code</th>\n",
              "      <th>rcv_iban</th>\n",
              "      <th>valuta_date</th>\n",
              "      <th>cust_vertrag_nr</th>\n",
              "      <th>cust_konto_nr</th>\n",
              "      <th>cust_plz</th>\n",
              "      <th>cust_ort</th>\n",
              "      <th>cust_kanton</th>\n",
              "      <th>cust_sprachregion</th>\n",
              "      <th>cust_auth_device</th>\n",
              "      <th>fraud_id</th>\n",
              "    </tr>\n",
              "  </thead>\n",
              "  <tbody>\n",
              "    <tr>\n",
              "      <th>0</th>\n",
              "      <td>CHBANK71XXX</td>\n",
              "      <td>48671</td>\n",
              "      <td>GLBANK32XXX</td>\n",
              "      <td>GL2664710001504964</td>\n",
              "      <td>Grönland</td>\n",
              "      <td>GL</td>\n",
              "      <td>GL32002613168342195</td>\n",
              "      <td>21.02.60 00:20</td>\n",
              "      <td>66924</td>\n",
              "      <td>CH5300772486098109628</td>\n",
              "      <td>6105</td>\n",
              "      <td>Schachen LU</td>\n",
              "      <td>LU</td>\n",
              "      <td>de</td>\n",
              "      <td>mtan</td>\n",
              "      <td>1</td>\n",
              "    </tr>\n",
              "    <tr>\n",
              "      <th>1</th>\n",
              "      <td>CHBANK71XXX</td>\n",
              "      <td>17857</td>\n",
              "      <td>AEBANK83XXX</td>\n",
              "      <td>AE020090004001079346500</td>\n",
              "      <td>Vereinigte Arabische Emirate</td>\n",
              "      <td>AE</td>\n",
              "      <td>AE83002878995200146</td>\n",
              "      <td>23.07.52 02:13</td>\n",
              "      <td>80106</td>\n",
              "      <td>CH5300772632872145624</td>\n",
              "      <td>6102</td>\n",
              "      <td>Malters</td>\n",
              "      <td>LU</td>\n",
              "      <td>de</td>\n",
              "      <td>ptan</td>\n",
              "      <td>0</td>\n",
              "    </tr>\n",
              "    <tr>\n",
              "      <th>2</th>\n",
              "      <td>CHBANK71XXX</td>\n",
              "      <td>93206</td>\n",
              "      <td>PKBANK61XXX</td>\n",
              "      <td>PK02SCBL0000001925518401</td>\n",
              "      <td>Pakistan</td>\n",
              "      <td>PK</td>\n",
              "      <td>PK61002589491451064</td>\n",
              "      <td>08.07.20 23:19</td>\n",
              "      <td>74928</td>\n",
              "      <td>CH5300772590456720155</td>\n",
              "      <td>6234</td>\n",
              "      <td>Triengen</td>\n",
              "      <td>LU</td>\n",
              "      <td>de</td>\n",
              "      <td>mtan</td>\n",
              "      <td>0</td>\n",
              "    </tr>\n",
              "    <tr>\n",
              "      <th>3</th>\n",
              "      <td>CHBANK71XXX</td>\n",
              "      <td>37027</td>\n",
              "      <td>CZBANK79XXX</td>\n",
              "      <td>CZ0201000000199216760237</td>\n",
              "      <td>Tschechien</td>\n",
              "      <td>CZ</td>\n",
              "      <td>CZ79002097367856088</td>\n",
              "      <td>14.04.77 20:38</td>\n",
              "      <td>69760</td>\n",
              "      <td>CH5300772157447219770</td>\n",
              "      <td>3185</td>\n",
              "      <td>Schmitten FR</td>\n",
              "      <td>FR</td>\n",
              "      <td>de</td>\n",
              "      <td>ptan</td>\n",
              "      <td>0</td>\n",
              "    </tr>\n",
              "    <tr>\n",
              "      <th>4</th>\n",
              "      <td>CHBANK71XXX</td>\n",
              "      <td>14946</td>\n",
              "      <td>PSBANK62XXX</td>\n",
              "      <td>PS06ARAB000000009040781605610</td>\n",
              "      <td>Palästina</td>\n",
              "      <td>PS</td>\n",
              "      <td>PS62002185047371497</td>\n",
              "      <td>19.04.86 03:27</td>\n",
              "      <td>79737</td>\n",
              "      <td>CH5300772990903293339</td>\n",
              "      <td>6110</td>\n",
              "      <td>Wolhusen</td>\n",
              "      <td>LU</td>\n",
              "      <td>de</td>\n",
              "      <td>mtan</td>\n",
              "      <td>0</td>\n",
              "    </tr>\n",
              "  </tbody>\n",
              "</table>\n",
              "</div>"
            ]
          },
          "metadata": {
            "tags": []
          },
          "execution_count": 5
        }
      ]
    },
    {
      "cell_type": "code",
      "metadata": {
        "id": "58LKttDap8j4",
        "colab_type": "code",
        "colab": {
          "base_uri": "https://localhost:8080/",
          "height": 322
        },
        "outputId": "1d2074dc-3f58-44cd-c30f-68208af33f50"
      },
      "source": [
        "# Erstellung Datensatz mit Label für Supervised Learning wobei\n",
        "\n",
        "tdm = trx_data\n",
        "\n",
        "print (tdm.shape)\n",
        "tdm.head()"
      ],
      "execution_count": 6,
      "outputs": [
        {
          "output_type": "stream",
          "text": [
            "(20400, 16)\n"
          ],
          "name": "stdout"
        },
        {
          "output_type": "execute_result",
          "data": {
            "text/plain": [
              "    send_bc_nr amount    rcv_bc_nr                    rcv_bc_iban  \\\n",
              "0  CHBANK71XXX  48671  GLBANK32XXX             GL2664710001504964   \n",
              "1  CHBANK71XXX  17857  AEBANK83XXX        AE020090004001079346500   \n",
              "2  CHBANK71XXX  93206  PKBANK61XXX       PK02SCBL0000001925518401   \n",
              "3  CHBANK71XXX  37027  CZBANK79XXX       CZ0201000000199216760237   \n",
              "4  CHBANK71XXX  14946  PSBANK62XXX  PS06ARAB000000009040781605610   \n",
              "\n",
              "                 rcv_bc_country rcv_bc_code             rcv_iban  \\\n",
              "0                      Grönland          GL  GL32002613168342195   \n",
              "1  Vereinigte Arabische Emirate          AE  AE83002878995200146   \n",
              "2                      Pakistan          PK  PK61002589491451064   \n",
              "3                    Tschechien          CZ  CZ79002097367856088   \n",
              "4                     Palästina          PS  PS62002185047371497   \n",
              "\n",
              "      valuta_date cust_vertrag_nr          cust_konto_nr cust_plz  \\\n",
              "0  21.02.60 00:20           66924  CH5300772486098109628     6105   \n",
              "1  23.07.52 02:13           80106  CH5300772632872145624     6102   \n",
              "2  08.07.20 23:19           74928  CH5300772590456720155     6234   \n",
              "3  14.04.77 20:38           69760  CH5300772157447219770     3185   \n",
              "4  19.04.86 03:27           79737  CH5300772990903293339     6110   \n",
              "\n",
              "       cust_ort cust_kanton cust_sprachregion cust_auth_device fraud_id  \n",
              "0   Schachen LU          LU                de             mtan        1  \n",
              "1       Malters          LU                de             ptan        0  \n",
              "2      Triengen          LU                de             mtan        0  \n",
              "3  Schmitten FR          FR                de             ptan        0  \n",
              "4      Wolhusen          LU                de             mtan        0  "
            ],
            "text/html": [
              "<div>\n",
              "<style scoped>\n",
              "    .dataframe tbody tr th:only-of-type {\n",
              "        vertical-align: middle;\n",
              "    }\n",
              "\n",
              "    .dataframe tbody tr th {\n",
              "        vertical-align: top;\n",
              "    }\n",
              "\n",
              "    .dataframe thead tr th {\n",
              "        text-align: left;\n",
              "    }\n",
              "</style>\n",
              "<table border=\"1\" class=\"dataframe\">\n",
              "  <thead>\n",
              "    <tr>\n",
              "      <th></th>\n",
              "      <th>send_bc_nr</th>\n",
              "      <th>amount</th>\n",
              "      <th>rcv_bc_nr</th>\n",
              "      <th>rcv_bc_iban</th>\n",
              "      <th>rcv_bc_country</th>\n",
              "      <th>rcv_bc_code</th>\n",
              "      <th>rcv_iban</th>\n",
              "      <th>valuta_date</th>\n",
              "      <th>cust_vertrag_nr</th>\n",
              "      <th>cust_konto_nr</th>\n",
              "      <th>cust_plz</th>\n",
              "      <th>cust_ort</th>\n",
              "      <th>cust_kanton</th>\n",
              "      <th>cust_sprachregion</th>\n",
              "      <th>cust_auth_device</th>\n",
              "      <th>fraud_id</th>\n",
              "    </tr>\n",
              "  </thead>\n",
              "  <tbody>\n",
              "    <tr>\n",
              "      <th>0</th>\n",
              "      <td>CHBANK71XXX</td>\n",
              "      <td>48671</td>\n",
              "      <td>GLBANK32XXX</td>\n",
              "      <td>GL2664710001504964</td>\n",
              "      <td>Grönland</td>\n",
              "      <td>GL</td>\n",
              "      <td>GL32002613168342195</td>\n",
              "      <td>21.02.60 00:20</td>\n",
              "      <td>66924</td>\n",
              "      <td>CH5300772486098109628</td>\n",
              "      <td>6105</td>\n",
              "      <td>Schachen LU</td>\n",
              "      <td>LU</td>\n",
              "      <td>de</td>\n",
              "      <td>mtan</td>\n",
              "      <td>1</td>\n",
              "    </tr>\n",
              "    <tr>\n",
              "      <th>1</th>\n",
              "      <td>CHBANK71XXX</td>\n",
              "      <td>17857</td>\n",
              "      <td>AEBANK83XXX</td>\n",
              "      <td>AE020090004001079346500</td>\n",
              "      <td>Vereinigte Arabische Emirate</td>\n",
              "      <td>AE</td>\n",
              "      <td>AE83002878995200146</td>\n",
              "      <td>23.07.52 02:13</td>\n",
              "      <td>80106</td>\n",
              "      <td>CH5300772632872145624</td>\n",
              "      <td>6102</td>\n",
              "      <td>Malters</td>\n",
              "      <td>LU</td>\n",
              "      <td>de</td>\n",
              "      <td>ptan</td>\n",
              "      <td>0</td>\n",
              "    </tr>\n",
              "    <tr>\n",
              "      <th>2</th>\n",
              "      <td>CHBANK71XXX</td>\n",
              "      <td>93206</td>\n",
              "      <td>PKBANK61XXX</td>\n",
              "      <td>PK02SCBL0000001925518401</td>\n",
              "      <td>Pakistan</td>\n",
              "      <td>PK</td>\n",
              "      <td>PK61002589491451064</td>\n",
              "      <td>08.07.20 23:19</td>\n",
              "      <td>74928</td>\n",
              "      <td>CH5300772590456720155</td>\n",
              "      <td>6234</td>\n",
              "      <td>Triengen</td>\n",
              "      <td>LU</td>\n",
              "      <td>de</td>\n",
              "      <td>mtan</td>\n",
              "      <td>0</td>\n",
              "    </tr>\n",
              "    <tr>\n",
              "      <th>3</th>\n",
              "      <td>CHBANK71XXX</td>\n",
              "      <td>37027</td>\n",
              "      <td>CZBANK79XXX</td>\n",
              "      <td>CZ0201000000199216760237</td>\n",
              "      <td>Tschechien</td>\n",
              "      <td>CZ</td>\n",
              "      <td>CZ79002097367856088</td>\n",
              "      <td>14.04.77 20:38</td>\n",
              "      <td>69760</td>\n",
              "      <td>CH5300772157447219770</td>\n",
              "      <td>3185</td>\n",
              "      <td>Schmitten FR</td>\n",
              "      <td>FR</td>\n",
              "      <td>de</td>\n",
              "      <td>ptan</td>\n",
              "      <td>0</td>\n",
              "    </tr>\n",
              "    <tr>\n",
              "      <th>4</th>\n",
              "      <td>CHBANK71XXX</td>\n",
              "      <td>14946</td>\n",
              "      <td>PSBANK62XXX</td>\n",
              "      <td>PS06ARAB000000009040781605610</td>\n",
              "      <td>Palästina</td>\n",
              "      <td>PS</td>\n",
              "      <td>PS62002185047371497</td>\n",
              "      <td>19.04.86 03:27</td>\n",
              "      <td>79737</td>\n",
              "      <td>CH5300772990903293339</td>\n",
              "      <td>6110</td>\n",
              "      <td>Wolhusen</td>\n",
              "      <td>LU</td>\n",
              "      <td>de</td>\n",
              "      <td>mtan</td>\n",
              "      <td>0</td>\n",
              "    </tr>\n",
              "  </tbody>\n",
              "</table>\n",
              "</div>"
            ]
          },
          "metadata": {
            "tags": []
          },
          "execution_count": 6
        }
      ]
    },
    {
      "cell_type": "code",
      "metadata": {
        "id": "lIzDI6k_qQ10",
        "colab_type": "code",
        "colab": {
          "base_uri": "https://localhost:8080/",
          "height": 598
        },
        "outputId": "5698d3b3-94d3-41ee-f092-ce84e4977cde"
      },
      "source": [
        "# Erstellung Datensatz ohne Label (fraud_id) für Unsupervised Learning\n",
        "\n",
        "features = ['send_bc_nr','amount','rcv_bc_nr', \n",
        "            'rcv_bc_iban','rcv_bc_country','rcv_bc_code','rcv_iban',\n",
        "            'valuta_date','cust_vertrag_nr','cust_konto_nr','cust_plz','cust_ort',\n",
        "            'cust_kanton','cust_sprachregion','cust_auth_device'] \n",
        "\n",
        "tdo = pd.DataFrame((trx_data.loc[:, features].values),columns=[features])\n",
        "\n",
        "# Umwandlung von offensichtlichen nummerische werten in Integers\n",
        "#tdo['amount'] = tdo['amount'].convert_objects(convert_numeric=True)\n",
        "#tdo['cust_vertrag_nr'] = tdo['cust_vertrag_nr'].convert_objects(convert_numeric=True)\n",
        "#tdo['cust_plz'] = tdo['cust_plz'].convert_objects(convert_numeric=True)\n",
        "\n",
        "print (tdo.shape)\n",
        "print (tdo.dtypes)\n",
        "tdo.head()\n",
        "\n"
      ],
      "execution_count": 7,
      "outputs": [
        {
          "output_type": "stream",
          "text": [
            "(20400, 15)\n",
            "send_bc_nr           object\n",
            "amount               object\n",
            "rcv_bc_nr            object\n",
            "rcv_bc_iban          object\n",
            "rcv_bc_country       object\n",
            "rcv_bc_code          object\n",
            "rcv_iban             object\n",
            "valuta_date          object\n",
            "cust_vertrag_nr      object\n",
            "cust_konto_nr        object\n",
            "cust_plz             object\n",
            "cust_ort             object\n",
            "cust_kanton          object\n",
            "cust_sprachregion    object\n",
            "cust_auth_device     object\n",
            "dtype: object\n"
          ],
          "name": "stdout"
        },
        {
          "output_type": "execute_result",
          "data": {
            "text/plain": [
              "    send_bc_nr amount    rcv_bc_nr                    rcv_bc_iban  \\\n",
              "0  CHBANK71XXX  48671  GLBANK32XXX             GL2664710001504964   \n",
              "1  CHBANK71XXX  17857  AEBANK83XXX        AE020090004001079346500   \n",
              "2  CHBANK71XXX  93206  PKBANK61XXX       PK02SCBL0000001925518401   \n",
              "3  CHBANK71XXX  37027  CZBANK79XXX       CZ0201000000199216760237   \n",
              "4  CHBANK71XXX  14946  PSBANK62XXX  PS06ARAB000000009040781605610   \n",
              "\n",
              "                 rcv_bc_country rcv_bc_code             rcv_iban  \\\n",
              "0                      Grönland          GL  GL32002613168342195   \n",
              "1  Vereinigte Arabische Emirate          AE  AE83002878995200146   \n",
              "2                      Pakistan          PK  PK61002589491451064   \n",
              "3                    Tschechien          CZ  CZ79002097367856088   \n",
              "4                     Palästina          PS  PS62002185047371497   \n",
              "\n",
              "      valuta_date cust_vertrag_nr          cust_konto_nr cust_plz  \\\n",
              "0  21.02.60 00:20           66924  CH5300772486098109628     6105   \n",
              "1  23.07.52 02:13           80106  CH5300772632872145624     6102   \n",
              "2  08.07.20 23:19           74928  CH5300772590456720155     6234   \n",
              "3  14.04.77 20:38           69760  CH5300772157447219770     3185   \n",
              "4  19.04.86 03:27           79737  CH5300772990903293339     6110   \n",
              "\n",
              "       cust_ort cust_kanton cust_sprachregion cust_auth_device  \n",
              "0   Schachen LU          LU                de             mtan  \n",
              "1       Malters          LU                de             ptan  \n",
              "2      Triengen          LU                de             mtan  \n",
              "3  Schmitten FR          FR                de             ptan  \n",
              "4      Wolhusen          LU                de             mtan  "
            ],
            "text/html": [
              "<div>\n",
              "<style scoped>\n",
              "    .dataframe tbody tr th:only-of-type {\n",
              "        vertical-align: middle;\n",
              "    }\n",
              "\n",
              "    .dataframe tbody tr th {\n",
              "        vertical-align: top;\n",
              "    }\n",
              "\n",
              "    .dataframe thead tr th {\n",
              "        text-align: left;\n",
              "    }\n",
              "</style>\n",
              "<table border=\"1\" class=\"dataframe\">\n",
              "  <thead>\n",
              "    <tr>\n",
              "      <th></th>\n",
              "      <th>send_bc_nr</th>\n",
              "      <th>amount</th>\n",
              "      <th>rcv_bc_nr</th>\n",
              "      <th>rcv_bc_iban</th>\n",
              "      <th>rcv_bc_country</th>\n",
              "      <th>rcv_bc_code</th>\n",
              "      <th>rcv_iban</th>\n",
              "      <th>valuta_date</th>\n",
              "      <th>cust_vertrag_nr</th>\n",
              "      <th>cust_konto_nr</th>\n",
              "      <th>cust_plz</th>\n",
              "      <th>cust_ort</th>\n",
              "      <th>cust_kanton</th>\n",
              "      <th>cust_sprachregion</th>\n",
              "      <th>cust_auth_device</th>\n",
              "    </tr>\n",
              "  </thead>\n",
              "  <tbody>\n",
              "    <tr>\n",
              "      <th>0</th>\n",
              "      <td>CHBANK71XXX</td>\n",
              "      <td>48671</td>\n",
              "      <td>GLBANK32XXX</td>\n",
              "      <td>GL2664710001504964</td>\n",
              "      <td>Grönland</td>\n",
              "      <td>GL</td>\n",
              "      <td>GL32002613168342195</td>\n",
              "      <td>21.02.60 00:20</td>\n",
              "      <td>66924</td>\n",
              "      <td>CH5300772486098109628</td>\n",
              "      <td>6105</td>\n",
              "      <td>Schachen LU</td>\n",
              "      <td>LU</td>\n",
              "      <td>de</td>\n",
              "      <td>mtan</td>\n",
              "    </tr>\n",
              "    <tr>\n",
              "      <th>1</th>\n",
              "      <td>CHBANK71XXX</td>\n",
              "      <td>17857</td>\n",
              "      <td>AEBANK83XXX</td>\n",
              "      <td>AE020090004001079346500</td>\n",
              "      <td>Vereinigte Arabische Emirate</td>\n",
              "      <td>AE</td>\n",
              "      <td>AE83002878995200146</td>\n",
              "      <td>23.07.52 02:13</td>\n",
              "      <td>80106</td>\n",
              "      <td>CH5300772632872145624</td>\n",
              "      <td>6102</td>\n",
              "      <td>Malters</td>\n",
              "      <td>LU</td>\n",
              "      <td>de</td>\n",
              "      <td>ptan</td>\n",
              "    </tr>\n",
              "    <tr>\n",
              "      <th>2</th>\n",
              "      <td>CHBANK71XXX</td>\n",
              "      <td>93206</td>\n",
              "      <td>PKBANK61XXX</td>\n",
              "      <td>PK02SCBL0000001925518401</td>\n",
              "      <td>Pakistan</td>\n",
              "      <td>PK</td>\n",
              "      <td>PK61002589491451064</td>\n",
              "      <td>08.07.20 23:19</td>\n",
              "      <td>74928</td>\n",
              "      <td>CH5300772590456720155</td>\n",
              "      <td>6234</td>\n",
              "      <td>Triengen</td>\n",
              "      <td>LU</td>\n",
              "      <td>de</td>\n",
              "      <td>mtan</td>\n",
              "    </tr>\n",
              "    <tr>\n",
              "      <th>3</th>\n",
              "      <td>CHBANK71XXX</td>\n",
              "      <td>37027</td>\n",
              "      <td>CZBANK79XXX</td>\n",
              "      <td>CZ0201000000199216760237</td>\n",
              "      <td>Tschechien</td>\n",
              "      <td>CZ</td>\n",
              "      <td>CZ79002097367856088</td>\n",
              "      <td>14.04.77 20:38</td>\n",
              "      <td>69760</td>\n",
              "      <td>CH5300772157447219770</td>\n",
              "      <td>3185</td>\n",
              "      <td>Schmitten FR</td>\n",
              "      <td>FR</td>\n",
              "      <td>de</td>\n",
              "      <td>ptan</td>\n",
              "    </tr>\n",
              "    <tr>\n",
              "      <th>4</th>\n",
              "      <td>CHBANK71XXX</td>\n",
              "      <td>14946</td>\n",
              "      <td>PSBANK62XXX</td>\n",
              "      <td>PS06ARAB000000009040781605610</td>\n",
              "      <td>Palästina</td>\n",
              "      <td>PS</td>\n",
              "      <td>PS62002185047371497</td>\n",
              "      <td>19.04.86 03:27</td>\n",
              "      <td>79737</td>\n",
              "      <td>CH5300772990903293339</td>\n",
              "      <td>6110</td>\n",
              "      <td>Wolhusen</td>\n",
              "      <td>LU</td>\n",
              "      <td>de</td>\n",
              "      <td>mtan</td>\n",
              "    </tr>\n",
              "  </tbody>\n",
              "</table>\n",
              "</div>"
            ]
          },
          "metadata": {
            "tags": []
          },
          "execution_count": 7
        }
      ]
    },
    {
      "cell_type": "code",
      "metadata": {
        "id": "1JJT0VCeNyv5",
        "colab_type": "code",
        "colab": {}
      },
      "source": [
        "tdo.dropna(inplace=True)"
      ],
      "execution_count": 0,
      "outputs": []
    },
    {
      "cell_type": "markdown",
      "metadata": {
        "id": "TmODZafznm1I",
        "colab_type": "text"
      },
      "source": [
        "##Vorbereitung für Datenverarbeitung ##"
      ]
    },
    {
      "cell_type": "markdown",
      "metadata": {
        "id": "hBkBB-QLYE35",
        "colab_type": "text"
      },
      "source": [
        "###Encoding der Daten###\n",
        "\n",
        "Die importierten Daten werden als Object bzw. kategorische Daten ausgewiesen. Damit die Daten im Maschine Learning verwendet werden können müssen sie in nummerische Daten umgewandelt werden. Was natürlch nicht so ganz einfach ist wie es sich anhört, da eine hohe Anzahl von kategorischen Werten in einem Datensatz bei der Encodierung zu einer Vervielfachung der Features führt. \n",
        "Hat Beispielsweise eine Features 300 verschiedene Werte, dann entstehen bei der Encodierung auch 300 Features (Spalten)."
      ]
    },
    {
      "cell_type": "code",
      "metadata": {
        "id": "D2GAbTbYoRZ6",
        "colab_type": "code",
        "colab": {}
      },
      "source": [
        "# Encoding mittels Get_Dummies von Pandas.\n",
        "tdoe = pd.get_dummies(tdo, columns=['send_bc_nr','rcv_bc_nr', \n",
        "            'rcv_bc_iban','rcv_bc_country','rcv_bc_code','rcv_iban',\n",
        "            'valuta_date','cust_konto_nr','cust_ort',\n",
        "            'cust_kanton','cust_sprachregion','cust_auth_device'],drop_first=True)\n",
        "                            \n",
        "\n",
        "\n",
        "tdoe.head()"
      ],
      "execution_count": 0,
      "outputs": []
    },
    {
      "cell_type": "markdown",
      "metadata": {
        "id": "nQcTNfjYIME8",
        "colab_type": "text"
      },
      "source": [
        "**Datensatz in Trainings- und Testingdatensatz aufteilen 80/20**\n",
        "\n",
        "Trainingsdatensatz  = 16320\n",
        "Testdatensatz = 4080"
      ]
    },
    {
      "cell_type": "code",
      "metadata": {
        "id": "2Qp0gsmF9fN0",
        "colab_type": "code",
        "colab": {
          "base_uri": "https://localhost:8080/",
          "height": 52
        },
        "outputId": "b73255cb-7e8e-46c5-db0b-4597fd32d6c7"
      },
      "source": [
        "from sklearn.model_selection import train_test_split\n",
        "tdoe_train, tdoe_test = train_test_split(tdoe,test_size=0.2, random_state = 70)\n",
        "\n",
        "print ('Grösse Trainingsdatesatz (Shape) = ', tdoe_train.shape)\n",
        "print ('Grösse Testdatensatz (Shape) =', tdoe_test.shape)"
      ],
      "execution_count": 44,
      "outputs": [
        {
          "output_type": "stream",
          "text": [
            "Grösse Trainingsdatesatz (Shape) =  (16320, 56132)\n",
            "Grösse Testdatensatz (Shape) = (4080, 56132)\n"
          ],
          "name": "stdout"
        }
      ]
    },
    {
      "cell_type": "markdown",
      "metadata": {
        "id": "83xNdxJPnPAk",
        "colab_type": "text"
      },
      "source": [
        "###Standardisierung der Daten###\n",
        "\n",
        "Zur optimalen Verwendung der Daten für ein Neuronales Netzwerk werden die Daten in ein einheitliches Format gebracht."
      ]
    },
    {
      "cell_type": "code",
      "metadata": {
        "id": "gkTWy6vtvqhd",
        "colab_type": "code",
        "colab": {
          "base_uri": "https://localhost:8080/",
          "height": 175
        },
        "outputId": "8caaceb5-55d9-4734-d1d3-df6615f25f8d"
      },
      "source": [
        "tdoe_train = StandardScaler().fit_transform(tdoe_train.values.reshape(-1, 1))\n",
        "tdoe_test = StandardScaler().fit_transform(tdoe_test.values.reshape(-1, 1))"
      ],
      "execution_count": 46,
      "outputs": [
        {
          "output_type": "stream",
          "text": [
            "/Users/dili/anaconda3/lib/python3.6/site-packages/sklearn/utils/validation.py:595: DataConversionWarning: Data with input dtype object was converted to float64 by StandardScaler.\n",
            "  warnings.warn(msg, DataConversionWarning)\n",
            "/Users/dili/anaconda3/lib/python3.6/site-packages/sklearn/utils/validation.py:595: DataConversionWarning: Data with input dtype object was converted to float64 by StandardScaler.\n",
            "  warnings.warn(msg, DataConversionWarning)\n",
            "/Users/dili/anaconda3/lib/python3.6/site-packages/sklearn/utils/validation.py:595: DataConversionWarning: Data with input dtype object was converted to float64 by StandardScaler.\n",
            "  warnings.warn(msg, DataConversionWarning)\n",
            "/Users/dili/anaconda3/lib/python3.6/site-packages/sklearn/utils/validation.py:595: DataConversionWarning: Data with input dtype object was converted to float64 by StandardScaler.\n",
            "  warnings.warn(msg, DataConversionWarning)\n"
          ],
          "name": "stderr"
        }
      ]
    },
    {
      "cell_type": "code",
      "metadata": {
        "id": "MdkcZPWRy-pV",
        "colab_type": "code",
        "colab": {}
      },
      "source": [
        "from sklearn.decomposition import PCA\n",
        "\n",
        "pca = PCA(.95)\n",
        "\n"
      ],
      "execution_count": 0,
      "outputs": []
    },
    {
      "cell_type": "code",
      "metadata": {
        "id": "9cQLSvMAE9Oj",
        "colab_type": "code",
        "colab": {
          "base_uri": "https://localhost:8080/",
          "height": 72
        },
        "outputId": "af6c7ccd-3578-4c7e-95b0-c00046702bd9"
      },
      "source": [
        "pca.fit(tdoe_train,tdoe_test)\n"
      ],
      "execution_count": 53,
      "outputs": [
        {
          "output_type": "execute_result",
          "data": {
            "text/plain": [
              "PCA(copy=True, iterated_power='auto', n_components=0.95, random_state=None,\n",
              "  svd_solver='auto', tol=0.0, whiten=False)"
            ]
          },
          "metadata": {
            "tags": []
          },
          "execution_count": 53
        }
      ]
    },
    {
      "cell_type": "code",
      "metadata": {
        "id": "b-Fpxwmk0FR9",
        "colab_type": "code",
        "colab": {}
      },
      "source": [
        "tdoesp_train = pca.transform(tdoe_train)\n",
        "tdoesp_test = pca.transform(tdoe_test)"
      ],
      "execution_count": 0,
      "outputs": []
    },
    {
      "cell_type": "code",
      "metadata": {
        "id": "4IZgmlLX-71t",
        "colab_type": "code",
        "colab": {
          "base_uri": "https://localhost:8080/",
          "height": 52
        },
        "outputId": "f7f0da15-f9fa-45ee-d52f-97457cae8042"
      },
      "source": [
        "print (tdoesp_train.shape)\n",
        "print (tdoesp_test.shape)"
      ],
      "execution_count": 55,
      "outputs": [
        {
          "output_type": "stream",
          "text": [
            "(916074240, 1)\n",
            "(229018560, 1)\n"
          ],
          "name": "stdout"
        }
      ]
    },
    {
      "cell_type": "markdown",
      "metadata": {
        "id": "Lz_l4l9VX0jr",
        "colab_type": "text"
      },
      "source": [
        "#Erkennung von Betrugszahlungen# \n",
        "\n",
        "##Unsupervised Learning mit neuronalen Netzwerken##"
      ]
    },
    {
      "cell_type": "markdown",
      "metadata": {
        "id": "LOpc1G2kPtNB",
        "colab_type": "text"
      },
      "source": [
        "**Datensatz in Trainings- und Testingdatensatz aufteilen**\n",
        "\n",
        "Da wir über einen relative grosses Datenset verfügen können wir eine klassisches Spliting der Daten durchführen d.h. 80% (8'000)/20% (2'000) \n"
      ]
    },
    {
      "cell_type": "code",
      "metadata": {
        "id": "3bZxuuhWRook",
        "colab_type": "code",
        "colab": {}
      },
      "source": [
        "from sklearn.model_selection import train_test_split\n",
        "tdoesp_train, tdoesp_test = train_test_split(tdoesp,test_size=0.2, random_state = 70)\n",
        "\n",
        "print ('Grösse Trainingsdatesatz (Shape) = ', tdoesp_train.shape)\n",
        "print ('Grösse Testdatensatz (Shape) =', tdoesp_test.shape)"
      ],
      "execution_count": 0,
      "outputs": []
    },
    {
      "cell_type": "markdown",
      "metadata": {
        "id": "yFc3cqUKZOMF",
        "colab_type": "text"
      },
      "source": [
        "###Modell Training###\n",
        "\n",
        "Nachfolgenden werden wir ein neuronales Netzwerk definieren und dieses mit den oben bearbeiteten Daten trainieren.\n",
        "\n",
        "Für den Aufbau des neuronalen Netzwerks werden ich die Machine Learning Library **TensorFlow** von Google verwenden."
      ]
    },
    {
      "cell_type": "markdown",
      "metadata": {
        "id": "KfTD7txqbgiY",
        "colab_type": "text"
      },
      "source": [
        "**TensorFlow laden und Hyperparameter definieren**"
      ]
    },
    {
      "cell_type": "markdown",
      "metadata": {
        "id": "s10dtH9h-VLv",
        "colab_type": "text"
      },
      "source": [
        "https://www.datascience.com/blog/fraud-detection-with-tensorflow"
      ]
    },
    {
      "cell_type": "code",
      "metadata": {
        "id": "eozbqvhW-W7F",
        "colab_type": "code",
        "colab": {}
      },
      "source": [
        "nb_epoch = 100\n",
        "batch_size = 128\n",
        "input_dim = tdoesp_train.shape[1] #num of columns, 30\n",
        "encoding_dim = 14\n",
        "hidden_dim = int(encoding_dim / 2) #i.e. 7\n",
        "learning_rate = 1e-7\n",
        "\n",
        "input_layer = Input(shape=(input_dim, ))\n",
        "encoder = Dense(encoding_dim, activation=\"tanh\", activity_regularizer=regularizers.l1(learning_rate))(input_layer)\n",
        "encoder = Dense(hidden_dim, activation=\"relu\")(encoder)\n",
        "decoder = Dense(hidden_dim, activation='tanh')(encoder)\n",
        "decoder = Dense(input_dim, activation='relu')(decoder)\n",
        "autoencoder = Model(inputs=input_layer, outputs=decoder)"
      ],
      "execution_count": 0,
      "outputs": []
    },
    {
      "cell_type": "code",
      "metadata": {
        "id": "WwYkBXu1DQJB",
        "colab_type": "code",
        "outputId": "69c80cfb-86ff-46e6-b568-b46253d4e738",
        "colab": {
          "base_uri": "https://localhost:8080/",
          "height": 3509
        }
      },
      "source": [
        "autoencoder.compile(metrics=['accuracy'],\n",
        "                    loss='mean_squared_error',\n",
        "                    optimizer='adam')\n",
        "\n",
        "cp = ModelCheckpoint(filepath=\"autoencoder_fraud.h5\",\n",
        "                               save_best_only=True,\n",
        "                               verbose=0)\n",
        "\n",
        "tb = TensorBoard(log_dir='./logs',\n",
        "                histogram_freq=0,\n",
        "                write_graph=True,\n",
        "                write_images=True)\n",
        "\n",
        "history = autoencoder.fit(tdoesp_train,tdoesp_train,\n",
        "                    epochs=nb_epoch,\n",
        "                    batch_size=batch_size,\n",
        "                    shuffle=True,\n",
        "                    validation_data=(tdoesp_test,tdoesp_test),\n",
        "                    verbose=1,\n",
        "                    callbacks=[cp, tb]).history"
      ],
      "execution_count": 23,
      "outputs": [
        {
          "output_type": "stream",
          "text": [
            "Train on 8006 samples, validate on 2002 samples\n",
            "Epoch 1/100\n",
            "8006/8006 [==============================] - 0s 41us/step - loss: 1069411023.5883 - acc: 0.0000e+00 - val_loss: 843599146.9650 - val_acc: 0.0000e+00\n",
            "Epoch 2/100\n",
            "8006/8006 [==============================] - 0s 13us/step - loss: 1069411031.4704 - acc: 0.0000e+00 - val_loss: 843599146.9650 - val_acc: 0.0000e+00\n",
            "Epoch 3/100\n",
            "8006/8006 [==============================] - 0s 13us/step - loss: 1069411022.1494 - acc: 0.0000e+00 - val_loss: 843599146.9650 - val_acc: 0.0000e+00\n",
            "Epoch 4/100\n",
            "8006/8006 [==============================] - 0s 13us/step - loss: 1069411003.9710 - acc: 0.0000e+00 - val_loss: 843599146.9650 - val_acc: 0.0000e+00\n",
            "Epoch 5/100\n",
            "8006/8006 [==============================] - 0s 13us/step - loss: 1069411013.6278 - acc: 0.0000e+00 - val_loss: 843599146.9650 - val_acc: 0.0000e+00\n",
            "Epoch 6/100\n",
            "8006/8006 [==============================] - 0s 12us/step - loss: 1069402565.8356 - acc: 0.0000e+00 - val_loss: 843566077.9540 - val_acc: 0.0000e+00\n",
            "Epoch 7/100\n",
            "8006/8006 [==============================] - 0s 13us/step - loss: 1069343044.0290 - acc: 0.0000e+00 - val_loss: 843504075.3806 - val_acc: 0.0000e+00\n",
            "Epoch 8/100\n",
            "8006/8006 [==============================] - 0s 12us/step - loss: 1069300474.5641 - acc: 0.0000e+00 - val_loss: 843478437.4026 - val_acc: 0.0000e+00\n",
            "Epoch 9/100\n",
            "8006/8006 [==============================] - 0s 12us/step - loss: 1069277213.5618 - acc: 0.0000e+00 - val_loss: 843457423.4725 - val_acc: 0.0000e+00\n",
            "Epoch 10/100\n",
            "8006/8006 [==============================] - 0s 12us/step - loss: 1069257168.0520 - acc: 0.0000e+00 - val_loss: 843438670.0020 - val_acc: 0.0000e+00\n",
            "Epoch 11/100\n",
            "8006/8006 [==============================] - 0s 12us/step - loss: 1069238858.2483 - acc: 0.0000e+00 - val_loss: 843421439.1049 - val_acc: 0.0000e+00\n",
            "Epoch 12/100\n",
            "8006/8006 [==============================] - 0s 12us/step - loss: 1069221718.6550 - acc: 0.0000e+00 - val_loss: 843405033.1748 - val_acc: 0.0000e+00\n",
            "Epoch 13/100\n",
            "8006/8006 [==============================] - 0s 13us/step - loss: 1069205288.8174 - acc: 0.0000e+00 - val_loss: 843389248.2557 - val_acc: 0.0000e+00\n",
            "Epoch 14/100\n",
            "8006/8006 [==============================] - 0s 13us/step - loss: 1069189453.2541 - acc: 0.0000e+00 - val_loss: 843373893.8182 - val_acc: 0.0000e+00\n",
            "Epoch 15/100\n",
            "8006/8006 [==============================] - 0s 13us/step - loss: 1069174063.4684 - acc: 0.0000e+00 - val_loss: 843358963.9800 - val_acc: 0.0000e+00\n",
            "Epoch 16/100\n",
            "8006/8006 [==============================] - 0s 12us/step - loss: 1069159034.2923 - acc: 0.0000e+00 - val_loss: 843344363.7962 - val_acc: 0.0000e+00\n",
            "Epoch 17/100\n",
            "8006/8006 [==============================] - 0s 13us/step - loss: 1069144235.2636 - acc: 0.0000e+00 - val_loss: 843330022.2338 - val_acc: 0.0000e+00\n",
            "Epoch 18/100\n",
            "8006/8006 [==============================] - 0s 13us/step - loss: 1069129699.4934 - acc: 0.0000e+00 - val_loss: 843315919.1528 - val_acc: 0.0000e+00\n",
            "Epoch 19/100\n",
            "8006/8006 [==============================] - 0s 14us/step - loss: 1069115371.3435 - acc: 0.0000e+00 - val_loss: 843301905.7742 - val_acc: 0.0000e+00\n",
            "Epoch 20/100\n",
            "8006/8006 [==============================] - 0s 13us/step - loss: 1069101209.7247 - acc: 0.0000e+00 - val_loss: 843288054.6014 - val_acc: 0.0000e+00\n",
            "Epoch 21/100\n",
            "8006/8006 [==============================] - 0s 13us/step - loss: 1069087206.7869 - acc: 0.0000e+00 - val_loss: 843274354.5095 - val_acc: 0.0000e+00\n",
            "Epoch 22/100\n",
            "8006/8006 [==============================] - 0s 13us/step - loss: 1069073232.3397 - acc: 0.0000e+00 - val_loss: 843260881.7742 - val_acc: 0.0000e+00\n",
            "Epoch 23/100\n",
            "8006/8006 [==============================] - 0s 12us/step - loss: 1069059445.0322 - acc: 0.0000e+00 - val_loss: 843247316.3956 - val_acc: 0.0000e+00\n",
            "Epoch 24/100\n",
            "8006/8006 [==============================] - 0s 12us/step - loss: 1069045713.3150 - acc: 0.0000e+00 - val_loss: 843233812.3956 - val_acc: 0.0000e+00\n",
            "Epoch 25/100\n",
            "8006/8006 [==============================] - 0s 14us/step - loss: 1069032109.3740 - acc: 0.0000e+00 - val_loss: 843220503.0170 - val_acc: 0.0000e+00\n",
            "Epoch 26/100\n",
            "8006/8006 [==============================] - 0s 12us/step - loss: 1069018615.0947 - acc: 0.0000e+00 - val_loss: 843207306.7413 - val_acc: 0.0000e+00\n",
            "Epoch 27/100\n",
            "8006/8006 [==============================] - 0s 12us/step - loss: 1069005167.8681 - acc: 0.0000e+00 - val_loss: 843194121.2707 - val_acc: 0.0000e+00\n",
            "Epoch 28/100\n",
            "8006/8006 [==============================] - 0s 12us/step - loss: 1068991754.3922 - acc: 0.0000e+00 - val_loss: 843181079.0170 - val_acc: 0.0000e+00\n",
            "Epoch 29/100\n",
            "8006/8006 [==============================] - 0s 12us/step - loss: 1068978428.2748 - acc: 0.0000e+00 - val_loss: 843168002.5574 - val_acc: 0.0000e+00\n",
            "Epoch 30/100\n",
            "8006/8006 [==============================] - 0s 13us/step - loss: 1068965156.6765 - acc: 0.0000e+00 - val_loss: 843154998.2817 - val_acc: 0.0000e+00\n",
            "Epoch 31/100\n",
            "8006/8006 [==============================] - 0s 13us/step - loss: 1068951905.7987 - acc: 0.0000e+00 - val_loss: 843142012.9950 - val_acc: 0.0000e+00\n",
            "Epoch 32/100\n",
            "8006/8006 [==============================] - 0s 12us/step - loss: 1068938687.4564 - acc: 0.0000e+00 - val_loss: 843129008.7193 - val_acc: 0.0000e+00\n",
            "Epoch 33/100\n",
            "8006/8006 [==============================] - 0s 12us/step - loss: 1068925519.5563 - acc: 0.0000e+00 - val_loss: 843116105.2707 - val_acc: 0.0000e+00\n",
            "Epoch 34/100\n",
            "8006/8006 [==============================] - 0s 13us/step - loss: 1068912406.8469 - acc: 0.0000e+00 - val_loss: 843103371.8921 - val_acc: 0.0000e+00\n",
            "Epoch 35/100\n",
            "8006/8006 [==============================] - 0s 13us/step - loss: 1068899283.4894 - acc: 0.0000e+00 - val_loss: 843090599.0649 - val_acc: 0.0000e+00\n",
            "Epoch 36/100\n",
            "8006/8006 [==============================] - 0s 13us/step - loss: 1068886173.1302 - acc: 0.0000e+00 - val_loss: 843077481.6863 - val_acc: 0.0000e+00\n",
            "Epoch 37/100\n",
            "8006/8006 [==============================] - 0s 12us/step - loss: 1068873102.5011 - acc: 0.0000e+00 - val_loss: 843064778.4216 - val_acc: 0.0000e+00\n",
            "Epoch 38/100\n",
            "8006/8006 [==============================] - 0s 12us/step - loss: 1068860091.3795 - acc: 0.0000e+00 - val_loss: 843052075.1568 - val_acc: 0.0000e+00\n",
            "Epoch 39/100\n",
            "8006/8006 [==============================] - 0s 11us/step - loss: 1068847044.8284 - acc: 0.0000e+00 - val_loss: 843039284.4915 - val_acc: 0.0000e+00\n",
            "Epoch 40/100\n",
            "8006/8006 [==============================] - 0s 12us/step - loss: 1068834052.9403 - acc: 0.0000e+00 - val_loss: 843026465.5025 - val_acc: 0.0000e+00\n",
            "Epoch 41/100\n",
            "8006/8006 [==============================] - 0s 17us/step - loss: 1068821108.0889 - acc: 0.0000e+00 - val_loss: 843013758.1459 - val_acc: 0.0000e+00\n",
            "Epoch 42/100\n",
            "8006/8006 [==============================] - 0s 14us/step - loss: 1068808181.2561 - acc: 0.0000e+00 - val_loss: 843001160.9510 - val_acc: 0.0000e+00\n",
            "Epoch 43/100\n",
            "8006/8006 [==============================] - 0s 15us/step - loss: 1068795299.8451 - acc: 0.0000e+00 - val_loss: 842988460.3077 - val_acc: 0.0000e+00\n",
            "Epoch 44/100\n",
            "8006/8006 [==============================] - 0s 14us/step - loss: 1068782362.6840 - acc: 0.0000e+00 - val_loss: 842975840.0320 - val_acc: 0.0000e+00\n",
            "Epoch 45/100\n",
            "8006/8006 [==============================] - 0s 13us/step - loss: 1068769498.5561 - acc: 0.0000e+00 - val_loss: 842963155.7562 - val_acc: 0.0000e+00\n",
            "Epoch 46/100\n",
            "8006/8006 [==============================] - 0s 14us/step - loss: 1068756620.5506 - acc: 0.0000e+00 - val_loss: 842950534.0100 - val_acc: 0.0000e+00\n",
            "Epoch 47/100\n",
            "8006/8006 [==============================] - 0s 14us/step - loss: 1068743733.5279 - acc: 0.0000e+00 - val_loss: 842938014.5614 - val_acc: 0.0000e+00\n",
            "Epoch 48/100\n",
            "8006/8006 [==============================] - 0s 14us/step - loss: 1068730916.1329 - acc: 0.0000e+00 - val_loss: 842925293.4585 - val_acc: 0.0000e+00\n",
            "Epoch 49/100\n",
            "8006/8006 [==============================] - 0s 15us/step - loss: 1068718029.8616 - acc: 0.0000e+00 - val_loss: 842912790.3776 - val_acc: 0.0000e+00\n",
            "Epoch 50/100\n",
            "8006/8006 [==============================] - 0s 14us/step - loss: 1068705207.6862 - acc: 0.0000e+00 - val_loss: 842900110.1938 - val_acc: 0.0000e+00\n",
            "Epoch 51/100\n",
            "8006/8006 [==============================] - 0s 14us/step - loss: 1068692309.5199 - acc: 0.0000e+00 - val_loss: 842887616.4476 - val_acc: 0.0000e+00\n",
            "Epoch 52/100\n",
            "8006/8006 [==============================] - 0s 14us/step - loss: 1068679565.8776 - acc: 0.0000e+00 - val_loss: 842874986.5175 - val_acc: 0.0000e+00\n",
            "Epoch 53/100\n",
            "8006/8006 [==============================] - 0s 14us/step - loss: 1068666707.6333 - acc: 0.0000e+00 - val_loss: 842862420.9071 - val_acc: 0.0000e+00\n",
            "Epoch 54/100\n",
            "8006/8006 [==============================] - 0s 15us/step - loss: 1068653911.2306 - acc: 0.0000e+00 - val_loss: 842849871.3447 - val_acc: 0.0000e+00\n",
            "Epoch 55/100\n",
            "8006/8006 [==============================] - 0s 15us/step - loss: 1068641104.8514 - acc: 0.0000e+00 - val_loss: 842837391.3447 - val_acc: 0.0000e+00\n",
            "Epoch 56/100\n",
            "8006/8006 [==============================] - 0s 14us/step - loss: 1068628310.5431 - acc: 0.0000e+00 - val_loss: 842824757.3227 - val_acc: 0.0000e+00\n",
            "Epoch 57/100\n",
            "8006/8006 [==============================] - 0s 14us/step - loss: 1068615504.1639 - acc: 0.0000e+00 - val_loss: 842812196.9550 - val_acc: 0.0000e+00\n",
            "Epoch 58/100\n",
            "8006/8006 [==============================] - 0s 15us/step - loss: 1068602696.9053 - acc: 0.0000e+00 - val_loss: 842799582.2418 - val_acc: 0.0000e+00\n",
            "Epoch 59/100\n",
            "8006/8006 [==============================] - 0s 13us/step - loss: 1068589965.6058 - acc: 0.0000e+00 - val_loss: 842787034.1499 - val_acc: 0.0000e+00\n",
            "Epoch 60/100\n",
            "8006/8006 [==============================] - 0s 15us/step - loss: 1068577180.1069 - acc: 0.0000e+00 - val_loss: 842774583.9441 - val_acc: 0.0000e+00\n",
            "Epoch 61/100\n",
            "8006/8006 [==============================] - 0s 14us/step - loss: 1068564424.7934 - acc: 0.0000e+00 - val_loss: 842762057.7822 - val_acc: 0.0000e+00\n",
            "Epoch 62/100\n",
            "8006/8006 [==============================] - 0s 15us/step - loss: 1068551663.9161 - acc: 0.0000e+00 - val_loss: 842749551.7602 - val_acc: 0.0000e+00\n",
            "Epoch 63/100\n",
            "8006/8006 [==============================] - 0s 15us/step - loss: 1068538900.9283 - acc: 0.0000e+00 - val_loss: 842737048.6793 - val_acc: 0.0000e+00\n",
            "Epoch 64/100\n",
            "8006/8006 [==============================] - 0s 15us/step - loss: 1068526181.6358 - acc: 0.0000e+00 - val_loss: 842724463.7602 - val_acc: 0.0000e+00\n",
            "Epoch 65/100\n",
            "8006/8006 [==============================] - 0s 14us/step - loss: 1068513437.1302 - acc: 0.0000e+00 - val_loss: 842712043.6683 - val_acc: 0.0000e+00\n",
            "Epoch 66/100\n",
            "8006/8006 [==============================] - 0s 16us/step - loss: 1068500713.2331 - acc: 0.0000e+00 - val_loss: 842699446.4735 - val_acc: 0.0000e+00\n",
            "Epoch 67/100\n",
            "8006/8006 [==============================] - 0s 14us/step - loss: 1068487971.1736 - acc: 0.0000e+00 - val_loss: 842687018.1978 - val_acc: 0.0000e+00\n",
            "Epoch 68/100\n",
            "8006/8006 [==============================] - 0s 15us/step - loss: 1068475255.5743 - acc: 0.0000e+00 - val_loss: 842674525.9221 - val_acc: 0.0000e+00\n",
            "Epoch 69/100\n",
            "8006/8006 [==============================] - 0s 16us/step - loss: 1068462526.1774 - acc: 0.0000e+00 - val_loss: 842661934.2897 - val_acc: 0.0000e+00\n",
            "Epoch 70/100\n",
            "8006/8006 [==============================] - 0s 15us/step - loss: 1068449801.0492 - acc: 0.0000e+00 - val_loss: 842649605.3706 - val_acc: 0.0000e+00\n",
            "Epoch 71/100\n",
            "8006/8006 [==============================] - 0s 15us/step - loss: 1068437083.9630 - acc: 0.0000e+00 - val_loss: 842637144.3596 - val_acc: 0.0000e+00\n",
            "Epoch 72/100\n",
            "8006/8006 [==============================] - 0s 15us/step - loss: 1068424387.1336 - acc: 0.0000e+00 - val_loss: 842624724.2677 - val_acc: 0.0000e+00\n",
            "Epoch 73/100\n",
            "8006/8006 [==============================] - 0s 14us/step - loss: 1068411636.5846 - acc: 0.0000e+00 - val_loss: 842612208.9111 - val_acc: 0.0000e+00\n",
            "Epoch 74/100\n",
            "8006/8006 [==============================] - 0s 12us/step - loss: 1068398925.2381 - acc: 0.0000e+00 - val_loss: 842599696.1758 - val_acc: 0.0000e+00\n",
            "Epoch 75/100\n",
            "8006/8006 [==============================] - 0s 12us/step - loss: 1068386163.4974 - acc: 0.0000e+00 - val_loss: 842587231.0729 - val_acc: 0.0000e+00\n",
            "Epoch 76/100\n",
            "8006/8006 [==============================] - 0s 16us/step - loss: 1068373455.3325 - acc: 0.0000e+00 - val_loss: 842574639.4406 - val_acc: 0.0000e+00\n",
            "Epoch 77/100\n",
            "8006/8006 [==============================] - 0s 13us/step - loss: 1068360720.4996 - acc: 0.0000e+00 - val_loss: 842562141.6024 - val_acc: 0.0000e+00\n",
            "Epoch 78/100\n",
            "8006/8006 [==============================] - 0s 12us/step - loss: 1068347994.9238 - acc: 0.0000e+00 - val_loss: 842549717.4186 - val_acc: 0.0000e+00\n",
            "Epoch 79/100\n",
            "8006/8006 [==============================] - 0s 11us/step - loss: 1068335294.9608 - acc: 0.0000e+00 - val_loss: 842537229.2348 - val_acc: 0.0000e+00\n",
            "Epoch 80/100\n",
            "8006/8006 [==============================] - 0s 12us/step - loss: 1068322592.5356 - acc: 0.0000e+00 - val_loss: 842524716.4995 - val_acc: 0.0000e+00\n",
            "Epoch 81/100\n",
            "8006/8006 [==============================] - 0s 11us/step - loss: 1068309801.9365 - acc: 0.0000e+00 - val_loss: 842512315.3966 - val_acc: 0.0000e+00\n",
            "Epoch 82/100\n",
            "8006/8006 [==============================] - 0s 11us/step - loss: 1068297117.3220 - acc: 0.0000e+00 - val_loss: 842499783.6723 - val_acc: 0.0000e+00\n",
            "Epoch 83/100\n",
            "8006/8006 [==============================] - 0s 11us/step - loss: 1068284417.1511 - acc: 0.0000e+00 - val_loss: 842487291.3966 - val_acc: 0.0000e+00\n",
            "Epoch 84/100\n",
            "8006/8006 [==============================] - 0s 11us/step - loss: 1068271698.3382 - acc: 0.0000e+00 - val_loss: 842474821.0509 - val_acc: 0.0000e+00\n",
            "Epoch 85/100\n",
            "8006/8006 [==============================] - 0s 13us/step - loss: 1068259026.3382 - acc: 0.0000e+00 - val_loss: 842462388.6833 - val_acc: 0.0000e+00\n",
            "Epoch 86/100\n",
            "8006/8006 [==============================] - 0s 11us/step - loss: 1068246304.9993 - acc: 0.0000e+00 - val_loss: 842449909.8342 - val_acc: 0.0000e+00\n",
            "Epoch 87/100\n",
            "8006/8006 [==============================] - 0s 12us/step - loss: 1068233579.1356 - acc: 0.0000e+00 - val_loss: 842437419.0290 - val_acc: 0.0000e+00\n",
            "Epoch 88/100\n",
            "8006/8006 [==============================] - 0s 11us/step - loss: 1068220875.5274 - acc: 0.0000e+00 - val_loss: 842424929.3746 - val_acc: 0.0000e+00\n",
            "Epoch 89/100\n",
            "8006/8006 [==============================] - 0s 11us/step - loss: 1068208192.6715 - acc: 0.0000e+00 - val_loss: 842412509.2827 - val_acc: 0.0000e+00\n",
            "Epoch 90/100\n",
            "8006/8006 [==============================] - 0s 12us/step - loss: 1068195484.6825 - acc: 0.0000e+00 - val_loss: 842399998.0180 - val_acc: 0.0000e+00\n",
            "Epoch 91/100\n",
            "8006/8006 [==============================] - 0s 12us/step - loss: 1068182804.7684 - acc: 0.0000e+00 - val_loss: 842387613.2827 - val_acc: 0.0000e+00\n",
            "Epoch 92/100\n",
            "8006/8006 [==============================] - 0s 15us/step - loss: 1068170106.9958 - acc: 0.0000e+00 - val_loss: 842375119.5365 - val_acc: 0.0000e+00\n",
            "Epoch 93/100\n",
            "8006/8006 [==============================] - 0s 16us/step - loss: 1068157394.2103 - acc: 0.0000e+00 - val_loss: 842362705.0070 - val_acc: 0.0000e+00\n",
            "Epoch 94/100\n",
            "8006/8006 [==============================] - 0s 15us/step - loss: 1068144745.2970 - acc: 0.0000e+00 - val_loss: 842350243.9960 - val_acc: 0.0000e+00\n",
            "Epoch 95/100\n",
            "8006/8006 [==============================] - 0s 15us/step - loss: 1068132046.3253 - acc: 0.0000e+00 - val_loss: 842337743.5365 - val_acc: 0.0000e+00\n",
            "Epoch 96/100\n",
            "8006/8006 [==============================] - 0s 15us/step - loss: 1068119316.2728 - acc: 0.0000e+00 - val_loss: 842325425.4226 - val_acc: 0.0000e+00\n",
            "Epoch 97/100\n",
            "8006/8006 [==============================] - 0s 16us/step - loss: 1068106527.5443 - acc: 0.0000e+00 - val_loss: 842312916.7792 - val_acc: 0.0000e+00\n",
            "Epoch 98/100\n",
            "8006/8006 [==============================] - 0s 15us/step - loss: 1068093874.0105 - acc: 0.0000e+00 - val_loss: 842300329.2388 - val_acc: 0.0000e+00\n",
            "Epoch 99/100\n",
            "8006/8006 [==============================] - 0s 12us/step - loss: 1068081187.6053 - acc: 0.0000e+00 - val_loss: 842287917.3307 - val_acc: 0.0000e+00\n",
            "Epoch 100/100\n",
            "8006/8006 [==============================] - 0s 12us/step - loss: 1068068500.0650 - acc: 0.0000e+00 - val_loss: 842275456.3197 - val_acc: 0.0000e+00\n"
          ],
          "name": "stdout"
        }
      ]
    },
    {
      "cell_type": "code",
      "metadata": {
        "id": "zlGe3F7yEAwf",
        "colab_type": "code",
        "colab": {}
      },
      "source": [
        "autoencoder = load_model('autoencoder_fraud.h5')"
      ],
      "execution_count": 0,
      "outputs": []
    },
    {
      "cell_type": "code",
      "metadata": {
        "id": "O7Yspf-4EHt1",
        "colab_type": "code",
        "colab": {
          "base_uri": "https://localhost:8080/",
          "height": 295
        },
        "outputId": "9d0ab9c6-3832-47c6-b199-9f452e03fd5d"
      },
      "source": [
        "plt.plot(history['loss'], linewidth=2, label='Train')\n",
        "plt.plot(history['val_loss'], linewidth=2, label='Test')\n",
        "plt.legend(loc='upper right')\n",
        "plt.title('Model loss')\n",
        "plt.ylabel('Loss')\n",
        "plt.xlabel('Epoch')\n",
        "#plt.ylim(ymin=0.70,ymax=1)\n",
        "plt.show()"
      ],
      "execution_count": 21,
      "outputs": [
        {
          "output_type": "display_data",
          "data": {
            "text/plain": [
              "<Figure size 432x288 with 1 Axes>"
            ],
            "image/png": "[encoded data removed]"
          },
          "metadata": {
            "tags": [],
            "needs_background": "light"
          }
        }
      ]
    },
    {
      "cell_type": "markdown",
      "metadata": {
        "id": "T7I1cx12_2Gv",
        "colab_type": "text"
      },
      "source": [
        "#Ermittlung potenzieller Kundenrisikogruppen# \n",
        "##Supervised Learning mit neuronalen Netzwerken##\n"
      ]
    },
    {
      "cell_type": "code",
      "metadata": {
        "id": "b57Ggf-x-Iet",
        "colab_type": "code",
        "colab": {}
      },
      "source": [
        "%matplotlib inline\n",
        "import pandas as pd\n",
        "import numpy as np\n",
        "import matplotlib.pyplot as plt\n",
        "\n",
        "\n",
        "# Laden der 600000 Transaktionsdaten \n",
        "trx_data_url = 'https://raw.githubusercontent.com/sakuronohana/cas_datenanalyse/master/Semesterarbeit/Dataset/trx_data_ml.csv'\n",
        "\n",
        "trx_data_ml = pd.read_csv(trx_data_url, delimiter=';')\n",
        "trx_data_ml.head()\n"
      ],
      "execution_count": 0,
      "outputs": []
    },
    {
      "cell_type": "code",
      "metadata": {
        "id": "4reOVH6SOoEs",
        "colab_type": "code",
        "colab": {}
      },
      "source": [
        "trx_data_ol.nunique()"
      ],
      "execution_count": 0,
      "outputs": []
    },
    {
      "cell_type": "code",
      "metadata": {
        "id": "Qa3UBsB4PUcz",
        "colab_type": "code",
        "colab": {}
      },
      "source": [
        "trx_data.fraud_id.map(lambda x:1 if x>=1 else 0).mean()"
      ],
      "execution_count": 0,
      "outputs": []
    },
    {
      "cell_type": "markdown",
      "metadata": {
        "id": "nBv9TMCtc2s6",
        "colab_type": "text"
      },
      "source": [
        "**Erstellung des neuronalen Netzwerk-Modells**\n",
        "\n",
        "https://www.youtube.com/watch?v=BhpvH5DuVu8&list=PLQVvvaa0QuDfKTOs3Keq_kaG2P55YRn5v&index=46\n",
        "\n"
      ]
    },
    {
      "cell_type": "code",
      "metadata": {
        "id": "BjPo4kEvdD8s",
        "colab_type": "code",
        "colab": {}
      },
      "source": [
        "import tensorflow as tf\n",
        "\n",
        "n_nodes_hl1 = 500\n",
        "n_nodes_hl2 = 500\n",
        "n_nodes_hl3 = 500\n",
        "\n",
        "n_classes = 10\n",
        "batch_size = 1000\n",
        "\n",
        "x = tf.placeholder('float',[None, 784])\n",
        "\n",
        "def neural_network_model(data):\n",
        "  hidden_1_layer = {'weights':tf.Variable(tf.random_normal([784,n_nodes_hl1])),\n",
        "                   'biases':tf.Variable(tf.random_normal(n_nodes_hl1))}\n",
        "  hidden_2_layer = {'weights':tf.Variable(tf.random_normal([n_nodes_hl2,n_nodes_hl2])),\n",
        "                   'biases':tf.Variable(tf.random_normal(n_nodes_hl2))}\n",
        "  hidden_3_layer = {'weights':tf.Variable(tf.random_normal([n_nodes_hl2,n_nodes_hl3])),\n",
        "                   'biases':tf.Variable(tf.random_normal(n_nodes_hl3))}\n",
        "  output_layer = {'weights':tf.Variable(tf.random_normal([n_nodes_hl3,n_nodes_hl1])),\n",
        "                   'biases':tf.Variable(tf.random_normal(n_classes))}\n",
        "  \n",
        "  l1 = tf.add(tf.matmul(data, hidden_1_layer['weights']), hidden_1_layer['biases'])\n",
        "  l1 = tf.nn.relu(l1)\n",
        "  \n",
        "  l2 = tf.add(tf.matmul(l1, hidden_2_layer['weights']), hidden_2_layer['biases'])\n",
        "  l2 = tf.nn.relu(l2)\n",
        "  \n",
        "  l3 = tf.add(tf.matmul(l2, hidden_3_layer['weights']), hidden_3_layer['biases'])\n",
        "  l3 = tf.nn.relu(l3)\n",
        "                 \n",
        "  output = tf.add(l3, output_layer['weights'])+ output_layer['biases']\n",
        "  \n",
        "  return output\n",
        "                  \n",
        "def train_neural_network(x):\n",
        "  prediction = neural_network_model(x)\n",
        "  cost = tf.reduce_mean(tf.nn.softmax_cross_entropy_with_logits(prediction,y))\n",
        "  optimizer = tf.train.AdamOptimizer().minimize(cost)\n",
        "  \n",
        "  hm_epochs = 10\n",
        "                  \n",
        "  with tf.Session() as sess:\n",
        "    sess.run(tf.initialize_all_variables())\n",
        "    # Hier wird das Modell trainiert\n",
        "    for epoch in hm_epochs:\n",
        "        epoch_loss = 0\n",
        "        for _ in range(int(tdo_train.train.num_examples/batch_size)):\n",
        "            x = tdo_train.next_batch(batch_size)\n",
        "            _, c = sess.run([optimizer, cost], feed_dict = {x: x})\n",
        "            epoch_loss += c\n",
        "        print('Epoch', epoch, 'completed out of', hm_epochs, 'loss:', epoch_loss)\n",
        "                  \n",
        "    correct = tf.equal(tf.argmax(prediction, 1), tf.argmax(y,1))\n",
        "    accuracy = tf.reduce_mean(tf.cast(correct,'float'))\n",
        "    print('Accuracy:', accuracy.eval({x:tdo_test}))\n",
        "    \n",
        "train_neural_network(x)"
      ],
      "execution_count": 0,
      "outputs": []
    },
    {
      "cell_type": "markdown",
      "metadata": {
        "id": "g0Oh1LK53rMd",
        "colab_type": "text"
      },
      "source": [
        "##Datensatz analysieren##\n",
        "\n",
        "##Tipp: Plotting Learning Curves - Scikit !!!!"
      ]
    },
    {
      "cell_type": "code",
      "metadata": {
        "id": "6bzsG7nZ25CG",
        "colab_type": "code",
        "colab": {}
      },
      "source": [
        "# Visualisierung der Nummerischen Daten in dem Datensatz\n",
        "trx_data.hist(bins=50, figsize=(20,15))\n",
        "plt.show()"
      ],
      "execution_count": 0,
      "outputs": []
    },
    {
      "cell_type": "code",
      "metadata": {
        "id": "K-MjsTaU3kS8",
        "colab_type": "code",
        "colab": {}
      },
      "source": [
        "# Suche nach den Korrelationen - Teil 1\n",
        "corr_matrix = trx_data.corr()\n",
        "print ('Korrelation zu Payment ID','\\n',corr_matrix['paym_id'].sort_values(ascending=False))\n",
        "print ('Korrelation zu Zahlungssumme','\\n',corr_matrix['amount'].sort_values(ascending=False))\n",
        "print ('Korrelation zu Kundenvertrag','\\n',corr_matrix['cust_vertrag_nr'].sort_values(ascending=False))\n",
        "print ('Korrelation zu Betrugsid','\\n',corr_matrix['fraud_id'].sort_values(ascending=False))"
      ],
      "execution_count": 0,
      "outputs": []
    },
    {
      "cell_type": "code",
      "metadata": {
        "id": "GXoUuDUY3LpU",
        "colab_type": "code",
        "colab": {}
      },
      "source": [
        "# Bereinigung der Daten\n",
        "pd.to_datetime(trx_data['timestamp'])\n",
        "pd.to_datetime(trx_data['valuta_date'])\n",
        "np.where(np.isnan(trx_data))"
      ],
      "execution_count": 0,
      "outputs": []
    },
    {
      "cell_type": "code",
      "metadata": {
        "id": "c6Vx75189gJV",
        "colab_type": "code",
        "colab": {}
      },
      "source": [
        "# Datensatz in Trainings(80%)- und Testdatenset (20%) teilen\n",
        "from sklearn.model_selection import train_test_split\n",
        "train_trx_data, test_trx_data = train_test_split(trx_data, test_size=0.2, random_state=42) \n",
        "train_trx_data.count(), test_trx_data.count()"
      ],
      "execution_count": 0,
      "outputs": []
    },
    {
      "cell_type": "code",
      "metadata": {
        "id": "WKYDanXj3Vm9",
        "colab_type": "code",
        "colab": {}
      },
      "source": [
        "# Dimensionsreduktion mit PCA\n",
        "from sklearn.decomposition import PCA # Import der PCA Funktion von Scikit Learn\n",
        "from sklearn import preprocessing # Die Preprocessing Funktion hilft uns die Daten zu skalieren bevor sie mit PCA verwendet werden."
      ],
      "execution_count": 0,
      "outputs": []
    }
  ]
}