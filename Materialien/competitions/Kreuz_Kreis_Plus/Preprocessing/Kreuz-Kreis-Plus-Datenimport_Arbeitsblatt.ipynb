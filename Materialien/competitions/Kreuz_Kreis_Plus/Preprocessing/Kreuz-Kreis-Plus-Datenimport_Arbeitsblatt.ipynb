{
 "cells": [
  {
   "cell_type": "code",
   "execution_count": null,
   "metadata": {},
   "outputs": [],
   "source": [
    "import sklearn\n",
    "import skimage\n",
    "import matplotlib.pyplot as plt\n",
    "import numpy as np\n",
    "import pandas as pd\n",
    "from glob import glob"
   ]
  },
  {
   "cell_type": "markdown",
   "metadata": {},
   "source": [
    "# Struktur des Datensatzes\n",
    "Eigentlich würden wir ja gerne den Datensatz einfach laden. Allerdings haben nur schon die geladenen Bilder ganz unterschiedliches Format:"
   ]
  },
  {
   "cell_type": "code",
   "execution_count": null,
   "metadata": {},
   "outputs": [],
   "source": [
    "#Laden Sie mal ein paar Bilder, und schauen Sie sie an. "
   ]
  },
  {
   "cell_type": "markdown",
   "metadata": {},
   "source": [
    "## Daten laden\n",
    "Laden Sir die Bilder in einen Dictionary:"
   ]
  },
  {
   "cell_type": "markdown",
   "metadata": {},
   "source": [
    "## Farbbild nach Graustufenbild\n",
    "Wenn im der Array eines einzelnen Bildes ist: Welche Werte nimmt\n",
    "`im.shape`\n",
    "an? Was bedeutet das?"
   ]
  },
  {
   "cell_type": "markdown",
   "metadata": {},
   "source": [
    "Erstellen Sie nun die Graustufenbilder so, dass `im.shape`, nur noch Zeilen und Spalten kennt. D.h. geben Sie die RGB-Farbinformation auf z.B. indem Sie über die Farbkanäle mitteln."
   ]
  },
  {
   "cell_type": "code",
   "execution_count": null,
   "metadata": {},
   "outputs": [],
   "source": [
    "assert len(im.shape)==2,'dies sollte für jedes Bild gelten.'"
   ]
  },
  {
   "cell_type": "markdown",
   "metadata": {},
   "source": [
    "Normieren Sie den Pixel-Wertebereich so, dass die Pixel Werte zwischen 0.0 (Schwarz) und 1.0 (Weiss) annehmen."
   ]
  },
  {
   "cell_type": "markdown",
   "metadata": {},
   "source": [
    "## Bilder invertieren, so dass Schriftfarbe ->Weiss"
   ]
  },
  {
   "cell_type": "markdown",
   "metadata": {},
   "source": [
    "Manchmal ist die Schrift des Zeichens Weiss, manchmal Schwarz. Wir wollen, dass die Schrift immer Weiss, d.h. den Wert 1.0 annimmt. Transformieren Sie alle Bilder entsprechend. Der Median (oder ein anderes Quantil) mag hier hilfreich sein. "
   ]
  },
  {
   "cell_type": "markdown",
   "metadata": {},
   "source": [
    "Schauen Sie sich das Histogram einiger Bilder an, um einen Schwellwert zu finden. "
   ]
  },
  {
   "cell_type": "markdown",
   "metadata": {},
   "source": [
    "## Auflösung der Bilder reduzieren"
   ]
  },
  {
   "cell_type": "markdown",
   "metadata": {},
   "source": [
    "Skalieren Sie nun die Bilder - eine Unterscheidung von \"x,o,+\" sollte auch mit 15x15-Bildern gut möglich sein."
   ]
  },
  {
   "cell_type": "markdown",
   "metadata": {},
   "source": [
    "## Binarisierung der Daten"
   ]
  },
  {
   "cell_type": "markdown",
   "metadata": {},
   "source": [
    "Wie können Sie diese Daten binarisieren? Wenden Sie einen passenden Schwellwert an!"
   ]
  },
  {
   "cell_type": "markdown",
   "metadata": {},
   "source": [
    "## Export der Bilder in eine CSV-Datei"
   ]
  },
  {
   "cell_type": "code",
   "execution_count": null,
   "metadata": {},
   "outputs": [],
   "source": []
  }
 ],
 "metadata": {
  "kernelspec": {
   "display_name": "v_py3",
   "language": "python",
   "name": "v_py3"
  },
  "language_info": {
   "codemirror_mode": {
    "name": "ipython",
    "version": 3
   },
   "file_extension": ".py",
   "mimetype": "text/x-python",
   "name": "python",
   "nbconvert_exporter": "python",
   "pygments_lexer": "ipython3",
   "version": "3.6.5"
  }
 },
 "nbformat": 4,
 "nbformat_minor": 2
}
