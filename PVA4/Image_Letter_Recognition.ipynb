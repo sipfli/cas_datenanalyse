{
  "nbformat": 4,
  "nbformat_minor": 0,
  "metadata": {
    "colab": {
      "name": "Image Letter Recognition.ipynb",
      "version": "0.3.2",
      "provenance": []
    },
    "language_info": {
      "codemirror_mode": {
        "name": "ipython",
        "version": 3
      },
      "file_extension": ".py",
      "mimetype": "text/x-python",
      "name": "python",
      "nbconvert_exporter": "python",
      "pygments_lexer": "ipython3",
      "version": "3.6.6"
    },
    "kernelspec": {
      "name": "python3",
      "display_name": "Python 3"
    },
    "accelerator": "TPU"
  },
  "cells": [
    {
      "cell_type": "code",
      "metadata": {
        "_cell_guid": "b1076dfc-b9ad-4769-8c92-a6c4dae69d19",
        "_uuid": "8f2839f25d086af736a60e9eeb907d3b93b6e0e5",
        "id": "XnV4mx3bHvzi",
        "colab_type": "code",
        "colab": {}
      },
      "source": [
        "import pandas as pd\n",
        "import matplotlib.pyplot as plt\n",
        "%matplotlib inline \n",
        "\n",
        "\n",
        "git_url_train = 'https://raw.githubusercontent.com/sakuronohana/cas_datenanalyse/master/PVA4/data/train.csv'\n",
        "git_url_test = 'https://raw.githubusercontent.com/sakuronohana/cas_datenanalyse/master/PVA4/data/test.csv'\n",
        "\n",
        "train_data = pd.read_csv(git_url_train,header=None,index_col=0)\n",
        "test_data = pd.read_csv(git_url_test,header=None,index_col=0)\n",
        "\n",
        "train_data.head(-5)"
      ],
      "execution_count": 0,
      "outputs": []
    },
    {
      "cell_type": "code",
      "metadata": {
        "_uuid": "bc6a4f5610618c35b5df3886380436de47e76e6f",
        "id": "6ieIBVHxHvzt",
        "colab_type": "code",
        "colab": {}
      },
      "source": [
        "#Buchstaben Index herausschreiben und aus Trainingsdatensatz löschen\n",
        "train_target = train_data[1]\n",
        "\n",
        "del train_data[1]"
      ],
      "execution_count": 0,
      "outputs": []
    },
    {
      "cell_type": "code",
      "metadata": {
        "_uuid": "80503ba7c01e3c4454aa4ab4681ab3e50eb13ab4",
        "id": "a1SkX3PyHvzz",
        "colab_type": "code",
        "colab": {}
      },
      "source": [
        "train_data = train_data.values\n",
        "test_data = test_data.values"
      ],
      "execution_count": 0,
      "outputs": []
    },
    {
      "cell_type": "code",
      "metadata": {
        "id": "8mfYyxBxzYop",
        "colab_type": "code",
        "outputId": "e6ebba2e-29e6-4171-83b0-c68a28f52425",
        "colab": {
          "base_uri": "https://localhost:8080/",
          "height": 35
        }
      },
      "source": [
        "train_data.shape"
      ],
      "execution_count": 0,
      "outputs": [
        {
          "output_type": "execute_result",
          "data": {
            "text/plain": [
              "(9360, 784)"
            ]
          },
          "metadata": {
            "tags": []
          },
          "execution_count": 7
        }
      ]
    },
    {
      "cell_type": "code",
      "metadata": {
        "_uuid": "4402edbbcdb7ab2cda2f0341cd4665db25aa2295",
        "id": "Qu9zFsM2Hvz1",
        "colab_type": "code",
        "outputId": "fe8739de-5406-44ce-e2e1-1c85c888037b",
        "colab": {
          "base_uri": "https://localhost:8080/",
          "height": 35
        }
      },
      "source": [
        "train_target.nunique()"
      ],
      "execution_count": 0,
      "outputs": [
        {
          "output_type": "execute_result",
          "data": {
            "text/plain": [
              "10"
            ]
          },
          "metadata": {
            "tags": []
          },
          "execution_count": 8
        }
      ]
    },
    {
      "cell_type": "code",
      "metadata": {
        "_uuid": "4a71b2de5fcc127c828628b1e4a767cc7b182459",
        "id": "nj7AdcrsHvz5",
        "colab_type": "code",
        "colab": {}
      },
      "source": [
        "X_train = train_data.reshape(-1, 28, 28 , 1).astype('float32')"
      ],
      "execution_count": 0,
      "outputs": []
    },
    {
      "cell_type": "code",
      "metadata": {
        "id": "gNWTCbJQzxSb",
        "colab_type": "code",
        "outputId": "6a7cf42c-9abe-4e06-c570-9df6510e1768",
        "colab": {
          "base_uri": "https://localhost:8080/",
          "height": 35
        }
      },
      "source": [
        "X_train.shape"
      ],
      "execution_count": 0,
      "outputs": [
        {
          "output_type": "execute_result",
          "data": {
            "text/plain": [
              "(9360, 28, 28, 1)"
            ]
          },
          "metadata": {
            "tags": []
          },
          "execution_count": 10
        }
      ]
    },
    {
      "cell_type": "code",
      "metadata": {
        "_uuid": "5a9f0599a4f8e3c056af1253097c36b2f778cfb8",
        "id": "MEY286sIHvz7",
        "colab_type": "code",
        "colab": {}
      },
      "source": [
        "X_test = test_data.reshape(-1, 28, 28 , 1).astype('float32')"
      ],
      "execution_count": 0,
      "outputs": []
    },
    {
      "cell_type": "markdown",
      "metadata": {
        "_uuid": "27d77be833f83a9925fa20f473f76d4390ecb807",
        "id": "S5zXHO9iHvz9",
        "colab_type": "raw"
      },
      "source": [
        ""
      ]
    },
    {
      "cell_type": "code",
      "metadata": {
        "_uuid": "286269409449e7fd28d9ff49c1a6477e62880075",
        "id": "KOsj2pINHvz-",
        "colab_type": "code",
        "colab": {}
      },
      "source": [
        "X_train = X_train / 255.0\n",
        "X_test = X_test / 255.0"
      ],
      "execution_count": 0,
      "outputs": []
    },
    {
      "cell_type": "code",
      "metadata": {
        "_uuid": "7d62492cf34cd6cb5cfe04a299a557d37a8c085c",
        "id": "iaGKL_1DHv0A",
        "colab_type": "code",
        "outputId": "f3dbf2e9-43e3-478e-bf90-cda18292451b",
        "colab": {
          "base_uri": "https://localhost:8080/",
          "height": 35
        }
      },
      "source": [
        "import pandas as pd\n",
        "import numpy as np\n",
        "import matplotlib.pyplot as plt\n",
        "import matplotlib.image as mpimg\n",
        "import seaborn as sns\n",
        "%matplotlib inline\n",
        "\n",
        "np.random.seed(2)\n",
        "\n",
        "from sklearn.model_selection import train_test_split\n",
        "from sklearn.metrics import confusion_matrix\n",
        "import itertools\n",
        "\n",
        "from keras.utils.np_utils import to_categorical # convert to one-hot-encoding\n",
        "from keras.models import Sequential\n",
        "from keras.layers import Dense, Dropout, Flatten, Conv2D, MaxPool2D\n",
        "from keras.optimizers import RMSprop, Adam\n",
        "from keras.preprocessing.image import ImageDataGenerator\n",
        "from keras.callbacks import ReduceLROnPlateau\n",
        "\n",
        "\n",
        "sns.set(style='white', context='notebook', palette='deep')"
      ],
      "execution_count": 0,
      "outputs": [
        {
          "output_type": "stream",
          "text": [
            "Using TensorFlow backend.\n"
          ],
          "name": "stderr"
        }
      ]
    },
    {
      "cell_type": "code",
      "metadata": {
        "_uuid": "dc2c58f04d636a6d8f951d2b2bcd23dbe30a3209",
        "id": "pzLRhRf5Hv0E",
        "colab_type": "code",
        "colab": {}
      },
      "source": [
        "from sklearn.preprocessing import LabelEncoder\n",
        "enc = LabelEncoder()\n",
        "train_target = enc.fit_transform(train_target.values)"
      ],
      "execution_count": 0,
      "outputs": []
    },
    {
      "cell_type": "code",
      "metadata": {
        "_uuid": "1cba7d0fb7caf81b68a80bc400a791a3410d9bc2",
        "id": "lTA5XGwzHv0G",
        "colab_type": "code",
        "colab": {}
      },
      "source": [
        "Y_train = to_categorical(train_target, num_classes = 10)"
      ],
      "execution_count": 0,
      "outputs": []
    },
    {
      "cell_type": "code",
      "metadata": {
        "_uuid": "443008a6485817fc698026e8a4b36cfa948c2caf",
        "id": "DOFuWnbHHv0I",
        "colab_type": "code",
        "colab": {}
      },
      "source": [
        "# Split the train and the validation set for the fitting\n",
        "X_train, X_val, Y_train, Y_val = train_test_split(X_train, Y_train, test_size = 0.1, random_state=20182019)"
      ],
      "execution_count": 0,
      "outputs": []
    },
    {
      "cell_type": "code",
      "metadata": {
        "_uuid": "3946a8d01c927c85b248c54a90bfb657b4065f03",
        "id": "Rfh3be-GHv0L",
        "colab_type": "code",
        "outputId": "0f48dc09-ccf7-4ef5-a378-95d23580951d",
        "colab": {
          "base_uri": "https://localhost:8080/",
          "height": 275
        }
      },
      "source": [
        "g = plt.imshow(X_train[25][:,:,0])"
      ],
      "execution_count": 0,
      "outputs": [
        {
          "output_type": "display_data",
          "data": {
            "image/png": "[encoded data removed]",
            "text/plain": [
              "<Figure size 432x288 with 1 Axes>"
            ]
          },
          "metadata": {
            "tags": []
          }
        }
      ]
    },
    {
      "cell_type": "code",
      "metadata": {
        "_uuid": "c8908b4b11bca5355e244da51b0d0f08dbc51371",
        "id": "vPS9DfDWHv0P",
        "colab_type": "code",
        "outputId": "0772b207-dd83-44f3-b3b2-f5b05a668e12",
        "colab": {
          "base_uri": "https://localhost:8080/",
          "height": 35
        }
      },
      "source": [
        "np.unique(train_target)"
      ],
      "execution_count": 0,
      "outputs": [
        {
          "output_type": "execute_result",
          "data": {
            "text/plain": [
              "array([0, 1, 2, 3, 4, 5, 6, 7, 8, 9])"
            ]
          },
          "metadata": {
            "tags": []
          },
          "execution_count": 18
        }
      ]
    },
    {
      "cell_type": "code",
      "metadata": {
        "_uuid": "60e951c79a8efb6fcc254076f07cb2f548caf551",
        "id": "pyDS1NmwHv0T",
        "colab_type": "code",
        "colab": {}
      },
      "source": [
        "from keras.layers import BatchNormalization"
      ],
      "execution_count": 0,
      "outputs": []
    },
    {
      "cell_type": "code",
      "metadata": {
        "_uuid": "a1ce3ec016de30f4cbdae62f8e100f03fb80d0d3",
        "id": "WfLtiCdMHv0Y",
        "colab_type": "code",
        "outputId": "56530b10-98bd-4b46-fda7-b0270162759a",
        "colab": {
          "base_uri": "https://localhost:8080/",
          "height": 35
        }
      },
      "source": [
        "from keras.optimizers import RMSprop, Adam\n",
        "from keras.layers import DepthwiseConv2D, Reshape, Activation\n",
        "\n",
        "nets = 15\n",
        "model = [0] *nets\n",
        "\n",
        "\n",
        "for j in range(nets):\n",
        "    model[j] = Sequential()\n",
        "\n",
        "    model[j].add(Conv2D(32, kernel_size = 3, activation='relu', input_shape = (28, 28, 1)))\n",
        "    model[j].add(BatchNormalization())\n",
        "    model[j].add(Conv2D(32, kernel_size = 3, activation='relu'))\n",
        "    model[j].add(BatchNormalization())\n",
        "    model[j].add(Conv2D(32, kernel_size = 5, strides=2, padding='same', activation='relu'))\n",
        "    model[j].add(BatchNormalization())\n",
        "    model[j].add(Dropout(0.35))\n",
        "\n",
        "    model[j].add(Conv2D(64, kernel_size = 3, activation='relu'))\n",
        "    model[j].add(BatchNormalization())\n",
        "    model[j].add(Conv2D(64, kernel_size = 3, activation='relu'))\n",
        "    model[j].add(BatchNormalization())\n",
        "    model[j].add(Conv2D(64, kernel_size = 5, strides=2, padding='same', activation='relu'))\n",
        "    model[j].add(BatchNormalization())\n",
        "    model[j].add(Dropout(0.4))\n",
        "\n",
        "    model[j].add(Conv2D(128, kernel_size = 4, activation='relu'))\n",
        "    model[j].add(BatchNormalization())\n",
        "    model[j].add(Flatten())\n",
        "    model[j].add(Dropout(0.4))\n",
        "    model[j].add(Dense(10, activation='softmax'))\n",
        "\n",
        "    # COMPILE WITH ADAM OPTIMIZER AND CROSS ENTROPY COST\n",
        "    model[j].compile(optimizer='adagrad', loss=\"categorical_crossentropy\", metrics=[\"accuracy\"])\n",
        "    \n",
        "print('Done')"
      ],
      "execution_count": 0,
      "outputs": [
        {
          "output_type": "stream",
          "text": [
            "Done\n"
          ],
          "name": "stdout"
        }
      ]
    },
    {
      "cell_type": "code",
      "metadata": {
        "_uuid": "8c1894535205d883a45426f66ccecbe3e73ba817",
        "id": "Umu-8sVvHv0c",
        "colab_type": "code",
        "colab": {}
      },
      "source": [
        "# LR Reduction Callback\n",
        "from keras.callbacks import ReduceLROnPlateau\n",
        "\n",
        "learning_rate_reduction = ReduceLROnPlateau(monitor='val_acc', \n",
        "                                            patience=3, \n",
        "                                            verbose=0, \n",
        "                                            factor=0.5, \n",
        "                                            min_lr=0.00001)"
      ],
      "execution_count": 0,
      "outputs": []
    },
    {
      "cell_type": "code",
      "metadata": {
        "_uuid": "02a92f609933a80a0be514ce3c0c4f9725daf81b",
        "id": "9xqxC4i_Hv0f",
        "colab_type": "code",
        "outputId": "ba331ca4-c5d4-4f93-da83-8b9b13feb0d5",
        "colab": {
          "base_uri": "https://localhost:8080/",
          "height": 8765
        }
      },
      "source": [
        "\n",
        "history = [0] * nets\n",
        "epochs = 15\n",
        "\n",
        "datagen = ImageDataGenerator(\n",
        "    rotation_range=13,\n",
        "    zoom_range=0.11,\n",
        "    width_shift_range=0.1,\n",
        "    height_shift_range=0.1\n",
        ")\n",
        "\n",
        "datagen.fit(X_train)\n",
        "\n",
        "for j in range(nets):\n",
        "    print(f'Net : {j+1}')   \n",
        "    X_train2, X_val2, Y_train2, Y_val2 = train_test_split(X_train, Y_train, test_size = 0.1)\n",
        "    history[j] = model[j].fit_generator(datagen.flow(X_train2,Y_train2, batch_size=64),\n",
        "        epochs = epochs, steps_per_epoch = X_train2.shape[0]//64,  \n",
        "        validation_data = (X_val2,Y_val2), callbacks=[learning_rate_reduction], verbose=1)\n",
        "    \n",
        "    print(\"CNN {0:d}: Epochs={1:d}, Train accuracy={2:.5f}, Validation accuracy={3:.5f}\".format(\n",
        "        j+1,epochs,max(history[j].history['acc']),max(history[j].history['val_acc']) ))"
      ],
      "execution_count": 0,
      "outputs": [
        {
          "output_type": "stream",
          "text": [
            "Net : 1\n",
            "Epoch 1/15\n",
            "118/118 [==============================] - 61s 516ms/step - loss: 1.0932 - acc: 0.6662 - val_loss: 0.4324 - val_acc: 0.8695\n",
            "Epoch 2/15\n",
            "118/118 [==============================] - 52s 441ms/step - loss: 0.5973 - acc: 0.8236 - val_loss: 0.3439 - val_acc: 0.8968\n",
            "Epoch 3/15\n",
            "118/118 [==============================] - 52s 444ms/step - loss: 0.5030 - acc: 0.8473 - val_loss: 0.2893 - val_acc: 0.9122\n",
            "Epoch 4/15\n",
            "118/118 [==============================] - 52s 440ms/step - loss: 0.4514 - acc: 0.8642 - val_loss: 0.2802 - val_acc: 0.9134\n",
            "Epoch 5/15\n",
            "118/118 [==============================] - 52s 442ms/step - loss: 0.4215 - acc: 0.8743 - val_loss: 0.2722 - val_acc: 0.9146\n",
            "Epoch 6/15\n",
            "118/118 [==============================] - 52s 443ms/step - loss: 0.3862 - acc: 0.8833 - val_loss: 0.2711 - val_acc: 0.9170\n",
            "Epoch 7/15\n",
            "118/118 [==============================] - 52s 441ms/step - loss: 0.3688 - acc: 0.8894 - val_loss: 0.2947 - val_acc: 0.9193\n",
            "Epoch 8/15\n",
            "118/118 [==============================] - 52s 440ms/step - loss: 0.3408 - acc: 0.8951 - val_loss: 0.2566 - val_acc: 0.9241\n",
            "Epoch 9/15\n",
            "118/118 [==============================] - 53s 447ms/step - loss: 0.3480 - acc: 0.8944 - val_loss: 0.2280 - val_acc: 0.9229\n",
            "Epoch 10/15\n",
            "118/118 [==============================] - 52s 443ms/step - loss: 0.3120 - acc: 0.9046 - val_loss: 0.2436 - val_acc: 0.9265\n",
            "Epoch 11/15\n",
            "118/118 [==============================] - 53s 446ms/step - loss: 0.3204 - acc: 0.9044 - val_loss: 0.2260 - val_acc: 0.9265\n",
            "Epoch 12/15\n",
            "118/118 [==============================] - 53s 448ms/step - loss: 0.3109 - acc: 0.9078 - val_loss: 0.2159 - val_acc: 0.9312\n",
            "Epoch 13/15\n",
            "118/118 [==============================] - 53s 450ms/step - loss: 0.3031 - acc: 0.9074 - val_loss: 0.7700 - val_acc: 0.8197\n",
            "Epoch 14/15\n",
            "118/118 [==============================] - 53s 450ms/step - loss: 0.2860 - acc: 0.9128 - val_loss: 0.1991 - val_acc: 0.9395\n",
            "Epoch 15/15\n",
            "118/118 [==============================] - 54s 457ms/step - loss: 0.2814 - acc: 0.9121 - val_loss: 0.1992 - val_acc: 0.9383\n",
            "CNN 1: Epochs=15, Train accuracy=0.91273, Validation accuracy=0.93950\n",
            "Net : 2\n",
            "Epoch 1/15\n",
            "118/118 [==============================] - 59s 503ms/step - loss: 1.0346 - acc: 0.6856 - val_loss: 0.4060 - val_acc: 0.8790\n",
            "Epoch 2/15\n",
            "118/118 [==============================] - 53s 451ms/step - loss: 0.5950 - acc: 0.8207 - val_loss: 0.3138 - val_acc: 0.9110\n",
            "Epoch 3/15\n",
            "118/118 [==============================] - 53s 451ms/step - loss: 0.4907 - acc: 0.8526 - val_loss: 0.2779 - val_acc: 0.9170\n",
            "Epoch 4/15\n",
            "118/118 [==============================] - 53s 449ms/step - loss: 0.4503 - acc: 0.8653 - val_loss: 0.2450 - val_acc: 0.9276\n",
            "Epoch 5/15\n",
            "118/118 [==============================] - 54s 455ms/step - loss: 0.4037 - acc: 0.8785 - val_loss: 0.2331 - val_acc: 0.9288\n",
            "Epoch 6/15\n",
            "118/118 [==============================] - 53s 451ms/step - loss: 0.3848 - acc: 0.8860 - val_loss: 0.2313 - val_acc: 0.9348\n",
            "Epoch 7/15\n",
            "118/118 [==============================] - 54s 454ms/step - loss: 0.3708 - acc: 0.8888 - val_loss: 0.2336 - val_acc: 0.9276\n",
            "Epoch 8/15\n",
            "118/118 [==============================] - 54s 455ms/step - loss: 0.3500 - acc: 0.8906 - val_loss: 0.2068 - val_acc: 0.9395\n",
            "Epoch 9/15\n",
            "118/118 [==============================] - 53s 453ms/step - loss: 0.3279 - acc: 0.8986 - val_loss: 0.2125 - val_acc: 0.9348\n",
            "Epoch 10/15\n",
            "118/118 [==============================] - 53s 453ms/step - loss: 0.3387 - acc: 0.8982 - val_loss: 0.1933 - val_acc: 0.9395\n",
            "Epoch 11/15\n",
            "118/118 [==============================] - 54s 457ms/step - loss: 0.3089 - acc: 0.9050 - val_loss: 0.1955 - val_acc: 0.9407\n",
            "Epoch 12/15\n",
            "118/118 [==============================] - 53s 450ms/step - loss: 0.2999 - acc: 0.9110 - val_loss: 0.1977 - val_acc: 0.9348\n",
            "Epoch 13/15\n",
            "118/118 [==============================] - 53s 450ms/step - loss: 0.2970 - acc: 0.9090 - val_loss: 0.2537 - val_acc: 0.9110\n",
            "Epoch 14/15\n",
            "118/118 [==============================] - 53s 450ms/step - loss: 0.2989 - acc: 0.9099 - val_loss: 0.1913 - val_acc: 0.9454\n",
            "Epoch 15/15\n",
            "118/118 [==============================] - 53s 450ms/step - loss: 0.2816 - acc: 0.9136 - val_loss: 0.1941 - val_acc: 0.9454\n",
            "CNN 2: Epochs=15, Train accuracy=0.91366, Validation accuracy=0.94543\n",
            "Net : 3\n",
            "Epoch 1/15\n",
            "118/118 [==============================] - 60s 511ms/step - loss: 1.0683 - acc: 0.6793 - val_loss: 0.5010 - val_acc: 0.8375\n",
            "Epoch 2/15\n",
            "118/118 [==============================] - 54s 455ms/step - loss: 0.6231 - acc: 0.8120 - val_loss: 0.4035 - val_acc: 0.8826\n",
            "Epoch 3/15\n",
            "118/118 [==============================] - 53s 451ms/step - loss: 0.5098 - acc: 0.8418 - val_loss: 0.3383 - val_acc: 0.8956\n",
            "Epoch 4/15\n",
            "118/118 [==============================] - 53s 452ms/step - loss: 0.4686 - acc: 0.8577 - val_loss: 0.3047 - val_acc: 0.9110\n",
            "Epoch 5/15\n",
            "118/118 [==============================] - 53s 453ms/step - loss: 0.4263 - acc: 0.8722 - val_loss: 0.2738 - val_acc: 0.9181\n",
            "Epoch 6/15\n",
            "118/118 [==============================] - 53s 451ms/step - loss: 0.4058 - acc: 0.8763 - val_loss: 0.2663 - val_acc: 0.9217\n",
            "Epoch 7/15\n",
            "118/118 [==============================] - 52s 437ms/step - loss: 0.3679 - acc: 0.8888 - val_loss: 0.2551 - val_acc: 0.9205\n",
            "Epoch 8/15\n",
            "118/118 [==============================] - 54s 455ms/step - loss: 0.3540 - acc: 0.8937 - val_loss: 0.2488 - val_acc: 0.9217\n",
            "Epoch 9/15\n",
            "118/118 [==============================] - 53s 449ms/step - loss: 0.3368 - acc: 0.9007 - val_loss: 0.2320 - val_acc: 0.9348\n",
            "Epoch 10/15\n",
            "118/118 [==============================] - 53s 448ms/step - loss: 0.3258 - acc: 0.9013 - val_loss: 0.2319 - val_acc: 0.9336\n",
            "Epoch 11/15\n",
            "118/118 [==============================] - 53s 447ms/step - loss: 0.3316 - acc: 0.8986 - val_loss: 0.2258 - val_acc: 0.9371\n",
            "Epoch 12/15\n",
            "118/118 [==============================] - 53s 450ms/step - loss: 0.3022 - acc: 0.9074 - val_loss: 0.2163 - val_acc: 0.9312\n",
            "Epoch 13/15\n",
            "118/118 [==============================] - 53s 452ms/step - loss: 0.3044 - acc: 0.9100 - val_loss: 0.2208 - val_acc: 0.9383\n",
            "Epoch 14/15\n",
            "118/118 [==============================] - 53s 453ms/step - loss: 0.2920 - acc: 0.9123 - val_loss: 0.2126 - val_acc: 0.9371\n",
            "Epoch 15/15\n",
            "118/118 [==============================] - 53s 447ms/step - loss: 0.2847 - acc: 0.9180 - val_loss: 0.2056 - val_acc: 0.9442\n",
            "CNN 3: Epochs=15, Train accuracy=0.91779, Validation accuracy=0.94425\n",
            "Net : 4\n",
            "Epoch 1/15\n",
            "118/118 [==============================] - 62s 522ms/step - loss: 1.0221 - acc: 0.6961 - val_loss: 0.4313 - val_acc: 0.8648\n",
            "Epoch 2/15\n",
            "118/118 [==============================] - 55s 463ms/step - loss: 0.5782 - acc: 0.8290 - val_loss: 0.3084 - val_acc: 0.9063\n",
            "Epoch 3/15\n",
            "118/118 [==============================] - 55s 462ms/step - loss: 0.4817 - acc: 0.8576 - val_loss: 0.4557 - val_acc: 0.8529\n",
            "Epoch 4/15\n",
            "118/118 [==============================] - 55s 466ms/step - loss: 0.4309 - acc: 0.8715 - val_loss: 0.2818 - val_acc: 0.9158\n",
            "Epoch 5/15\n",
            "118/118 [==============================] - 55s 462ms/step - loss: 0.4009 - acc: 0.8836 - val_loss: 0.2628 - val_acc: 0.9181\n",
            "Epoch 6/15\n",
            "118/118 [==============================] - 54s 462ms/step - loss: 0.3610 - acc: 0.8942 - val_loss: 0.2640 - val_acc: 0.9205\n",
            "Epoch 7/15\n",
            "118/118 [==============================] - 55s 462ms/step - loss: 0.3635 - acc: 0.8919 - val_loss: 0.2753 - val_acc: 0.9134\n",
            "Epoch 8/15\n",
            "118/118 [==============================] - 55s 464ms/step - loss: 0.3347 - acc: 0.8997 - val_loss: 0.2527 - val_acc: 0.9217\n",
            "Epoch 9/15\n",
            "118/118 [==============================] - 55s 462ms/step - loss: 0.3187 - acc: 0.9016 - val_loss: 0.2390 - val_acc: 0.9229\n",
            "Epoch 10/15\n",
            "118/118 [==============================] - 55s 465ms/step - loss: 0.3263 - acc: 0.9001 - val_loss: 0.2249 - val_acc: 0.9253\n",
            "Epoch 11/15\n",
            "118/118 [==============================] - 55s 464ms/step - loss: 0.3084 - acc: 0.9102 - val_loss: 0.2857 - val_acc: 0.9075\n",
            "Epoch 12/15\n",
            "118/118 [==============================] - 55s 464ms/step - loss: 0.2907 - acc: 0.9087 - val_loss: 0.2259 - val_acc: 0.9336\n",
            "Epoch 13/15\n",
            "118/118 [==============================] - 55s 463ms/step - loss: 0.3020 - acc: 0.9099 - val_loss: 0.2317 - val_acc: 0.9288\n",
            "Epoch 14/15\n",
            "118/118 [==============================] - 55s 463ms/step - loss: 0.2905 - acc: 0.9121 - val_loss: 0.2673 - val_acc: 0.9122\n",
            "Epoch 15/15\n",
            "118/118 [==============================] - 55s 464ms/step - loss: 0.2578 - acc: 0.9209 - val_loss: 0.2195 - val_acc: 0.9300\n",
            "CNN 4: Epochs=15, Train accuracy=0.92071, Validation accuracy=0.93357\n",
            "Net : 5\n",
            "Epoch 1/15\n",
            "118/118 [==============================] - 64s 544ms/step - loss: 1.0496 - acc: 0.6782 - val_loss: 0.4864 - val_acc: 0.8410\n",
            "Epoch 2/15\n",
            "118/118 [==============================] - 57s 482ms/step - loss: 0.6057 - acc: 0.8187 - val_loss: 0.3448 - val_acc: 0.9158\n",
            "Epoch 3/15\n",
            "118/118 [==============================] - 57s 480ms/step - loss: 0.5061 - acc: 0.8468 - val_loss: 0.2870 - val_acc: 0.9205\n",
            "Epoch 4/15\n",
            "118/118 [==============================] - 57s 482ms/step - loss: 0.4539 - acc: 0.8678 - val_loss: 0.2221 - val_acc: 0.9336\n",
            "Epoch 5/15\n",
            "118/118 [==============================] - 57s 481ms/step - loss: 0.4015 - acc: 0.8811 - val_loss: 0.2227 - val_acc: 0.9336\n",
            "Epoch 6/15\n",
            "118/118 [==============================] - 57s 484ms/step - loss: 0.3869 - acc: 0.8843 - val_loss: 0.2335 - val_acc: 0.9371\n",
            "Epoch 7/15\n",
            "118/118 [==============================] - 57s 480ms/step - loss: 0.3639 - acc: 0.8885 - val_loss: 0.2107 - val_acc: 0.9431\n",
            "Epoch 8/15\n",
            "118/118 [==============================] - 57s 480ms/step - loss: 0.3514 - acc: 0.8930 - val_loss: 0.1891 - val_acc: 0.9514\n",
            "Epoch 9/15\n",
            "118/118 [==============================] - 57s 480ms/step - loss: 0.3415 - acc: 0.8935 - val_loss: 0.1871 - val_acc: 0.9490\n",
            "Epoch 10/15\n",
            "118/118 [==============================] - 56s 479ms/step - loss: 0.3235 - acc: 0.9034 - val_loss: 0.1943 - val_acc: 0.9442\n",
            "Epoch 11/15\n",
            "118/118 [==============================] - 57s 482ms/step - loss: 0.3137 - acc: 0.9041 - val_loss: 0.1885 - val_acc: 0.9466\n",
            "Epoch 12/15\n",
            "118/118 [==============================] - 56s 479ms/step - loss: 0.3027 - acc: 0.9091 - val_loss: 0.1761 - val_acc: 0.9549\n",
            "Epoch 13/15\n",
            "118/118 [==============================] - 57s 481ms/step - loss: 0.3003 - acc: 0.9068 - val_loss: 0.1838 - val_acc: 0.9478\n",
            "Epoch 14/15\n",
            "118/118 [==============================] - 57s 479ms/step - loss: 0.2939 - acc: 0.9133 - val_loss: 0.1713 - val_acc: 0.9561\n",
            "Epoch 15/15\n",
            "118/118 [==============================] - 56s 478ms/step - loss: 0.2728 - acc: 0.9172 - val_loss: 0.1775 - val_acc: 0.9537\n",
            "CNN 5: Epochs=15, Train accuracy=0.91712, Validation accuracy=0.95611\n",
            "Net : 6\n",
            "Epoch 1/15\n",
            "118/118 [==============================] - 63s 534ms/step - loss: 1.0560 - acc: 0.6862 - val_loss: 0.4245 - val_acc: 0.8826\n",
            "Epoch 2/15\n",
            "118/118 [==============================] - 55s 469ms/step - loss: 0.6140 - acc: 0.8155 - val_loss: 0.3582 - val_acc: 0.8968\n",
            "Epoch 3/15\n",
            "118/118 [==============================] - 55s 467ms/step - loss: 0.5120 - acc: 0.8491 - val_loss: 0.2982 - val_acc: 0.9158\n",
            "Epoch 4/15\n",
            "118/118 [==============================] - 55s 467ms/step - loss: 0.4604 - acc: 0.8618 - val_loss: 0.2641 - val_acc: 0.9276\n",
            "Epoch 5/15\n",
            "118/118 [==============================] - 55s 466ms/step - loss: 0.4411 - acc: 0.8661 - val_loss: 0.2723 - val_acc: 0.9193\n",
            "Epoch 6/15\n",
            "118/118 [==============================] - 55s 466ms/step - loss: 0.4069 - acc: 0.8771 - val_loss: 0.2501 - val_acc: 0.9312\n",
            "Epoch 7/15\n",
            "118/118 [==============================] - 55s 465ms/step - loss: 0.3822 - acc: 0.8856 - val_loss: 0.2531 - val_acc: 0.9276\n",
            "Epoch 8/15\n",
            "118/118 [==============================] - 54s 462ms/step - loss: 0.3518 - acc: 0.8953 - val_loss: 0.2516 - val_acc: 0.9300\n",
            "Epoch 9/15\n",
            "118/118 [==============================] - 54s 461ms/step - loss: 0.3398 - acc: 0.8972 - val_loss: 0.3458 - val_acc: 0.8826\n",
            "Epoch 10/15\n",
            "118/118 [==============================] - 54s 459ms/step - loss: 0.3252 - acc: 0.9028 - val_loss: 0.2244 - val_acc: 0.9407\n",
            "Epoch 11/15\n",
            "118/118 [==============================] - 54s 462ms/step - loss: 0.3143 - acc: 0.9041 - val_loss: 0.2213 - val_acc: 0.9407\n",
            "Epoch 12/15\n",
            "118/118 [==============================] - 55s 467ms/step - loss: 0.3175 - acc: 0.9020 - val_loss: 0.2161 - val_acc: 0.9371\n",
            "Epoch 13/15\n",
            "118/118 [==============================] - 55s 468ms/step - loss: 0.2992 - acc: 0.9093 - val_loss: 0.2137 - val_acc: 0.9419\n",
            "Epoch 14/15\n",
            "118/118 [==============================] - 55s 464ms/step - loss: 0.2946 - acc: 0.9113 - val_loss: 0.2157 - val_acc: 0.9383\n",
            "Epoch 15/15\n",
            "118/118 [==============================] - 55s 466ms/step - loss: 0.2946 - acc: 0.9112 - val_loss: 0.2173 - val_acc: 0.9431\n",
            "CNN 6: Epochs=15, Train accuracy=0.91140, Validation accuracy=0.94306\n",
            "Net : 7\n",
            "Epoch 1/15\n",
            "118/118 [==============================] - 64s 542ms/step - loss: 1.0179 - acc: 0.6935 - val_loss: 0.7043 - val_acc: 0.7746\n",
            "Epoch 2/15\n",
            "118/118 [==============================] - 55s 467ms/step - loss: 0.5833 - acc: 0.8215 - val_loss: 0.3913 - val_acc: 0.8849\n",
            "Epoch 3/15\n",
            "118/118 [==============================] - 55s 464ms/step - loss: 0.4657 - acc: 0.8638 - val_loss: 0.3182 - val_acc: 0.9051\n",
            "Epoch 4/15\n",
            "118/118 [==============================] - 55s 466ms/step - loss: 0.4327 - acc: 0.8689 - val_loss: 0.3204 - val_acc: 0.8968\n",
            "Epoch 5/15\n",
            "118/118 [==============================] - 55s 463ms/step - loss: 0.3926 - acc: 0.8824 - val_loss: 0.2691 - val_acc: 0.9158\n",
            "Epoch 6/15\n",
            "118/118 [==============================] - 54s 460ms/step - loss: 0.3870 - acc: 0.8823 - val_loss: 0.2762 - val_acc: 0.9217\n",
            "Epoch 7/15\n",
            "118/118 [==============================] - 54s 460ms/step - loss: 0.3525 - acc: 0.8961 - val_loss: 0.2483 - val_acc: 0.9276\n",
            "Epoch 8/15\n",
            "118/118 [==============================] - 55s 464ms/step - loss: 0.3294 - acc: 0.9001 - val_loss: 0.2487 - val_acc: 0.9229\n",
            "Epoch 9/15\n",
            "118/118 [==============================] - 55s 469ms/step - loss: 0.3251 - acc: 0.9034 - val_loss: 0.2327 - val_acc: 0.9288\n",
            "Epoch 10/15\n",
            "118/118 [==============================] - 55s 466ms/step - loss: 0.3217 - acc: 0.9053 - val_loss: 0.2443 - val_acc: 0.9300\n",
            "Epoch 11/15\n",
            "118/118 [==============================] - 55s 466ms/step - loss: 0.3051 - acc: 0.9076 - val_loss: 0.2245 - val_acc: 0.9371\n",
            "Epoch 12/15\n",
            "118/118 [==============================] - 55s 465ms/step - loss: 0.2978 - acc: 0.9098 - val_loss: 0.2417 - val_acc: 0.9288\n",
            "Epoch 13/15\n",
            "118/118 [==============================] - 55s 466ms/step - loss: 0.2922 - acc: 0.9122 - val_loss: 0.2284 - val_acc: 0.9336\n",
            "Epoch 14/15\n",
            "118/118 [==============================] - 55s 467ms/step - loss: 0.2825 - acc: 0.9160 - val_loss: 0.2194 - val_acc: 0.9348\n",
            "Epoch 15/15\n",
            "118/118 [==============================] - 55s 468ms/step - loss: 0.2618 - acc: 0.9210 - val_loss: 0.2243 - val_acc: 0.9336\n",
            "CNN 7: Epochs=15, Train accuracy=0.92111, Validation accuracy=0.93713\n",
            "Net : 8\n",
            "Epoch 1/15\n",
            "118/118 [==============================] - 61s 521ms/step - loss: 1.0443 - acc: 0.6875 - val_loss: 0.4580 - val_acc: 0.8493\n",
            "Epoch 2/15\n",
            "118/118 [==============================] - 53s 450ms/step - loss: 0.6117 - acc: 0.8180 - val_loss: 0.3211 - val_acc: 0.9122\n",
            "Epoch 3/15\n",
            "118/118 [==============================] - 53s 447ms/step - loss: 0.5419 - acc: 0.8365 - val_loss: 0.2704 - val_acc: 0.9170\n",
            "Epoch 4/15\n",
            "118/118 [==============================] - 53s 447ms/step - loss: 0.4526 - acc: 0.8640 - val_loss: 0.2625 - val_acc: 0.9217\n",
            "Epoch 5/15\n",
            "118/118 [==============================] - 53s 451ms/step - loss: 0.4205 - acc: 0.8774 - val_loss: 0.2440 - val_acc: 0.9229\n",
            "Epoch 6/15\n",
            "118/118 [==============================] - 53s 449ms/step - loss: 0.3951 - acc: 0.8801 - val_loss: 0.2186 - val_acc: 0.9288\n",
            "Epoch 7/15\n",
            "118/118 [==============================] - 53s 447ms/step - loss: 0.3718 - acc: 0.8913 - val_loss: 0.2296 - val_acc: 0.9265\n",
            "Epoch 8/15\n",
            "118/118 [==============================] - 53s 448ms/step - loss: 0.3592 - acc: 0.8918 - val_loss: 0.2304 - val_acc: 0.9276\n",
            "Epoch 9/15\n",
            "118/118 [==============================] - 53s 448ms/step - loss: 0.3385 - acc: 0.8946 - val_loss: 0.2240 - val_acc: 0.9253\n",
            "Epoch 10/15\n",
            "118/118 [==============================] - 53s 451ms/step - loss: 0.3172 - acc: 0.9066 - val_loss: 0.2087 - val_acc: 0.9324\n",
            "Epoch 11/15\n",
            "118/118 [==============================] - 53s 452ms/step - loss: 0.3132 - acc: 0.9027 - val_loss: 0.2005 - val_acc: 0.9336\n",
            "Epoch 12/15\n",
            "118/118 [==============================] - 53s 448ms/step - loss: 0.3001 - acc: 0.9077 - val_loss: 0.1987 - val_acc: 0.9371\n",
            "Epoch 13/15\n",
            "118/118 [==============================] - 53s 448ms/step - loss: 0.3020 - acc: 0.9082 - val_loss: 0.1927 - val_acc: 0.9383\n",
            "Epoch 14/15\n",
            "118/118 [==============================] - 53s 448ms/step - loss: 0.2886 - acc: 0.9141 - val_loss: 0.1973 - val_acc: 0.9383\n",
            "Epoch 15/15\n",
            "118/118 [==============================] - 53s 449ms/step - loss: 0.3013 - acc: 0.9072 - val_loss: 0.2017 - val_acc: 0.9348\n",
            "CNN 8: Epochs=15, Train accuracy=0.91419, Validation accuracy=0.93832\n",
            "Net : 9\n",
            "Epoch 1/15\n",
            "118/118 [==============================] - 61s 520ms/step - loss: 1.0606 - acc: 0.6863 - val_loss: 0.4433 - val_acc: 0.8837\n",
            "Epoch 2/15\n",
            "118/118 [==============================] - 53s 451ms/step - loss: 0.6044 - acc: 0.8185 - val_loss: 0.5231 - val_acc: 0.8600\n",
            "Epoch 3/15\n",
            "118/118 [==============================] - 53s 448ms/step - loss: 0.4791 - acc: 0.8580 - val_loss: 0.3311 - val_acc: 0.8992\n",
            "Epoch 4/15\n",
            "118/118 [==============================] - 53s 448ms/step - loss: 0.4441 - acc: 0.8677 - val_loss: 0.2894 - val_acc: 0.9205\n",
            "Epoch 5/15\n",
            "118/118 [==============================] - 53s 448ms/step - loss: 0.3836 - acc: 0.8834 - val_loss: 0.2624 - val_acc: 0.9229\n",
            "Epoch 6/15\n",
            "118/118 [==============================] - 53s 450ms/step - loss: 0.3850 - acc: 0.8835 - val_loss: 0.2586 - val_acc: 0.9229\n",
            "Epoch 7/15\n",
            "118/118 [==============================] - 53s 448ms/step - loss: 0.3500 - acc: 0.8938 - val_loss: 0.2513 - val_acc: 0.9193\n",
            "Epoch 8/15\n",
            "118/118 [==============================] - 53s 451ms/step - loss: 0.3601 - acc: 0.8920 - val_loss: 0.3633 - val_acc: 0.8671\n",
            "Epoch 9/15\n",
            "118/118 [==============================] - 53s 447ms/step - loss: 0.3211 - acc: 0.9032 - val_loss: 0.2252 - val_acc: 0.9288\n",
            "Epoch 10/15\n",
            "118/118 [==============================] - 53s 449ms/step - loss: 0.3003 - acc: 0.9087 - val_loss: 0.2310 - val_acc: 0.9288\n",
            "Epoch 11/15\n",
            "118/118 [==============================] - 53s 448ms/step - loss: 0.3027 - acc: 0.9079 - val_loss: 0.2382 - val_acc: 0.9205\n",
            "Epoch 12/15\n",
            "118/118 [==============================] - 53s 450ms/step - loss: 0.2932 - acc: 0.9126 - val_loss: 0.2033 - val_acc: 0.9348\n",
            "Epoch 13/15\n",
            "118/118 [==============================] - 54s 453ms/step - loss: 0.2839 - acc: 0.9116 - val_loss: 0.2054 - val_acc: 0.9312\n",
            "Epoch 14/15\n",
            "118/118 [==============================] - 54s 454ms/step - loss: 0.2982 - acc: 0.9116 - val_loss: 0.2054 - val_acc: 0.9300\n",
            "Epoch 15/15\n",
            "118/118 [==============================] - 53s 452ms/step - loss: 0.2724 - acc: 0.9172 - val_loss: 0.2034 - val_acc: 0.9312\n",
            "CNN 9: Epochs=15, Train accuracy=0.91712, Validation accuracy=0.93476\n",
            "Net : 10\n",
            "Epoch 1/15\n",
            "118/118 [==============================] - 63s 536ms/step - loss: 1.0888 - acc: 0.6698 - val_loss: 0.6707 - val_acc: 0.8055\n",
            "Epoch 2/15\n",
            "118/118 [==============================] - 55s 463ms/step - loss: 0.5940 - acc: 0.8218 - val_loss: 0.7997 - val_acc: 0.7770\n",
            "Epoch 3/15\n",
            "118/118 [==============================] - 55s 466ms/step - loss: 0.5090 - acc: 0.8473 - val_loss: 0.3306 - val_acc: 0.9039\n",
            "Epoch 4/15\n",
            "118/118 [==============================] - 55s 469ms/step - loss: 0.4349 - acc: 0.8703 - val_loss: 0.3132 - val_acc: 0.9170\n",
            "Epoch 5/15\n",
            "118/118 [==============================] - 55s 467ms/step - loss: 0.4113 - acc: 0.8778 - val_loss: 0.3495 - val_acc: 0.8909\n",
            "Epoch 6/15\n",
            "118/118 [==============================] - 55s 467ms/step - loss: 0.3839 - acc: 0.8844 - val_loss: 0.2886 - val_acc: 0.9205\n",
            "Epoch 7/15\n",
            "118/118 [==============================] - 55s 465ms/step - loss: 0.3705 - acc: 0.8879 - val_loss: 0.2753 - val_acc: 0.9312\n",
            "Epoch 8/15\n",
            "118/118 [==============================] - 55s 469ms/step - loss: 0.3463 - acc: 0.8980 - val_loss: 0.2653 - val_acc: 0.9205\n",
            "Epoch 9/15\n",
            "118/118 [==============================] - 55s 466ms/step - loss: 0.3390 - acc: 0.8971 - val_loss: 0.2411 - val_acc: 0.9265\n",
            "Epoch 10/15\n",
            "118/118 [==============================] - 55s 469ms/step - loss: 0.3218 - acc: 0.9003 - val_loss: 0.2589 - val_acc: 0.9229\n",
            "Epoch 11/15\n",
            "118/118 [==============================] - 55s 467ms/step - loss: 0.3039 - acc: 0.9079 - val_loss: 0.2401 - val_acc: 0.9276\n",
            "Epoch 12/15\n",
            "118/118 [==============================] - 55s 467ms/step - loss: 0.2810 - acc: 0.9146 - val_loss: 0.2307 - val_acc: 0.9253\n",
            "Epoch 13/15\n",
            "118/118 [==============================] - 55s 469ms/step - loss: 0.2927 - acc: 0.9106 - val_loss: 0.2480 - val_acc: 0.9265\n",
            "Epoch 14/15\n",
            "118/118 [==============================] - 55s 468ms/step - loss: 0.2895 - acc: 0.9108 - val_loss: 0.2323 - val_acc: 0.9276\n",
            "Epoch 15/15\n",
            "118/118 [==============================] - 56s 472ms/step - loss: 0.2655 - acc: 0.9206 - val_loss: 0.2301 - val_acc: 0.9265\n",
            "CNN 10: Epochs=15, Train accuracy=0.92058, Validation accuracy=0.93120\n",
            "Net : 11\n",
            "Epoch 1/15\n",
            "118/118 [==============================] - 64s 542ms/step - loss: 1.0128 - acc: 0.7011 - val_loss: 0.3923 - val_acc: 0.8909\n",
            "Epoch 2/15\n",
            "118/118 [==============================] - 55s 465ms/step - loss: 0.5746 - acc: 0.8265 - val_loss: 0.3341 - val_acc: 0.9075\n",
            "Epoch 3/15\n",
            "118/118 [==============================] - 55s 465ms/step - loss: 0.5038 - acc: 0.8497 - val_loss: 0.2867 - val_acc: 0.9181\n",
            "Epoch 4/15\n",
            "118/118 [==============================] - 55s 469ms/step - loss: 0.4345 - acc: 0.8718 - val_loss: 0.2873 - val_acc: 0.9265\n",
            "Epoch 5/15\n",
            "118/118 [==============================] - 55s 469ms/step - loss: 0.4134 - acc: 0.8755 - val_loss: 0.2733 - val_acc: 0.9276\n",
            "Epoch 6/15\n",
            "118/118 [==============================] - 56s 471ms/step - loss: 0.3815 - acc: 0.8832 - val_loss: 0.2530 - val_acc: 0.9300\n",
            "Epoch 7/15\n",
            "118/118 [==============================] - 55s 470ms/step - loss: 0.3641 - acc: 0.8936 - val_loss: 0.2499 - val_acc: 0.9288\n",
            "Epoch 8/15\n",
            "118/118 [==============================] - 55s 469ms/step - loss: 0.3540 - acc: 0.8925 - val_loss: 0.2628 - val_acc: 0.9217\n",
            "Epoch 9/15\n",
            "118/118 [==============================] - 56s 472ms/step - loss: 0.3307 - acc: 0.9000 - val_loss: 0.2453 - val_acc: 0.9359\n",
            "Epoch 10/15\n",
            "118/118 [==============================] - 55s 469ms/step - loss: 0.3251 - acc: 0.8989 - val_loss: 0.2288 - val_acc: 0.9407\n",
            "Epoch 11/15\n",
            "118/118 [==============================] - 56s 475ms/step - loss: 0.3040 - acc: 0.9073 - val_loss: 0.2377 - val_acc: 0.9348\n",
            "Epoch 12/15\n",
            "118/118 [==============================] - 56s 472ms/step - loss: 0.3024 - acc: 0.9097 - val_loss: 0.2398 - val_acc: 0.9312\n",
            "Epoch 13/15\n",
            "118/118 [==============================] - 56s 472ms/step - loss: 0.2973 - acc: 0.9080 - val_loss: 0.2412 - val_acc: 0.9348\n",
            "Epoch 14/15\n",
            "118/118 [==============================] - 56s 472ms/step - loss: 0.2757 - acc: 0.9176 - val_loss: 0.2184 - val_acc: 0.9395\n",
            "Epoch 15/15\n",
            "118/118 [==============================] - 56s 474ms/step - loss: 0.2686 - acc: 0.9182 - val_loss: 0.2155 - val_acc: 0.9395\n",
            "CNN 11: Epochs=15, Train accuracy=0.91832, Validation accuracy=0.94069\n",
            "Net : 12\n",
            "Epoch 1/15\n",
            "118/118 [==============================] - 65s 552ms/step - loss: 1.0889 - acc: 0.6814 - val_loss: 0.4371 - val_acc: 0.8648\n",
            "Epoch 2/15\n",
            "118/118 [==============================] - 55s 466ms/step - loss: 0.5943 - acc: 0.8253 - val_loss: 0.3626 - val_acc: 0.8932\n",
            "Epoch 3/15\n",
            "118/118 [==============================] - 54s 462ms/step - loss: 0.5129 - acc: 0.8510 - val_loss: 0.3089 - val_acc: 0.9063\n",
            "Epoch 4/15\n",
            "118/118 [==============================] - 55s 462ms/step - loss: 0.4373 - acc: 0.8688 - val_loss: 0.2925 - val_acc: 0.9134\n",
            "Epoch 5/15\n",
            "118/118 [==============================] - 55s 465ms/step - loss: 0.4089 - acc: 0.8746 - val_loss: 0.2815 - val_acc: 0.9229\n",
            "Epoch 6/15\n",
            "118/118 [==============================] - 55s 465ms/step - loss: 0.3870 - acc: 0.8834 - val_loss: 0.2511 - val_acc: 0.9241\n",
            "Epoch 7/15\n",
            "118/118 [==============================] - 55s 465ms/step - loss: 0.3587 - acc: 0.8950 - val_loss: 0.2743 - val_acc: 0.9229\n",
            "Epoch 8/15\n",
            "118/118 [==============================] - 55s 462ms/step - loss: 0.3507 - acc: 0.8979 - val_loss: 0.2549 - val_acc: 0.9324\n",
            "Epoch 9/15\n",
            "118/118 [==============================] - 54s 460ms/step - loss: 0.3418 - acc: 0.8968 - val_loss: 0.2384 - val_acc: 0.9312\n",
            "Epoch 10/15\n",
            "118/118 [==============================] - 54s 460ms/step - loss: 0.3185 - acc: 0.9035 - val_loss: 0.2373 - val_acc: 0.9336\n",
            "Epoch 11/15\n",
            "118/118 [==============================] - 55s 463ms/step - loss: 0.3151 - acc: 0.9065 - val_loss: 0.2284 - val_acc: 0.9312\n",
            "Epoch 12/15\n",
            "118/118 [==============================] - 55s 462ms/step - loss: 0.2937 - acc: 0.9098 - val_loss: 0.2128 - val_acc: 0.9383\n",
            "Epoch 13/15\n",
            "118/118 [==============================] - 55s 467ms/step - loss: 0.2918 - acc: 0.9110 - val_loss: 0.2036 - val_acc: 0.9336\n",
            "Epoch 14/15\n",
            "118/118 [==============================] - 55s 463ms/step - loss: 0.2903 - acc: 0.9117 - val_loss: 0.2043 - val_acc: 0.9359\n",
            "Epoch 15/15\n",
            "118/118 [==============================] - 55s 463ms/step - loss: 0.2848 - acc: 0.9151 - val_loss: 0.2049 - val_acc: 0.9383\n",
            "CNN 12: Epochs=15, Train accuracy=0.91486, Validation accuracy=0.93832\n",
            "Net : 13\n",
            "Epoch 1/15\n",
            "118/118 [==============================] - 64s 540ms/step - loss: 1.0603 - acc: 0.6751 - val_loss: 0.4131 - val_acc: 0.8695\n",
            "Epoch 2/15\n",
            "118/118 [==============================] - 53s 453ms/step - loss: 0.6192 - acc: 0.8128 - val_loss: 0.3510 - val_acc: 0.8921\n",
            "Epoch 3/15\n",
            "118/118 [==============================] - 54s 454ms/step - loss: 0.5135 - acc: 0.8449 - val_loss: 0.3128 - val_acc: 0.9027\n",
            "Epoch 4/15\n",
            "118/118 [==============================] - 54s 456ms/step - loss: 0.4463 - acc: 0.8667 - val_loss: 0.2776 - val_acc: 0.9205\n",
            "Epoch 5/15\n",
            "118/118 [==============================] - 53s 452ms/step - loss: 0.4159 - acc: 0.8737 - val_loss: 0.2766 - val_acc: 0.9134\n",
            "Epoch 6/15\n",
            "118/118 [==============================] - 53s 453ms/step - loss: 0.3774 - acc: 0.8871 - val_loss: 0.2528 - val_acc: 0.9217\n",
            "Epoch 7/15\n",
            "118/118 [==============================] - 54s 456ms/step - loss: 0.3574 - acc: 0.8923 - val_loss: 0.2379 - val_acc: 0.9300\n",
            "Epoch 8/15\n",
            "118/118 [==============================] - 53s 453ms/step - loss: 0.3381 - acc: 0.8960 - val_loss: 0.2385 - val_acc: 0.9300\n",
            "Epoch 9/15\n",
            "118/118 [==============================] - 54s 454ms/step - loss: 0.3329 - acc: 0.9016 - val_loss: 0.2393 - val_acc: 0.9312\n",
            "Epoch 10/15\n",
            "118/118 [==============================] - 53s 452ms/step - loss: 0.3123 - acc: 0.9053 - val_loss: 0.2308 - val_acc: 0.9265\n",
            "Epoch 11/15\n",
            "118/118 [==============================] - 53s 452ms/step - loss: 0.3194 - acc: 0.9060 - val_loss: 0.2436 - val_acc: 0.9205\n",
            "Epoch 12/15\n",
            "118/118 [==============================] - 53s 453ms/step - loss: 0.2929 - acc: 0.9110 - val_loss: 0.2372 - val_acc: 0.9193\n",
            "Epoch 13/15\n",
            "118/118 [==============================] - 54s 454ms/step - loss: 0.2724 - acc: 0.9177 - val_loss: 0.2302 - val_acc: 0.9336\n",
            "Epoch 14/15\n",
            "118/118 [==============================] - 54s 455ms/step - loss: 0.2690 - acc: 0.9174 - val_loss: 0.2178 - val_acc: 0.9371\n",
            "Epoch 15/15\n",
            "118/118 [==============================] - 54s 458ms/step - loss: 0.2619 - acc: 0.9157 - val_loss: 0.2174 - val_acc: 0.9348\n",
            "CNN 13: Epochs=15, Train accuracy=0.91765, Validation accuracy=0.93713\n",
            "Net : 14\n",
            "Epoch 1/15\n",
            "118/118 [==============================] - 63s 534ms/step - loss: 1.0530 - acc: 0.6807 - val_loss: 0.4343 - val_acc: 0.8802\n",
            "Epoch 2/15\n",
            "118/118 [==============================] - 53s 453ms/step - loss: 0.5891 - acc: 0.8262 - val_loss: 0.3561 - val_acc: 0.8980\n",
            "Epoch 3/15\n",
            "118/118 [==============================] - 53s 453ms/step - loss: 0.5010 - acc: 0.8495 - val_loss: 0.3417 - val_acc: 0.9027\n",
            "Epoch 4/15\n",
            "118/118 [==============================] - 53s 451ms/step - loss: 0.4590 - acc: 0.8655 - val_loss: 0.3076 - val_acc: 0.9087\n",
            "Epoch 5/15\n",
            "118/118 [==============================] - 53s 452ms/step - loss: 0.4181 - acc: 0.8736 - val_loss: 0.2966 - val_acc: 0.9098\n",
            "Epoch 6/15\n",
            "118/118 [==============================] - 54s 454ms/step - loss: 0.3828 - acc: 0.8863 - val_loss: 0.3114 - val_acc: 0.9098\n",
            "Epoch 7/15\n",
            "118/118 [==============================] - 53s 452ms/step - loss: 0.3683 - acc: 0.8908 - val_loss: 0.2741 - val_acc: 0.9217\n",
            "Epoch 8/15\n",
            "118/118 [==============================] - 53s 450ms/step - loss: 0.3589 - acc: 0.8907 - val_loss: 0.2670 - val_acc: 0.9181\n",
            "Epoch 9/15\n",
            "118/118 [==============================] - 53s 451ms/step - loss: 0.3272 - acc: 0.9028 - val_loss: 0.2695 - val_acc: 0.9205\n",
            "Epoch 10/15\n",
            "118/118 [==============================] - 53s 450ms/step - loss: 0.3344 - acc: 0.8994 - val_loss: 0.2596 - val_acc: 0.9217\n",
            "Epoch 11/15\n",
            "118/118 [==============================] - 53s 451ms/step - loss: 0.2984 - acc: 0.9108 - val_loss: 0.2533 - val_acc: 0.9205\n",
            "Epoch 12/15\n",
            "118/118 [==============================] - 53s 453ms/step - loss: 0.2971 - acc: 0.9089 - val_loss: 0.2515 - val_acc: 0.9229\n",
            "Epoch 13/15\n",
            "118/118 [==============================] - 53s 451ms/step - loss: 0.2822 - acc: 0.9144 - val_loss: 0.2515 - val_acc: 0.9241\n",
            "Epoch 14/15\n",
            "118/118 [==============================] - 54s 455ms/step - loss: 0.2920 - acc: 0.9119 - val_loss: 0.2664 - val_acc: 0.9205\n",
            "Epoch 15/15\n",
            "118/118 [==============================] - 54s 454ms/step - loss: 0.2754 - acc: 0.9179 - val_loss: 0.2440 - val_acc: 0.9265\n",
            "CNN 14: Epochs=15, Train accuracy=0.91819, Validation accuracy=0.92645\n",
            "Net : 15\n",
            "Epoch 1/15\n",
            "118/118 [==============================] - 64s 539ms/step - loss: 1.0798 - acc: 0.6732 - val_loss: 0.4025 - val_acc: 0.8695\n",
            "Epoch 2/15\n",
            "118/118 [==============================] - 54s 457ms/step - loss: 0.6061 - acc: 0.8211 - val_loss: 0.3290 - val_acc: 0.9098\n",
            "Epoch 3/15\n",
            "118/118 [==============================] - 53s 453ms/step - loss: 0.5014 - acc: 0.8501 - val_loss: 0.2561 - val_acc: 0.9205\n",
            "Epoch 4/15\n",
            "118/118 [==============================] - 54s 455ms/step - loss: 0.4339 - acc: 0.8721 - val_loss: 0.2382 - val_acc: 0.9241\n",
            "Epoch 5/15\n",
            "118/118 [==============================] - 54s 456ms/step - loss: 0.4176 - acc: 0.8782 - val_loss: 0.2244 - val_acc: 0.9288\n",
            "Epoch 6/15\n",
            "118/118 [==============================] - 54s 454ms/step - loss: 0.4006 - acc: 0.8797 - val_loss: 0.2178 - val_acc: 0.9265\n",
            "Epoch 7/15\n",
            "118/118 [==============================] - 54s 456ms/step - loss: 0.3669 - acc: 0.8957 - val_loss: 0.1847 - val_acc: 0.9454\n",
            "Epoch 8/15\n",
            "118/118 [==============================] - 54s 458ms/step - loss: 0.3485 - acc: 0.8980 - val_loss: 0.1988 - val_acc: 0.9431\n",
            "Epoch 9/15\n",
            "118/118 [==============================] - 54s 454ms/step - loss: 0.3332 - acc: 0.8985 - val_loss: 0.1824 - val_acc: 0.9336\n",
            "Epoch 10/15\n",
            "118/118 [==============================] - 54s 457ms/step - loss: 0.3152 - acc: 0.9015 - val_loss: 0.1820 - val_acc: 0.9419\n",
            "Epoch 11/15\n",
            "118/118 [==============================] - 53s 452ms/step - loss: 0.3184 - acc: 0.9043 - val_loss: 0.1745 - val_acc: 0.9431\n",
            "Epoch 12/15\n",
            "118/118 [==============================] - 53s 453ms/step - loss: 0.3021 - acc: 0.9116 - val_loss: 0.1752 - val_acc: 0.9419\n",
            "Epoch 13/15\n",
            "118/118 [==============================] - 54s 454ms/step - loss: 0.2884 - acc: 0.9143 - val_loss: 0.1703 - val_acc: 0.9442\n",
            "Epoch 14/15\n",
            "118/118 [==============================] - 54s 457ms/step - loss: 0.2823 - acc: 0.9141 - val_loss: 0.1655 - val_acc: 0.9431\n",
            "Epoch 15/15\n",
            "118/118 [==============================] - 54s 454ms/step - loss: 0.2744 - acc: 0.9156 - val_loss: 0.1702 - val_acc: 0.9442\n",
            "CNN 15: Epochs=15, Train accuracy=0.91539, Validation accuracy=0.94543\n"
          ],
          "name": "stdout"
        }
      ]
    },
    {
      "cell_type": "code",
      "metadata": {
        "_uuid": "96d0aa4b067758d1f5ca5b4e74c9f3f4095e7cb3",
        "id": "B7fF6mUlHv0j",
        "colab_type": "code",
        "colab": {}
      },
      "source": [
        "# make submision\n",
        "results = np.zeros( (X_test.shape[0],10) ) \n",
        "for j in range(nets):\n",
        "    results = results + model[j].predict(X_test)\n"
      ],
      "execution_count": 0,
      "outputs": []
    },
    {
      "cell_type": "code",
      "metadata": {
        "_uuid": "4700ec41a1368c707e671d58638a767a55ef302e",
        "id": "aTWYrNlNHv0m",
        "colab_type": "code",
        "colab": {}
      },
      "source": [
        "    \n",
        "results = np.argmax(results,axis = 1)\n",
        "results = pd.Series(results,name=\"target\")\n",
        "submission = pd.concat([pd.Series(range(0,9364),name = \"Id\"),results],axis = 1)\n"
      ],
      "execution_count": 0,
      "outputs": []
    },
    {
      "cell_type": "code",
      "metadata": {
        "_uuid": "aaeded284cfc08c889d2c4a5519a199ad99470b5",
        "id": "KeZ6-q1oHv0o",
        "colab_type": "code",
        "outputId": "97ddaf9e-3c5a-470d-829a-97c6980b644b",
        "colab": {
          "base_uri": "https://localhost:8080/",
          "height": 198
        }
      },
      "source": [
        "submission.head()"
      ],
      "execution_count": 0,
      "outputs": [
        {
          "output_type": "execute_result",
          "data": {
            "text/html": [
              "<div>\n",
              "<style scoped>\n",
              "    .dataframe tbody tr th:only-of-type {\n",
              "        vertical-align: middle;\n",
              "    }\n",
              "\n",
              "    .dataframe tbody tr th {\n",
              "        vertical-align: top;\n",
              "    }\n",
              "\n",
              "    .dataframe thead th {\n",
              "        text-align: right;\n",
              "    }\n",
              "</style>\n",
              "<table border=\"1\" class=\"dataframe\">\n",
              "  <thead>\n",
              "    <tr style=\"text-align: right;\">\n",
              "      <th></th>\n",
              "      <th>Id</th>\n",
              "      <th>target</th>\n",
              "    </tr>\n",
              "  </thead>\n",
              "  <tbody>\n",
              "    <tr>\n",
              "      <th>0</th>\n",
              "      <td>0</td>\n",
              "      <td>0</td>\n",
              "    </tr>\n",
              "    <tr>\n",
              "      <th>1</th>\n",
              "      <td>1</td>\n",
              "      <td>7</td>\n",
              "    </tr>\n",
              "    <tr>\n",
              "      <th>2</th>\n",
              "      <td>2</td>\n",
              "      <td>0</td>\n",
              "    </tr>\n",
              "    <tr>\n",
              "      <th>3</th>\n",
              "      <td>3</td>\n",
              "      <td>0</td>\n",
              "    </tr>\n",
              "    <tr>\n",
              "      <th>4</th>\n",
              "      <td>4</td>\n",
              "      <td>7</td>\n",
              "    </tr>\n",
              "  </tbody>\n",
              "</table>\n",
              "</div>"
            ],
            "text/plain": [
              "   Id  target\n",
              "0   0       0\n",
              "1   1       7\n",
              "2   2       0\n",
              "3   3       0\n",
              "4   4       7"
            ]
          },
          "metadata": {
            "tags": []
          },
          "execution_count": 29
        }
      ]
    },
    {
      "cell_type": "code",
      "metadata": {
        "_uuid": "ff01d9adbf13f93a32c2cb284cc2e2c830db0bcb",
        "id": "W1YBwo8gHv0r",
        "colab_type": "code",
        "colab": {}
      },
      "source": [
        "submission['target'] = enc.inverse_transform(submission['target'])"
      ],
      "execution_count": 0,
      "outputs": []
    },
    {
      "cell_type": "code",
      "metadata": {
        "_uuid": "67bd036b6b39c2006566ee5e91a3c9d641b56d60",
        "id": "bJr1ZDWTHv0t",
        "colab_type": "code",
        "outputId": "f2fba5cd-f7e8-46bb-b5cd-1783dd42b3e4",
        "colab": {
          "base_uri": "https://localhost:8080/",
          "height": 198
        }
      },
      "source": [
        "submission.head()"
      ],
      "execution_count": 0,
      "outputs": [
        {
          "output_type": "execute_result",
          "data": {
            "text/html": [
              "<div>\n",
              "<style scoped>\n",
              "    .dataframe tbody tr th:only-of-type {\n",
              "        vertical-align: middle;\n",
              "    }\n",
              "\n",
              "    .dataframe tbody tr th {\n",
              "        vertical-align: top;\n",
              "    }\n",
              "\n",
              "    .dataframe thead th {\n",
              "        text-align: right;\n",
              "    }\n",
              "</style>\n",
              "<table border=\"1\" class=\"dataframe\">\n",
              "  <thead>\n",
              "    <tr style=\"text-align: right;\">\n",
              "      <th></th>\n",
              "      <th>Id</th>\n",
              "      <th>target</th>\n",
              "    </tr>\n",
              "  </thead>\n",
              "  <tbody>\n",
              "    <tr>\n",
              "      <th>0</th>\n",
              "      <td>0</td>\n",
              "      <td>A</td>\n",
              "    </tr>\n",
              "    <tr>\n",
              "      <th>1</th>\n",
              "      <td>1</td>\n",
              "      <td>H</td>\n",
              "    </tr>\n",
              "    <tr>\n",
              "      <th>2</th>\n",
              "      <td>2</td>\n",
              "      <td>A</td>\n",
              "    </tr>\n",
              "    <tr>\n",
              "      <th>3</th>\n",
              "      <td>3</td>\n",
              "      <td>A</td>\n",
              "    </tr>\n",
              "    <tr>\n",
              "      <th>4</th>\n",
              "      <td>4</td>\n",
              "      <td>H</td>\n",
              "    </tr>\n",
              "  </tbody>\n",
              "</table>\n",
              "</div>"
            ],
            "text/plain": [
              "   Id target\n",
              "0   0      A\n",
              "1   1      H\n",
              "2   2      A\n",
              "3   3      A\n",
              "4   4      H"
            ]
          },
          "metadata": {
            "tags": []
          },
          "execution_count": 31
        }
      ]
    },
    {
      "cell_type": "code",
      "metadata": {
        "_uuid": "b87a43688a7beac4f4d528f31a57cb5000e3aa9f",
        "id": "n1Pgh3LCHv0x",
        "colab_type": "code",
        "outputId": "c108348f-bd01-46d1-c74b-97b6da711ebe",
        "colab": {
          "base_uri": "https://localhost:8080/",
          "height": 35
        }
      },
      "source": [
        "submission.shape"
      ],
      "execution_count": 0,
      "outputs": [
        {
          "output_type": "execute_result",
          "data": {
            "text/plain": [
              "(9364, 2)"
            ]
          },
          "metadata": {
            "tags": []
          },
          "execution_count": 32
        }
      ]
    },
    {
      "cell_type": "code",
      "metadata": {
        "_uuid": "3946740c3931d357362b4784fe55136cae18dd12",
        "id": "L8JYqShKHv00",
        "colab_type": "code",
        "outputId": "35e8b673-0498-47cc-fc94-bbc8ddc7fe41",
        "colab": {
          "base_uri": "https://localhost:8080/",
          "height": 217
        }
      },
      "source": [
        "submission.target.value_counts()"
      ],
      "execution_count": 0,
      "outputs": [
        {
          "output_type": "execute_result",
          "data": {
            "text/plain": [
              "D    988\n",
              "J    967\n",
              "E    947\n",
              "H    944\n",
              "B    939\n",
              "G    939\n",
              "F    930\n",
              "C    921\n",
              "A    901\n",
              "I    888\n",
              "Name: target, dtype: int64"
            ]
          },
          "metadata": {
            "tags": []
          },
          "execution_count": 33
        }
      ]
    },
    {
      "cell_type": "code",
      "metadata": {
        "_uuid": "75f06975a1531ae3009f534648fb854f964232fc",
        "id": "SmM2YaJ1Hv04",
        "colab_type": "code",
        "colab": {}
      },
      "source": [
        "submission.to_csv('submission.csv', index=False)"
      ],
      "execution_count": 0,
      "outputs": []
    },
    {
      "cell_type": "code",
      "metadata": {
        "_uuid": "9daefa41bf7024246734fe11fea67e4ffc8efaf9",
        "id": "JA9iuGwlHv07",
        "colab_type": "code",
        "colab": {}
      },
      "source": [
        ""
      ],
      "execution_count": 0,
      "outputs": []
    }
  ]
}