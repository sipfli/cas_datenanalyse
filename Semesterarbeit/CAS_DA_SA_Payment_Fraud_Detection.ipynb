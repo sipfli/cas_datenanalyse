{
  "nbformat": 4,
  "nbformat_minor": 0,
  "metadata": {
    "colab": {
      "name": "CAS-DA-SA_Payment_Fraud_Detection.ipynb",
      "version": "0.3.2",
      "provenance": [],
      "include_colab_link": true
    },
    "kernelspec": {
      "name": "python3",
      "display_name": "Python 3"
    },
    "accelerator": "GPU"
  },
  "cells": [
    {
      "cell_type": "markdown",
      "metadata": {
        "id": "view-in-github",
        "colab_type": "text"
      },
      "source": [
        "<a href=\"https://colab.research.google.com/github/sakuronohana/cas_datenanalyse/blob/master/Semesterarbeit/CAS_DA_SA_Payment_Fraud_Detection.ipynb\" target=\"_parent\"><img src=\"https://colab.research.google.com/assets/colab-badge.svg\" alt=\"Open In Colab\"/></a>"
      ]
    },
    {
      "cell_type": "markdown",
      "metadata": {
        "id": "jRcJtvy3IiFf",
        "colab_type": "text"
      },
      "source": [
        "<img \n",
        "src=\"https://www.ffhs.ch/templates/ffhs/img/logo@2x.png\" width=\"100\"> \n",
        "###DaAn, Data Analysis, MAS/CAS Web4B 2018, ZH1, FS19, Dr. Tödtli Beat###\n",
        "\n",
        "##*Semesterarbeit von Patrik Di Lena*##\n",
        "#Betrugserkennung Zahlungsverkehr#\n",
        "\n"
      ]
    },
    {
      "cell_type": "markdown",
      "metadata": {
        "id": "Cu2Lax6MMPh0",
        "colab_type": "text"
      },
      "source": [
        "##Ziel##\n",
        "Das Ziel dieser Semesterarbeit ist die Gegenüberstellung von Supervised und Unsupervised Lernverfahren mit Hilfe neuronaler Netzwerk Algorithmen. Dabei kommt  ein nicht gelabelter und ein gelabelter Datensatz aus einem Betrugserkennungssystem zum Einsatz. \n",
        "\n",
        "##Aufgabenstellung##\n",
        "###Erkennung von Betrugszahlungen###\n",
        "Mittels Unsupervised Learning sollen Betrugszahlungen aus einem nicht gelabelten Datensatz erkannt und die Effiktivität des vorhandenen Fraud-Detection Systems geprüft werden. In diesem Fall wird ein Autoencoder Neural Network mit Tensorflow aufgebaut. \n",
        "\n",
        "###Betrugsanfällige Risikogruppen###\n",
        "Mit Hilfe von Supervised Learning werden mögliche Risikogruppen ermittelt, welche im Visier von Betrügern stehen.  Auf Basis eines gelabelten Datensatzes  werden die Risikogruppen nach folgenden Merkmalen unterschieden:\n",
        "\n",
        "*\tGeschlecht\n",
        "*\tAlter\n",
        "*\tZivilstand\n",
        "*\tNationalität\n",
        "*\tKontosaldo\n",
        "*\tWohnort\n",
        "*\tRegion\n",
        "\n",
        "In diesem Fall wird der Deep Learning Algorithmus Convlutional Neural Network zum Einsatz kommen.\n",
        "\n",
        "##Datensatz##\n",
        "Die im Rahmen dieser Semesterarbeit verwendeten Daten entstammen, von ihrer Datenstruktur her, aus einem bereits eingesetzten nicht ML-basierten Betrugserkennungssystem. Die Datenwerte wurde zu Wahrung der datenschutzrechtlichen und bankengesetzlichen Aspekte mit Hilfe eines Python-Scripts künstlich erzeugt und beinhalten somit keine reale Zahlungs- oder Kunden-Informationen.   \n",
        "\n",
        "Datenselektion:\n",
        "\n",
        "- 20'800 synthetische Kunden (Vorname, Name, Strasse, Ort, Kanton, Sprachregion, Geschlecht, Alter, Zivilstand,  Nationalität, Kontonummer, Vertragsnummer, Rechtsform)\n",
        "\n",
        "- 60'000 synthetische Zahlungen (Transaktionsid, ,Erstellungdatum/Zeit, Empfängerkonto, Empfängerbank, Empfängerland, Währung, Betrag, Valuta Datum)\n",
        "\n",
        "\n",
        "\n",
        "\n",
        "\n",
        "\n"
      ]
    },
    {
      "cell_type": "markdown",
      "metadata": {
        "id": "Lz_l4l9VX0jr",
        "colab_type": "text"
      },
      "source": [
        "#Erkennung von Betrugszahlungen# \n",
        "\n",
        "##Unsupervised Learning mit neuronalen Netzwerken##"
      ]
    },
    {
      "cell_type": "markdown",
      "metadata": {
        "id": "fPNBtxFmnQg7",
        "colab_type": "text"
      },
      "source": [
        "###Importieren der ungelabelten Fraud-Zahlungsdaten###"
      ]
    },
    {
      "cell_type": "code",
      "metadata": {
        "id": "M9kpR8RAjMzw",
        "colab_type": "code",
        "outputId": "f86cb6d1-4e14-49f9-d2ed-bd3d6f09f8d4",
        "colab": {
          "base_uri": "https://localhost:8080/",
          "height": 305
        }
      },
      "source": [
        "%matplotlib inline\n",
        "import pandas as pd\n",
        "import numpy as np\n",
        "import seaborn as sns\n",
        "import matplotlib.pyplot as plt\n",
        "\n",
        "\n",
        "# Laden der 600000 nicht gelabelten Transaktionsdaten \n",
        "trx_data_url = 'https://raw.githubusercontent.com/sakuronohana/cas_datenanalyse/master/Semesterarbeit/Dataset/trx_data_ol.csv'\n",
        "\n",
        "trx_data_ol = pd.read_csv(trx_data_url, delimiter=';')\n",
        "trx_data_ol.head()\n",
        "\n"
      ],
      "execution_count": 1,
      "outputs": [
        {
          "output_type": "execute_result",
          "data": {
            "text/plain": [
              "        timestamp   paym_id   send_bc_nr  amount    rcv_bc_nr  \\\n",
              "0  01.01.18 08:00  10000010  CHBANK71XXX   15368  JOBANK40XXX   \n",
              "1  01.01.18 08:00  10000011  CHBANK71XXX   89137  STBANK68XXX   \n",
              "2  01.01.18 08:01  10000012  CHBANK71XXX   87673  XKBANK43XXX   \n",
              "3  01.01.18 08:01  10000013  CHBANK71XXX   55941  RSBANK72XXX   \n",
              "4  01.01.18 08:02  10000014  CHBANK71XXX   88173  LIBANK48XXX   \n",
              "\n",
              "                      rcv_bc_iban         rcv_bc_country rcv_bc_code  \\\n",
              "0  JO02SCBL1260000000018525836101              Jordanien          JO   \n",
              "1       ST23000200000289355710148  Sao Tome und Principe          ST   \n",
              "2            XK051301001002074155                 Kosovo          XK   \n",
              "3          RS35105008054113238018                Serbien          RS   \n",
              "4           LI0308800000022875748          Liechtenstein          LI   \n",
              "\n",
              "              rcv_iban     valuta_date  cust_vertrag_nr  \\\n",
              "0  JO40002096331755419  01.01.18 08:00            76311   \n",
              "1  ST68002492808312214  01.01.18 20:00            69891   \n",
              "2  XK43002422391264290  02.01.18 08:01            78573   \n",
              "3  RS72002873180573624  02.01.18 20:01            75443   \n",
              "4  LI48002899580343897  03.01.18 08:02            73167   \n",
              "\n",
              "           cust_konto_nr  cust_vname cust_nname  cust_plz     cust_ort  \\\n",
              "0  CH5300772672529640195      Martin      Bader      6020  Emmenbrücke   \n",
              "1  CH5300772670061796126  Margaretha       Fehr      9056         Gais   \n",
              "2  CH5300772500037725234      Daniel   Miéville      1253  Vandoeuvres   \n",
              "3  CH5300772732508635138      Andrea      Iseni      6026         Rain   \n",
              "4  CH5300772640237288398      Andrea     Pinana      6693      Broglio   \n",
              "\n",
              "  cust_kanton cust_sprachregion cust_auth_device  \n",
              "0          LU                de             mtan  \n",
              "1          AR                de             ptan  \n",
              "2          GE                fr             ptan  \n",
              "3          LU                de             mtan  \n",
              "4          TI                it             mtan  "
            ],
            "text/html": [
              "<div>\n",
              "<style scoped>\n",
              "    .dataframe tbody tr th:only-of-type {\n",
              "        vertical-align: middle;\n",
              "    }\n",
              "\n",
              "    .dataframe tbody tr th {\n",
              "        vertical-align: top;\n",
              "    }\n",
              "\n",
              "    .dataframe thead th {\n",
              "        text-align: right;\n",
              "    }\n",
              "</style>\n",
              "<table border=\"1\" class=\"dataframe\">\n",
              "  <thead>\n",
              "    <tr style=\"text-align: right;\">\n",
              "      <th></th>\n",
              "      <th>timestamp</th>\n",
              "      <th>paym_id</th>\n",
              "      <th>send_bc_nr</th>\n",
              "      <th>amount</th>\n",
              "      <th>rcv_bc_nr</th>\n",
              "      <th>rcv_bc_iban</th>\n",
              "      <th>rcv_bc_country</th>\n",
              "      <th>rcv_bc_code</th>\n",
              "      <th>rcv_iban</th>\n",
              "      <th>valuta_date</th>\n",
              "      <th>cust_vertrag_nr</th>\n",
              "      <th>cust_konto_nr</th>\n",
              "      <th>cust_vname</th>\n",
              "      <th>cust_nname</th>\n",
              "      <th>cust_plz</th>\n",
              "      <th>cust_ort</th>\n",
              "      <th>cust_kanton</th>\n",
              "      <th>cust_sprachregion</th>\n",
              "      <th>cust_auth_device</th>\n",
              "    </tr>\n",
              "  </thead>\n",
              "  <tbody>\n",
              "    <tr>\n",
              "      <th>0</th>\n",
              "      <td>01.01.18 08:00</td>\n",
              "      <td>10000010</td>\n",
              "      <td>CHBANK71XXX</td>\n",
              "      <td>15368</td>\n",
              "      <td>JOBANK40XXX</td>\n",
              "      <td>JO02SCBL1260000000018525836101</td>\n",
              "      <td>Jordanien</td>\n",
              "      <td>JO</td>\n",
              "      <td>JO40002096331755419</td>\n",
              "      <td>01.01.18 08:00</td>\n",
              "      <td>76311</td>\n",
              "      <td>CH5300772672529640195</td>\n",
              "      <td>Martin</td>\n",
              "      <td>Bader</td>\n",
              "      <td>6020</td>\n",
              "      <td>Emmenbrücke</td>\n",
              "      <td>LU</td>\n",
              "      <td>de</td>\n",
              "      <td>mtan</td>\n",
              "    </tr>\n",
              "    <tr>\n",
              "      <th>1</th>\n",
              "      <td>01.01.18 08:00</td>\n",
              "      <td>10000011</td>\n",
              "      <td>CHBANK71XXX</td>\n",
              "      <td>89137</td>\n",
              "      <td>STBANK68XXX</td>\n",
              "      <td>ST23000200000289355710148</td>\n",
              "      <td>Sao Tome und Principe</td>\n",
              "      <td>ST</td>\n",
              "      <td>ST68002492808312214</td>\n",
              "      <td>01.01.18 20:00</td>\n",
              "      <td>69891</td>\n",
              "      <td>CH5300772670061796126</td>\n",
              "      <td>Margaretha</td>\n",
              "      <td>Fehr</td>\n",
              "      <td>9056</td>\n",
              "      <td>Gais</td>\n",
              "      <td>AR</td>\n",
              "      <td>de</td>\n",
              "      <td>ptan</td>\n",
              "    </tr>\n",
              "    <tr>\n",
              "      <th>2</th>\n",
              "      <td>01.01.18 08:01</td>\n",
              "      <td>10000012</td>\n",
              "      <td>CHBANK71XXX</td>\n",
              "      <td>87673</td>\n",
              "      <td>XKBANK43XXX</td>\n",
              "      <td>XK051301001002074155</td>\n",
              "      <td>Kosovo</td>\n",
              "      <td>XK</td>\n",
              "      <td>XK43002422391264290</td>\n",
              "      <td>02.01.18 08:01</td>\n",
              "      <td>78573</td>\n",
              "      <td>CH5300772500037725234</td>\n",
              "      <td>Daniel</td>\n",
              "      <td>Miéville</td>\n",
              "      <td>1253</td>\n",
              "      <td>Vandoeuvres</td>\n",
              "      <td>GE</td>\n",
              "      <td>fr</td>\n",
              "      <td>ptan</td>\n",
              "    </tr>\n",
              "    <tr>\n",
              "      <th>3</th>\n",
              "      <td>01.01.18 08:01</td>\n",
              "      <td>10000013</td>\n",
              "      <td>CHBANK71XXX</td>\n",
              "      <td>55941</td>\n",
              "      <td>RSBANK72XXX</td>\n",
              "      <td>RS35105008054113238018</td>\n",
              "      <td>Serbien</td>\n",
              "      <td>RS</td>\n",
              "      <td>RS72002873180573624</td>\n",
              "      <td>02.01.18 20:01</td>\n",
              "      <td>75443</td>\n",
              "      <td>CH5300772732508635138</td>\n",
              "      <td>Andrea</td>\n",
              "      <td>Iseni</td>\n",
              "      <td>6026</td>\n",
              "      <td>Rain</td>\n",
              "      <td>LU</td>\n",
              "      <td>de</td>\n",
              "      <td>mtan</td>\n",
              "    </tr>\n",
              "    <tr>\n",
              "      <th>4</th>\n",
              "      <td>01.01.18 08:02</td>\n",
              "      <td>10000014</td>\n",
              "      <td>CHBANK71XXX</td>\n",
              "      <td>88173</td>\n",
              "      <td>LIBANK48XXX</td>\n",
              "      <td>LI0308800000022875748</td>\n",
              "      <td>Liechtenstein</td>\n",
              "      <td>LI</td>\n",
              "      <td>LI48002899580343897</td>\n",
              "      <td>03.01.18 08:02</td>\n",
              "      <td>73167</td>\n",
              "      <td>CH5300772640237288398</td>\n",
              "      <td>Andrea</td>\n",
              "      <td>Pinana</td>\n",
              "      <td>6693</td>\n",
              "      <td>Broglio</td>\n",
              "      <td>TI</td>\n",
              "      <td>it</td>\n",
              "      <td>mtan</td>\n",
              "    </tr>\n",
              "  </tbody>\n",
              "</table>\n",
              "</div>"
            ]
          },
          "metadata": {
            "tags": []
          },
          "execution_count": 1
        }
      ]
    },
    {
      "cell_type": "markdown",
      "metadata": {
        "id": "TmODZafznm1I",
        "colab_type": "text"
      },
      "source": [
        "###Feature Engineering###"
      ]
    },
    {
      "cell_type": "code",
      "metadata": {
        "id": "D2GAbTbYoRZ6",
        "colab_type": "code",
        "outputId": "2815ed85-8ef6-417c-a7ee-872bcbae8c6c",
        "colab": {
          "base_uri": "https://localhost:8080/",
          "height": 328
        }
      },
      "source": [
        "# Bestimmte Daten in das richtige Format konvertieren\n",
        "\n",
        "# timestamp in Datums-und Zeitformat umwandeln\n",
        "#trx_data_ol.timestamp = pd.to_datetime(trx_data_ol['timestamp'])\n",
        "#trx_data_ol.valuta_date = pd.to_datetime(trx_data_ol['valuta_date'])\n",
        "#Suche des Datensatzes nach Null-Werten\n",
        "trx_data_ol.isnull().values.sum()\n",
        "\n",
        "trx_data_ol = pd.DataFrame(trx_data_ol, columns=['paym_id','send_bc_nr','amount','rcv_bc_nr', \n",
        "                                                 'rcv_bc_iban','rcv_bc_country','rcv_bc_code','rcv_iban',\n",
        "                                                  'cust_vertrag_nr','cust_konto_nr','cust_vname',\n",
        "                                                  'cust_nname','cust_plz','cust_ort','cust_kanton','cust_sprachregion',\n",
        "                                                  'cust_auth_device'])\n",
        "                                    \n",
        "\n",
        "trx_data_ol.dtypes\n"
      ],
      "execution_count": 2,
      "outputs": [
        {
          "output_type": "execute_result",
          "data": {
            "text/plain": [
              "paym_id               int64\n",
              "send_bc_nr           object\n",
              "amount                int64\n",
              "rcv_bc_nr            object\n",
              "rcv_bc_iban          object\n",
              "rcv_bc_country       object\n",
              "rcv_bc_code          object\n",
              "rcv_iban             object\n",
              "cust_vertrag_nr       int64\n",
              "cust_konto_nr        object\n",
              "cust_vname           object\n",
              "cust_nname           object\n",
              "cust_plz              int64\n",
              "cust_ort             object\n",
              "cust_kanton          object\n",
              "cust_sprachregion    object\n",
              "cust_auth_device     object\n",
              "dtype: object"
            ]
          },
          "metadata": {
            "tags": []
          },
          "execution_count": 2
        }
      ]
    },
    {
      "cell_type": "markdown",
      "metadata": {
        "id": "POjMMOv1eaOg",
        "colab_type": "text"
      },
      "source": [
        "**Encoding kategorische Werte in nummerische Werte**"
      ]
    },
    {
      "cell_type": "code",
      "metadata": {
        "id": "Q3jR2c3xCKGm",
        "colab_type": "code",
        "colab": {}
      },
      "source": [
        "\n",
        "#Encoding Daten mit Dtype Object in nummerische Werte\n",
        "#trx_data_ol = pd.get_dummies(trx_data_ol, prefix_sep='_', drop_first=True)\n",
        "trx_data_ol = pd.get_dummies(trx_data_ol, columns=['paym_id','send_bc_nr','amount','rcv_bc_nr', \n",
        "                                                 'rcv_bc_iban','rcv_bc_country','rcv_bc_code','rcv_iban',\n",
        "                                                  'cust_vertrag_nr','cust_konto_nr','cust_vname',\n",
        "                                                  'cust_nname','cust_plz','cust_ort','cust_kanton','cust_sprachregion',\n",
        "                                                  'cust_auth_device'], 'paym_id','send_bc_nr','amount','rcv_bc_nr',dtype=float ,drop_first=True)\n",
        "trx_data_ol.head()"
      ],
      "execution_count": 0,
      "outputs": []
    },
    {
      "cell_type": "code",
      "metadata": {
        "id": "LL0rWmtRXZDl",
        "colab_type": "code",
        "outputId": "ede27e33-be61-4932-dcaf-866acb6374e4",
        "colab": {
          "base_uri": "https://localhost:8080/",
          "height": 35
        }
      },
      "source": [
        "trx_data_ol.shape\n"
      ],
      "execution_count": 4,
      "outputs": [
        {
          "output_type": "execute_result",
          "data": {
            "text/plain": [
              "(60000, 86025)"
            ]
          },
          "metadata": {
            "tags": []
          },
          "execution_count": 4
        }
      ]
    },
    {
      "cell_type": "markdown",
      "metadata": {
        "id": "LOpc1G2kPtNB",
        "colab_type": "text"
      },
      "source": [
        "**Datensatz in Trainings- und Testingdatensatz aufteilen**\n",
        "\n",
        "Da wir über einen relative grosses Datenset verfügen können wir eine klassisches Spliting der Daten durchführen d.h. 80% (48'000)/20% (12'000) \n"
      ]
    },
    {
      "cell_type": "code",
      "metadata": {
        "id": "3bZxuuhWRook",
        "colab_type": "code",
        "colab": {
          "base_uri": "https://localhost:8080/",
          "height": 52
        },
        "outputId": "a7b28bac-b1fa-428d-edfb-37060c17f1be"
      },
      "source": [
        "from sklearn.model_selection import train_test_split\n",
        "tdo_train, tdo_test = train_test_split(trx_data_ol,test_size=0.2, random_state = 70)\n",
        "\n",
        "print ('Grösse Trainingsdatesatz (Shape) = ', tdo_train.shape)\n",
        "print ('Grösse Testdatensatz (Shape) =', tdo_test.shape)"
      ],
      "execution_count": 5,
      "outputs": [
        {
          "output_type": "stream",
          "text": [
            "Grösse Trainingsdatesatz (Shape) =  (48000, 86025)\n",
            "Grösse Testdatensatz (Shape) = (12000, 86025)\n"
          ],
          "name": "stdout"
        }
      ]
    },
    {
      "cell_type": "code",
      "metadata": {
        "id": "3wbzV5hWsyLo",
        "colab_type": "code",
        "colab": {
          "base_uri": "https://localhost:8080/",
          "height": 52
        },
        "outputId": "8bbb1fff-8b5f-4498-b146-b161b4500fe9"
      },
      "source": [
        "#Erstellung eines kleines Trainingsdatensets für die Überprüfung \n",
        "#der NN Funktionalität\n",
        "\n",
        "tdo_small_train = tdo_train.sample(frac=0.1)\n",
        "tdo_small_test = tdo_small_train.sample(frac=0.2)\n",
        "print (tdo_small_train.shape)\n",
        "print (tdo_small_test.shape)"
      ],
      "execution_count": 6,
      "outputs": [
        {
          "output_type": "stream",
          "text": [
            "(4800, 86025)\n",
            "(960, 86025)\n"
          ],
          "name": "stdout"
        }
      ]
    },
    {
      "cell_type": "markdown",
      "metadata": {
        "id": "yFc3cqUKZOMF",
        "colab_type": "text"
      },
      "source": [
        "###Modell Training###\n",
        "\n",
        "Nachfolgenden werden wir ein neuronales Netzwerk definieren und dieses mit den oben bearbeiteten Daten trainieren.\n",
        "\n",
        "Für den Aufbau des neuronalen Netzwerks werden ich die Machine Learning Library **TensorFlow** von Google verwenden."
      ]
    },
    {
      "cell_type": "markdown",
      "metadata": {
        "id": "KfTD7txqbgiY",
        "colab_type": "text"
      },
      "source": [
        "**TensorFlow laden und Hyperparameter definieren**"
      ]
    },
    {
      "cell_type": "markdown",
      "metadata": {
        "id": "s10dtH9h-VLv",
        "colab_type": "text"
      },
      "source": [
        "https://www.datascience.com/blog/fraud-detection-with-tensorflow"
      ]
    },
    {
      "cell_type": "code",
      "metadata": {
        "id": "p4SccBCDA1qG",
        "colab_type": "code",
        "outputId": "f30fc41e-cde4-4663-f174-1257d0e71794",
        "colab": {
          "base_uri": "https://localhost:8080/",
          "height": 72
        }
      },
      "source": [
        "# import packages\n",
        "# matplotlib inline\n",
        "import pandas as pd\n",
        "import numpy as np\n",
        "from scipy import stats\n",
        "import tensorflow as tf\n",
        "import matplotlib.pyplot as plt\n",
        "import seaborn as sns\n",
        "import pickle\n",
        "from sklearn.model_selection import train_test_split\n",
        "from sklearn.metrics import confusion_matrix, precision_recall_curve\n",
        "from sklearn.metrics import recall_score, classification_report, auc, roc_curve\n",
        "from sklearn.metrics import precision_recall_fscore_support, f1_score\n",
        "from sklearn.preprocessing import StandardScaler\n",
        "from pylab import rcParams\n",
        "from keras.models import Model, load_model\n",
        "from keras.layers import Input, Dense\n",
        "from keras.callbacks import ModelCheckpoint, TensorBoard\n",
        "from keras import regularizers\n",
        "'''\n",
        "#set random seed and percentage of test data\n",
        "RANDOM_SEED = 314 #used to help randomly select the data points\n",
        "TEST_PCT = 0.2 # 20% of the data\n",
        "\n",
        "#set up graphic style in this case I am using the color scheme from xkcd.com\n",
        "rcParams['figure.figsize'] = 14, 8.7 # Golden Mean\n",
        "LABELS = [\"Normal\",\"Fraud\"]\n",
        "col_list = [\"cerulean\",\"scarlet\"]# https://xkcd.com/color/rgb/\n",
        "sns.set(style='white', font_scale=1.75, palette=sns.xkcd_palette(col_list))\n",
        "'''"
      ],
      "execution_count": 7,
      "outputs": [
        {
          "output_type": "stream",
          "text": [
            "Using TensorFlow backend.\n"
          ],
          "name": "stderr"
        },
        {
          "output_type": "execute_result",
          "data": {
            "text/plain": [
              "'\\n#set random seed and percentage of test data\\nRANDOM_SEED = 314 #used to help randomly select the data points\\nTEST_PCT = 0.2 # 20% of the data\\n\\n#set up graphic style in this case I am using the color scheme from xkcd.com\\nrcParams[\\'figure.figsize\\'] = 14, 8.7 # Golden Mean\\nLABELS = [\"Normal\",\"Fraud\"]\\ncol_list = [\"cerulean\",\"scarlet\"]# https://xkcd.com/color/rgb/\\nsns.set(style=\\'white\\', font_scale=1.75, palette=sns.xkcd_palette(col_list))\\n'"
            ]
          },
          "metadata": {
            "tags": []
          },
          "execution_count": 7
        }
      ]
    },
    {
      "cell_type": "code",
      "metadata": {
        "id": "eozbqvhW-W7F",
        "colab_type": "code",
        "colab": {}
      },
      "source": [
        "nb_epoch = 100\n",
        "batch_size = 128\n",
        "input_dim = tdo_small_train.shape[1] #num of columns, 30\n",
        "encoding_dim = 14\n",
        "hidden_dim = int(encoding_dim / 2) #i.e. 7\n",
        "learning_rate = 1e-7\n",
        "\n",
        "input_layer = Input(shape=(input_dim, ))\n",
        "encoder = Dense(encoding_dim, activation=\"tanh\", activity_regularizer=regularizers.l1(learning_rate))(input_layer)\n",
        "encoder = Dense(hidden_dim, activation=\"relu\")(encoder)\n",
        "decoder = Dense(hidden_dim, activation='tanh')(encoder)\n",
        "decoder = Dense(input_dim, activation='relu')(decoder)\n",
        "autoencoder = Model(inputs=input_layer, outputs=decoder)"
      ],
      "execution_count": 0,
      "outputs": []
    },
    {
      "cell_type": "code",
      "metadata": {
        "id": "WwYkBXu1DQJB",
        "colab_type": "code",
        "colab": {
          "base_uri": "https://localhost:8080/",
          "height": 3509
        },
        "outputId": "558234e3-7fc2-4e2b-bcbd-ed3495f3d334"
      },
      "source": [
        "autoencoder.compile(metrics=['accuracy'],\n",
        "                    loss='mean_squared_error',\n",
        "                    optimizer='adam')\n",
        "\n",
        "cp = ModelCheckpoint(filepath=\"autoencoder_fraud.h5\",\n",
        "                               save_best_only=True,\n",
        "                               verbose=0)\n",
        "\n",
        "tb = TensorBoard(log_dir='./logs',\n",
        "                histogram_freq=0,\n",
        "                write_graph=True,\n",
        "                write_images=True)\n",
        "\n",
        "history = autoencoder.fit(tdo_small_train,tdo_small_train,\n",
        "                    epochs=nb_epoch,\n",
        "                    batch_size=batch_size,\n",
        "                    shuffle=True,\n",
        "                    validation_data=(tdo_small_test, tdo_small_test),\n",
        "                    verbose=1,\n",
        "                    callbacks=[cp, tb]).history"
      ],
      "execution_count": 9,
      "outputs": [
        {
          "output_type": "stream",
          "text": [
            "Train on 4800 samples, validate on 960 samples\n",
            "Epoch 1/100\n",
            "4800/4800 [==============================] - 275s 57ms/step - loss: 1169507713.7067 - acc: 0.0000e+00 - val_loss: 1169540420.2667 - val_acc: 0.0000e+00\n",
            "Epoch 2/100\n",
            "4800/4800 [==============================] - 274s 57ms/step - loss: 1169507635.2000 - acc: 0.0000e+00 - val_loss: 1169540164.2667 - val_acc: 0.0000e+00\n",
            "Epoch 3/100\n",
            "4800/4800 [==============================] - 273s 57ms/step - loss: 1169507467.9467 - acc: 0.0000e+00 - val_loss: 1169540164.2667 - val_acc: 0.0000e+00\n",
            "Epoch 4/100\n",
            "4800/4800 [==============================] - 272s 57ms/step - loss: 1169507478.1867 - acc: 0.9467 - val_loss: 1169540164.2667 - val_acc: 1.0000\n",
            "Epoch 5/100\n",
            "4800/4800 [==============================] - 270s 56ms/step - loss: 1169507326.2933 - acc: 0.1867 - val_loss: 1169539976.5333 - val_acc: 1.0000\n",
            "Epoch 6/100\n",
            "4800/4800 [==============================] - 270s 56ms/step - loss: 1169507256.3200 - acc: 1.0000 - val_loss: 1169539976.5333 - val_acc: 1.0000\n",
            "Epoch 7/100\n",
            "4800/4800 [==============================] - 267s 56ms/step - loss: 1169507252.9067 - acc: 0.2933 - val_loss: 1169539976.5333 - val_acc: 0.0000e+00\n",
            "Epoch 8/100\n",
            "4800/4800 [==============================] - 274s 57ms/step - loss: 1169507078.8267 - acc: 0.9733 - val_loss: 1169539686.4000 - val_acc: 1.0000\n",
            "Epoch 9/100\n",
            "4800/4800 [==============================] - 268s 56ms/step - loss: 1169506990.0800 - acc: 0.8267 - val_loss: 1169539686.4000 - val_acc: 0.0000e+00\n",
            "Epoch 10/100\n",
            "4800/4800 [==============================] - 277s 58ms/step - loss: 1169507013.9733 - acc: 0.0000e+00 - val_loss: 1169539686.4000 - val_acc: 0.0000e+00\n",
            "Epoch 11/100\n",
            "4800/4800 [==============================] - 277s 58ms/step - loss: 1169506897.9200 - acc: 0.4000 - val_loss: 1169539464.5333 - val_acc: 0.0000e+00\n",
            "Epoch 12/100\n",
            "4800/4800 [==============================] - 269s 56ms/step - loss: 1169506756.2667 - acc: 0.8133 - val_loss: 1169539464.5333 - val_acc: 1.0000\n",
            "Epoch 13/100\n",
            "4800/4800 [==============================] - 269s 56ms/step - loss: 1169506788.6933 - acc: 0.9467 - val_loss: 1169539447.4667 - val_acc: 1.0000\n",
            "Epoch 14/100\n",
            "4800/4800 [==============================] - 274s 57ms/step - loss: 1169506681.1733 - acc: 0.7867 - val_loss: 1169539259.7333 - val_acc: 1.0000\n",
            "Epoch 15/100\n",
            "4800/4800 [==============================] - 274s 57ms/step - loss: 1169506539.5200 - acc: 0.6533 - val_loss: 1169539259.7333 - val_acc: 1.0000\n",
            "Epoch 16/100\n",
            "4800/4800 [==============================] - 285s 59ms/step - loss: 1169506536.1067 - acc: 0.1067 - val_loss: 1169539259.7333 - val_acc: 0.0000e+00\n",
            "Epoch 17/100\n",
            "4800/4800 [==============================] - 273s 57ms/step - loss: 1169506464.4267 - acc: 0.0000e+00 - val_loss: 1169539020.8000 - val_acc: 0.0000e+00\n",
            "Epoch 18/100\n",
            "4800/4800 [==============================] - 276s 57ms/step - loss: 1169506317.6533 - acc: 0.0400 - val_loss: 1169539020.8000 - val_acc: 1.0000\n",
            "Epoch 19/100\n",
            "4800/4800 [==============================] - 277s 58ms/step - loss: 1169506309.1200 - acc: 0.1867 - val_loss: 1169539020.8000 - val_acc: 0.0000e+00\n",
            "Epoch 20/100\n",
            "4800/4800 [==============================] - 275s 57ms/step - loss: 1169506322.7733 - acc: 0.7600 - val_loss: 1169539020.8000 - val_acc: 1.0000\n",
            "Epoch 21/100\n",
            "4800/4800 [==============================] - 267s 56ms/step - loss: 1169506078.7200 - acc: 1.0000 - val_loss: 1169538773.3333 - val_acc: 1.0000\n",
            "Epoch 22/100\n",
            "4800/4800 [==============================] - 266s 55ms/step - loss: 1169506068.4800 - acc: 0.5733 - val_loss: 1169538773.3333 - val_acc: 1.0000\n",
            "Epoch 23/100\n",
            "4800/4800 [==============================] - 268s 56ms/step - loss: 1169506061.6533 - acc: 1.0000 - val_loss: 1169538773.3333 - val_acc: 1.0000\n",
            "Epoch 24/100\n",
            "4800/4800 [==============================] - 277s 58ms/step - loss: 1169505894.4000 - acc: 1.0000 - val_loss: 1169538534.4000 - val_acc: 1.0000\n",
            "Epoch 25/100\n",
            "4800/4800 [==============================] - 278s 58ms/step - loss: 1169505836.3733 - acc: 1.0000 - val_loss: 1169538534.4000 - val_acc: 1.0000\n",
            "Epoch 26/100\n",
            "4800/4800 [==============================] - 278s 58ms/step - loss: 1169505831.2533 - acc: 0.6667 - val_loss: 1169538534.4000 - val_acc: 0.0000e+00\n",
            "Epoch 27/100\n",
            "4800/4800 [==============================] - 275s 57ms/step - loss: 1169505713.4933 - acc: 0.9467 - val_loss: 1169538269.8667 - val_acc: 1.0000\n",
            "Epoch 28/100\n",
            "4800/4800 [==============================] - 274s 57ms/step - loss: 1169505600.8533 - acc: 1.0000 - val_loss: 1169538269.8667 - val_acc: 1.0000\n",
            "Epoch 29/100\n",
            "4800/4800 [==============================] - 271s 56ms/step - loss: 1169505590.6133 - acc: 1.0000 - val_loss: 1169538269.8667 - val_acc: 1.0000\n",
            "Epoch 30/100\n",
            "4800/4800 [==============================] - 271s 56ms/step - loss: 1169505570.1333 - acc: 1.0000 - val_loss: 1169538056.5333 - val_acc: 1.0000\n",
            "Epoch 31/100\n",
            "4800/4800 [==============================] - 281s 58ms/step - loss: 1169505368.7467 - acc: 0.8000 - val_loss: 1169538056.5333 - val_acc: 1.0000\n",
            "Epoch 32/100\n",
            "4800/4800 [==============================] - 268s 56ms/step - loss: 1169505358.5067 - acc: 1.0000 - val_loss: 1169538056.5333 - val_acc: 1.0000\n",
            "Epoch 33/100\n",
            "4800/4800 [==============================] - 273s 57ms/step - loss: 1169505344.8533 - acc: 1.0000 - val_loss: 1169538056.5333 - val_acc: 1.0000\n",
            "Epoch 34/100\n",
            "4800/4800 [==============================] - 269s 56ms/step - loss: 1169505141.7600 - acc: 1.0000 - val_loss: 1169537826.1333 - val_acc: 1.0000\n",
            "Epoch 35/100\n",
            "4800/4800 [==============================] - 270s 56ms/step - loss: 1169505126.4000 - acc: 1.0000 - val_loss: 1169537826.1333 - val_acc: 1.0000\n",
            "Epoch 36/100\n",
            "4800/4800 [==============================] - 276s 58ms/step - loss: 1169505133.2267 - acc: 1.0000 - val_loss: 1169537826.1333 - val_acc: 1.0000\n",
            "Epoch 37/100\n",
            "4800/4800 [==============================] - 281s 59ms/step - loss: 1169504965.9733 - acc: 1.0000 - val_loss: 1169537621.3333 - val_acc: 1.0000\n",
            "Epoch 38/100\n",
            "4800/4800 [==============================] - 272s 57ms/step - loss: 1169504897.7067 - acc: 1.0000 - val_loss: 1169537621.3333 - val_acc: 1.0000\n",
            "Epoch 39/100\n",
            "4800/4800 [==============================] - 269s 56ms/step - loss: 1169504896.0000 - acc: 1.0000 - val_loss: 1169537621.3333 - val_acc: 1.0000\n",
            "Epoch 40/100\n",
            "4800/4800 [==============================] - 269s 56ms/step - loss: 1169504805.5467 - acc: 1.0000 - val_loss: 1169537348.2667 - val_acc: 1.0000\n",
            "Epoch 41/100\n",
            "4800/4800 [==============================] - 275s 57ms/step - loss: 1169504651.9467 - acc: 1.0000 - val_loss: 1169537348.2667 - val_acc: 1.0000\n",
            "Epoch 42/100\n",
            "4800/4800 [==============================] - 282s 59ms/step - loss: 1169504650.2400 - acc: 1.0000 - val_loss: 1169537348.2667 - val_acc: 1.0000\n",
            "Epoch 43/100\n",
            "4800/4800 [==============================] - 277s 58ms/step - loss: 1169504633.1733 - acc: 1.0000 - val_loss: 1169537143.4667 - val_acc: 1.0000\n",
            "Epoch 44/100\n",
            "4800/4800 [==============================] - 278s 58ms/step - loss: 1169504433.4933 - acc: 1.0000 - val_loss: 1169537143.4667 - val_acc: 1.0000\n",
            "Epoch 45/100\n",
            "4800/4800 [==============================] - 271s 56ms/step - loss: 1169504416.4267 - acc: 1.0000 - val_loss: 1169537143.4667 - val_acc: 1.0000\n",
            "Epoch 46/100\n",
            "4800/4800 [==============================] - 265s 55ms/step - loss: 1169504442.0267 - acc: 1.0000 - val_loss: 1169537143.4667 - val_acc: 1.0000\n",
            "Epoch 47/100\n",
            "4800/4800 [==============================] - 273s 57ms/step - loss: 1169504216.7467 - acc: 1.0000 - val_loss: 1169536921.6000 - val_acc: 1.0000\n",
            "Epoch 48/100\n",
            "4800/4800 [==============================] - 275s 57ms/step - loss: 1169504168.9600 - acc: 1.0000 - val_loss: 1169536921.6000 - val_acc: 1.0000\n",
            "Epoch 49/100\n",
            "4800/4800 [==============================] - 273s 57ms/step - loss: 1169504184.3200 - acc: 1.0000 - val_loss: 1169536921.6000 - val_acc: 1.0000\n",
            "Epoch 50/100\n",
            "4800/4800 [==============================] - 278s 58ms/step - loss: 1169504037.5467 - acc: 1.0000 - val_loss: 1169536648.5333 - val_acc: 1.0000\n",
            "Epoch 51/100\n",
            "4800/4800 [==============================] - 326s 68ms/step - loss: 1169503948.8000 - acc: 1.0000 - val_loss: 1169536648.5333 - val_acc: 1.0000\n",
            "Epoch 52/100\n",
            "4800/4800 [==============================] - 296s 62ms/step - loss: 1169503931.7333 - acc: 1.0000 - val_loss: 1169536648.5333 - val_acc: 1.0000\n",
            "Epoch 53/100\n",
            "4800/4800 [==============================] - 292s 61ms/step - loss: 1169503878.8267 - acc: 1.0000 - val_loss: 1169536426.6667 - val_acc: 1.0000\n",
            "Epoch 54/100\n",
            "4800/4800 [==============================] - 295s 61ms/step - loss: 1169503716.6933 - acc: 1.0000 - val_loss: 1169536426.6667 - val_acc: 1.0000\n",
            "Epoch 55/100\n",
            "4800/4800 [==============================] - 279s 58ms/step - loss: 1169503709.8667 - acc: 1.0000 - val_loss: 1169536426.6667 - val_acc: 1.0000\n",
            "Epoch 56/100\n",
            "4800/4800 [==============================] - 273s 57ms/step - loss: 1169503718.4000 - acc: 1.0000 - val_loss: 1169536187.7333 - val_acc: 1.0000\n",
            "Epoch 57/100\n",
            "4800/4800 [==============================] - 285s 59ms/step - loss: 1169503493.1200 - acc: 1.0000 - val_loss: 1169536187.7333 - val_acc: 1.0000\n",
            "Epoch 58/100\n",
            "4800/4800 [==============================] - 270s 56ms/step - loss: 1169503488.0000 - acc: 1.0000 - val_loss: 1169536187.7333 - val_acc: 1.0000\n",
            "Epoch 59/100\n",
            "4800/4800 [==============================] - 276s 58ms/step - loss: 1169503498.2400 - acc: 1.0000 - val_loss: 1169536187.7333 - val_acc: 1.0000\n",
            "Epoch 60/100\n",
            "4800/4800 [==============================] - 271s 57ms/step - loss: 1169503313.9200 - acc: 1.0000 - val_loss: 1169535957.3333 - val_acc: 1.0000\n",
            "Epoch 61/100\n",
            "4800/4800 [==============================] - 277s 58ms/step - loss: 1169503252.4800 - acc: 1.0000 - val_loss: 1169535957.3333 - val_acc: 1.0000\n",
            "Epoch 62/100\n",
            "4800/4800 [==============================] - 272s 57ms/step - loss: 1169503242.2400 - acc: 1.0000 - val_loss: 1169535957.3333 - val_acc: 1.0000\n",
            "Epoch 63/100\n",
            "4800/4800 [==============================] - 274s 57ms/step - loss: 1169503143.2533 - acc: 1.0000 - val_loss: 1169535718.4000 - val_acc: 1.0000\n",
            "Epoch 64/100\n",
            "4800/4800 [==============================] - 278s 58ms/step - loss: 1169503020.3733 - acc: 1.0000 - val_loss: 1169535718.4000 - val_acc: 1.0000\n",
            "Epoch 65/100\n",
            "4800/4800 [==============================] - 315s 66ms/step - loss: 1169503008.4267 - acc: 1.0000 - val_loss: 1169535718.4000 - val_acc: 1.0000\n",
            "Epoch 66/100\n",
            "4800/4800 [==============================] - 296s 62ms/step - loss: 1169502981.1200 - acc: 1.0000 - val_loss: 1169535462.4000 - val_acc: 1.0000\n",
            "Epoch 67/100\n",
            "4800/4800 [==============================] - 281s 59ms/step - loss: 1169502764.3733 - acc: 1.0000 - val_loss: 1169535462.4000 - val_acc: 1.0000\n",
            "Epoch 68/100\n",
            "4800/4800 [==============================] - 272s 57ms/step - loss: 1169502767.7867 - acc: 1.0000 - val_loss: 1169535462.4000 - val_acc: 1.0000\n",
            "Epoch 69/100\n",
            "4800/4800 [==============================] - 285s 59ms/step - loss: 1169502781.4400 - acc: 1.0000 - val_loss: 1169535462.4000 - val_acc: 1.0000\n",
            "Epoch 70/100\n",
            "4800/4800 [==============================] - 277s 58ms/step - loss: 1169502585.1733 - acc: 1.0000 - val_loss: 1169535283.2000 - val_acc: 1.0000\n",
            "Epoch 71/100\n",
            "4800/4800 [==============================] - 274s 57ms/step - loss: 1169502540.8000 - acc: 1.0000 - val_loss: 1169535283.2000 - val_acc: 1.0000\n",
            "Epoch 72/100\n",
            "4800/4800 [==============================] - 272s 57ms/step - loss: 1169502532.2667 - acc: 1.0000 - val_loss: 1169535283.2000 - val_acc: 1.0000\n",
            "Epoch 73/100\n",
            "4800/4800 [==============================] - 273s 57ms/step - loss: 1169502397.4400 - acc: 1.0000 - val_loss: 1169535010.1333 - val_acc: 1.0000\n",
            "Epoch 74/100\n",
            "4800/4800 [==============================] - 276s 57ms/step - loss: 1169502296.7467 - acc: 1.0000 - val_loss: 1169535010.1333 - val_acc: 1.0000\n",
            "Epoch 75/100\n",
            "4800/4800 [==============================] - 278s 58ms/step - loss: 1169502312.1067 - acc: 1.0000 - val_loss: 1169534993.0667 - val_acc: 1.0000\n",
            "Epoch 76/100\n",
            "4800/4800 [==============================] - 295s 61ms/step - loss: 1169502211.4133 - acc: 1.0000 - val_loss: 1169534737.0667 - val_acc: 1.0000\n",
            "Epoch 77/100\n",
            "4800/4800 [==============================] - 272s 57ms/step - loss: 1169502071.4667 - acc: 1.0000 - val_loss: 1169534737.0667 - val_acc: 1.0000\n",
            "Epoch 78/100\n",
            "4800/4800 [==============================] - 294s 61ms/step - loss: 1169502057.8133 - acc: 1.0000 - val_loss: 1169534737.0667 - val_acc: 1.0000\n",
            "Epoch 79/100\n",
            "4800/4800 [==============================] - 273s 57ms/step - loss: 1169502074.8800 - acc: 1.0000 - val_loss: 1169534566.4000 - val_acc: 1.0000\n",
            "Epoch 80/100\n",
            "4800/4800 [==============================] - 274s 57ms/step - loss: 1169501832.5333 - acc: 1.0000 - val_loss: 1169534566.4000 - val_acc: 1.0000\n",
            "Epoch 81/100\n",
            "4800/4800 [==============================] - 274s 57ms/step - loss: 1169501839.3600 - acc: 1.0000 - val_loss: 1169534566.4000 - val_acc: 1.0000\n",
            "Epoch 82/100\n",
            "4800/4800 [==============================] - 287s 60ms/step - loss: 1169501825.7067 - acc: 1.0000 - val_loss: 1169534566.4000 - val_acc: 1.0000\n",
            "Epoch 83/100\n",
            "4800/4800 [==============================] - 278s 58ms/step - loss: 1169501660.1600 - acc: 1.0000 - val_loss: 1169534310.4000 - val_acc: 1.0000\n",
            "Epoch 84/100\n",
            "4800/4800 [==============================] - 279s 58ms/step - loss: 1169501603.8400 - acc: 1.0000 - val_loss: 1169534310.4000 - val_acc: 1.0000\n",
            "Epoch 85/100\n",
            "4800/4800 [==============================] - 274s 57ms/step - loss: 1169501610.6667 - acc: 1.0000 - val_loss: 1169534310.4000 - val_acc: 1.0000\n",
            "Epoch 86/100\n",
            "4800/4800 [==============================] - 275s 57ms/step - loss: 1169501480.9600 - acc: 1.0000 - val_loss: 1169534071.4667 - val_acc: 1.0000\n",
            "Epoch 87/100\n",
            "4800/4800 [==============================] - 301s 63ms/step - loss: 1169501385.3867 - acc: 1.0000 - val_loss: 1169534071.4667 - val_acc: 1.0000\n",
            "Epoch 88/100\n",
            "4800/4800 [==============================] - 271s 56ms/step - loss: 1169501358.0800 - acc: 1.0000 - val_loss: 1169534071.4667 - val_acc: 1.0000\n",
            "Epoch 89/100\n",
            "4800/4800 [==============================] - 281s 58ms/step - loss: 1169501323.9467 - acc: 1.0000 - val_loss: 1169533832.5333 - val_acc: 1.0000\n",
            "Epoch 90/100\n",
            "4800/4800 [==============================] - 292s 61ms/step - loss: 1169501125.9733 - acc: 1.0000 - val_loss: 1169533832.5333 - val_acc: 1.0000\n",
            "Epoch 91/100\n",
            "4800/4800 [==============================] - 277s 58ms/step - loss: 1169501149.8667 - acc: 1.0000 - val_loss: 1169533832.5333 - val_acc: 1.0000\n",
            "Epoch 92/100\n",
            "4800/4800 [==============================] - 280s 58ms/step - loss: 1169501129.3867 - acc: 1.0000 - val_loss: 1169533832.5333 - val_acc: 1.0000\n",
            "Epoch 93/100\n",
            "4800/4800 [==============================] - 279s 58ms/step - loss: 1169500916.0533 - acc: 1.0000 - val_loss: 1169533559.4667 - val_acc: 1.0000\n",
            "Epoch 94/100\n",
            "4800/4800 [==============================] - 271s 57ms/step - loss: 1169500907.5200 - acc: 1.0000 - val_loss: 1169533559.4667 - val_acc: 1.0000\n",
            "Epoch 95/100\n",
            "4800/4800 [==============================] - 281s 59ms/step - loss: 1169500910.9333 - acc: 1.0000 - val_loss: 1169533559.4667 - val_acc: 1.0000\n",
            "Epoch 96/100\n",
            "4800/4800 [==============================] - 275s 57ms/step - loss: 1169500757.3333 - acc: 1.0000 - val_loss: 1169533337.6000 - val_acc: 1.0000\n",
            "Epoch 97/100\n",
            "4800/4800 [==============================] - 276s 58ms/step - loss: 1169500658.3467 - acc: 1.0000 - val_loss: 1169533337.6000 - val_acc: 1.0000\n",
            "Epoch 98/100\n",
            "4800/4800 [==============================] - 277s 58ms/step - loss: 1169500642.9867 - acc: 1.0000 - val_loss: 1169533337.6000 - val_acc: 1.0000\n",
            "Epoch 99/100\n",
            "4800/4800 [==============================] - 279s 58ms/step - loss: 1169500586.6667 - acc: 1.0000 - val_loss: 1169533132.8000 - val_acc: 1.0000\n",
            "Epoch 100/100\n",
            "4800/4800 [==============================] - 286s 60ms/step - loss: 1169500405.7600 - acc: 1.0000 - val_loss: 1169533132.8000 - val_acc: 1.0000\n"
          ],
          "name": "stdout"
        }
      ]
    },
    {
      "cell_type": "code",
      "metadata": {
        "id": "zlGe3F7yEAwf",
        "colab_type": "code",
        "colab": {}
      },
      "source": [
        "autoencoder = load_model('autoencoder_fraud.h5')"
      ],
      "execution_count": 0,
      "outputs": []
    },
    {
      "cell_type": "code",
      "metadata": {
        "id": "O7Yspf-4EHt1",
        "colab_type": "code",
        "colab": {
          "base_uri": "https://localhost:8080/",
          "height": 295
        },
        "outputId": "53d42e2e-5cb3-489f-a5de-316005a2bd31"
      },
      "source": [
        "plt.plot(history['loss'], linewidth=2, label='Train')\n",
        "plt.plot(history['val_loss'], linewidth=2, label='Test')\n",
        "plt.legend(loc='upper right')\n",
        "plt.title('Model loss')\n",
        "plt.ylabel('Loss')\n",
        "plt.xlabel('Epoch')\n",
        "#plt.ylim(ymin=0.70,ymax=1)\n",
        "plt.show()"
      ],
      "execution_count": 11,
      "outputs": [
        {
          "output_type": "display_data",
          "data": {
            "text/plain": [
              "<Figure size 432x288 with 1 Axes>"
            ],
            "image/png": "[encoded data removed]"
          },
          "metadata": {
            "tags": [],
            "needs_background": "light"
          }
        }
      ]
    },
    {
      "cell_type": "markdown",
      "metadata": {
        "id": "T7I1cx12_2Gv",
        "colab_type": "text"
      },
      "source": [
        "#Ermittlung potenzieller Kundenrisikogruppen# \n",
        "##Supervised Learning mit neuronalen Netzwerken##\n"
      ]
    },
    {
      "cell_type": "code",
      "metadata": {
        "id": "b57Ggf-x-Iet",
        "colab_type": "code",
        "colab": {}
      },
      "source": [
        "%matplotlib inline\n",
        "import pandas as pd\n",
        "import numpy as np\n",
        "import matplotlib.pyplot as plt\n",
        "\n",
        "\n",
        "# Laden der 600000 Transaktionsdaten \n",
        "trx_data_url = 'https://raw.githubusercontent.com/sakuronohana/cas_datenanalyse/master/Semesterarbeit/Dataset/trx_data_ml.csv'\n",
        "\n",
        "trx_data_ml = pd.read_csv(trx_data_url, delimiter=';')\n",
        "trx_data_ml.head()\n"
      ],
      "execution_count": 0,
      "outputs": []
    },
    {
      "cell_type": "code",
      "metadata": {
        "id": "4reOVH6SOoEs",
        "colab_type": "code",
        "colab": {}
      },
      "source": [
        "trx_data_ol.nunique()"
      ],
      "execution_count": 0,
      "outputs": []
    },
    {
      "cell_type": "code",
      "metadata": {
        "id": "Qa3UBsB4PUcz",
        "colab_type": "code",
        "colab": {}
      },
      "source": [
        "trx_data.fraud_id.map(lambda x:1 if x>=1 else 0).mean()"
      ],
      "execution_count": 0,
      "outputs": []
    },
    {
      "cell_type": "markdown",
      "metadata": {
        "id": "nBv9TMCtc2s6",
        "colab_type": "text"
      },
      "source": [
        "**Erstellung des neuronalen Netzwerk-Modells**\n",
        "\n",
        "https://www.youtube.com/watch?v=BhpvH5DuVu8&list=PLQVvvaa0QuDfKTOs3Keq_kaG2P55YRn5v&index=46\n",
        "\n"
      ]
    },
    {
      "cell_type": "code",
      "metadata": {
        "id": "BjPo4kEvdD8s",
        "colab_type": "code",
        "colab": {}
      },
      "source": [
        "import tensorflow as tf\n",
        "\n",
        "n_nodes_hl1 = 500\n",
        "n_nodes_hl2 = 500\n",
        "n_nodes_hl3 = 500\n",
        "\n",
        "n_classes = 10\n",
        "batch_size = 1000\n",
        "\n",
        "x = tf.placeholder('float',[None, 784])\n",
        "\n",
        "def neural_network_model(data):\n",
        "  hidden_1_layer = {'weights':tf.Variable(tf.random_normal([784,n_nodes_hl1])),\n",
        "                   'biases':tf.Variable(tf.random_normal(n_nodes_hl1))}\n",
        "  hidden_2_layer = {'weights':tf.Variable(tf.random_normal([n_nodes_hl2,n_nodes_hl2])),\n",
        "                   'biases':tf.Variable(tf.random_normal(n_nodes_hl2))}\n",
        "  hidden_3_layer = {'weights':tf.Variable(tf.random_normal([n_nodes_hl2,n_nodes_hl3])),\n",
        "                   'biases':tf.Variable(tf.random_normal(n_nodes_hl3))}\n",
        "  output_layer = {'weights':tf.Variable(tf.random_normal([n_nodes_hl3,n_nodes_hl1])),\n",
        "                   'biases':tf.Variable(tf.random_normal(n_classes))}\n",
        "  \n",
        "  l1 = tf.add(tf.matmul(data, hidden_1_layer['weights']), hidden_1_layer['biases'])\n",
        "  l1 = tf.nn.relu(l1)\n",
        "  \n",
        "  l2 = tf.add(tf.matmul(l1, hidden_2_layer['weights']), hidden_2_layer['biases'])\n",
        "  l2 = tf.nn.relu(l2)\n",
        "  \n",
        "  l3 = tf.add(tf.matmul(l2, hidden_3_layer['weights']), hidden_3_layer['biases'])\n",
        "  l3 = tf.nn.relu(l3)\n",
        "                 \n",
        "  output = tf.add(l3, output_layer['weights'])+ output_layer['biases']\n",
        "  \n",
        "  return output\n",
        "                  \n",
        "def train_neural_network(x):\n",
        "  prediction = neural_network_model(x)\n",
        "  cost = tf.reduce_mean(tf.nn.softmax_cross_entropy_with_logits(prediction,y))\n",
        "  optimizer = tf.train.AdamOptimizer().minimize(cost)\n",
        "  \n",
        "  hm_epochs = 10\n",
        "                  \n",
        "  with tf.Session() as sess:\n",
        "    sess.run(tf.initialize_all_variables())\n",
        "    # Hier wird das Modell trainiert\n",
        "    for epoch in hm_epochs:\n",
        "        epoch_loss = 0\n",
        "        for _ in range(int(tdo_train.train.num_examples/batch_size)):\n",
        "            x = tdo_train.next_batch(batch_size)\n",
        "            _, c = sess.run([optimizer, cost], feed_dict = {x: x})\n",
        "            epoch_loss += c\n",
        "        print('Epoch', epoch, 'completed out of', hm_epochs, 'loss:', epoch_loss)\n",
        "                  \n",
        "    correct = tf.equal(tf.argmax(prediction, 1), tf.argmax(y,1))\n",
        "    accuracy = tf.reduce_mean(tf.cast(correct,'float'))\n",
        "    print('Accuracy:', accuracy.eval({x:tdo_test}))\n",
        "    \n",
        "train_neural_network(x)"
      ],
      "execution_count": 0,
      "outputs": []
    },
    {
      "cell_type": "markdown",
      "metadata": {
        "id": "g0Oh1LK53rMd",
        "colab_type": "text"
      },
      "source": [
        "##Datensatz analysieren##\n",
        "\n",
        "##Tipp: Plotting Learning Curves - Scikit !!!!"
      ]
    },
    {
      "cell_type": "code",
      "metadata": {
        "id": "6bzsG7nZ25CG",
        "colab_type": "code",
        "colab": {}
      },
      "source": [
        "# Visualisierung der Nummerischen Daten in dem Datensatz\n",
        "trx_data.hist(bins=50, figsize=(20,15))\n",
        "plt.show()"
      ],
      "execution_count": 0,
      "outputs": []
    },
    {
      "cell_type": "code",
      "metadata": {
        "id": "K-MjsTaU3kS8",
        "colab_type": "code",
        "colab": {}
      },
      "source": [
        "# Suche nach den Korrelationen - Teil 1\n",
        "corr_matrix = trx_data.corr()\n",
        "print ('Korrelation zu Payment ID','\\n',corr_matrix['paym_id'].sort_values(ascending=False))\n",
        "print ('Korrelation zu Zahlungssumme','\\n',corr_matrix['amount'].sort_values(ascending=False))\n",
        "print ('Korrelation zu Kundenvertrag','\\n',corr_matrix['cust_vertrag_nr'].sort_values(ascending=False))\n",
        "print ('Korrelation zu Betrugsid','\\n',corr_matrix['fraud_id'].sort_values(ascending=False))"
      ],
      "execution_count": 0,
      "outputs": []
    },
    {
      "cell_type": "code",
      "metadata": {
        "id": "GXoUuDUY3LpU",
        "colab_type": "code",
        "colab": {}
      },
      "source": [
        "# Bereinigung der Daten\n",
        "pd.to_datetime(trx_data['timestamp'])\n",
        "pd.to_datetime(trx_data['valuta_date'])\n",
        "np.where(np.isnan(trx_data))"
      ],
      "execution_count": 0,
      "outputs": []
    },
    {
      "cell_type": "code",
      "metadata": {
        "id": "c6Vx75189gJV",
        "colab_type": "code",
        "colab": {}
      },
      "source": [
        "# Datensatz in Trainings(80%)- und Testdatenset (20%) teilen\n",
        "from sklearn.model_selection import train_test_split\n",
        "train_trx_data, test_trx_data = train_test_split(trx_data, test_size=0.2, random_state=42) \n",
        "train_trx_data.count(), test_trx_data.count()"
      ],
      "execution_count": 0,
      "outputs": []
    },
    {
      "cell_type": "code",
      "metadata": {
        "id": "WKYDanXj3Vm9",
        "colab_type": "code",
        "colab": {}
      },
      "source": [
        "# Dimensionsreduktion mit PCA\n",
        "from sklearn.decomposition import PCA # Import der PCA Funktion von Scikit Learn\n",
        "from sklearn import preprocessing # Die Preprocessing Funktion hilft uns die Daten zu skalieren bevor sie mit PCA verwendet werden."
      ],
      "execution_count": 0,
      "outputs": []
    }
  ]
}