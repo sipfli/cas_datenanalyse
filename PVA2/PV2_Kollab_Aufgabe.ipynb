{
  "nbformat": 4,
  "nbformat_minor": 0,
  "metadata": {
    "colab": {
      "name": "PV2_Kollab_Aufgabe.ipynb",
      "version": "0.3.2",
      "provenance": [],
      "include_colab_link": true
    },
    "kernelspec": {
      "name": "python3",
      "display_name": "Python 3"
    }
  },
  "cells": [
    {
      "cell_type": "markdown",
      "metadata": {
        "id": "view-in-github",
        "colab_type": "text"
      },
      "source": [
        "<a href=\"https://colab.research.google.com/github/sakuronohana/cas_datenanalyse/blob/master/PVA2/PV2_Kollab_Aufgabe.ipynb\" target=\"_parent\"><img src=\"https://colab.research.google.com/assets/colab-badge.svg\" alt=\"Open In Colab\"/></a>"
      ]
    },
    {
      "metadata": {
        "id": "xicvQfvkZcNj",
        "colab_type": "text"
      },
      "cell_type": "markdown",
      "source": [
        "##Kollaborative Aufgabe: Analyse des erstellten Zeichen-Datensatzes##"
      ]
    },
    {
      "metadata": {
        "id": "ruqG_GyDZjUj",
        "colab_type": "code",
        "colab": {
          "base_uri": "https://localhost:8080/",
          "height": 550
        },
        "outputId": "629934ab-c2a2-4219-b1ec-7e8d25e6d06a"
      },
      "cell_type": "code",
      "source": [
        "import glob, os\n",
        "import pandas as pd\n",
        "import numpy as np\n",
        "\n",
        "#Import multiple csv-Files\n",
        "\n",
        "csv_files = glob.glob('*.csv')\n",
        "\n",
        "#data = [pd.read_csv (csvfile) for csvfile in csv_files]\n",
        "\n",
        "for data in range(10):\n",
        "  data = pd.DataFrame ([fn for fn in csv_files], columns = ['id'])\n",
        "  data['id'] = data['id'].str[:5]\n",
        "  print(data)\n",
        "\n",
        "\n",
        "  \n",
        "  #temp_data = pd.read_csv(csv_file, header=None)\n",
        "  #temp_data.insert(0,'id',file_list)#csv_file.split('\\\\'[1])\n",
        "  #data.append(temp_data)\n",
        "  #print(temp_data)\n",
        "\n"
      ],
      "execution_count": 52,
      "outputs": [
        {
          "output_type": "stream",
          "text": [
            "      id\n",
            "0  ps-pa\n",
            "1  pd-pd\n",
            "      id\n",
            "0  ps-pa\n",
            "1  pd-pd\n",
            "      id\n",
            "0  ps-pa\n",
            "1  pd-pd\n",
            "      id\n",
            "0  ps-pa\n",
            "1  pd-pd\n",
            "      id\n",
            "0  ps-pa\n",
            "1  pd-pd\n",
            "      id\n",
            "0  ps-pa\n",
            "1  pd-pd\n",
            "      id\n",
            "0  ps-pa\n",
            "1  pd-pd\n",
            "      id\n",
            "0  ps-pa\n",
            "1  pd-pd\n",
            "      id\n",
            "0  ps-pa\n",
            "1  pd-pd\n",
            "      id\n",
            "0  ps-pa\n",
            "1  pd-pd\n"
          ],
          "name": "stdout"
        }
      ]
    },
    {
      "metadata": {
        "id": "CvHz4buXg2-Z",
        "colab_type": "code",
        "colab": {
          "base_uri": "https://localhost:8080/",
          "height": 70
        },
        "outputId": "75c378d9-0ebb-4cd1-fa7a-65eca2babf3c"
      },
      "cell_type": "code",
      "source": [
        "import pandas as pd\n",
        "import glob, os\n",
        "file_list = pd.DataFrame([f for f in glob.glob(\"*.csv\")],columns = ['id'])\n",
        "print (file_list)"
      ],
      "execution_count": 20,
      "outputs": [
        {
          "output_type": "stream",
          "text": [
            "Empty DataFrame\n",
            "Columns: [id]\n",
            "Index: []\n"
          ],
          "name": "stdout"
        }
      ]
    },
    {
      "metadata": {
        "id": "KSjpOKm0pK8T",
        "colab_type": "code",
        "colab": {}
      },
      "cell_type": "code",
      "source": [
        ""
      ],
      "execution_count": 0,
      "outputs": []
    }
  ]
}