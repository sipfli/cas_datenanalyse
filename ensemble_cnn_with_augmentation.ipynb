{
  "nbformat": 4,
  "nbformat_minor": 0,
  "metadata": {
    "colab": {
      "name": "ensemble-cnn-with-augmentation.ipynb",
      "version": "0.3.2",
      "provenance": [],
      "include_colab_link": true
    },
    "language_info": {
      "codemirror_mode": {
        "name": "ipython",
        "version": 3
      },
      "file_extension": ".py",
      "mimetype": "text/x-python",
      "name": "python",
      "nbconvert_exporter": "python",
      "pygments_lexer": "ipython3",
      "version": "3.6.6"
    },
    "kernelspec": {
      "name": "python3",
      "display_name": "Python 3"
    },
    "accelerator": "GPU"
  },
  "cells": [
    {
      "cell_type": "markdown",
      "metadata": {
        "id": "view-in-github",
        "colab_type": "text"
      },
      "source": [
        "<a href=\"https://colab.research.google.com/github/sakuronohana/cas_datenanalyse/blob/master/ensemble_cnn_with_augmentation.ipynb\" target=\"_parent\"><img src=\"https://colab.research.google.com/assets/colab-badge.svg\" alt=\"Open In Colab\"/></a>"
      ]
    },
    {
      "cell_type": "code",
      "metadata": {
        "_cell_guid": "b1076dfc-b9ad-4769-8c92-a6c4dae69d19",
        "_uuid": "8f2839f25d086af736a60e9eeb907d3b93b6e0e5",
        "id": "cUUF34Hmme3Y",
        "colab_type": "code",
        "colab": {}
      },
      "source": [
        "import pandas as pd\n",
        "import numpy as np\n",
        "import matplotlib.pyplot as plt\n",
        "%matplotlib inline \n",
        "\n",
        "gh_train = 'https://raw.githubusercontent.com/sakuronohana/cas_datenanalyse/master/PVA4/data/train.csv'\n",
        "gh_test = 'https://raw.githubusercontent.com/sakuronohana/cas_datenanalyse/master/PVA4/data/test.csv'\n",
        "\n",
        "train_data = pd.read_csv(gh_train,header=None,index_col=0)\n",
        "test_data = pd.read_csv(gh_test,header=None,index_col=0)\n",
        "\n",
        "\n",
        "#train_data = np.array(train_data.iloc[50])[1:].astype('uint8').reshape(28,28)\n",
        "#plt.imshow(train_data)"
      ],
      "execution_count": 0,
      "outputs": []
    },
    {
      "cell_type": "code",
      "metadata": {
        "_uuid": "78715e6a54e12a02a6779115a7df5dbc4bbdbecd",
        "id": "_gA1Xpm0me3b",
        "colab_type": "code",
        "outputId": "d3d1e02e-57b7-4e68-c09a-433eb7f60b8e",
        "colab": {
          "base_uri": "https://localhost:8080/",
          "height": 52
        }
      },
      "source": [
        "print(train_data.shape)\n",
        "print(test_data.shape)\n"
      ],
      "execution_count": 38,
      "outputs": [
        {
          "output_type": "stream",
          "text": [
            "(9360, 785)\n",
            "(9364, 784)\n"
          ],
          "name": "stdout"
        }
      ]
    },
    {
      "cell_type": "code",
      "metadata": {
        "_uuid": "bc6a4f5610618c35b5df3886380436de47e76e6f",
        "id": "CzTm1nXxme3g",
        "colab_type": "code",
        "colab": {}
      },
      "source": [
        "train_target = train_data[1]\n",
        "\n",
        "del train_data[1]\n"
      ],
      "execution_count": 0,
      "outputs": []
    },
    {
      "cell_type": "code",
      "metadata": {
        "id": "ZYwwZ3TQpCyu",
        "colab_type": "code",
        "colab": {
          "base_uri": "https://localhost:8080/",
          "height": 35
        },
        "outputId": "1a171c29-53b2-43b8-a900-ef8c21c3c2f3"
      },
      "source": [
        "train_target.count()"
      ],
      "execution_count": 40,
      "outputs": [
        {
          "output_type": "execute_result",
          "data": {
            "text/plain": [
              "9360"
            ]
          },
          "metadata": {
            "tags": []
          },
          "execution_count": 40
        }
      ]
    },
    {
      "cell_type": "code",
      "metadata": {
        "_uuid": "80503ba7c01e3c4454aa4ab4681ab3e50eb13ab4",
        "id": "iSYLC_ANme3l",
        "colab_type": "code",
        "colab": {}
      },
      "source": [
        "train_data = train_data.values\n",
        "test_data = test_data.values"
      ],
      "execution_count": 0,
      "outputs": []
    },
    {
      "cell_type": "code",
      "metadata": {
        "_uuid": "4402edbbcdb7ab2cda2f0341cd4665db25aa2295",
        "id": "E0ULKfhIme3o",
        "colab_type": "code",
        "outputId": "87be4f25-b545-4649-eb75-6e00c3d91a3f",
        "colab": {
          "base_uri": "https://localhost:8080/",
          "height": 35
        }
      },
      "source": [
        "train_target.nunique()"
      ],
      "execution_count": 42,
      "outputs": [
        {
          "output_type": "execute_result",
          "data": {
            "text/plain": [
              "10"
            ]
          },
          "metadata": {
            "tags": []
          },
          "execution_count": 42
        }
      ]
    },
    {
      "cell_type": "code",
      "metadata": {
        "_uuid": "4a71b2de5fcc127c828628b1e4a767cc7b182459",
        "id": "3juV6aZKme3t",
        "colab_type": "code",
        "colab": {}
      },
      "source": [
        "X_train = train_data.reshape(-1, 28, 28 , 1).astype('float32')"
      ],
      "execution_count": 0,
      "outputs": []
    },
    {
      "cell_type": "code",
      "metadata": {
        "_uuid": "5a9f0599a4f8e3c056af1253097c36b2f778cfb8",
        "id": "dqf-AzSeme3w",
        "colab_type": "code",
        "colab": {}
      },
      "source": [
        "X_test = test_data.reshape(-1, 28, 28 , 1).astype('float32')"
      ],
      "execution_count": 0,
      "outputs": []
    },
    {
      "cell_type": "code",
      "metadata": {
        "_uuid": "286269409449e7fd28d9ff49c1a6477e62880075",
        "id": "85pvcCPVme3z",
        "colab_type": "code",
        "colab": {}
      },
      "source": [
        "X_train = X_train / 255.0\n",
        "X_test = X_test / 255.0"
      ],
      "execution_count": 0,
      "outputs": []
    },
    {
      "cell_type": "code",
      "metadata": {
        "_uuid": "7d62492cf34cd6cb5cfe04a299a557d37a8c085c",
        "id": "IZCcPwr6me33",
        "colab_type": "code",
        "colab": {}
      },
      "source": [
        "import pandas as pd\n",
        "import numpy as np\n",
        "import matplotlib.pyplot as plt\n",
        "import matplotlib.image as mpimg\n",
        "import seaborn as sns\n",
        "%matplotlib inline\n",
        "\n",
        "np.random.seed(2)\n",
        "\n",
        "from sklearn.model_selection import train_test_split\n",
        "from sklearn.metrics import confusion_matrix\n",
        "import itertools\n",
        "\n",
        "from keras.utils.np_utils import to_categorical # convert to one-hot-encoding\n",
        "from keras.models import Sequential\n",
        "from keras.layers import Dense, Dropout, Flatten, Conv2D, MaxPool2D\n",
        "from keras.optimizers import RMSprop, Adam\n",
        "from keras.preprocessing.image import ImageDataGenerator\n",
        "from keras.callbacks import ReduceLROnPlateau\n",
        "\n",
        "\n",
        "sns.set(style='white', context='notebook', palette='deep')"
      ],
      "execution_count": 0,
      "outputs": []
    },
    {
      "cell_type": "code",
      "metadata": {
        "_uuid": "dc2c58f04d636a6d8f951d2b2bcd23dbe30a3209",
        "id": "9-EMQVAgme36",
        "colab_type": "code",
        "colab": {}
      },
      "source": [
        "from sklearn.preprocessing import LabelEncoder\n",
        "enc = LabelEncoder()\n",
        "train_target = enc.fit_transform(train_target.values)"
      ],
      "execution_count": 0,
      "outputs": []
    },
    {
      "cell_type": "code",
      "metadata": {
        "_uuid": "1cba7d0fb7caf81b68a80bc400a791a3410d9bc2",
        "id": "3ndo68L7me38",
        "colab_type": "code",
        "colab": {}
      },
      "source": [
        "Y_train = to_categorical(train_target, num_classes = 10)"
      ],
      "execution_count": 0,
      "outputs": []
    },
    {
      "cell_type": "code",
      "metadata": {
        "_uuid": "443008a6485817fc698026e8a4b36cfa948c2caf",
        "id": "JaEr1lkHme3_",
        "colab_type": "code",
        "colab": {}
      },
      "source": [
        "# Split the train and the validation set for the fitting\n",
        "X_train, X_val, Y_train, Y_val = train_test_split(X_train, Y_train, test_size = 0.1, random_state=20182019)"
      ],
      "execution_count": 0,
      "outputs": []
    },
    {
      "cell_type": "code",
      "metadata": {
        "_uuid": "3946a8d01c927c85b248c54a90bfb657b4065f03",
        "id": "cFmhxezpme4B",
        "colab_type": "code",
        "outputId": "e6fb77c5-c778-46d3-954c-a74bab168988",
        "colab": {
          "base_uri": "https://localhost:8080/",
          "height": 275
        }
      },
      "source": [
        "g = plt.imshow(X_train[25][:,:,0])"
      ],
      "execution_count": 51,
      "outputs": [
        {
          "output_type": "display_data",
          "data": {
            "text/plain": [
              "<Figure size 432x288 with 1 Axes>"
            ],
            "image/png": "[encoded data removed]"
          },
          "metadata": {
            "tags": []
          }
        }
      ]
    },
    {
      "cell_type": "code",
      "metadata": {
        "_uuid": "c8908b4b11bca5355e244da51b0d0f08dbc51371",
        "id": "vQfCJpHwme4F",
        "colab_type": "code",
        "outputId": "2e1e7c4a-b8ab-4f70-89bb-8431280d0e62",
        "colab": {
          "base_uri": "https://localhost:8080/",
          "height": 35
        }
      },
      "source": [
        "np.unique(train_target)"
      ],
      "execution_count": 52,
      "outputs": [
        {
          "output_type": "execute_result",
          "data": {
            "text/plain": [
              "array([0, 1, 2, 3, 4, 5, 6, 7, 8, 9])"
            ]
          },
          "metadata": {
            "tags": []
          },
          "execution_count": 52
        }
      ]
    },
    {
      "cell_type": "code",
      "metadata": {
        "_uuid": "60e951c79a8efb6fcc254076f07cb2f548caf551",
        "id": "qidlkFI1me4I",
        "colab_type": "code",
        "colab": {}
      },
      "source": [
        "from keras.layers import BatchNormalization"
      ],
      "execution_count": 0,
      "outputs": []
    },
    {
      "cell_type": "code",
      "metadata": {
        "_uuid": "a1ce3ec016de30f4cbdae62f8e100f03fb80d0d3",
        "id": "2FcrjTYkme4L",
        "colab_type": "code",
        "outputId": "2373330a-15fe-4cc6-f085-09f6d325ec13",
        "colab": {
          "base_uri": "https://localhost:8080/",
          "height": 35
        }
      },
      "source": [
        "from keras.optimizers import RMSprop, Adam\n",
        "from keras.layers import DepthwiseConv2D, Reshape, Activation\n",
        "\n",
        "nets = 15\n",
        "model = [0] *nets\n",
        "\n",
        "\n",
        "for j in range(nets):\n",
        "    model[j] = Sequential()\n",
        "\n",
        "    model[j].add(Conv2D(32, kernel_size = 3, activation='relu', input_shape = (28, 28, 1)))\n",
        "    model[j].add(BatchNormalization())\n",
        "    model[j].add(Conv2D(32, kernel_size = 3, activation='relu'))\n",
        "    model[j].add(BatchNormalization())\n",
        "    model[j].add(Conv2D(32, kernel_size = 5, strides=2, padding='same', activation='relu'))\n",
        "    model[j].add(BatchNormalization())\n",
        "    model[j].add(Dropout(0.35))\n",
        "\n",
        "    model[j].add(Conv2D(64, kernel_size = 3, activation='relu'))\n",
        "    model[j].add(BatchNormalization())\n",
        "    model[j].add(Conv2D(64, kernel_size = 3, activation='relu'))\n",
        "    model[j].add(BatchNormalization())\n",
        "    model[j].add(Conv2D(64, kernel_size = 5, strides=2, padding='same', activation='relu'))\n",
        "    model[j].add(BatchNormalization())\n",
        "    model[j].add(Dropout(0.4))\n",
        "\n",
        "    model[j].add(Conv2D(128, kernel_size = 4, activation='relu'))\n",
        "    model[j].add(BatchNormalization())\n",
        "    model[j].add(Flatten())\n",
        "    model[j].add(Dropout(0.4))\n",
        "    model[j].add(Dense(10, activation='softmax'))\n",
        "\n",
        "    # COMPILE WITH ADAM OPTIMIZER AND CROSS ENTROPY COST\n",
        "    model[j].compile(optimizer='adagrad', loss=\"categorical_crossentropy\", metrics=[\"accuracy\"])\n",
        "    \n",
        "print('Done')"
      ],
      "execution_count": 54,
      "outputs": [
        {
          "output_type": "stream",
          "text": [
            "Done\n"
          ],
          "name": "stdout"
        }
      ]
    },
    {
      "cell_type": "code",
      "metadata": {
        "_uuid": "8c1894535205d883a45426f66ccecbe3e73ba817",
        "id": "rY4dZupqme4P",
        "colab_type": "code",
        "colab": {}
      },
      "source": [
        "# LR Reduction Callback\n",
        "from keras.callbacks import ReduceLROnPlateau\n",
        "\n",
        "learning_rate_reduction = ReduceLROnPlateau(monitor='val_acc', \n",
        "                                            patience=3, \n",
        "                                            verbose=0, \n",
        "                                            factor=0.5, \n",
        "                                            min_lr=0.00001)"
      ],
      "execution_count": 0,
      "outputs": []
    },
    {
      "cell_type": "code",
      "metadata": {
        "_uuid": "02a92f609933a80a0be514ce3c0c4f9725daf81b",
        "id": "nxtd3y1hme4R",
        "colab_type": "code",
        "outputId": "f42ff261-5600-45a6-bd59-e0a516cf2720",
        "colab": {
          "base_uri": "https://localhost:8080/",
          "height": 69
        }
      },
      "source": [
        "\n",
        "history = [0] * nets\n",
        "epochs = 30\n",
        "\n",
        "datagen = ImageDataGenerator(\n",
        "    rotation_range=13,\n",
        "    zoom_range=0.11,\n",
        "    width_shift_range=0.1,\n",
        "    height_shift_range=0.1\n",
        ")\n",
        "\n",
        "datagen.fit(X_train)\n",
        "\n",
        "for j in range(nets):\n",
        "    print(f'Net : {j+1}')   \n",
        "    X_train2, X_val2, Y_train2, Y_val2 = train_test_split(X_train, Y_train, test_size = 0.1)\n",
        "    history[j] = model[j].fit_generator(datagen.flow(X_train2,Y_train2, batch_size=64),\n",
        "        epochs = epochs, steps_per_epoch = X_train2.shape[0]//64,  \n",
        "        validation_data = (X_val2,Y_val2), callbacks=[learning_rate_reduction], verbose=1)\n",
        "    \n",
        "    print(\"CNN {0:d}: Epochs={1:d}, Train accuracy={2:.5f}, Validation accuracy={3:.5f}\".format(\n",
        "        j+1,epochs,max(history[j].history['acc']),max(history[j].history['val_acc']) ))"
      ],
      "execution_count": 0,
      "outputs": [
        {
          "output_type": "stream",
          "text": [
            "Net : 1\n",
            "Epoch 1/30\n",
            " 14/118 [==>...........................] - ETA: 1:53 - loss: 2.2413 - acc: 0.3426"
          ],
          "name": "stdout"
        }
      ]
    },
    {
      "cell_type": "code",
      "metadata": {
        "_uuid": "96d0aa4b067758d1f5ca5b4e74c9f3f4095e7cb3",
        "id": "d0Jvn_4Kme4V",
        "colab_type": "code",
        "colab": {}
      },
      "source": [
        "# make submision\n",
        "results = np.zeros( (X_test.shape[0],10) ) \n",
        "for j in range(nets):\n",
        "    results = results + model[j].predict(X_test)\n"
      ],
      "execution_count": 0,
      "outputs": []
    },
    {
      "cell_type": "code",
      "metadata": {
        "_uuid": "4700ec41a1368c707e671d58638a767a55ef302e",
        "id": "a_iufHltme4Y",
        "colab_type": "code",
        "colab": {}
      },
      "source": [
        "    \n",
        "results = np.argmax(results,axis = 1)\n",
        "results = pd.Series(results,name=\"target\")\n",
        "submission = pd.concat([pd.Series(range(0,9364),name = \"Id\"),results],axis = 1)\n"
      ],
      "execution_count": 0,
      "outputs": []
    },
    {
      "cell_type": "code",
      "metadata": {
        "_uuid": "aaeded284cfc08c889d2c4a5519a199ad99470b5",
        "id": "XgJuX-B1me4b",
        "colab_type": "code",
        "outputId": "8af3fcc6-bb93-4c0d-c642-f8f8b3458fd2",
        "colab": {}
      },
      "source": [
        "submission.head()"
      ],
      "execution_count": 0,
      "outputs": [
        {
          "output_type": "execute_result",
          "data": {
            "text/html": [
              "<div>\n",
              "<style scoped>\n",
              "    .dataframe tbody tr th:only-of-type {\n",
              "        vertical-align: middle;\n",
              "    }\n",
              "\n",
              "    .dataframe tbody tr th {\n",
              "        vertical-align: top;\n",
              "    }\n",
              "\n",
              "    .dataframe thead th {\n",
              "        text-align: right;\n",
              "    }\n",
              "</style>\n",
              "<table border=\"1\" class=\"dataframe\">\n",
              "  <thead>\n",
              "    <tr style=\"text-align: right;\">\n",
              "      <th></th>\n",
              "      <th>Id</th>\n",
              "      <th>target</th>\n",
              "    </tr>\n",
              "  </thead>\n",
              "  <tbody>\n",
              "    <tr>\n",
              "      <th>0</th>\n",
              "      <td>0</td>\n",
              "      <td>0</td>\n",
              "    </tr>\n",
              "    <tr>\n",
              "      <th>1</th>\n",
              "      <td>1</td>\n",
              "      <td>7</td>\n",
              "    </tr>\n",
              "    <tr>\n",
              "      <th>2</th>\n",
              "      <td>2</td>\n",
              "      <td>0</td>\n",
              "    </tr>\n",
              "    <tr>\n",
              "      <th>3</th>\n",
              "      <td>3</td>\n",
              "      <td>0</td>\n",
              "    </tr>\n",
              "    <tr>\n",
              "      <th>4</th>\n",
              "      <td>4</td>\n",
              "      <td>7</td>\n",
              "    </tr>\n",
              "  </tbody>\n",
              "</table>\n",
              "</div>"
            ],
            "text/plain": [
              "   Id  target\n",
              "0   0       0\n",
              "1   1       7\n",
              "2   2       0\n",
              "3   3       0\n",
              "4   4       7"
            ]
          },
          "metadata": {
            "tags": []
          },
          "execution_count": 22
        }
      ]
    },
    {
      "cell_type": "code",
      "metadata": {
        "_uuid": "ff01d9adbf13f93a32c2cb284cc2e2c830db0bcb",
        "id": "XUBo8ksNme4e",
        "colab_type": "code",
        "colab": {}
      },
      "source": [
        "submission['target'] = enc.inverse_transform(submission['target'])"
      ],
      "execution_count": 0,
      "outputs": []
    },
    {
      "cell_type": "code",
      "metadata": {
        "_uuid": "67bd036b6b39c2006566ee5e91a3c9d641b56d60",
        "id": "w5XRcOYSme4g",
        "colab_type": "code",
        "outputId": "5001ac39-488a-4940-af0f-f245b430e26d",
        "colab": {}
      },
      "source": [
        "submission.head()"
      ],
      "execution_count": 0,
      "outputs": [
        {
          "output_type": "execute_result",
          "data": {
            "text/html": [
              "<div>\n",
              "<style scoped>\n",
              "    .dataframe tbody tr th:only-of-type {\n",
              "        vertical-align: middle;\n",
              "    }\n",
              "\n",
              "    .dataframe tbody tr th {\n",
              "        vertical-align: top;\n",
              "    }\n",
              "\n",
              "    .dataframe thead th {\n",
              "        text-align: right;\n",
              "    }\n",
              "</style>\n",
              "<table border=\"1\" class=\"dataframe\">\n",
              "  <thead>\n",
              "    <tr style=\"text-align: right;\">\n",
              "      <th></th>\n",
              "      <th>Id</th>\n",
              "      <th>target</th>\n",
              "    </tr>\n",
              "  </thead>\n",
              "  <tbody>\n",
              "    <tr>\n",
              "      <th>0</th>\n",
              "      <td>0</td>\n",
              "      <td>A</td>\n",
              "    </tr>\n",
              "    <tr>\n",
              "      <th>1</th>\n",
              "      <td>1</td>\n",
              "      <td>H</td>\n",
              "    </tr>\n",
              "    <tr>\n",
              "      <th>2</th>\n",
              "      <td>2</td>\n",
              "      <td>A</td>\n",
              "    </tr>\n",
              "    <tr>\n",
              "      <th>3</th>\n",
              "      <td>3</td>\n",
              "      <td>A</td>\n",
              "    </tr>\n",
              "    <tr>\n",
              "      <th>4</th>\n",
              "      <td>4</td>\n",
              "      <td>H</td>\n",
              "    </tr>\n",
              "  </tbody>\n",
              "</table>\n",
              "</div>"
            ],
            "text/plain": [
              "   Id target\n",
              "0   0      A\n",
              "1   1      H\n",
              "2   2      A\n",
              "3   3      A\n",
              "4   4      H"
            ]
          },
          "metadata": {
            "tags": []
          },
          "execution_count": 24
        }
      ]
    },
    {
      "cell_type": "code",
      "metadata": {
        "_uuid": "b87a43688a7beac4f4d528f31a57cb5000e3aa9f",
        "id": "bms0v0Inme4k",
        "colab_type": "code",
        "outputId": "6470522e-1996-4b5f-e779-37a9ac6760ae",
        "colab": {}
      },
      "source": [
        "submission.shape"
      ],
      "execution_count": 0,
      "outputs": [
        {
          "output_type": "execute_result",
          "data": {
            "text/plain": [
              "(9364, 2)"
            ]
          },
          "metadata": {
            "tags": []
          },
          "execution_count": 25
        }
      ]
    },
    {
      "cell_type": "code",
      "metadata": {
        "_uuid": "3946740c3931d357362b4784fe55136cae18dd12",
        "id": "nG6cq0zZme4m",
        "colab_type": "code",
        "outputId": "18b9f75e-40c5-4f7e-f065-7fb10239a41f",
        "colab": {}
      },
      "source": [
        "submission.target.value_counts()"
      ],
      "execution_count": 0,
      "outputs": [
        {
          "output_type": "execute_result",
          "data": {
            "text/plain": [
              "D    977\n",
              "J    971\n",
              "G    954\n",
              "H    949\n",
              "E    941\n",
              "B    933\n",
              "F    932\n",
              "C    914\n",
              "A    912\n",
              "I    881\n",
              "Name: target, dtype: int64"
            ]
          },
          "metadata": {
            "tags": []
          },
          "execution_count": 26
        }
      ]
    },
    {
      "cell_type": "code",
      "metadata": {
        "_uuid": "75f06975a1531ae3009f534648fb854f964232fc",
        "id": "rVIh6vcbme4p",
        "colab_type": "code",
        "colab": {}
      },
      "source": [
        "submission.to_csv('sub_ensemble_10_cnn.csv', index=False)"
      ],
      "execution_count": 0,
      "outputs": []
    },
    {
      "cell_type": "code",
      "metadata": {
        "_uuid": "9daefa41bf7024246734fe11fea67e4ffc8efaf9",
        "id": "MfQ9_dLXme4r",
        "colab_type": "code",
        "colab": {}
      },
      "source": [
        ""
      ],
      "execution_count": 0,
      "outputs": []
    }
  ]
}