{
 "cells": [
  {
   "cell_type": "code",
   "execution_count": 113,
   "metadata": {},
   "outputs": [],
   "source": [
    "# 3. Import libraries and modules\n",
    "import numpy as np\n",
    "np.random.seed(123)  # for reproducibility\n",
    " \n",
    "from keras.models import Sequential\n",
    "from keras.layers import Dense, Dropout, Activation, Flatten\n",
    "from keras.layers import Conv2D,Convolution2D, MaxPooling2D\n",
    "from keras.utils import np_utils\n",
    "from keras.datasets import mnist"
   ]
  },
  {
   "cell_type": "code",
   "execution_count": 3,
   "metadata": {},
   "outputs": [
    {
     "data": {
      "text/plain": [
       "(((60000, 28, 28), (60000,)), ((10000, 28, 28), (10000,)))"
      ]
     },
     "execution_count": 3,
     "metadata": {},
     "output_type": "execute_result"
    }
   ],
   "source": [
    "# 4. Load pre-shuffled MNIST data into train and test sets\n",
    "(X_train, y_train), (X_test, y_test) = mnist.load_data()\n",
    "(X_train.shape, y_train.shape), (X_test.shape, y_test.shape)"
   ]
  },
  {
   "cell_type": "code",
   "execution_count": 7,
   "metadata": {},
   "outputs": [],
   "source": [
    "import pandas as pd\n",
    "#ev. ist es nötig, den folgenden Befehl auszuführen:\n",
    "!chmod 644 train.csv"
   ]
  },
  {
   "cell_type": "code",
   "execution_count": 81,
   "metadata": {},
   "outputs": [
    {
     "data": {
      "text/html": [
       "<div>\n",
       "<style scoped>\n",
       "    .dataframe tbody tr th:only-of-type {\n",
       "        vertical-align: middle;\n",
       "    }\n",
       "\n",
       "    .dataframe tbody tr th {\n",
       "        vertical-align: top;\n",
       "    }\n",
       "\n",
       "    .dataframe thead th {\n",
       "        text-align: right;\n",
       "    }\n",
       "</style>\n",
       "<table border=\"1\" class=\"dataframe\">\n",
       "  <thead>\n",
       "    <tr style=\"text-align: right;\">\n",
       "      <th></th>\n",
       "      <th>1</th>\n",
       "      <th>2</th>\n",
       "      <th>3</th>\n",
       "      <th>4</th>\n",
       "      <th>5</th>\n",
       "      <th>6</th>\n",
       "      <th>7</th>\n",
       "      <th>8</th>\n",
       "      <th>9</th>\n",
       "      <th>10</th>\n",
       "      <th>...</th>\n",
       "      <th>776</th>\n",
       "      <th>777</th>\n",
       "      <th>778</th>\n",
       "      <th>779</th>\n",
       "      <th>780</th>\n",
       "      <th>781</th>\n",
       "      <th>782</th>\n",
       "      <th>783</th>\n",
       "      <th>784</th>\n",
       "      <th>785</th>\n",
       "    </tr>\n",
       "    <tr>\n",
       "      <th>0</th>\n",
       "      <th></th>\n",
       "      <th></th>\n",
       "      <th></th>\n",
       "      <th></th>\n",
       "      <th></th>\n",
       "      <th></th>\n",
       "      <th></th>\n",
       "      <th></th>\n",
       "      <th></th>\n",
       "      <th></th>\n",
       "      <th></th>\n",
       "      <th></th>\n",
       "      <th></th>\n",
       "      <th></th>\n",
       "      <th></th>\n",
       "      <th></th>\n",
       "      <th></th>\n",
       "      <th></th>\n",
       "      <th></th>\n",
       "      <th></th>\n",
       "      <th></th>\n",
       "    </tr>\n",
       "  </thead>\n",
       "  <tbody>\n",
       "    <tr>\n",
       "      <th>0</th>\n",
       "      <td>A</td>\n",
       "      <td>0</td>\n",
       "      <td>0</td>\n",
       "      <td>0</td>\n",
       "      <td>0</td>\n",
       "      <td>0</td>\n",
       "      <td>0</td>\n",
       "      <td>0</td>\n",
       "      <td>0</td>\n",
       "      <td>0</td>\n",
       "      <td>...</td>\n",
       "      <td>0</td>\n",
       "      <td>0</td>\n",
       "      <td>9</td>\n",
       "      <td>19</td>\n",
       "      <td>4</td>\n",
       "      <td>30</td>\n",
       "      <td>11</td>\n",
       "      <td>8</td>\n",
       "      <td>77</td>\n",
       "      <td>13</td>\n",
       "    </tr>\n",
       "    <tr>\n",
       "      <th>1</th>\n",
       "      <td>A</td>\n",
       "      <td>255</td>\n",
       "      <td>255</td>\n",
       "      <td>255</td>\n",
       "      <td>255</td>\n",
       "      <td>255</td>\n",
       "      <td>255</td>\n",
       "      <td>255</td>\n",
       "      <td>255</td>\n",
       "      <td>255</td>\n",
       "      <td>...</td>\n",
       "      <td>0</td>\n",
       "      <td>0</td>\n",
       "      <td>4</td>\n",
       "      <td>0</td>\n",
       "      <td>153</td>\n",
       "      <td>255</td>\n",
       "      <td>251</td>\n",
       "      <td>255</td>\n",
       "      <td>255</td>\n",
       "      <td>255</td>\n",
       "    </tr>\n",
       "    <tr>\n",
       "      <th>2</th>\n",
       "      <td>A</td>\n",
       "      <td>0</td>\n",
       "      <td>0</td>\n",
       "      <td>0</td>\n",
       "      <td>0</td>\n",
       "      <td>0</td>\n",
       "      <td>0</td>\n",
       "      <td>0</td>\n",
       "      <td>0</td>\n",
       "      <td>0</td>\n",
       "      <td>...</td>\n",
       "      <td>114</td>\n",
       "      <td>114</td>\n",
       "      <td>117</td>\n",
       "      <td>117</td>\n",
       "      <td>117</td>\n",
       "      <td>117</td>\n",
       "      <td>115</td>\n",
       "      <td>114</td>\n",
       "      <td>96</td>\n",
       "      <td>19</td>\n",
       "    </tr>\n",
       "    <tr>\n",
       "      <th>3</th>\n",
       "      <td>A</td>\n",
       "      <td>0</td>\n",
       "      <td>0</td>\n",
       "      <td>0</td>\n",
       "      <td>0</td>\n",
       "      <td>0</td>\n",
       "      <td>0</td>\n",
       "      <td>0</td>\n",
       "      <td>0</td>\n",
       "      <td>0</td>\n",
       "      <td>...</td>\n",
       "      <td>0</td>\n",
       "      <td>0</td>\n",
       "      <td>0</td>\n",
       "      <td>0</td>\n",
       "      <td>3</td>\n",
       "      <td>0</td>\n",
       "      <td>24</td>\n",
       "      <td>90</td>\n",
       "      <td>99</td>\n",
       "      <td>28</td>\n",
       "    </tr>\n",
       "    <tr>\n",
       "      <th>4</th>\n",
       "      <td>A</td>\n",
       "      <td>0</td>\n",
       "      <td>0</td>\n",
       "      <td>0</td>\n",
       "      <td>0</td>\n",
       "      <td>2</td>\n",
       "      <td>0</td>\n",
       "      <td>80</td>\n",
       "      <td>221</td>\n",
       "      <td>223</td>\n",
       "      <td>...</td>\n",
       "      <td>0</td>\n",
       "      <td>0</td>\n",
       "      <td>2</td>\n",
       "      <td>0</td>\n",
       "      <td>180</td>\n",
       "      <td>255</td>\n",
       "      <td>243</td>\n",
       "      <td>244</td>\n",
       "      <td>255</td>\n",
       "      <td>103</td>\n",
       "    </tr>\n",
       "  </tbody>\n",
       "</table>\n",
       "<p>5 rows × 785 columns</p>\n",
       "</div>"
      ],
      "text/plain": [
       "  1    2    3    4    5    6    7    8    9    10  ...   776  777  778  779  \\\n",
       "0                                                  ...                        \n",
       "0   A    0    0    0    0    0    0    0    0    0 ...     0    0    9   19   \n",
       "1   A  255  255  255  255  255  255  255  255  255 ...     0    0    4    0   \n",
       "2   A    0    0    0    0    0    0    0    0    0 ...   114  114  117  117   \n",
       "3   A    0    0    0    0    0    0    0    0    0 ...     0    0    0    0   \n",
       "4   A    0    0    0    0    2    0   80  221  223 ...     0    0    2    0   \n",
       "\n",
       "   780  781  782  783  784  785  \n",
       "0                                \n",
       "0    4   30   11    8   77   13  \n",
       "1  153  255  251  255  255  255  \n",
       "2  117  117  115  114   96   19  \n",
       "3    3    0   24   90   99   28  \n",
       "4  180  255  243  244  255  103  \n",
       "\n",
       "[5 rows x 785 columns]"
      ]
     },
     "execution_count": 81,
     "metadata": {},
     "output_type": "execute_result"
    }
   ],
   "source": [
    "df_NotMNIST = pd.read_csv('train.csv',header=None,index_col=0)\n",
    "df_NotMNIST.head()"
   ]
  },
  {
   "cell_type": "code",
   "execution_count": 82,
   "metadata": {},
   "outputs": [
    {
     "data": {
      "text/plain": [
       "(9360, 28, 28, 1)"
      ]
     },
     "execution_count": 82,
     "metadata": {},
     "output_type": "execute_result"
    }
   ],
   "source": [
    "X_NotMNIST = df.values[:,1:]\n",
    "X_NotMNIST = X.reshape(-1,28,28,1)\n",
    "X_NotMNIST.shape"
   ]
  },
  {
   "cell_type": "code",
   "execution_count": 85,
   "metadata": {},
   "outputs": [],
   "source": [
    "from sklearn.preprocessing import OneHotEncoder\n",
    "#OneHotEncoder?\n",
    "ohe = OneHotEncoder()\n",
    "y_NotMNIST = df_NotMNIST[1]\n",
    "#y_ohe = ohe.fit_transform(y)\n",
    "y_NotMNIST_int = y_NotMNIST.map({'A':0,'B':1,'C':2,'D':3,'E':4,'F':5,'G':6,'F':7,'H':8,'I':9,'J':10})\n",
    "#Äquivalent, aber weniger transparent:\n",
    "#pd.Series(y_NotMNIST.unique()).map(ord)-65"
   ]
  },
  {
   "cell_type": "code",
   "execution_count": 86,
   "metadata": {},
   "outputs": [
    {
     "data": {
      "text/plain": [
       "array([ 0,  1,  2,  3,  4,  7,  6,  8,  9, 10])"
      ]
     },
     "execution_count": 86,
     "metadata": {},
     "output_type": "execute_result"
    }
   ],
   "source": [
    "y_NotMNIST_int.unique()"
   ]
  },
  {
   "cell_type": "code",
   "execution_count": 88,
   "metadata": {},
   "outputs": [
    {
     "name": "stdout",
     "output_type": "stream",
     "text": [
      "(9360, 10)\n"
     ]
    }
   ],
   "source": [
    "y_NotMNIST_ohe = ohe.fit_transform(y_NotMNIST_int.values.reshape(-1,1))\n",
    "print(y_ohe.shape)\n",
    "y_NotMNIST_ohe = y_NotMNIST_ohe.todense() #nicht sehr effizient, aber wir haben ja auch nur wenig Daten..."
   ]
  },
  {
   "cell_type": "code",
   "execution_count": 77,
   "metadata": {},
   "outputs": [
    {
     "data": {
      "text/plain": [
       "(60000, 28, 28, 1)"
      ]
     },
     "execution_count": 77,
     "metadata": {},
     "output_type": "execute_result"
    }
   ],
   "source": [
    "# 5. Preprocess input data\n",
    "X_train = X_train.reshape(X_train.shape[0],  28, 28,1)\n",
    "X_test = X_test.reshape(X_test.shape[0],  28, 28,1)\n",
    "X_train = X_train.astype('float32')\n",
    "X_test = X_test.astype('float32')\n",
    "X_train /= 255\n",
    "X_test /= 255\n",
    "X_train.shape"
   ]
  },
  {
   "cell_type": "code",
   "execution_count": 68,
   "metadata": {},
   "outputs": [
    {
     "data": {
      "text/plain": [
       "(60000, 10)"
      ]
     },
     "execution_count": 68,
     "metadata": {},
     "output_type": "execute_result"
    }
   ],
   "source": [
    "# 6. Preprocess class labels\n",
    "Y_train = np_utils.to_categorical(y_train, 10)\n",
    "Y_test = np_utils.to_categorical(y_test, 10)\n",
    "Y_train.shape"
   ]
  },
  {
   "cell_type": "code",
   "execution_count": 89,
   "metadata": {},
   "outputs": [
    {
     "name": "stderr",
     "output_type": "stream",
     "text": [
      "/home/toedtli/.virtualenvs/v_py3/lib/python3.6/site-packages/ipykernel_launcher.py:4: UserWarning: Update your `Conv2D` call to the Keras 2 API: `Conv2D(32, (3, 3), activation=\"relu\", name=\"myconv2\")`\n",
      "  after removing the cwd from sys.path.\n"
     ]
    }
   ],
   "source": [
    "# 7. Define model architecture\n",
    "model = Sequential()\n",
    "model.add(Convolution2D(32, kernel_size=(3, 3),activation='relu',input_shape=(28,28,1)))\n",
    "model.add(Convolution2D(32, 3, 3, activation='relu',name='myconv1'))\n",
    "model.add(MaxPooling2D(pool_size=(2,2)))\n",
    "model.add(Dropout(0.25))\n",
    " \n",
    "model.add(Flatten())\n",
    "model.add(Dense(128, activation='relu',name='mydense1'))\n",
    "model.add(Dropout(0.5))\n",
    "model.add(Dense(10, activation='softmax'))"
   ]
  },
  {
   "cell_type": "code",
   "execution_count": 90,
   "metadata": {},
   "outputs": [],
   "source": [
    "# 8. Compile model\n",
    "model.compile(loss='categorical_crossentropy',\n",
    "              optimizer='adam',\n",
    "              metrics=['accuracy'])"
   ]
  },
  {
   "cell_type": "code",
   "execution_count": 91,
   "metadata": {},
   "outputs": [
    {
     "name": "stderr",
     "output_type": "stream",
     "text": [
      "/home/toedtli/.virtualenvs/v_py3/lib/python3.6/site-packages/ipykernel_launcher.py:3: UserWarning: The `nb_epoch` argument in `fit` has been renamed `epochs`.\n",
      "  This is separate from the ipykernel package so we can avoid doing imports until\n"
     ]
    },
    {
     "name": "stdout",
     "output_type": "stream",
     "text": [
      "Epoch 1/10\n",
      "9360/9360 [==============================] - 21s 2ms/step - loss: 13.3434 - acc: 0.1702\n",
      "Epoch 2/10\n",
      "9360/9360 [==============================] - 21s 2ms/step - loss: 12.8485 - acc: 0.2021\n",
      "Epoch 3/10\n",
      "9360/9360 [==============================] - 21s 2ms/step - loss: 14.1538 - acc: 0.1218\n",
      "Epoch 4/10\n",
      "9360/9360 [==============================] - 21s 2ms/step - loss: 13.8924 - acc: 0.1378\n",
      "Epoch 5/10\n",
      "9360/9360 [==============================] - 21s 2ms/step - loss: 13.5495 - acc: 0.1592\n",
      "Epoch 6/10\n",
      "9360/9360 [==============================] - 22s 2ms/step - loss: 13.7364 - acc: 0.1474\n",
      "Epoch 7/10\n",
      "9360/9360 [==============================] - 21s 2ms/step - loss: 13.7994 - acc: 0.1437\n",
      "Epoch 8/10\n",
      "9360/9360 [==============================] - 21s 2ms/step - loss: 13.7683 - acc: 0.1457\n",
      "Epoch 9/10\n",
      "9360/9360 [==============================] - 21s 2ms/step - loss: 13.6199 - acc: 0.1549\n",
      "Epoch 10/10\n",
      "9360/9360 [==============================] - 22s 2ms/step - loss: 13.6396 - acc: 0.1537\n"
     ]
    }
   ],
   "source": [
    "# 9. Fit model on training data\n",
    "hist = model.fit(X_NotMNIST, y_NotMNIST_ohe, \n",
    "          batch_size=32, nb_epoch=10, verbose=1)"
   ]
  },
  {
   "cell_type": "code",
   "execution_count": 96,
   "metadata": {},
   "outputs": [
    {
     "data": {
      "text/plain": [
       "[<matplotlib.lines.Line2D at 0x7f6358f47da0>]"
      ]
     },
     "execution_count": 96,
     "metadata": {},
     "output_type": "execute_result"
    },
    {
     "data": {
      "image/png": "[encoded data removed]",
      "text/plain": [
       "<Figure size 432x288 with 1 Axes>"
      ]
     },
     "metadata": {
      "needs_background": "light"
     },
     "output_type": "display_data"
    }
   ],
   "source": [
    "import matplotlib.pyplot as plt\n",
    "%matplotlib inline\n",
    "plt.plot(hist.history['acc'])"
   ]
  },
  {
   "cell_type": "code",
   "execution_count": 97,
   "metadata": {},
   "outputs": [
    {
     "data": {
      "text/plain": [
       "[7.8217011848449705, 0.1032]"
      ]
     },
     "execution_count": 97,
     "metadata": {},
     "output_type": "execute_result"
    }
   ],
   "source": [
    "# 10. Evaluate model on test data\n",
    "score = model.evaluate(X_test, Y_test, verbose=0)\n",
    "score"
   ]
  },
  {
   "cell_type": "code",
   "execution_count": 105,
   "metadata": {},
   "outputs": [],
   "source": [
    "# 7. Define model architecture\n",
    "model2 = Sequential()\n",
    "model2.add(Convolution2D(32, kernel_size=(3, 3),activation='relu',input_shape=(28,28,1)))\n",
    "model2.add(Convolution2D(32, (3, 3), activation='relu',name='myconv2'))\n",
    "model2.add(MaxPooling2D(pool_size=(2,2)))\n",
    "model2.add(Dropout(0.25))\n",
    "\n",
    "model2.add(Convolution2D(32, kernel_size=(3, 3),activation='relu',input_shape=(28,28,1)))\n",
    "model2.add(Convolution2D(32, (3, 3), activation='relu',name='myconv3'))\n",
    "model2.add(MaxPooling2D(pool_size=(2,2)))\n",
    "model2.add(Dropout(0.25))\n",
    " \n",
    "model2.add(Flatten())\n",
    "model2.add(Dense(128, activation='relu',name='mydense1'))\n",
    "model2.add(Dense(128, activation='relu',name='mydense2'))\n",
    "model2.add(Dropout(0.5))\n",
    "model2.add(Dense(10, activation='softmax'))\n",
    "\n",
    "# 8. Compile model\n",
    "model2.compile(loss='categorical_crossentropy',\n",
    "              optimizer='adam',\n",
    "              metrics=['accuracy'])"
   ]
  },
  {
   "cell_type": "code",
   "execution_count": 107,
   "metadata": {},
   "outputs": [
    {
     "name": "stdout",
     "output_type": "stream",
     "text": [
      "Epoch 1/10\n",
      "9360/9360 [==============================] - 21s 2ms/step - loss: 0.9952 - acc: 0.6928\n",
      "Epoch 2/10\n",
      "9360/9360 [==============================] - 23s 2ms/step - loss: 0.5514 - acc: 0.8424\n",
      "Epoch 3/10\n",
      "9360/9360 [==============================] - 22s 2ms/step - loss: 0.4327 - acc: 0.8731\n",
      "Epoch 4/10\n",
      "9360/9360 [==============================] - 24s 3ms/step - loss: 0.3812 - acc: 0.8854\n",
      "Epoch 5/10\n",
      "9360/9360 [==============================] - 22s 2ms/step - loss: 0.3447 - acc: 0.8926\n",
      "Epoch 6/10\n",
      "9360/9360 [==============================] - 21s 2ms/step - loss: 0.3152 - acc: 0.9071\n",
      "Epoch 7/10\n",
      "9360/9360 [==============================] - 22s 2ms/step - loss: 0.3001 - acc: 0.9111\n",
      "Epoch 8/10\n",
      "9360/9360 [==============================] - 23s 2ms/step - loss: 0.2907 - acc: 0.9135\n",
      "Epoch 9/10\n",
      "9360/9360 [==============================] - 21s 2ms/step - loss: 0.2589 - acc: 0.9198\n",
      "Epoch 10/10\n",
      "9360/9360 [==============================] - 23s 2ms/step - loss: 0.2548 - acc: 0.9246\n"
     ]
    }
   ],
   "source": [
    "# 9. Fit model on training data\n",
    "hist2 = model2.fit(X_NotMNIST, y_NotMNIST_ohe, \n",
    "          batch_size=32, epochs=10, validation_split=0.1,verbose=1)"
   ]
  },
  {
   "cell_type": "code",
   "execution_count": 110,
   "metadata": {},
   "outputs": [
    {
     "data": {
      "text/plain": [
       "[<matplotlib.lines.Line2D at 0x7f62f63fa588>]"
      ]
     },
     "execution_count": 110,
     "metadata": {},
     "output_type": "execute_result"
    },
    {
     "data": {
      "image/png": "[encoded data removed]",
      "text/plain": [
       "<Figure size 432x288 with 1 Axes>"
      ]
     },
     "metadata": {
      "needs_background": "light"
     },
     "output_type": "display_data"
    }
   ],
   "source": [
    "plt.plot(hist2.history['acc'])"
   ]
  },
  {
   "cell_type": "code",
   "execution_count": 111,
   "metadata": {},
   "outputs": [
    {
     "data": {
      "text/plain": [
       "[2.4579242805480956, 0.0958]"
      ]
     },
     "execution_count": 111,
     "metadata": {},
     "output_type": "execute_result"
    }
   ],
   "source": [
    "# 10. Evaluate model on test data\n",
    "model2.evaluate?\n",
    "score = model2.evaluate(X_test, Y_test, verbose=0)\n",
    "score"
   ]
  },
  {
   "cell_type": "code",
   "execution_count": 121,
   "metadata": {},
   "outputs": [
    {
     "data": {
      "text/plain": [
       "10"
      ]
     },
     "execution_count": 121,
     "metadata": {},
     "output_type": "execute_result"
    }
   ],
   "source": []
  },
  {
   "cell_type": "code",
   "execution_count": 125,
   "metadata": {},
   "outputs": [],
   "source": [
    "from keras.layers import Conv2D,BatchNormalization,ZeroPadding2D\n",
    "from keras.regularizers import l2\n",
    "l2_reg = 0.05\n",
    "n_classes = Y_train.shape[1]\n",
    "\n",
    "alexnet = Sequential()\n",
    "alexnet.add(Conv2D(96, (11, 11), input_shape=(28,28,1),\n",
    "    padding='same', kernel_regularizer=l2(l2_reg)))\n",
    "alexnet.add(BatchNormalization())\n",
    "alexnet.add(Activation('relu'))\n",
    "alexnet.add(MaxPooling2D(pool_size=(2, 2)))\n",
    "\n",
    "# Layer 2\n",
    "alexnet.add(Conv2D(256, (5, 5), padding='same'))\n",
    "alexnet.add(BatchNormalization())\n",
    "alexnet.add(Activation('relu'))\n",
    "alexnet.add(MaxPooling2D(pool_size=(2, 2)))\n",
    "\n",
    "# Layer 3\n",
    "alexnet.add(ZeroPadding2D((1, 1)))\n",
    "alexnet.add(Conv2D(512, (3, 3), padding='same'))\n",
    "alexnet.add(BatchNormalization())\n",
    "alexnet.add(Activation('relu'))\n",
    "alexnet.add(MaxPooling2D(pool_size=(2, 2)))\n",
    "\n",
    "# Layer 6\n",
    "alexnet.add(Flatten())\n",
    "alexnet.add(Dense(3072))\n",
    "alexnet.add(BatchNormalization())\n",
    "alexnet.add(Activation('relu'))\n",
    "alexnet.add(Dropout(0.5))\n",
    "\n",
    "# Layer 7\n",
    "alexnet.add(Dense(4096))\n",
    "alexnet.add(BatchNormalization())\n",
    "alexnet.add(Activation('relu'))\n",
    "alexnet.add(Dropout(0.5))\n",
    "\n",
    "# Layer 8\n",
    "alexnet.add(Dense(n_classes))\n",
    "alexnet.add(BatchNormalization())\n",
    "alexnet.add(Activation('softmax'))"
   ]
  },
  {
   "cell_type": "code",
   "execution_count": 126,
   "metadata": {},
   "outputs": [],
   "source": [
    "# 8. Compile model\n",
    "alexnet.compile(loss='categorical_crossentropy',\n",
    "              optimizer='adam',\n",
    "              metrics=['accuracy'])"
   ]
  },
  {
   "cell_type": "code",
   "execution_count": null,
   "metadata": {},
   "outputs": [
    {
     "name": "stdout",
     "output_type": "stream",
     "text": [
      "Train on 8424 samples, validate on 936 samples\n",
      "Epoch 1/10\n",
      "8424/8424 [==============================] - 453s 54ms/step - loss: 0.7493 - acc: 0.8745 - val_loss: 3.2689 - val_acc: 0.0000e+00\n",
      "Epoch 2/10\n",
      "8424/8424 [==============================] - 445s 53ms/step - loss: 0.4959 - acc: 0.9182 - val_loss: 3.4762 - val_acc: 0.0000e+00\n",
      "Epoch 3/10\n",
      "8424/8424 [==============================] - 445s 53ms/step - loss: 0.4164 - acc: 0.9257 - val_loss: 4.2952 - val_acc: 0.0000e+00\n",
      "Epoch 4/10\n",
      "8424/8424 [==============================] - 446s 53ms/step - loss: 0.3650 - acc: 0.9283 - val_loss: 4.9391 - val_acc: 0.0000e+00\n",
      "Epoch 5/10\n",
      "8424/8424 [==============================] - 435s 52ms/step - loss: 0.3095 - acc: 0.9408 - val_loss: 4.8965 - val_acc: 0.0000e+00\n",
      "Epoch 6/10\n",
      "8424/8424 [==============================] - 432s 51ms/step - loss: 0.2741 - acc: 0.9486 - val_loss: 5.8508 - val_acc: 0.0000e+00\n",
      "Epoch 7/10\n",
      "8424/8424 [==============================] - 432s 51ms/step - loss: 0.2372 - acc: 0.9569 - val_loss: 5.4664 - val_acc: 0.0000e+00\n",
      "Epoch 8/10\n",
      "8424/8424 [==============================] - 433s 51ms/step - loss: 0.2114 - acc: 0.9602 - val_loss: 5.9807 - val_acc: 0.0000e+00\n",
      "Epoch 9/10\n",
      "6976/8424 [=======================>......] - ETA: 1:15 - loss: 0.2127 - acc: 0.9576"
     ]
    }
   ],
   "source": [
    "# 9. Fit model on training data\n",
    "hist3 = alexnet.fit(X_NotMNIST, y_NotMNIST_ohe, \n",
    "          batch_size=32, epochs=10, validation_split=0.1, verbose=1)"
   ]
  },
  {
   "cell_type": "code",
   "execution_count": null,
   "metadata": {},
   "outputs": [],
   "source": []
  }
 ],
 "metadata": {
  "kernelspec": {
   "display_name": "v_py3",
   "language": "python",
   "name": "v_py3"
  },
  "language_info": {
   "codemirror_mode": {
    "name": "ipython",
    "version": 3
   },
   "file_extension": ".py",
   "mimetype": "text/x-python",
   "name": "python",
   "nbconvert_exporter": "python",
   "pygments_lexer": "ipython3",
   "version": "3.6.5"
  }
 },
 "nbformat": 4,
 "nbformat_minor": 2
}
