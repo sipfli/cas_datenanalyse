{
 "cells": [
  {
   "cell_type": "code",
   "execution_count": 1,
   "metadata": {},
   "outputs": [],
   "source": [
    "import pandas as pd"
   ]
  },
  {
   "cell_type": "code",
   "execution_count": 2,
   "metadata": {},
   "outputs": [],
   "source": [
    "df = pd.read_csv('KreuzKreisPlus_train.csv')"
   ]
  },
  {
   "cell_type": "code",
   "execution_count": 3,
   "metadata": {},
   "outputs": [
    {
     "data": {
      "text/plain": [
       "Index(['id', 'Dateiname', 'target', 'pix0', 'pix1', 'pix2', 'pix3', 'pix4',\n",
       "       'pix5', 'pix6',\n",
       "       ...\n",
       "       'pix215', 'pix216', 'pix217', 'pix218', 'pix219', 'pix220', 'pix221',\n",
       "       'pix222', 'pix223', 'pix224'],\n",
       "      dtype='object', length=228)"
      ]
     },
     "execution_count": 3,
     "metadata": {},
     "output_type": "execute_result"
    }
   ],
   "source": [
    "df.columns"
   ]
  },
  {
   "cell_type": "code",
   "execution_count": 4,
   "metadata": {},
   "outputs": [],
   "source": [
    "del df['Dateiname'];del df['id']\n",
    "y = df['target'].astype('int')\n",
    "del df['target']\n",
    "X = df.values"
   ]
  },
  {
   "cell_type": "code",
   "execution_count": 5,
   "metadata": {},
   "outputs": [
    {
     "data": {
      "text/plain": [
       "array([2, 1, 0])"
      ]
     },
     "execution_count": 5,
     "metadata": {},
     "output_type": "execute_result"
    }
   ],
   "source": [
    "y.unique()"
   ]
  },
  {
   "cell_type": "code",
   "execution_count": 6,
   "metadata": {},
   "outputs": [
    {
     "data": {
      "text/plain": [
       "{'C': 1.0,\n",
       " 'cache_size': 200,\n",
       " 'class_weight': None,\n",
       " 'coef0': 0.0,\n",
       " 'decision_function_shape': 'ovr',\n",
       " 'degree': 3,\n",
       " 'gamma': 'auto',\n",
       " 'kernel': 'rbf',\n",
       " 'max_iter': -1,\n",
       " 'probability': False,\n",
       " 'random_state': None,\n",
       " 'shrinking': True,\n",
       " 'tol': 0.001,\n",
       " 'verbose': False}"
      ]
     },
     "execution_count": 6,
     "metadata": {},
     "output_type": "execute_result"
    }
   ],
   "source": [
    "from sklearn.svm import SVC\n",
    "clf = SVC()\n",
    "clf.get_params()"
   ]
  },
  {
   "cell_type": "code",
   "execution_count": 10,
   "metadata": {},
   "outputs": [
    {
     "data": {
      "text/plain": [
       "(0.9692307692307692,\n",
       " SVC(C=49.49599377171603, cache_size=200, class_weight=None, coef0=0.0,\n",
       "   decision_function_shape='ovr', degree=3, gamma=0.36488680629253045,\n",
       "   kernel='rbf', max_iter=-1, probability=False, random_state=None,\n",
       "   shrinking=True, tol=0.001, verbose=False))"
      ]
     },
     "execution_count": 10,
     "metadata": {},
     "output_type": "execute_result"
    }
   ],
   "source": [
    "from sklearn.model_selection import GridSearchCV,RandomizedSearchCV\n",
    "from scipy.stats import randint as sp_randint\n",
    "from scipy.stats import norm,uniform\n",
    "svc = SVC()\n",
    "param_list = [{'kernel':['rbf'],\"C\": [1,2,5],\n",
    "               'gamma':[0.01,0.1,1.0,10]},\n",
    "              {'kernel':['sigmoid','linear'], \"C\":[1,2,5]}\n",
    "             ]\n",
    "grd1 = GridSearchCV(svc,param_list)\n",
    "grd1.fit(X,y)\n",
    "grd1.best_score_,grd1.best_estimator_"
   ]
  },
  {
   "cell_type": "code",
   "execution_count": 11,
   "metadata": {},
   "outputs": [
    {
     "data": {
      "text/plain": [
       "0.9608391608391609"
      ]
     },
     "execution_count": 11,
     "metadata": {},
     "output_type": "execute_result"
    }
   ],
   "source": [
    "param_dist = {'kernel':['sigmoid','linear'],\n",
    "              \"C\": uniform(0.01,150)}\n",
    "grd = RandomizedSearchCV(svc,param_dist,n_iter=20)\n",
    "grd.fit(X,y)\n",
    "grd.best_score_"
   ]
  },
  {
   "cell_type": "code",
   "execution_count": 9,
   "metadata": {},
   "outputs": [
    {
     "data": {
      "text/plain": [
       "0.393006993006993"
      ]
     },
     "execution_count": 9,
     "metadata": {},
     "output_type": "execute_result"
    }
   ],
   "source": [
    "param_dist = {'kernel':['rbf'],\"C\": uniform(0.01,150),\n",
    "              \"gamma\":uniform(0.001,20)}\n",
    "grd = RandomizedSearchCV(svc,param_dist,n_iter=20)\n",
    "grd.fit(X,y)\n",
    "grd.best_score_"
   ]
  },
  {
   "cell_type": "code",
   "execution_count": 36,
   "metadata": {},
   "outputs": [
    {
     "data": {
      "text/html": [
       "<div>\n",
       "<style scoped>\n",
       "    .dataframe tbody tr th:only-of-type {\n",
       "        vertical-align: middle;\n",
       "    }\n",
       "\n",
       "    .dataframe tbody tr th {\n",
       "        vertical-align: top;\n",
       "    }\n",
       "\n",
       "    .dataframe thead th {\n",
       "        text-align: right;\n",
       "    }\n",
       "</style>\n",
       "<table border=\"1\" class=\"dataframe\">\n",
       "  <thead>\n",
       "    <tr style=\"text-align: right;\">\n",
       "      <th></th>\n",
       "      <th>pix0</th>\n",
       "      <th>pix1</th>\n",
       "      <th>pix2</th>\n",
       "      <th>pix3</th>\n",
       "      <th>pix4</th>\n",
       "      <th>pix5</th>\n",
       "      <th>pix6</th>\n",
       "      <th>pix7</th>\n",
       "      <th>pix8</th>\n",
       "      <th>pix9</th>\n",
       "      <th>...</th>\n",
       "      <th>pix215</th>\n",
       "      <th>pix216</th>\n",
       "      <th>pix217</th>\n",
       "      <th>pix218</th>\n",
       "      <th>pix219</th>\n",
       "      <th>pix220</th>\n",
       "      <th>pix221</th>\n",
       "      <th>pix222</th>\n",
       "      <th>pix223</th>\n",
       "      <th>pix224</th>\n",
       "    </tr>\n",
       "    <tr>\n",
       "      <th>id</th>\n",
       "      <th></th>\n",
       "      <th></th>\n",
       "      <th></th>\n",
       "      <th></th>\n",
       "      <th></th>\n",
       "      <th></th>\n",
       "      <th></th>\n",
       "      <th></th>\n",
       "      <th></th>\n",
       "      <th></th>\n",
       "      <th></th>\n",
       "      <th></th>\n",
       "      <th></th>\n",
       "      <th></th>\n",
       "      <th></th>\n",
       "      <th></th>\n",
       "      <th></th>\n",
       "      <th></th>\n",
       "      <th></th>\n",
       "      <th></th>\n",
       "      <th></th>\n",
       "    </tr>\n",
       "  </thead>\n",
       "  <tbody>\n",
       "    <tr>\n",
       "      <th>715</th>\n",
       "      <td>1</td>\n",
       "      <td>1</td>\n",
       "      <td>1</td>\n",
       "      <td>0</td>\n",
       "      <td>0</td>\n",
       "      <td>0</td>\n",
       "      <td>0</td>\n",
       "      <td>0</td>\n",
       "      <td>0</td>\n",
       "      <td>0</td>\n",
       "      <td>...</td>\n",
       "      <td>0</td>\n",
       "      <td>0</td>\n",
       "      <td>0</td>\n",
       "      <td>0</td>\n",
       "      <td>0</td>\n",
       "      <td>0</td>\n",
       "      <td>0</td>\n",
       "      <td>0</td>\n",
       "      <td>1</td>\n",
       "      <td>1</td>\n",
       "    </tr>\n",
       "  </tbody>\n",
       "</table>\n",
       "<p>1 rows × 225 columns</p>\n",
       "</div>"
      ],
      "text/plain": [
       "     pix0  pix1  pix2  pix3  pix4  pix5  pix6  pix7  pix8  pix9   ...    \\\n",
       "id                                                                ...     \n",
       "715     1     1     1     0     0     0     0     0     0     0   ...     \n",
       "\n",
       "     pix215  pix216  pix217  pix218  pix219  pix220  pix221  pix222  pix223  \\\n",
       "id                                                                            \n",
       "715       0       0       0       0       0       0       0       0       1   \n",
       "\n",
       "     pix224  \n",
       "id           \n",
       "715       1  \n",
       "\n",
       "[1 rows x 225 columns]"
      ]
     },
     "execution_count": 36,
     "metadata": {},
     "output_type": "execute_result"
    }
   ],
   "source": [
    "dftest = pd.read_csv('KreuzKreisPlus_test.csv',index_col = 'id')\n",
    "del dftest['Dateiname'];\n",
    "dftest.head(1)"
   ]
  },
  {
   "cell_type": "code",
   "execution_count": 50,
   "metadata": {},
   "outputs": [
    {
     "data": {
      "text/plain": [
       "id\n",
       "715    0\n",
       "716    1\n",
       "717    0\n",
       "718    0\n",
       "719    1\n",
       "Name: target, dtype: int64"
      ]
     },
     "execution_count": 50,
     "metadata": {},
     "output_type": "execute_result"
    }
   ],
   "source": [
    "Xtest = dftest.values\n",
    "yhat_test = grd1.best_estimator_.predict(Xtest)\n",
    "yhat_test = pd.Series(yhat_test,name='target')\n",
    "yhat_test.index = dftest.index\n",
    "yhat_test.index.name='id'\n",
    "yhat_test.head()"
   ]
  },
  {
   "cell_type": "code",
   "execution_count": 51,
   "metadata": {},
   "outputs": [],
   "source": [
    "yhat_test.to_csv('Cheat-Sheet-Samplesubmission.csv',header=True,index=True)"
   ]
  },
  {
   "cell_type": "code",
   "execution_count": 52,
   "metadata": {},
   "outputs": [
    {
     "name": "stdout",
     "output_type": "stream",
     "text": [
      "id,target\r\n",
      "715,0\r\n",
      "716,1\r\n",
      "717,0\r\n",
      "718,0\r\n",
      "719,1\r\n",
      "720,2\r\n",
      "721,0\r\n",
      "722,2\r\n",
      "723,1\r\n"
     ]
    }
   ],
   "source": [
    "!head Cheat-Sheet-Samplesubmission.csv"
   ]
  },
  {
   "cell_type": "code",
   "execution_count": null,
   "metadata": {},
   "outputs": [],
   "source": []
  }
 ],
 "metadata": {
  "kernelspec": {
   "display_name": "v_py3",
   "language": "python",
   "name": "v_py3"
  },
  "language_info": {
   "codemirror_mode": {
    "name": "ipython",
    "version": 3
   },
   "file_extension": ".py",
   "mimetype": "text/x-python",
   "name": "python",
   "nbconvert_exporter": "python",
   "pygments_lexer": "ipython3",
   "version": "3.6.5"
  }
 },
 "nbformat": 4,
 "nbformat_minor": 2
}
