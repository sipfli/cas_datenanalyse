{
 "cells": [
  {
   "cell_type": "code",
   "execution_count": 1,
   "metadata": {},
   "outputs": [],
   "source": [
    "from skimage import io,img_as_float\n",
    "import numpy as np\n",
    "import matplotlib.pyplot as plt\n",
    "%matplotlib inline"
   ]
  },
  {
   "cell_type": "markdown",
   "metadata": {},
   "source": [
    "# Hauptkomponentenanalyse von Bildern\n",
    "Die Hauptkomponentenanalyse (Principal Components Analysis, PCA) kann auch auf Bilder angewendet werden. Wie bei anderen Daten sucht die Hauptkomponentenanalyse jene Richtungen (Hauptkomponenten) im hochdimensionalen Bildraum, in welcher die Daten am meisten variieren. Dies sind nützliche Features, wie wir gleich sehen werden.\n",
    "Die PCA erstellt also Features nicht aus einem einzigen Bild, sondern aus dem ganzen Set von Bildern.\n",
    "\n",
    "Das folgende Notebook zeigt, wie mit scikit-learn aus Bildern die Hauptkompoonenten extrahiert werden können."
   ]
  },
  {
   "cell_type": "code",
   "execution_count": 19,
   "metadata": {},
   "outputs": [
    {
     "data": {
      "text/html": [
       "<div>\n",
       "<style scoped>\n",
       "    .dataframe tbody tr th:only-of-type {\n",
       "        vertical-align: middle;\n",
       "    }\n",
       "\n",
       "    .dataframe tbody tr th {\n",
       "        vertical-align: top;\n",
       "    }\n",
       "\n",
       "    .dataframe thead th {\n",
       "        text-align: right;\n",
       "    }\n",
       "</style>\n",
       "<table border=\"1\" class=\"dataframe\">\n",
       "  <thead>\n",
       "    <tr style=\"text-align: right;\">\n",
       "      <th></th>\n",
       "      <th>pix0</th>\n",
       "      <th>pix1</th>\n",
       "      <th>pix2</th>\n",
       "      <th>pix3</th>\n",
       "      <th>pix4</th>\n",
       "      <th>pix5</th>\n",
       "      <th>pix6</th>\n",
       "      <th>pix7</th>\n",
       "      <th>pix8</th>\n",
       "      <th>pix9</th>\n",
       "      <th>...</th>\n",
       "      <th>pix216</th>\n",
       "      <th>pix217</th>\n",
       "      <th>pix218</th>\n",
       "      <th>pix219</th>\n",
       "      <th>pix220</th>\n",
       "      <th>pix221</th>\n",
       "      <th>pix222</th>\n",
       "      <th>pix223</th>\n",
       "      <th>pix224</th>\n",
       "      <th>target</th>\n",
       "    </tr>\n",
       "  </thead>\n",
       "  <tbody>\n",
       "    <tr>\n",
       "      <th>388</th>\n",
       "      <td>0</td>\n",
       "      <td>0</td>\n",
       "      <td>0</td>\n",
       "      <td>0</td>\n",
       "      <td>0</td>\n",
       "      <td>1</td>\n",
       "      <td>1</td>\n",
       "      <td>1</td>\n",
       "      <td>0</td>\n",
       "      <td>0</td>\n",
       "      <td>...</td>\n",
       "      <td>1</td>\n",
       "      <td>1</td>\n",
       "      <td>0</td>\n",
       "      <td>0</td>\n",
       "      <td>0</td>\n",
       "      <td>0</td>\n",
       "      <td>0</td>\n",
       "      <td>0</td>\n",
       "      <td>0</td>\n",
       "      <td>2</td>\n",
       "    </tr>\n",
       "    <tr>\n",
       "      <th>310</th>\n",
       "      <td>0</td>\n",
       "      <td>0</td>\n",
       "      <td>0</td>\n",
       "      <td>0</td>\n",
       "      <td>1</td>\n",
       "      <td>1</td>\n",
       "      <td>1</td>\n",
       "      <td>1</td>\n",
       "      <td>1</td>\n",
       "      <td>1</td>\n",
       "      <td>...</td>\n",
       "      <td>1</td>\n",
       "      <td>0</td>\n",
       "      <td>0</td>\n",
       "      <td>0</td>\n",
       "      <td>0</td>\n",
       "      <td>0</td>\n",
       "      <td>0</td>\n",
       "      <td>0</td>\n",
       "      <td>0</td>\n",
       "      <td>1</td>\n",
       "    </tr>\n",
       "    <tr>\n",
       "      <th>407</th>\n",
       "      <td>0</td>\n",
       "      <td>0</td>\n",
       "      <td>0</td>\n",
       "      <td>0</td>\n",
       "      <td>0</td>\n",
       "      <td>0</td>\n",
       "      <td>0</td>\n",
       "      <td>0</td>\n",
       "      <td>1</td>\n",
       "      <td>1</td>\n",
       "      <td>...</td>\n",
       "      <td>1</td>\n",
       "      <td>1</td>\n",
       "      <td>0</td>\n",
       "      <td>0</td>\n",
       "      <td>0</td>\n",
       "      <td>0</td>\n",
       "      <td>0</td>\n",
       "      <td>0</td>\n",
       "      <td>0</td>\n",
       "      <td>2</td>\n",
       "    </tr>\n",
       "    <tr>\n",
       "      <th>219</th>\n",
       "      <td>0</td>\n",
       "      <td>1</td>\n",
       "      <td>0</td>\n",
       "      <td>0</td>\n",
       "      <td>0</td>\n",
       "      <td>0</td>\n",
       "      <td>0</td>\n",
       "      <td>0</td>\n",
       "      <td>0</td>\n",
       "      <td>0</td>\n",
       "      <td>...</td>\n",
       "      <td>0</td>\n",
       "      <td>0</td>\n",
       "      <td>0</td>\n",
       "      <td>0</td>\n",
       "      <td>0</td>\n",
       "      <td>0</td>\n",
       "      <td>0</td>\n",
       "      <td>0</td>\n",
       "      <td>0</td>\n",
       "      <td>0</td>\n",
       "    </tr>\n",
       "    <tr>\n",
       "      <th>562</th>\n",
       "      <td>0</td>\n",
       "      <td>0</td>\n",
       "      <td>0</td>\n",
       "      <td>0</td>\n",
       "      <td>0</td>\n",
       "      <td>0</td>\n",
       "      <td>0</td>\n",
       "      <td>1</td>\n",
       "      <td>1</td>\n",
       "      <td>1</td>\n",
       "      <td>...</td>\n",
       "      <td>1</td>\n",
       "      <td>1</td>\n",
       "      <td>1</td>\n",
       "      <td>1</td>\n",
       "      <td>1</td>\n",
       "      <td>0</td>\n",
       "      <td>0</td>\n",
       "      <td>0</td>\n",
       "      <td>0</td>\n",
       "      <td>1</td>\n",
       "    </tr>\n",
       "  </tbody>\n",
       "</table>\n",
       "<p>5 rows × 226 columns</p>\n",
       "</div>"
      ],
      "text/plain": [
       "     pix0  pix1  pix2  pix3  pix4  pix5  pix6  pix7  pix8  pix9   ...    \\\n",
       "388     0     0     0     0     0     1     1     1     0     0   ...     \n",
       "310     0     0     0     0     1     1     1     1     1     1   ...     \n",
       "407     0     0     0     0     0     0     0     0     1     1   ...     \n",
       "219     0     1     0     0     0     0     0     0     0     0   ...     \n",
       "562     0     0     0     0     0     0     0     1     1     1   ...     \n",
       "\n",
       "     pix216  pix217  pix218  pix219  pix220  pix221  pix222  pix223  pix224  \\\n",
       "388       1       1       0       0       0       0       0       0       0   \n",
       "310       1       0       0       0       0       0       0       0       0   \n",
       "407       1       1       0       0       0       0       0       0       0   \n",
       "219       0       0       0       0       0       0       0       0       0   \n",
       "562       1       1       1       1       1       0       0       0       0   \n",
       "\n",
       "     target  \n",
       "388       2  \n",
       "310       1  \n",
       "407       2  \n",
       "219       0  \n",
       "562       1  \n",
       "\n",
       "[5 rows x 226 columns]"
      ]
     },
     "execution_count": 19,
     "metadata": {},
     "output_type": "execute_result"
    }
   ],
   "source": [
    "#Wir laden Bilddaten aus unserer Kreuz-Kreis-Plus-Kaggle-Competition \n",
    "#(eine .csv-Datei mit 225 Pixelwerten für jedes Bild):\n",
    "import pandas as pd\n",
    "df = pd.read_csv('data/testimages.csv',index_col=0)\n",
    "df.head()"
   ]
  },
  {
   "cell_type": "code",
   "execution_count": 22,
   "metadata": {},
   "outputs": [],
   "source": [
    "X = df.iloc[:,0:-1].values\n",
    "y = df.iloc[:,-1].values"
   ]
  },
  {
   "cell_type": "code",
   "execution_count": 23,
   "metadata": {
    "scrolled": true
   },
   "outputs": [
    {
     "data": {
      "image/png": "[encoded data removed]",
      "text/plain": [
       "<Figure size 432x288 with 1 Axes>"
      ]
     },
     "metadata": {},
     "output_type": "display_data"
    }
   ],
   "source": [
    "plt.imshow(X[0,:].reshape(15,15));"
   ]
  },
  {
   "cell_type": "markdown",
   "metadata": {},
   "source": [
    "## PCA anwenden"
   ]
  },
  {
   "cell_type": "markdown",
   "metadata": {},
   "source": [
    "Die Daten müssen normiert werden! Entweder mit der PCA-Option whiten=True, oder via"
   ]
  },
  {
   "cell_type": "code",
   "execution_count": 24,
   "metadata": {},
   "outputs": [
    {
     "name": "stderr",
     "output_type": "stream",
     "text": [
      "/media/lws_data/beat/Envs/v_py3/lib/python3.5/site-packages/sklearn/utils/validation.py:590: DataConversionWarning: Data with input dtype int64 was converted to float64 by the scale function.\n",
      "  warnings.warn(msg, DataConversionWarning)\n"
     ]
    },
    {
     "data": {
      "text/plain": [
       "True"
      ]
     },
     "execution_count": 24,
     "metadata": {},
     "output_type": "execute_result"
    }
   ],
   "source": [
    "from sklearn.preprocessing import scale\n",
    "Xnorm=scale(X,axis=1)\n",
    "np.all(np.mean(Xnorm,axis=1)<10**-10)"
   ]
  },
  {
   "cell_type": "code",
   "execution_count": 25,
   "metadata": {},
   "outputs": [
    {
     "data": {
      "text/plain": [
       "PCA(copy=True, iterated_power='auto', n_components=3, random_state=None,\n",
       "  svd_solver='auto', tol=0.0, whiten=True)"
      ]
     },
     "execution_count": 25,
     "metadata": {},
     "output_type": "execute_result"
    }
   ],
   "source": [
    "from sklearn.decomposition import PCA\n",
    "trf= PCA(n_components=3,whiten=True)\n",
    "trf.fit(X)"
   ]
  },
  {
   "cell_type": "code",
   "execution_count": 26,
   "metadata": {},
   "outputs": [],
   "source": [
    "comp = trf.components_\n",
    "comp_img=comp.reshape(-1,15,15)"
   ]
  },
  {
   "cell_type": "markdown",
   "metadata": {},
   "source": [
    "## Eigenfaces betrachten\n",
    "Die Hauptkomponenten sind nun Vektoren der Länge 225, und können wieder als Bilder (sog. Eigenfaces) dargestellt werden."
   ]
  },
  {
   "cell_type": "code",
   "execution_count": 27,
   "metadata": {},
   "outputs": [],
   "source": [
    "def remove_ticks(x=True,y=True):\n",
    "    if x: plt.gca().axes.get_xaxis().set_visible(False)\n",
    "    if y: plt.gca().axes.get_yaxis().set_visible(False)\n",
    "        \n",
    "def compare_images(imglist,figsize=(15,15),**kwargs):\n",
    "    \"\"\"\n",
    "    Erstelle aus einer Liste von Pixel-Arrays eine Visualisierung \n",
    "    der dazugehörigen Bilder, für den praktischen visuellen Vergleich.\n",
    "    \"\"\"\n",
    "    nImages=len(imglist)\n",
    "    plt.figure(figsize=figsize)\n",
    "    for i,image in enumerate(imglist):\n",
    "        plt.subplot(1,nImages,i+1)\n",
    "        plt.imshow(image,**kwargs);remove_ticks()"
   ]
  },
  {
   "cell_type": "code",
   "execution_count": 28,
   "metadata": {},
   "outputs": [
    {
     "data": {
      "image/png": "[encoded data removed]",
      "text/plain": [
       "<Figure size 1080x1080 with 3 Axes>"
      ]
     },
     "metadata": {},
     "output_type": "display_data"
    }
   ],
   "source": [
    "compare_images(comp_img,interpolation='none')"
   ]
  },
  {
   "cell_type": "markdown",
   "metadata": {},
   "source": [
    "Diese drei Bilder sind die ersten drei Hauptkomponenten und heissen auch Eigenfaces. Sie zeigen eindrücklich die Stärke der PCA und geben Einblick in das, was passiert: Offensichtlich wurde eine Struktur erkannt. Die ersten drei Eigenfaces zeigen die Richtungen, in welche die Bilder am meisten variieren. Zwar sind dies nicht direkt '+','x' und 'o', sondern Linearkombinationen davon. Aber wenn die Bilder auf diese drei Komponenten projiziert werden, ergeben sich dreikomponentige Vektoren, in welchem sich die ursprünglichen Bilder sehr gut trennen lassen. \n",
    "\n",
    "Probieren wir's!"
   ]
  },
  {
   "cell_type": "markdown",
   "metadata": {},
   "source": [
    "Wir suchen uns erst mal ein Bild eines \"+\" raus:"
   ]
  },
  {
   "cell_type": "code",
   "execution_count": 29,
   "metadata": {},
   "outputs": [
    {
     "data": {
      "text/plain": [
       "(212, 225)"
      ]
     },
     "execution_count": 29,
     "metadata": {},
     "output_type": "execute_result"
    }
   ],
   "source": [
    "from random import randint\n",
    "X_crosses = X[y==0,:]; X_circles = X[y==1,:]; X_plusses = X[y==2,:]; \n",
    "X_plusses.shape"
   ]
  },
  {
   "cell_type": "code",
   "execution_count": 30,
   "metadata": {},
   "outputs": [
    {
     "data": {
      "text/plain": [
       "(15, 15)"
      ]
     },
     "execution_count": 30,
     "metadata": {},
     "output_type": "execute_result"
    }
   ],
   "source": [
    "sample_plus_image = X_plusses[randint(0,X_plusses.shape[0]),:]\n",
    "image_plus = sample_plus_image.reshape(15,15)\n",
    "image_plus.shape"
   ]
  },
  {
   "cell_type": "markdown",
   "metadata": {},
   "source": [
    "Erstellen wir die Darstellung in der Hauptkomponentenbasis: In dieser bedeutet ein Vektor `[1,-5,111]`, dass das Bild durch `1*comp[0]-5*comp[1]+111*comp[2]` dargestellt werden kann wobei `comp = trf.components_`"
   ]
  },
  {
   "cell_type": "code",
   "execution_count": 31,
   "metadata": {},
   "outputs": [],
   "source": [
    "image_plus_transformed = trf.transform(image_plus.reshape(1,-1))"
   ]
  },
  {
   "cell_type": "code",
   "execution_count": 32,
   "metadata": {},
   "outputs": [
    {
     "data": {
      "image/png": "[encoded data removed]",
      "text/plain": [
       "<Figure size 432x288 with 2 Axes>"
      ]
     },
     "metadata": {},
     "output_type": "display_data"
    }
   ],
   "source": [
    "image_plus_projected = trf.inverse_transform(image_plus_transformed)\n",
    "plt.subplot(1,2,1);plt.imshow(image_plus);plt.title('Originalbild');remove_ticks()\n",
    "plt.subplot(1,2,2);plt.imshow(image_plus_projected.reshape(15,15));plt.title('Projektion auf die \\nersten 3 Hauptkomponentnen');remove_ticks()\n"
   ]
  },
  {
   "cell_type": "code",
   "execution_count": 33,
   "metadata": {},
   "outputs": [
    {
     "data": {
      "text/plain": [
       "array([-0.51908506,  1.13817817, -0.09754236])"
      ]
     },
     "execution_count": 33,
     "metadata": {},
     "output_type": "execute_result"
    }
   ],
   "source": [
    "np.mean(trf.transform(X_crosses),axis=0)"
   ]
  },
  {
   "cell_type": "code",
   "execution_count": 34,
   "metadata": {},
   "outputs": [
    {
     "data": {
      "text/plain": [
       "array([ 1.16310044, -0.08225103, -0.00530774])"
      ]
     },
     "execution_count": 34,
     "metadata": {},
     "output_type": "execute_result"
    }
   ],
   "source": [
    "np.mean(trf.transform(X_circles),axis=0)"
   ]
  },
  {
   "cell_type": "code",
   "execution_count": 35,
   "metadata": {},
   "outputs": [
    {
     "data": {
      "text/plain": [
       "array([-0.55759548, -0.98929992,  0.09585782])"
      ]
     },
     "execution_count": 35,
     "metadata": {},
     "output_type": "execute_result"
    }
   ],
   "source": [
    "np.mean(trf.transform(X_plusses),axis=0)"
   ]
  },
  {
   "cell_type": "markdown",
   "metadata": {},
   "source": [
    "Wir sehen, dass  \n",
    "  - Kreise v.a. eine grosse (positive) erste Hauptkomponente haben\n",
    "  - Kreuze v.a. eine grosse (positive) zweite Hauptkomponente haben\n",
    "  - Plusse v.a. eine grosse (negative) zweite Hauptkomponente haben\n",
    "  \n",
    "Diese drei Features enthalten also einen Grossteil aller relevanten Information über die Bilder."
   ]
  },
  {
   "cell_type": "code",
   "execution_count": 36,
   "metadata": {},
   "outputs": [
    {
     "data": {
      "image/png": "[encoded data removed]",
      "text/plain": [
       "<Figure size 432x288 with 1 Axes>"
      ]
     },
     "metadata": {},
     "output_type": "display_data"
    }
   ],
   "source": [
    "x=[0,1,2]\n",
    "plt.bar(x,100*trf.explained_variance_ratio_);plt.ylim(0,100)\n",
    "plt.xticks(x, ('1.Hauptkomponente', '2.Hauptkomponente', '3.Hauptkomponente'))\n",
    "plt.title('Anteil der erklärten Varianz\\n[in %]');"
   ]
  }
 ],
 "metadata": {
  "kernelspec": {
   "display_name": "v_py3",
   "language": "python",
   "name": "v_py3"
  },
  "language_info": {
   "codemirror_mode": {
    "name": "ipython",
    "version": 3
   },
   "file_extension": ".py",
   "mimetype": "text/x-python",
   "name": "python",
   "nbconvert_exporter": "python",
   "pygments_lexer": "ipython3",
   "version": "3.5.2"
  }
 },
 "nbformat": 4,
 "nbformat_minor": 2
}
