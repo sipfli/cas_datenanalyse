{
  "nbformat": 4,
  "nbformat_minor": 0,
  "metadata": {
    "colab": {
      "name": "CAS-DA-SA_Payment_Fraud_Detection.ipynb",
      "version": "0.3.2",
      "provenance": [],
      "include_colab_link": true
    },
    "kernelspec": {
      "name": "python3",
      "display_name": "Python 3"
    }
  },
  "cells": [
    {
      "cell_type": "markdown",
      "metadata": {
        "id": "view-in-github",
        "colab_type": "text"
      },
      "source": [
        "<a href=\"https://colab.research.google.com/github/sakuronohana/cas_datenanalyse/blob/master/Semesterarbeit/CAS_DA_SA_Payment_Fraud_Detection.ipynb\" target=\"_parent\"><img src=\"https://colab.research.google.com/assets/colab-badge.svg\" alt=\"Open In Colab\"/></a>"
      ]
    },
    {
      "metadata": {
        "id": "jRcJtvy3IiFf",
        "colab_type": "text"
      },
      "cell_type": "markdown",
      "source": [
        "<img \n",
        "src=\"https://www.ffhs.ch/templates/ffhs/img/logo@2x.png\" width=\"100\"> \n",
        "###DaAn, Data Analysis, MAS/CAS Web4B 2018, ZH1, FS19, Dr. Tödtli Beat###\n",
        "\n",
        "##*Semesterarbeit von Patrik Di Lena*##\n",
        "#Betrugserkennung Zahlungsverkehr#\n",
        "\n"
      ]
    },
    {
      "metadata": {
        "id": "Cu2Lax6MMPh0",
        "colab_type": "text"
      },
      "cell_type": "markdown",
      "source": [
        "##Ziel##\n",
        "Auf der Grundlage von maschinellen Lernalgorithmen soll ein Betrugserkennungssystem für den Zahlungsverkehr einer ausschliesslich in der Schweiz tätigen Bank erstellt werden. Auf Basis historisierter Daten in Bezug auf das E-Banking Session- und Zahlungsverhalten von Bankkunden sollen mögliche Betrugsintensionen erkannt und für bestimmte Risikogruppen vorhergesagt werden.\n",
        "\n",
        "##Aufgabenstellung##\n",
        "\n",
        "Aus dem oben formulierten Ziel ergeben sich zwei wesentliche Aufgabenstellungen:\n",
        "1.\tErkennung betrügerischer Handlungen im Zahlungsverkehr\n",
        "2.\tErmittlung potenzieller Kundenrisikogruppen\n",
        "\n",
        "##Betrugsanfällige Risikogruppen##\n",
        "Die für den Betrug im Zahlungsverkehr anfälligen Gruppen werden auf Basis der folgenden Merkmale durch den Lernalgorithmus bestimmt:\n",
        "\n",
        "*\tGeschlecht\n",
        "*\tAlter\n",
        "*\tZivilstand\n",
        "*\tNationalität\n",
        "*\tKontosaldo\n",
        "*\tWohnort\n",
        "*\tRegion\n",
        "*\tZahlungsmethode (E-Rechnung, Einzahlungsschein etc.)\n",
        "*\tRechtsform (Juristisch oder natürliche Person)\n",
        "\n",
        "## Datensatz##\n",
        "Die im Rahmen dieser Semesterarbeit verwendeten Daten entstammen, von ihrer Datenstruktur her, aus einem bereits eingesetzten nicht ML-basierten E-Banking Betrugserkennungssystem. Die Datenwerte wurde zu Wahrung der datenschutzrechtlichen und bankengesetzlichen Aspekte mit Hilfe des folgenden Python-Scripts künstlich erzeugt und beinhalten somit keine reale Zahlungs-, Kunden-, und betrugsspezifischen Informationen. Weiter wurden einige durch die Bank definierten Spezifikationen bzw. Merkmale aus sicherheitstechnischen Gründen umbenannt.  \n",
        "\n",
        "Datenselektion:\n",
        "\n",
        "- 5'000 synthetische Kunden (Vorname, Name, Strasse, Ort, Kanton, Sprachregion, Geschlecht, Alter, Zivilstand,  Nationalität, Kontonummer, Vertragsnummer, Rechtsform )\n",
        "\n",
        "- 100'000 synthetische Zahlungen (Transaktionsid, ,Erstellungdatum/Zeit, Empfängerkonto, Empfängerbank, Empfängerland, Währung, Betrag, Valuta Datum)\n",
        "\n",
        "\n",
        "\n",
        "\n",
        "\n",
        "\n"
      ]
    },
    {
      "metadata": {
        "id": "_DqHmMQ7VZQy",
        "colab_type": "code",
        "outputId": "9edb6918-b4b9-49a2-9bfa-3ed3c8a067ff",
        "colab": {
          "base_uri": "https://localhost:8080/",
          "height": 275
        }
      },
      "cell_type": "code",
      "source": [
        "!pip3 install pydbgen"
      ],
      "execution_count": 0,
      "outputs": [
        {
          "output_type": "stream",
          "text": [
            "Collecting pydbgen\n",
            "\u001b[?25l  Downloading https://files.pythonhosted.org/packages/0d/4b/3b9e324838d4640a0b5eb9e452a6af6876625a6343c065ef0323921955b7/pydbgen-1.0.5-py3-none-any.whl (81kB)\n",
            "\u001b[K    100% |████████████████████████████████| 81kB 5.2MB/s \n",
            "\u001b[?25hCollecting Faker (from pydbgen)\n",
            "\u001b[?25l  Downloading https://files.pythonhosted.org/packages/f5/7e/41e4efbec4722a6b0fe44acffed08b9477b9334c3e40a7a877291a20e7fe/Faker-1.0.4-py2.py3-none-any.whl (846kB)\n",
            "\u001b[K    100% |████████████████████████████████| 849kB 24.8MB/s \n",
            "\u001b[?25hRequirement already satisfied: Pandas in /usr/local/lib/python3.6/dist-packages (from pydbgen) (0.22.0)\n",
            "Requirement already satisfied: six in /usr/local/lib/python3.6/dist-packages (from pydbgen) (1.11.0)\n",
            "Requirement already satisfied: python-dateutil>=2.4 in /usr/local/lib/python3.6/dist-packages (from Faker->pydbgen) (2.5.3)\n",
            "Requirement already satisfied: text-unidecode==1.2 in /usr/local/lib/python3.6/dist-packages (from Faker->pydbgen) (1.2)\n",
            "Requirement already satisfied: numpy>=1.9.0 in /usr/local/lib/python3.6/dist-packages (from Pandas->pydbgen) (1.14.6)\n",
            "Requirement already satisfied: pytz>=2011k in /usr/local/lib/python3.6/dist-packages (from Pandas->pydbgen) (2018.9)\n",
            "Installing collected packages: Faker, pydbgen\n",
            "Successfully installed Faker-1.0.4 pydbgen-1.0.5\n"
          ],
          "name": "stdout"
        }
      ]
    },
    {
      "metadata": {
        "id": "aWZGaymEAFvT",
        "colab_type": "code",
        "colab": {}
      },
      "cell_type": "code",
      "source": [
        "# IBAN Generator\n",
        "\n",
        "import numpy as np\n",
        "import pandas as pd\n",
        "\n",
        "\n",
        "iban_country_code = 'CH53'\n",
        "iban_bank_code = '0077'\n",
        " \n",
        "iban_cc = pd.read_csv('https://raw.githubusercontent.com/sakuronohana/cas_datenanalyse/master/Semesterarbeit/Dataset/iban_list.csv', delimiter=';')\n",
        "iban_cc.columns=['Country','Code','Length','Sample']\n",
        "\n",
        "cc_ch = iban_cc['Country'].where(iban_cc['Country'] != 'Albanien')\n",
        "print (cc_ch)\n",
        "\n",
        "iban_account1 = np.int64(np.random.randint(2000,3000,20800))\n",
        "iban_account2 = np.int64(np.random.randint(3000,4000,20800))\n",
        "iban_account3 = np.int64(np.random.randint(5000,6000,20800))\n",
        "iban_account4 = np.random.randint(1,9,20800)\n",
        "\n",
        "\n",
        "iban = {'a':iban_account1,'b':iban_account2,'c':iban_account3,'d':iban_account4}\n",
        "\n",
        "\n",
        "iban = pd.DataFrame(iban)\n",
        "ccode = []\n",
        "bcode = []\n",
        "\n",
        "\n",
        "for row in range(len(iban)):\n",
        "  if row > 1:\n",
        "    ccode.append(iban_country_code)\n",
        "    bcode.append(iban_bank_code)\n",
        "   \n",
        "cc = pd.DataFrame(ccode)\n",
        "bc = pd.DataFrame(bcode)\n",
        "iban.insert(0,'cc',cc)\n",
        "iban.insert(1,'bc',bc)\n",
        "\n",
        "iban.to_csv('gen_iban.csv',index=False, sep=' ')\n",
        "data = pd.read_csv('gen_iban.csv')"
      ],
      "execution_count": 0,
      "outputs": []
    },
    {
      "metadata": {
        "id": "2N7wwJlJIMIX",
        "colab_type": "code",
        "colab": {}
      },
      "cell_type": "code",
      "source": [
        "import pandas as pd\n",
        "import numpy as np\n",
        "from datetime import datetime\n",
        "import pydbgen\n",
        "from pydbgen import pydbgen\n",
        "\n",
        "\n",
        "myDB = pydbgen.pydb()\n",
        "\n",
        "def customer_data():\n",
        "  \n",
        "  \n",
        "  return\n",
        "\n",
        "def payment_data():\n",
        "  \n",
        "  #columns = ['Bankenclearing',\t'ursprüngliche Mandanten-ID']#\tDokumentennummer\tZeitstempel\tVertrag\tVorname\tName\tProdukt\tZREG\tVertragsverwaltungsuser\tService\tPayNet-Nummer\tDokumentenschlüssel\tAnzahl Seiten\n",
        "  columns = ['contract_no', 'payment_amount']\n",
        "\n",
        "  timestamp = pd.DataFrame(pd.data_range(start='1/1/2018', end='1/08/2018'))\n",
        "  payment_id = pd.DataFrame(np.arange(1,100001), columns=['payment_id'])\n",
        "  payment_amount = pd.DataFrame((np.random.sample(1000001)*50000), columns=['amount'])\n",
        "  payment_amount = np.round_(payment_amount, decimals = 2)\n",
        "  \n",
        "\n",
        "  return\n",
        "\n",
        "def transaction_checker_data():\n",
        "  contract_no = pd.DataFrame(np.random.randint(1000001, size=100001), columns=['contract'])\n",
        "  return\n",
        "  \n",
        "def session_checker_data():\n",
        "  return\n",
        "\n",
        "\n",
        "\n",
        "\n",
        "\n"
      ],
      "execution_count": 0,
      "outputs": []
    }
  ]
}