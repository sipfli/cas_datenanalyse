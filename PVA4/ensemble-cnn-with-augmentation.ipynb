{
  "nbformat": 4,
  "nbformat_minor": 0,
  "metadata": {
    "colab": {
      "name": "ensemble-cnn-with-augmentation.ipynb",
      "version": "0.3.2",
      "provenance": []
    },
    "language_info": {
      "codemirror_mode": {
        "name": "ipython",
        "version": 3
      },
      "file_extension": ".py",
      "mimetype": "text/x-python",
      "name": "python",
      "nbconvert_exporter": "python",
      "pygments_lexer": "ipython3",
      "version": "3.6.6"
    },
    "kernelspec": {
      "name": "python3",
      "display_name": "Python 3"
    },
    "accelerator": "TPU"
  },
  "cells": [
    {
      "cell_type": "code",
      "metadata": {
        "_cell_guid": "b1076dfc-b9ad-4769-8c92-a6c4dae69d19",
        "_uuid": "8f2839f25d086af736a60e9eeb907d3b93b6e0e5",
        "id": "XnV4mx3bHvzi",
        "colab_type": "code",
        "colab": {}
      },
      "source": [
        "import pandas as pd\n",
        "import matplotlib.pyplot as plt\n",
        "%matplotlib inline \n",
        "\n",
        "\n",
        "git_url_train = 'https://raw.githubusercontent.com/sakuronohana/cas_datenanalyse/master/PVA4/data/train.csv'\n",
        "git_url_test = 'https://raw.githubusercontent.com/sakuronohana/cas_datenanalyse/master/PVA4/data/test.csv'\n",
        "\n",
        "train_data = pd.read_csv(git_url_train,header=None)\n",
        "test_data = pd.read_csv(git_url_test,header=None)"
      ],
      "execution_count": 0,
      "outputs": []
    },
    {
      "cell_type": "code",
      "metadata": {
        "_uuid": "78715e6a54e12a02a6779115a7df5dbc4bbdbecd",
        "id": "ue_vYBgGHvzo",
        "colab_type": "code",
        "colab": {}
      },
      "source": [
        "train_data.head(-5)"
      ],
      "execution_count": 0,
      "outputs": []
    },
    {
      "cell_type": "code",
      "metadata": {
        "_uuid": "bc6a4f5610618c35b5df3886380436de47e76e6f",
        "id": "6ieIBVHxHvzt",
        "colab_type": "code",
        "colab": {}
      },
      "source": [
        "train_target = train_data[1]\n",
        "\n",
        "del train_data[1]"
      ],
      "execution_count": 0,
      "outputs": []
    },
    {
      "cell_type": "code",
      "metadata": {
        "_uuid": "2581fb4e89fcd66abad377328e8b133468e90f10",
        "id": "t99fO9ncHvzx",
        "colab_type": "code",
        "colab": {}
      },
      "source": [
        "del train_data[0]\n",
        "del test_data[0]"
      ],
      "execution_count": 0,
      "outputs": []
    },
    {
      "cell_type": "code",
      "metadata": {
        "_uuid": "80503ba7c01e3c4454aa4ab4681ab3e50eb13ab4",
        "id": "a1SkX3PyHvzz",
        "colab_type": "code",
        "colab": {}
      },
      "source": [
        "train_data = train_data.values\n",
        "test_data = test_data.values"
      ],
      "execution_count": 0,
      "outputs": []
    },
    {
      "cell_type": "code",
      "metadata": {
        "id": "8mfYyxBxzYop",
        "colab_type": "code",
        "colab": {
          "base_uri": "https://localhost:8080/",
          "height": 35
        },
        "outputId": "46d73410-e112-437b-c50b-5ed591398a32"
      },
      "source": [
        "train_data.shape"
      ],
      "execution_count": 11,
      "outputs": [
        {
          "output_type": "execute_result",
          "data": {
            "text/plain": [
              "(9360, 784)"
            ]
          },
          "metadata": {
            "tags": []
          },
          "execution_count": 11
        }
      ]
    },
    {
      "cell_type": "code",
      "metadata": {
        "_uuid": "4402edbbcdb7ab2cda2f0341cd4665db25aa2295",
        "id": "Qu9zFsM2Hvz1",
        "colab_type": "code",
        "outputId": "e0d8bc60-30a3-41dc-fc84-44cf1241926b",
        "colab": {
          "base_uri": "https://localhost:8080/",
          "height": 35
        }
      },
      "source": [
        "train_target.nunique()"
      ],
      "execution_count": 12,
      "outputs": [
        {
          "output_type": "execute_result",
          "data": {
            "text/plain": [
              "10"
            ]
          },
          "metadata": {
            "tags": []
          },
          "execution_count": 12
        }
      ]
    },
    {
      "cell_type": "code",
      "metadata": {
        "_uuid": "4a71b2de5fcc127c828628b1e4a767cc7b182459",
        "id": "nj7AdcrsHvz5",
        "colab_type": "code",
        "colab": {}
      },
      "source": [
        "X_train = train_data.reshape(-1, 28, 28 , 1).astype('float32')"
      ],
      "execution_count": 0,
      "outputs": []
    },
    {
      "cell_type": "code",
      "metadata": {
        "id": "gNWTCbJQzxSb",
        "colab_type": "code",
        "colab": {
          "base_uri": "https://localhost:8080/",
          "height": 35
        },
        "outputId": "5f00512c-2937-4a58-e2c2-261f5736fceb"
      },
      "source": [
        "X_train.shape"
      ],
      "execution_count": 18,
      "outputs": [
        {
          "output_type": "execute_result",
          "data": {
            "text/plain": [
              "(9360, 28, 28, 1)"
            ]
          },
          "metadata": {
            "tags": []
          },
          "execution_count": 18
        }
      ]
    },
    {
      "cell_type": "code",
      "metadata": {
        "_uuid": "5a9f0599a4f8e3c056af1253097c36b2f778cfb8",
        "id": "MEY286sIHvz7",
        "colab_type": "code",
        "colab": {}
      },
      "source": [
        "X_test = test_data.reshape(-1, 28, 28 , 1).astype('float32')"
      ],
      "execution_count": 0,
      "outputs": []
    },
    {
      "cell_type": "markdown",
      "metadata": {
        "_uuid": "27d77be833f83a9925fa20f473f76d4390ecb807",
        "id": "S5zXHO9iHvz9",
        "colab_type": "raw"
      },
      "source": [
        ""
      ]
    },
    {
      "cell_type": "code",
      "metadata": {
        "_uuid": "286269409449e7fd28d9ff49c1a6477e62880075",
        "id": "KOsj2pINHvz-",
        "colab_type": "code",
        "colab": {}
      },
      "source": [
        "X_train = X_train / 255.0\n",
        "X_test = X_test / 255.0"
      ],
      "execution_count": 0,
      "outputs": []
    },
    {
      "cell_type": "code",
      "metadata": {
        "_uuid": "7d62492cf34cd6cb5cfe04a299a557d37a8c085c",
        "id": "iaGKL_1DHv0A",
        "colab_type": "code",
        "outputId": "fb8f66fd-9ba8-45fa-efac-dffb7c182c73",
        "colab": {
          "base_uri": "https://localhost:8080/",
          "height": 35
        }
      },
      "source": [
        "import pandas as pd\n",
        "import numpy as np\n",
        "import matplotlib.pyplot as plt\n",
        "import matplotlib.image as mpimg\n",
        "import seaborn as sns\n",
        "%matplotlib inline\n",
        "\n",
        "np.random.seed(2)\n",
        "\n",
        "from sklearn.model_selection import train_test_split\n",
        "from sklearn.metrics import confusion_matrix\n",
        "import itertools\n",
        "\n",
        "from keras.utils.np_utils import to_categorical # convert to one-hot-encoding\n",
        "from keras.models import Sequential\n",
        "from keras.layers import Dense, Dropout, Flatten, Conv2D, MaxPool2D\n",
        "from keras.optimizers import RMSprop, Adam\n",
        "from keras.preprocessing.image import ImageDataGenerator\n",
        "from keras.callbacks import ReduceLROnPlateau\n",
        "\n",
        "\n",
        "sns.set(style='white', context='notebook', palette='deep')"
      ],
      "execution_count": 21,
      "outputs": [
        {
          "output_type": "stream",
          "text": [
            "Using TensorFlow backend.\n"
          ],
          "name": "stderr"
        }
      ]
    },
    {
      "cell_type": "code",
      "metadata": {
        "_uuid": "dc2c58f04d636a6d8f951d2b2bcd23dbe30a3209",
        "id": "pzLRhRf5Hv0E",
        "colab_type": "code",
        "colab": {}
      },
      "source": [
        "from sklearn.preprocessing import LabelEncoder\n",
        "enc = LabelEncoder()\n",
        "train_target = enc.fit_transform(train_target.values)"
      ],
      "execution_count": 0,
      "outputs": []
    },
    {
      "cell_type": "code",
      "metadata": {
        "_uuid": "1cba7d0fb7caf81b68a80bc400a791a3410d9bc2",
        "id": "lTA5XGwzHv0G",
        "colab_type": "code",
        "colab": {}
      },
      "source": [
        "Y_train = to_categorical(train_target, num_classes = 10)"
      ],
      "execution_count": 0,
      "outputs": []
    },
    {
      "cell_type": "code",
      "metadata": {
        "_uuid": "443008a6485817fc698026e8a4b36cfa948c2caf",
        "id": "DOFuWnbHHv0I",
        "colab_type": "code",
        "colab": {}
      },
      "source": [
        "# Split the train and the validation set for the fitting\n",
        "# X_train, X_val, Y_train, Y_val = train_test_split(X_train, Y_train, test_size = 0.1, random_state=20182019)"
      ],
      "execution_count": 0,
      "outputs": []
    },
    {
      "cell_type": "code",
      "metadata": {
        "_uuid": "3946a8d01c927c85b248c54a90bfb657b4065f03",
        "id": "Rfh3be-GHv0L",
        "colab_type": "code",
        "outputId": "89cc6edc-ffb3-49a4-c8e2-ca8d6ede6407",
        "colab": {
          "base_uri": "https://localhost:8080/",
          "height": 275
        }
      },
      "source": [
        "g = plt.imshow(X_train[25][:,:,0])"
      ],
      "execution_count": 25,
      "outputs": [
        {
          "output_type": "display_data",
          "data": {
            "text/plain": [
              "<Figure size 432x288 with 1 Axes>"
            ],
            "image/png": "[encoded data removed]"
          },
          "metadata": {
            "tags": []
          }
        }
      ]
    },
    {
      "cell_type": "code",
      "metadata": {
        "_uuid": "c8908b4b11bca5355e244da51b0d0f08dbc51371",
        "id": "vPS9DfDWHv0P",
        "colab_type": "code",
        "outputId": "342f07b6-5bb4-49cf-c746-287c72d12394",
        "colab": {
          "base_uri": "https://localhost:8080/",
          "height": 35
        }
      },
      "source": [
        "np.unique(train_target)"
      ],
      "execution_count": 26,
      "outputs": [
        {
          "output_type": "execute_result",
          "data": {
            "text/plain": [
              "array([0, 1, 2, 3, 4, 5, 6, 7, 8, 9])"
            ]
          },
          "metadata": {
            "tags": []
          },
          "execution_count": 26
        }
      ]
    },
    {
      "cell_type": "code",
      "metadata": {
        "_uuid": "60e951c79a8efb6fcc254076f07cb2f548caf551",
        "id": "pyDS1NmwHv0T",
        "colab_type": "code",
        "colab": {}
      },
      "source": [
        "from keras.layers import BatchNormalization"
      ],
      "execution_count": 0,
      "outputs": []
    },
    {
      "cell_type": "code",
      "metadata": {
        "_uuid": "a1ce3ec016de30f4cbdae62f8e100f03fb80d0d3",
        "id": "WfLtiCdMHv0Y",
        "colab_type": "code",
        "outputId": "34157cf9-404a-44fd-b9de-ce4e6574f1af",
        "colab": {
          "base_uri": "https://localhost:8080/",
          "height": 35
        }
      },
      "source": [
        "from keras.optimizers import RMSprop, Adam\n",
        "from keras.layers import DepthwiseConv2D, Reshape, Activation\n",
        "\n",
        "nets = 10\n",
        "model = [0] *nets\n",
        "\n",
        "\n",
        "for j in range(nets):\n",
        "    model[j] = Sequential()\n",
        "\n",
        "    model[j].add(Conv2D(32, kernel_size = 3, activation='relu', input_shape = (28, 28, 1)))\n",
        "    model[j].add(BatchNormalization())\n",
        "    model[j].add(Conv2D(32, kernel_size = 3, activation='relu'))\n",
        "    model[j].add(BatchNormalization())\n",
        "    model[j].add(Conv2D(32, kernel_size = 5, strides=2, padding='same', activation='relu'))\n",
        "    model[j].add(BatchNormalization())\n",
        "    model[j].add(Dropout(0.35))\n",
        "\n",
        "    model[j].add(Conv2D(64, kernel_size = 3, activation='relu'))\n",
        "    model[j].add(BatchNormalization())\n",
        "    model[j].add(Conv2D(64, kernel_size = 3, activation='relu'))\n",
        "    model[j].add(BatchNormalization())\n",
        "    model[j].add(Conv2D(64, kernel_size = 5, strides=2, padding='same', activation='relu'))\n",
        "    model[j].add(BatchNormalization())\n",
        "    model[j].add(Dropout(0.4))\n",
        "\n",
        "    model[j].add(Conv2D(128, kernel_size = 4, activation='relu'))\n",
        "    model[j].add(BatchNormalization())\n",
        "    model[j].add(Flatten())\n",
        "    model[j].add(Dropout(0.4))\n",
        "    model[j].add(Dense(10, activation='softmax'))\n",
        "\n",
        "    # COMPILE WITH ADAM OPTIMIZER AND CROSS ENTROPY COST\n",
        "    model[j].compile(optimizer='adagrad', loss=\"categorical_crossentropy\", metrics=[\"accuracy\"])\n",
        "    \n",
        "print('Done')"
      ],
      "execution_count": 28,
      "outputs": [
        {
          "output_type": "stream",
          "text": [
            "Done\n"
          ],
          "name": "stdout"
        }
      ]
    },
    {
      "cell_type": "code",
      "metadata": {
        "_uuid": "8c1894535205d883a45426f66ccecbe3e73ba817",
        "id": "Umu-8sVvHv0c",
        "colab_type": "code",
        "colab": {}
      },
      "source": [
        "# LR Reduction Callback\n",
        "from keras.callbacks import ReduceLROnPlateau\n",
        "\n",
        "learning_rate_reduction = ReduceLROnPlateau(monitor='val_acc', \n",
        "                                            patience=3, \n",
        "                                            verbose=0, \n",
        "                                            factor=0.5, \n",
        "                                            min_lr=0.00001)"
      ],
      "execution_count": 0,
      "outputs": []
    },
    {
      "cell_type": "code",
      "metadata": {
        "_uuid": "02a92f609933a80a0be514ce3c0c4f9725daf81b",
        "id": "9xqxC4i_Hv0f",
        "colab_type": "code",
        "outputId": "7dbf4e72-b085-4aeb-fd6a-db85ddba2381",
        "colab": {
          "base_uri": "https://localhost:8080/",
          "height": 1108
        }
      },
      "source": [
        "\n",
        "history = [0] * nets\n",
        "epochs = 30\n",
        "\n",
        "datagen = ImageDataGenerator(\n",
        "    rotation_range=13,\n",
        "    zoom_range=0.11,\n",
        "    width_shift_range=0.1,\n",
        "    height_shift_range=0.1\n",
        ")\n",
        "\n",
        "datagen.fit(X_train)\n",
        "\n",
        "for j in range(nets):\n",
        "    print(f'Net : {j+1}')   \n",
        "    X_train2, X_val2, Y_train2, Y_val2 = train_test_split(X_train, Y_train, test_size = 0.1)\n",
        "    history[j] = model[j].fit_generator(datagen.flow(X_train2,Y_train2, batch_size=64),\n",
        "        epochs = epochs, steps_per_epoch = X_train2.shape[0]//64,  \n",
        "        validation_data = (X_val2,Y_val2), callbacks=[learning_rate_reduction], verbose=1)\n",
        "    \n",
        "    print(\"CNN {0:d}: Epochs={1:d}, Train accuracy={2:.5f}, Validation accuracy={3:.5f}\".format(\n",
        "        j+1,epochs,max(history[j].history['acc']),max(history[j].history['val_acc']) ))"
      ],
      "execution_count": 30,
      "outputs": [
        {
          "output_type": "stream",
          "text": [
            "Net : 1\n",
            "Epoch 1/30\n",
            "131/131 [==============================] - 38s 287ms/step - loss: 0.9548 - acc: 0.7110 - val_loss: 0.3730 - val_acc: 0.8857\n",
            "Epoch 2/30\n",
            "131/131 [==============================] - 36s 276ms/step - loss: 0.5515 - acc: 0.8332 - val_loss: 0.3367 - val_acc: 0.9006\n",
            "Epoch 3/30\n",
            "131/131 [==============================] - 38s 289ms/step - loss: 0.4674 - acc: 0.8651 - val_loss: 0.2780 - val_acc: 0.9209\n",
            "Epoch 4/30\n",
            "131/131 [==============================] - 36s 276ms/step - loss: 0.4180 - acc: 0.8737 - val_loss: 0.2592 - val_acc: 0.9209\n",
            "Epoch 5/30\n",
            "131/131 [==============================] - 36s 276ms/step - loss: 0.3863 - acc: 0.8846 - val_loss: 0.2536 - val_acc: 0.9252\n",
            "Epoch 6/30\n",
            "131/131 [==============================] - 36s 277ms/step - loss: 0.3614 - acc: 0.8922 - val_loss: 0.2450 - val_acc: 0.9252\n",
            "Epoch 7/30\n",
            "131/131 [==============================] - 43s 326ms/step - loss: 0.3385 - acc: 0.9010 - val_loss: 0.2226 - val_acc: 0.9295\n",
            "Epoch 8/30\n",
            "131/131 [==============================] - 41s 310ms/step - loss: 0.3317 - acc: 0.9026 - val_loss: 0.2351 - val_acc: 0.9252\n",
            "Epoch 9/30\n",
            "131/131 [==============================] - 40s 303ms/step - loss: 0.3049 - acc: 0.9074 - val_loss: 0.2057 - val_acc: 0.9391\n",
            "Epoch 10/30\n",
            "131/131 [==============================] - 43s 328ms/step - loss: 0.3035 - acc: 0.9102 - val_loss: 0.2086 - val_acc: 0.9380\n",
            "Epoch 11/30\n",
            "131/131 [==============================] - 42s 321ms/step - loss: 0.2986 - acc: 0.9120 - val_loss: 0.2110 - val_acc: 0.9391\n",
            "Epoch 12/30\n",
            "131/131 [==============================] - 41s 311ms/step - loss: 0.2876 - acc: 0.9140 - val_loss: 0.2401 - val_acc: 0.9135\n",
            "Epoch 13/30\n",
            "131/131 [==============================] - 40s 307ms/step - loss: 0.2523 - acc: 0.9247 - val_loss: 0.2028 - val_acc: 0.9380\n",
            "Epoch 14/30\n",
            "131/131 [==============================] - 41s 317ms/step - loss: 0.2522 - acc: 0.9235 - val_loss: 0.1998 - val_acc: 0.9348\n",
            "Epoch 15/30\n",
            "131/131 [==============================] - 40s 307ms/step - loss: 0.2638 - acc: 0.9192 - val_loss: 0.2054 - val_acc: 0.9338\n",
            "Epoch 16/30\n",
            "131/131 [==============================] - 38s 287ms/step - loss: 0.2504 - acc: 0.9244 - val_loss: 0.1958 - val_acc: 0.9380\n",
            "Epoch 17/30\n",
            "131/131 [==============================] - 45s 341ms/step - loss: 0.2409 - acc: 0.9250 - val_loss: 0.1987 - val_acc: 0.9391\n",
            "Epoch 18/30\n",
            "131/131 [==============================] - 43s 327ms/step - loss: 0.2448 - acc: 0.9265 - val_loss: 0.1968 - val_acc: 0.9380\n",
            "Epoch 19/30\n",
            "131/131 [==============================] - 42s 323ms/step - loss: 0.2434 - acc: 0.9250 - val_loss: 0.1940 - val_acc: 0.9423\n",
            "Epoch 20/30\n",
            "131/131 [==============================] - 42s 318ms/step - loss: 0.2401 - acc: 0.9252 - val_loss: 0.1923 - val_acc: 0.9423\n",
            "Epoch 21/30\n",
            "131/131 [==============================] - 38s 290ms/step - loss: 0.2295 - acc: 0.9295 - val_loss: 0.1913 - val_acc: 0.9402\n",
            "Epoch 22/30\n",
            "131/131 [==============================] - 41s 311ms/step - loss: 0.2409 - acc: 0.9268 - val_loss: 0.1945 - val_acc: 0.9412\n",
            "Epoch 23/30\n",
            "131/131 [==============================] - 42s 321ms/step - loss: 0.2359 - acc: 0.9310 - val_loss: 0.1937 - val_acc: 0.9412\n",
            "Epoch 24/30\n",
            "131/131 [==============================] - 41s 314ms/step - loss: 0.2336 - acc: 0.9270 - val_loss: 0.1934 - val_acc: 0.9412\n",
            "Epoch 25/30\n",
            "131/131 [==============================] - 40s 302ms/step - loss: 0.2353 - acc: 0.9273 - val_loss: 0.1929 - val_acc: 0.9412\n",
            "Epoch 26/30\n",
            "131/131 [==============================] - 41s 315ms/step - loss: 0.2276 - acc: 0.9327 - val_loss: 0.1925 - val_acc: 0.9402\n",
            "Epoch 27/30\n",
            "131/131 [==============================] - 40s 304ms/step - loss: 0.2231 - acc: 0.9332 - val_loss: 0.1929 - val_acc: 0.9391\n",
            "Epoch 28/30\n",
            "131/131 [==============================] - 41s 312ms/step - loss: 0.2294 - acc: 0.9306 - val_loss: 0.1928 - val_acc: 0.9391\n",
            "Epoch 29/30\n",
            "131/131 [==============================] - 41s 310ms/step - loss: 0.2300 - acc: 0.9297 - val_loss: 0.1930 - val_acc: 0.9402\n",
            "Epoch 30/30\n",
            "131/131 [==============================] - 42s 323ms/step - loss: 0.2420 - acc: 0.9277 - val_loss: 0.1934 - val_acc: 0.9402\n",
            "CNN 1: Epochs=30, Train accuracy=0.93325, Validation accuracy=0.94231\n"
          ],
          "name": "stdout"
        }
      ]
    },
    {
      "cell_type": "code",
      "metadata": {
        "_uuid": "96d0aa4b067758d1f5ca5b4e74c9f3f4095e7cb3",
        "id": "B7fF6mUlHv0j",
        "colab_type": "code",
        "colab": {}
      },
      "source": [
        "# make submision\n",
        "results = np.zeros( (X_test.shape[0],10) ) \n",
        "for j in range(nets):\n",
        "    results = results + model[j].predict(X_test)\n"
      ],
      "execution_count": 0,
      "outputs": []
    },
    {
      "cell_type": "code",
      "metadata": {
        "_uuid": "4700ec41a1368c707e671d58638a767a55ef302e",
        "id": "aTWYrNlNHv0m",
        "colab_type": "code",
        "colab": {}
      },
      "source": [
        "    \n",
        "results = np.argmax(results,axis = 1)\n",
        "results = pd.Series(results,name=\"target\")\n",
        "submission = pd.concat([pd.Series(range(0,9364),name = \"Id\"),results],axis = 1)\n"
      ],
      "execution_count": 0,
      "outputs": []
    },
    {
      "cell_type": "code",
      "metadata": {
        "_uuid": "aaeded284cfc08c889d2c4a5519a199ad99470b5",
        "id": "KeZ6-q1oHv0o",
        "colab_type": "code",
        "outputId": "b44f7a79-a448-4403-d131-471769c63c53",
        "colab": {
          "base_uri": "https://localhost:8080/",
          "height": 198
        }
      },
      "source": [
        "submission.head()"
      ],
      "execution_count": 36,
      "outputs": [
        {
          "output_type": "execute_result",
          "data": {
            "text/plain": [
              "   Id  target\n",
              "0   0   201.0\n",
              "1   1     NaN\n",
              "2   2     NaN\n",
              "3   3     NaN\n",
              "4   4     NaN"
            ],
            "text/html": [
              "<div>\n",
              "<style scoped>\n",
              "    .dataframe tbody tr th:only-of-type {\n",
              "        vertical-align: middle;\n",
              "    }\n",
              "\n",
              "    .dataframe tbody tr th {\n",
              "        vertical-align: top;\n",
              "    }\n",
              "\n",
              "    .dataframe thead th {\n",
              "        text-align: right;\n",
              "    }\n",
              "</style>\n",
              "<table border=\"1\" class=\"dataframe\">\n",
              "  <thead>\n",
              "    <tr style=\"text-align: right;\">\n",
              "      <th></th>\n",
              "      <th>Id</th>\n",
              "      <th>target</th>\n",
              "    </tr>\n",
              "  </thead>\n",
              "  <tbody>\n",
              "    <tr>\n",
              "      <th>0</th>\n",
              "      <td>0</td>\n",
              "      <td>201.0</td>\n",
              "    </tr>\n",
              "    <tr>\n",
              "      <th>1</th>\n",
              "      <td>1</td>\n",
              "      <td>NaN</td>\n",
              "    </tr>\n",
              "    <tr>\n",
              "      <th>2</th>\n",
              "      <td>2</td>\n",
              "      <td>NaN</td>\n",
              "    </tr>\n",
              "    <tr>\n",
              "      <th>3</th>\n",
              "      <td>3</td>\n",
              "      <td>NaN</td>\n",
              "    </tr>\n",
              "    <tr>\n",
              "      <th>4</th>\n",
              "      <td>4</td>\n",
              "      <td>NaN</td>\n",
              "    </tr>\n",
              "  </tbody>\n",
              "</table>\n",
              "</div>"
            ]
          },
          "metadata": {
            "tags": []
          },
          "execution_count": 36
        }
      ]
    },
    {
      "cell_type": "code",
      "metadata": {
        "_uuid": "ff01d9adbf13f93a32c2cb284cc2e2c830db0bcb",
        "id": "W1YBwo8gHv0r",
        "colab_type": "code",
        "colab": {}
      },
      "source": [
        "submission['target'] = enc.inverse_transform(submission['target'])"
      ],
      "execution_count": 0,
      "outputs": []
    },
    {
      "cell_type": "code",
      "metadata": {
        "_uuid": "67bd036b6b39c2006566ee5e91a3c9d641b56d60",
        "id": "bJr1ZDWTHv0t",
        "colab_type": "code",
        "outputId": "39cf671e-3c6b-447c-e9f1-6a0326d03a5a",
        "colab": {}
      },
      "source": [
        "submission.head()"
      ],
      "execution_count": 0,
      "outputs": [
        {
          "output_type": "execute_result",
          "data": {
            "text/html": [
              "<div>\n",
              "<style scoped>\n",
              "    .dataframe tbody tr th:only-of-type {\n",
              "        vertical-align: middle;\n",
              "    }\n",
              "\n",
              "    .dataframe tbody tr th {\n",
              "        vertical-align: top;\n",
              "    }\n",
              "\n",
              "    .dataframe thead th {\n",
              "        text-align: right;\n",
              "    }\n",
              "</style>\n",
              "<table border=\"1\" class=\"dataframe\">\n",
              "  <thead>\n",
              "    <tr style=\"text-align: right;\">\n",
              "      <th></th>\n",
              "      <th>Id</th>\n",
              "      <th>target</th>\n",
              "    </tr>\n",
              "  </thead>\n",
              "  <tbody>\n",
              "    <tr>\n",
              "      <th>0</th>\n",
              "      <td>0</td>\n",
              "      <td>A</td>\n",
              "    </tr>\n",
              "    <tr>\n",
              "      <th>1</th>\n",
              "      <td>1</td>\n",
              "      <td>H</td>\n",
              "    </tr>\n",
              "    <tr>\n",
              "      <th>2</th>\n",
              "      <td>2</td>\n",
              "      <td>A</td>\n",
              "    </tr>\n",
              "    <tr>\n",
              "      <th>3</th>\n",
              "      <td>3</td>\n",
              "      <td>A</td>\n",
              "    </tr>\n",
              "    <tr>\n",
              "      <th>4</th>\n",
              "      <td>4</td>\n",
              "      <td>H</td>\n",
              "    </tr>\n",
              "  </tbody>\n",
              "</table>\n",
              "</div>"
            ],
            "text/plain": [
              "   Id target\n",
              "0   0      A\n",
              "1   1      H\n",
              "2   2      A\n",
              "3   3      A\n",
              "4   4      H"
            ]
          },
          "metadata": {
            "tags": []
          },
          "execution_count": 24
        }
      ]
    },
    {
      "cell_type": "code",
      "metadata": {
        "_uuid": "b87a43688a7beac4f4d528f31a57cb5000e3aa9f",
        "id": "n1Pgh3LCHv0x",
        "colab_type": "code",
        "outputId": "666bc763-0be5-4e63-8102-37d4640ab919",
        "colab": {
          "base_uri": "https://localhost:8080/",
          "height": 35
        }
      },
      "source": [
        "submission.shape"
      ],
      "execution_count": 40,
      "outputs": [
        {
          "output_type": "execute_result",
          "data": {
            "text/plain": [
              "(9364, 2)"
            ]
          },
          "metadata": {
            "tags": []
          },
          "execution_count": 40
        }
      ]
    },
    {
      "cell_type": "code",
      "metadata": {
        "_uuid": "3946740c3931d357362b4784fe55136cae18dd12",
        "id": "L8JYqShKHv00",
        "colab_type": "code",
        "outputId": "05585eb9-2e30-43ce-cc7c-fc4cc58144b2",
        "colab": {
          "base_uri": "https://localhost:8080/",
          "height": 52
        }
      },
      "source": [
        "submission.target.value_counts()"
      ],
      "execution_count": 41,
      "outputs": [
        {
          "output_type": "execute_result",
          "data": {
            "text/plain": [
              "0.0    1\n",
              "Name: target, dtype: int64"
            ]
          },
          "metadata": {
            "tags": []
          },
          "execution_count": 41
        }
      ]
    },
    {
      "cell_type": "code",
      "metadata": {
        "_uuid": "75f06975a1531ae3009f534648fb854f964232fc",
        "id": "SmM2YaJ1Hv04",
        "colab_type": "code",
        "colab": {}
      },
      "source": [
        "submission.to_csv('submission.csv', index=False)"
      ],
      "execution_count": 0,
      "outputs": []
    },
    {
      "cell_type": "code",
      "metadata": {
        "_uuid": "9daefa41bf7024246734fe11fea67e4ffc8efaf9",
        "id": "JA9iuGwlHv07",
        "colab_type": "code",
        "colab": {}
      },
      "source": [
        ""
      ],
      "execution_count": 0,
      "outputs": []
    }
  ]
}