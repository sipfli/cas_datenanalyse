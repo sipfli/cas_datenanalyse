{
  "nbformat": 4,
  "nbformat_minor": 0,
  "metadata": {
    "colab": {
      "name": "CAS-DA-SA_Payment_Fraud_Detection.ipynb",
      "version": "0.3.2",
      "provenance": [],
      "include_colab_link": true
    },
    "kernelspec": {
      "name": "python3",
      "display_name": "Python 3"
    },
    "accelerator": "GPU"
  },
  "cells": [
    {
      "cell_type": "markdown",
      "metadata": {
        "id": "view-in-github",
        "colab_type": "text"
      },
      "source": [
        "<a href=\"https://colab.research.google.com/github/sakuronohana/cas_datenanalyse/blob/master/Semesterarbeit/CAS_DA_SA_Payment_Fraud_Detection.ipynb\" target=\"_parent\"><img src=\"https://colab.research.google.com/assets/colab-badge.svg\" alt=\"Open In Colab\"/></a>"
      ]
    },
    {
      "cell_type": "markdown",
      "metadata": {
        "id": "jRcJtvy3IiFf",
        "colab_type": "text"
      },
      "source": [
        "<img \n",
        "src=\"https://www.ffhs.ch/templates/ffhs/img/logo@2x.png\" width=\"100\"> \n",
        "###DaAn, Data Analysis, MAS/CAS Web4B 2018, ZH1, FS19, Dr. Tödtli Beat###\n",
        "\n",
        "##*Semesterarbeit von Patrik Di Lena*##\n",
        "#Betrugserkennung Zahlungsverkehr#\n",
        "\n"
      ]
    },
    {
      "cell_type": "markdown",
      "metadata": {
        "id": "Cu2Lax6MMPh0",
        "colab_type": "text"
      },
      "source": [
        "##Ziel##\n",
        "Das Ziel dieser Semesterarbeit ist die Gegenüberstellung von Supervised und Unsupervised Lernverfahren mit Hilfe neuronaler Netzwerk Algorithmen. Dabei kommt  ein nicht gelabelter und ein gelabelter Datensatz aus einem Betrugserkennungssystem zum Einsatz. \n",
        "\n",
        "##Aufgabenstellung##\n",
        "###Erkennung von Betrugszahlungen###\n",
        "Mittels Unsupervised Learning sollen Betrugszahlungen aus einem nicht gelabelten Datensatz erkannt und die Effiktivität des vorhandenen Fraud-Detection Systems geprüft werden. In diesem Fall wird ein Autoencoder Neural Network mit Tensorflow aufgebaut. \n",
        "\n",
        "###Betrugsanfällige Risikogruppen###\n",
        "Mit Hilfe von Supervised Learning werden mögliche Risikogruppen ermittelt, welche im Visier von Betrügern stehen.  Auf Basis eines gelabelten Datensatzes  werden die Risikogruppen nach folgenden Merkmalen unterschieden:\n",
        "\n",
        "*\tGeschlecht\n",
        "*\tAlter\n",
        "*\tZivilstand\n",
        "*\tNationalität\n",
        "*\tKontosaldo\n",
        "*\tWohnort\n",
        "*\tRegion\n",
        "\n",
        "In diesem Fall wird der Deep Learning Algorithmus Convlutional Neural Network zum Einsatz kommen.\n",
        "\n",
        "##Datensatz##\n",
        "Die im Rahmen dieser Semesterarbeit verwendeten Daten entstammen, von ihrer Datenstruktur her, aus einem bereits eingesetzten nicht ML-basierten Betrugserkennungssystem. Die Datenwerte wurde zu Wahrung der datenschutzrechtlichen und bankengesetzlichen Aspekte mit Hilfe eines Python-Scripts künstlich erzeugt und beinhalten somit keine reale Zahlungs- oder Kunden-Informationen.   \n",
        "\n",
        "Datenselektion:\n",
        "\n",
        "- 20'800 synthetische Kunden (Vorname, Name, Strasse, Ort, Kanton, Sprachregion, Geschlecht, Alter, Zivilstand,  Nationalität, Kontonummer, Vertragsnummer, Rechtsform)\n",
        "\n",
        "- 60'000 synthetische Zahlungen (Transaktionsid, ,Erstellungdatum/Zeit, Empfängerkonto, Empfängerbank, Empfängerland, Währung, Betrag, Valuta Datum)\n",
        "\n",
        "\n",
        "\n",
        "\n",
        "\n",
        "\n"
      ]
    },
    {
      "cell_type": "markdown",
      "metadata": {
        "id": "4drgj5DtlDOo",
        "colab_type": "text"
      },
      "source": [
        "#Vorbereitungen# \n"
      ]
    },
    {
      "cell_type": "code",
      "metadata": {
        "id": "M9kpR8RAjMzw",
        "colab_type": "code",
        "outputId": "f6a00ac5-9457-4611-adb7-ca6cca0067bc",
        "colab": {
          "base_uri": "https://localhost:8080/",
          "height": 35
        }
      },
      "source": [
        "# import packages\n",
        "\n",
        "import pandas as pd\n",
        "import numpy as np\n",
        "from scipy import stats\n",
        "import tensorflow as tf\n",
        "import matplotlib.pyplot as plt\n",
        "import seaborn as sns\n",
        "import pickle\n",
        "from sklearn.model_selection import train_test_split\n",
        "from sklearn.metrics import confusion_matrix, precision_recall_curve\n",
        "from sklearn.metrics import recall_score, classification_report, auc, roc_curve\n",
        "from sklearn.metrics import precision_recall_fscore_support, f1_score\n",
        "from sklearn.preprocessing import StandardScaler\n",
        "from pylab import rcParams\n",
        "from keras.models import Model, load_model\n",
        "from keras.layers import Input, Dense\n",
        "from keras.callbacks import ModelCheckpoint, TensorBoard\n",
        "from keras import regularizers\n",
        "%matplotlib inline\n",
        "\n"
      ],
      "execution_count": 1,
      "outputs": [
        {
          "output_type": "stream",
          "text": [
            "Using TensorFlow backend.\n"
          ],
          "name": "stderr"
        }
      ]
    },
    {
      "cell_type": "code",
      "metadata": {
        "id": "tjFPNn0wQW6_",
        "colab_type": "code",
        "colab": {}
      },
      "source": [
        "# Laden der 600000 Transaktionsdaten \n",
        "trx_data_url = 'https://raw.githubusercontent.com/sakuronohana/cas_datenanalyse/master/Semesterarbeit/Dataset/trx_data_ml.csv'\n",
        "trx_data = pd.read_csv(trx_data_url, delimiter=';')\n",
        "\n",
        "print (trx_data.shape)\n",
        "trx_data.head()"
      ],
      "execution_count": 0,
      "outputs": []
    },
    {
      "cell_type": "code",
      "metadata": {
        "id": "AAMF1GtqQZKg",
        "colab_type": "code",
        "colab": {}
      },
      "source": [
        "# Laden der 600000 Transaktionsdaten \n",
        "trx_data_url = 'https://raw.githubusercontent.com/sakuronohana/cas_datenanalyse/master/Semesterarbeit/Dataset/trx_data_ml.csv'\n",
        "trx_data = pd.read_csv(trx_data_url, delimiter=';')\n",
        "\n",
        "print (trx_data.shape)\n",
        "trx_data.head()"
      ],
      "execution_count": 0,
      "outputs": []
    },
    {
      "cell_type": "code",
      "metadata": {
        "id": "58LKttDap8j4",
        "colab_type": "code",
        "colab": {
          "base_uri": "https://localhost:8080/",
          "height": 322
        },
        "outputId": "2af23ff9-a8ad-4597-9469-608bc0f65192"
      },
      "source": [
        "# Erstellung Datensatz mit Label für Supervised Learning\n",
        "\n",
        "tdm = trx_data\n",
        "\n",
        "print (tdm.shape)\n",
        "tdm.head()"
      ],
      "execution_count": 3,
      "outputs": [
        {
          "output_type": "stream",
          "text": [
            "(60000, 20)\n"
          ],
          "name": "stdout"
        },
        {
          "output_type": "execute_result",
          "data": {
            "text/plain": [
              "        timestamp   paym_id   send_bc_nr  amount    rcv_bc_nr  \\\n",
              "0  01.01.18 08:00  10000010  CHBANK71XXX   15368  JOBANK40XXX   \n",
              "1  01.01.18 08:00  10000011  CHBANK71XXX   89137  STBANK68XXX   \n",
              "2  01.01.18 08:01  10000012  CHBANK71XXX   87673  XKBANK43XXX   \n",
              "3  01.01.18 08:01  10000013  CHBANK71XXX   55941  RSBANK72XXX   \n",
              "4  01.01.18 08:02  10000014  CHBANK71XXX   88173  LIBANK48XXX   \n",
              "\n",
              "                      rcv_bc_iban         rcv_bc_country rcv_bc_code  \\\n",
              "0  JO02SCBL1260000000018525836101              Jordanien          JO   \n",
              "1       ST23000200000289355710148  Sao Tome und Principe          ST   \n",
              "2            XK051301001002074155                 Kosovo          XK   \n",
              "3          RS35105008054113238018                Serbien          RS   \n",
              "4           LI0308800000022875748          Liechtenstein          LI   \n",
              "\n",
              "              rcv_iban     valuta_date  cust_vertrag_nr  \\\n",
              "0  JO40002096331755419  01.01.18 08:00            76311   \n",
              "1  ST68002492808312214  01.01.18 20:00            69891   \n",
              "2  XK43002422391264290  02.01.18 08:01            78573   \n",
              "3  RS72002873180573624  02.01.18 20:01            75443   \n",
              "4  LI48002899580343897  03.01.18 08:02            73167   \n",
              "\n",
              "           cust_konto_nr  cust_vname cust_nname  cust_plz     cust_ort  \\\n",
              "0  CH5300772672529640195      Martin      Bader      6020  Emmenbrücke   \n",
              "1  CH5300772670061796126  Margaretha       Fehr      9056         Gais   \n",
              "2  CH5300772500037725234      Daniel   Miéville      1253  Vandoeuvres   \n",
              "3  CH5300772732508635138      Andrea      Iseni      6026         Rain   \n",
              "4  CH5300772640237288398      Andrea     Pinana      6693      Broglio   \n",
              "\n",
              "  cust_kanton cust_sprachregion cust_auth_device  fraud_id  \n",
              "0          LU                de             mtan         0  \n",
              "1          AR                de             ptan         0  \n",
              "2          GE                fr             ptan         0  \n",
              "3          LU                de             mtan         0  \n",
              "4          TI                it             mtan         0  "
            ],
            "text/html": [
              "<div>\n",
              "<style scoped>\n",
              "    .dataframe tbody tr th:only-of-type {\n",
              "        vertical-align: middle;\n",
              "    }\n",
              "\n",
              "    .dataframe tbody tr th {\n",
              "        vertical-align: top;\n",
              "    }\n",
              "\n",
              "    .dataframe thead th {\n",
              "        text-align: right;\n",
              "    }\n",
              "</style>\n",
              "<table border=\"1\" class=\"dataframe\">\n",
              "  <thead>\n",
              "    <tr style=\"text-align: right;\">\n",
              "      <th></th>\n",
              "      <th>timestamp</th>\n",
              "      <th>paym_id</th>\n",
              "      <th>send_bc_nr</th>\n",
              "      <th>amount</th>\n",
              "      <th>rcv_bc_nr</th>\n",
              "      <th>rcv_bc_iban</th>\n",
              "      <th>rcv_bc_country</th>\n",
              "      <th>rcv_bc_code</th>\n",
              "      <th>rcv_iban</th>\n",
              "      <th>valuta_date</th>\n",
              "      <th>cust_vertrag_nr</th>\n",
              "      <th>cust_konto_nr</th>\n",
              "      <th>cust_vname</th>\n",
              "      <th>cust_nname</th>\n",
              "      <th>cust_plz</th>\n",
              "      <th>cust_ort</th>\n",
              "      <th>cust_kanton</th>\n",
              "      <th>cust_sprachregion</th>\n",
              "      <th>cust_auth_device</th>\n",
              "      <th>fraud_id</th>\n",
              "    </tr>\n",
              "  </thead>\n",
              "  <tbody>\n",
              "    <tr>\n",
              "      <th>0</th>\n",
              "      <td>01.01.18 08:00</td>\n",
              "      <td>10000010</td>\n",
              "      <td>CHBANK71XXX</td>\n",
              "      <td>15368</td>\n",
              "      <td>JOBANK40XXX</td>\n",
              "      <td>JO02SCBL1260000000018525836101</td>\n",
              "      <td>Jordanien</td>\n",
              "      <td>JO</td>\n",
              "      <td>JO40002096331755419</td>\n",
              "      <td>01.01.18 08:00</td>\n",
              "      <td>76311</td>\n",
              "      <td>CH5300772672529640195</td>\n",
              "      <td>Martin</td>\n",
              "      <td>Bader</td>\n",
              "      <td>6020</td>\n",
              "      <td>Emmenbrücke</td>\n",
              "      <td>LU</td>\n",
              "      <td>de</td>\n",
              "      <td>mtan</td>\n",
              "      <td>0</td>\n",
              "    </tr>\n",
              "    <tr>\n",
              "      <th>1</th>\n",
              "      <td>01.01.18 08:00</td>\n",
              "      <td>10000011</td>\n",
              "      <td>CHBANK71XXX</td>\n",
              "      <td>89137</td>\n",
              "      <td>STBANK68XXX</td>\n",
              "      <td>ST23000200000289355710148</td>\n",
              "      <td>Sao Tome und Principe</td>\n",
              "      <td>ST</td>\n",
              "      <td>ST68002492808312214</td>\n",
              "      <td>01.01.18 20:00</td>\n",
              "      <td>69891</td>\n",
              "      <td>CH5300772670061796126</td>\n",
              "      <td>Margaretha</td>\n",
              "      <td>Fehr</td>\n",
              "      <td>9056</td>\n",
              "      <td>Gais</td>\n",
              "      <td>AR</td>\n",
              "      <td>de</td>\n",
              "      <td>ptan</td>\n",
              "      <td>0</td>\n",
              "    </tr>\n",
              "    <tr>\n",
              "      <th>2</th>\n",
              "      <td>01.01.18 08:01</td>\n",
              "      <td>10000012</td>\n",
              "      <td>CHBANK71XXX</td>\n",
              "      <td>87673</td>\n",
              "      <td>XKBANK43XXX</td>\n",
              "      <td>XK051301001002074155</td>\n",
              "      <td>Kosovo</td>\n",
              "      <td>XK</td>\n",
              "      <td>XK43002422391264290</td>\n",
              "      <td>02.01.18 08:01</td>\n",
              "      <td>78573</td>\n",
              "      <td>CH5300772500037725234</td>\n",
              "      <td>Daniel</td>\n",
              "      <td>Miéville</td>\n",
              "      <td>1253</td>\n",
              "      <td>Vandoeuvres</td>\n",
              "      <td>GE</td>\n",
              "      <td>fr</td>\n",
              "      <td>ptan</td>\n",
              "      <td>0</td>\n",
              "    </tr>\n",
              "    <tr>\n",
              "      <th>3</th>\n",
              "      <td>01.01.18 08:01</td>\n",
              "      <td>10000013</td>\n",
              "      <td>CHBANK71XXX</td>\n",
              "      <td>55941</td>\n",
              "      <td>RSBANK72XXX</td>\n",
              "      <td>RS35105008054113238018</td>\n",
              "      <td>Serbien</td>\n",
              "      <td>RS</td>\n",
              "      <td>RS72002873180573624</td>\n",
              "      <td>02.01.18 20:01</td>\n",
              "      <td>75443</td>\n",
              "      <td>CH5300772732508635138</td>\n",
              "      <td>Andrea</td>\n",
              "      <td>Iseni</td>\n",
              "      <td>6026</td>\n",
              "      <td>Rain</td>\n",
              "      <td>LU</td>\n",
              "      <td>de</td>\n",
              "      <td>mtan</td>\n",
              "      <td>0</td>\n",
              "    </tr>\n",
              "    <tr>\n",
              "      <th>4</th>\n",
              "      <td>01.01.18 08:02</td>\n",
              "      <td>10000014</td>\n",
              "      <td>CHBANK71XXX</td>\n",
              "      <td>88173</td>\n",
              "      <td>LIBANK48XXX</td>\n",
              "      <td>LI0308800000022875748</td>\n",
              "      <td>Liechtenstein</td>\n",
              "      <td>LI</td>\n",
              "      <td>LI48002899580343897</td>\n",
              "      <td>03.01.18 08:02</td>\n",
              "      <td>73167</td>\n",
              "      <td>CH5300772640237288398</td>\n",
              "      <td>Andrea</td>\n",
              "      <td>Pinana</td>\n",
              "      <td>6693</td>\n",
              "      <td>Broglio</td>\n",
              "      <td>TI</td>\n",
              "      <td>it</td>\n",
              "      <td>mtan</td>\n",
              "      <td>0</td>\n",
              "    </tr>\n",
              "  </tbody>\n",
              "</table>\n",
              "</div>"
            ]
          },
          "metadata": {
            "tags": []
          },
          "execution_count": 3
        }
      ]
    },
    {
      "cell_type": "code",
      "metadata": {
        "id": "lIzDI6k_qQ10",
        "colab_type": "code",
        "colab": {}
      },
      "source": [
        "# Erstellung Datensatz ohne Label für Unsupervised Learning\n",
        "\n",
        "features = ['timestamp','paym_id','send_bc_nr','amount','rcv_bc_nr', \n",
        "            'rcv_bc_iban','rcv_bc_country','rcv_bc_code','rcv_iban',\n",
        "            'valuta_date','cust_vertrag_nr','cust_konto_nr','cust_vname',\n",
        "            'cust_nname','cust_plz','cust_ort','cust_kanton','cust_sprachregion',\n",
        "            'cust_auth_device'] \n",
        "\n",
        "tdo = pd.DataFrame((trx_data.loc[:, features].values),columns=[features])\n",
        "print (tdo.shape)\n",
        "tdo.head()\n",
        "\n"
      ],
      "execution_count": 0,
      "outputs": []
    },
    {
      "cell_type": "markdown",
      "metadata": {
        "id": "TmODZafznm1I",
        "colab_type": "text"
      },
      "source": [
        "##Vorbereitung für Datenverarbeitung ##"
      ]
    },
    {
      "cell_type": "code",
      "metadata": {
        "id": "D2GAbTbYoRZ6",
        "colab_type": "code",
        "colab": {}
      },
      "source": [
        "# Bestimmte Daten in das richtige Format konvertieren\n",
        "\n",
        "# timestamp in Datums-und Zeitformat umwandeln\n",
        "trx_data_ol.timestamp = pd.to_datetime(trx_data_ol['timestamp'])\n",
        "trx_data_ol.valuta_date = pd.to_datetime(trx_data_ol['valuta_date'])\n",
        "\n",
        "#Suche des Datensatzes nach Null-Werten\n",
        "trx_data_ol.isnull().values.sum()\n",
        "\n",
        "# Entfernen von offensichtlich nicht notwendiger Features wie Timestamp\n",
        "# paym_id, valuta_date, paym_id\n",
        "'''\n",
        "trx_data_ol = pd.DataFrame(trx_data_ol, columns=['send_bc_nr','amount','rcv_bc_nr', \n",
        "                                                 'rcv_bc_iban','rcv_bc_country','rcv_bc_code','rcv_iban',\n",
        "                                                  'cust_vertrag_nr','cust_konto_nr','cust_vname',\n",
        "                                                  'cust_nname','cust_plz','cust_ort','cust_kanton','cust_sprachregion',\n",
        "                                                  'cust_auth_device'])\n",
        "'''                             \n",
        "\n",
        "\n"
      ],
      "execution_count": 0,
      "outputs": []
    },
    {
      "cell_type": "markdown",
      "metadata": {
        "id": "83xNdxJPnPAk",
        "colab_type": "text"
      },
      "source": [
        "###Standardisierung der Daten###\n",
        "\n",
        "Zur optimalen Verwendung der Daten für ein Neuronales Netzwerk werden die Daten in ein einheitliches Format gebracht."
      ]
    },
    {
      "cell_type": "code",
      "metadata": {
        "id": "QmlTH7_VnDWd",
        "colab_type": "code",
        "colab": {}
      },
      "source": [
        ""
      ],
      "execution_count": 0,
      "outputs": []
    },
    {
      "cell_type": "markdown",
      "metadata": {
        "id": "Lz_l4l9VX0jr",
        "colab_type": "text"
      },
      "source": [
        "#Erkennung von Betrugszahlungen# \n",
        "\n",
        "##Unsupervised Learning mit neuronalen Netzwerken##"
      ]
    },
    {
      "cell_type": "markdown",
      "metadata": {
        "id": "fPNBtxFmnQg7",
        "colab_type": "text"
      },
      "source": [
        "###Importieren der ungelabelten Fraud-Zahlungsdaten###"
      ]
    },
    {
      "cell_type": "code",
      "metadata": {
        "id": "KAfYIHVsQs6e",
        "colab_type": "code",
        "colab": {}
      },
      "source": [
        "trx_data_ol = tdo "
      ],
      "execution_count": 0,
      "outputs": []
    },
    {
      "cell_type": "code",
      "metadata": {
        "id": "VIpz6SuFOTl7",
        "colab_type": "code",
        "colab": {}
      },
      "source": [
        "trx_data_ol.head()"
      ],
      "execution_count": 0,
      "outputs": []
    },
    {
      "cell_type": "code",
      "metadata": {
        "id": "YQsYGKCeHJgt",
        "colab_type": "code",
        "colab": {
          "base_uri": "https://localhost:8080/",
          "height": 289
        },
        "outputId": "65f38128-b109-48ea-aefb-007854109cb9"
      },
      "source": [
        "\n",
        "ts = pd.DataFrame(trx_data_ol['timestamp'], columns=['timestamp'])\n",
        "sbn = pd.DataFrame(pd.get_dummies(trx_data_ol['send_bc_nr'], columns=['send_bc_nr'],dtype=float))\n",
        "rbn = pd.DataFrame(pd.get_dummies(trx_data_ol['rcv_bc_nr'], columns=['rcv_bc_nr'],dtype=float))\n",
        "rbi = pd.DataFrame(pd.get_dummies(trx_data_ol['rcv_bc_iban'], columns=['rcv_bc_iban'],dtype=float))\n",
        "tdo_nn = pd.concat([ts,sbn,rbn,rbi],axis=1)\n",
        "tdo_float = tdo_nn.select_dtypes(include ='float')\n",
        "tdo_nn['timestamp'] = StandardScaler().fit_transform(tdo_nn['timestamp'].values.reshape(-1, 1))\n",
        "#tdo_nn(tdo_float) = StandardScaler().fit_transform(tdo_nn(tdo_float).values.reshape(-1, 1))\n",
        "tdo_nn = StandardScaler().fit_transform(tdo_nn)\n",
        "\n",
        "tdo_nn.head()"
      ],
      "execution_count": 29,
      "outputs": [
        {
          "output_type": "stream",
          "text": [
            "/Users/dili/anaconda3/lib/python3.6/site-packages/sklearn/utils/validation.py:595: DataConversionWarning: Data with input dtype datetime64[ns] was converted to float64 by StandardScaler.\n",
            "  warnings.warn(msg, DataConversionWarning)\n",
            "/Users/dili/anaconda3/lib/python3.6/site-packages/sklearn/utils/validation.py:595: DataConversionWarning: Data with input dtype datetime64[ns] was converted to float64 by StandardScaler.\n",
            "  warnings.warn(msg, DataConversionWarning)\n"
          ],
          "name": "stderr"
        },
        {
          "output_type": "error",
          "ename": "AttributeError",
          "evalue": "ignored",
          "traceback": [
            "\u001b[0;31m---------------------------------------------------------------------------\u001b[0m",
            "\u001b[0;31mAttributeError\u001b[0m                            Traceback (most recent call last)",
            "\u001b[0;32m<ipython-input-29-5f2ae968fb27>\u001b[0m in \u001b[0;36m<module>\u001b[0;34m\u001b[0m\n\u001b[1;32m     10\u001b[0m \u001b[0mtdo_nn\u001b[0m \u001b[0;34m=\u001b[0m \u001b[0mStandardScaler\u001b[0m\u001b[0;34m(\u001b[0m\u001b[0;34m)\u001b[0m\u001b[0;34m.\u001b[0m\u001b[0mfit_transform\u001b[0m\u001b[0;34m(\u001b[0m\u001b[0mtdo_nn\u001b[0m\u001b[0;34m)\u001b[0m\u001b[0;34m\u001b[0m\u001b[0;34m\u001b[0m\u001b[0m\n\u001b[1;32m     11\u001b[0m \u001b[0;34m\u001b[0m\u001b[0m\n\u001b[0;32m---> 12\u001b[0;31m \u001b[0mtdo_nn\u001b[0m\u001b[0;34m.\u001b[0m\u001b[0mhead\u001b[0m\u001b[0;34m(\u001b[0m\u001b[0;34m)\u001b[0m\u001b[0;34m\u001b[0m\u001b[0;34m\u001b[0m\u001b[0m\n\u001b[0m",
            "\u001b[0;31mAttributeError\u001b[0m: 'numpy.ndarray' object has no attribute 'head'"
          ]
        }
      ]
    },
    {
      "cell_type": "code",
      "metadata": {
        "id": "AdOJozyhMOeB",
        "colab_type": "code",
        "outputId": "b2e99e0b-ff53-4bd3-d83d-ccfb8d4fcd22",
        "colab": {
          "base_uri": "https://localhost:8080/",
          "height": 106
        }
      },
      "source": [
        "trx_data_ol_new = StandardScaler().fit_transform(trx_data_ol_new.values.reshape(-1, 1))"
      ],
      "execution_count": 0,
      "outputs": [
        {
          "output_type": "stream",
          "text": [
            "/Users/dili/anaconda3/lib/python3.6/site-packages/sklearn/utils/validation.py:595: DataConversionWarning: Data with input dtype uint8 was converted to float64 by StandardScaler.\n",
            "  warnings.warn(msg, DataConversionWarning)\n",
            "/Users/dili/anaconda3/lib/python3.6/site-packages/sklearn/utils/validation.py:595: DataConversionWarning: Data with input dtype uint8 was converted to float64 by StandardScaler.\n",
            "  warnings.warn(msg, DataConversionWarning)\n"
          ],
          "name": "stderr"
        }
      ]
    },
    {
      "cell_type": "code",
      "metadata": {
        "id": "gx-34WkiLHW9",
        "colab_type": "code",
        "outputId": "ca3767f2-9391-43e0-e15a-41b638d4fc24",
        "colab": {
          "base_uri": "https://localhost:8080/",
          "height": 165
        }
      },
      "source": [
        "trx_data_ol_new.dtypes\n"
      ],
      "execution_count": 0,
      "outputs": [
        {
          "output_type": "error",
          "ename": "AttributeError",
          "evalue": "ignored",
          "traceback": [
            "\u001b[0;31m---------------------------------------------------------------------------\u001b[0m",
            "\u001b[0;31mAttributeError\u001b[0m                            Traceback (most recent call last)",
            "\u001b[0;32m<ipython-input-9-4dff9dd52587>\u001b[0m in \u001b[0;36m<module>\u001b[0;34m\u001b[0m\n\u001b[0;32m----> 1\u001b[0;31m \u001b[0mtrx_data_ol_new\u001b[0m\u001b[0;34m.\u001b[0m\u001b[0mdtypes\u001b[0m\u001b[0;34m\u001b[0m\u001b[0;34m\u001b[0m\u001b[0m\n\u001b[0m",
            "\u001b[0;31mAttributeError\u001b[0m: 'numpy.ndarray' object has no attribute 'dtypes'"
          ]
        }
      ]
    },
    {
      "cell_type": "markdown",
      "metadata": {
        "id": "POjMMOv1eaOg",
        "colab_type": "text"
      },
      "source": [
        "**Encoding kategorische Werte in nummerische Werte**"
      ]
    },
    {
      "cell_type": "code",
      "metadata": {
        "id": "Q3jR2c3xCKGm",
        "colab_type": "code",
        "outputId": "0c34392a-99e6-4b5a-ab6a-5f179a4b9279",
        "colab": {
          "base_uri": "https://localhost:8080/",
          "height": 399
        }
      },
      "source": [
        "\n",
        "#Encoding Daten mit Dtype Object in nummerische Werte\n",
        "#trx_data_ol = pd.get_dummies(trx_data_ol, prefix_sep='_', drop_first=True)\n",
        "trx_data_ol_ec = pd.get_dummies(trx_data_ol, columns=['send_bc_nr','rcv_bc_iban','rcv_bc_country','rcv_bc_nr', \n",
        "                                                 'rcv_bc_iban','rcv_bc_country','rcv_bc_code','rcv_iban',\n",
        "                                                  'cust_konto_nr','cust_vname',\n",
        "                                                  'cust_nname','cust_ort','cust_kanton','cust_sprachregion',\n",
        "                                                  'cust_auth_device'],drop_first=True)\n",
        "\n",
        "trx_data_ol_ec.head()"
      ],
      "execution_count": 29,
      "outputs": [
        {
          "output_type": "error",
          "ename": "KeyboardInterrupt",
          "evalue": "ignored",
          "traceback": [
            "\u001b[0;31m---------------------------------------------------------------------------\u001b[0m",
            "\u001b[0;31mKeyboardInterrupt\u001b[0m                         Traceback (most recent call last)",
            "\u001b[0;32m<ipython-input-29-c33696627001>\u001b[0m in \u001b[0;36m<module>\u001b[0;34m()\u001b[0m\n\u001b[1;32m      3\u001b[0m                                                   \u001b[0;34m'cust_konto_nr'\u001b[0m\u001b[0;34m,\u001b[0m\u001b[0;34m'cust_vname'\u001b[0m\u001b[0;34m,\u001b[0m\u001b[0;34m\u001b[0m\u001b[0;34m\u001b[0m\u001b[0m\n\u001b[1;32m      4\u001b[0m                                                   \u001b[0;34m'cust_nname'\u001b[0m\u001b[0;34m,\u001b[0m\u001b[0;34m'cust_ort'\u001b[0m\u001b[0;34m,\u001b[0m\u001b[0;34m'cust_kanton'\u001b[0m\u001b[0;34m,\u001b[0m\u001b[0;34m'cust_sprachregion'\u001b[0m\u001b[0;34m,\u001b[0m\u001b[0;34m\u001b[0m\u001b[0;34m\u001b[0m\u001b[0m\n\u001b[0;32m----> 5\u001b[0;31m                                                   'cust_auth_device'],drop_first=True)\n\u001b[0m\u001b[1;32m      6\u001b[0m \u001b[0;34m\u001b[0m\u001b[0m\n\u001b[1;32m      7\u001b[0m \u001b[0mtrx_data_ol_ec\u001b[0m\u001b[0;34m.\u001b[0m\u001b[0mhead\u001b[0m\u001b[0;34m(\u001b[0m\u001b[0;34m)\u001b[0m\u001b[0;34m\u001b[0m\u001b[0;34m\u001b[0m\u001b[0m\n",
            "\u001b[0;32m/usr/local/lib/python3.6/dist-packages/pandas/core/reshape/reshape.py\u001b[0m in \u001b[0;36mget_dummies\u001b[0;34m(data, prefix, prefix_sep, dummy_na, columns, sparse, drop_first, dtype)\u001b[0m\n\u001b[1;32m    859\u001b[0m                                     drop_first=drop_first, dtype=dtype)\n\u001b[1;32m    860\u001b[0m             \u001b[0mwith_dummies\u001b[0m\u001b[0;34m.\u001b[0m\u001b[0mappend\u001b[0m\u001b[0;34m(\u001b[0m\u001b[0mdummy\u001b[0m\u001b[0;34m)\u001b[0m\u001b[0;34m\u001b[0m\u001b[0;34m\u001b[0m\u001b[0m\n\u001b[0;32m--> 861\u001b[0;31m         \u001b[0mresult\u001b[0m \u001b[0;34m=\u001b[0m \u001b[0mconcat\u001b[0m\u001b[0;34m(\u001b[0m\u001b[0mwith_dummies\u001b[0m\u001b[0;34m,\u001b[0m \u001b[0maxis\u001b[0m\u001b[0;34m=\u001b[0m\u001b[0;36m1\u001b[0m\u001b[0;34m)\u001b[0m\u001b[0;34m\u001b[0m\u001b[0;34m\u001b[0m\u001b[0m\n\u001b[0m\u001b[1;32m    862\u001b[0m     \u001b[0;32melse\u001b[0m\u001b[0;34m:\u001b[0m\u001b[0;34m\u001b[0m\u001b[0;34m\u001b[0m\u001b[0m\n\u001b[1;32m    863\u001b[0m         result = _get_dummies_1d(data, prefix, prefix_sep, dummy_na,\n",
            "\u001b[0;32m/usr/local/lib/python3.6/dist-packages/pandas/core/reshape/concat.py\u001b[0m in \u001b[0;36mconcat\u001b[0;34m(objs, axis, join, join_axes, ignore_index, keys, levels, names, verify_integrity, sort, copy)\u001b[0m\n\u001b[1;32m    227\u001b[0m                        \u001b[0mverify_integrity\u001b[0m\u001b[0;34m=\u001b[0m\u001b[0mverify_integrity\u001b[0m\u001b[0;34m,\u001b[0m\u001b[0;34m\u001b[0m\u001b[0;34m\u001b[0m\u001b[0m\n\u001b[1;32m    228\u001b[0m                        copy=copy, sort=sort)\n\u001b[0;32m--> 229\u001b[0;31m     \u001b[0;32mreturn\u001b[0m \u001b[0mop\u001b[0m\u001b[0;34m.\u001b[0m\u001b[0mget_result\u001b[0m\u001b[0;34m(\u001b[0m\u001b[0;34m)\u001b[0m\u001b[0;34m\u001b[0m\u001b[0;34m\u001b[0m\u001b[0m\n\u001b[0m\u001b[1;32m    230\u001b[0m \u001b[0;34m\u001b[0m\u001b[0m\n\u001b[1;32m    231\u001b[0m \u001b[0;34m\u001b[0m\u001b[0m\n",
            "\u001b[0;32m/usr/local/lib/python3.6/dist-packages/pandas/core/reshape/concat.py\u001b[0m in \u001b[0;36mget_result\u001b[0;34m(self)\u001b[0m\n\u001b[1;32m    424\u001b[0m             new_data = concatenate_block_managers(\n\u001b[1;32m    425\u001b[0m                 \u001b[0mmgrs_indexers\u001b[0m\u001b[0;34m,\u001b[0m \u001b[0mself\u001b[0m\u001b[0;34m.\u001b[0m\u001b[0mnew_axes\u001b[0m\u001b[0;34m,\u001b[0m \u001b[0mconcat_axis\u001b[0m\u001b[0;34m=\u001b[0m\u001b[0mself\u001b[0m\u001b[0;34m.\u001b[0m\u001b[0maxis\u001b[0m\u001b[0;34m,\u001b[0m\u001b[0;34m\u001b[0m\u001b[0;34m\u001b[0m\u001b[0m\n\u001b[0;32m--> 426\u001b[0;31m                 copy=self.copy)\n\u001b[0m\u001b[1;32m    427\u001b[0m             \u001b[0;32mif\u001b[0m \u001b[0;32mnot\u001b[0m \u001b[0mself\u001b[0m\u001b[0;34m.\u001b[0m\u001b[0mcopy\u001b[0m\u001b[0;34m:\u001b[0m\u001b[0;34m\u001b[0m\u001b[0;34m\u001b[0m\u001b[0m\n\u001b[1;32m    428\u001b[0m                 \u001b[0mnew_data\u001b[0m\u001b[0;34m.\u001b[0m\u001b[0m_consolidate_inplace\u001b[0m\u001b[0;34m(\u001b[0m\u001b[0;34m)\u001b[0m\u001b[0;34m\u001b[0m\u001b[0;34m\u001b[0m\u001b[0m\n",
            "\u001b[0;32m/usr/local/lib/python3.6/dist-packages/pandas/core/internals/managers.py\u001b[0m in \u001b[0;36mconcatenate_block_managers\u001b[0;34m(mgrs_indexers, axes, concat_axis, copy)\u001b[0m\n\u001b[1;32m   2050\u001b[0m             \u001b[0mvalues\u001b[0m \u001b[0;34m=\u001b[0m \u001b[0mb\u001b[0m\u001b[0;34m.\u001b[0m\u001b[0mvalues\u001b[0m\u001b[0;34m\u001b[0m\u001b[0;34m\u001b[0m\u001b[0m\n\u001b[1;32m   2051\u001b[0m             \u001b[0;32mif\u001b[0m \u001b[0mcopy\u001b[0m\u001b[0;34m:\u001b[0m\u001b[0;34m\u001b[0m\u001b[0;34m\u001b[0m\u001b[0m\n\u001b[0;32m-> 2052\u001b[0;31m                 \u001b[0mvalues\u001b[0m \u001b[0;34m=\u001b[0m \u001b[0mvalues\u001b[0m\u001b[0;34m.\u001b[0m\u001b[0mcopy\u001b[0m\u001b[0;34m(\u001b[0m\u001b[0;34m)\u001b[0m\u001b[0;34m\u001b[0m\u001b[0;34m\u001b[0m\u001b[0m\n\u001b[0m\u001b[1;32m   2053\u001b[0m             \u001b[0;32melif\u001b[0m \u001b[0;32mnot\u001b[0m \u001b[0mcopy\u001b[0m\u001b[0;34m:\u001b[0m\u001b[0;34m\u001b[0m\u001b[0;34m\u001b[0m\u001b[0m\n\u001b[1;32m   2054\u001b[0m                 \u001b[0mvalues\u001b[0m \u001b[0;34m=\u001b[0m \u001b[0mvalues\u001b[0m\u001b[0;34m.\u001b[0m\u001b[0mview\u001b[0m\u001b[0;34m(\u001b[0m\u001b[0;34m)\u001b[0m\u001b[0;34m\u001b[0m\u001b[0;34m\u001b[0m\u001b[0m\n",
            "\u001b[0;31mKeyboardInterrupt\u001b[0m: "
          ]
        }
      ]
    },
    {
      "cell_type": "code",
      "metadata": {
        "id": "-vCgNgqShvDw",
        "colab_type": "code",
        "outputId": "2092447f-5b8f-4d82-dc70-376030b4d8c8",
        "colab": {
          "base_uri": "https://localhost:8080/",
          "height": 1274
        }
      },
      "source": [
        "'''\n",
        "trx_data_ol.astype (trx_data_ol, columns=['send_bc_nr','rcv_bc_nr', \n",
        "                                                 'rcv_bc_iban','rcv_bc_country','rcv_bc_code','rcv_iban',\n",
        "                                                  'cust_konto_nr','cust_vname',\n",
        "                                                  'cust_nname','cust_ort','cust_kanton','cust_sprachregion',\n",
        "                                                  'cust_auth_device'])\n",
        "\n",
        "'''\n",
        "trx_data_ol['timestamp'] = StandardScaler().fit_transform(trx_data_ol['timestamp'].values.reshape(-1, 1))\n",
        "trx_data_ol['paym_id'] = StandardScaler().fit_transform(trx_data_ol['paym_id'].values.reshape(-1, 1))\n",
        "trx_data_ol['amount'] = StandardScaler().fit_transform(trx_data_ol['amount'].values.reshape(-1, 1))\n",
        "trx_data_ol['valuta_date'] = StandardScaler().fit_transform(trx_data_ol['valuta_date'].values.reshape(-1, 1))\n",
        "trx_data_ol['cust_vertrag_nr'] = StandardScaler().fit_transform(trx_data_ol['valuta_date'].values.reshape(-1, 1))\n",
        "trx_data_ol['cust_plz'] = StandardScaler().fit_transform(trx_data_ol['cust_vertrag_nr'].values.reshape(-1, 1))\n",
        "trx_data_ol['cust_konto_nr'] = StandardScaler().fit_transform(trx_data_ol['cust_konto_nr'].values.reshape(-1, 1))\n"
      ],
      "execution_count": 0,
      "outputs": [
        {
          "output_type": "error",
          "ename": "KeyError",
          "evalue": "ignored",
          "traceback": [
            "\u001b[0;31m---------------------------------------------------------------------------\u001b[0m",
            "\u001b[0;31mKeyError\u001b[0m                                  Traceback (most recent call last)",
            "\u001b[0;32m~/anaconda3/lib/python3.6/site-packages/pandas/core/indexes/base.py\u001b[0m in \u001b[0;36mget_loc\u001b[0;34m(self, key, method, tolerance)\u001b[0m\n\u001b[1;32m   3077\u001b[0m             \u001b[0;32mtry\u001b[0m\u001b[0;34m:\u001b[0m\u001b[0;34m\u001b[0m\u001b[0;34m\u001b[0m\u001b[0m\n\u001b[0;32m-> 3078\u001b[0;31m                 \u001b[0;32mreturn\u001b[0m \u001b[0mself\u001b[0m\u001b[0;34m.\u001b[0m\u001b[0m_engine\u001b[0m\u001b[0;34m.\u001b[0m\u001b[0mget_loc\u001b[0m\u001b[0;34m(\u001b[0m\u001b[0mkey\u001b[0m\u001b[0;34m)\u001b[0m\u001b[0;34m\u001b[0m\u001b[0;34m\u001b[0m\u001b[0m\n\u001b[0m\u001b[1;32m   3079\u001b[0m             \u001b[0;32mexcept\u001b[0m \u001b[0mKeyError\u001b[0m\u001b[0;34m:\u001b[0m\u001b[0;34m\u001b[0m\u001b[0;34m\u001b[0m\u001b[0m\n",
            "\u001b[0;32mpandas/_libs/index.pyx\u001b[0m in \u001b[0;36mpandas._libs.index.IndexEngine.get_loc\u001b[0;34m()\u001b[0m\n",
            "\u001b[0;32mpandas/_libs/index.pyx\u001b[0m in \u001b[0;36mpandas._libs.index.IndexEngine.get_loc\u001b[0;34m()\u001b[0m\n",
            "\u001b[0;32mpandas/_libs/hashtable_class_helper.pxi\u001b[0m in \u001b[0;36mpandas._libs.hashtable.PyObjectHashTable.get_item\u001b[0;34m()\u001b[0m\n",
            "\u001b[0;32mpandas/_libs/hashtable_class_helper.pxi\u001b[0m in \u001b[0;36mpandas._libs.hashtable.PyObjectHashTable.get_item\u001b[0;34m()\u001b[0m\n",
            "\u001b[0;31mKeyError\u001b[0m: 'cust_konto_nr'",
            "\nDuring handling of the above exception, another exception occurred:\n",
            "\u001b[0;31mKeyError\u001b[0m                                  Traceback (most recent call last)",
            "\u001b[0;32m<ipython-input-22-1a679cca2178>\u001b[0m in \u001b[0;36m<module>\u001b[0;34m\u001b[0m\n\u001b[1;32m     13\u001b[0m \u001b[0mtrx_data_ol\u001b[0m\u001b[0;34m[\u001b[0m\u001b[0;34m'cust_vertrag_nr'\u001b[0m\u001b[0;34m]\u001b[0m \u001b[0;34m=\u001b[0m \u001b[0mStandardScaler\u001b[0m\u001b[0;34m(\u001b[0m\u001b[0;34m)\u001b[0m\u001b[0;34m.\u001b[0m\u001b[0mfit_transform\u001b[0m\u001b[0;34m(\u001b[0m\u001b[0mtrx_data_ol\u001b[0m\u001b[0;34m[\u001b[0m\u001b[0;34m'valuta_date'\u001b[0m\u001b[0;34m]\u001b[0m\u001b[0;34m.\u001b[0m\u001b[0mvalues\u001b[0m\u001b[0;34m.\u001b[0m\u001b[0mreshape\u001b[0m\u001b[0;34m(\u001b[0m\u001b[0;34m-\u001b[0m\u001b[0;36m1\u001b[0m\u001b[0;34m,\u001b[0m \u001b[0;36m1\u001b[0m\u001b[0;34m)\u001b[0m\u001b[0;34m)\u001b[0m\u001b[0;34m\u001b[0m\u001b[0;34m\u001b[0m\u001b[0m\n\u001b[1;32m     14\u001b[0m \u001b[0mtrx_data_ol\u001b[0m\u001b[0;34m[\u001b[0m\u001b[0;34m'cust_plz'\u001b[0m\u001b[0;34m]\u001b[0m \u001b[0;34m=\u001b[0m \u001b[0mStandardScaler\u001b[0m\u001b[0;34m(\u001b[0m\u001b[0;34m)\u001b[0m\u001b[0;34m.\u001b[0m\u001b[0mfit_transform\u001b[0m\u001b[0;34m(\u001b[0m\u001b[0mtrx_data_ol\u001b[0m\u001b[0;34m[\u001b[0m\u001b[0;34m'cust_vertrag_nr'\u001b[0m\u001b[0;34m]\u001b[0m\u001b[0;34m.\u001b[0m\u001b[0mvalues\u001b[0m\u001b[0;34m.\u001b[0m\u001b[0mreshape\u001b[0m\u001b[0;34m(\u001b[0m\u001b[0;34m-\u001b[0m\u001b[0;36m1\u001b[0m\u001b[0;34m,\u001b[0m \u001b[0;36m1\u001b[0m\u001b[0;34m)\u001b[0m\u001b[0;34m)\u001b[0m\u001b[0;34m\u001b[0m\u001b[0;34m\u001b[0m\u001b[0m\n\u001b[0;32m---> 15\u001b[0;31m \u001b[0mtrx_data_ol\u001b[0m\u001b[0;34m[\u001b[0m\u001b[0;34m'cust_konto_nr'\u001b[0m\u001b[0;34m]\u001b[0m \u001b[0;34m=\u001b[0m \u001b[0mStandardScaler\u001b[0m\u001b[0;34m(\u001b[0m\u001b[0;34m)\u001b[0m\u001b[0;34m.\u001b[0m\u001b[0mfit_transform\u001b[0m\u001b[0;34m(\u001b[0m\u001b[0mtrx_data_ol\u001b[0m\u001b[0;34m[\u001b[0m\u001b[0;34m'cust_konto_nr'\u001b[0m\u001b[0;34m]\u001b[0m\u001b[0;34m.\u001b[0m\u001b[0mvalues\u001b[0m\u001b[0;34m.\u001b[0m\u001b[0mreshape\u001b[0m\u001b[0;34m(\u001b[0m\u001b[0;34m-\u001b[0m\u001b[0;36m1\u001b[0m\u001b[0;34m,\u001b[0m \u001b[0;36m1\u001b[0m\u001b[0;34m)\u001b[0m\u001b[0;34m)\u001b[0m\u001b[0;34m\u001b[0m\u001b[0;34m\u001b[0m\u001b[0m\n\u001b[0m",
            "\u001b[0;32m~/anaconda3/lib/python3.6/site-packages/pandas/core/frame.py\u001b[0m in \u001b[0;36m__getitem__\u001b[0;34m(self, key)\u001b[0m\n\u001b[1;32m   2686\u001b[0m             \u001b[0;32mreturn\u001b[0m \u001b[0mself\u001b[0m\u001b[0;34m.\u001b[0m\u001b[0m_getitem_multilevel\u001b[0m\u001b[0;34m(\u001b[0m\u001b[0mkey\u001b[0m\u001b[0;34m)\u001b[0m\u001b[0;34m\u001b[0m\u001b[0;34m\u001b[0m\u001b[0m\n\u001b[1;32m   2687\u001b[0m         \u001b[0;32melse\u001b[0m\u001b[0;34m:\u001b[0m\u001b[0;34m\u001b[0m\u001b[0;34m\u001b[0m\u001b[0m\n\u001b[0;32m-> 2688\u001b[0;31m             \u001b[0;32mreturn\u001b[0m \u001b[0mself\u001b[0m\u001b[0;34m.\u001b[0m\u001b[0m_getitem_column\u001b[0m\u001b[0;34m(\u001b[0m\u001b[0mkey\u001b[0m\u001b[0;34m)\u001b[0m\u001b[0;34m\u001b[0m\u001b[0;34m\u001b[0m\u001b[0m\n\u001b[0m\u001b[1;32m   2689\u001b[0m \u001b[0;34m\u001b[0m\u001b[0m\n\u001b[1;32m   2690\u001b[0m     \u001b[0;32mdef\u001b[0m \u001b[0m_getitem_column\u001b[0m\u001b[0;34m(\u001b[0m\u001b[0mself\u001b[0m\u001b[0;34m,\u001b[0m \u001b[0mkey\u001b[0m\u001b[0;34m)\u001b[0m\u001b[0;34m:\u001b[0m\u001b[0;34m\u001b[0m\u001b[0;34m\u001b[0m\u001b[0m\n",
            "\u001b[0;32m~/anaconda3/lib/python3.6/site-packages/pandas/core/frame.py\u001b[0m in \u001b[0;36m_getitem_column\u001b[0;34m(self, key)\u001b[0m\n\u001b[1;32m   2693\u001b[0m         \u001b[0;31m# get column\u001b[0m\u001b[0;34m\u001b[0m\u001b[0;34m\u001b[0m\u001b[0;34m\u001b[0m\u001b[0m\n\u001b[1;32m   2694\u001b[0m         \u001b[0;32mif\u001b[0m \u001b[0mself\u001b[0m\u001b[0;34m.\u001b[0m\u001b[0mcolumns\u001b[0m\u001b[0;34m.\u001b[0m\u001b[0mis_unique\u001b[0m\u001b[0;34m:\u001b[0m\u001b[0;34m\u001b[0m\u001b[0;34m\u001b[0m\u001b[0m\n\u001b[0;32m-> 2695\u001b[0;31m             \u001b[0;32mreturn\u001b[0m \u001b[0mself\u001b[0m\u001b[0;34m.\u001b[0m\u001b[0m_get_item_cache\u001b[0m\u001b[0;34m(\u001b[0m\u001b[0mkey\u001b[0m\u001b[0;34m)\u001b[0m\u001b[0;34m\u001b[0m\u001b[0;34m\u001b[0m\u001b[0m\n\u001b[0m\u001b[1;32m   2696\u001b[0m \u001b[0;34m\u001b[0m\u001b[0m\n\u001b[1;32m   2697\u001b[0m         \u001b[0;31m# duplicate columns & possible reduce dimensionality\u001b[0m\u001b[0;34m\u001b[0m\u001b[0;34m\u001b[0m\u001b[0;34m\u001b[0m\u001b[0m\n",
            "\u001b[0;32m~/anaconda3/lib/python3.6/site-packages/pandas/core/generic.py\u001b[0m in \u001b[0;36m_get_item_cache\u001b[0;34m(self, item)\u001b[0m\n\u001b[1;32m   2487\u001b[0m         \u001b[0mres\u001b[0m \u001b[0;34m=\u001b[0m \u001b[0mcache\u001b[0m\u001b[0;34m.\u001b[0m\u001b[0mget\u001b[0m\u001b[0;34m(\u001b[0m\u001b[0mitem\u001b[0m\u001b[0;34m)\u001b[0m\u001b[0;34m\u001b[0m\u001b[0;34m\u001b[0m\u001b[0m\n\u001b[1;32m   2488\u001b[0m         \u001b[0;32mif\u001b[0m \u001b[0mres\u001b[0m \u001b[0;32mis\u001b[0m \u001b[0;32mNone\u001b[0m\u001b[0;34m:\u001b[0m\u001b[0;34m\u001b[0m\u001b[0;34m\u001b[0m\u001b[0m\n\u001b[0;32m-> 2489\u001b[0;31m             \u001b[0mvalues\u001b[0m \u001b[0;34m=\u001b[0m \u001b[0mself\u001b[0m\u001b[0;34m.\u001b[0m\u001b[0m_data\u001b[0m\u001b[0;34m.\u001b[0m\u001b[0mget\u001b[0m\u001b[0;34m(\u001b[0m\u001b[0mitem\u001b[0m\u001b[0;34m)\u001b[0m\u001b[0;34m\u001b[0m\u001b[0;34m\u001b[0m\u001b[0m\n\u001b[0m\u001b[1;32m   2490\u001b[0m             \u001b[0mres\u001b[0m \u001b[0;34m=\u001b[0m \u001b[0mself\u001b[0m\u001b[0;34m.\u001b[0m\u001b[0m_box_item_values\u001b[0m\u001b[0;34m(\u001b[0m\u001b[0mitem\u001b[0m\u001b[0;34m,\u001b[0m \u001b[0mvalues\u001b[0m\u001b[0;34m)\u001b[0m\u001b[0;34m\u001b[0m\u001b[0;34m\u001b[0m\u001b[0m\n\u001b[1;32m   2491\u001b[0m             \u001b[0mcache\u001b[0m\u001b[0;34m[\u001b[0m\u001b[0mitem\u001b[0m\u001b[0;34m]\u001b[0m \u001b[0;34m=\u001b[0m \u001b[0mres\u001b[0m\u001b[0;34m\u001b[0m\u001b[0;34m\u001b[0m\u001b[0m\n",
            "\u001b[0;32m~/anaconda3/lib/python3.6/site-packages/pandas/core/internals.py\u001b[0m in \u001b[0;36mget\u001b[0;34m(self, item, fastpath)\u001b[0m\n\u001b[1;32m   4113\u001b[0m \u001b[0;34m\u001b[0m\u001b[0m\n\u001b[1;32m   4114\u001b[0m             \u001b[0;32mif\u001b[0m \u001b[0;32mnot\u001b[0m \u001b[0misna\u001b[0m\u001b[0;34m(\u001b[0m\u001b[0mitem\u001b[0m\u001b[0;34m)\u001b[0m\u001b[0;34m:\u001b[0m\u001b[0;34m\u001b[0m\u001b[0;34m\u001b[0m\u001b[0m\n\u001b[0;32m-> 4115\u001b[0;31m                 \u001b[0mloc\u001b[0m \u001b[0;34m=\u001b[0m \u001b[0mself\u001b[0m\u001b[0;34m.\u001b[0m\u001b[0mitems\u001b[0m\u001b[0;34m.\u001b[0m\u001b[0mget_loc\u001b[0m\u001b[0;34m(\u001b[0m\u001b[0mitem\u001b[0m\u001b[0;34m)\u001b[0m\u001b[0;34m\u001b[0m\u001b[0;34m\u001b[0m\u001b[0m\n\u001b[0m\u001b[1;32m   4116\u001b[0m             \u001b[0;32melse\u001b[0m\u001b[0;34m:\u001b[0m\u001b[0;34m\u001b[0m\u001b[0;34m\u001b[0m\u001b[0m\n\u001b[1;32m   4117\u001b[0m                 \u001b[0mindexer\u001b[0m \u001b[0;34m=\u001b[0m \u001b[0mnp\u001b[0m\u001b[0;34m.\u001b[0m\u001b[0marange\u001b[0m\u001b[0;34m(\u001b[0m\u001b[0mlen\u001b[0m\u001b[0;34m(\u001b[0m\u001b[0mself\u001b[0m\u001b[0;34m.\u001b[0m\u001b[0mitems\u001b[0m\u001b[0;34m)\u001b[0m\u001b[0;34m)\u001b[0m\u001b[0;34m[\u001b[0m\u001b[0misna\u001b[0m\u001b[0;34m(\u001b[0m\u001b[0mself\u001b[0m\u001b[0;34m.\u001b[0m\u001b[0mitems\u001b[0m\u001b[0;34m)\u001b[0m\u001b[0;34m]\u001b[0m\u001b[0;34m\u001b[0m\u001b[0;34m\u001b[0m\u001b[0m\n",
            "\u001b[0;32m~/anaconda3/lib/python3.6/site-packages/pandas/core/indexes/base.py\u001b[0m in \u001b[0;36mget_loc\u001b[0;34m(self, key, method, tolerance)\u001b[0m\n\u001b[1;32m   3078\u001b[0m                 \u001b[0;32mreturn\u001b[0m \u001b[0mself\u001b[0m\u001b[0;34m.\u001b[0m\u001b[0m_engine\u001b[0m\u001b[0;34m.\u001b[0m\u001b[0mget_loc\u001b[0m\u001b[0;34m(\u001b[0m\u001b[0mkey\u001b[0m\u001b[0;34m)\u001b[0m\u001b[0;34m\u001b[0m\u001b[0;34m\u001b[0m\u001b[0m\n\u001b[1;32m   3079\u001b[0m             \u001b[0;32mexcept\u001b[0m \u001b[0mKeyError\u001b[0m\u001b[0;34m:\u001b[0m\u001b[0;34m\u001b[0m\u001b[0;34m\u001b[0m\u001b[0m\n\u001b[0;32m-> 3080\u001b[0;31m                 \u001b[0;32mreturn\u001b[0m \u001b[0mself\u001b[0m\u001b[0;34m.\u001b[0m\u001b[0m_engine\u001b[0m\u001b[0;34m.\u001b[0m\u001b[0mget_loc\u001b[0m\u001b[0;34m(\u001b[0m\u001b[0mself\u001b[0m\u001b[0;34m.\u001b[0m\u001b[0m_maybe_cast_indexer\u001b[0m\u001b[0;34m(\u001b[0m\u001b[0mkey\u001b[0m\u001b[0;34m)\u001b[0m\u001b[0;34m)\u001b[0m\u001b[0;34m\u001b[0m\u001b[0;34m\u001b[0m\u001b[0m\n\u001b[0m\u001b[1;32m   3081\u001b[0m \u001b[0;34m\u001b[0m\u001b[0m\n\u001b[1;32m   3082\u001b[0m         \u001b[0mindexer\u001b[0m \u001b[0;34m=\u001b[0m \u001b[0mself\u001b[0m\u001b[0;34m.\u001b[0m\u001b[0mget_indexer\u001b[0m\u001b[0;34m(\u001b[0m\u001b[0;34m[\u001b[0m\u001b[0mkey\u001b[0m\u001b[0;34m]\u001b[0m\u001b[0;34m,\u001b[0m \u001b[0mmethod\u001b[0m\u001b[0;34m=\u001b[0m\u001b[0mmethod\u001b[0m\u001b[0;34m,\u001b[0m \u001b[0mtolerance\u001b[0m\u001b[0;34m=\u001b[0m\u001b[0mtolerance\u001b[0m\u001b[0;34m)\u001b[0m\u001b[0;34m\u001b[0m\u001b[0;34m\u001b[0m\u001b[0m\n",
            "\u001b[0;32mpandas/_libs/index.pyx\u001b[0m in \u001b[0;36mpandas._libs.index.IndexEngine.get_loc\u001b[0;34m()\u001b[0m\n",
            "\u001b[0;32mpandas/_libs/index.pyx\u001b[0m in \u001b[0;36mpandas._libs.index.IndexEngine.get_loc\u001b[0;34m()\u001b[0m\n",
            "\u001b[0;32mpandas/_libs/hashtable_class_helper.pxi\u001b[0m in \u001b[0;36mpandas._libs.hashtable.PyObjectHashTable.get_item\u001b[0;34m()\u001b[0m\n",
            "\u001b[0;32mpandas/_libs/hashtable_class_helper.pxi\u001b[0m in \u001b[0;36mpandas._libs.hashtable.PyObjectHashTable.get_item\u001b[0;34m()\u001b[0m\n",
            "\u001b[0;31mKeyError\u001b[0m: 'cust_konto_nr'"
          ]
        }
      ]
    },
    {
      "cell_type": "code",
      "metadata": {
        "id": "LL0rWmtRXZDl",
        "colab_type": "code",
        "outputId": "6edf68f6-fd80-4e46-f524-45b2550a2e02",
        "colab": {
          "base_uri": "https://localhost:8080/",
          "height": 1353
        }
      },
      "source": [
        "print (trx_data_ol.shape)\n",
        "print (trx_data_ol.dtypes)\n",
        "trx_data_ol.head()\n"
      ],
      "execution_count": 0,
      "outputs": [
        {
          "output_type": "stream",
          "text": [
            "(60000, 86027)\n",
            "timestamp                             float64\n",
            "paym_id                               float64\n",
            "amount                                float64\n",
            "valuta_date                           float64\n",
            "cust_vertrag_nr                       float64\n",
            "cust_plz                              float64\n",
            "rcv_bc_nr_AEBANK83XXX                   uint8\n",
            "rcv_bc_nr_ALBANK11XXX                   uint8\n",
            "rcv_bc_nr_ATBANK60XXX                   uint8\n",
            "rcv_bc_nr_AZBANK13XXX                   uint8\n",
            "rcv_bc_nr_BABANK16XXX                   uint8\n",
            "rcv_bc_nr_BEBANK15XXX                   uint8\n",
            "rcv_bc_nr_BGBANK19XXX                   uint8\n",
            "rcv_bc_nr_BHBANK14XXX                   uint8\n",
            "rcv_bc_nr_BRBANK17XXX                   uint8\n",
            "rcv_bc_nr_BYBANK84XXX                   uint8\n",
            "rcv_bc_nr_CHBANK71XXX                   uint8\n",
            "rcv_bc_nr_CRBANK20XXX                   uint8\n",
            "rcv_bc_nr_CYBANK85XXX                   uint8\n",
            "rcv_bc_nr_CZBANK79XXX                   uint8\n",
            "rcv_bc_nr_DEBANK22XXX                   uint8\n",
            "rcv_bc_nr_DKBANK21XXX                   uint8\n",
            "rcv_bc_nr_DOBANK23XXX                   uint8\n",
            "rcv_bc_nr_EEBANK25XXX                   uint8\n",
            "rcv_bc_nr_ESBANK76XXX                   uint8\n",
            "rcv_bc_nr_FIBANK27XXX                   uint8\n",
            "rcv_bc_nr_FOBANK26XXX                   uint8\n",
            "rcv_bc_nr_FRBANK28XXX                   uint8\n",
            "rcv_bc_nr_GBBANK33XXX                   uint8\n",
            "rcv_bc_nr_GEBANK29XXX                   uint8\n",
            "                                       ...   \n",
            "cust_ort_Vuarmarens                     uint8\n",
            "cust_ort_Vuippens                       uint8\n",
            "cust_ort_Vuisternens-devant-Romont      uint8\n",
            "cust_ort_Vuisternens-en-Ogoz            uint8\n",
            "cust_ort_Vésenaz                        uint8\n",
            "cust_ort_Wald AR                        uint8\n",
            "cust_ort_Waldstatt                      uint8\n",
            "cust_ort_Wallenried                     uint8\n",
            "cust_ort_Walzenhausen                   uint8\n",
            "cust_ort_Wauwil                         uint8\n",
            "cust_ort_Weggis                         uint8\n",
            "cust_ort_Werthenstein                   uint8\n",
            "cust_ort_Wienacht-Tobel                 uint8\n",
            "cust_ort_Wiggen                         uint8\n",
            "cust_ort_Wikon                          uint8\n",
            "cust_ort_Wilihof                        uint8\n",
            "cust_ort_Willisau                       uint8\n",
            "cust_ort_Winikon                        uint8\n",
            "cust_ort_Wolfhalden                     uint8\n",
            "cust_ort_Wolhusen                       uint8\n",
            "cust_ort_Wünnewil                       uint8\n",
            "cust_ort_Zell LU                        uint8\n",
            "cust_kanton_AR                          uint8\n",
            "cust_kanton_FR                          uint8\n",
            "cust_kanton_GE                          uint8\n",
            "cust_kanton_LU                          uint8\n",
            "cust_kanton_TI                          uint8\n",
            "cust_sprachregion_fr                    uint8\n",
            "cust_sprachregion_it                    uint8\n",
            "cust_auth_device_ptan                   uint8\n",
            "Length: 86027, dtype: object\n"
          ],
          "name": "stdout"
        },
        {
          "output_type": "execute_result",
          "data": {
            "text/plain": [
              "   timestamp   paym_id    amount  valuta_date  cust_vertrag_nr  cust_plz  \\\n",
              "0  -0.948360 -1.732022 -1.128690    -0.100380        -0.100380 -0.100380   \n",
              "1  -0.948360 -1.731964  1.270785    -0.100336        -0.100336 -0.100336   \n",
              "2  -0.948354 -1.731906  1.223166    -0.097672        -0.097672 -0.097672   \n",
              "3  -0.948354 -1.731849  0.191023    -0.097628        -0.097628 -0.097628   \n",
              "4  -0.948347 -1.731791  1.239429    -0.095226        -0.095226 -0.095226   \n",
              "\n",
              "   rcv_bc_nr_AEBANK83XXX  rcv_bc_nr_ALBANK11XXX  rcv_bc_nr_ATBANK60XXX  \\\n",
              "0                      0                      0                      0   \n",
              "1                      0                      0                      0   \n",
              "2                      0                      0                      0   \n",
              "3                      0                      0                      0   \n",
              "4                      0                      0                      0   \n",
              "\n",
              "   rcv_bc_nr_AZBANK13XXX          ...            cust_ort_Wünnewil  \\\n",
              "0                      0          ...                            0   \n",
              "1                      0          ...                            0   \n",
              "2                      0          ...                            0   \n",
              "3                      0          ...                            0   \n",
              "4                      0          ...                            0   \n",
              "\n",
              "   cust_ort_Zell LU  cust_kanton_AR  cust_kanton_FR  cust_kanton_GE  \\\n",
              "0                 0               0               0               0   \n",
              "1                 0               1               0               0   \n",
              "2                 0               0               0               1   \n",
              "3                 0               0               0               0   \n",
              "4                 0               0               0               0   \n",
              "\n",
              "   cust_kanton_LU  cust_kanton_TI  cust_sprachregion_fr  cust_sprachregion_it  \\\n",
              "0               1               0                     0                     0   \n",
              "1               0               0                     0                     0   \n",
              "2               0               0                     1                     0   \n",
              "3               1               0                     0                     0   \n",
              "4               0               1                     0                     1   \n",
              "\n",
              "   cust_auth_device_ptan  \n",
              "0                      0  \n",
              "1                      1  \n",
              "2                      1  \n",
              "3                      0  \n",
              "4                      0  \n",
              "\n",
              "[5 rows x 86027 columns]"
            ],
            "text/html": [
              "<div>\n",
              "<style scoped>\n",
              "    .dataframe tbody tr th:only-of-type {\n",
              "        vertical-align: middle;\n",
              "    }\n",
              "\n",
              "    .dataframe tbody tr th {\n",
              "        vertical-align: top;\n",
              "    }\n",
              "\n",
              "    .dataframe thead th {\n",
              "        text-align: right;\n",
              "    }\n",
              "</style>\n",
              "<table border=\"1\" class=\"dataframe\">\n",
              "  <thead>\n",
              "    <tr style=\"text-align: right;\">\n",
              "      <th></th>\n",
              "      <th>timestamp</th>\n",
              "      <th>paym_id</th>\n",
              "      <th>amount</th>\n",
              "      <th>valuta_date</th>\n",
              "      <th>cust_vertrag_nr</th>\n",
              "      <th>cust_plz</th>\n",
              "      <th>rcv_bc_nr_AEBANK83XXX</th>\n",
              "      <th>rcv_bc_nr_ALBANK11XXX</th>\n",
              "      <th>rcv_bc_nr_ATBANK60XXX</th>\n",
              "      <th>rcv_bc_nr_AZBANK13XXX</th>\n",
              "      <th>...</th>\n",
              "      <th>cust_ort_Wünnewil</th>\n",
              "      <th>cust_ort_Zell LU</th>\n",
              "      <th>cust_kanton_AR</th>\n",
              "      <th>cust_kanton_FR</th>\n",
              "      <th>cust_kanton_GE</th>\n",
              "      <th>cust_kanton_LU</th>\n",
              "      <th>cust_kanton_TI</th>\n",
              "      <th>cust_sprachregion_fr</th>\n",
              "      <th>cust_sprachregion_it</th>\n",
              "      <th>cust_auth_device_ptan</th>\n",
              "    </tr>\n",
              "  </thead>\n",
              "  <tbody>\n",
              "    <tr>\n",
              "      <th>0</th>\n",
              "      <td>-0.948360</td>\n",
              "      <td>-1.732022</td>\n",
              "      <td>-1.128690</td>\n",
              "      <td>-0.100380</td>\n",
              "      <td>-0.100380</td>\n",
              "      <td>-0.100380</td>\n",
              "      <td>0</td>\n",
              "      <td>0</td>\n",
              "      <td>0</td>\n",
              "      <td>0</td>\n",
              "      <td>...</td>\n",
              "      <td>0</td>\n",
              "      <td>0</td>\n",
              "      <td>0</td>\n",
              "      <td>0</td>\n",
              "      <td>0</td>\n",
              "      <td>1</td>\n",
              "      <td>0</td>\n",
              "      <td>0</td>\n",
              "      <td>0</td>\n",
              "      <td>0</td>\n",
              "    </tr>\n",
              "    <tr>\n",
              "      <th>1</th>\n",
              "      <td>-0.948360</td>\n",
              "      <td>-1.731964</td>\n",
              "      <td>1.270785</td>\n",
              "      <td>-0.100336</td>\n",
              "      <td>-0.100336</td>\n",
              "      <td>-0.100336</td>\n",
              "      <td>0</td>\n",
              "      <td>0</td>\n",
              "      <td>0</td>\n",
              "      <td>0</td>\n",
              "      <td>...</td>\n",
              "      <td>0</td>\n",
              "      <td>0</td>\n",
              "      <td>1</td>\n",
              "      <td>0</td>\n",
              "      <td>0</td>\n",
              "      <td>0</td>\n",
              "      <td>0</td>\n",
              "      <td>0</td>\n",
              "      <td>0</td>\n",
              "      <td>1</td>\n",
              "    </tr>\n",
              "    <tr>\n",
              "      <th>2</th>\n",
              "      <td>-0.948354</td>\n",
              "      <td>-1.731906</td>\n",
              "      <td>1.223166</td>\n",
              "      <td>-0.097672</td>\n",
              "      <td>-0.097672</td>\n",
              "      <td>-0.097672</td>\n",
              "      <td>0</td>\n",
              "      <td>0</td>\n",
              "      <td>0</td>\n",
              "      <td>0</td>\n",
              "      <td>...</td>\n",
              "      <td>0</td>\n",
              "      <td>0</td>\n",
              "      <td>0</td>\n",
              "      <td>0</td>\n",
              "      <td>1</td>\n",
              "      <td>0</td>\n",
              "      <td>0</td>\n",
              "      <td>1</td>\n",
              "      <td>0</td>\n",
              "      <td>1</td>\n",
              "    </tr>\n",
              "    <tr>\n",
              "      <th>3</th>\n",
              "      <td>-0.948354</td>\n",
              "      <td>-1.731849</td>\n",
              "      <td>0.191023</td>\n",
              "      <td>-0.097628</td>\n",
              "      <td>-0.097628</td>\n",
              "      <td>-0.097628</td>\n",
              "      <td>0</td>\n",
              "      <td>0</td>\n",
              "      <td>0</td>\n",
              "      <td>0</td>\n",
              "      <td>...</td>\n",
              "      <td>0</td>\n",
              "      <td>0</td>\n",
              "      <td>0</td>\n",
              "      <td>0</td>\n",
              "      <td>0</td>\n",
              "      <td>1</td>\n",
              "      <td>0</td>\n",
              "      <td>0</td>\n",
              "      <td>0</td>\n",
              "      <td>0</td>\n",
              "    </tr>\n",
              "    <tr>\n",
              "      <th>4</th>\n",
              "      <td>-0.948347</td>\n",
              "      <td>-1.731791</td>\n",
              "      <td>1.239429</td>\n",
              "      <td>-0.095226</td>\n",
              "      <td>-0.095226</td>\n",
              "      <td>-0.095226</td>\n",
              "      <td>0</td>\n",
              "      <td>0</td>\n",
              "      <td>0</td>\n",
              "      <td>0</td>\n",
              "      <td>...</td>\n",
              "      <td>0</td>\n",
              "      <td>0</td>\n",
              "      <td>0</td>\n",
              "      <td>0</td>\n",
              "      <td>0</td>\n",
              "      <td>0</td>\n",
              "      <td>1</td>\n",
              "      <td>0</td>\n",
              "      <td>1</td>\n",
              "      <td>0</td>\n",
              "    </tr>\n",
              "  </tbody>\n",
              "</table>\n",
              "<p>5 rows × 86027 columns</p>\n",
              "</div>"
            ]
          },
          "metadata": {
            "tags": []
          },
          "execution_count": 17
        }
      ]
    },
    {
      "cell_type": "markdown",
      "metadata": {
        "id": "LOpc1G2kPtNB",
        "colab_type": "text"
      },
      "source": [
        "**Datensatz in Trainings- und Testingdatensatz aufteilen**\n",
        "\n",
        "Da wir über einen relative grosses Datenset verfügen können wir eine klassisches Spliting der Daten durchführen d.h. 80% (48'000)/20% (12'000) \n"
      ]
    },
    {
      "cell_type": "code",
      "metadata": {
        "id": "3bZxuuhWRook",
        "colab_type": "code",
        "outputId": "d2b78634-7e1b-40c4-ad07-c5173c0b6e08",
        "colab": {
          "base_uri": "https://localhost:8080/",
          "height": 52
        }
      },
      "source": [
        "from sklearn.model_selection import train_test_split\n",
        "tdo_train, tdo_test = train_test_split(trx_data_ol,test_size=0.2, random_state = 70)\n",
        "\n",
        "print ('Grösse Trainingsdatesatz (Shape) = ', tdo_train.shape)\n",
        "print ('Grösse Testdatensatz (Shape) =', tdo_test.shape)"
      ],
      "execution_count": 0,
      "outputs": [
        {
          "output_type": "stream",
          "text": [
            "Grösse Trainingsdatesatz (Shape) =  (48000, 86027)\n",
            "Grösse Testdatensatz (Shape) = (12000, 86027)\n"
          ],
          "name": "stdout"
        }
      ]
    },
    {
      "cell_type": "code",
      "metadata": {
        "id": "3wbzV5hWsyLo",
        "colab_type": "code",
        "outputId": "54aa36d4-eff2-4888-d882-d4269c8545fb",
        "colab": {
          "base_uri": "https://localhost:8080/",
          "height": 52
        }
      },
      "source": [
        "#Erstellung eines kleines Trainingsdatensets für die Überprüfung \n",
        "#der NN Funktionalität\n",
        "\n",
        "tdo_small_train = tdo_train.sample(frac=0.1)\n",
        "tdo_small_test = tdo_small_train.sample(frac=0.2)\n",
        "print (tdo_small_train.shape)\n",
        "print (tdo_small_test.shape)"
      ],
      "execution_count": 0,
      "outputs": [
        {
          "output_type": "stream",
          "text": [
            "(4800, 86027)\n",
            "(960, 86027)\n"
          ],
          "name": "stdout"
        }
      ]
    },
    {
      "cell_type": "markdown",
      "metadata": {
        "id": "yFc3cqUKZOMF",
        "colab_type": "text"
      },
      "source": [
        "###Modell Training###\n",
        "\n",
        "Nachfolgenden werden wir ein neuronales Netzwerk definieren und dieses mit den oben bearbeiteten Daten trainieren.\n",
        "\n",
        "Für den Aufbau des neuronalen Netzwerks werden ich die Machine Learning Library **TensorFlow** von Google verwenden."
      ]
    },
    {
      "cell_type": "markdown",
      "metadata": {
        "id": "KfTD7txqbgiY",
        "colab_type": "text"
      },
      "source": [
        "**TensorFlow laden und Hyperparameter definieren**"
      ]
    },
    {
      "cell_type": "markdown",
      "metadata": {
        "id": "s10dtH9h-VLv",
        "colab_type": "text"
      },
      "source": [
        "https://www.datascience.com/blog/fraud-detection-with-tensorflow"
      ]
    },
    {
      "cell_type": "code",
      "metadata": {
        "id": "eozbqvhW-W7F",
        "colab_type": "code",
        "colab": {}
      },
      "source": [
        "nb_epoch = 20\n",
        "batch_size = 128\n",
        "input_dim = tdo_small_train.shape[1] #num of columns, 30\n",
        "encoding_dim = 14\n",
        "hidden_dim = int(encoding_dim / 2) #i.e. 7\n",
        "learning_rate = 1e-7\n",
        "\n",
        "input_layer = Input(shape=(input_dim, ))\n",
        "encoder = Dense(encoding_dim, activation=\"tanh\", activity_regularizer=regularizers.l1(learning_rate))(input_layer)\n",
        "encoder = Dense(hidden_dim, activation=\"relu\")(encoder)\n",
        "decoder = Dense(hidden_dim, activation='tanh')(encoder)\n",
        "decoder = Dense(input_dim, activation='relu')(decoder)\n",
        "autoencoder = Model(inputs=input_layer, outputs=decoder)"
      ],
      "execution_count": 0,
      "outputs": []
    },
    {
      "cell_type": "code",
      "metadata": {
        "id": "WwYkBXu1DQJB",
        "colab_type": "code",
        "outputId": "0f7427d3-82bb-481a-e3dd-c69e2d21f274",
        "colab": {
          "base_uri": "https://localhost:8080/",
          "height": 790
        }
      },
      "source": [
        "autoencoder.compile(metrics=['accuracy'],\n",
        "                    loss='mean_squared_error',\n",
        "                    optimizer='adam')\n",
        "\n",
        "cp = ModelCheckpoint(filepath=\"autoencoder_fraud.h5\",\n",
        "                               save_best_only=True,\n",
        "                               verbose=0)\n",
        "\n",
        "tb = TensorBoard(log_dir='./logs',\n",
        "                histogram_freq=0,\n",
        "                write_graph=True,\n",
        "                write_images=True)\n",
        "\n",
        "history = autoencoder.fit(tdo_small_train,tdo_small_train,\n",
        "                    epochs=nb_epoch,\n",
        "                    batch_size=batch_size,\n",
        "                    shuffle=True,\n",
        "                    validation_data=(tdo_small_test, tdo_small_test),\n",
        "                    verbose=1,\n",
        "                    callbacks=[cp, tb]).history"
      ],
      "execution_count": 0,
      "outputs": [
        {
          "output_type": "stream",
          "text": [
            "Train on 4800 samples, validate on 960 samples\n",
            "Epoch 1/20\n",
            "4800/4800 [==============================] - 306s 64ms/step - loss: 1.9750e-04 - acc: 8.3333e-04 - val_loss: 1.9118e-04 - val_acc: 0.0000e+00\n",
            "Epoch 2/20\n",
            " 896/4800 [====>.........................] - ETA: 3:50 - loss: 1.9208e-04 - acc: 0.0000e+00"
          ],
          "name": "stdout"
        },
        {
          "output_type": "error",
          "ename": "KeyboardInterrupt",
          "evalue": "ignored",
          "traceback": [
            "\u001b[0;31m---------------------------------------------------------------------------\u001b[0m",
            "\u001b[0;31mKeyboardInterrupt\u001b[0m                         Traceback (most recent call last)",
            "\u001b[0;32m<ipython-input-21-b1cbc1564e94>\u001b[0m in \u001b[0;36m<module>\u001b[0;34m\u001b[0m\n\u001b[1;32m     18\u001b[0m                     \u001b[0mvalidation_data\u001b[0m\u001b[0;34m=\u001b[0m\u001b[0;34m(\u001b[0m\u001b[0mtdo_small_test\u001b[0m\u001b[0;34m,\u001b[0m \u001b[0mtdo_small_test\u001b[0m\u001b[0;34m)\u001b[0m\u001b[0;34m,\u001b[0m\u001b[0;34m\u001b[0m\u001b[0;34m\u001b[0m\u001b[0m\n\u001b[1;32m     19\u001b[0m                     \u001b[0mverbose\u001b[0m\u001b[0;34m=\u001b[0m\u001b[0;36m1\u001b[0m\u001b[0;34m,\u001b[0m\u001b[0;34m\u001b[0m\u001b[0;34m\u001b[0m\u001b[0m\n\u001b[0;32m---> 20\u001b[0;31m                     callbacks=[cp, tb]).history\n\u001b[0m",
            "\u001b[0;32m~/anaconda3/lib/python3.6/site-packages/keras/engine/training.py\u001b[0m in \u001b[0;36mfit\u001b[0;34m(self, x, y, batch_size, epochs, verbose, callbacks, validation_split, validation_data, shuffle, class_weight, sample_weight, initial_epoch, steps_per_epoch, validation_steps, **kwargs)\u001b[0m\n\u001b[1;32m   1037\u001b[0m                                         \u001b[0minitial_epoch\u001b[0m\u001b[0;34m=\u001b[0m\u001b[0minitial_epoch\u001b[0m\u001b[0;34m,\u001b[0m\u001b[0;34m\u001b[0m\u001b[0;34m\u001b[0m\u001b[0m\n\u001b[1;32m   1038\u001b[0m                                         \u001b[0msteps_per_epoch\u001b[0m\u001b[0;34m=\u001b[0m\u001b[0msteps_per_epoch\u001b[0m\u001b[0;34m,\u001b[0m\u001b[0;34m\u001b[0m\u001b[0;34m\u001b[0m\u001b[0m\n\u001b[0;32m-> 1039\u001b[0;31m                                         validation_steps=validation_steps)\n\u001b[0m\u001b[1;32m   1040\u001b[0m \u001b[0;34m\u001b[0m\u001b[0m\n\u001b[1;32m   1041\u001b[0m     def evaluate(self, x=None, y=None,\n",
            "\u001b[0;32m~/anaconda3/lib/python3.6/site-packages/keras/engine/training_arrays.py\u001b[0m in \u001b[0;36mfit_loop\u001b[0;34m(model, f, ins, out_labels, batch_size, epochs, verbose, callbacks, val_f, val_ins, shuffle, callback_metrics, initial_epoch, steps_per_epoch, validation_steps)\u001b[0m\n\u001b[1;32m    185\u001b[0m                             ins[:-1], batch_ids) + [ins[-1]]\n\u001b[1;32m    186\u001b[0m                     \u001b[0;32melse\u001b[0m\u001b[0;34m:\u001b[0m\u001b[0;34m\u001b[0m\u001b[0;34m\u001b[0m\u001b[0m\n\u001b[0;32m--> 187\u001b[0;31m                         \u001b[0mins_batch\u001b[0m \u001b[0;34m=\u001b[0m \u001b[0mslice_arrays\u001b[0m\u001b[0;34m(\u001b[0m\u001b[0mins\u001b[0m\u001b[0;34m,\u001b[0m \u001b[0mbatch_ids\u001b[0m\u001b[0;34m)\u001b[0m\u001b[0;34m\u001b[0m\u001b[0;34m\u001b[0m\u001b[0m\n\u001b[0m\u001b[1;32m    188\u001b[0m                 \u001b[0;32mexcept\u001b[0m \u001b[0mTypeError\u001b[0m\u001b[0;34m:\u001b[0m\u001b[0;34m\u001b[0m\u001b[0;34m\u001b[0m\u001b[0m\n\u001b[1;32m    189\u001b[0m                     raise TypeError('TypeError while preparing batch. '\n",
            "\u001b[0;32m~/anaconda3/lib/python3.6/site-packages/keras/utils/generic_utils.py\u001b[0m in \u001b[0;36mslice_arrays\u001b[0;34m(arrays, start, stop)\u001b[0m\n\u001b[1;32m    524\u001b[0m             \u001b[0;32mif\u001b[0m \u001b[0mhasattr\u001b[0m\u001b[0;34m(\u001b[0m\u001b[0mstart\u001b[0m\u001b[0;34m,\u001b[0m \u001b[0;34m'shape'\u001b[0m\u001b[0;34m)\u001b[0m\u001b[0;34m:\u001b[0m\u001b[0;34m\u001b[0m\u001b[0;34m\u001b[0m\u001b[0m\n\u001b[1;32m    525\u001b[0m                 \u001b[0mstart\u001b[0m \u001b[0;34m=\u001b[0m \u001b[0mstart\u001b[0m\u001b[0;34m.\u001b[0m\u001b[0mtolist\u001b[0m\u001b[0;34m(\u001b[0m\u001b[0;34m)\u001b[0m\u001b[0;34m\u001b[0m\u001b[0;34m\u001b[0m\u001b[0m\n\u001b[0;32m--> 526\u001b[0;31m             \u001b[0;32mreturn\u001b[0m \u001b[0;34m[\u001b[0m\u001b[0;32mNone\u001b[0m \u001b[0;32mif\u001b[0m \u001b[0mx\u001b[0m \u001b[0;32mis\u001b[0m \u001b[0;32mNone\u001b[0m \u001b[0;32melse\u001b[0m \u001b[0mx\u001b[0m\u001b[0;34m[\u001b[0m\u001b[0mstart\u001b[0m\u001b[0;34m]\u001b[0m \u001b[0;32mfor\u001b[0m \u001b[0mx\u001b[0m \u001b[0;32min\u001b[0m \u001b[0marrays\u001b[0m\u001b[0;34m]\u001b[0m\u001b[0;34m\u001b[0m\u001b[0;34m\u001b[0m\u001b[0m\n\u001b[0m\u001b[1;32m    527\u001b[0m         \u001b[0;32melse\u001b[0m\u001b[0;34m:\u001b[0m\u001b[0;34m\u001b[0m\u001b[0;34m\u001b[0m\u001b[0m\n\u001b[1;32m    528\u001b[0m             \u001b[0;32mreturn\u001b[0m \u001b[0;34m[\u001b[0m\u001b[0;32mNone\u001b[0m \u001b[0;32mif\u001b[0m \u001b[0mx\u001b[0m \u001b[0;32mis\u001b[0m \u001b[0;32mNone\u001b[0m \u001b[0;32melse\u001b[0m \u001b[0mx\u001b[0m\u001b[0;34m[\u001b[0m\u001b[0mstart\u001b[0m\u001b[0;34m:\u001b[0m\u001b[0mstop\u001b[0m\u001b[0;34m]\u001b[0m \u001b[0;32mfor\u001b[0m \u001b[0mx\u001b[0m \u001b[0;32min\u001b[0m \u001b[0marrays\u001b[0m\u001b[0;34m]\u001b[0m\u001b[0;34m\u001b[0m\u001b[0;34m\u001b[0m\u001b[0m\n",
            "\u001b[0;32m~/anaconda3/lib/python3.6/site-packages/keras/utils/generic_utils.py\u001b[0m in \u001b[0;36m<listcomp>\u001b[0;34m(.0)\u001b[0m\n\u001b[1;32m    524\u001b[0m             \u001b[0;32mif\u001b[0m \u001b[0mhasattr\u001b[0m\u001b[0;34m(\u001b[0m\u001b[0mstart\u001b[0m\u001b[0;34m,\u001b[0m \u001b[0;34m'shape'\u001b[0m\u001b[0;34m)\u001b[0m\u001b[0;34m:\u001b[0m\u001b[0;34m\u001b[0m\u001b[0;34m\u001b[0m\u001b[0m\n\u001b[1;32m    525\u001b[0m                 \u001b[0mstart\u001b[0m \u001b[0;34m=\u001b[0m \u001b[0mstart\u001b[0m\u001b[0;34m.\u001b[0m\u001b[0mtolist\u001b[0m\u001b[0;34m(\u001b[0m\u001b[0;34m)\u001b[0m\u001b[0;34m\u001b[0m\u001b[0;34m\u001b[0m\u001b[0m\n\u001b[0;32m--> 526\u001b[0;31m             \u001b[0;32mreturn\u001b[0m \u001b[0;34m[\u001b[0m\u001b[0;32mNone\u001b[0m \u001b[0;32mif\u001b[0m \u001b[0mx\u001b[0m \u001b[0;32mis\u001b[0m \u001b[0;32mNone\u001b[0m \u001b[0;32melse\u001b[0m \u001b[0mx\u001b[0m\u001b[0;34m[\u001b[0m\u001b[0mstart\u001b[0m\u001b[0;34m]\u001b[0m \u001b[0;32mfor\u001b[0m \u001b[0mx\u001b[0m \u001b[0;32min\u001b[0m \u001b[0marrays\u001b[0m\u001b[0;34m]\u001b[0m\u001b[0;34m\u001b[0m\u001b[0;34m\u001b[0m\u001b[0m\n\u001b[0m\u001b[1;32m    527\u001b[0m         \u001b[0;32melse\u001b[0m\u001b[0;34m:\u001b[0m\u001b[0;34m\u001b[0m\u001b[0;34m\u001b[0m\u001b[0m\n\u001b[1;32m    528\u001b[0m             \u001b[0;32mreturn\u001b[0m \u001b[0;34m[\u001b[0m\u001b[0;32mNone\u001b[0m \u001b[0;32mif\u001b[0m \u001b[0mx\u001b[0m \u001b[0;32mis\u001b[0m \u001b[0;32mNone\u001b[0m \u001b[0;32melse\u001b[0m \u001b[0mx\u001b[0m\u001b[0;34m[\u001b[0m\u001b[0mstart\u001b[0m\u001b[0;34m:\u001b[0m\u001b[0mstop\u001b[0m\u001b[0;34m]\u001b[0m \u001b[0;32mfor\u001b[0m \u001b[0mx\u001b[0m \u001b[0;32min\u001b[0m \u001b[0marrays\u001b[0m\u001b[0;34m]\u001b[0m\u001b[0;34m\u001b[0m\u001b[0;34m\u001b[0m\u001b[0m\n",
            "\u001b[0;31mKeyboardInterrupt\u001b[0m: "
          ]
        }
      ]
    },
    {
      "cell_type": "code",
      "metadata": {
        "id": "zlGe3F7yEAwf",
        "colab_type": "code",
        "colab": {}
      },
      "source": [
        "autoencoder = load_model('autoencoder_fraud.h5')"
      ],
      "execution_count": 0,
      "outputs": []
    },
    {
      "cell_type": "code",
      "metadata": {
        "id": "O7Yspf-4EHt1",
        "colab_type": "code",
        "colab": {}
      },
      "source": [
        "plt.plot(history['loss'], linewidth=2, label='Train')\n",
        "plt.plot(history['val_loss'], linewidth=2, label='Test')\n",
        "plt.legend(loc='upper right')\n",
        "plt.title('Model loss')\n",
        "plt.ylabel('Loss')\n",
        "plt.xlabel('Epoch')\n",
        "#plt.ylim(ymin=0.70,ymax=1)\n",
        "plt.show()"
      ],
      "execution_count": 0,
      "outputs": []
    },
    {
      "cell_type": "markdown",
      "metadata": {
        "id": "T7I1cx12_2Gv",
        "colab_type": "text"
      },
      "source": [
        "#Ermittlung potenzieller Kundenrisikogruppen# \n",
        "##Supervised Learning mit neuronalen Netzwerken##\n"
      ]
    },
    {
      "cell_type": "code",
      "metadata": {
        "id": "b57Ggf-x-Iet",
        "colab_type": "code",
        "colab": {}
      },
      "source": [
        "%matplotlib inline\n",
        "import pandas as pd\n",
        "import numpy as np\n",
        "import matplotlib.pyplot as plt\n",
        "\n",
        "\n",
        "# Laden der 600000 Transaktionsdaten \n",
        "trx_data_url = 'https://raw.githubusercontent.com/sakuronohana/cas_datenanalyse/master/Semesterarbeit/Dataset/trx_data_ml.csv'\n",
        "\n",
        "trx_data_ml = pd.read_csv(trx_data_url, delimiter=';')\n",
        "trx_data_ml.head()\n"
      ],
      "execution_count": 0,
      "outputs": []
    },
    {
      "cell_type": "code",
      "metadata": {
        "id": "4reOVH6SOoEs",
        "colab_type": "code",
        "colab": {}
      },
      "source": [
        "trx_data_ol.nunique()"
      ],
      "execution_count": 0,
      "outputs": []
    },
    {
      "cell_type": "code",
      "metadata": {
        "id": "Qa3UBsB4PUcz",
        "colab_type": "code",
        "colab": {}
      },
      "source": [
        "trx_data.fraud_id.map(lambda x:1 if x>=1 else 0).mean()"
      ],
      "execution_count": 0,
      "outputs": []
    },
    {
      "cell_type": "markdown",
      "metadata": {
        "id": "nBv9TMCtc2s6",
        "colab_type": "text"
      },
      "source": [
        "**Erstellung des neuronalen Netzwerk-Modells**\n",
        "\n",
        "https://www.youtube.com/watch?v=BhpvH5DuVu8&list=PLQVvvaa0QuDfKTOs3Keq_kaG2P55YRn5v&index=46\n",
        "\n"
      ]
    },
    {
      "cell_type": "code",
      "metadata": {
        "id": "BjPo4kEvdD8s",
        "colab_type": "code",
        "colab": {}
      },
      "source": [
        "import tensorflow as tf\n",
        "\n",
        "n_nodes_hl1 = 500\n",
        "n_nodes_hl2 = 500\n",
        "n_nodes_hl3 = 500\n",
        "\n",
        "n_classes = 10\n",
        "batch_size = 1000\n",
        "\n",
        "x = tf.placeholder('float',[None, 784])\n",
        "\n",
        "def neural_network_model(data):\n",
        "  hidden_1_layer = {'weights':tf.Variable(tf.random_normal([784,n_nodes_hl1])),\n",
        "                   'biases':tf.Variable(tf.random_normal(n_nodes_hl1))}\n",
        "  hidden_2_layer = {'weights':tf.Variable(tf.random_normal([n_nodes_hl2,n_nodes_hl2])),\n",
        "                   'biases':tf.Variable(tf.random_normal(n_nodes_hl2))}\n",
        "  hidden_3_layer = {'weights':tf.Variable(tf.random_normal([n_nodes_hl2,n_nodes_hl3])),\n",
        "                   'biases':tf.Variable(tf.random_normal(n_nodes_hl3))}\n",
        "  output_layer = {'weights':tf.Variable(tf.random_normal([n_nodes_hl3,n_nodes_hl1])),\n",
        "                   'biases':tf.Variable(tf.random_normal(n_classes))}\n",
        "  \n",
        "  l1 = tf.add(tf.matmul(data, hidden_1_layer['weights']), hidden_1_layer['biases'])\n",
        "  l1 = tf.nn.relu(l1)\n",
        "  \n",
        "  l2 = tf.add(tf.matmul(l1, hidden_2_layer['weights']), hidden_2_layer['biases'])\n",
        "  l2 = tf.nn.relu(l2)\n",
        "  \n",
        "  l3 = tf.add(tf.matmul(l2, hidden_3_layer['weights']), hidden_3_layer['biases'])\n",
        "  l3 = tf.nn.relu(l3)\n",
        "                 \n",
        "  output = tf.add(l3, output_layer['weights'])+ output_layer['biases']\n",
        "  \n",
        "  return output\n",
        "                  \n",
        "def train_neural_network(x):\n",
        "  prediction = neural_network_model(x)\n",
        "  cost = tf.reduce_mean(tf.nn.softmax_cross_entropy_with_logits(prediction,y))\n",
        "  optimizer = tf.train.AdamOptimizer().minimize(cost)\n",
        "  \n",
        "  hm_epochs = 10\n",
        "                  \n",
        "  with tf.Session() as sess:\n",
        "    sess.run(tf.initialize_all_variables())\n",
        "    # Hier wird das Modell trainiert\n",
        "    for epoch in hm_epochs:\n",
        "        epoch_loss = 0\n",
        "        for _ in range(int(tdo_train.train.num_examples/batch_size)):\n",
        "            x = tdo_train.next_batch(batch_size)\n",
        "            _, c = sess.run([optimizer, cost], feed_dict = {x: x})\n",
        "            epoch_loss += c\n",
        "        print('Epoch', epoch, 'completed out of', hm_epochs, 'loss:', epoch_loss)\n",
        "                  \n",
        "    correct = tf.equal(tf.argmax(prediction, 1), tf.argmax(y,1))\n",
        "    accuracy = tf.reduce_mean(tf.cast(correct,'float'))\n",
        "    print('Accuracy:', accuracy.eval({x:tdo_test}))\n",
        "    \n",
        "train_neural_network(x)"
      ],
      "execution_count": 0,
      "outputs": []
    },
    {
      "cell_type": "markdown",
      "metadata": {
        "id": "g0Oh1LK53rMd",
        "colab_type": "text"
      },
      "source": [
        "##Datensatz analysieren##\n",
        "\n",
        "##Tipp: Plotting Learning Curves - Scikit !!!!"
      ]
    },
    {
      "cell_type": "code",
      "metadata": {
        "id": "6bzsG7nZ25CG",
        "colab_type": "code",
        "colab": {}
      },
      "source": [
        "# Visualisierung der Nummerischen Daten in dem Datensatz\n",
        "trx_data.hist(bins=50, figsize=(20,15))\n",
        "plt.show()"
      ],
      "execution_count": 0,
      "outputs": []
    },
    {
      "cell_type": "code",
      "metadata": {
        "id": "K-MjsTaU3kS8",
        "colab_type": "code",
        "colab": {}
      },
      "source": [
        "# Suche nach den Korrelationen - Teil 1\n",
        "corr_matrix = trx_data.corr()\n",
        "print ('Korrelation zu Payment ID','\\n',corr_matrix['paym_id'].sort_values(ascending=False))\n",
        "print ('Korrelation zu Zahlungssumme','\\n',corr_matrix['amount'].sort_values(ascending=False))\n",
        "print ('Korrelation zu Kundenvertrag','\\n',corr_matrix['cust_vertrag_nr'].sort_values(ascending=False))\n",
        "print ('Korrelation zu Betrugsid','\\n',corr_matrix['fraud_id'].sort_values(ascending=False))"
      ],
      "execution_count": 0,
      "outputs": []
    },
    {
      "cell_type": "code",
      "metadata": {
        "id": "GXoUuDUY3LpU",
        "colab_type": "code",
        "colab": {}
      },
      "source": [
        "# Bereinigung der Daten\n",
        "pd.to_datetime(trx_data['timestamp'])\n",
        "pd.to_datetime(trx_data['valuta_date'])\n",
        "np.where(np.isnan(trx_data))"
      ],
      "execution_count": 0,
      "outputs": []
    },
    {
      "cell_type": "code",
      "metadata": {
        "id": "c6Vx75189gJV",
        "colab_type": "code",
        "colab": {}
      },
      "source": [
        "# Datensatz in Trainings(80%)- und Testdatenset (20%) teilen\n",
        "from sklearn.model_selection import train_test_split\n",
        "train_trx_data, test_trx_data = train_test_split(trx_data, test_size=0.2, random_state=42) \n",
        "train_trx_data.count(), test_trx_data.count()"
      ],
      "execution_count": 0,
      "outputs": []
    },
    {
      "cell_type": "code",
      "metadata": {
        "id": "WKYDanXj3Vm9",
        "colab_type": "code",
        "colab": {}
      },
      "source": [
        "# Dimensionsreduktion mit PCA\n",
        "from sklearn.decomposition import PCA # Import der PCA Funktion von Scikit Learn\n",
        "from sklearn import preprocessing # Die Preprocessing Funktion hilft uns die Daten zu skalieren bevor sie mit PCA verwendet werden."
      ],
      "execution_count": 0,
      "outputs": []
    }
  ]
}