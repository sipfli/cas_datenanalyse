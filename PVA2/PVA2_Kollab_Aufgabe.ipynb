{
  "nbformat": 4,
  "nbformat_minor": 0,
  "metadata": {
    "colab": {
      "name": "PVA2_Kollab_Aufgabe.ipynb",
      "version": "0.3.2",
      "provenance": [],
      "toc_visible": true,
      "include_colab_link": true
    },
    "kernelspec": {
      "name": "python3",
      "display_name": "Python 3"
    }
  },
  "cells": [
    {
      "cell_type": "markdown",
      "metadata": {
        "id": "view-in-github",
        "colab_type": "text"
      },
      "source": [
        "<a href=\"https://colab.research.google.com/github/sakuronohana/cas_datenanalyse/blob/master/PVA2/PVA2_Kollab_Aufgabe.ipynb\" target=\"_parent\"><img src=\"https://colab.research.google.com/assets/colab-badge.svg\" alt=\"Open In Colab\"/></a>"
      ]
    },
    {
      "metadata": {
        "id": "xicvQfvkZcNj",
        "colab_type": "text"
      },
      "cell_type": "markdown",
      "source": [
        "##Kollaborative Aufgabe: Analyse des erstellten Zeichen-Datensatzes##\n",
        "\n",
        "Vorgehen:\n",
        "\n",
        "1.   Verzeichnis mit csv auslesen\n",
        "2.   Dateiname in DF in verkürzter Form einlesen\n",
        "3.   CSV für CSV einlesen\n",
        "4.   Eingelesenes Kürzel und CSV zu Dataframe hinzufügen.\n",
        "\n"
      ]
    },
    {
      "metadata": {
        "id": "ruqG_GyDZjUj",
        "colab_type": "code",
        "colab": {}
      },
      "cell_type": "code",
      "source": [
        "import glob, os\n",
        "import pandas as pd\n",
        "import numpy as np\n",
        "\n",
        "\n",
        "#Import multiple csv-Files\n",
        "\n",
        "csv_files = glob.glob('*.csv')\n",
        "\n",
        "for files in csv_files:\n",
        "    ids = (files[:6])\n",
        "    df_data = pd.DataFrame(pd.read_csv(files, header=None))\n",
        "    df_data.insert(0,'id', ids)\n",
        "    df_data.to_csv('corrdata.csv', mode='a', index = False, header = False)\n",
        "    \n",
        "\n"
      ],
      "execution_count": 0,
      "outputs": []
    },
    {
      "metadata": {
        "id": "KSjpOKm0pK8T",
        "colab_type": "code",
        "colab": {}
      },
      "cell_type": "code",
      "source": [
        ""
      ],
      "execution_count": 0,
      "outputs": []
    }
  ]
}