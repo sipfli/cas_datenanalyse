{
 "cells": [
  {
   "cell_type": "markdown",
   "metadata": {},
   "source": [
    "# Aufgabe A3\n",
    "### Feature Extraction"
   ]
  },
  {
   "cell_type": "markdown",
   "metadata": {},
   "source": [
    "a. Arbeiten Sie das Notebook \"Feature Extraction-Hough.ypnb\" durch"
   ]
  },
  {
   "cell_type": "code",
   "execution_count": null,
   "metadata": {
    "collapsed": true
   },
   "outputs": [],
   "source": []
  },
  {
   "cell_type": "markdown",
   "metadata": {},
   "source": [
    "b. Versuchen Sie die eigenen 0, x, + Bilder mit Hough-Transformation zu bearbeiten."
   ]
  },
  {
   "cell_type": "code",
   "execution_count": null,
   "metadata": {
    "collapsed": true
   },
   "outputs": [],
   "source": []
  },
  {
   "cell_type": "markdown",
   "metadata": {},
   "source": [
    "c. Informieren Sie sich genauer über die Funktionsweise des Prewitt-Filter <br>\n",
    "d. Wenden Sie den Prewitt-Filter auf das Bild \"mushroom.png\" an und erzeugen Sie und stellen Sie ein Ergebnisbild dar (scipy.ndimage.filters.prewitt)."
   ]
  },
  {
   "cell_type": "code",
   "execution_count": null,
   "metadata": {
    "collapsed": true
   },
   "outputs": [],
   "source": []
  },
  {
   "cell_type": "markdown",
   "metadata": {},
   "source": [
    "### Dimensionality Reduction"
   ]
  },
  {
   "cell_type": "markdown",
   "metadata": {},
   "source": [
    "##### Zur Vorbereitung arbeiten Sie das Notebook \"Feature-Transformation-Selection.ypnb\" durch!"
   ]
  },
  {
   "cell_type": "markdown",
   "metadata": {},
   "source": [
    "a. Im Verzeichnis data finden sie 4 Landsat-Satellitenbildern mit Rot-, Grün-, Blau- und NIR-Kanal als tif-Bilder. <br>\n",
    "b. Laden Sie die Bilder. <br>\n",
    "c. Berechnen Sie ein NDVI-Bild aus dem Rot-Bild und dem NIR-Bild (Formel siehe Unterlagen)"
   ]
  },
  {
   "cell_type": "code",
   "execution_count": null,
   "metadata": {
    "collapsed": true
   },
   "outputs": [],
   "source": []
  },
  {
   "cell_type": "markdown",
   "metadata": {},
   "source": [
    "d. Versuchen Sie PCA auf den Iris-Datensatz anzuwenden und den transformierten Datensatz (2- oder 3 Dimensionen) mit einer beliebigen Methode zu klassifizieren."
   ]
  },
  {
   "cell_type": "code",
   "execution_count": null,
   "metadata": {
    "collapsed": true
   },
   "outputs": [],
   "source": []
  }
 ],
 "metadata": {
  "kernelspec": {
   "display_name": "Python 3",
   "language": "python",
   "name": "python3"
  },
  "language_info": {
   "codemirror_mode": {
    "name": "ipython",
    "version": 3
   },
   "file_extension": ".py",
   "mimetype": "text/x-python",
   "name": "python",
   "nbconvert_exporter": "python",
   "pygments_lexer": "ipython3",
   "version": "3.5.3"
  }
 },
 "nbformat": 4,
 "nbformat_minor": 2
}
