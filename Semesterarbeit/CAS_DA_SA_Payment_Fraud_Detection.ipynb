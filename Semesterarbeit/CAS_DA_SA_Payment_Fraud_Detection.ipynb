{
  "nbformat": 4,
  "nbformat_minor": 0,
  "metadata": {
    "colab": {
      "name": "CAS-DA-SA_Payment_Fraud_Detection.ipynb",
      "version": "0.3.2",
      "provenance": [],
      "include_colab_link": true
    },
    "kernelspec": {
      "name": "python3",
      "display_name": "Python 3"
    },
    "accelerator": "GPU"
  },
  "cells": [
    {
      "cell_type": "markdown",
      "metadata": {
        "id": "view-in-github",
        "colab_type": "text"
      },
      "source": [
        "<a href=\"https://colab.research.google.com/github/sakuronohana/cas_datenanalyse/blob/master/Semesterarbeit/CAS_DA_SA_Payment_Fraud_Detection.ipynb\" target=\"_parent\"><img src=\"https://colab.research.google.com/assets/colab-badge.svg\" alt=\"Open In Colab\"/></a>"
      ]
    },
    {
      "cell_type": "markdown",
      "metadata": {
        "id": "jRcJtvy3IiFf",
        "colab_type": "text"
      },
      "source": [
        "<img \n",
        "src=\"https://www.ffhs.ch/templates/ffhs/img/logo@2x.png\" width=\"100\"> \n",
        "###DaAn, Data Analysis, MAS/CAS Web4B 2018, ZH1, FS19, Dr. Tödtli Beat###\n",
        "\n",
        "##*Semesterarbeit von Patrik Di Lena*##\n",
        "#Betrugserkennung Zahlungsverkehr#\n",
        "\n"
      ]
    },
    {
      "cell_type": "markdown",
      "metadata": {
        "id": "Cu2Lax6MMPh0",
        "colab_type": "text"
      },
      "source": [
        "##Ziel##\n",
        "Das Ziel dieser Semesterarbeit ist die Gegenüberstellung von Supervised und Unsupervised Lernverfahren mit eine neuronalen Netzwerk Algorthmus. Dabei kommt  ein nicht gelabelter und ein gelabelter Datensatz aus einem Betrugserkennungssystem zum Einsatz. \n",
        "\n",
        "##Aufgabenstellung##\n",
        "###Erkennung von Betrugszahlungen###\n",
        "Mittels Unsupervised Learning sollen Betrugszahlungen aus einem nicht gelabelten Datensatz erkannt und die Effiktivität des vorhandenen Fraud-Detection Systems geprüft werden.\n",
        "\n",
        "###Betrugsanfällige Risikogruppen###\n",
        "Mit Hilfe von Supervised Learning werden mögliche Risikogruppen ermittelt, welche im Visier von Betrügern stehen.  Auf Basis eines gelabelten Datensatzes  werden die Risikogruppen nach folgenden Merkmalen unterschieden:\n",
        "\n",
        "*\tGeschlecht\n",
        "*\tAlter\n",
        "*\tZivilstand\n",
        "*\tNationalität\n",
        "*\tKontosaldo\n",
        "*\tWohnort\n",
        "*\tRegion\n",
        "\n",
        "##Datensatz##\n",
        "Die im Rahmen dieser Semesterarbeit verwendeten Daten entstammen, von ihrer Datenstruktur her, aus einem bereits eingesetzten nicht ML-basierten Betrugserkennungssystem. Die Datenwerte wurde zu Wahrung der datenschutzrechtlichen und bankengesetzlichen Aspekte mit Hilfe eines Python-Scripts künstlich erzeugt und beinhalten somit keine reale Zahlungs- oder Kunden-Informationen.   \n",
        "\n",
        "Datenselektion:\n",
        "\n",
        "- 20'800 synthetische Kunden (Vorname, Name, Strasse, Ort, Kanton, Sprachregion, Geschlecht, Alter, Zivilstand,  Nationalität, Kontonummer, Vertragsnummer, Rechtsform)\n",
        "\n",
        "- 60'000 synthetische Zahlungen (Transaktionsid, ,Erstellungdatum/Zeit, Empfängerkonto, Empfängerbank, Empfängerland, Währung, Betrag, Valuta Datum)\n",
        "\n",
        "\n",
        "\n",
        "\n",
        "\n",
        "\n"
      ]
    },
    {
      "cell_type": "markdown",
      "metadata": {
        "id": "Lz_l4l9VX0jr",
        "colab_type": "text"
      },
      "source": [
        "#Erkennung von Betrugszahlungen# \n",
        "\n",
        "##Unsupervised Learning mit neuronalen Netzwerken##"
      ]
    },
    {
      "cell_type": "markdown",
      "metadata": {
        "id": "fPNBtxFmnQg7",
        "colab_type": "text"
      },
      "source": [
        "###Importieren der ungelabelten Fraud-Zahlungsdaten###"
      ]
    },
    {
      "cell_type": "code",
      "metadata": {
        "id": "M9kpR8RAjMzw",
        "colab_type": "code",
        "colab": {
          "base_uri": "https://localhost:8080/",
          "height": 363
        },
        "outputId": "89199b5d-27d9-4aee-caed-427db7c8b490"
      },
      "source": [
        "%matplotlib inline\n",
        "import pandas as pd\n",
        "import numpy as np\n",
        "import matplotlib.pyplot as plt\n",
        "\n",
        "\n",
        "# Laden der 600000 nicht gelabelten Transaktionsdaten \n",
        "trx_data_url = 'https://raw.githubusercontent.com/sakuronohana/cas_datenanalyse/master/Semesterarbeit/Dataset/trx_data_ol.csv'\n",
        "\n",
        "trx_data_ol = pd.read_csv(trx_data_url, delimiter=';')\n",
        "trx_data_ol.head()\n",
        "trx_data_ol.dtypes"
      ],
      "execution_count": 13,
      "outputs": [
        {
          "output_type": "execute_result",
          "data": {
            "text/plain": [
              "timestamp            object\n",
              "paym_id               int64\n",
              "send_bc_nr           object\n",
              "amount                int64\n",
              "rcv_bc_nr            object\n",
              "rcv_bc_iban          object\n",
              "rcv_bc_country       object\n",
              "rcv_bc_code          object\n",
              "rcv_iban             object\n",
              "valuta_date          object\n",
              "cust_vertrag_nr       int64\n",
              "cust_konto_nr        object\n",
              "cust_vname           object\n",
              "cust_nname           object\n",
              "cust_plz              int64\n",
              "cust_ort             object\n",
              "cust_kanton          object\n",
              "cust_sprachregion    object\n",
              "cust_auth_device     object\n",
              "dtype: object"
            ]
          },
          "metadata": {
            "tags": []
          },
          "execution_count": 13
        }
      ]
    },
    {
      "cell_type": "markdown",
      "metadata": {
        "id": "TmODZafznm1I",
        "colab_type": "text"
      },
      "source": [
        "###Feature Engineering###"
      ]
    },
    {
      "cell_type": "code",
      "metadata": {
        "id": "D2GAbTbYoRZ6",
        "colab_type": "code",
        "colab": {
          "base_uri": "https://localhost:8080/",
          "height": 1088
        },
        "outputId": "cba54390-5d05-4823-f149-9ddfdd8759f3"
      },
      "source": [
        "# Daten in das richtige Format konvertieren\n",
        "\n",
        "trx_data_ol.dtypes\n",
        "trx_data_ol.timestamp = pd.to_datetime(trx_data_ol['timestamp'])\n",
        "trx_data_ol.timestamp\n"
      ],
      "execution_count": 24,
      "outputs": [
        {
          "output_type": "execute_result",
          "data": {
            "text/plain": [
              "0       2018-01-01 08:00:00\n",
              "1       2018-01-01 08:00:00\n",
              "2       2018-01-01 08:01:00\n",
              "3       2018-01-01 08:01:00\n",
              "4       2018-01-01 08:02:00\n",
              "5       2018-01-01 08:02:00\n",
              "6       2018-01-01 08:03:00\n",
              "7       2018-01-01 08:03:00\n",
              "8       2018-01-01 08:04:00\n",
              "9       2018-01-01 08:04:00\n",
              "10      2018-01-01 08:05:00\n",
              "11      2018-01-01 08:05:00\n",
              "12      2018-01-01 08:06:00\n",
              "13      2018-01-01 08:06:00\n",
              "14      2018-01-01 08:07:00\n",
              "15      2018-01-01 08:07:00\n",
              "16      2018-01-01 08:08:00\n",
              "17      2018-01-01 08:08:00\n",
              "18      2018-01-01 08:09:00\n",
              "19      2018-01-01 08:09:00\n",
              "20      2018-01-01 08:10:00\n",
              "21      2018-01-01 08:10:00\n",
              "22      2018-01-01 08:11:00\n",
              "23      2018-01-01 08:11:00\n",
              "24      2018-01-01 08:12:00\n",
              "25      2018-01-01 08:12:00\n",
              "26      2018-01-01 08:13:00\n",
              "27      2018-01-01 08:13:00\n",
              "28      2018-01-01 08:14:00\n",
              "29      2018-01-01 08:14:00\n",
              "                ...        \n",
              "59970   2018-01-22 03:45:00\n",
              "59971   2018-01-22 03:45:00\n",
              "59972   2018-01-22 03:46:00\n",
              "59973   2018-01-22 03:46:00\n",
              "59974   2018-01-22 03:47:00\n",
              "59975   2018-01-22 03:47:00\n",
              "59976   2018-01-22 03:48:00\n",
              "59977   2018-01-22 03:48:00\n",
              "59978   2018-01-22 03:49:00\n",
              "59979   2018-01-22 03:49:00\n",
              "59980   2018-01-22 03:50:00\n",
              "59981   2018-01-22 03:50:00\n",
              "59982   2018-01-22 03:51:00\n",
              "59983   2018-01-22 03:51:00\n",
              "59984   2018-01-22 03:52:00\n",
              "59985   2018-01-22 03:52:00\n",
              "59986   2018-01-22 03:53:00\n",
              "59987   2018-01-22 03:53:00\n",
              "59988   2018-01-22 03:54:00\n",
              "59989   2018-01-22 03:54:00\n",
              "59990   2018-01-22 03:55:00\n",
              "59991   2018-01-22 03:55:00\n",
              "59992   2018-01-22 03:56:00\n",
              "59993   2018-01-22 03:56:00\n",
              "59994   2018-01-22 03:57:00\n",
              "59995   2018-01-22 03:57:00\n",
              "59996   2018-01-22 03:58:00\n",
              "59997   2018-01-22 03:58:00\n",
              "59998   2018-01-22 03:59:00\n",
              "59999   2018-01-22 03:59:00\n",
              "Name: timestamp, Length: 60000, dtype: datetime64[ns]"
            ]
          },
          "metadata": {
            "tags": []
          },
          "execution_count": 24
        }
      ]
    },
    {
      "cell_type": "code",
      "metadata": {
        "id": "mjtsST2vuwFD",
        "colab_type": "code",
        "colab": {
          "base_uri": "https://localhost:8080/",
          "height": 262
        },
        "outputId": "fc2c0bad-d7d9-439b-991d-520cff7197c5"
      },
      "source": [
        "#Encoding Object Werte in Numeric Werte\n",
        "\n",
        "# DictVectorizer\n",
        "from sklearn.feature_extraction import DictVectorizer\n",
        "# instantiate a Dictvectorizer object for X\n",
        "dv_X = DictVectorizer(sparse=False) \n",
        "# sparse = False makes the output is not a sparse matrix\n",
        "\n",
        "# convert trx_data_ol into dict\n",
        "trx_data_dict = trx_data_ol.to_dict(orient='records') # turn each row as key-value pairs\n",
        "\n",
        "# apply dv_X on X_dict\n",
        "X_encoded = dv_X.fit_transform(trx_data_dict)\n",
        "# show X_encoded\n",
        "X_encoded\n"
      ],
      "execution_count": 2,
      "outputs": [
        {
          "output_type": "execute_result",
          "data": {
            "text/plain": [
              "array([[1.5368e+04, 1.0000e+00, 0.0000e+00, ..., 0.0000e+00, 0.0000e+00,\n",
              "        0.0000e+00],\n",
              "       [8.9137e+04, 0.0000e+00, 1.0000e+00, ..., 0.0000e+00, 0.0000e+00,\n",
              "        0.0000e+00],\n",
              "       [8.7673e+04, 0.0000e+00, 1.0000e+00, ..., 0.0000e+00, 0.0000e+00,\n",
              "        0.0000e+00],\n",
              "       ...,\n",
              "       [6.8647e+04, 0.0000e+00, 1.0000e+00, ..., 0.0000e+00, 0.0000e+00,\n",
              "        0.0000e+00],\n",
              "       [3.7448e+04, 0.0000e+00, 1.0000e+00, ..., 0.0000e+00, 0.0000e+00,\n",
              "        0.0000e+00],\n",
              "       [9.2257e+04, 0.0000e+00, 1.0000e+00, ..., 0.0000e+00, 0.0000e+00,\n",
              "        0.0000e+00]])"
            ]
          },
          "metadata": {
            "tags": []
          },
          "execution_count": 2
        }
      ]
    },
    {
      "cell_type": "code",
      "metadata": {
        "id": "WZQ_isr_xzgv",
        "colab_type": "code",
        "colab": {
          "base_uri": "https://localhost:8080/",
          "height": 368
        },
        "outputId": "42e40c07-7cf2-417d-8789-cecf097546d8"
      },
      "source": [
        "# Categorical boolean mask\n",
        "categorical_feature_mask = trx_data_ol.dtypes==object\n",
        "# filter categorical columns using mask and turn it into a list\n",
        "categorical_cols = trx_data_ol.columns[categorical_feature_mask].tolist()\n",
        "\n",
        "# import labelencoder\n",
        "from sklearn.preprocessing import LabelEncoder\n",
        "# instantiate labelencoder object\n",
        "le = LabelEncoder()\n",
        "\n",
        "# apply le on categorical feature columns\n",
        "trx_data_ol[categorical_cols] = trx_data_ol[categorical_cols].apply(lambda col: le.fit_transform(col))\n",
        "trx_data_ol[categorical_cols].head(10)\n"
      ],
      "execution_count": 3,
      "outputs": [
        {
          "output_type": "execute_result",
          "data": {
            "text/plain": [
              "   timestamp  send_bc_nr  rcv_bc_nr  rcv_bc_iban  rcv_bc_country  rcv_bc_code  \\\n",
              "0          0           0         36           36              29           36   \n",
              "1          0           0         67           67              56           67   \n",
              "2          1           0         74           74              32           74   \n",
              "3          1           0         60           60              60           60   \n",
              "4          2           0         41           41              37           41   \n",
              "5          2           0          5            5               5            5   \n",
              "6          3           0          4            4               2            4   \n",
              "7          3           0         47           47              46           47   \n",
              "8          4           0         63           63              58           63   \n",
              "9          4           0         52           52              47           52   \n",
              "\n",
              "   rcv_iban  valuta_date  cust_konto_nr  cust_vname  cust_nname  cust_ort  \\\n",
              "0     28548            2          13943         261         164       217   \n",
              "1     53597            3          13891         247        1239       251   \n",
              "2     59059         1974          10414          84        2629       667   \n",
              "3     48335         1975          15222          18        1943       532   \n",
              "4     33136         3945          13286          18        2977        86   \n",
              "5      4390         3946           3589         313        1880       385   \n",
              "6      3287         5917           5494         401        1009       594   \n",
              "7     37623         5918          10647         277        2058       229   \n",
              "8     50252         7890          19990         128        2229       678   \n",
              "9     41360         7891           4624         396        2736       217   \n",
              "\n",
              "   cust_kanton  cust_sprachregion  cust_auth_device  \n",
              "0            4                  0                 0  \n",
              "1            1                  0                 1  \n",
              "2            3                  1                 1  \n",
              "3            4                  0                 0  \n",
              "4            5                  2                 0  \n",
              "5            4                  0                 1  \n",
              "6            4                  0                 0  \n",
              "7            2                  1                 1  \n",
              "8            5                  2                 1  \n",
              "9            4                  0                 1  "
            ],
            "text/html": [
              "<div>\n",
              "<style scoped>\n",
              "    .dataframe tbody tr th:only-of-type {\n",
              "        vertical-align: middle;\n",
              "    }\n",
              "\n",
              "    .dataframe tbody tr th {\n",
              "        vertical-align: top;\n",
              "    }\n",
              "\n",
              "    .dataframe thead th {\n",
              "        text-align: right;\n",
              "    }\n",
              "</style>\n",
              "<table border=\"1\" class=\"dataframe\">\n",
              "  <thead>\n",
              "    <tr style=\"text-align: right;\">\n",
              "      <th></th>\n",
              "      <th>timestamp</th>\n",
              "      <th>send_bc_nr</th>\n",
              "      <th>rcv_bc_nr</th>\n",
              "      <th>rcv_bc_iban</th>\n",
              "      <th>rcv_bc_country</th>\n",
              "      <th>rcv_bc_code</th>\n",
              "      <th>rcv_iban</th>\n",
              "      <th>valuta_date</th>\n",
              "      <th>cust_konto_nr</th>\n",
              "      <th>cust_vname</th>\n",
              "      <th>cust_nname</th>\n",
              "      <th>cust_ort</th>\n",
              "      <th>cust_kanton</th>\n",
              "      <th>cust_sprachregion</th>\n",
              "      <th>cust_auth_device</th>\n",
              "    </tr>\n",
              "  </thead>\n",
              "  <tbody>\n",
              "    <tr>\n",
              "      <th>0</th>\n",
              "      <td>0</td>\n",
              "      <td>0</td>\n",
              "      <td>36</td>\n",
              "      <td>36</td>\n",
              "      <td>29</td>\n",
              "      <td>36</td>\n",
              "      <td>28548</td>\n",
              "      <td>2</td>\n",
              "      <td>13943</td>\n",
              "      <td>261</td>\n",
              "      <td>164</td>\n",
              "      <td>217</td>\n",
              "      <td>4</td>\n",
              "      <td>0</td>\n",
              "      <td>0</td>\n",
              "    </tr>\n",
              "    <tr>\n",
              "      <th>1</th>\n",
              "      <td>0</td>\n",
              "      <td>0</td>\n",
              "      <td>67</td>\n",
              "      <td>67</td>\n",
              "      <td>56</td>\n",
              "      <td>67</td>\n",
              "      <td>53597</td>\n",
              "      <td>3</td>\n",
              "      <td>13891</td>\n",
              "      <td>247</td>\n",
              "      <td>1239</td>\n",
              "      <td>251</td>\n",
              "      <td>1</td>\n",
              "      <td>0</td>\n",
              "      <td>1</td>\n",
              "    </tr>\n",
              "    <tr>\n",
              "      <th>2</th>\n",
              "      <td>1</td>\n",
              "      <td>0</td>\n",
              "      <td>74</td>\n",
              "      <td>74</td>\n",
              "      <td>32</td>\n",
              "      <td>74</td>\n",
              "      <td>59059</td>\n",
              "      <td>1974</td>\n",
              "      <td>10414</td>\n",
              "      <td>84</td>\n",
              "      <td>2629</td>\n",
              "      <td>667</td>\n",
              "      <td>3</td>\n",
              "      <td>1</td>\n",
              "      <td>1</td>\n",
              "    </tr>\n",
              "    <tr>\n",
              "      <th>3</th>\n",
              "      <td>1</td>\n",
              "      <td>0</td>\n",
              "      <td>60</td>\n",
              "      <td>60</td>\n",
              "      <td>60</td>\n",
              "      <td>60</td>\n",
              "      <td>48335</td>\n",
              "      <td>1975</td>\n",
              "      <td>15222</td>\n",
              "      <td>18</td>\n",
              "      <td>1943</td>\n",
              "      <td>532</td>\n",
              "      <td>4</td>\n",
              "      <td>0</td>\n",
              "      <td>0</td>\n",
              "    </tr>\n",
              "    <tr>\n",
              "      <th>4</th>\n",
              "      <td>2</td>\n",
              "      <td>0</td>\n",
              "      <td>41</td>\n",
              "      <td>41</td>\n",
              "      <td>37</td>\n",
              "      <td>41</td>\n",
              "      <td>33136</td>\n",
              "      <td>3945</td>\n",
              "      <td>13286</td>\n",
              "      <td>18</td>\n",
              "      <td>2977</td>\n",
              "      <td>86</td>\n",
              "      <td>5</td>\n",
              "      <td>2</td>\n",
              "      <td>0</td>\n",
              "    </tr>\n",
              "    <tr>\n",
              "      <th>5</th>\n",
              "      <td>2</td>\n",
              "      <td>0</td>\n",
              "      <td>5</td>\n",
              "      <td>5</td>\n",
              "      <td>5</td>\n",
              "      <td>5</td>\n",
              "      <td>4390</td>\n",
              "      <td>3946</td>\n",
              "      <td>3589</td>\n",
              "      <td>313</td>\n",
              "      <td>1880</td>\n",
              "      <td>385</td>\n",
              "      <td>4</td>\n",
              "      <td>0</td>\n",
              "      <td>1</td>\n",
              "    </tr>\n",
              "    <tr>\n",
              "      <th>6</th>\n",
              "      <td>3</td>\n",
              "      <td>0</td>\n",
              "      <td>4</td>\n",
              "      <td>4</td>\n",
              "      <td>2</td>\n",
              "      <td>4</td>\n",
              "      <td>3287</td>\n",
              "      <td>5917</td>\n",
              "      <td>5494</td>\n",
              "      <td>401</td>\n",
              "      <td>1009</td>\n",
              "      <td>594</td>\n",
              "      <td>4</td>\n",
              "      <td>0</td>\n",
              "      <td>0</td>\n",
              "    </tr>\n",
              "    <tr>\n",
              "      <th>7</th>\n",
              "      <td>3</td>\n",
              "      <td>0</td>\n",
              "      <td>47</td>\n",
              "      <td>47</td>\n",
              "      <td>46</td>\n",
              "      <td>47</td>\n",
              "      <td>37623</td>\n",
              "      <td>5918</td>\n",
              "      <td>10647</td>\n",
              "      <td>277</td>\n",
              "      <td>2058</td>\n",
              "      <td>229</td>\n",
              "      <td>2</td>\n",
              "      <td>1</td>\n",
              "      <td>1</td>\n",
              "    </tr>\n",
              "    <tr>\n",
              "      <th>8</th>\n",
              "      <td>4</td>\n",
              "      <td>0</td>\n",
              "      <td>63</td>\n",
              "      <td>63</td>\n",
              "      <td>58</td>\n",
              "      <td>63</td>\n",
              "      <td>50252</td>\n",
              "      <td>7890</td>\n",
              "      <td>19990</td>\n",
              "      <td>128</td>\n",
              "      <td>2229</td>\n",
              "      <td>678</td>\n",
              "      <td>5</td>\n",
              "      <td>2</td>\n",
              "      <td>1</td>\n",
              "    </tr>\n",
              "    <tr>\n",
              "      <th>9</th>\n",
              "      <td>4</td>\n",
              "      <td>0</td>\n",
              "      <td>52</td>\n",
              "      <td>52</td>\n",
              "      <td>47</td>\n",
              "      <td>52</td>\n",
              "      <td>41360</td>\n",
              "      <td>7891</td>\n",
              "      <td>4624</td>\n",
              "      <td>396</td>\n",
              "      <td>2736</td>\n",
              "      <td>217</td>\n",
              "      <td>4</td>\n",
              "      <td>0</td>\n",
              "      <td>1</td>\n",
              "    </tr>\n",
              "  </tbody>\n",
              "</table>\n",
              "</div>"
            ]
          },
          "metadata": {
            "tags": []
          },
          "execution_count": 3
        }
      ]
    },
    {
      "cell_type": "markdown",
      "metadata": {
        "id": "T7I1cx12_2Gv",
        "colab_type": "text"
      },
      "source": [
        "#Ermittlung potenzieller Kundenrisikogruppen# \n",
        "##Supervised Learning mit neuronalen Netzwerken##\n"
      ]
    },
    {
      "cell_type": "code",
      "metadata": {
        "id": "b57Ggf-x-Iet",
        "colab_type": "code",
        "colab": {}
      },
      "source": [
        "%matplotlib inline\n",
        "import pandas as pd\n",
        "import numpy as np\n",
        "import matplotlib.pyplot as plt\n",
        "\n",
        "\n",
        "# Laden der 600000 Transaktionsdaten \n",
        "trx_data_url = 'https://raw.githubusercontent.com/sakuronohana/cas_datenanalyse/master/Semesterarbeit/Dataset/trx_data_ml.csv'\n",
        "\n",
        "trx_data_ml = pd.read_csv(trx_data_url, delimiter=';')\n",
        "trx_data_ml.head()\n"
      ],
      "execution_count": 0,
      "outputs": []
    },
    {
      "cell_type": "code",
      "metadata": {
        "id": "4reOVH6SOoEs",
        "colab_type": "code",
        "colab": {}
      },
      "source": [
        "trx_data_ol.nunique()"
      ],
      "execution_count": 0,
      "outputs": []
    },
    {
      "cell_type": "code",
      "metadata": {
        "id": "Qa3UBsB4PUcz",
        "colab_type": "code",
        "colab": {}
      },
      "source": [
        "trx_data.fraud_id.map(lambda x:1 if x>=1 else 0).mean()"
      ],
      "execution_count": 0,
      "outputs": []
    },
    {
      "cell_type": "markdown",
      "metadata": {
        "id": "g0Oh1LK53rMd",
        "colab_type": "text"
      },
      "source": [
        "##Datensatz analysieren##\n",
        "\n",
        "##Tipp: Plotting Learning Curves - Scikit !!!!"
      ]
    },
    {
      "cell_type": "code",
      "metadata": {
        "id": "6bzsG7nZ25CG",
        "colab_type": "code",
        "colab": {}
      },
      "source": [
        "# Visualisierung der Nummerischen Daten in dem Datensatz\n",
        "trx_data.hist(bins=50, figsize=(20,15))\n",
        "plt.show()"
      ],
      "execution_count": 0,
      "outputs": []
    },
    {
      "cell_type": "code",
      "metadata": {
        "id": "K-MjsTaU3kS8",
        "colab_type": "code",
        "colab": {}
      },
      "source": [
        "# Suche nach den Korrelationen - Teil 1\n",
        "corr_matrix = trx_data.corr()\n",
        "print ('Korrelation zu Payment ID','\\n',corr_matrix['paym_id'].sort_values(ascending=False))\n",
        "print ('Korrelation zu Zahlungssumme','\\n',corr_matrix['amount'].sort_values(ascending=False))\n",
        "print ('Korrelation zu Kundenvertrag','\\n',corr_matrix['cust_vertrag_nr'].sort_values(ascending=False))\n",
        "print ('Korrelation zu Betrugsid','\\n',corr_matrix['fraud_id'].sort_values(ascending=False))"
      ],
      "execution_count": 0,
      "outputs": []
    },
    {
      "cell_type": "code",
      "metadata": {
        "id": "GXoUuDUY3LpU",
        "colab_type": "code",
        "colab": {}
      },
      "source": [
        "# Bereinigung der Daten\n",
        "pd.to_datetime(trx_data['timestamp'])\n",
        "pd.to_datetime(trx_data['valuta_date'])\n",
        "np.where(np.isnan(trx_data))"
      ],
      "execution_count": 0,
      "outputs": []
    },
    {
      "cell_type": "code",
      "metadata": {
        "id": "c6Vx75189gJV",
        "colab_type": "code",
        "colab": {}
      },
      "source": [
        "# Datensatz in Trainings(80%)- und Testdatenset (20%) teilen\n",
        "from sklearn.model_selection import train_test_split\n",
        "train_trx_data, test_trx_data = train_test_split(trx_data, test_size=0.2, random_state=42) \n",
        "train_trx_data.count(), test_trx_data.count()"
      ],
      "execution_count": 0,
      "outputs": []
    },
    {
      "cell_type": "code",
      "metadata": {
        "id": "WKYDanXj3Vm9",
        "colab_type": "code",
        "colab": {}
      },
      "source": [
        "# Dimensionsreduktion mit PCA\n",
        "from sklearn.decomposition import PCA # Import der PCA Funktion von Scikit Learn\n",
        "from sklearn import preprocessing # Die Preprocessing Funktion hilft uns die Daten zu skalieren bevor sie mit PCA verwendet werden."
      ],
      "execution_count": 0,
      "outputs": []
    }
  ]
}