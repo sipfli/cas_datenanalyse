{
 "cells": [
  {
   "cell_type": "markdown",
   "metadata": {},
   "source": [
    "# Symbol prediction"
   ]
  },
  {
   "cell_type": "markdown",
   "metadata": {},
   "source": [
    "Predict the symbol ('o' '+', 'x') displayed by an image."
   ]
  },
  {
   "cell_type": "code",
   "execution_count": 1,
   "metadata": {
    "collapsed": true
   },
   "outputs": [],
   "source": [
    "%matplotlib inline\n",
    "import matplotlib.pyplot as plt\n",
    "import pandas as pd\n",
    "import numpy as np\n",
    "import skimage.data\n",
    "from sklearn.decomposition import PCA\n",
    "from sklearn.ensemble import RandomForestClassifier\n",
    "from sklearn.model_selection import cross_val_score, StratifiedKFold\n",
    "from sklearn.svm import SVC\n",
    "from sklearn.neighbors import KNeighborsClassifier\n",
    "import xgboost as xgb"
   ]
  },
  {
   "cell_type": "markdown",
   "metadata": {},
   "source": [
    "## Helper methods"
   ]
  },
  {
   "cell_type": "code",
   "execution_count": 2,
   "metadata": {},
   "outputs": [],
   "source": [
    "plt.rcParams['image.cmap'] = 'gray'\n",
    "\n",
    "def remove_ticks(x=True,y=True):\n",
    "    if x: plt.gca().axes.get_xaxis().set_visible(False)\n",
    "    if y: plt.gca().axes.get_yaxis().set_visible(False)\n",
    "\n",
    "def show_pandas_as_images(df, figSize=(15,15),imgPerRow=10,**kwargs):\n",
    "    \"\"\"\n",
    "    Displays the images contained as rows in the passed data frame.\n",
    "    \"\"\"\n",
    "    num_of_images = df.shape[0]\n",
    "    imgList = df.values.reshape(num_of_images, 10, 10)\n",
    "    show_images_inRows(imgList, figSize, imgPerRow, **kwargs)\n",
    "\n",
    "def show_images_inRows(imgList,figSize=(15,15),imgPerRow=10,**kwargs):\n",
    "    \"\"\"\n",
    "    Erstelle aus einer Liste von Pixel-Arrays eine Visualisierung \n",
    "    der dazugehörigen Bilder, für den praktischen visuellen Vergleich.\n",
    "    Gibt jeweils imgPerRow Images in einer Reihe aus\n",
    "    \"\"\"\n",
    "    nImages=len(imgList)\n",
    "    plt.figure(figsize=figSize)\n",
    "    for i, currentImage in enumerate(imgList):\n",
    "        plt.subplot(int(nImages/imgPerRow)+1,imgPerRow,i+1)\n",
    "        plt.imshow(currentImage, **kwargs);\n",
    "        remove_ticks()\n",
    "        \n",
    "def perform_cross_validation(clf, X, y):\n",
    "    \"\"\"\n",
    "    Performs a cross-validation with the passed classifier and prints the result.\n",
    "    \"\"\"\n",
    "    cv = StratifiedKFold(n_splits=5, random_state=seed)\n",
    "    cv_scores = cross_val_score(clf, X, y, scoring='accuracy', cv=cv)\n",
    "    clf.fit(X, y)\n",
    "    print(\"Cross-validation scores:\", cv_scores)\n",
    "    print(\"Mean:\", cv_scores.mean())\n",
    "    if hasattr(clf, 'feature_importances_'):        \n",
    "        print(\"Feature importances:\", clf.feature_importances_)\n",
    "    return"
   ]
  },
  {
   "cell_type": "markdown",
   "metadata": {},
   "source": [
    "## Read the features from the CSV"
   ]
  },
  {
   "cell_type": "code",
   "execution_count": 3,
   "metadata": {},
   "outputs": [
    {
     "data": {
      "text/plain": [
       "(396, 102)"
      ]
     },
     "execution_count": 3,
     "metadata": {},
     "output_type": "execute_result"
    }
   ],
   "source": [
    "# Read data file\n",
    "all_data = pd.read_csv('data/cleaned_data.csv', header=None)\n",
    "all_data.shape"
   ]
  },
  {
   "cell_type": "code",
   "execution_count": 4,
   "metadata": {},
   "outputs": [
    {
     "data": {
      "text/html": [
       "<div>\n",
       "<style scoped>\n",
       "    .dataframe tbody tr th:only-of-type {\n",
       "        vertical-align: middle;\n",
       "    }\n",
       "\n",
       "    .dataframe tbody tr th {\n",
       "        vertical-align: top;\n",
       "    }\n",
       "\n",
       "    .dataframe thead th {\n",
       "        text-align: right;\n",
       "    }\n",
       "</style>\n",
       "<table border=\"1\" class=\"dataframe\">\n",
       "  <thead>\n",
       "    <tr style=\"text-align: right;\">\n",
       "      <th></th>\n",
       "      <th>0</th>\n",
       "      <th>1</th>\n",
       "      <th>2</th>\n",
       "      <th>3</th>\n",
       "      <th>4</th>\n",
       "      <th>5</th>\n",
       "      <th>6</th>\n",
       "      <th>7</th>\n",
       "      <th>8</th>\n",
       "      <th>9</th>\n",
       "      <th>...</th>\n",
       "      <th>92</th>\n",
       "      <th>93</th>\n",
       "      <th>94</th>\n",
       "      <th>95</th>\n",
       "      <th>96</th>\n",
       "      <th>97</th>\n",
       "      <th>98</th>\n",
       "      <th>99</th>\n",
       "      <th>100</th>\n",
       "      <th>101</th>\n",
       "    </tr>\n",
       "  </thead>\n",
       "  <tbody>\n",
       "    <tr>\n",
       "      <th>0</th>\n",
       "      <td>x</td>\n",
       "      <td>0</td>\n",
       "      <td>0</td>\n",
       "      <td>0</td>\n",
       "      <td>0</td>\n",
       "      <td>0</td>\n",
       "      <td>0</td>\n",
       "      <td>0</td>\n",
       "      <td>0</td>\n",
       "      <td>0</td>\n",
       "      <td>...</td>\n",
       "      <td>0</td>\n",
       "      <td>0</td>\n",
       "      <td>0</td>\n",
       "      <td>0</td>\n",
       "      <td>0</td>\n",
       "      <td>0</td>\n",
       "      <td>1</td>\n",
       "      <td>0</td>\n",
       "      <td>0</td>\n",
       "      <td>MK-ABX.csv</td>\n",
       "    </tr>\n",
       "    <tr>\n",
       "      <th>1</th>\n",
       "      <td>p</td>\n",
       "      <td>0</td>\n",
       "      <td>0</td>\n",
       "      <td>0</td>\n",
       "      <td>0</td>\n",
       "      <td>1</td>\n",
       "      <td>0</td>\n",
       "      <td>0</td>\n",
       "      <td>0</td>\n",
       "      <td>0</td>\n",
       "      <td>...</td>\n",
       "      <td>0</td>\n",
       "      <td>0</td>\n",
       "      <td>0</td>\n",
       "      <td>0</td>\n",
       "      <td>0</td>\n",
       "      <td>0</td>\n",
       "      <td>0</td>\n",
       "      <td>0</td>\n",
       "      <td>0</td>\n",
       "      <td>MK-ABX.csv</td>\n",
       "    </tr>\n",
       "    <tr>\n",
       "      <th>2</th>\n",
       "      <td>p</td>\n",
       "      <td>0</td>\n",
       "      <td>0</td>\n",
       "      <td>0</td>\n",
       "      <td>0</td>\n",
       "      <td>1</td>\n",
       "      <td>0</td>\n",
       "      <td>0</td>\n",
       "      <td>0</td>\n",
       "      <td>0</td>\n",
       "      <td>...</td>\n",
       "      <td>0</td>\n",
       "      <td>0</td>\n",
       "      <td>0</td>\n",
       "      <td>0</td>\n",
       "      <td>0</td>\n",
       "      <td>0</td>\n",
       "      <td>0</td>\n",
       "      <td>0</td>\n",
       "      <td>0</td>\n",
       "      <td>MK-ABX.csv</td>\n",
       "    </tr>\n",
       "    <tr>\n",
       "      <th>3</th>\n",
       "      <td>o</td>\n",
       "      <td>0</td>\n",
       "      <td>0</td>\n",
       "      <td>0</td>\n",
       "      <td>0</td>\n",
       "      <td>1</td>\n",
       "      <td>1</td>\n",
       "      <td>1</td>\n",
       "      <td>1</td>\n",
       "      <td>0</td>\n",
       "      <td>...</td>\n",
       "      <td>0</td>\n",
       "      <td>0</td>\n",
       "      <td>1</td>\n",
       "      <td>1</td>\n",
       "      <td>1</td>\n",
       "      <td>1</td>\n",
       "      <td>0</td>\n",
       "      <td>0</td>\n",
       "      <td>0</td>\n",
       "      <td>MK-ABX.csv</td>\n",
       "    </tr>\n",
       "    <tr>\n",
       "      <th>4</th>\n",
       "      <td>x</td>\n",
       "      <td>0</td>\n",
       "      <td>0</td>\n",
       "      <td>1</td>\n",
       "      <td>0</td>\n",
       "      <td>0</td>\n",
       "      <td>0</td>\n",
       "      <td>0</td>\n",
       "      <td>0</td>\n",
       "      <td>0</td>\n",
       "      <td>...</td>\n",
       "      <td>0</td>\n",
       "      <td>0</td>\n",
       "      <td>0</td>\n",
       "      <td>0</td>\n",
       "      <td>0</td>\n",
       "      <td>0</td>\n",
       "      <td>0</td>\n",
       "      <td>0</td>\n",
       "      <td>1</td>\n",
       "      <td>MK-ABX.csv</td>\n",
       "    </tr>\n",
       "  </tbody>\n",
       "</table>\n",
       "<p>5 rows × 102 columns</p>\n",
       "</div>"
      ],
      "text/plain": [
       "  0    1    2    3    4    5    6    7    8    9    ...  92   93   94   95   \\\n",
       "0   x    0    0    0    0    0    0    0    0    0  ...    0    0    0    0   \n",
       "1   p    0    0    0    0    1    0    0    0    0  ...    0    0    0    0   \n",
       "2   p    0    0    0    0    1    0    0    0    0  ...    0    0    0    0   \n",
       "3   o    0    0    0    0    1    1    1    1    0  ...    0    0    1    1   \n",
       "4   x    0    0    1    0    0    0    0    0    0  ...    0    0    0    0   \n",
       "\n",
       "   96   97   98   99   100         101  \n",
       "0    0    0    1    0    0  MK-ABX.csv  \n",
       "1    0    0    0    0    0  MK-ABX.csv  \n",
       "2    0    0    0    0    0  MK-ABX.csv  \n",
       "3    1    1    0    0    0  MK-ABX.csv  \n",
       "4    0    0    0    0    1  MK-ABX.csv  \n",
       "\n",
       "[5 rows x 102 columns]"
      ]
     },
     "execution_count": 4,
     "metadata": {},
     "output_type": "execute_result"
    }
   ],
   "source": [
    "all_data.head()"
   ]
  },
  {
   "cell_type": "code",
   "execution_count": 5,
   "metadata": {},
   "outputs": [
    {
     "data": {
      "text/plain": [
       "(396,)"
      ]
     },
     "execution_count": 5,
     "metadata": {},
     "output_type": "execute_result"
    }
   ],
   "source": [
    "y = all_data.iloc[:,0]\n",
    "y.shape"
   ]
  },
  {
   "cell_type": "code",
   "execution_count": 6,
   "metadata": {},
   "outputs": [
    {
     "data": {
      "text/plain": [
       "0    x\n",
       "1    p\n",
       "2    p\n",
       "3    o\n",
       "4    x\n",
       "Name: 0, dtype: object"
      ]
     },
     "execution_count": 6,
     "metadata": {},
     "output_type": "execute_result"
    }
   ],
   "source": [
    "y.head()"
   ]
  },
  {
   "cell_type": "code",
   "execution_count": 7,
   "metadata": {},
   "outputs": [],
   "source": [
    "# one hot encoding of y\n",
    "y_p = np.where(y == 'p', 1, 0)\n",
    "y_o = np.where(y == 'o', 1, 0)\n",
    "y_x = np.where(y == 'x', 1, 0)"
   ]
  },
  {
   "cell_type": "code",
   "execution_count": 8,
   "metadata": {},
   "outputs": [
    {
     "data": {
      "text/plain": [
       "(396,)"
      ]
     },
     "execution_count": 8,
     "metadata": {},
     "output_type": "execute_result"
    }
   ],
   "source": [
    "source = all_data.iloc[:,-1]\n",
    "source.shape"
   ]
  },
  {
   "cell_type": "code",
   "execution_count": 9,
   "metadata": {},
   "outputs": [
    {
     "data": {
      "text/plain": [
       "0    MK-ABX.csv\n",
       "1    MK-ABX.csv\n",
       "2    MK-ABX.csv\n",
       "3    MK-ABX.csv\n",
       "4    MK-ABX.csv\n",
       "Name: 101, dtype: object"
      ]
     },
     "execution_count": 9,
     "metadata": {},
     "output_type": "execute_result"
    }
   ],
   "source": [
    "source.head()"
   ]
  },
  {
   "cell_type": "code",
   "execution_count": 10,
   "metadata": {},
   "outputs": [
    {
     "data": {
      "text/plain": [
       "(396, 100)"
      ]
     },
     "execution_count": 10,
     "metadata": {},
     "output_type": "execute_result"
    }
   ],
   "source": [
    "X = all_data.iloc[:,1:-1]\n",
    "X.shape"
   ]
  },
  {
   "cell_type": "code",
   "execution_count": 11,
   "metadata": {},
   "outputs": [
    {
     "data": {
      "text/html": [
       "<div>\n",
       "<style scoped>\n",
       "    .dataframe tbody tr th:only-of-type {\n",
       "        vertical-align: middle;\n",
       "    }\n",
       "\n",
       "    .dataframe tbody tr th {\n",
       "        vertical-align: top;\n",
       "    }\n",
       "\n",
       "    .dataframe thead th {\n",
       "        text-align: right;\n",
       "    }\n",
       "</style>\n",
       "<table border=\"1\" class=\"dataframe\">\n",
       "  <thead>\n",
       "    <tr style=\"text-align: right;\">\n",
       "      <th></th>\n",
       "      <th>1</th>\n",
       "      <th>2</th>\n",
       "      <th>3</th>\n",
       "      <th>4</th>\n",
       "      <th>5</th>\n",
       "      <th>6</th>\n",
       "      <th>7</th>\n",
       "      <th>8</th>\n",
       "      <th>9</th>\n",
       "      <th>10</th>\n",
       "      <th>...</th>\n",
       "      <th>91</th>\n",
       "      <th>92</th>\n",
       "      <th>93</th>\n",
       "      <th>94</th>\n",
       "      <th>95</th>\n",
       "      <th>96</th>\n",
       "      <th>97</th>\n",
       "      <th>98</th>\n",
       "      <th>99</th>\n",
       "      <th>100</th>\n",
       "    </tr>\n",
       "  </thead>\n",
       "  <tbody>\n",
       "    <tr>\n",
       "      <th>0</th>\n",
       "      <td>0</td>\n",
       "      <td>0</td>\n",
       "      <td>0</td>\n",
       "      <td>0</td>\n",
       "      <td>0</td>\n",
       "      <td>0</td>\n",
       "      <td>0</td>\n",
       "      <td>0</td>\n",
       "      <td>0</td>\n",
       "      <td>1</td>\n",
       "      <td>...</td>\n",
       "      <td>0</td>\n",
       "      <td>0</td>\n",
       "      <td>0</td>\n",
       "      <td>0</td>\n",
       "      <td>0</td>\n",
       "      <td>0</td>\n",
       "      <td>0</td>\n",
       "      <td>1</td>\n",
       "      <td>0</td>\n",
       "      <td>0</td>\n",
       "    </tr>\n",
       "    <tr>\n",
       "      <th>1</th>\n",
       "      <td>0</td>\n",
       "      <td>0</td>\n",
       "      <td>0</td>\n",
       "      <td>0</td>\n",
       "      <td>1</td>\n",
       "      <td>0</td>\n",
       "      <td>0</td>\n",
       "      <td>0</td>\n",
       "      <td>0</td>\n",
       "      <td>0</td>\n",
       "      <td>...</td>\n",
       "      <td>0</td>\n",
       "      <td>0</td>\n",
       "      <td>0</td>\n",
       "      <td>0</td>\n",
       "      <td>0</td>\n",
       "      <td>0</td>\n",
       "      <td>0</td>\n",
       "      <td>0</td>\n",
       "      <td>0</td>\n",
       "      <td>0</td>\n",
       "    </tr>\n",
       "    <tr>\n",
       "      <th>2</th>\n",
       "      <td>0</td>\n",
       "      <td>0</td>\n",
       "      <td>0</td>\n",
       "      <td>0</td>\n",
       "      <td>1</td>\n",
       "      <td>0</td>\n",
       "      <td>0</td>\n",
       "      <td>0</td>\n",
       "      <td>0</td>\n",
       "      <td>0</td>\n",
       "      <td>...</td>\n",
       "      <td>0</td>\n",
       "      <td>0</td>\n",
       "      <td>0</td>\n",
       "      <td>0</td>\n",
       "      <td>0</td>\n",
       "      <td>0</td>\n",
       "      <td>0</td>\n",
       "      <td>0</td>\n",
       "      <td>0</td>\n",
       "      <td>0</td>\n",
       "    </tr>\n",
       "    <tr>\n",
       "      <th>3</th>\n",
       "      <td>0</td>\n",
       "      <td>0</td>\n",
       "      <td>0</td>\n",
       "      <td>0</td>\n",
       "      <td>1</td>\n",
       "      <td>1</td>\n",
       "      <td>1</td>\n",
       "      <td>1</td>\n",
       "      <td>0</td>\n",
       "      <td>0</td>\n",
       "      <td>...</td>\n",
       "      <td>0</td>\n",
       "      <td>0</td>\n",
       "      <td>0</td>\n",
       "      <td>1</td>\n",
       "      <td>1</td>\n",
       "      <td>1</td>\n",
       "      <td>1</td>\n",
       "      <td>0</td>\n",
       "      <td>0</td>\n",
       "      <td>0</td>\n",
       "    </tr>\n",
       "    <tr>\n",
       "      <th>4</th>\n",
       "      <td>0</td>\n",
       "      <td>0</td>\n",
       "      <td>1</td>\n",
       "      <td>0</td>\n",
       "      <td>0</td>\n",
       "      <td>0</td>\n",
       "      <td>0</td>\n",
       "      <td>0</td>\n",
       "      <td>0</td>\n",
       "      <td>0</td>\n",
       "      <td>...</td>\n",
       "      <td>1</td>\n",
       "      <td>0</td>\n",
       "      <td>0</td>\n",
       "      <td>0</td>\n",
       "      <td>0</td>\n",
       "      <td>0</td>\n",
       "      <td>0</td>\n",
       "      <td>0</td>\n",
       "      <td>0</td>\n",
       "      <td>1</td>\n",
       "    </tr>\n",
       "  </tbody>\n",
       "</table>\n",
       "<p>5 rows × 100 columns</p>\n",
       "</div>"
      ],
      "text/plain": [
       "   1    2    3    4    5    6    7    8    9    10   ...  91   92   93   94   \\\n",
       "0    0    0    0    0    0    0    0    0    0    1  ...    0    0    0    0   \n",
       "1    0    0    0    0    1    0    0    0    0    0  ...    0    0    0    0   \n",
       "2    0    0    0    0    1    0    0    0    0    0  ...    0    0    0    0   \n",
       "3    0    0    0    0    1    1    1    1    0    0  ...    0    0    0    1   \n",
       "4    0    0    1    0    0    0    0    0    0    0  ...    1    0    0    0   \n",
       "\n",
       "   95   96   97   98   99   100  \n",
       "0    0    0    0    1    0    0  \n",
       "1    0    0    0    0    0    0  \n",
       "2    0    0    0    0    0    0  \n",
       "3    1    1    1    0    0    0  \n",
       "4    0    0    0    0    0    1  \n",
       "\n",
       "[5 rows x 100 columns]"
      ]
     },
     "execution_count": 11,
     "metadata": {},
     "output_type": "execute_result"
    }
   ],
   "source": [
    "X.head()"
   ]
  },
  {
   "cell_type": "code",
   "execution_count": 12,
   "metadata": {},
   "outputs": [
    {
     "data": {
      "image/png": "[encoded data removed]",
      "text/plain": [
       "<Figure size 1080x1080 with 396 Axes>"
      ]
     },
     "metadata": {
      "needs_background": "light"
     },
     "output_type": "display_data"
    }
   ],
   "source": [
    "show_pandas_as_images(X, figSize=(15, 15))"
   ]
  },
  {
   "cell_type": "markdown",
   "metadata": {},
   "source": [
    "## Cross-validation scores for models based on pixels"
   ]
  },
  {
   "cell_type": "code",
   "execution_count": 13,
   "metadata": {},
   "outputs": [],
   "source": [
    "seed = 42"
   ]
  },
  {
   "cell_type": "code",
   "execution_count": 14,
   "metadata": {},
   "outputs": [
    {
     "name": "stdout",
     "output_type": "stream",
     "text": [
      "Cross-validation scores: [0.97530864 0.925      0.97468354 0.8974359  1.        ]\n",
      "Mean: 0.9544856167430007\n",
      "Feature importances: [0.00018495 0.00185837 0.00042321 0.0022441  0.00808044 0.00300894\n",
      " 0.0028372  0.00132282 0.00254615 0.00715228 0.0005417  0.00899385\n",
      " 0.00297304 0.00423297 0.00569059 0.00584961 0.00493298 0.01402946\n",
      " 0.00897371 0.00109221 0.00352893 0.00518949 0.00612485 0.00169057\n",
      " 0.00193291 0.00161558 0.00166701 0.01016498 0.00661571 0.00208057\n",
      " 0.00446589 0.00429616 0.00212967 0.00210228 0.00922004 0.00345361\n",
      " 0.00446346 0.00159795 0.00588442 0.01471867 0.02427177 0.0145191\n",
      " 0.00318771 0.01888835 0.06282282 0.02505392 0.01080264 0.00841846\n",
      " 0.00996843 0.02554571 0.04827279 0.01967455 0.01008917 0.02983159\n",
      " 0.03270901 0.01707809 0.00591216 0.00417072 0.01112645 0.01405912\n",
      " 0.01992583 0.00365851 0.00999147 0.00915788 0.00862048 0.00407399\n",
      " 0.00935271 0.00387239 0.00530832 0.01738353 0.00732824 0.04378999\n",
      " 0.00381867 0.0087151  0.00415263 0.00188052 0.00819505 0.0265515\n",
      " 0.00543089 0.00609267 0.0211247  0.02657731 0.00312994 0.00826872\n",
      " 0.00688329 0.01136703 0.00528207 0.01592803 0.01210319 0.00143335\n",
      " 0.00713336 0.00391795 0.00347478 0.03654813 0.02960796 0.00571777\n",
      " 0.00293077 0.00198353 0.00197252 0.01100136]\n"
     ]
    }
   ],
   "source": [
    "# Random forest\n",
    "clf = RandomForestClassifier(n_estimators=100, random_state=seed)\n",
    "perform_cross_validation(clf, X, y)"
   ]
  },
  {
   "cell_type": "code",
   "execution_count": 15,
   "metadata": {},
   "outputs": [
    {
     "name": "stdout",
     "output_type": "stream",
     "text": [
      "Cross-validation scores: [1.         0.9125     0.92405063 0.83333333 1.        ]\n",
      "Mean: 0.9339767932489451\n",
      "Feature importances: [0.         0.0008726  0.         0.0104712  0.0104712  0.\n",
      " 0.01657941 0.0008726  0.0008726  0.04013962 0.         0.0008726\n",
      " 0.         0.         0.03577662 0.         0.02181501 0.0104712\n",
      " 0.02966841 0.0026178  0.02268761 0.         0.         0.0052356\n",
      " 0.0034904  0.         0.         0.0034904  0.0008726  0.004363\n",
      " 0.         0.0026178  0.0026178  0.0026178  0.01745201 0.0034904\n",
      " 0.0008726  0.0017452  0.0026178  0.01396161 0.01221641 0.02181501\n",
      " 0.0078534  0.02792321 0.03141361 0.02268761 0.0069808  0.0113438\n",
      " 0.0095986  0.02006981 0.02181501 0.0113438  0.0069808  0.01832461\n",
      " 0.02617801 0.0104712  0.0069808  0.         0.03577662 0.03141361\n",
      " 0.02006981 0.         0.0104712  0.02094241 0.         0.004363\n",
      " 0.         0.0026178  0.0017452  0.01221641 0.008726   0.02966841\n",
      " 0.0113438  0.         0.01832461 0.0078534  0.0034904  0.02530541\n",
      " 0.01745201 0.01570681 0.0104712  0.02879581 0.         0.\n",
      " 0.0078534  0.0052356  0.         0.02443281 0.0008726  0.\n",
      " 0.004363   0.02443281 0.0026178  0.03315881 0.0017452  0.0052356\n",
      " 0.         0.         0.         0.02966841]\n"
     ]
    }
   ],
   "source": [
    "# XGBoost\n",
    "clf = xgb.XGBClassifier(random_state=seed)    \n",
    "perform_cross_validation(clf, X, y)"
   ]
  },
  {
   "cell_type": "code",
   "execution_count": 16,
   "metadata": {},
   "outputs": [
    {
     "name": "stdout",
     "output_type": "stream",
     "text": [
      "Cross-validation scores: [0.33333333 0.3375     0.32911392 0.33333333 0.33333333]\n",
      "Mean: 0.33332278481012656\n"
     ]
    }
   ],
   "source": [
    "# SVM\n",
    "# -> Seems not to work with categorize\n",
    "clf = SVC(kernel=\"rbf\", gamma=5, C=1000)    \n",
    "perform_cross_validation(clf, X, y)"
   ]
  },
  {
   "cell_type": "code",
   "execution_count": 17,
   "metadata": {},
   "outputs": [
    {
     "name": "stdout",
     "output_type": "stream",
     "text": [
      "Cross-validation scores: [0.96296296 0.925      0.97468354 0.97435897 1.        ]\n",
      "Mean: 0.9674010963251469\n"
     ]
    }
   ],
   "source": [
    "# KNN\n",
    "clf = KNeighborsClassifier(n_neighbors=10)    \n",
    "perform_cross_validation(clf, X, y)"
   ]
  },
  {
   "cell_type": "markdown",
   "metadata": {},
   "source": [
    "## Cross-validation based on PCA"
   ]
  },
  {
   "cell_type": "code",
   "execution_count": 18,
   "metadata": {},
   "outputs": [
    {
     "data": {
      "text/plain": [
       "(396, 3)"
      ]
     },
     "execution_count": 18,
     "metadata": {},
     "output_type": "execute_result"
    }
   ],
   "source": [
    "# PCA on the images\n",
    "trf = PCA(n_components=3,whiten=True)\n",
    "X_pca = trf.fit_transform(X)\n",
    "X_pca.shape"
   ]
  },
  {
   "cell_type": "code",
   "execution_count": 19,
   "metadata": {},
   "outputs": [
    {
     "data": {
      "text/plain": [
       "(3, 10, 10)"
      ]
     },
     "execution_count": 19,
     "metadata": {},
     "output_type": "execute_result"
    }
   ],
   "source": [
    "# reshape to match image size\n",
    "comp = trf.components_\n",
    "comp_img=comp.reshape(-1,10,10)\n",
    "comp_img.shape"
   ]
  },
  {
   "cell_type": "code",
   "execution_count": 20,
   "metadata": {},
   "outputs": [
    {
     "data": {
      "image/png": "[encoded data removed]",
      "text/plain": [
       "<Figure size 1440x1440 with 3 Axes>"
      ]
     },
     "metadata": {
      "needs_background": "light"
     },
     "output_type": "display_data"
    }
   ],
   "source": [
    "show_images_inRows(comp_img, figSize=(20,20), interpolation='none')"
   ]
  },
  {
   "cell_type": "code",
   "execution_count": 21,
   "metadata": {},
   "outputs": [
    {
     "name": "stdout",
     "output_type": "stream",
     "text": [
      "Cross-validation scores: [0.9382716  0.95       0.94936709 1.         0.98717949]\n",
      "Mean: 0.9649636361450706\n",
      "Feature importances: [0.43736018 0.41741351 0.1452263 ]\n"
     ]
    }
   ],
   "source": [
    "# Random forest\n",
    "clf = RandomForestClassifier(n_estimators=100, random_state=seed)\n",
    "perform_cross_validation(clf, X_pca, y)"
   ]
  },
  {
   "cell_type": "code",
   "execution_count": 22,
   "metadata": {},
   "outputs": [
    {
     "name": "stdout",
     "output_type": "stream",
     "text": [
      "Cross-validation scores: [0.92592593 0.95       0.94936709 0.98717949 0.98717949]\n",
      "Mean: 0.959930397778499\n",
      "Feature importances: [0.34072024 0.4192059  0.24007387]\n"
     ]
    }
   ],
   "source": [
    "# XGBoost\n",
    "clf = xgb.XGBClassifier(random_state=seed)    \n",
    "perform_cross_validation(clf, X_pca, y)"
   ]
  },
  {
   "cell_type": "code",
   "execution_count": 23,
   "metadata": {},
   "outputs": [
    {
     "name": "stdout",
     "output_type": "stream",
     "text": [
      "Cross-validation scores: [0.96296296 0.9375     0.94936709 1.         0.98717949]\n",
      "Mean: 0.9674019077500089\n"
     ]
    }
   ],
   "source": [
    "# KNN\n",
    "clf = KNeighborsClassifier(n_neighbors=10)    \n",
    "perform_cross_validation(clf, X_pca, y)"
   ]
  },
  {
   "cell_type": "markdown",
   "metadata": {},
   "source": [
    "- The PCA improves the accuracy and reduces the training time."
   ]
  },
  {
   "cell_type": "markdown",
   "metadata": {},
   "source": [
    "## Add additional features (number of white pixels)"
   ]
  },
  {
   "cell_type": "code",
   "execution_count": 24,
   "metadata": {},
   "outputs": [
    {
     "data": {
      "text/html": [
       "<div>\n",
       "<style scoped>\n",
       "    .dataframe tbody tr th:only-of-type {\n",
       "        vertical-align: middle;\n",
       "    }\n",
       "\n",
       "    .dataframe tbody tr th {\n",
       "        vertical-align: top;\n",
       "    }\n",
       "\n",
       "    .dataframe thead th {\n",
       "        text-align: right;\n",
       "    }\n",
       "</style>\n",
       "<table border=\"1\" class=\"dataframe\">\n",
       "  <thead>\n",
       "    <tr style=\"text-align: right;\">\n",
       "      <th></th>\n",
       "      <th>1</th>\n",
       "      <th>2</th>\n",
       "      <th>3</th>\n",
       "      <th>4</th>\n",
       "      <th>5</th>\n",
       "      <th>6</th>\n",
       "      <th>7</th>\n",
       "      <th>8</th>\n",
       "      <th>9</th>\n",
       "      <th>10</th>\n",
       "      <th>...</th>\n",
       "      <th>RelNumOfPixelsRow0</th>\n",
       "      <th>RelNumOfPixelsRow1</th>\n",
       "      <th>RelNumOfPixelsRow2</th>\n",
       "      <th>RelNumOfPixelsRow3</th>\n",
       "      <th>RelNumOfPixelsRow4</th>\n",
       "      <th>RelNumOfPixelsRow5</th>\n",
       "      <th>RelNumOfPixelsRow6</th>\n",
       "      <th>RelNumOfPixelsRow7</th>\n",
       "      <th>RelNumOfPixelsRow8</th>\n",
       "      <th>RelNumOfPixelsRow9</th>\n",
       "    </tr>\n",
       "  </thead>\n",
       "  <tbody>\n",
       "    <tr>\n",
       "      <th>0</th>\n",
       "      <td>0</td>\n",
       "      <td>0</td>\n",
       "      <td>0</td>\n",
       "      <td>0</td>\n",
       "      <td>0</td>\n",
       "      <td>0</td>\n",
       "      <td>0</td>\n",
       "      <td>0</td>\n",
       "      <td>0</td>\n",
       "      <td>1</td>\n",
       "      <td>...</td>\n",
       "      <td>0.066667</td>\n",
       "      <td>0.133333</td>\n",
       "      <td>0.133333</td>\n",
       "      <td>0.000000</td>\n",
       "      <td>0.133333</td>\n",
       "      <td>0.133333</td>\n",
       "      <td>0.133333</td>\n",
       "      <td>0.133333</td>\n",
       "      <td>0.066667</td>\n",
       "      <td>0.066667</td>\n",
       "    </tr>\n",
       "    <tr>\n",
       "      <th>1</th>\n",
       "      <td>0</td>\n",
       "      <td>0</td>\n",
       "      <td>0</td>\n",
       "      <td>0</td>\n",
       "      <td>1</td>\n",
       "      <td>0</td>\n",
       "      <td>0</td>\n",
       "      <td>0</td>\n",
       "      <td>0</td>\n",
       "      <td>0</td>\n",
       "      <td>...</td>\n",
       "      <td>0.090909</td>\n",
       "      <td>0.090909</td>\n",
       "      <td>0.090909</td>\n",
       "      <td>0.181818</td>\n",
       "      <td>0.454545</td>\n",
       "      <td>0.090909</td>\n",
       "      <td>0.000000</td>\n",
       "      <td>0.000000</td>\n",
       "      <td>0.000000</td>\n",
       "      <td>0.000000</td>\n",
       "    </tr>\n",
       "    <tr>\n",
       "      <th>2</th>\n",
       "      <td>0</td>\n",
       "      <td>0</td>\n",
       "      <td>0</td>\n",
       "      <td>0</td>\n",
       "      <td>1</td>\n",
       "      <td>0</td>\n",
       "      <td>0</td>\n",
       "      <td>0</td>\n",
       "      <td>0</td>\n",
       "      <td>0</td>\n",
       "      <td>...</td>\n",
       "      <td>0.066667</td>\n",
       "      <td>0.066667</td>\n",
       "      <td>0.066667</td>\n",
       "      <td>0.133333</td>\n",
       "      <td>0.400000</td>\n",
       "      <td>0.066667</td>\n",
       "      <td>0.066667</td>\n",
       "      <td>0.066667</td>\n",
       "      <td>0.066667</td>\n",
       "      <td>0.000000</td>\n",
       "    </tr>\n",
       "    <tr>\n",
       "      <th>3</th>\n",
       "      <td>0</td>\n",
       "      <td>0</td>\n",
       "      <td>0</td>\n",
       "      <td>0</td>\n",
       "      <td>1</td>\n",
       "      <td>1</td>\n",
       "      <td>1</td>\n",
       "      <td>1</td>\n",
       "      <td>0</td>\n",
       "      <td>0</td>\n",
       "      <td>...</td>\n",
       "      <td>0.190476</td>\n",
       "      <td>0.047619</td>\n",
       "      <td>0.095238</td>\n",
       "      <td>0.095238</td>\n",
       "      <td>0.095238</td>\n",
       "      <td>0.095238</td>\n",
       "      <td>0.095238</td>\n",
       "      <td>0.047619</td>\n",
       "      <td>0.047619</td>\n",
       "      <td>0.190476</td>\n",
       "    </tr>\n",
       "    <tr>\n",
       "      <th>4</th>\n",
       "      <td>0</td>\n",
       "      <td>0</td>\n",
       "      <td>1</td>\n",
       "      <td>0</td>\n",
       "      <td>0</td>\n",
       "      <td>0</td>\n",
       "      <td>0</td>\n",
       "      <td>0</td>\n",
       "      <td>0</td>\n",
       "      <td>0</td>\n",
       "      <td>...</td>\n",
       "      <td>0.066667</td>\n",
       "      <td>0.066667</td>\n",
       "      <td>0.066667</td>\n",
       "      <td>0.133333</td>\n",
       "      <td>0.133333</td>\n",
       "      <td>0.066667</td>\n",
       "      <td>0.066667</td>\n",
       "      <td>0.133333</td>\n",
       "      <td>0.133333</td>\n",
       "      <td>0.133333</td>\n",
       "    </tr>\n",
       "  </tbody>\n",
       "</table>\n",
       "<p>5 rows × 121 columns</p>\n",
       "</div>"
      ],
      "text/plain": [
       "   1  2  3  4  5  6  7  8  9  10  ...  RelNumOfPixelsRow0  RelNumOfPixelsRow1  \\\n",
       "0  0  0  0  0  0  0  0  0  0   1  ...            0.066667            0.133333   \n",
       "1  0  0  0  0  1  0  0  0  0   0  ...            0.090909            0.090909   \n",
       "2  0  0  0  0  1  0  0  0  0   0  ...            0.066667            0.066667   \n",
       "3  0  0  0  0  1  1  1  1  0   0  ...            0.190476            0.047619   \n",
       "4  0  0  1  0  0  0  0  0  0   0  ...            0.066667            0.066667   \n",
       "\n",
       "   RelNumOfPixelsRow2  RelNumOfPixelsRow3  RelNumOfPixelsRow4  \\\n",
       "0            0.133333            0.000000            0.133333   \n",
       "1            0.090909            0.181818            0.454545   \n",
       "2            0.066667            0.133333            0.400000   \n",
       "3            0.095238            0.095238            0.095238   \n",
       "4            0.066667            0.133333            0.133333   \n",
       "\n",
       "   RelNumOfPixelsRow5  RelNumOfPixelsRow6  RelNumOfPixelsRow7  \\\n",
       "0            0.133333            0.133333            0.133333   \n",
       "1            0.090909            0.000000            0.000000   \n",
       "2            0.066667            0.066667            0.066667   \n",
       "3            0.095238            0.095238            0.047619   \n",
       "4            0.066667            0.066667            0.133333   \n",
       "\n",
       "   RelNumOfPixelsRow8  RelNumOfPixelsRow9  \n",
       "0            0.066667            0.066667  \n",
       "1            0.000000            0.000000  \n",
       "2            0.066667            0.000000  \n",
       "3            0.047619            0.190476  \n",
       "4            0.133333            0.133333  \n",
       "\n",
       "[5 rows x 121 columns]"
      ]
     },
     "execution_count": 24,
     "metadata": {},
     "output_type": "execute_result"
    }
   ],
   "source": [
    "X_extended = X.copy()\n",
    "\n",
    "# Add number of white pixels\n",
    "X_extended['NumOfPixelsTotal'] = X.sum(axis=1)\n",
    "\n",
    "# Add number of white pixels per row\n",
    "for i in range(10):\n",
    "    X_extended['NumOfPixelsRow' + str(i)] = X.iloc[:,i*10:i*10+10].sum(axis=1)\n",
    "    \n",
    "# Add the relative number of white pixels per row\n",
    "for i in range(10):\n",
    "    X_extended['RelNumOfPixelsRow' + str(i)] = X_extended.iloc[:,-10] / X_extended['NumOfPixelsTotal']\n",
    "\n",
    "X_extended.head()"
   ]
  },
  {
   "cell_type": "code",
   "execution_count": 25,
   "metadata": {},
   "outputs": [
    {
     "name": "stdout",
     "output_type": "stream",
     "text": [
      "Cross-validation scores: [0.97530864 0.9625     0.96202532 0.84615385 1.        ]\n",
      "Mean: 0.9491975609169703\n",
      "Feature importances: [6.14150740e-04 5.83797691e-04 6.13411491e-04 6.63299927e-04\n",
      " 4.31737047e-03 5.14425838e-03 9.22094945e-04 2.88193793e-04\n",
      " 9.15577351e-04 4.33179485e-03 3.84347780e-04 1.37002811e-03\n",
      " 9.57660996e-04 1.45523889e-03 3.76940105e-03 1.36368544e-03\n",
      " 8.56261950e-04 6.15014735e-03 2.44393764e-03 1.94598643e-04\n",
      " 1.32148286e-03 2.70299942e-03 1.08801138e-03 3.73968694e-04\n",
      " 3.79342647e-04 3.19867220e-04 1.02637697e-03 8.14863378e-04\n",
      " 1.22780552e-03 2.00099939e-04 5.45523444e-04 1.55359208e-03\n",
      " 1.16108892e-03 1.39310505e-03 6.92219142e-03 4.25983653e-03\n",
      " 2.66287677e-03 2.28582497e-04 9.57040031e-04 5.08296389e-03\n",
      " 1.08167911e-02 1.38114011e-02 1.12468096e-03 2.30845215e-03\n",
      " 4.08074480e-02 1.09488633e-02 5.17842806e-03 1.90744433e-03\n",
      " 8.68712337e-03 2.72307671e-02 3.02429644e-02 4.01672094e-03\n",
      " 1.62823336e-03 1.76453019e-02 2.12402182e-02 9.49192777e-03\n",
      " 1.75789826e-03 1.62564378e-03 1.12681997e-02 1.37521053e-02\n",
      " 1.43361112e-02 1.17313000e-03 1.43214654e-02 3.83054945e-03\n",
      " 2.80175671e-03 5.05779451e-03 4.82344455e-03 1.18420306e-03\n",
      " 4.71362105e-04 6.64125499e-03 3.66758949e-03 1.29113811e-02\n",
      " 2.24859738e-03 1.66222074e-03 4.10182644e-03 3.96827646e-04\n",
      " 1.41836673e-03 9.44860535e-03 1.76250962e-03 2.61849083e-03\n",
      " 4.71566347e-03 1.46391208e-02 1.09643550e-03 4.64984839e-03\n",
      " 9.41444702e-03 1.48784447e-03 1.90674299e-04 6.38325561e-03\n",
      " 2.78672241e-03 9.09769686e-05 4.12452905e-03 1.05582751e-03\n",
      " 1.63780347e-03 2.38672696e-02 1.48649035e-02 3.52232514e-03\n",
      " 2.52560857e-03 6.25544908e-04 1.40240588e-03 9.45333105e-03\n",
      " 1.03548984e-02 1.08285561e-02 2.60199108e-02 5.88736875e-03\n",
      " 3.61104822e-03 1.73314925e-02 8.36020560e-03 7.14096350e-03\n",
      " 2.74745313e-02 2.02275389e-02 5.08335618e-02 4.53419386e-03\n",
      " 2.51581484e-02 2.25409227e-02 8.78597353e-03 6.65526864e-02\n",
      " 4.38651945e-02 1.34913897e-02 4.37420397e-02 2.61703126e-02\n",
      " 4.66255484e-02]\n"
     ]
    }
   ],
   "source": [
    "# Random forest\n",
    "clf = RandomForestClassifier(n_estimators=100, random_state=seed)\n",
    "perform_cross_validation(clf, X_extended, y)"
   ]
  },
  {
   "cell_type": "code",
   "execution_count": 26,
   "metadata": {},
   "outputs": [
    {
     "name": "stdout",
     "output_type": "stream",
     "text": [
      "Cross-validation scores: [0.96296296 0.925      0.96202532 0.78205128 0.98717949]\n",
      "Mean: 0.9238438097298858\n",
      "Feature importances: [0.         0.         0.         0.00253378 0.00506757 0.\n",
      " 0.         0.         0.         0.0160473  0.         0.\n",
      " 0.         0.00168919 0.02195946 0.         0.00760135 0.00760135\n",
      " 0.00337838 0.         0.00084459 0.00084459 0.         0.00253378\n",
      " 0.00084459 0.         0.00337838 0.         0.00168919 0.\n",
      " 0.         0.01097973 0.         0.         0.01773649 0.\n",
      " 0.00168919 0.00337838 0.0160473  0.00084459 0.0152027  0.00591216\n",
      " 0.         0.02111487 0.04560811 0.         0.00675676 0.\n",
      " 0.00253378 0.02787162 0.01858108 0.00591216 0.         0.00929054\n",
      " 0.02533784 0.         0.         0.         0.01858108 0.01351351\n",
      " 0.00084459 0.00168919 0.         0.00168919 0.00675676 0.\n",
      " 0.00084459 0.00168919 0.00084459 0.         0.00253378 0.00506757\n",
      " 0.00084459 0.00168919 0.01435811 0.00168919 0.         0.00506757\n",
      " 0.00084459 0.00337838 0.00168919 0.01351351 0.         0.00506757\n",
      " 0.00929054 0.00760135 0.         0.00337838 0.         0.\n",
      " 0.00253378 0.         0.         0.02618243 0.00168919 0.\n",
      " 0.         0.         0.         0.02956081 0.01266892 0.00084459\n",
      " 0.00506757 0.00253378 0.00084459 0.0160473  0.         0.\n",
      " 0.02533784 0.03209459 0.0160473  0.00760135 0.05658784 0.02871622\n",
      " 0.02280405 0.04983108 0.03631757 0.01858108 0.07432432 0.03293919\n",
      " 0.06756756]\n"
     ]
    }
   ],
   "source": [
    "# XGBoost\n",
    "clf = xgb.XGBClassifier(random_state=seed)    \n",
    "perform_cross_validation(clf, X_extended, y)"
   ]
  },
  {
   "cell_type": "code",
   "execution_count": 27,
   "metadata": {},
   "outputs": [
    {
     "name": "stdout",
     "output_type": "stream",
     "text": [
      "Cross-validation scores: [0.91358025 0.825      0.92405063 0.79487179 0.98717949]\n",
      "Mean: 0.888936432375251\n"
     ]
    }
   ],
   "source": [
    "# KNN\n",
    "clf = KNeighborsClassifier(n_neighbors=10)    \n",
    "perform_cross_validation(clf, X_extended, y)"
   ]
  },
  {
   "cell_type": "markdown",
   "metadata": {},
   "source": [
    "- The additional features do not add any benefits. In contrast, the accuracy gets worse (especially with KNN)."
   ]
  },
  {
   "cell_type": "markdown",
   "metadata": {},
   "source": [
    "## Predict source based on pixels"
   ]
  },
  {
   "cell_type": "code",
   "execution_count": 39,
   "metadata": {},
   "outputs": [
    {
     "name": "stdout",
     "output_type": "stream",
     "text": [
      "Cross-validation scores: [0.5875     0.7375     0.59493671 0.79746835 0.61538462]\n",
      "Mean: 0.666557935735151\n",
      "Feature importances: [0.00378839 0.00456444 0.01351142 0.01068785 0.00769782 0.0088427\n",
      " 0.00644724 0.00534672 0.01121451 0.01204601 0.00315103 0.01221593\n",
      " 0.00968463 0.00955213 0.00959057 0.01217601 0.00899667 0.01028686\n",
      " 0.01212616 0.00892006 0.00678303 0.01012219 0.0110877  0.01208484\n",
      " 0.01246287 0.01086581 0.00703284 0.00568086 0.01008986 0.00824637\n",
      " 0.00708639 0.00766199 0.00873219 0.01058918 0.01393618 0.01685656\n",
      " 0.01100641 0.01185058 0.01315087 0.01161628 0.01107331 0.01158166\n",
      " 0.00647262 0.01032562 0.0147831  0.01675625 0.01654088 0.01004593\n",
      " 0.01376198 0.00741039 0.00629869 0.01895526 0.01016439 0.01283018\n",
      " 0.01106589 0.01047057 0.01263921 0.0070274  0.01814839 0.00968244\n",
      " 0.00572026 0.01084521 0.00756338 0.01370705 0.00776434 0.01100203\n",
      " 0.00483646 0.01026701 0.00766412 0.0068737  0.01416875 0.02118166\n",
      " 0.01081806 0.00762551 0.00476523 0.01512096 0.00838296 0.01029259\n",
      " 0.00662869 0.00322081 0.0134375  0.00905414 0.01408599 0.00869777\n",
      " 0.0065803  0.01833652 0.00672534 0.01130074 0.00752506 0.00319268\n",
      " 0.01229284 0.01445872 0.01318527 0.00811169 0.00948172 0.00705767\n",
      " 0.00727162 0.00341272 0.00394801 0.00957061]\n"
     ]
    }
   ],
   "source": [
    "# Random forest based on pixels\n",
    "clf = RandomForestClassifier(n_estimators=100, random_state=seed)\n",
    "perform_cross_validation(clf, X, source)"
   ]
  },
  {
   "cell_type": "code",
   "execution_count": 40,
   "metadata": {},
   "outputs": [
    {
     "name": "stdout",
     "output_type": "stream",
     "text": [
      "Cross-validation scores: [0.475      0.475      0.43037975 0.50632911 0.35897436]\n",
      "Mean: 0.4491366439467705\n",
      "Feature importances: [0.30972904 0.28522969 0.40504127]\n"
     ]
    }
   ],
   "source": [
    "# Random forest based on PCA\n",
    "clf = RandomForestClassifier(n_estimators=100, random_state=seed)\n",
    "perform_cross_validation(clf, X_pca, source)"
   ]
  },
  {
   "cell_type": "code",
   "execution_count": 41,
   "metadata": {},
   "outputs": [
    {
     "name": "stdout",
     "output_type": "stream",
     "text": [
      "Cross-validation scores: [0.6375     0.7125     0.73417722 0.82278481 0.61538462]\n",
      "Mean: 0.7044693281402142\n",
      "Feature importances: [0.0029075  0.00106304 0.00499011 0.0054687  0.00248162 0.00279877\n",
      " 0.0026138  0.0023105  0.00794023 0.00708703 0.00131109 0.00928113\n",
      " 0.00494846 0.00580836 0.00372744 0.00624652 0.0041539  0.00568167\n",
      " 0.00612937 0.00380919 0.00489753 0.00687346 0.00345974 0.00315407\n",
      " 0.0122239  0.00553759 0.00238837 0.00178796 0.00767008 0.00297382\n",
      " 0.0046339  0.00255982 0.00233402 0.00328463 0.00684014 0.00721685\n",
      " 0.00349334 0.00310168 0.00654839 0.00635734 0.0043332  0.00675066\n",
      " 0.00372946 0.00457596 0.00591164 0.00836988 0.00564274 0.00439331\n",
      " 0.00507442 0.00373302 0.00310722 0.00739956 0.00457479 0.00410565\n",
      " 0.00407978 0.00757222 0.00734691 0.00316072 0.00909123 0.00548578\n",
      " 0.00253908 0.00290359 0.00354852 0.00547698 0.00242206 0.00809963\n",
      " 0.00191343 0.00579965 0.00269842 0.00379338 0.0091595  0.00708912\n",
      " 0.00297926 0.00550782 0.00225807 0.01042107 0.00256689 0.00470179\n",
      " 0.00194636 0.00187125 0.00610934 0.00327311 0.00629637 0.00592715\n",
      " 0.00325527 0.00862538 0.00308631 0.00443282 0.0032632  0.0008031\n",
      " 0.00645907 0.00467943 0.01031092 0.00394406 0.00315377 0.00517473\n",
      " 0.00667021 0.00240529 0.00228937 0.00640685 0.06608383 0.01903579\n",
      " 0.01367963 0.01551842 0.02549718 0.02681037 0.03183646 0.0182503\n",
      " 0.01660608 0.01847357 0.02300084 0.03693424 0.01804125 0.01865741\n",
      " 0.02174706 0.02116559 0.02162889 0.02188161 0.01782612 0.02242351\n",
      " 0.04410702]\n"
     ]
    }
   ],
   "source": [
    "# Random forest based on extended features\n",
    "clf = RandomForestClassifier(n_estimators=100, random_state=seed)\n",
    "perform_cross_validation(clf, X_extended, source)"
   ]
  },
  {
   "cell_type": "markdown",
   "metadata": {},
   "source": [
    "- It seems not be easy to identify the source only based on the pixels.\n",
    "- The additional features (number of white pixels) improve the accuracy to identify the source.\n",
    "- With PCA, the source is hardly possible to identify -> Conclusion: PCA helps to adress the differences betweeen the different sources."
   ]
  }
 ],
 "metadata": {
  "kernelspec": {
   "display_name": "Python 3",
   "language": "python",
   "name": "python3"
  },
  "language_info": {
   "codemirror_mode": {
    "name": "ipython",
    "version": 3
   },
   "file_extension": ".py",
   "mimetype": "text/x-python",
   "name": "python",
   "nbconvert_exporter": "python",
   "pygments_lexer": "ipython3",
   "version": "3.6.8"
  }
 },
 "nbformat": 4,
 "nbformat_minor": 2
}
