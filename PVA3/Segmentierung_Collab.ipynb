{
  "nbformat": 4,
  "nbformat_minor": 0,
  "metadata": {
    "colab": {
      "name": "Segmentierung_Collab.ipynb",
      "version": "0.3.2",
      "provenance": []
    },
    "language_info": {
      "codemirror_mode": {
        "name": "ipython",
        "version": 3
      },
      "file_extension": ".py",
      "mimetype": "text/x-python",
      "name": "python",
      "nbconvert_exporter": "python",
      "pygments_lexer": "ipython3",
      "version": "3.7.1"
    },
    "kernelspec": {
      "display_name": "Python 3",
      "language": "python",
      "name": "python3"
    }
  },
  "cells": [
    {
      "metadata": {
        "id": "UIm6p9hUspKI",
        "colab_type": "text"
      },
      "cell_type": "markdown",
      "source": [
        "# Aufgabenstellung"
      ]
    },
    {
      "metadata": {
        "id": "cwMonEgkspKL",
        "colab_type": "text"
      },
      "cell_type": "markdown",
      "source": [
        "Kollaborative Aufgabe: Analyse des erstellten Zeichen-Datensatzes\n",
        "https://moodle.ffhs.ch/mod/forum/view.php?id=2611056"
      ]
    },
    {
      "metadata": {
        "id": "OFIWBIeDspKN",
        "colab_type": "text"
      },
      "cell_type": "markdown",
      "source": [
        "# Library Imports"
      ]
    },
    {
      "metadata": {
        "ExecuteTime": {
          "end_time": "2019-04-18T20:44:09.007916Z",
          "start_time": "2019-04-18T20:44:06.701866Z"
        },
        "id": "DZt5sRWxspKN",
        "colab_type": "code",
        "colab": {}
      },
      "cell_type": "code",
      "source": [
        "import pandas as pd\n",
        "import matplotlib.pyplot as plt\n",
        "import warnings\n",
        "warnings.simplefilter(action='ignore', category=FutureWarning)\n",
        "from sklearn import model_selection\n",
        "from sklearn.decomposition import PCA\n",
        "from sklearn.ensemble import RandomForestClassifier\n",
        "from sklearn.ensemble import AdaBoostClassifier\n",
        "from sklearn.ensemble import VotingClassifier\n",
        "from sklearn.tree import DecisionTreeClassifier\n",
        "from sklearn.model_selection import cross_val_score, KFold, StratifiedKFold\n",
        "from sklearn.neighbors import KNeighborsClassifier\n",
        "from sklearn.svm import SVC\n",
        "from sklearn.svm import LinearSVC\n",
        "from sklearn.pipeline import Pipeline\n",
        "from sklearn.preprocessing import StandardScaler"
      ],
      "execution_count": 0,
      "outputs": []
    },
    {
      "metadata": {
        "id": "ZKQIphu2spKR",
        "colab_type": "text"
      },
      "cell_type": "markdown",
      "source": [
        "# Helpers"
      ]
    },
    {
      "metadata": {
        "ExecuteTime": {
          "end_time": "2019-04-18T20:44:16.588531Z",
          "start_time": "2019-04-18T20:44:16.579096Z"
        },
        "id": "cksywdr8spKS",
        "colab_type": "code",
        "colab": {}
      },
      "cell_type": "code",
      "source": [
        "plt.rcParams['image.cmap'] = 'gray'\n",
        "\n",
        "def remove_ticks(x=True,y=True):\n",
        "    if x: plt.gca().axes.get_xaxis().set_visible(False)\n",
        "    if y: plt.gca().axes.get_yaxis().set_visible(False)\n",
        "\n",
        "def show_pandas_as_images(df, figSize=(15,15),imgPerRow=10,**kwargs):\n",
        "    \"\"\"\n",
        "    Displays the images contained as rows in the passed data frame.\n",
        "    \"\"\"\n",
        "    num_of_images = df.shape[0]\n",
        "    imgList = df.values.reshape(num_of_images, 10, 10)\n",
        "    show_images_inRows(imgList, figSize, imgPerRow, **kwargs)\n",
        "\n",
        "def show_images_inRows(imgList,figSize=(15,15),imgPerRow=10,**kwargs):\n",
        "    \"\"\"\n",
        "    Erstelle aus einer Liste von Pixel-Arrays eine Visualisierung \n",
        "    der dazugehörigen Bilder, für den praktischen visuellen Vergleich.\n",
        "    Gibt jeweils imgPerRow Images in einer Reihe aus\n",
        "    \"\"\"\n",
        "    nImages=len(imgList)\n",
        "    plt.figure(figsize=figSize)\n",
        "    for i, currentImage in enumerate(imgList):\n",
        "        plt.subplot(int(nImages/imgPerRow)+1,imgPerRow,i+1)\n",
        "        plt.imshow(currentImage, **kwargs);\n",
        "        remove_ticks()"
      ],
      "execution_count": 0,
      "outputs": []
    },
    {
      "metadata": {
        "id": "aUT2fLjtspKU",
        "colab_type": "text"
      },
      "cell_type": "markdown",
      "source": [
        "# Rohdaten"
      ]
    },
    {
      "metadata": {
        "id": "Hke_LSrZspKV",
        "colab_type": "text"
      },
      "cell_type": "markdown",
      "source": [
        "## Datenimport"
      ]
    },
    {
      "metadata": {
        "ExecuteTime": {
          "end_time": "2019-04-18T20:44:27.238215Z",
          "start_time": "2019-04-18T20:44:27.214127Z"
        },
        "id": "R6AO7ke7spKW",
        "colab_type": "code",
        "colab": {
          "base_uri": "https://localhost:8080/",
          "height": 34
        },
        "outputId": "9cd27f1d-5418-480c-aec7-6617dc468f44"
      },
      "cell_type": "code",
      "source": [
        "df = pd.read_csv('https://raw.githubusercontent.com/sakuronohana/cas_datenanalyse/master/PVA2/Segment_pics/csvs/cleaned_data.csv',header=None)\n",
        "df.shape"
      ],
      "execution_count": 4,
      "outputs": [
        {
          "output_type": "execute_result",
          "data": {
            "text/plain": [
              "(397, 102)"
            ]
          },
          "metadata": {
            "tags": []
          },
          "execution_count": 4
        }
      ]
    },
    {
      "metadata": {
        "ExecuteTime": {
          "end_time": "2019-04-18T20:44:30.227817Z",
          "start_time": "2019-04-18T20:44:30.198069Z"
        },
        "id": "N5bJ9P1nspKb",
        "colab_type": "code",
        "colab": {
          "base_uri": "https://localhost:8080/",
          "height": 226
        },
        "outputId": "e16e6d1b-c2d5-4f38-c0f0-4e77df33b168"
      },
      "cell_type": "code",
      "source": [
        "df.head()"
      ],
      "execution_count": 5,
      "outputs": [
        {
          "output_type": "execute_result",
          "data": {
            "text/html": [
              "<div>\n",
              "<style scoped>\n",
              "    .dataframe tbody tr th:only-of-type {\n",
              "        vertical-align: middle;\n",
              "    }\n",
              "\n",
              "    .dataframe tbody tr th {\n",
              "        vertical-align: top;\n",
              "    }\n",
              "\n",
              "    .dataframe thead th {\n",
              "        text-align: right;\n",
              "    }\n",
              "</style>\n",
              "<table border=\"1\" class=\"dataframe\">\n",
              "  <thead>\n",
              "    <tr style=\"text-align: right;\">\n",
              "      <th></th>\n",
              "      <th>0</th>\n",
              "      <th>1</th>\n",
              "      <th>2</th>\n",
              "      <th>3</th>\n",
              "      <th>4</th>\n",
              "      <th>5</th>\n",
              "      <th>6</th>\n",
              "      <th>7</th>\n",
              "      <th>8</th>\n",
              "      <th>9</th>\n",
              "      <th>...</th>\n",
              "      <th>92</th>\n",
              "      <th>93</th>\n",
              "      <th>94</th>\n",
              "      <th>95</th>\n",
              "      <th>96</th>\n",
              "      <th>97</th>\n",
              "      <th>98</th>\n",
              "      <th>99</th>\n",
              "      <th>100</th>\n",
              "      <th>101</th>\n",
              "    </tr>\n",
              "  </thead>\n",
              "  <tbody>\n",
              "    <tr>\n",
              "      <th>0</th>\n",
              "      <td>p</td>\n",
              "      <td>0</td>\n",
              "      <td>0</td>\n",
              "      <td>0</td>\n",
              "      <td>0</td>\n",
              "      <td>0</td>\n",
              "      <td>0</td>\n",
              "      <td>0</td>\n",
              "      <td>0</td>\n",
              "      <td>0</td>\n",
              "      <td>...</td>\n",
              "      <td>0</td>\n",
              "      <td>0</td>\n",
              "      <td>0</td>\n",
              "      <td>0</td>\n",
              "      <td>0</td>\n",
              "      <td>0</td>\n",
              "      <td>0</td>\n",
              "      <td>0</td>\n",
              "      <td>0</td>\n",
              "      <td>ah-zzrm.csv</td>\n",
              "    </tr>\n",
              "    <tr>\n",
              "      <th>1</th>\n",
              "      <td>x</td>\n",
              "      <td>0</td>\n",
              "      <td>0</td>\n",
              "      <td>0</td>\n",
              "      <td>0</td>\n",
              "      <td>0</td>\n",
              "      <td>0</td>\n",
              "      <td>0</td>\n",
              "      <td>0</td>\n",
              "      <td>0</td>\n",
              "      <td>...</td>\n",
              "      <td>0</td>\n",
              "      <td>0</td>\n",
              "      <td>0</td>\n",
              "      <td>0</td>\n",
              "      <td>0</td>\n",
              "      <td>0</td>\n",
              "      <td>1</td>\n",
              "      <td>0</td>\n",
              "      <td>0</td>\n",
              "      <td>MK-ABX.csv</td>\n",
              "    </tr>\n",
              "    <tr>\n",
              "      <th>2</th>\n",
              "      <td>p</td>\n",
              "      <td>0</td>\n",
              "      <td>0</td>\n",
              "      <td>0</td>\n",
              "      <td>0</td>\n",
              "      <td>1</td>\n",
              "      <td>0</td>\n",
              "      <td>0</td>\n",
              "      <td>0</td>\n",
              "      <td>0</td>\n",
              "      <td>...</td>\n",
              "      <td>0</td>\n",
              "      <td>0</td>\n",
              "      <td>0</td>\n",
              "      <td>0</td>\n",
              "      <td>0</td>\n",
              "      <td>0</td>\n",
              "      <td>0</td>\n",
              "      <td>0</td>\n",
              "      <td>0</td>\n",
              "      <td>MK-ABX.csv</td>\n",
              "    </tr>\n",
              "    <tr>\n",
              "      <th>3</th>\n",
              "      <td>p</td>\n",
              "      <td>0</td>\n",
              "      <td>0</td>\n",
              "      <td>0</td>\n",
              "      <td>0</td>\n",
              "      <td>1</td>\n",
              "      <td>0</td>\n",
              "      <td>0</td>\n",
              "      <td>0</td>\n",
              "      <td>0</td>\n",
              "      <td>...</td>\n",
              "      <td>0</td>\n",
              "      <td>0</td>\n",
              "      <td>0</td>\n",
              "      <td>0</td>\n",
              "      <td>0</td>\n",
              "      <td>0</td>\n",
              "      <td>0</td>\n",
              "      <td>0</td>\n",
              "      <td>0</td>\n",
              "      <td>MK-ABX.csv</td>\n",
              "    </tr>\n",
              "    <tr>\n",
              "      <th>4</th>\n",
              "      <td>o</td>\n",
              "      <td>0</td>\n",
              "      <td>0</td>\n",
              "      <td>0</td>\n",
              "      <td>0</td>\n",
              "      <td>1</td>\n",
              "      <td>1</td>\n",
              "      <td>1</td>\n",
              "      <td>1</td>\n",
              "      <td>0</td>\n",
              "      <td>...</td>\n",
              "      <td>0</td>\n",
              "      <td>0</td>\n",
              "      <td>1</td>\n",
              "      <td>1</td>\n",
              "      <td>1</td>\n",
              "      <td>1</td>\n",
              "      <td>0</td>\n",
              "      <td>0</td>\n",
              "      <td>0</td>\n",
              "      <td>MK-ABX.csv</td>\n",
              "    </tr>\n",
              "  </tbody>\n",
              "</table>\n",
              "<p>5 rows × 102 columns</p>\n",
              "</div>"
            ],
            "text/plain": [
              "  0    1    2    3    4    5    6    7    8    9    ...  92   93   94   95   \\\n",
              "0   p    0    0    0    0    0    0    0    0    0  ...    0    0    0    0   \n",
              "1   x    0    0    0    0    0    0    0    0    0  ...    0    0    0    0   \n",
              "2   p    0    0    0    0    1    0    0    0    0  ...    0    0    0    0   \n",
              "3   p    0    0    0    0    1    0    0    0    0  ...    0    0    0    0   \n",
              "4   o    0    0    0    0    1    1    1    1    0  ...    0    0    1    1   \n",
              "\n",
              "   96   97   98   99   100          101  \n",
              "0    0    0    0    0    0  ah-zzrm.csv  \n",
              "1    0    0    1    0    0   MK-ABX.csv  \n",
              "2    0    0    0    0    0   MK-ABX.csv  \n",
              "3    0    0    0    0    0   MK-ABX.csv  \n",
              "4    1    1    0    0    0   MK-ABX.csv  \n",
              "\n",
              "[5 rows x 102 columns]"
            ]
          },
          "metadata": {
            "tags": []
          },
          "execution_count": 5
        }
      ]
    },
    {
      "metadata": {
        "id": "QXdsAgcLspKf",
        "colab_type": "text"
      },
      "cell_type": "markdown",
      "source": [
        "## Bildvorschau"
      ]
    },
    {
      "metadata": {
        "ExecuteTime": {
          "end_time": "2019-04-18T20:44:51.478279Z",
          "start_time": "2019-04-18T20:44:34.254299Z"
        },
        "id": "wmQzGlJDspKg",
        "colab_type": "code",
        "colab": {
          "base_uri": "https://localhost:8080/",
          "height": 845
        },
        "outputId": "ee070cdf-92ee-4e10-bd04-3ea66b07bdd2"
      },
      "cell_type": "code",
      "source": [
        "show_pandas_as_images(df.iloc[:, 1:-1], figSize=(15, 15))"
      ],
      "execution_count": 6,
      "outputs": [
        {
          "output_type": "display_data",
          "data": {
            "image/png": "[encoded data removed]",
            "text/plain": [
              "<Figure size 1080x1080 with 397 Axes>"
            ]
          },
          "metadata": {
            "tags": []
          }
        }
      ]
    },
    {
      "metadata": {
        "id": "y_j6tCE_spKj",
        "colab_type": "text"
      },
      "cell_type": "markdown",
      "source": [
        "Probleme:\n",
        "    Bilder ohne Symbole (\"leere Bilder\")\n",
        "    Bilder mit wenigen Pixel\n",
        "    \"weiss auf schwarz\" und \"schwarz auf weiss\" Bilder"
      ]
    },
    {
      "metadata": {
        "id": "JKATkf4XspKk",
        "colab_type": "text"
      },
      "cell_type": "markdown",
      "source": [
        "## Rohdaten bereinigen"
      ]
    },
    {
      "metadata": {
        "id": "vt0-n8cespKm",
        "colab_type": "text"
      },
      "cell_type": "markdown",
      "source": [
        "### Leere Bilder entfernen"
      ]
    },
    {
      "metadata": {
        "ExecuteTime": {
          "end_time": "2019-04-18T20:47:04.152843Z",
          "start_time": "2019-04-18T20:47:04.144483Z"
        },
        "id": "t4zUjPAespKn",
        "colab_type": "code",
        "colab": {}
      },
      "cell_type": "code",
      "source": [
        "def is_empty_image(row, threshold=5):\n",
        "    \"\"\"\n",
        "    Determines whether the row contains only all 1 or all 0 (with the exception of the threshold).\n",
        "    \"\"\"\n",
        "    limit = len(row) - threshold\n",
        "    if (len(row[row==0])>=limit):\n",
        "        return True\n",
        "    if (len(row[row==1])>=limit):\n",
        "        return True\n",
        "    return False  "
      ],
      "execution_count": 0,
      "outputs": []
    },
    {
      "metadata": {
        "ExecuteTime": {
          "end_time": "2019-04-18T20:47:05.736252Z",
          "start_time": "2019-04-18T20:47:05.251793Z"
        },
        "id": "IBPHIBVospKr",
        "colab_type": "code",
        "colab": {
          "base_uri": "https://localhost:8080/",
          "height": 34
        },
        "outputId": "ab173c05-31cc-4ede-f663-811b4f7df3bd"
      },
      "cell_type": "code",
      "source": [
        "cleaned_data = df[~df.iloc[:, 1:-1].apply(is_empty_image, threshold=4, axis=1)]\n",
        "cleaned_data.shape"
      ],
      "execution_count": 8,
      "outputs": [
        {
          "output_type": "execute_result",
          "data": {
            "text/plain": [
              "(397, 102)"
            ]
          },
          "metadata": {
            "tags": []
          },
          "execution_count": 8
        }
      ]
    },
    {
      "metadata": {
        "id": "lA5uYRYHspKu",
        "colab_type": "text"
      },
      "cell_type": "markdown",
      "source": [
        "### Weisser Hintergrund invertieren"
      ]
    },
    {
      "metadata": {
        "ExecuteTime": {
          "end_time": "2019-04-18T20:47:09.348418Z",
          "start_time": "2019-04-18T20:47:09.337234Z"
        },
        "id": "0zrL-0RcspKv",
        "colab_type": "code",
        "colab": {}
      },
      "cell_type": "code",
      "source": [
        "def is_white_image(row, threshold=60):\n",
        "    \"\"\"\n",
        "    Determines whether the row contains a white image (more than threshold number of 1).\n",
        "    \"\"\"\n",
        "    if (len(row[row==1])>=threshold):\n",
        "        return True\n",
        "    return False  \n",
        "\n",
        "def invert_white_image(row, threshold=60):\n",
        "    \"\"\"\n",
        "    If the image is white, it will be inverted.\n",
        "    \"\"\"\n",
        "    if (is_white_image(row, threshold)):\n",
        "        return 1 - row\n",
        "    return row"
      ],
      "execution_count": 0,
      "outputs": []
    },
    {
      "metadata": {
        "ExecuteTime": {
          "end_time": "2019-04-18T20:47:17.688861Z",
          "start_time": "2019-04-18T20:47:11.358679Z"
        },
        "id": "1mHtLOELspKx",
        "colab_type": "code",
        "colab": {}
      },
      "cell_type": "code",
      "source": [
        "cleaned_data.iloc[:, 1:-1] = cleaned_data.iloc[:, 1:-1].apply(invert_white_image, threshold=50, axis=1)"
      ],
      "execution_count": 0,
      "outputs": []
    },
    {
      "metadata": {
        "ExecuteTime": {
          "end_time": "2019-04-18T20:47:30.632646Z",
          "start_time": "2019-04-18T20:47:17.691120Z"
        },
        "id": "vM1g5ZY1spK0",
        "colab_type": "code",
        "colab": {
          "base_uri": "https://localhost:8080/",
          "height": 845
        },
        "outputId": "4b27c9bd-f802-4830-a637-1394169caa8d"
      },
      "cell_type": "code",
      "source": [
        "show_pandas_as_images(cleaned_data.iloc[:, 1:-1], figSize=(15, 15))"
      ],
      "execution_count": 11,
      "outputs": [
        {
          "output_type": "display_data",
          "data": {
            "image/png": "[encoded data removed]",
            "text/plain": [
              "<Figure size 1080x1080 with 397 Axes>"
            ]
          },
          "metadata": {
            "tags": []
          }
        }
      ]
    },
    {
      "metadata": {
        "id": "Zv7OWCWGspK3",
        "colab_type": "text"
      },
      "cell_type": "markdown",
      "source": [
        "## Bereinigte Daten speichern (csv)"
      ]
    },
    {
      "metadata": {
        "ExecuteTime": {
          "end_time": "2019-04-18T20:47:35.285003Z",
          "start_time": "2019-04-18T20:47:35.216213Z"
        },
        "id": "lREe_nOLspK4",
        "colab_type": "code",
        "colab": {}
      },
      "cell_type": "code",
      "source": [
        "# Optional\n",
        "cleaned_data.to_csv('https://raw.githubusercontent.com/sakuronohana/cas_datenanalyse/master/PVA2/Segment_pics/csvs/cleaned_data.csv', header=False, index=False)"
      ],
      "execution_count": 0,
      "outputs": []
    },
    {
      "metadata": {
        "id": "rtpN94I4spK6",
        "colab_type": "text"
      },
      "cell_type": "markdown",
      "source": [
        "# Datenvorbereitung"
      ]
    },
    {
      "metadata": {
        "ExecuteTime": {
          "end_time": "2019-04-18T20:47:38.395799Z",
          "start_time": "2019-04-18T20:47:38.390813Z"
        },
        "id": "cAHpNirWspK7",
        "colab_type": "code",
        "colab": {
          "base_uri": "https://localhost:8080/",
          "height": 34
        },
        "outputId": "91b291b0-57a8-4fb3-af10-ff54d791df4e"
      },
      "cell_type": "code",
      "source": [
        "cleaned_data.shape"
      ],
      "execution_count": 14,
      "outputs": [
        {
          "output_type": "execute_result",
          "data": {
            "text/plain": [
              "(397, 102)"
            ]
          },
          "metadata": {
            "tags": []
          },
          "execution_count": 14
        }
      ]
    },
    {
      "metadata": {
        "ExecuteTime": {
          "end_time": "2019-04-18T20:47:40.916878Z",
          "start_time": "2019-04-18T20:47:40.895116Z"
        },
        "id": "Dcj9eEhIspK_",
        "colab_type": "code",
        "colab": {
          "base_uri": "https://localhost:8080/",
          "height": 226
        },
        "outputId": "7fe45655-13dd-4c30-f671-62651f2b096a"
      },
      "cell_type": "code",
      "source": [
        "cleaned_data.head()"
      ],
      "execution_count": 15,
      "outputs": [
        {
          "output_type": "execute_result",
          "data": {
            "text/html": [
              "<div>\n",
              "<style scoped>\n",
              "    .dataframe tbody tr th:only-of-type {\n",
              "        vertical-align: middle;\n",
              "    }\n",
              "\n",
              "    .dataframe tbody tr th {\n",
              "        vertical-align: top;\n",
              "    }\n",
              "\n",
              "    .dataframe thead th {\n",
              "        text-align: right;\n",
              "    }\n",
              "</style>\n",
              "<table border=\"1\" class=\"dataframe\">\n",
              "  <thead>\n",
              "    <tr style=\"text-align: right;\">\n",
              "      <th></th>\n",
              "      <th>0</th>\n",
              "      <th>1</th>\n",
              "      <th>2</th>\n",
              "      <th>3</th>\n",
              "      <th>4</th>\n",
              "      <th>5</th>\n",
              "      <th>6</th>\n",
              "      <th>7</th>\n",
              "      <th>8</th>\n",
              "      <th>9</th>\n",
              "      <th>...</th>\n",
              "      <th>92</th>\n",
              "      <th>93</th>\n",
              "      <th>94</th>\n",
              "      <th>95</th>\n",
              "      <th>96</th>\n",
              "      <th>97</th>\n",
              "      <th>98</th>\n",
              "      <th>99</th>\n",
              "      <th>100</th>\n",
              "      <th>101</th>\n",
              "    </tr>\n",
              "  </thead>\n",
              "  <tbody>\n",
              "    <tr>\n",
              "      <th>0</th>\n",
              "      <td>p</td>\n",
              "      <td>0</td>\n",
              "      <td>0</td>\n",
              "      <td>0</td>\n",
              "      <td>0</td>\n",
              "      <td>0</td>\n",
              "      <td>0</td>\n",
              "      <td>0</td>\n",
              "      <td>0</td>\n",
              "      <td>0</td>\n",
              "      <td>...</td>\n",
              "      <td>0</td>\n",
              "      <td>0</td>\n",
              "      <td>0</td>\n",
              "      <td>0</td>\n",
              "      <td>0</td>\n",
              "      <td>0</td>\n",
              "      <td>0</td>\n",
              "      <td>0</td>\n",
              "      <td>0</td>\n",
              "      <td>ah-zzrm.csv</td>\n",
              "    </tr>\n",
              "    <tr>\n",
              "      <th>1</th>\n",
              "      <td>x</td>\n",
              "      <td>0</td>\n",
              "      <td>0</td>\n",
              "      <td>0</td>\n",
              "      <td>0</td>\n",
              "      <td>0</td>\n",
              "      <td>0</td>\n",
              "      <td>0</td>\n",
              "      <td>0</td>\n",
              "      <td>0</td>\n",
              "      <td>...</td>\n",
              "      <td>0</td>\n",
              "      <td>0</td>\n",
              "      <td>0</td>\n",
              "      <td>0</td>\n",
              "      <td>0</td>\n",
              "      <td>0</td>\n",
              "      <td>1</td>\n",
              "      <td>0</td>\n",
              "      <td>0</td>\n",
              "      <td>MK-ABX.csv</td>\n",
              "    </tr>\n",
              "    <tr>\n",
              "      <th>2</th>\n",
              "      <td>p</td>\n",
              "      <td>0</td>\n",
              "      <td>0</td>\n",
              "      <td>0</td>\n",
              "      <td>0</td>\n",
              "      <td>1</td>\n",
              "      <td>0</td>\n",
              "      <td>0</td>\n",
              "      <td>0</td>\n",
              "      <td>0</td>\n",
              "      <td>...</td>\n",
              "      <td>0</td>\n",
              "      <td>0</td>\n",
              "      <td>0</td>\n",
              "      <td>0</td>\n",
              "      <td>0</td>\n",
              "      <td>0</td>\n",
              "      <td>0</td>\n",
              "      <td>0</td>\n",
              "      <td>0</td>\n",
              "      <td>MK-ABX.csv</td>\n",
              "    </tr>\n",
              "    <tr>\n",
              "      <th>3</th>\n",
              "      <td>p</td>\n",
              "      <td>0</td>\n",
              "      <td>0</td>\n",
              "      <td>0</td>\n",
              "      <td>0</td>\n",
              "      <td>1</td>\n",
              "      <td>0</td>\n",
              "      <td>0</td>\n",
              "      <td>0</td>\n",
              "      <td>0</td>\n",
              "      <td>...</td>\n",
              "      <td>0</td>\n",
              "      <td>0</td>\n",
              "      <td>0</td>\n",
              "      <td>0</td>\n",
              "      <td>0</td>\n",
              "      <td>0</td>\n",
              "      <td>0</td>\n",
              "      <td>0</td>\n",
              "      <td>0</td>\n",
              "      <td>MK-ABX.csv</td>\n",
              "    </tr>\n",
              "    <tr>\n",
              "      <th>4</th>\n",
              "      <td>o</td>\n",
              "      <td>0</td>\n",
              "      <td>0</td>\n",
              "      <td>0</td>\n",
              "      <td>0</td>\n",
              "      <td>1</td>\n",
              "      <td>1</td>\n",
              "      <td>1</td>\n",
              "      <td>1</td>\n",
              "      <td>0</td>\n",
              "      <td>...</td>\n",
              "      <td>0</td>\n",
              "      <td>0</td>\n",
              "      <td>1</td>\n",
              "      <td>1</td>\n",
              "      <td>1</td>\n",
              "      <td>1</td>\n",
              "      <td>0</td>\n",
              "      <td>0</td>\n",
              "      <td>0</td>\n",
              "      <td>MK-ABX.csv</td>\n",
              "    </tr>\n",
              "  </tbody>\n",
              "</table>\n",
              "<p>5 rows × 102 columns</p>\n",
              "</div>"
            ],
            "text/plain": [
              "  0    1    2    3    4    5    6    7    8    9    ...  92   93   94   95   \\\n",
              "0   p    0    0    0    0    0    0    0    0    0  ...    0    0    0    0   \n",
              "1   x    0    0    0    0    0    0    0    0    0  ...    0    0    0    0   \n",
              "2   p    0    0    0    0    1    0    0    0    0  ...    0    0    0    0   \n",
              "3   p    0    0    0    0    1    0    0    0    0  ...    0    0    0    0   \n",
              "4   o    0    0    0    0    1    1    1    1    0  ...    0    0    1    1   \n",
              "\n",
              "   96   97   98   99   100          101  \n",
              "0    0    0    0    0    0  ah-zzrm.csv  \n",
              "1    0    0    1    0    0   MK-ABX.csv  \n",
              "2    0    0    0    0    0   MK-ABX.csv  \n",
              "3    0    0    0    0    0   MK-ABX.csv  \n",
              "4    1    1    0    0    0   MK-ABX.csv  \n",
              "\n",
              "[5 rows x 102 columns]"
            ]
          },
          "metadata": {
            "tags": []
          },
          "execution_count": 15
        }
      ]
    },
    {
      "metadata": {
        "id": "9OBNJcAbspLE",
        "colab_type": "text"
      },
      "cell_type": "markdown",
      "source": [
        "## Symbol (y)"
      ]
    },
    {
      "metadata": {
        "ExecuteTime": {
          "end_time": "2019-04-18T20:47:44.199659Z",
          "start_time": "2019-04-18T20:47:44.195200Z"
        },
        "id": "D7u_GZ8TspLF",
        "colab_type": "code",
        "colab": {
          "base_uri": "https://localhost:8080/",
          "height": 34
        },
        "outputId": "f0661f54-3e2b-4798-baab-44234eddb0f7"
      },
      "cell_type": "code",
      "source": [
        "y = cleaned_data.iloc[:,0]\n",
        "y.shape"
      ],
      "execution_count": 16,
      "outputs": [
        {
          "output_type": "execute_result",
          "data": {
            "text/plain": [
              "(397,)"
            ]
          },
          "metadata": {
            "tags": []
          },
          "execution_count": 16
        }
      ]
    },
    {
      "metadata": {
        "ExecuteTime": {
          "end_time": "2019-04-18T20:47:46.464589Z",
          "start_time": "2019-04-18T20:47:46.456674Z"
        },
        "id": "ju1NyCllspLJ",
        "colab_type": "code",
        "colab": {
          "base_uri": "https://localhost:8080/",
          "height": 123
        },
        "outputId": "acaeae69-4d32-43e0-c5c6-c816bc3db665"
      },
      "cell_type": "code",
      "source": [
        "y.head()"
      ],
      "execution_count": 17,
      "outputs": [
        {
          "output_type": "execute_result",
          "data": {
            "text/plain": [
              "0    p\n",
              "1    x\n",
              "2    p\n",
              "3    p\n",
              "4    o\n",
              "Name: 0, dtype: object"
            ]
          },
          "metadata": {
            "tags": []
          },
          "execution_count": 17
        }
      ]
    },
    {
      "metadata": {
        "id": "QTX_SeKqspLM",
        "colab_type": "text"
      },
      "cell_type": "markdown",
      "source": [
        "## Filename"
      ]
    },
    {
      "metadata": {
        "ExecuteTime": {
          "end_time": "2019-04-18T20:47:49.520888Z",
          "start_time": "2019-04-18T20:47:49.516007Z"
        },
        "id": "TY-JGHTrspLM",
        "colab_type": "code",
        "colab": {
          "base_uri": "https://localhost:8080/",
          "height": 34
        },
        "outputId": "7227bb2f-60a9-49ab-b71f-0849242a649a"
      },
      "cell_type": "code",
      "source": [
        "filename = cleaned_data.iloc[:,-1]\n",
        "filename.shape"
      ],
      "execution_count": 18,
      "outputs": [
        {
          "output_type": "execute_result",
          "data": {
            "text/plain": [
              "(397,)"
            ]
          },
          "metadata": {
            "tags": []
          },
          "execution_count": 18
        }
      ]
    },
    {
      "metadata": {
        "ExecuteTime": {
          "end_time": "2019-04-18T20:47:51.215908Z",
          "start_time": "2019-04-18T20:47:51.204467Z"
        },
        "scrolled": true,
        "id": "IQ6HYdmdspLP",
        "colab_type": "code",
        "colab": {
          "base_uri": "https://localhost:8080/",
          "height": 123
        },
        "outputId": "5f1d0b35-58ab-4757-f6f2-bb7a060fc0a7"
      },
      "cell_type": "code",
      "source": [
        "filename.head()"
      ],
      "execution_count": 19,
      "outputs": [
        {
          "output_type": "execute_result",
          "data": {
            "text/plain": [
              "0    ah-zzrm.csv\n",
              "1     MK-ABX.csv\n",
              "2     MK-ABX.csv\n",
              "3     MK-ABX.csv\n",
              "4     MK-ABX.csv\n",
              "Name: 101, dtype: object"
            ]
          },
          "metadata": {
            "tags": []
          },
          "execution_count": 19
        }
      ]
    },
    {
      "metadata": {
        "id": "lsKm33-espLS",
        "colab_type": "text"
      },
      "cell_type": "markdown",
      "source": [
        "## Datensatz (X)"
      ]
    },
    {
      "metadata": {
        "ExecuteTime": {
          "end_time": "2019-04-18T20:47:54.912167Z",
          "start_time": "2019-04-18T20:47:54.903383Z"
        },
        "id": "JGupA17GspLS",
        "colab_type": "code",
        "colab": {
          "base_uri": "https://localhost:8080/",
          "height": 34
        },
        "outputId": "00495081-93a8-43cf-c7f5-fd04e3f93bfc"
      },
      "cell_type": "code",
      "source": [
        "X = cleaned_data.iloc[:,1:-1]\n",
        "X.shape"
      ],
      "execution_count": 20,
      "outputs": [
        {
          "output_type": "execute_result",
          "data": {
            "text/plain": [
              "(397, 100)"
            ]
          },
          "metadata": {
            "tags": []
          },
          "execution_count": 20
        }
      ]
    },
    {
      "metadata": {
        "ExecuteTime": {
          "end_time": "2019-04-18T20:47:57.071830Z",
          "start_time": "2019-04-18T20:47:57.055028Z"
        },
        "id": "JnD1Cn0vspLV",
        "colab_type": "code",
        "colab": {
          "base_uri": "https://localhost:8080/",
          "height": 226
        },
        "outputId": "ada13e1f-7a36-4bd7-d407-c4b14800f91d"
      },
      "cell_type": "code",
      "source": [
        "X.head()"
      ],
      "execution_count": 21,
      "outputs": [
        {
          "output_type": "execute_result",
          "data": {
            "text/html": [
              "<div>\n",
              "<style scoped>\n",
              "    .dataframe tbody tr th:only-of-type {\n",
              "        vertical-align: middle;\n",
              "    }\n",
              "\n",
              "    .dataframe tbody tr th {\n",
              "        vertical-align: top;\n",
              "    }\n",
              "\n",
              "    .dataframe thead th {\n",
              "        text-align: right;\n",
              "    }\n",
              "</style>\n",
              "<table border=\"1\" class=\"dataframe\">\n",
              "  <thead>\n",
              "    <tr style=\"text-align: right;\">\n",
              "      <th></th>\n",
              "      <th>1</th>\n",
              "      <th>2</th>\n",
              "      <th>3</th>\n",
              "      <th>4</th>\n",
              "      <th>5</th>\n",
              "      <th>6</th>\n",
              "      <th>7</th>\n",
              "      <th>8</th>\n",
              "      <th>9</th>\n",
              "      <th>10</th>\n",
              "      <th>...</th>\n",
              "      <th>91</th>\n",
              "      <th>92</th>\n",
              "      <th>93</th>\n",
              "      <th>94</th>\n",
              "      <th>95</th>\n",
              "      <th>96</th>\n",
              "      <th>97</th>\n",
              "      <th>98</th>\n",
              "      <th>99</th>\n",
              "      <th>100</th>\n",
              "    </tr>\n",
              "  </thead>\n",
              "  <tbody>\n",
              "    <tr>\n",
              "      <th>0</th>\n",
              "      <td>0</td>\n",
              "      <td>0</td>\n",
              "      <td>0</td>\n",
              "      <td>0</td>\n",
              "      <td>0</td>\n",
              "      <td>0</td>\n",
              "      <td>0</td>\n",
              "      <td>0</td>\n",
              "      <td>0</td>\n",
              "      <td>0</td>\n",
              "      <td>...</td>\n",
              "      <td>0</td>\n",
              "      <td>0</td>\n",
              "      <td>0</td>\n",
              "      <td>0</td>\n",
              "      <td>0</td>\n",
              "      <td>0</td>\n",
              "      <td>0</td>\n",
              "      <td>0</td>\n",
              "      <td>0</td>\n",
              "      <td>0</td>\n",
              "    </tr>\n",
              "    <tr>\n",
              "      <th>1</th>\n",
              "      <td>0</td>\n",
              "      <td>0</td>\n",
              "      <td>0</td>\n",
              "      <td>0</td>\n",
              "      <td>0</td>\n",
              "      <td>0</td>\n",
              "      <td>0</td>\n",
              "      <td>0</td>\n",
              "      <td>0</td>\n",
              "      <td>1</td>\n",
              "      <td>...</td>\n",
              "      <td>0</td>\n",
              "      <td>0</td>\n",
              "      <td>0</td>\n",
              "      <td>0</td>\n",
              "      <td>0</td>\n",
              "      <td>0</td>\n",
              "      <td>0</td>\n",
              "      <td>1</td>\n",
              "      <td>0</td>\n",
              "      <td>0</td>\n",
              "    </tr>\n",
              "    <tr>\n",
              "      <th>2</th>\n",
              "      <td>0</td>\n",
              "      <td>0</td>\n",
              "      <td>0</td>\n",
              "      <td>0</td>\n",
              "      <td>1</td>\n",
              "      <td>0</td>\n",
              "      <td>0</td>\n",
              "      <td>0</td>\n",
              "      <td>0</td>\n",
              "      <td>0</td>\n",
              "      <td>...</td>\n",
              "      <td>0</td>\n",
              "      <td>0</td>\n",
              "      <td>0</td>\n",
              "      <td>0</td>\n",
              "      <td>0</td>\n",
              "      <td>0</td>\n",
              "      <td>0</td>\n",
              "      <td>0</td>\n",
              "      <td>0</td>\n",
              "      <td>0</td>\n",
              "    </tr>\n",
              "    <tr>\n",
              "      <th>3</th>\n",
              "      <td>0</td>\n",
              "      <td>0</td>\n",
              "      <td>0</td>\n",
              "      <td>0</td>\n",
              "      <td>1</td>\n",
              "      <td>0</td>\n",
              "      <td>0</td>\n",
              "      <td>0</td>\n",
              "      <td>0</td>\n",
              "      <td>0</td>\n",
              "      <td>...</td>\n",
              "      <td>0</td>\n",
              "      <td>0</td>\n",
              "      <td>0</td>\n",
              "      <td>0</td>\n",
              "      <td>0</td>\n",
              "      <td>0</td>\n",
              "      <td>0</td>\n",
              "      <td>0</td>\n",
              "      <td>0</td>\n",
              "      <td>0</td>\n",
              "    </tr>\n",
              "    <tr>\n",
              "      <th>4</th>\n",
              "      <td>0</td>\n",
              "      <td>0</td>\n",
              "      <td>0</td>\n",
              "      <td>0</td>\n",
              "      <td>1</td>\n",
              "      <td>1</td>\n",
              "      <td>1</td>\n",
              "      <td>1</td>\n",
              "      <td>0</td>\n",
              "      <td>0</td>\n",
              "      <td>...</td>\n",
              "      <td>0</td>\n",
              "      <td>0</td>\n",
              "      <td>0</td>\n",
              "      <td>1</td>\n",
              "      <td>1</td>\n",
              "      <td>1</td>\n",
              "      <td>1</td>\n",
              "      <td>0</td>\n",
              "      <td>0</td>\n",
              "      <td>0</td>\n",
              "    </tr>\n",
              "  </tbody>\n",
              "</table>\n",
              "<p>5 rows × 100 columns</p>\n",
              "</div>"
            ],
            "text/plain": [
              "   1    2    3    4    5    6    7    8    9    10   ...  91   92   93   94   \\\n",
              "0    0    0    0    0    0    0    0    0    0    0  ...    0    0    0    0   \n",
              "1    0    0    0    0    0    0    0    0    0    1  ...    0    0    0    0   \n",
              "2    0    0    0    0    1    0    0    0    0    0  ...    0    0    0    0   \n",
              "3    0    0    0    0    1    0    0    0    0    0  ...    0    0    0    0   \n",
              "4    0    0    0    0    1    1    1    1    0    0  ...    0    0    0    1   \n",
              "\n",
              "   95   96   97   98   99   100  \n",
              "0    0    0    0    0    0    0  \n",
              "1    0    0    0    1    0    0  \n",
              "2    0    0    0    0    0    0  \n",
              "3    0    0    0    0    0    0  \n",
              "4    1    1    1    0    0    0  \n",
              "\n",
              "[5 rows x 100 columns]"
            ]
          },
          "metadata": {
            "tags": []
          },
          "execution_count": 21
        }
      ]
    },
    {
      "metadata": {
        "id": "SkEand8-spLY",
        "colab_type": "text"
      },
      "cell_type": "markdown",
      "source": [
        "# Modelle"
      ]
    },
    {
      "metadata": {
        "id": "7n6a1XqSspLY",
        "colab_type": "text"
      },
      "cell_type": "markdown",
      "source": [
        "## Helpers"
      ]
    },
    {
      "metadata": {
        "ExecuteTime": {
          "end_time": "2019-04-18T20:48:03.568929Z",
          "start_time": "2019-04-18T20:48:03.559298Z"
        },
        "id": "VOspaKQrspLZ",
        "colab_type": "code",
        "colab": {}
      },
      "cell_type": "code",
      "source": [
        "# Cross Validation\n",
        "def do_cross_val(name, model, X, y):\n",
        "    cv = StratifiedKFold(n_splits=splits, random_state=seed)\n",
        "    cv_results = cross_val_score(model, X, y, cv=cv, scoring=scoring)\n",
        "    model.fit(X, y)\n",
        "    results.append(cv_results)\n",
        "    names.append(name)\n",
        "    msg = \"%s: %f (%f)\" % (name, cv_results.mean(), cv_results.std())\n",
        "    print(msg)\n",
        "    return\n",
        "\n",
        "# Boxplot Model Vergleich\n",
        "def plot_model_comp(results, names):\n",
        "    fig = plt.figure()\n",
        "    fig.suptitle('Algorithm Comparison')\n",
        "    ax = fig.add_subplot(111)\n",
        "    plt.boxplot(results)\n",
        "    ax.set_xticklabels(names)\n",
        "    plt.show()"
      ],
      "execution_count": 0,
      "outputs": []
    },
    {
      "metadata": {
        "ExecuteTime": {
          "end_time": "2019-04-18T20:57:06.809667Z",
          "start_time": "2019-04-18T20:57:06.804633Z"
        },
        "id": "OYu_s6NjspLb",
        "colab_type": "code",
        "colab": {}
      },
      "cell_type": "code",
      "source": [
        "# Modelle / Classifiers\n",
        "models = []\n",
        "results = []\n",
        "names = []\n",
        "models.append(('RF', RandomForestClassifier()))\n",
        "models.append(('SVM', SVC()))\n",
        "models.append(('KNN', KNeighborsClassifier()))\n",
        "models.append(('ADA', AdaBoostClassifier())) # Default estimator: DecisionTreeClassifier(max_depth=1)\n",
        "\n",
        "# Parameter für Cross Validation\n",
        "splits = 5\n",
        "seed = 42\n",
        "scoring = 'accuracy'"
      ],
      "execution_count": 0,
      "outputs": []
    },
    {
      "metadata": {
        "id": "llyEY8e8spLf",
        "colab_type": "text"
      },
      "cell_type": "markdown",
      "source": [
        "## Basisdaten (ohne zus. Features)"
      ]
    },
    {
      "metadata": {
        "id": "wmY3lO9BspLg",
        "colab_type": "text"
      },
      "cell_type": "markdown",
      "source": [
        "### Vergleich Classifiers ohne modelspezifische Parameter"
      ]
    },
    {
      "metadata": {
        "ExecuteTime": {
          "end_time": "2019-04-18T20:48:33.893929Z",
          "start_time": "2019-04-18T20:48:32.755887Z"
        },
        "id": "GrA0hidpspLg",
        "colab_type": "code",
        "colab": {},
        "outputId": "510b9e55-6ce0-4e12-cba8-c14d368042e5"
      },
      "cell_type": "code",
      "source": [
        "# Vergleich Classifiers ohne modelspezifische Parameter\n",
        "results = []\n",
        "names = []\n",
        "for name, model in models:\n",
        "    do_cross_val(name, model, X, y)\n",
        "    \n",
        "# Boxplot Model Vergleich\n",
        "plot_model_comp(results, names)"
      ],
      "execution_count": 0,
      "outputs": [
        {
          "output_type": "stream",
          "text": [
            "RF: 0.930537 (0.030682)\n",
            "SVM: 0.921816 (0.039278)\n",
            "KNN: 0.924063 (0.048849)\n",
            "ADA: 0.529457 (0.131860)\n"
          ],
          "name": "stdout"
        },
        {
          "output_type": "display_data",
          "data": {
            "image/png": "[encoded data removed]",
            "text/plain": [
              "<Figure size 432x288 with 1 Axes>"
            ]
          },
          "metadata": {
            "tags": [],
            "needs_background": "light"
          }
        }
      ]
    },
    {
      "metadata": {
        "id": "WrKWdLBjspLj",
        "colab_type": "text"
      },
      "cell_type": "markdown",
      "source": [
        "### Basisdaten mit PCA"
      ]
    },
    {
      "metadata": {
        "id": "rFSqH-iFspLk",
        "colab_type": "code",
        "colab": {},
        "outputId": "764caa99-cccc-4e19-cce7-5b9f83902e81"
      },
      "cell_type": "code",
      "source": [
        "pca = PCA(n_components = 2) # n_components = 2 liefert bessere Resultate als 0.95\n",
        "X_pca = pca.fit_transform(X)\n",
        "X_pca.shape"
      ],
      "execution_count": 0,
      "outputs": [
        {
          "output_type": "execute_result",
          "data": {
            "text/plain": [
              "(460, 2)"
            ]
          },
          "metadata": {
            "tags": []
          },
          "execution_count": 309
        }
      ]
    },
    {
      "metadata": {
        "id": "O4bzMkGsspLn",
        "colab_type": "code",
        "colab": {},
        "outputId": "166c7ca7-abff-4b4c-aa98-1bcfbd5418cb"
      },
      "cell_type": "code",
      "source": [
        "# Vergleich Classifiers ohne modelspezifische Parameter\n",
        "results = []\n",
        "names = []\n",
        "for name, model in models:\n",
        "    do_cross_val(name, model, X_pca, y)\n",
        "    \n",
        "# Boxplot Model Vergleich\n",
        "plot_model_comp(results, names)"
      ],
      "execution_count": 0,
      "outputs": [
        {
          "output_type": "stream",
          "text": [
            "RF: 0.923733 (0.041492)\n",
            "SVM: 0.904376 (0.031401)\n",
            "KNN: 0.915009 (0.027334)\n",
            "ADA: 0.839907 (0.127888)\n"
          ],
          "name": "stdout"
        },
        {
          "output_type": "display_data",
          "data": {
            "image/png": "[encoded data removed]",
            "text/plain": [
              "<Figure size 432x288 with 1 Axes>"
            ]
          },
          "metadata": {
            "tags": [],
            "needs_background": "light"
          }
        }
      ]
    },
    {
      "metadata": {
        "id": "6kFlbfusspLp",
        "colab_type": "text"
      },
      "cell_type": "markdown",
      "source": [
        "##### Finding: Nach einfacher PCA sind alle Ergebnisse näher beisammen, z.T. auch besser Vorhersagen"
      ]
    },
    {
      "metadata": {
        "id": "jc5jI5zYspLp",
        "colab_type": "text"
      },
      "cell_type": "markdown",
      "source": [
        "### Vergleich Classifiers mit modelspezifischen Parameter"
      ]
    },
    {
      "metadata": {
        "id": "_Bdc30N3spLr",
        "colab_type": "code",
        "colab": {}
      },
      "cell_type": "code",
      "source": [
        "# to-do: Parameter Tuning mittels RandomizedSearchCV\n",
        "models_par = []\n",
        "results = []\n",
        "names = []\n",
        "models_par.append(('RF', RandomForestClassifier(n_estimators=100)))\n",
        "\n",
        "models_par.append(('SVM', Pipeline([\n",
        "    (\"scaler\", StandardScaler()),\n",
        "    (\"linear_svc\", LinearSVC(C=1, loss=\"hinge\", max_iter=100000)),\n",
        "    ])))\n",
        "\n",
        "models_par.append(('KNN', KNeighborsClassifier(n_neighbors=10)))\n",
        "models_par.append(('ADA', AdaBoostClassifier(DecisionTreeClassifier(max_depth=1), n_estimators=200, algorithm=\"SAMME.R\", learning_rate=0.5)))\n",
        "\n",
        "# to-do\n",
        "# Voting\n",
        "# soft -> S. 184 GER\n",
        "# predict_proba\n",
        "# Voting (Ensemble):\n",
        "# voting_clf = VotingClassifier(\n",
        "#    estimators=[('rf', rf_clf), ('dt', dt_clf), ('svc', svc_clf), ('knn', knn_clf), ('ada', ada_clf)],\n",
        "#    voting='hard')\n",
        "\n",
        "# Bagging für predict_proba classifier\n",
        "# S. 186\n"
      ],
      "execution_count": 0,
      "outputs": []
    },
    {
      "metadata": {
        "id": "fMbwUzEvspLs",
        "colab_type": "code",
        "colab": {},
        "outputId": "d462ab14-9fa4-41c0-84bd-f7bd82175b9a"
      },
      "cell_type": "code",
      "source": [
        "# Vergleich Classifiers mit modelspezifischen Parameter\n",
        "# nach PCA (X_pca)\n",
        "results = []\n",
        "names = []\n",
        "for name, model in models_par:\n",
        "    do_cross_val(name, model, X_pca, y)\n",
        "    \n",
        "# Boxplot Model Vergleich\n",
        "plot_model_comp(results, names)"
      ],
      "execution_count": 0,
      "outputs": [
        {
          "output_type": "stream",
          "text": [
            "RF: 0.921533 (0.042012)\n",
            "SVM: 0.921769 (0.026565)\n",
            "KNN: 0.915105 (0.034499)\n",
            "ADA: 0.677492 (0.089439)\n"
          ],
          "name": "stdout"
        },
        {
          "output_type": "display_data",
          "data": {
            "image/png": "[encoded data removed]",
            "text/plain": [
              "<Figure size 432x288 with 1 Axes>"
            ]
          },
          "metadata": {
            "tags": [],
            "needs_background": "light"
          }
        }
      ]
    },
    {
      "metadata": {
        "id": "6yKMir66spLv",
        "colab_type": "text"
      },
      "cell_type": "markdown",
      "source": [
        "## Neue Features"
      ]
    },
    {
      "metadata": {
        "id": "yPwRD9kGspLw",
        "colab_type": "code",
        "colab": {},
        "outputId": "9c76e07c-73de-41f2-f58d-e698978f930b"
      },
      "cell_type": "code",
      "source": [
        "X_new_feat = X.copy()\n",
        "X_new_feat_pca = X_pca.copy()\n",
        "\n",
        "# Anzahl Spalten\n",
        "Num_Cols = len(X_new_feat.columns)\n",
        "print (Num_Cols)\n",
        "\n",
        "# Summe der Pixel pro Zeile\n",
        "#X_new_feat['Sum_Pixels_Row'] = X_new_feat.sum(axis=1)\n",
        "X_new_feat['Sum_Pixels_Row'] = X_new_feat.iloc[:,:Num_Cols].sum(axis=1)\n",
        "\n",
        "# Anzahl Spalten ohne Pixel\n",
        "X_new_feat['No_Pixels_Row'] = Num_Cols - X_new_feat['Sum_Pixels_Row'] # bringt wohl nicht viel, redundant zu Sum_Pixels_Row\n",
        "\n",
        "# Pixel pro Zeile im Verhältnis zu Pixel Gesamtsumme\n",
        "Sum_Pixels = X_new_feat['Sum_Pixels_Row'].sum()\n",
        "print (Sum_Pixels)\n",
        "X_new_feat['Rel_Pixels_Row'] = X_new_feat['Sum_Pixels_Row'] / Sum_Pixels\n",
        "\n",
        "# Summer der Pixel pro Viertel\n",
        "X_new_feat['Sum_Pixels_1Q'] = X_new_feat.iloc[:,1:25].sum(axis=1)\n",
        "X_new_feat['Sum_Pixels_2Q'] = X_new_feat.iloc[:,26:50].sum(axis=1)\n",
        "X_new_feat['Sum_Pixels_3Q'] = X_new_feat.iloc[:,51:75].sum(axis=1)\n",
        "X_new_feat['Sum_Pixels_4Q'] = X_new_feat.iloc[:,76:100].sum(axis=1)\n",
        "\n",
        "X_new_feat.head(10)"
      ],
      "execution_count": 0,
      "outputs": [
        {
          "output_type": "stream",
          "text": [
            "100\n",
            "12618\n"
          ],
          "name": "stdout"
        },
        {
          "output_type": "execute_result",
          "data": {
            "text/html": [
              "<div>\n",
              "<style scoped>\n",
              "    .dataframe tbody tr th:only-of-type {\n",
              "        vertical-align: middle;\n",
              "    }\n",
              "\n",
              "    .dataframe tbody tr th {\n",
              "        vertical-align: top;\n",
              "    }\n",
              "\n",
              "    .dataframe thead th {\n",
              "        text-align: right;\n",
              "    }\n",
              "</style>\n",
              "<table border=\"1\" class=\"dataframe\">\n",
              "  <thead>\n",
              "    <tr style=\"text-align: right;\">\n",
              "      <th></th>\n",
              "      <th>1</th>\n",
              "      <th>2</th>\n",
              "      <th>3</th>\n",
              "      <th>4</th>\n",
              "      <th>5</th>\n",
              "      <th>6</th>\n",
              "      <th>7</th>\n",
              "      <th>8</th>\n",
              "      <th>9</th>\n",
              "      <th>10</th>\n",
              "      <th>...</th>\n",
              "      <th>98</th>\n",
              "      <th>99</th>\n",
              "      <th>100</th>\n",
              "      <th>Sum_Pixels_Row</th>\n",
              "      <th>No_Pixels_Row</th>\n",
              "      <th>Rel_Pixels_Row</th>\n",
              "      <th>Sum_Pixels_1Q</th>\n",
              "      <th>Sum_Pixels_2Q</th>\n",
              "      <th>Sum_Pixels_3Q</th>\n",
              "      <th>Sum_Pixels_4Q</th>\n",
              "    </tr>\n",
              "  </thead>\n",
              "  <tbody>\n",
              "    <tr>\n",
              "      <th>0</th>\n",
              "      <td>0</td>\n",
              "      <td>0</td>\n",
              "      <td>0</td>\n",
              "      <td>0</td>\n",
              "      <td>0</td>\n",
              "      <td>0</td>\n",
              "      <td>0</td>\n",
              "      <td>0</td>\n",
              "      <td>1</td>\n",
              "      <td>1</td>\n",
              "      <td>...</td>\n",
              "      <td>0</td>\n",
              "      <td>0</td>\n",
              "      <td>0</td>\n",
              "      <td>28</td>\n",
              "      <td>72</td>\n",
              "      <td>0.002219</td>\n",
              "      <td>6</td>\n",
              "      <td>8</td>\n",
              "      <td>8</td>\n",
              "      <td>6</td>\n",
              "    </tr>\n",
              "    <tr>\n",
              "      <th>1</th>\n",
              "      <td>1</td>\n",
              "      <td>0</td>\n",
              "      <td>0</td>\n",
              "      <td>0</td>\n",
              "      <td>0</td>\n",
              "      <td>0</td>\n",
              "      <td>0</td>\n",
              "      <td>0</td>\n",
              "      <td>1</td>\n",
              "      <td>1</td>\n",
              "      <td>...</td>\n",
              "      <td>0</td>\n",
              "      <td>0</td>\n",
              "      <td>0</td>\n",
              "      <td>24</td>\n",
              "      <td>76</td>\n",
              "      <td>0.001902</td>\n",
              "      <td>6</td>\n",
              "      <td>6</td>\n",
              "      <td>5</td>\n",
              "      <td>5</td>\n",
              "    </tr>\n",
              "    <tr>\n",
              "      <th>2</th>\n",
              "      <td>1</td>\n",
              "      <td>1</td>\n",
              "      <td>0</td>\n",
              "      <td>0</td>\n",
              "      <td>0</td>\n",
              "      <td>0</td>\n",
              "      <td>0</td>\n",
              "      <td>0</td>\n",
              "      <td>1</td>\n",
              "      <td>1</td>\n",
              "      <td>...</td>\n",
              "      <td>0</td>\n",
              "      <td>0</td>\n",
              "      <td>0</td>\n",
              "      <td>26</td>\n",
              "      <td>74</td>\n",
              "      <td>0.002061</td>\n",
              "      <td>8</td>\n",
              "      <td>6</td>\n",
              "      <td>6</td>\n",
              "      <td>5</td>\n",
              "    </tr>\n",
              "    <tr>\n",
              "      <th>3</th>\n",
              "      <td>0</td>\n",
              "      <td>0</td>\n",
              "      <td>0</td>\n",
              "      <td>0</td>\n",
              "      <td>0</td>\n",
              "      <td>0</td>\n",
              "      <td>0</td>\n",
              "      <td>0</td>\n",
              "      <td>0</td>\n",
              "      <td>1</td>\n",
              "      <td>...</td>\n",
              "      <td>0</td>\n",
              "      <td>0</td>\n",
              "      <td>0</td>\n",
              "      <td>30</td>\n",
              "      <td>70</td>\n",
              "      <td>0.002378</td>\n",
              "      <td>6</td>\n",
              "      <td>10</td>\n",
              "      <td>8</td>\n",
              "      <td>6</td>\n",
              "    </tr>\n",
              "    <tr>\n",
              "      <th>4</th>\n",
              "      <td>1</td>\n",
              "      <td>0</td>\n",
              "      <td>0</td>\n",
              "      <td>0</td>\n",
              "      <td>0</td>\n",
              "      <td>0</td>\n",
              "      <td>0</td>\n",
              "      <td>0</td>\n",
              "      <td>0</td>\n",
              "      <td>1</td>\n",
              "      <td>...</td>\n",
              "      <td>1</td>\n",
              "      <td>0</td>\n",
              "      <td>0</td>\n",
              "      <td>33</td>\n",
              "      <td>67</td>\n",
              "      <td>0.002615</td>\n",
              "      <td>7</td>\n",
              "      <td>9</td>\n",
              "      <td>8</td>\n",
              "      <td>7</td>\n",
              "    </tr>\n",
              "    <tr>\n",
              "      <th>5</th>\n",
              "      <td>1</td>\n",
              "      <td>1</td>\n",
              "      <td>0</td>\n",
              "      <td>0</td>\n",
              "      <td>0</td>\n",
              "      <td>0</td>\n",
              "      <td>0</td>\n",
              "      <td>0</td>\n",
              "      <td>0</td>\n",
              "      <td>1</td>\n",
              "      <td>...</td>\n",
              "      <td>0</td>\n",
              "      <td>0</td>\n",
              "      <td>0</td>\n",
              "      <td>27</td>\n",
              "      <td>73</td>\n",
              "      <td>0.002140</td>\n",
              "      <td>5</td>\n",
              "      <td>7</td>\n",
              "      <td>9</td>\n",
              "      <td>5</td>\n",
              "    </tr>\n",
              "    <tr>\n",
              "      <th>6</th>\n",
              "      <td>1</td>\n",
              "      <td>0</td>\n",
              "      <td>0</td>\n",
              "      <td>0</td>\n",
              "      <td>0</td>\n",
              "      <td>0</td>\n",
              "      <td>0</td>\n",
              "      <td>0</td>\n",
              "      <td>0</td>\n",
              "      <td>1</td>\n",
              "      <td>...</td>\n",
              "      <td>0</td>\n",
              "      <td>0</td>\n",
              "      <td>0</td>\n",
              "      <td>30</td>\n",
              "      <td>70</td>\n",
              "      <td>0.002378</td>\n",
              "      <td>7</td>\n",
              "      <td>8</td>\n",
              "      <td>8</td>\n",
              "      <td>6</td>\n",
              "    </tr>\n",
              "    <tr>\n",
              "      <th>7</th>\n",
              "      <td>0</td>\n",
              "      <td>1</td>\n",
              "      <td>0</td>\n",
              "      <td>0</td>\n",
              "      <td>0</td>\n",
              "      <td>0</td>\n",
              "      <td>0</td>\n",
              "      <td>0</td>\n",
              "      <td>0</td>\n",
              "      <td>0</td>\n",
              "      <td>...</td>\n",
              "      <td>0</td>\n",
              "      <td>0</td>\n",
              "      <td>0</td>\n",
              "      <td>26</td>\n",
              "      <td>74</td>\n",
              "      <td>0.002061</td>\n",
              "      <td>5</td>\n",
              "      <td>8</td>\n",
              "      <td>10</td>\n",
              "      <td>3</td>\n",
              "    </tr>\n",
              "    <tr>\n",
              "      <th>8</th>\n",
              "      <td>0</td>\n",
              "      <td>0</td>\n",
              "      <td>0</td>\n",
              "      <td>1</td>\n",
              "      <td>0</td>\n",
              "      <td>0</td>\n",
              "      <td>0</td>\n",
              "      <td>0</td>\n",
              "      <td>0</td>\n",
              "      <td>0</td>\n",
              "      <td>...</td>\n",
              "      <td>0</td>\n",
              "      <td>0</td>\n",
              "      <td>1</td>\n",
              "      <td>31</td>\n",
              "      <td>69</td>\n",
              "      <td>0.002457</td>\n",
              "      <td>6</td>\n",
              "      <td>7</td>\n",
              "      <td>10</td>\n",
              "      <td>8</td>\n",
              "    </tr>\n",
              "    <tr>\n",
              "      <th>9</th>\n",
              "      <td>0</td>\n",
              "      <td>1</td>\n",
              "      <td>0</td>\n",
              "      <td>0</td>\n",
              "      <td>0</td>\n",
              "      <td>0</td>\n",
              "      <td>0</td>\n",
              "      <td>0</td>\n",
              "      <td>1</td>\n",
              "      <td>1</td>\n",
              "      <td>...</td>\n",
              "      <td>0</td>\n",
              "      <td>0</td>\n",
              "      <td>0</td>\n",
              "      <td>24</td>\n",
              "      <td>76</td>\n",
              "      <td>0.001902</td>\n",
              "      <td>8</td>\n",
              "      <td>4</td>\n",
              "      <td>7</td>\n",
              "      <td>3</td>\n",
              "    </tr>\n",
              "  </tbody>\n",
              "</table>\n",
              "<p>10 rows × 107 columns</p>\n",
              "</div>"
            ],
            "text/plain": [
              "   1  2  3  4  5  6  7  8  9  10      ...        98  99  100  Sum_Pixels_Row  \\\n",
              "0  0  0  0  0  0  0  0  0  1   1      ...         0   0    0              28   \n",
              "1  1  0  0  0  0  0  0  0  1   1      ...         0   0    0              24   \n",
              "2  1  1  0  0  0  0  0  0  1   1      ...         0   0    0              26   \n",
              "3  0  0  0  0  0  0  0  0  0   1      ...         0   0    0              30   \n",
              "4  1  0  0  0  0  0  0  0  0   1      ...         1   0    0              33   \n",
              "5  1  1  0  0  0  0  0  0  0   1      ...         0   0    0              27   \n",
              "6  1  0  0  0  0  0  0  0  0   1      ...         0   0    0              30   \n",
              "7  0  1  0  0  0  0  0  0  0   0      ...         0   0    0              26   \n",
              "8  0  0  0  1  0  0  0  0  0   0      ...         0   0    1              31   \n",
              "9  0  1  0  0  0  0  0  0  1   1      ...         0   0    0              24   \n",
              "\n",
              "   No_Pixels_Row  Rel_Pixels_Row  Sum_Pixels_1Q  Sum_Pixels_2Q  Sum_Pixels_3Q  \\\n",
              "0             72        0.002219              6              8              8   \n",
              "1             76        0.001902              6              6              5   \n",
              "2             74        0.002061              8              6              6   \n",
              "3             70        0.002378              6             10              8   \n",
              "4             67        0.002615              7              9              8   \n",
              "5             73        0.002140              5              7              9   \n",
              "6             70        0.002378              7              8              8   \n",
              "7             74        0.002061              5              8             10   \n",
              "8             69        0.002457              6              7             10   \n",
              "9             76        0.001902              8              4              7   \n",
              "\n",
              "   Sum_Pixels_4Q  \n",
              "0              6  \n",
              "1              5  \n",
              "2              5  \n",
              "3              6  \n",
              "4              7  \n",
              "5              5  \n",
              "6              6  \n",
              "7              3  \n",
              "8              8  \n",
              "9              3  \n",
              "\n",
              "[10 rows x 107 columns]"
            ]
          },
          "metadata": {
            "tags": []
          },
          "execution_count": 316
        }
      ]
    },
    {
      "metadata": {
        "id": "puNvEfolspLy",
        "colab_type": "code",
        "colab": {},
        "outputId": "113e8589-dc67-4886-8cb7-43e4341a102b"
      },
      "cell_type": "code",
      "source": [
        "results = []\n",
        "names = []\n",
        "for name, model in models_par:\n",
        "    do_cross_val(name, model, X_new_feat, y)\n",
        "    \n",
        "# Boxplot Model Vergleich\n",
        "plot_model_comp(results, names)"
      ],
      "execution_count": 0,
      "outputs": [
        {
          "output_type": "stream",
          "text": [
            "RF: 0.937109 (0.044649)\n"
          ],
          "name": "stdout"
        },
        {
          "output_type": "stream",
          "text": [
            "/Users/of/anaconda3/lib/python3.7/site-packages/sklearn/preprocessing/data.py:625: DataConversionWarning: Data with input dtype int64, float64 were all converted to float64 by StandardScaler.\n",
            "  return self.partial_fit(X, y)\n",
            "/Users/of/anaconda3/lib/python3.7/site-packages/sklearn/base.py:465: DataConversionWarning: Data with input dtype int64, float64 were all converted to float64 by StandardScaler.\n",
            "  return self.fit(X, y, **fit_params).transform(X)\n",
            "/Users/of/anaconda3/lib/python3.7/site-packages/sklearn/pipeline.py:331: DataConversionWarning: Data with input dtype int64, float64 were all converted to float64 by StandardScaler.\n",
            "  Xt = transform.transform(Xt)\n",
            "/Users/of/anaconda3/lib/python3.7/site-packages/sklearn/preprocessing/data.py:625: DataConversionWarning: Data with input dtype int64, float64 were all converted to float64 by StandardScaler.\n",
            "  return self.partial_fit(X, y)\n",
            "/Users/of/anaconda3/lib/python3.7/site-packages/sklearn/base.py:465: DataConversionWarning: Data with input dtype int64, float64 were all converted to float64 by StandardScaler.\n",
            "  return self.fit(X, y, **fit_params).transform(X)\n",
            "/Users/of/anaconda3/lib/python3.7/site-packages/sklearn/pipeline.py:331: DataConversionWarning: Data with input dtype int64, float64 were all converted to float64 by StandardScaler.\n",
            "  Xt = transform.transform(Xt)\n",
            "/Users/of/anaconda3/lib/python3.7/site-packages/sklearn/preprocessing/data.py:625: DataConversionWarning: Data with input dtype int64, float64 were all converted to float64 by StandardScaler.\n",
            "  return self.partial_fit(X, y)\n",
            "/Users/of/anaconda3/lib/python3.7/site-packages/sklearn/base.py:465: DataConversionWarning: Data with input dtype int64, float64 were all converted to float64 by StandardScaler.\n",
            "  return self.fit(X, y, **fit_params).transform(X)\n",
            "/Users/of/anaconda3/lib/python3.7/site-packages/sklearn/pipeline.py:331: DataConversionWarning: Data with input dtype int64, float64 were all converted to float64 by StandardScaler.\n",
            "  Xt = transform.transform(Xt)\n",
            "/Users/of/anaconda3/lib/python3.7/site-packages/sklearn/preprocessing/data.py:625: DataConversionWarning: Data with input dtype int64, float64 were all converted to float64 by StandardScaler.\n",
            "  return self.partial_fit(X, y)\n",
            "/Users/of/anaconda3/lib/python3.7/site-packages/sklearn/base.py:465: DataConversionWarning: Data with input dtype int64, float64 were all converted to float64 by StandardScaler.\n",
            "  return self.fit(X, y, **fit_params).transform(X)\n",
            "/Users/of/anaconda3/lib/python3.7/site-packages/sklearn/pipeline.py:331: DataConversionWarning: Data with input dtype int64, float64 were all converted to float64 by StandardScaler.\n",
            "  Xt = transform.transform(Xt)\n",
            "/Users/of/anaconda3/lib/python3.7/site-packages/sklearn/preprocessing/data.py:625: DataConversionWarning: Data with input dtype int64, float64 were all converted to float64 by StandardScaler.\n",
            "  return self.partial_fit(X, y)\n",
            "/Users/of/anaconda3/lib/python3.7/site-packages/sklearn/base.py:465: DataConversionWarning: Data with input dtype int64, float64 were all converted to float64 by StandardScaler.\n",
            "  return self.fit(X, y, **fit_params).transform(X)\n",
            "/Users/of/anaconda3/lib/python3.7/site-packages/sklearn/pipeline.py:331: DataConversionWarning: Data with input dtype int64, float64 were all converted to float64 by StandardScaler.\n",
            "  Xt = transform.transform(Xt)\n",
            "/Users/of/anaconda3/lib/python3.7/site-packages/sklearn/preprocessing/data.py:625: DataConversionWarning: Data with input dtype int64, float64 were all converted to float64 by StandardScaler.\n",
            "  return self.partial_fit(X, y)\n",
            "/Users/of/anaconda3/lib/python3.7/site-packages/sklearn/base.py:465: DataConversionWarning: Data with input dtype int64, float64 were all converted to float64 by StandardScaler.\n",
            "  return self.fit(X, y, **fit_params).transform(X)\n"
          ],
          "name": "stderr"
        },
        {
          "output_type": "stream",
          "text": [
            "SVM: 0.867863 (0.070597)\n",
            "KNN: 0.835549 (0.065803)\n",
            "ADA: 0.852245 (0.092489)\n"
          ],
          "name": "stdout"
        },
        {
          "output_type": "display_data",
          "data": {
            "image/png": "[encoded data removed]",
            "text/plain": [
              "<Figure size 432x288 with 1 Axes>"
            ]
          },
          "metadata": {
            "tags": [],
            "needs_background": "light"
          }
        }
      ]
    },
    {
      "metadata": {
        "id": "-z47pmdwspL0",
        "colab_type": "code",
        "colab": {}
      },
      "cell_type": "code",
      "source": [
        ""
      ],
      "execution_count": 0,
      "outputs": []
    }
  ]
}