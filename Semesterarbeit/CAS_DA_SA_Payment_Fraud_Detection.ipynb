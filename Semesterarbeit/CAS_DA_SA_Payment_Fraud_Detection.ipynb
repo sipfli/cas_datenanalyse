{
  "nbformat": 4,
  "nbformat_minor": 0,
  "metadata": {
    "colab": {
      "name": "CAS-DA-SA_Payment_Fraud_Detection.ipynb",
      "version": "0.3.2",
      "provenance": [],
      "include_colab_link": true
    },
    "kernelspec": {
      "name": "python3",
      "display_name": "Python 3"
    },
    "accelerator": "GPU"
  },
  "cells": [
    {
      "cell_type": "markdown",
      "metadata": {
        "id": "view-in-github",
        "colab_type": "text"
      },
      "source": [
        "<a href=\"https://colab.research.google.com/github/sakuronohana/cas_datenanalyse/blob/master/Semesterarbeit/CAS_DA_SA_Payment_Fraud_Detection.ipynb\" target=\"_parent\"><img src=\"https://colab.research.google.com/assets/colab-badge.svg\" alt=\"Open In Colab\"/></a>"
      ]
    },
    {
      "cell_type": "markdown",
      "metadata": {
        "id": "jRcJtvy3IiFf",
        "colab_type": "text"
      },
      "source": [
        "<img \n",
        "src=\"https://www.ffhs.ch/templates/ffhs/img/logo@2x.png\" width=\"100\"> \n",
        "###DaAn, Data Analysis, MAS/CAS Web4B 2018, ZH1, FS19, Dr. Tödtli Beat###\n",
        "\n",
        "##*Semesterarbeit von Patrik Di Lena*##\n",
        "#Betrugserkennung Zahlungsverkehr#\n",
        "\n"
      ]
    },
    {
      "cell_type": "markdown",
      "metadata": {
        "id": "Cu2Lax6MMPh0",
        "colab_type": "text"
      },
      "source": [
        "##Ziel##\n",
        "Das Ziel dieser Semesterarbeit ist die Gegenüberstellung von Supervised und Unsupervised Lernverfahren mit eine neuronalen Netzwerk Algorthmus. Dabei kommt  ein nicht gelabelter und ein gelabelter Datensatz aus einem Betrugserkennungssystem zum Einsatz. \n",
        "\n",
        "##Aufgabenstellung##\n",
        "###Erkennung von Betrugszahlungen###\n",
        "Mittels Unsupervised Learning sollen Betrugszahlungen aus einem nicht gelabelten Datensatz erkannt und die Effiktivität des vorhandenen Fraud-Detection Systems geprüft werden.\n",
        "\n",
        "###Betrugsanfällige Risikogruppen###\n",
        "Mit Hilfe von Supervised Learning werden mögliche Risikogruppen ermittelt, welche im Visier von Betrügern stehen.  Auf Basis eines gelabelten Datensatzes  werden die Risikogruppen nach folgenden Merkmalen unterschieden:\n",
        "\n",
        "*\tGeschlecht\n",
        "*\tAlter\n",
        "*\tZivilstand\n",
        "*\tNationalität\n",
        "*\tKontosaldo\n",
        "*\tWohnort\n",
        "*\tRegion\n",
        "\n",
        "##Datensatz##\n",
        "Die im Rahmen dieser Semesterarbeit verwendeten Daten entstammen, von ihrer Datenstruktur her, aus einem bereits eingesetzten nicht ML-basierten Betrugserkennungssystem. Die Datenwerte wurde zu Wahrung der datenschutzrechtlichen und bankengesetzlichen Aspekte mit Hilfe eines Python-Scripts künstlich erzeugt und beinhalten somit keine reale Zahlungs- oder Kunden-Informationen.   \n",
        "\n",
        "Datenselektion:\n",
        "\n",
        "- 20'800 synthetische Kunden (Vorname, Name, Strasse, Ort, Kanton, Sprachregion, Geschlecht, Alter, Zivilstand,  Nationalität, Kontonummer, Vertragsnummer, Rechtsform)\n",
        "\n",
        "- 60'000 synthetische Zahlungen (Transaktionsid, ,Erstellungdatum/Zeit, Empfängerkonto, Empfängerbank, Empfängerland, Währung, Betrag, Valuta Datum)\n",
        "\n",
        "\n",
        "\n",
        "\n",
        "\n",
        "\n"
      ]
    },
    {
      "cell_type": "markdown",
      "metadata": {
        "id": "Lz_l4l9VX0jr",
        "colab_type": "text"
      },
      "source": [
        "#Erkennung von Betrugszahlungen# \n",
        "\n",
        "##Unsupervised Learning mit neuronalen Netzwerken##"
      ]
    },
    {
      "cell_type": "markdown",
      "metadata": {
        "id": "fPNBtxFmnQg7",
        "colab_type": "text"
      },
      "source": [
        "###Importieren der ungelabelten Fraud-Zahlungsdaten###"
      ]
    },
    {
      "cell_type": "code",
      "metadata": {
        "id": "M9kpR8RAjMzw",
        "colab_type": "code",
        "outputId": "bf644a2a-7f26-4d71-b275-40ab1de156c6",
        "colab": {
          "base_uri": "https://localhost:8080/",
          "height": 305
        }
      },
      "source": [
        "%matplotlib inline\n",
        "import pandas as pd\n",
        "import numpy as np\n",
        "import seaborn as sns\n",
        "import matplotlib.pyplot as plt\n",
        "\n",
        "\n",
        "# Laden der 600000 nicht gelabelten Transaktionsdaten \n",
        "trx_data_url = 'https://raw.githubusercontent.com/sakuronohana/cas_datenanalyse/master/Semesterarbeit/Dataset/trx_data_ol.csv'\n",
        "\n",
        "trx_data_ol = pd.read_csv(trx_data_url, delimiter=';')\n",
        "trx_data_ol.head()\n",
        "\n"
      ],
      "execution_count": 2,
      "outputs": [
        {
          "output_type": "execute_result",
          "data": {
            "text/plain": [
              "        timestamp   paym_id   send_bc_nr  amount    rcv_bc_nr  \\\n",
              "0  01.01.18 08:00  10000010  CHBANK71XXX   15368  JOBANK40XXX   \n",
              "1  01.01.18 08:00  10000011  CHBANK71XXX   89137  STBANK68XXX   \n",
              "2  01.01.18 08:01  10000012  CHBANK71XXX   87673  XKBANK43XXX   \n",
              "3  01.01.18 08:01  10000013  CHBANK71XXX   55941  RSBANK72XXX   \n",
              "4  01.01.18 08:02  10000014  CHBANK71XXX   88173  LIBANK48XXX   \n",
              "\n",
              "                      rcv_bc_iban         rcv_bc_country rcv_bc_code  \\\n",
              "0  JO02SCBL1260000000018525836101              Jordanien          JO   \n",
              "1       ST23000200000289355710148  Sao Tome und Principe          ST   \n",
              "2            XK051301001002074155                 Kosovo          XK   \n",
              "3          RS35105008054113238018                Serbien          RS   \n",
              "4           LI0308800000022875748          Liechtenstein          LI   \n",
              "\n",
              "              rcv_iban     valuta_date  cust_vertrag_nr  \\\n",
              "0  JO40002096331755419  01.01.18 08:00            76311   \n",
              "1  ST68002492808312214  01.01.18 20:00            69891   \n",
              "2  XK43002422391264290  02.01.18 08:01            78573   \n",
              "3  RS72002873180573624  02.01.18 20:01            75443   \n",
              "4  LI48002899580343897  03.01.18 08:02            73167   \n",
              "\n",
              "           cust_konto_nr  cust_vname cust_nname  cust_plz     cust_ort  \\\n",
              "0  CH5300772672529640195      Martin      Bader      6020  Emmenbrücke   \n",
              "1  CH5300772670061796126  Margaretha       Fehr      9056         Gais   \n",
              "2  CH5300772500037725234      Daniel   Miéville      1253  Vandoeuvres   \n",
              "3  CH5300772732508635138      Andrea      Iseni      6026         Rain   \n",
              "4  CH5300772640237288398      Andrea     Pinana      6693      Broglio   \n",
              "\n",
              "  cust_kanton cust_sprachregion cust_auth_device  \n",
              "0          LU                de             mtan  \n",
              "1          AR                de             ptan  \n",
              "2          GE                fr             ptan  \n",
              "3          LU                de             mtan  \n",
              "4          TI                it             mtan  "
            ],
            "text/html": [
              "<div>\n",
              "<style scoped>\n",
              "    .dataframe tbody tr th:only-of-type {\n",
              "        vertical-align: middle;\n",
              "    }\n",
              "\n",
              "    .dataframe tbody tr th {\n",
              "        vertical-align: top;\n",
              "    }\n",
              "\n",
              "    .dataframe thead th {\n",
              "        text-align: right;\n",
              "    }\n",
              "</style>\n",
              "<table border=\"1\" class=\"dataframe\">\n",
              "  <thead>\n",
              "    <tr style=\"text-align: right;\">\n",
              "      <th></th>\n",
              "      <th>timestamp</th>\n",
              "      <th>paym_id</th>\n",
              "      <th>send_bc_nr</th>\n",
              "      <th>amount</th>\n",
              "      <th>rcv_bc_nr</th>\n",
              "      <th>rcv_bc_iban</th>\n",
              "      <th>rcv_bc_country</th>\n",
              "      <th>rcv_bc_code</th>\n",
              "      <th>rcv_iban</th>\n",
              "      <th>valuta_date</th>\n",
              "      <th>cust_vertrag_nr</th>\n",
              "      <th>cust_konto_nr</th>\n",
              "      <th>cust_vname</th>\n",
              "      <th>cust_nname</th>\n",
              "      <th>cust_plz</th>\n",
              "      <th>cust_ort</th>\n",
              "      <th>cust_kanton</th>\n",
              "      <th>cust_sprachregion</th>\n",
              "      <th>cust_auth_device</th>\n",
              "    </tr>\n",
              "  </thead>\n",
              "  <tbody>\n",
              "    <tr>\n",
              "      <th>0</th>\n",
              "      <td>01.01.18 08:00</td>\n",
              "      <td>10000010</td>\n",
              "      <td>CHBANK71XXX</td>\n",
              "      <td>15368</td>\n",
              "      <td>JOBANK40XXX</td>\n",
              "      <td>JO02SCBL1260000000018525836101</td>\n",
              "      <td>Jordanien</td>\n",
              "      <td>JO</td>\n",
              "      <td>JO40002096331755419</td>\n",
              "      <td>01.01.18 08:00</td>\n",
              "      <td>76311</td>\n",
              "      <td>CH5300772672529640195</td>\n",
              "      <td>Martin</td>\n",
              "      <td>Bader</td>\n",
              "      <td>6020</td>\n",
              "      <td>Emmenbrücke</td>\n",
              "      <td>LU</td>\n",
              "      <td>de</td>\n",
              "      <td>mtan</td>\n",
              "    </tr>\n",
              "    <tr>\n",
              "      <th>1</th>\n",
              "      <td>01.01.18 08:00</td>\n",
              "      <td>10000011</td>\n",
              "      <td>CHBANK71XXX</td>\n",
              "      <td>89137</td>\n",
              "      <td>STBANK68XXX</td>\n",
              "      <td>ST23000200000289355710148</td>\n",
              "      <td>Sao Tome und Principe</td>\n",
              "      <td>ST</td>\n",
              "      <td>ST68002492808312214</td>\n",
              "      <td>01.01.18 20:00</td>\n",
              "      <td>69891</td>\n",
              "      <td>CH5300772670061796126</td>\n",
              "      <td>Margaretha</td>\n",
              "      <td>Fehr</td>\n",
              "      <td>9056</td>\n",
              "      <td>Gais</td>\n",
              "      <td>AR</td>\n",
              "      <td>de</td>\n",
              "      <td>ptan</td>\n",
              "    </tr>\n",
              "    <tr>\n",
              "      <th>2</th>\n",
              "      <td>01.01.18 08:01</td>\n",
              "      <td>10000012</td>\n",
              "      <td>CHBANK71XXX</td>\n",
              "      <td>87673</td>\n",
              "      <td>XKBANK43XXX</td>\n",
              "      <td>XK051301001002074155</td>\n",
              "      <td>Kosovo</td>\n",
              "      <td>XK</td>\n",
              "      <td>XK43002422391264290</td>\n",
              "      <td>02.01.18 08:01</td>\n",
              "      <td>78573</td>\n",
              "      <td>CH5300772500037725234</td>\n",
              "      <td>Daniel</td>\n",
              "      <td>Miéville</td>\n",
              "      <td>1253</td>\n",
              "      <td>Vandoeuvres</td>\n",
              "      <td>GE</td>\n",
              "      <td>fr</td>\n",
              "      <td>ptan</td>\n",
              "    </tr>\n",
              "    <tr>\n",
              "      <th>3</th>\n",
              "      <td>01.01.18 08:01</td>\n",
              "      <td>10000013</td>\n",
              "      <td>CHBANK71XXX</td>\n",
              "      <td>55941</td>\n",
              "      <td>RSBANK72XXX</td>\n",
              "      <td>RS35105008054113238018</td>\n",
              "      <td>Serbien</td>\n",
              "      <td>RS</td>\n",
              "      <td>RS72002873180573624</td>\n",
              "      <td>02.01.18 20:01</td>\n",
              "      <td>75443</td>\n",
              "      <td>CH5300772732508635138</td>\n",
              "      <td>Andrea</td>\n",
              "      <td>Iseni</td>\n",
              "      <td>6026</td>\n",
              "      <td>Rain</td>\n",
              "      <td>LU</td>\n",
              "      <td>de</td>\n",
              "      <td>mtan</td>\n",
              "    </tr>\n",
              "    <tr>\n",
              "      <th>4</th>\n",
              "      <td>01.01.18 08:02</td>\n",
              "      <td>10000014</td>\n",
              "      <td>CHBANK71XXX</td>\n",
              "      <td>88173</td>\n",
              "      <td>LIBANK48XXX</td>\n",
              "      <td>LI0308800000022875748</td>\n",
              "      <td>Liechtenstein</td>\n",
              "      <td>LI</td>\n",
              "      <td>LI48002899580343897</td>\n",
              "      <td>03.01.18 08:02</td>\n",
              "      <td>73167</td>\n",
              "      <td>CH5300772640237288398</td>\n",
              "      <td>Andrea</td>\n",
              "      <td>Pinana</td>\n",
              "      <td>6693</td>\n",
              "      <td>Broglio</td>\n",
              "      <td>TI</td>\n",
              "      <td>it</td>\n",
              "      <td>mtan</td>\n",
              "    </tr>\n",
              "  </tbody>\n",
              "</table>\n",
              "</div>"
            ]
          },
          "metadata": {
            "tags": []
          },
          "execution_count": 2
        }
      ]
    },
    {
      "cell_type": "markdown",
      "metadata": {
        "id": "TmODZafznm1I",
        "colab_type": "text"
      },
      "source": [
        "###Feature Engineering###"
      ]
    },
    {
      "cell_type": "code",
      "metadata": {
        "id": "D2GAbTbYoRZ6",
        "colab_type": "code",
        "outputId": "aeed8edb-8696-46c7-dffd-ca6f788553ff",
        "colab": {
          "base_uri": "https://localhost:8080/",
          "height": 363
        }
      },
      "source": [
        "# Bestimmte Daten in das richtige Format konvertieren\n",
        "\n",
        "# timestamp in Datums-und Zeitformat umwandeln\n",
        "trx_data_ol.timestamp = pd.to_datetime(trx_data_ol['timestamp'])\n",
        "trx_data_ol.valuta_date = pd.to_datetime(trx_data_ol['valuta_date'])\n",
        "#Suche des Datensatzes nach Null-Werten\n",
        "trx_data_ol.isnull().values.sum()\n",
        "trx_data_ol.dtypes\n"
      ],
      "execution_count": 3,
      "outputs": [
        {
          "output_type": "execute_result",
          "data": {
            "text/plain": [
              "timestamp            datetime64[ns]\n",
              "paym_id                       int64\n",
              "send_bc_nr                   object\n",
              "amount                        int64\n",
              "rcv_bc_nr                    object\n",
              "rcv_bc_iban                  object\n",
              "rcv_bc_country               object\n",
              "rcv_bc_code                  object\n",
              "rcv_iban                     object\n",
              "valuta_date          datetime64[ns]\n",
              "cust_vertrag_nr               int64\n",
              "cust_konto_nr                object\n",
              "cust_vname                   object\n",
              "cust_nname                   object\n",
              "cust_plz                      int64\n",
              "cust_ort                     object\n",
              "cust_kanton                  object\n",
              "cust_sprachregion            object\n",
              "cust_auth_device             object\n",
              "dtype: object"
            ]
          },
          "metadata": {
            "tags": []
          },
          "execution_count": 3
        }
      ]
    },
    {
      "cell_type": "markdown",
      "metadata": {
        "id": "POjMMOv1eaOg",
        "colab_type": "text"
      },
      "source": [
        "**Encoding kategorische Werte in nummerische Werte**"
      ]
    },
    {
      "cell_type": "code",
      "metadata": {
        "id": "Q3jR2c3xCKGm",
        "colab_type": "code",
        "outputId": "092b2c17-1490-47b3-df6b-be673404627d",
        "colab": {
          "base_uri": "https://localhost:8080/",
          "height": 351
        }
      },
      "source": [
        "\n",
        "#Encoding Daten mit Dtype Object in nummerische Werte\n",
        "#trx_data_ol = pd.get_dummies(trx_data_ol, prefix_sep='_', drop_first=True)\n",
        "trx_data_ol = pd.get_dummies(trx_data_ol, columns=['send_bc_nr', 'rcv_bc_nr', 'rcv_bc_iban',\n",
        "                                    'rcv_bc_country','rcv_bc_code','rcv_iban',\n",
        "                                    'cust_konto_nr','cust_vname','cust_nname',\n",
        "                                    'cust_ort','cust_kanton','cust_sprachregion',\n",
        "                                    'cust_auth_device'], drop_first=True)\n",
        "trx_data_ol.head()"
      ],
      "execution_count": 4,
      "outputs": [
        {
          "output_type": "execute_result",
          "data": {
            "text/plain": [
              "            timestamp   paym_id  amount         valuta_date  cust_vertrag_nr  \\\n",
              "0 2018-01-01 08:00:00  10000010   15368 2018-01-01 08:00:00            76311   \n",
              "1 2018-01-01 08:00:00  10000011   89137 2018-01-01 20:00:00            69891   \n",
              "2 2018-01-01 08:01:00  10000012   87673 2018-02-01 08:01:00            78573   \n",
              "3 2018-01-01 08:01:00  10000013   55941 2018-02-01 20:01:00            75443   \n",
              "4 2018-01-01 08:02:00  10000014   88173 2018-03-01 08:02:00            73167   \n",
              "\n",
              "   cust_plz  rcv_bc_nr_AEBANK83XXX  rcv_bc_nr_ALBANK11XXX  \\\n",
              "0      6020                      0                      0   \n",
              "1      9056                      0                      0   \n",
              "2      1253                      0                      0   \n",
              "3      6026                      0                      0   \n",
              "4      6693                      0                      0   \n",
              "\n",
              "   rcv_bc_nr_ATBANK60XXX  rcv_bc_nr_AZBANK13XXX          ...            \\\n",
              "0                      0                      0          ...             \n",
              "1                      0                      0          ...             \n",
              "2                      0                      0          ...             \n",
              "3                      0                      0          ...             \n",
              "4                      0                      0          ...             \n",
              "\n",
              "   cust_ort_Wünnewil  cust_ort_Zell LU  cust_kanton_AR  cust_kanton_FR  \\\n",
              "0                  0                 0               0               0   \n",
              "1                  0                 0               1               0   \n",
              "2                  0                 0               0               0   \n",
              "3                  0                 0               0               0   \n",
              "4                  0                 0               0               0   \n",
              "\n",
              "   cust_kanton_GE  cust_kanton_LU  cust_kanton_TI  cust_sprachregion_fr  \\\n",
              "0               0               1               0                     0   \n",
              "1               0               0               0                     0   \n",
              "2               1               0               0                     1   \n",
              "3               0               1               0                     0   \n",
              "4               0               0               1                     0   \n",
              "\n",
              "   cust_sprachregion_it  cust_auth_device_ptan  \n",
              "0                     0                      0  \n",
              "1                     0                      1  \n",
              "2                     0                      1  \n",
              "3                     0                      0  \n",
              "4                     1                      0  \n",
              "\n",
              "[5 rows x 86027 columns]"
            ],
            "text/html": [
              "<div>\n",
              "<style scoped>\n",
              "    .dataframe tbody tr th:only-of-type {\n",
              "        vertical-align: middle;\n",
              "    }\n",
              "\n",
              "    .dataframe tbody tr th {\n",
              "        vertical-align: top;\n",
              "    }\n",
              "\n",
              "    .dataframe thead th {\n",
              "        text-align: right;\n",
              "    }\n",
              "</style>\n",
              "<table border=\"1\" class=\"dataframe\">\n",
              "  <thead>\n",
              "    <tr style=\"text-align: right;\">\n",
              "      <th></th>\n",
              "      <th>timestamp</th>\n",
              "      <th>paym_id</th>\n",
              "      <th>amount</th>\n",
              "      <th>valuta_date</th>\n",
              "      <th>cust_vertrag_nr</th>\n",
              "      <th>cust_plz</th>\n",
              "      <th>rcv_bc_nr_AEBANK83XXX</th>\n",
              "      <th>rcv_bc_nr_ALBANK11XXX</th>\n",
              "      <th>rcv_bc_nr_ATBANK60XXX</th>\n",
              "      <th>rcv_bc_nr_AZBANK13XXX</th>\n",
              "      <th>...</th>\n",
              "      <th>cust_ort_Wünnewil</th>\n",
              "      <th>cust_ort_Zell LU</th>\n",
              "      <th>cust_kanton_AR</th>\n",
              "      <th>cust_kanton_FR</th>\n",
              "      <th>cust_kanton_GE</th>\n",
              "      <th>cust_kanton_LU</th>\n",
              "      <th>cust_kanton_TI</th>\n",
              "      <th>cust_sprachregion_fr</th>\n",
              "      <th>cust_sprachregion_it</th>\n",
              "      <th>cust_auth_device_ptan</th>\n",
              "    </tr>\n",
              "  </thead>\n",
              "  <tbody>\n",
              "    <tr>\n",
              "      <th>0</th>\n",
              "      <td>2018-01-01 08:00:00</td>\n",
              "      <td>10000010</td>\n",
              "      <td>15368</td>\n",
              "      <td>2018-01-01 08:00:00</td>\n",
              "      <td>76311</td>\n",
              "      <td>6020</td>\n",
              "      <td>0</td>\n",
              "      <td>0</td>\n",
              "      <td>0</td>\n",
              "      <td>0</td>\n",
              "      <td>...</td>\n",
              "      <td>0</td>\n",
              "      <td>0</td>\n",
              "      <td>0</td>\n",
              "      <td>0</td>\n",
              "      <td>0</td>\n",
              "      <td>1</td>\n",
              "      <td>0</td>\n",
              "      <td>0</td>\n",
              "      <td>0</td>\n",
              "      <td>0</td>\n",
              "    </tr>\n",
              "    <tr>\n",
              "      <th>1</th>\n",
              "      <td>2018-01-01 08:00:00</td>\n",
              "      <td>10000011</td>\n",
              "      <td>89137</td>\n",
              "      <td>2018-01-01 20:00:00</td>\n",
              "      <td>69891</td>\n",
              "      <td>9056</td>\n",
              "      <td>0</td>\n",
              "      <td>0</td>\n",
              "      <td>0</td>\n",
              "      <td>0</td>\n",
              "      <td>...</td>\n",
              "      <td>0</td>\n",
              "      <td>0</td>\n",
              "      <td>1</td>\n",
              "      <td>0</td>\n",
              "      <td>0</td>\n",
              "      <td>0</td>\n",
              "      <td>0</td>\n",
              "      <td>0</td>\n",
              "      <td>0</td>\n",
              "      <td>1</td>\n",
              "    </tr>\n",
              "    <tr>\n",
              "      <th>2</th>\n",
              "      <td>2018-01-01 08:01:00</td>\n",
              "      <td>10000012</td>\n",
              "      <td>87673</td>\n",
              "      <td>2018-02-01 08:01:00</td>\n",
              "      <td>78573</td>\n",
              "      <td>1253</td>\n",
              "      <td>0</td>\n",
              "      <td>0</td>\n",
              "      <td>0</td>\n",
              "      <td>0</td>\n",
              "      <td>...</td>\n",
              "      <td>0</td>\n",
              "      <td>0</td>\n",
              "      <td>0</td>\n",
              "      <td>0</td>\n",
              "      <td>1</td>\n",
              "      <td>0</td>\n",
              "      <td>0</td>\n",
              "      <td>1</td>\n",
              "      <td>0</td>\n",
              "      <td>1</td>\n",
              "    </tr>\n",
              "    <tr>\n",
              "      <th>3</th>\n",
              "      <td>2018-01-01 08:01:00</td>\n",
              "      <td>10000013</td>\n",
              "      <td>55941</td>\n",
              "      <td>2018-02-01 20:01:00</td>\n",
              "      <td>75443</td>\n",
              "      <td>6026</td>\n",
              "      <td>0</td>\n",
              "      <td>0</td>\n",
              "      <td>0</td>\n",
              "      <td>0</td>\n",
              "      <td>...</td>\n",
              "      <td>0</td>\n",
              "      <td>0</td>\n",
              "      <td>0</td>\n",
              "      <td>0</td>\n",
              "      <td>0</td>\n",
              "      <td>1</td>\n",
              "      <td>0</td>\n",
              "      <td>0</td>\n",
              "      <td>0</td>\n",
              "      <td>0</td>\n",
              "    </tr>\n",
              "    <tr>\n",
              "      <th>4</th>\n",
              "      <td>2018-01-01 08:02:00</td>\n",
              "      <td>10000014</td>\n",
              "      <td>88173</td>\n",
              "      <td>2018-03-01 08:02:00</td>\n",
              "      <td>73167</td>\n",
              "      <td>6693</td>\n",
              "      <td>0</td>\n",
              "      <td>0</td>\n",
              "      <td>0</td>\n",
              "      <td>0</td>\n",
              "      <td>...</td>\n",
              "      <td>0</td>\n",
              "      <td>0</td>\n",
              "      <td>0</td>\n",
              "      <td>0</td>\n",
              "      <td>0</td>\n",
              "      <td>0</td>\n",
              "      <td>1</td>\n",
              "      <td>0</td>\n",
              "      <td>1</td>\n",
              "      <td>0</td>\n",
              "    </tr>\n",
              "  </tbody>\n",
              "</table>\n",
              "<p>5 rows × 86027 columns</p>\n",
              "</div>"
            ]
          },
          "metadata": {
            "tags": []
          },
          "execution_count": 4
        }
      ]
    },
    {
      "cell_type": "code",
      "metadata": {
        "id": "LL0rWmtRXZDl",
        "colab_type": "code",
        "colab": {
          "base_uri": "https://localhost:8080/",
          "height": 1088
        },
        "outputId": "6ac43d85-96d2-4690-c752-89ef0f9d322e"
      },
      "source": [
        "trx_data_ol.dtypes"
      ],
      "execution_count": 7,
      "outputs": [
        {
          "output_type": "execute_result",
          "data": {
            "text/plain": [
              "timestamp                             datetime64[ns]\n",
              "paym_id                                        int64\n",
              "amount                                         int64\n",
              "valuta_date                           datetime64[ns]\n",
              "cust_vertrag_nr                                int64\n",
              "cust_plz                                       int64\n",
              "rcv_bc_nr_AEBANK83XXX                          uint8\n",
              "rcv_bc_nr_ALBANK11XXX                          uint8\n",
              "rcv_bc_nr_ATBANK60XXX                          uint8\n",
              "rcv_bc_nr_AZBANK13XXX                          uint8\n",
              "rcv_bc_nr_BABANK16XXX                          uint8\n",
              "rcv_bc_nr_BEBANK15XXX                          uint8\n",
              "rcv_bc_nr_BGBANK19XXX                          uint8\n",
              "rcv_bc_nr_BHBANK14XXX                          uint8\n",
              "rcv_bc_nr_BRBANK17XXX                          uint8\n",
              "rcv_bc_nr_BYBANK84XXX                          uint8\n",
              "rcv_bc_nr_CHBANK71XXX                          uint8\n",
              "rcv_bc_nr_CRBANK20XXX                          uint8\n",
              "rcv_bc_nr_CYBANK85XXX                          uint8\n",
              "rcv_bc_nr_CZBANK79XXX                          uint8\n",
              "rcv_bc_nr_DEBANK22XXX                          uint8\n",
              "rcv_bc_nr_DKBANK21XXX                          uint8\n",
              "rcv_bc_nr_DOBANK23XXX                          uint8\n",
              "rcv_bc_nr_EEBANK25XXX                          uint8\n",
              "rcv_bc_nr_ESBANK76XXX                          uint8\n",
              "rcv_bc_nr_FIBANK27XXX                          uint8\n",
              "rcv_bc_nr_FOBANK26XXX                          uint8\n",
              "rcv_bc_nr_FRBANK28XXX                          uint8\n",
              "rcv_bc_nr_GBBANK33XXX                          uint8\n",
              "rcv_bc_nr_GEBANK29XXX                          uint8\n",
              "                                           ...      \n",
              "cust_ort_Vuarmarens                            uint8\n",
              "cust_ort_Vuippens                              uint8\n",
              "cust_ort_Vuisternens-devant-Romont             uint8\n",
              "cust_ort_Vuisternens-en-Ogoz                   uint8\n",
              "cust_ort_Vésenaz                               uint8\n",
              "cust_ort_Wald AR                               uint8\n",
              "cust_ort_Waldstatt                             uint8\n",
              "cust_ort_Wallenried                            uint8\n",
              "cust_ort_Walzenhausen                          uint8\n",
              "cust_ort_Wauwil                                uint8\n",
              "cust_ort_Weggis                                uint8\n",
              "cust_ort_Werthenstein                          uint8\n",
              "cust_ort_Wienacht-Tobel                        uint8\n",
              "cust_ort_Wiggen                                uint8\n",
              "cust_ort_Wikon                                 uint8\n",
              "cust_ort_Wilihof                               uint8\n",
              "cust_ort_Willisau                              uint8\n",
              "cust_ort_Winikon                               uint8\n",
              "cust_ort_Wolfhalden                            uint8\n",
              "cust_ort_Wolhusen                              uint8\n",
              "cust_ort_Wünnewil                              uint8\n",
              "cust_ort_Zell LU                               uint8\n",
              "cust_kanton_AR                                 uint8\n",
              "cust_kanton_FR                                 uint8\n",
              "cust_kanton_GE                                 uint8\n",
              "cust_kanton_LU                                 uint8\n",
              "cust_kanton_TI                                 uint8\n",
              "cust_sprachregion_fr                           uint8\n",
              "cust_sprachregion_it                           uint8\n",
              "cust_auth_device_ptan                          uint8\n",
              "Length: 86027, dtype: object"
            ]
          },
          "metadata": {
            "tags": []
          },
          "execution_count": 7
        }
      ]
    },
    {
      "cell_type": "markdown",
      "metadata": {
        "id": "LOpc1G2kPtNB",
        "colab_type": "text"
      },
      "source": [
        "**Datensatz in Trainings- und Testingdatensatz aufteilen**\n",
        "\n",
        "Da wir über einen relative grosses Datenset verfügen können wir eine klassisches Spliting der Daten durchführen d.h. 80% (48'000)/20% (12'000) \n"
      ]
    },
    {
      "cell_type": "code",
      "metadata": {
        "id": "3bZxuuhWRook",
        "colab_type": "code",
        "colab": {}
      },
      "source": [
        "from sklearn.model_selection import train_test_split\n",
        "tdo_train, tdo_test = train_test_split(trx_data_ol,test_size=0.2, random_state = 70)\n"
      ],
      "execution_count": 0,
      "outputs": []
    },
    {
      "cell_type": "code",
      "metadata": {
        "id": "XnajxCWVUd98",
        "colab_type": "code",
        "outputId": "1054145d-a716-4328-a6ac-fd10f4e9332e",
        "colab": {
          "base_uri": "https://localhost:8080/",
          "height": 52
        }
      },
      "source": [
        "print ('Grösse Trainingsdatesatz (Shape) = ', tdo_train.shape)\n",
        "print ('Grösse Testdatensatz (Shape) =', tdo_test.shape)"
      ],
      "execution_count": 0,
      "outputs": [
        {
          "output_type": "stream",
          "text": [
            "Grösse Trainingsdatesatz (Shape) =  (48000, 86027)\n",
            "Grösse Testdatensatz (Shape) = (12000, 86027)\n"
          ],
          "name": "stdout"
        }
      ]
    },
    {
      "cell_type": "markdown",
      "metadata": {
        "id": "yFc3cqUKZOMF",
        "colab_type": "text"
      },
      "source": [
        "###Modell Training###\n",
        "\n",
        "Nachfolgenden werden wir ein neuronales Netzwerk definieren und dieses mit den oben bearbeiteten Daten trainieren.\n",
        "\n",
        "Für den Aufbau des neuronalen Netzwerks werden ich die Machine Learning Library **TensorFlow** von Google verwenden."
      ]
    },
    {
      "cell_type": "markdown",
      "metadata": {
        "id": "KfTD7txqbgiY",
        "colab_type": "text"
      },
      "source": [
        "**TensorFlow laden und Hyperparameter definieren**"
      ]
    },
    {
      "cell_type": "code",
      "metadata": {
        "id": "JKdgGchoZsKM",
        "colab_type": "code",
        "colab": {}
      },
      "source": [
        "import tensorflow as tf\n",
        "\n",
        "#Hyperparameter definieren\n",
        "learning_rate = 0.01 \n",
        "training_interation = 30\n",
        "batch_size = 1000\n",
        "display_step = 2"
      ],
      "execution_count": 0,
      "outputs": []
    },
    {
      "cell_type": "markdown",
      "metadata": {
        "id": "nBv9TMCtc2s6",
        "colab_type": "text"
      },
      "source": [
        "**Erstellung des neuronalen Netzwerk-Modells**\n",
        "\n",
        "https://www.youtube.com/watch?v=BhpvH5DuVu8&list=PLQVvvaa0QuDfKTOs3Keq_kaG2P55YRn5v&index=46\n",
        "\n"
      ]
    },
    {
      "cell_type": "code",
      "metadata": {
        "id": "BjPo4kEvdD8s",
        "colab_type": "code",
        "colab": {}
      },
      "source": [
        "n_nodes_hl1 = 500\n",
        "n_nodes_hl2 = 500\n",
        "n_nodes_hl3 = 500\n",
        "\n",
        "n_classes = 10\n",
        "batch_size = 1000\n",
        "\n",
        "x = tf.placeholder('int8',[None, 784])\n",
        "\n",
        "def neural_network_model(data):\n",
        "  hidden_1_layer = {'weights':tf.Variable(tf.random_normal([784,n_nodes_hl1])),\n",
        "                   'biases':tf.Variable(tf.random_normal(n_nodes_hl1))}\n",
        "  hidden_2_layer = {'weights':tf.Variable(tf.random_normal([n_nodes_hl2,n_nodes_hl2])),\n",
        "                   'biases':tf.Variable(tf.random_normal(n_nodes_hl2))}\n",
        "  hidden_3_layer = {'weights':tf.Variable(tf.random_normal([n_nodes_hl2,n_nodes_hl3])),\n",
        "                   'biases':tf.Variable(tf.random_normal(n_nodes_hl3))}\n",
        "  output_layer = {'weights':tf.Variable(tf.random_normal([n_nodes_hl3,n_nodes_hl1])),\n",
        "                   'biases':tf.Variable(tf.random_normal(n_classes))}"
      ],
      "execution_count": 0,
      "outputs": []
    },
    {
      "cell_type": "markdown",
      "metadata": {
        "id": "T7I1cx12_2Gv",
        "colab_type": "text"
      },
      "source": [
        "#Ermittlung potenzieller Kundenrisikogruppen# \n",
        "##Supervised Learning mit neuronalen Netzwerken##\n"
      ]
    },
    {
      "cell_type": "code",
      "metadata": {
        "id": "b57Ggf-x-Iet",
        "colab_type": "code",
        "colab": {}
      },
      "source": [
        "%matplotlib inline\n",
        "import pandas as pd\n",
        "import numpy as np\n",
        "import matplotlib.pyplot as plt\n",
        "\n",
        "\n",
        "# Laden der 600000 Transaktionsdaten \n",
        "trx_data_url = 'https://raw.githubusercontent.com/sakuronohana/cas_datenanalyse/master/Semesterarbeit/Dataset/trx_data_ml.csv'\n",
        "\n",
        "trx_data_ml = pd.read_csv(trx_data_url, delimiter=';')\n",
        "trx_data_ml.head()\n"
      ],
      "execution_count": 0,
      "outputs": []
    },
    {
      "cell_type": "code",
      "metadata": {
        "id": "4reOVH6SOoEs",
        "colab_type": "code",
        "colab": {}
      },
      "source": [
        "trx_data_ol.nunique()"
      ],
      "execution_count": 0,
      "outputs": []
    },
    {
      "cell_type": "code",
      "metadata": {
        "id": "Qa3UBsB4PUcz",
        "colab_type": "code",
        "colab": {}
      },
      "source": [
        "trx_data.fraud_id.map(lambda x:1 if x>=1 else 0).mean()"
      ],
      "execution_count": 0,
      "outputs": []
    },
    {
      "cell_type": "markdown",
      "metadata": {
        "id": "g0Oh1LK53rMd",
        "colab_type": "text"
      },
      "source": [
        "##Datensatz analysieren##\n",
        "\n",
        "##Tipp: Plotting Learning Curves - Scikit !!!!"
      ]
    },
    {
      "cell_type": "code",
      "metadata": {
        "id": "6bzsG7nZ25CG",
        "colab_type": "code",
        "colab": {}
      },
      "source": [
        "# Visualisierung der Nummerischen Daten in dem Datensatz\n",
        "trx_data.hist(bins=50, figsize=(20,15))\n",
        "plt.show()"
      ],
      "execution_count": 0,
      "outputs": []
    },
    {
      "cell_type": "code",
      "metadata": {
        "id": "K-MjsTaU3kS8",
        "colab_type": "code",
        "colab": {}
      },
      "source": [
        "# Suche nach den Korrelationen - Teil 1\n",
        "corr_matrix = trx_data.corr()\n",
        "print ('Korrelation zu Payment ID','\\n',corr_matrix['paym_id'].sort_values(ascending=False))\n",
        "print ('Korrelation zu Zahlungssumme','\\n',corr_matrix['amount'].sort_values(ascending=False))\n",
        "print ('Korrelation zu Kundenvertrag','\\n',corr_matrix['cust_vertrag_nr'].sort_values(ascending=False))\n",
        "print ('Korrelation zu Betrugsid','\\n',corr_matrix['fraud_id'].sort_values(ascending=False))"
      ],
      "execution_count": 0,
      "outputs": []
    },
    {
      "cell_type": "code",
      "metadata": {
        "id": "GXoUuDUY3LpU",
        "colab_type": "code",
        "colab": {}
      },
      "source": [
        "# Bereinigung der Daten\n",
        "pd.to_datetime(trx_data['timestamp'])\n",
        "pd.to_datetime(trx_data['valuta_date'])\n",
        "np.where(np.isnan(trx_data))"
      ],
      "execution_count": 0,
      "outputs": []
    },
    {
      "cell_type": "code",
      "metadata": {
        "id": "c6Vx75189gJV",
        "colab_type": "code",
        "colab": {}
      },
      "source": [
        "# Datensatz in Trainings(80%)- und Testdatenset (20%) teilen\n",
        "from sklearn.model_selection import train_test_split\n",
        "train_trx_data, test_trx_data = train_test_split(trx_data, test_size=0.2, random_state=42) \n",
        "train_trx_data.count(), test_trx_data.count()"
      ],
      "execution_count": 0,
      "outputs": []
    },
    {
      "cell_type": "code",
      "metadata": {
        "id": "WKYDanXj3Vm9",
        "colab_type": "code",
        "colab": {}
      },
      "source": [
        "# Dimensionsreduktion mit PCA\n",
        "from sklearn.decomposition import PCA # Import der PCA Funktion von Scikit Learn\n",
        "from sklearn import preprocessing # Die Preprocessing Funktion hilft uns die Daten zu skalieren bevor sie mit PCA verwendet werden."
      ],
      "execution_count": 0,
      "outputs": []
    }
  ]
}