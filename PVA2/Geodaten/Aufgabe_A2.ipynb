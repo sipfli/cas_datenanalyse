{
 "cells": [
  {
   "cell_type": "markdown",
   "metadata": {},
   "source": [
    "# Aufgabe A2"
   ]
  },
  {
   "cell_type": "markdown",
   "metadata": {},
   "source": [
    "##### Zur Vorbereitung der folgenden Aufgaben arbeiten Sie das Notebook \"Feature-Coding-categorical.ypnb\" durch."
   ]
  },
  {
   "cell_type": "markdown",
   "metadata": {},
   "source": [
    "### Feature Coding\n"
   ]
  },
  {
   "cell_type": "markdown",
   "metadata": {},
   "source": [
    "a. Lese die Datei \"plz_ort.csv\" ein. Stelle fest, welche Daten sie enthält. ACHTUNG: Der Datensatz ist in Westeuropäisch (ISO-8859-1) - wichtig wegen Accent und Umlaute."
   ]
  },
  {
   "cell_type": "code",
   "execution_count": null,
   "metadata": {},
   "outputs": [],
   "source": []
  },
  {
   "cell_type": "markdown",
   "metadata": {},
   "source": [
    "b. Erzeuge die Datei \"plz_ort_lat_lon.csv\". Diese Datei soll Postleitzahl, Kanton, Ort und die geographischen Koordinaten Latitute und Longitude zu jedem Ort enthalten.\n",
    "Nutzen Sie dazu das Paket geopy und schreiben Sie eine Funktion, die als Eingabe den Ort (bzw. beliebige Adresse) erwartet und die Geographischen Koordinaten ausgibt."
   ]
  },
  {
   "cell_type": "code",
   "execution_count": null,
   "metadata": {
    "collapsed": true
   },
   "outputs": [],
   "source": []
  },
  {
   "cell_type": "markdown",
   "metadata": {},
   "source": [
    "c. Ereuge die Datei \"plz_ort_onehot.csv\", wo der Kanton durch OneHot Encoding ersetzt wird."
   ]
  },
  {
   "cell_type": "code",
   "execution_count": null,
   "metadata": {
    "collapsed": true
   },
   "outputs": [],
   "source": []
  },
  {
   "cell_type": "markdown",
   "metadata": {},
   "source": [
    "d. Programmiere eine Funktion, die den Abstand von zwei (Schweizer) Städten ermittelt (Nutze die Haversine Formel)."
   ]
  },
  {
   "cell_type": "code",
   "execution_count": null,
   "metadata": {
    "collapsed": true
   },
   "outputs": [],
   "source": []
  },
  {
   "cell_type": "markdown",
   "metadata": {},
   "source": [
    "e. Erzeuge die Datei \"plz_ort_onehot_dist.csv\", die folgende Information enthält: Postleitzahl, Kanton (onehot encoded), Ort , Latitutde, Longitude, Distanz zu Kantonshauptstadt in km. \n",
    "> Wie könnte man den Ort kodieren?"
   ]
  },
  {
   "cell_type": "code",
   "execution_count": null,
   "metadata": {
    "collapsed": true
   },
   "outputs": [],
   "source": []
  },
  {
   "cell_type": "markdown",
   "metadata": {},
   "source": [
    "### Zirkuläres Kodieren"
   ]
  },
  {
   "cell_type": "markdown",
   "metadata": {},
   "source": [
    "#### Winkel zu Vektor\n",
    "a. Erzeuge eine Funktion, die als Eingabe einen Winkel erwartet (0°-360°) und einen 6-dimensionalen Vektor als Output generiert. <br>\n",
    "b. Die erste Koordinate x_1 repräsentiert 0° (bzw. 360°), die zweite Koordinate x_2 60°, ... usw. <br>\n",
    "c. Jede Koordinate kann nur einen Wert zwischen 0 und 1 annehmen.<br>\n",
    "d. Werte zwischen den Koordinaten sollen als x_i*60 + x_(i+1)*120 = 88, wo x_i <=1 und x_(i+1) <= 1 ACHTUNG: es gibt keine eindeutige Möglichkeit die Koordinaten zu bestimmen! Eine ist einfach über die Distanz!<br>"
   ]
  },
  {
   "cell_type": "code",
   "execution_count": null,
   "metadata": {
    "collapsed": true
   },
   "outputs": [],
   "source": []
  },
  {
   "cell_type": "markdown",
   "metadata": {},
   "source": [
    "#### Vektor zu Winkel\n",
    "a. Erzeuge die umgekehrte Funktion, die aus einem Vektor einen Winkel bestimmt. <br>\n",
    "b. Algorithmus: 1. Finde Neuron mit höchstem Wert. 2. Bestimme Winkel mit Verwendung der benachbarten Koordinaten 3. Verwende die Werte der Nachbarn als Gewichtung."
   ]
  },
  {
   "cell_type": "code",
   "execution_count": null,
   "metadata": {
    "collapsed": true
   },
   "outputs": [],
   "source": []
  }
 ],
 "metadata": {
  "kernelspec": {
   "display_name": "Python 3",
   "language": "python",
   "name": "python3"
  },
  "language_info": {
   "codemirror_mode": {
    "name": "ipython",
    "version": 3
   },
   "file_extension": ".py",
   "mimetype": "text/x-python",
   "name": "python",
   "nbconvert_exporter": "python",
   "pygments_lexer": "ipython3",
   "version": "3.5.3"
  }
 },
 "nbformat": 4,
 "nbformat_minor": 2
}
