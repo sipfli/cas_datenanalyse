{
  "nbformat": 4,
  "nbformat_minor": 0,
  "metadata": {
    "colab": {
      "name": "CAS-DA-SA_Payment_Fraud_Detection.ipynb",
      "version": "0.3.2",
      "provenance": [],
      "include_colab_link": true
    },
    "kernelspec": {
      "name": "python3",
      "display_name": "Python 3"
    },
    "accelerator": "GPU"
  },
  "cells": [
    {
      "cell_type": "markdown",
      "metadata": {
        "id": "view-in-github",
        "colab_type": "text"
      },
      "source": [
        "<a href=\"https://colab.research.google.com/github/sakuronohana/cas_datenanalyse/blob/master/Semesterarbeit/CAS_DA_SA_Payment_Fraud_Detection.ipynb\" target=\"_parent\"><img src=\"https://colab.research.google.com/assets/colab-badge.svg\" alt=\"Open In Colab\"/></a>"
      ]
    },
    {
      "cell_type": "markdown",
      "metadata": {
        "id": "jRcJtvy3IiFf",
        "colab_type": "text"
      },
      "source": [
        "<img \n",
        "src=\"https://www.ffhs.ch/templates/ffhs/img/logo@2x.png\" width=\"100\"> \n",
        "###DaAn, Data Analysis, MAS/CAS Web4B 2018, ZH1, FS19, Dr. Tödtli Beat###\n",
        "\n",
        "##*Semesterarbeit von Patrik Di Lena*##\n",
        "#Betrugserkennung Zahlungsverkehr#\n",
        "\n"
      ]
    },
    {
      "cell_type": "markdown",
      "metadata": {
        "id": "Cu2Lax6MMPh0",
        "colab_type": "text"
      },
      "source": [
        "##Ziel##\n",
        "Das Ziel dieser Semesterarbeit ist die Gegenüberstellung von Supervised und Unsupervised Lernverfahren mit Hilfe neuronaler Netzwerk Algorithmen. Dabei kommt  ein nicht gelabelter und ein gelabelter Datensatz aus einem Betrugserkennungssystem zum Einsatz. \n",
        "\n",
        "##Aufgabenstellung##\n",
        "###Erkennung von Betrugszahlungen###\n",
        "Mittels Unsupervised Learning sollen Betrugszahlungen aus einem nicht gelabelten Datensatz erkannt und die Effiktivität des vorhandenen Fraud-Detection Systems geprüft werden. In diesem Fall wird ein Autoencoder Neural Network mit Tensorflow aufgebaut. \n",
        "\n",
        "###Betrugsanfällige Risikogruppen###\n",
        "Mit Hilfe von Supervised Learning werden mögliche Risikogruppen ermittelt, welche im Visier von Betrügern stehen.  Auf Basis eines gelabelten Datensatzes  werden die Risikogruppen nach folgenden Merkmalen unterschieden:\n",
        "\n",
        "*\tGeschlecht\n",
        "*\tAlter\n",
        "*\tZivilstand\n",
        "*\tNationalität\n",
        "*\tKontosaldo\n",
        "*\tWohnort\n",
        "*\tRegion\n",
        "\n",
        "In diesem Fall wird der Deep Learning Algorithmus Convlutional Neural Network zum Einsatz kommen.\n",
        "\n",
        "##Datensatz##\n",
        "Die im Rahmen dieser Semesterarbeit verwendeten Daten entstammen, von ihrer Datenstruktur her, aus einem bereits eingesetzten nicht ML-basierten Betrugserkennungssystem. Die Datenwerte wurde zu Wahrung der datenschutzrechtlichen und bankengesetzlichen Aspekte mit Hilfe eines Python-Scripts künstlich erzeugt und beinhalten somit keine reale Zahlungs- oder Kunden-Informationen.   \n",
        "\n",
        "Datenselektion:\n",
        "\n",
        "- 20'800 synthetische Kunden (Vorname, Name, Strasse, Ort, Kanton, Sprachregion, Geschlecht, Alter, Zivilstand,  Nationalität, Kontonummer, Vertragsnummer, Rechtsform)\n",
        "\n",
        "- 60'000 synthetische Zahlungen (Transaktionsid, ,Erstellungdatum/Zeit, Empfängerkonto, Empfängerbank, Empfängerland, Währung, Betrag, Valuta Datum)\n",
        "\n",
        "\n",
        "\n",
        "\n",
        "\n",
        "\n"
      ]
    },
    {
      "cell_type": "markdown",
      "metadata": {
        "id": "4drgj5DtlDOo",
        "colab_type": "text"
      },
      "source": [
        "#Vorbereitungen# \n"
      ]
    },
    {
      "cell_type": "code",
      "metadata": {
        "id": "M9kpR8RAjMzw",
        "colab_type": "code",
        "outputId": "0bcfa50e-f11c-4e9c-8c2f-d2f9be9cccdf",
        "colab": {
          "base_uri": "https://localhost:8080/",
          "height": 35
        }
      },
      "source": [
        "# import packages\n",
        "\n",
        "import pandas as pd\n",
        "import numpy as np\n",
        "from scipy import stats\n",
        "import tensorflow as tf\n",
        "import matplotlib.pyplot as plt\n",
        "import seaborn as sns\n",
        "import pickle\n",
        "from sklearn.model_selection import train_test_split\n",
        "from sklearn.metrics import confusion_matrix, precision_recall_curve\n",
        "from sklearn.metrics import recall_score, classification_report, auc, roc_curve\n",
        "from sklearn.metrics import precision_recall_fscore_support, f1_score\n",
        "from sklearn.preprocessing import StandardScaler\n",
        "from pylab import rcParams\n",
        "from keras.models import Model, load_model\n",
        "from keras.layers import Input, Dense\n",
        "from keras.callbacks import ModelCheckpoint, TensorBoard\n",
        "from keras import regularizers\n",
        "%matplotlib inline\n",
        "\n"
      ],
      "execution_count": 1,
      "outputs": [
        {
          "output_type": "stream",
          "text": [
            "Using TensorFlow backend.\n"
          ],
          "name": "stderr"
        }
      ]
    },
    {
      "cell_type": "code",
      "metadata": {
        "id": "tjFPNn0wQW6_",
        "colab_type": "code",
        "outputId": "a978576e-b75a-462c-f379-58ce912bd004",
        "colab": {
          "base_uri": "https://localhost:8080/",
          "height": 322
        }
      },
      "source": [
        "# Laden der 600000 Transaktionsdaten \n",
        "trx_data_url = 'https://raw.githubusercontent.com/sakuronohana/cas_datenanalyse/master/Semesterarbeit/Dataset/trx_data_ml.csv'\n",
        "trx_data = pd.read_csv(trx_data_url, delimiter=';')\n",
        "\n",
        "print (trx_data.shape)\n",
        "trx_data.head()"
      ],
      "execution_count": 23,
      "outputs": [
        {
          "output_type": "stream",
          "text": [
            "(60000, 20)\n"
          ],
          "name": "stdout"
        },
        {
          "output_type": "execute_result",
          "data": {
            "text/plain": [
              "        timestamp   paym_id   send_bc_nr  amount    rcv_bc_nr  \\\n",
              "0  01.01.18 08:00  10000010  CHBANK71XXX   15368  JOBANK40XXX   \n",
              "1  01.01.18 08:00  10000011  CHBANK71XXX   89137  STBANK68XXX   \n",
              "2  01.01.18 08:01  10000012  CHBANK71XXX   87673  XKBANK43XXX   \n",
              "3  01.01.18 08:01  10000013  CHBANK71XXX   55941  RSBANK72XXX   \n",
              "4  01.01.18 08:02  10000014  CHBANK71XXX   88173  LIBANK48XXX   \n",
              "\n",
              "                      rcv_bc_iban         rcv_bc_country rcv_bc_code  \\\n",
              "0  JO02SCBL1260000000018525836101              Jordanien          JO   \n",
              "1       ST23000200000289355710148  Sao Tome und Principe          ST   \n",
              "2            XK051301001002074155                 Kosovo          XK   \n",
              "3          RS35105008054113238018                Serbien          RS   \n",
              "4           LI0308800000022875748          Liechtenstein          LI   \n",
              "\n",
              "              rcv_iban     valuta_date  cust_vertrag_nr  \\\n",
              "0  JO40002096331755419  01.01.18 08:00            76311   \n",
              "1  ST68002492808312214  01.01.18 20:00            69891   \n",
              "2  XK43002422391264290  02.01.18 08:01            78573   \n",
              "3  RS72002873180573624  02.01.18 20:01            75443   \n",
              "4  LI48002899580343897  03.01.18 08:02            73167   \n",
              "\n",
              "           cust_konto_nr  cust_vname cust_nname  cust_plz     cust_ort  \\\n",
              "0  CH5300772672529640195      Martin      Bader      6020  Emmenbrücke   \n",
              "1  CH5300772670061796126  Margaretha       Fehr      9056         Gais   \n",
              "2  CH5300772500037725234      Daniel   Miéville      1253  Vandoeuvres   \n",
              "3  CH5300772732508635138      Andrea      Iseni      6026         Rain   \n",
              "4  CH5300772640237288398      Andrea     Pinana      6693      Broglio   \n",
              "\n",
              "  cust_kanton cust_sprachregion cust_auth_device  fraud_id  \n",
              "0          LU                de             mtan         0  \n",
              "1          AR                de             ptan         0  \n",
              "2          GE                fr             ptan         0  \n",
              "3          LU                de             mtan         0  \n",
              "4          TI                it             mtan         0  "
            ],
            "text/html": [
              "<div>\n",
              "<style scoped>\n",
              "    .dataframe tbody tr th:only-of-type {\n",
              "        vertical-align: middle;\n",
              "    }\n",
              "\n",
              "    .dataframe tbody tr th {\n",
              "        vertical-align: top;\n",
              "    }\n",
              "\n",
              "    .dataframe thead th {\n",
              "        text-align: right;\n",
              "    }\n",
              "</style>\n",
              "<table border=\"1\" class=\"dataframe\">\n",
              "  <thead>\n",
              "    <tr style=\"text-align: right;\">\n",
              "      <th></th>\n",
              "      <th>timestamp</th>\n",
              "      <th>paym_id</th>\n",
              "      <th>send_bc_nr</th>\n",
              "      <th>amount</th>\n",
              "      <th>rcv_bc_nr</th>\n",
              "      <th>rcv_bc_iban</th>\n",
              "      <th>rcv_bc_country</th>\n",
              "      <th>rcv_bc_code</th>\n",
              "      <th>rcv_iban</th>\n",
              "      <th>valuta_date</th>\n",
              "      <th>cust_vertrag_nr</th>\n",
              "      <th>cust_konto_nr</th>\n",
              "      <th>cust_vname</th>\n",
              "      <th>cust_nname</th>\n",
              "      <th>cust_plz</th>\n",
              "      <th>cust_ort</th>\n",
              "      <th>cust_kanton</th>\n",
              "      <th>cust_sprachregion</th>\n",
              "      <th>cust_auth_device</th>\n",
              "      <th>fraud_id</th>\n",
              "    </tr>\n",
              "  </thead>\n",
              "  <tbody>\n",
              "    <tr>\n",
              "      <th>0</th>\n",
              "      <td>01.01.18 08:00</td>\n",
              "      <td>10000010</td>\n",
              "      <td>CHBANK71XXX</td>\n",
              "      <td>15368</td>\n",
              "      <td>JOBANK40XXX</td>\n",
              "      <td>JO02SCBL1260000000018525836101</td>\n",
              "      <td>Jordanien</td>\n",
              "      <td>JO</td>\n",
              "      <td>JO40002096331755419</td>\n",
              "      <td>01.01.18 08:00</td>\n",
              "      <td>76311</td>\n",
              "      <td>CH5300772672529640195</td>\n",
              "      <td>Martin</td>\n",
              "      <td>Bader</td>\n",
              "      <td>6020</td>\n",
              "      <td>Emmenbrücke</td>\n",
              "      <td>LU</td>\n",
              "      <td>de</td>\n",
              "      <td>mtan</td>\n",
              "      <td>0</td>\n",
              "    </tr>\n",
              "    <tr>\n",
              "      <th>1</th>\n",
              "      <td>01.01.18 08:00</td>\n",
              "      <td>10000011</td>\n",
              "      <td>CHBANK71XXX</td>\n",
              "      <td>89137</td>\n",
              "      <td>STBANK68XXX</td>\n",
              "      <td>ST23000200000289355710148</td>\n",
              "      <td>Sao Tome und Principe</td>\n",
              "      <td>ST</td>\n",
              "      <td>ST68002492808312214</td>\n",
              "      <td>01.01.18 20:00</td>\n",
              "      <td>69891</td>\n",
              "      <td>CH5300772670061796126</td>\n",
              "      <td>Margaretha</td>\n",
              "      <td>Fehr</td>\n",
              "      <td>9056</td>\n",
              "      <td>Gais</td>\n",
              "      <td>AR</td>\n",
              "      <td>de</td>\n",
              "      <td>ptan</td>\n",
              "      <td>0</td>\n",
              "    </tr>\n",
              "    <tr>\n",
              "      <th>2</th>\n",
              "      <td>01.01.18 08:01</td>\n",
              "      <td>10000012</td>\n",
              "      <td>CHBANK71XXX</td>\n",
              "      <td>87673</td>\n",
              "      <td>XKBANK43XXX</td>\n",
              "      <td>XK051301001002074155</td>\n",
              "      <td>Kosovo</td>\n",
              "      <td>XK</td>\n",
              "      <td>XK43002422391264290</td>\n",
              "      <td>02.01.18 08:01</td>\n",
              "      <td>78573</td>\n",
              "      <td>CH5300772500037725234</td>\n",
              "      <td>Daniel</td>\n",
              "      <td>Miéville</td>\n",
              "      <td>1253</td>\n",
              "      <td>Vandoeuvres</td>\n",
              "      <td>GE</td>\n",
              "      <td>fr</td>\n",
              "      <td>ptan</td>\n",
              "      <td>0</td>\n",
              "    </tr>\n",
              "    <tr>\n",
              "      <th>3</th>\n",
              "      <td>01.01.18 08:01</td>\n",
              "      <td>10000013</td>\n",
              "      <td>CHBANK71XXX</td>\n",
              "      <td>55941</td>\n",
              "      <td>RSBANK72XXX</td>\n",
              "      <td>RS35105008054113238018</td>\n",
              "      <td>Serbien</td>\n",
              "      <td>RS</td>\n",
              "      <td>RS72002873180573624</td>\n",
              "      <td>02.01.18 20:01</td>\n",
              "      <td>75443</td>\n",
              "      <td>CH5300772732508635138</td>\n",
              "      <td>Andrea</td>\n",
              "      <td>Iseni</td>\n",
              "      <td>6026</td>\n",
              "      <td>Rain</td>\n",
              "      <td>LU</td>\n",
              "      <td>de</td>\n",
              "      <td>mtan</td>\n",
              "      <td>0</td>\n",
              "    </tr>\n",
              "    <tr>\n",
              "      <th>4</th>\n",
              "      <td>01.01.18 08:02</td>\n",
              "      <td>10000014</td>\n",
              "      <td>CHBANK71XXX</td>\n",
              "      <td>88173</td>\n",
              "      <td>LIBANK48XXX</td>\n",
              "      <td>LI0308800000022875748</td>\n",
              "      <td>Liechtenstein</td>\n",
              "      <td>LI</td>\n",
              "      <td>LI48002899580343897</td>\n",
              "      <td>03.01.18 08:02</td>\n",
              "      <td>73167</td>\n",
              "      <td>CH5300772640237288398</td>\n",
              "      <td>Andrea</td>\n",
              "      <td>Pinana</td>\n",
              "      <td>6693</td>\n",
              "      <td>Broglio</td>\n",
              "      <td>TI</td>\n",
              "      <td>it</td>\n",
              "      <td>mtan</td>\n",
              "      <td>0</td>\n",
              "    </tr>\n",
              "  </tbody>\n",
              "</table>\n",
              "</div>"
            ]
          },
          "metadata": {
            "tags": []
          },
          "execution_count": 23
        }
      ]
    },
    {
      "cell_type": "markdown",
      "metadata": {
        "id": "RjQohIZplkAi",
        "colab_type": "text"
      },
      "source": [
        "###Reduktion des Datensatzes###\n",
        "\n",
        "Der Datensatz wird auf 10000 Daten reduziert, da die für die Semesterarbeit zur Verfügung stehende Infrastruktur über zuwenig Kapazitäten verfügt um die intensiven Rechenoperationen (Encoding, PCA, NN Training) durchzuführen.\n"
      ]
    },
    {
      "cell_type": "code",
      "metadata": {
        "id": "uSzG1YVhlVDk",
        "colab_type": "code",
        "outputId": "a2d4ff7a-1f6f-4263-8f62-ce1a55efb4ab",
        "colab": {
          "base_uri": "https://localhost:8080/",
          "height": 35
        }
      },
      "source": [
        "# Reduktion des Datensatzes auf 10000 \n",
        "\n",
        "trx_data = trx_data.sample(frac=0.34)\n",
        "trx_data.shape"
      ],
      "execution_count": 24,
      "outputs": [
        {
          "output_type": "execute_result",
          "data": {
            "text/plain": [
              "(20400, 20)"
            ]
          },
          "metadata": {
            "tags": []
          },
          "execution_count": 24
        }
      ]
    },
    {
      "cell_type": "code",
      "metadata": {
        "id": "hXnzVXY4nz3f",
        "colab_type": "code",
        "outputId": "cf14df58-9e2a-4f58-bfc8-f62e7ecdf3ff",
        "colab": {
          "base_uri": "https://localhost:8080/",
          "height": 69
        }
      },
      "source": [
        "# Verhältnis zwischen Gesamtdatensatz und Fraud-Daten prüfen\n",
        "# Fraud-Zahlungen haben Wert 1 (Label = fraud_id)\n",
        "\n",
        "pd.value_counts(trx_data['fraud_id'], sort = True)"
      ],
      "execution_count": 25,
      "outputs": [
        {
          "output_type": "execute_result",
          "data": {
            "text/plain": [
              "0    19512\n",
              "1      888\n",
              "Name: fraud_id, dtype: int64"
            ]
          },
          "metadata": {
            "tags": []
          },
          "execution_count": 25
        }
      ]
    },
    {
      "cell_type": "code",
      "metadata": {
        "id": "AAMF1GtqQZKg",
        "colab_type": "code",
        "outputId": "8a775121-4f7a-41f9-bb7e-4ccc875074c9",
        "colab": {
          "base_uri": "https://localhost:8080/",
          "height": 564
        }
      },
      "source": [
        "# Kleine Bereinigungsarbeiten\n",
        "\n",
        "# Erstellung von Datensatz mit benötigen Merkmalen\n",
        "\n",
        "features = ['send_bc_nr','amount','rcv_bc_nr', \n",
        "            'rcv_bc_iban','rcv_bc_country','rcv_bc_code','rcv_iban',\n",
        "            'valuta_date','cust_vertrag_nr','cust_konto_nr','cust_plz','cust_ort',\n",
        "            'cust_kanton','cust_sprachregion','cust_auth_device','fraud_id'] \n",
        "\n",
        "trx_data = pd.DataFrame((trx_data.loc[:, features].values),columns=[features])\n",
        "\n",
        "# Umwandlung von offensichtlichen nummerische werten in Integers\n",
        "#trx_data['amount'] = trx_data['amount'].convert_objects(convert_numeric=True)\n",
        "#trx_data['cust_vertrag_nr'] = trx_data['cust_vertrag_nr'].convert_objects(convert_numeric=True)\n",
        "#trx_data['cust_plz'] = trx_data['cust_plz'].convert_objects(convert_numeric=True)\n",
        "\n",
        "#Suche des Datensatzes nach Null-Werten\n",
        "trx_data.isnull().values.sum()\n",
        "\n",
        "print(trx_data.dtypes)\n",
        "trx_data.head()"
      ],
      "execution_count": 26,
      "outputs": [
        {
          "output_type": "stream",
          "text": [
            "send_bc_nr           object\n",
            "amount               object\n",
            "rcv_bc_nr            object\n",
            "rcv_bc_iban          object\n",
            "rcv_bc_country       object\n",
            "rcv_bc_code          object\n",
            "rcv_iban             object\n",
            "valuta_date          object\n",
            "cust_vertrag_nr      object\n",
            "cust_konto_nr        object\n",
            "cust_plz             object\n",
            "cust_ort             object\n",
            "cust_kanton          object\n",
            "cust_sprachregion    object\n",
            "cust_auth_device     object\n",
            "fraud_id             object\n",
            "dtype: object\n"
          ],
          "name": "stdout"
        },
        {
          "output_type": "execute_result",
          "data": {
            "text/plain": [
              "    send_bc_nr amount    rcv_bc_nr                       rcv_bc_iban  \\\n",
              "0  CHBANK71XXX  82910  SABANK69XXX          SA0220000002480647579940   \n",
              "1  CHBANK71XXX   5778  SEBANK70XXX          SE0230000000030301099952   \n",
              "2  CHBANK71XXX  50994  LCBANK66XXX  LC55HEMM000100010012001200023015   \n",
              "3  CHBANK71XXX   1373  QABANK42XXX     QA03QNBA000000000060565452001   \n",
              "4  CHBANK71XXX  77060  LBBANK47XXX      LB02001400000302300023018319   \n",
              "\n",
              "  rcv_bc_country rcv_bc_code             rcv_iban     valuta_date  \\\n",
              "0  Saudi Arabien          SA  SA69002230609410858  13.03.44 11:21   \n",
              "1       Schweden          SE  SE70002019502773430  23.03.75 08:05   \n",
              "2    Saint Lucia          LC  LC66002955223506779  20.08.33 07:06   \n",
              "3          Katar          QA  QA42002097538620542  11.05.39 17:55   \n",
              "4        Libanon          LB  LB47002257779666950  30.06.62 02:39   \n",
              "\n",
              "  cust_vertrag_nr          cust_konto_nr cust_plz      cust_ort cust_kanton  \\\n",
              "0           79201  CH5300772416459289911     6130      Willisau          LU   \n",
              "1           84625  CH5300772953113396861     9056          Gais          AR   \n",
              "2           81691  CH5300772279968511599     5000         Aarau          AG   \n",
              "3           67958  CH5300772583781695114     1231       Conches          GE   \n",
              "4           67326  CH5300772546215589885     6106  Werthenstein          LU   \n",
              "\n",
              "  cust_sprachregion cust_auth_device fraud_id  \n",
              "0                de             ptan        0  \n",
              "1                de             ptan        0  \n",
              "2                de             mtan        0  \n",
              "3                fr             ptan        0  \n",
              "4                de             mtan        0  "
            ],
            "text/html": [
              "<div>\n",
              "<style scoped>\n",
              "    .dataframe tbody tr th:only-of-type {\n",
              "        vertical-align: middle;\n",
              "    }\n",
              "\n",
              "    .dataframe tbody tr th {\n",
              "        vertical-align: top;\n",
              "    }\n",
              "\n",
              "    .dataframe thead tr th {\n",
              "        text-align: left;\n",
              "    }\n",
              "</style>\n",
              "<table border=\"1\" class=\"dataframe\">\n",
              "  <thead>\n",
              "    <tr>\n",
              "      <th></th>\n",
              "      <th>send_bc_nr</th>\n",
              "      <th>amount</th>\n",
              "      <th>rcv_bc_nr</th>\n",
              "      <th>rcv_bc_iban</th>\n",
              "      <th>rcv_bc_country</th>\n",
              "      <th>rcv_bc_code</th>\n",
              "      <th>rcv_iban</th>\n",
              "      <th>valuta_date</th>\n",
              "      <th>cust_vertrag_nr</th>\n",
              "      <th>cust_konto_nr</th>\n",
              "      <th>cust_plz</th>\n",
              "      <th>cust_ort</th>\n",
              "      <th>cust_kanton</th>\n",
              "      <th>cust_sprachregion</th>\n",
              "      <th>cust_auth_device</th>\n",
              "      <th>fraud_id</th>\n",
              "    </tr>\n",
              "  </thead>\n",
              "  <tbody>\n",
              "    <tr>\n",
              "      <th>0</th>\n",
              "      <td>CHBANK71XXX</td>\n",
              "      <td>82910</td>\n",
              "      <td>SABANK69XXX</td>\n",
              "      <td>SA0220000002480647579940</td>\n",
              "      <td>Saudi Arabien</td>\n",
              "      <td>SA</td>\n",
              "      <td>SA69002230609410858</td>\n",
              "      <td>13.03.44 11:21</td>\n",
              "      <td>79201</td>\n",
              "      <td>CH5300772416459289911</td>\n",
              "      <td>6130</td>\n",
              "      <td>Willisau</td>\n",
              "      <td>LU</td>\n",
              "      <td>de</td>\n",
              "      <td>ptan</td>\n",
              "      <td>0</td>\n",
              "    </tr>\n",
              "    <tr>\n",
              "      <th>1</th>\n",
              "      <td>CHBANK71XXX</td>\n",
              "      <td>5778</td>\n",
              "      <td>SEBANK70XXX</td>\n",
              "      <td>SE0230000000030301099952</td>\n",
              "      <td>Schweden</td>\n",
              "      <td>SE</td>\n",
              "      <td>SE70002019502773430</td>\n",
              "      <td>23.03.75 08:05</td>\n",
              "      <td>84625</td>\n",
              "      <td>CH5300772953113396861</td>\n",
              "      <td>9056</td>\n",
              "      <td>Gais</td>\n",
              "      <td>AR</td>\n",
              "      <td>de</td>\n",
              "      <td>ptan</td>\n",
              "      <td>0</td>\n",
              "    </tr>\n",
              "    <tr>\n",
              "      <th>2</th>\n",
              "      <td>CHBANK71XXX</td>\n",
              "      <td>50994</td>\n",
              "      <td>LCBANK66XXX</td>\n",
              "      <td>LC55HEMM000100010012001200023015</td>\n",
              "      <td>Saint Lucia</td>\n",
              "      <td>LC</td>\n",
              "      <td>LC66002955223506779</td>\n",
              "      <td>20.08.33 07:06</td>\n",
              "      <td>81691</td>\n",
              "      <td>CH5300772279968511599</td>\n",
              "      <td>5000</td>\n",
              "      <td>Aarau</td>\n",
              "      <td>AG</td>\n",
              "      <td>de</td>\n",
              "      <td>mtan</td>\n",
              "      <td>0</td>\n",
              "    </tr>\n",
              "    <tr>\n",
              "      <th>3</th>\n",
              "      <td>CHBANK71XXX</td>\n",
              "      <td>1373</td>\n",
              "      <td>QABANK42XXX</td>\n",
              "      <td>QA03QNBA000000000060565452001</td>\n",
              "      <td>Katar</td>\n",
              "      <td>QA</td>\n",
              "      <td>QA42002097538620542</td>\n",
              "      <td>11.05.39 17:55</td>\n",
              "      <td>67958</td>\n",
              "      <td>CH5300772583781695114</td>\n",
              "      <td>1231</td>\n",
              "      <td>Conches</td>\n",
              "      <td>GE</td>\n",
              "      <td>fr</td>\n",
              "      <td>ptan</td>\n",
              "      <td>0</td>\n",
              "    </tr>\n",
              "    <tr>\n",
              "      <th>4</th>\n",
              "      <td>CHBANK71XXX</td>\n",
              "      <td>77060</td>\n",
              "      <td>LBBANK47XXX</td>\n",
              "      <td>LB02001400000302300023018319</td>\n",
              "      <td>Libanon</td>\n",
              "      <td>LB</td>\n",
              "      <td>LB47002257779666950</td>\n",
              "      <td>30.06.62 02:39</td>\n",
              "      <td>67326</td>\n",
              "      <td>CH5300772546215589885</td>\n",
              "      <td>6106</td>\n",
              "      <td>Werthenstein</td>\n",
              "      <td>LU</td>\n",
              "      <td>de</td>\n",
              "      <td>mtan</td>\n",
              "      <td>0</td>\n",
              "    </tr>\n",
              "  </tbody>\n",
              "</table>\n",
              "</div>"
            ]
          },
          "metadata": {
            "tags": []
          },
          "execution_count": 26
        }
      ]
    },
    {
      "cell_type": "code",
      "metadata": {
        "id": "58LKttDap8j4",
        "colab_type": "code",
        "outputId": "5b72cf77-d751-4f0a-bd98-4ab569433282",
        "colab": {
          "base_uri": "https://localhost:8080/",
          "height": 287
        }
      },
      "source": [
        "# Erstellung Datensatz mit Label für Supervised Learning wobei\n",
        "\n",
        "tdm = trx_data\n",
        "\n",
        "print (tdm.shape)\n",
        "tdm.head()"
      ],
      "execution_count": 27,
      "outputs": [
        {
          "output_type": "stream",
          "text": [
            "(20400, 16)\n"
          ],
          "name": "stdout"
        },
        {
          "output_type": "execute_result",
          "data": {
            "text/plain": [
              "    send_bc_nr amount    rcv_bc_nr                       rcv_bc_iban  \\\n",
              "0  CHBANK71XXX  82910  SABANK69XXX          SA0220000002480647579940   \n",
              "1  CHBANK71XXX   5778  SEBANK70XXX          SE0230000000030301099952   \n",
              "2  CHBANK71XXX  50994  LCBANK66XXX  LC55HEMM000100010012001200023015   \n",
              "3  CHBANK71XXX   1373  QABANK42XXX     QA03QNBA000000000060565452001   \n",
              "4  CHBANK71XXX  77060  LBBANK47XXX      LB02001400000302300023018319   \n",
              "\n",
              "  rcv_bc_country rcv_bc_code             rcv_iban     valuta_date  \\\n",
              "0  Saudi Arabien          SA  SA69002230609410858  13.03.44 11:21   \n",
              "1       Schweden          SE  SE70002019502773430  23.03.75 08:05   \n",
              "2    Saint Lucia          LC  LC66002955223506779  20.08.33 07:06   \n",
              "3          Katar          QA  QA42002097538620542  11.05.39 17:55   \n",
              "4        Libanon          LB  LB47002257779666950  30.06.62 02:39   \n",
              "\n",
              "  cust_vertrag_nr          cust_konto_nr cust_plz      cust_ort cust_kanton  \\\n",
              "0           79201  CH5300772416459289911     6130      Willisau          LU   \n",
              "1           84625  CH5300772953113396861     9056          Gais          AR   \n",
              "2           81691  CH5300772279968511599     5000         Aarau          AG   \n",
              "3           67958  CH5300772583781695114     1231       Conches          GE   \n",
              "4           67326  CH5300772546215589885     6106  Werthenstein          LU   \n",
              "\n",
              "  cust_sprachregion cust_auth_device fraud_id  \n",
              "0                de             ptan        0  \n",
              "1                de             ptan        0  \n",
              "2                de             mtan        0  \n",
              "3                fr             ptan        0  \n",
              "4                de             mtan        0  "
            ],
            "text/html": [
              "<div>\n",
              "<style scoped>\n",
              "    .dataframe tbody tr th:only-of-type {\n",
              "        vertical-align: middle;\n",
              "    }\n",
              "\n",
              "    .dataframe tbody tr th {\n",
              "        vertical-align: top;\n",
              "    }\n",
              "\n",
              "    .dataframe thead tr th {\n",
              "        text-align: left;\n",
              "    }\n",
              "</style>\n",
              "<table border=\"1\" class=\"dataframe\">\n",
              "  <thead>\n",
              "    <tr>\n",
              "      <th></th>\n",
              "      <th>send_bc_nr</th>\n",
              "      <th>amount</th>\n",
              "      <th>rcv_bc_nr</th>\n",
              "      <th>rcv_bc_iban</th>\n",
              "      <th>rcv_bc_country</th>\n",
              "      <th>rcv_bc_code</th>\n",
              "      <th>rcv_iban</th>\n",
              "      <th>valuta_date</th>\n",
              "      <th>cust_vertrag_nr</th>\n",
              "      <th>cust_konto_nr</th>\n",
              "      <th>cust_plz</th>\n",
              "      <th>cust_ort</th>\n",
              "      <th>cust_kanton</th>\n",
              "      <th>cust_sprachregion</th>\n",
              "      <th>cust_auth_device</th>\n",
              "      <th>fraud_id</th>\n",
              "    </tr>\n",
              "  </thead>\n",
              "  <tbody>\n",
              "    <tr>\n",
              "      <th>0</th>\n",
              "      <td>CHBANK71XXX</td>\n",
              "      <td>82910</td>\n",
              "      <td>SABANK69XXX</td>\n",
              "      <td>SA0220000002480647579940</td>\n",
              "      <td>Saudi Arabien</td>\n",
              "      <td>SA</td>\n",
              "      <td>SA69002230609410858</td>\n",
              "      <td>13.03.44 11:21</td>\n",
              "      <td>79201</td>\n",
              "      <td>CH5300772416459289911</td>\n",
              "      <td>6130</td>\n",
              "      <td>Willisau</td>\n",
              "      <td>LU</td>\n",
              "      <td>de</td>\n",
              "      <td>ptan</td>\n",
              "      <td>0</td>\n",
              "    </tr>\n",
              "    <tr>\n",
              "      <th>1</th>\n",
              "      <td>CHBANK71XXX</td>\n",
              "      <td>5778</td>\n",
              "      <td>SEBANK70XXX</td>\n",
              "      <td>SE0230000000030301099952</td>\n",
              "      <td>Schweden</td>\n",
              "      <td>SE</td>\n",
              "      <td>SE70002019502773430</td>\n",
              "      <td>23.03.75 08:05</td>\n",
              "      <td>84625</td>\n",
              "      <td>CH5300772953113396861</td>\n",
              "      <td>9056</td>\n",
              "      <td>Gais</td>\n",
              "      <td>AR</td>\n",
              "      <td>de</td>\n",
              "      <td>ptan</td>\n",
              "      <td>0</td>\n",
              "    </tr>\n",
              "    <tr>\n",
              "      <th>2</th>\n",
              "      <td>CHBANK71XXX</td>\n",
              "      <td>50994</td>\n",
              "      <td>LCBANK66XXX</td>\n",
              "      <td>LC55HEMM000100010012001200023015</td>\n",
              "      <td>Saint Lucia</td>\n",
              "      <td>LC</td>\n",
              "      <td>LC66002955223506779</td>\n",
              "      <td>20.08.33 07:06</td>\n",
              "      <td>81691</td>\n",
              "      <td>CH5300772279968511599</td>\n",
              "      <td>5000</td>\n",
              "      <td>Aarau</td>\n",
              "      <td>AG</td>\n",
              "      <td>de</td>\n",
              "      <td>mtan</td>\n",
              "      <td>0</td>\n",
              "    </tr>\n",
              "    <tr>\n",
              "      <th>3</th>\n",
              "      <td>CHBANK71XXX</td>\n",
              "      <td>1373</td>\n",
              "      <td>QABANK42XXX</td>\n",
              "      <td>QA03QNBA000000000060565452001</td>\n",
              "      <td>Katar</td>\n",
              "      <td>QA</td>\n",
              "      <td>QA42002097538620542</td>\n",
              "      <td>11.05.39 17:55</td>\n",
              "      <td>67958</td>\n",
              "      <td>CH5300772583781695114</td>\n",
              "      <td>1231</td>\n",
              "      <td>Conches</td>\n",
              "      <td>GE</td>\n",
              "      <td>fr</td>\n",
              "      <td>ptan</td>\n",
              "      <td>0</td>\n",
              "    </tr>\n",
              "    <tr>\n",
              "      <th>4</th>\n",
              "      <td>CHBANK71XXX</td>\n",
              "      <td>77060</td>\n",
              "      <td>LBBANK47XXX</td>\n",
              "      <td>LB02001400000302300023018319</td>\n",
              "      <td>Libanon</td>\n",
              "      <td>LB</td>\n",
              "      <td>LB47002257779666950</td>\n",
              "      <td>30.06.62 02:39</td>\n",
              "      <td>67326</td>\n",
              "      <td>CH5300772546215589885</td>\n",
              "      <td>6106</td>\n",
              "      <td>Werthenstein</td>\n",
              "      <td>LU</td>\n",
              "      <td>de</td>\n",
              "      <td>mtan</td>\n",
              "      <td>0</td>\n",
              "    </tr>\n",
              "  </tbody>\n",
              "</table>\n",
              "</div>"
            ]
          },
          "metadata": {
            "tags": []
          },
          "execution_count": 27
        }
      ]
    },
    {
      "cell_type": "code",
      "metadata": {
        "id": "lIzDI6k_qQ10",
        "colab_type": "code",
        "outputId": "35207074-fa20-4a67-8ae3-fae6ed0270b0",
        "colab": {
          "base_uri": "https://localhost:8080/",
          "height": 719
        }
      },
      "source": [
        "# Erstellung Datensatz ohne Label (fraud_id) für Unsupervised Learning\n",
        "\n",
        "features = ['send_bc_nr','amount','rcv_bc_nr', \n",
        "            'rcv_bc_iban','rcv_bc_country','rcv_bc_code','rcv_iban',\n",
        "            'valuta_date','cust_vertrag_nr','cust_konto_nr','cust_plz','cust_ort',\n",
        "            'cust_kanton','cust_sprachregion','cust_auth_device'] \n",
        "\n",
        "tdo = pd.DataFrame((trx_data.loc[:, features].values),columns=[features])\n",
        "\n",
        "# Umwandlung von offensichtlichen nummerische werten in Integers\n",
        "tdo['amount'] = tdo['amount'].convert_objects(convert_numeric=True)\n",
        "tdo['cust_vertrag_nr'] = tdo['cust_vertrag_nr'].convert_objects(convert_numeric=True)\n",
        "tdo['cust_plz'] = tdo['cust_plz'].convert_objects(convert_numeric=True)\n",
        "\n",
        "print (tdo.shape)\n",
        "print (tdo.dtypes)\n",
        "tdo.head()\n",
        "\n"
      ],
      "execution_count": 28,
      "outputs": [
        {
          "output_type": "stream",
          "text": [
            "(20400, 15)\n",
            "send_bc_nr           object\n",
            "amount                int64\n",
            "rcv_bc_nr            object\n",
            "rcv_bc_iban          object\n",
            "rcv_bc_country       object\n",
            "rcv_bc_code          object\n",
            "rcv_iban             object\n",
            "valuta_date          object\n",
            "cust_vertrag_nr       int64\n",
            "cust_konto_nr        object\n",
            "cust_plz              int64\n",
            "cust_ort             object\n",
            "cust_kanton          object\n",
            "cust_sprachregion    object\n",
            "cust_auth_device     object\n",
            "dtype: object\n"
          ],
          "name": "stdout"
        },
        {
          "output_type": "stream",
          "text": [
            "/Users/dili/anaconda3/lib/python3.6/site-packages/ipykernel_launcher.py:10: FutureWarning: convert_objects is deprecated.  To re-infer data dtypes for object columns, use DataFrame.infer_objects()\n",
            "For all other conversions use the data-type specific converters pd.to_datetime, pd.to_timedelta and pd.to_numeric.\n",
            "  # Remove the CWD from sys.path while we load stuff.\n",
            "/Users/dili/anaconda3/lib/python3.6/site-packages/ipykernel_launcher.py:11: FutureWarning: convert_objects is deprecated.  To re-infer data dtypes for object columns, use DataFrame.infer_objects()\n",
            "For all other conversions use the data-type specific converters pd.to_datetime, pd.to_timedelta and pd.to_numeric.\n",
            "  # This is added back by InteractiveShellApp.init_path()\n",
            "/Users/dili/anaconda3/lib/python3.6/site-packages/ipykernel_launcher.py:12: FutureWarning: convert_objects is deprecated.  To re-infer data dtypes for object columns, use DataFrame.infer_objects()\n",
            "For all other conversions use the data-type specific converters pd.to_datetime, pd.to_timedelta and pd.to_numeric.\n",
            "  if sys.path[0] == '':\n"
          ],
          "name": "stderr"
        },
        {
          "output_type": "execute_result",
          "data": {
            "text/plain": [
              "    send_bc_nr amount    rcv_bc_nr                       rcv_bc_iban  \\\n",
              "0  CHBANK71XXX  82910  SABANK69XXX          SA0220000002480647579940   \n",
              "1  CHBANK71XXX   5778  SEBANK70XXX          SE0230000000030301099952   \n",
              "2  CHBANK71XXX  50994  LCBANK66XXX  LC55HEMM000100010012001200023015   \n",
              "3  CHBANK71XXX   1373  QABANK42XXX     QA03QNBA000000000060565452001   \n",
              "4  CHBANK71XXX  77060  LBBANK47XXX      LB02001400000302300023018319   \n",
              "\n",
              "  rcv_bc_country rcv_bc_code             rcv_iban     valuta_date  \\\n",
              "0  Saudi Arabien          SA  SA69002230609410858  13.03.44 11:21   \n",
              "1       Schweden          SE  SE70002019502773430  23.03.75 08:05   \n",
              "2    Saint Lucia          LC  LC66002955223506779  20.08.33 07:06   \n",
              "3          Katar          QA  QA42002097538620542  11.05.39 17:55   \n",
              "4        Libanon          LB  LB47002257779666950  30.06.62 02:39   \n",
              "\n",
              "  cust_vertrag_nr          cust_konto_nr cust_plz      cust_ort cust_kanton  \\\n",
              "0           79201  CH5300772416459289911     6130      Willisau          LU   \n",
              "1           84625  CH5300772953113396861     9056          Gais          AR   \n",
              "2           81691  CH5300772279968511599     5000         Aarau          AG   \n",
              "3           67958  CH5300772583781695114     1231       Conches          GE   \n",
              "4           67326  CH5300772546215589885     6106  Werthenstein          LU   \n",
              "\n",
              "  cust_sprachregion cust_auth_device  \n",
              "0                de             ptan  \n",
              "1                de             ptan  \n",
              "2                de             mtan  \n",
              "3                fr             ptan  \n",
              "4                de             mtan  "
            ],
            "text/html": [
              "<div>\n",
              "<style scoped>\n",
              "    .dataframe tbody tr th:only-of-type {\n",
              "        vertical-align: middle;\n",
              "    }\n",
              "\n",
              "    .dataframe tbody tr th {\n",
              "        vertical-align: top;\n",
              "    }\n",
              "\n",
              "    .dataframe thead tr th {\n",
              "        text-align: left;\n",
              "    }\n",
              "</style>\n",
              "<table border=\"1\" class=\"dataframe\">\n",
              "  <thead>\n",
              "    <tr>\n",
              "      <th></th>\n",
              "      <th>send_bc_nr</th>\n",
              "      <th>amount</th>\n",
              "      <th>rcv_bc_nr</th>\n",
              "      <th>rcv_bc_iban</th>\n",
              "      <th>rcv_bc_country</th>\n",
              "      <th>rcv_bc_code</th>\n",
              "      <th>rcv_iban</th>\n",
              "      <th>valuta_date</th>\n",
              "      <th>cust_vertrag_nr</th>\n",
              "      <th>cust_konto_nr</th>\n",
              "      <th>cust_plz</th>\n",
              "      <th>cust_ort</th>\n",
              "      <th>cust_kanton</th>\n",
              "      <th>cust_sprachregion</th>\n",
              "      <th>cust_auth_device</th>\n",
              "    </tr>\n",
              "  </thead>\n",
              "  <tbody>\n",
              "    <tr>\n",
              "      <th>0</th>\n",
              "      <td>CHBANK71XXX</td>\n",
              "      <td>82910</td>\n",
              "      <td>SABANK69XXX</td>\n",
              "      <td>SA0220000002480647579940</td>\n",
              "      <td>Saudi Arabien</td>\n",
              "      <td>SA</td>\n",
              "      <td>SA69002230609410858</td>\n",
              "      <td>13.03.44 11:21</td>\n",
              "      <td>79201</td>\n",
              "      <td>CH5300772416459289911</td>\n",
              "      <td>6130</td>\n",
              "      <td>Willisau</td>\n",
              "      <td>LU</td>\n",
              "      <td>de</td>\n",
              "      <td>ptan</td>\n",
              "    </tr>\n",
              "    <tr>\n",
              "      <th>1</th>\n",
              "      <td>CHBANK71XXX</td>\n",
              "      <td>5778</td>\n",
              "      <td>SEBANK70XXX</td>\n",
              "      <td>SE0230000000030301099952</td>\n",
              "      <td>Schweden</td>\n",
              "      <td>SE</td>\n",
              "      <td>SE70002019502773430</td>\n",
              "      <td>23.03.75 08:05</td>\n",
              "      <td>84625</td>\n",
              "      <td>CH5300772953113396861</td>\n",
              "      <td>9056</td>\n",
              "      <td>Gais</td>\n",
              "      <td>AR</td>\n",
              "      <td>de</td>\n",
              "      <td>ptan</td>\n",
              "    </tr>\n",
              "    <tr>\n",
              "      <th>2</th>\n",
              "      <td>CHBANK71XXX</td>\n",
              "      <td>50994</td>\n",
              "      <td>LCBANK66XXX</td>\n",
              "      <td>LC55HEMM000100010012001200023015</td>\n",
              "      <td>Saint Lucia</td>\n",
              "      <td>LC</td>\n",
              "      <td>LC66002955223506779</td>\n",
              "      <td>20.08.33 07:06</td>\n",
              "      <td>81691</td>\n",
              "      <td>CH5300772279968511599</td>\n",
              "      <td>5000</td>\n",
              "      <td>Aarau</td>\n",
              "      <td>AG</td>\n",
              "      <td>de</td>\n",
              "      <td>mtan</td>\n",
              "    </tr>\n",
              "    <tr>\n",
              "      <th>3</th>\n",
              "      <td>CHBANK71XXX</td>\n",
              "      <td>1373</td>\n",
              "      <td>QABANK42XXX</td>\n",
              "      <td>QA03QNBA000000000060565452001</td>\n",
              "      <td>Katar</td>\n",
              "      <td>QA</td>\n",
              "      <td>QA42002097538620542</td>\n",
              "      <td>11.05.39 17:55</td>\n",
              "      <td>67958</td>\n",
              "      <td>CH5300772583781695114</td>\n",
              "      <td>1231</td>\n",
              "      <td>Conches</td>\n",
              "      <td>GE</td>\n",
              "      <td>fr</td>\n",
              "      <td>ptan</td>\n",
              "    </tr>\n",
              "    <tr>\n",
              "      <th>4</th>\n",
              "      <td>CHBANK71XXX</td>\n",
              "      <td>77060</td>\n",
              "      <td>LBBANK47XXX</td>\n",
              "      <td>LB02001400000302300023018319</td>\n",
              "      <td>Libanon</td>\n",
              "      <td>LB</td>\n",
              "      <td>LB47002257779666950</td>\n",
              "      <td>30.06.62 02:39</td>\n",
              "      <td>67326</td>\n",
              "      <td>CH5300772546215589885</td>\n",
              "      <td>6106</td>\n",
              "      <td>Werthenstein</td>\n",
              "      <td>LU</td>\n",
              "      <td>de</td>\n",
              "      <td>mtan</td>\n",
              "    </tr>\n",
              "  </tbody>\n",
              "</table>\n",
              "</div>"
            ]
          },
          "metadata": {
            "tags": []
          },
          "execution_count": 28
        }
      ]
    },
    {
      "cell_type": "code",
      "metadata": {
        "id": "1JJT0VCeNyv5",
        "colab_type": "code",
        "colab": {}
      },
      "source": [
        "tdo.dropna(inplace=True)"
      ],
      "execution_count": 0,
      "outputs": []
    },
    {
      "cell_type": "markdown",
      "metadata": {
        "id": "TmODZafznm1I",
        "colab_type": "text"
      },
      "source": [
        "##Vorbereitung für Datenverarbeitung ##"
      ]
    },
    {
      "cell_type": "markdown",
      "metadata": {
        "id": "hBkBB-QLYE35",
        "colab_type": "text"
      },
      "source": [
        "###Encoding der Daten###\n",
        "\n",
        "Die importierten Daten werden als Object bzw. kategorische Daten ausgewiesen. Damit die Daten im Maschine Learning verwendet werden können müssen sie in nummerische Daten umgewandelt werden. Was natürlch nicht so ganz einfach ist wie es sich anhört, da eine hohe Anzahl von kategorischen Werten in einem Datensatz bei der Encodierung zu einer Vervielfachung der Features führt. \n",
        "Hat Beispielsweise eine Features 300 verschiedene Werte, dann entstehen bei der Encodierung auch 300 Features (Spalten)."
      ]
    },
    {
      "cell_type": "code",
      "metadata": {
        "id": "D2GAbTbYoRZ6",
        "colab_type": "code",
        "colab": {
          "base_uri": "https://localhost:8080/",
          "height": 299
        },
        "outputId": "88a37e44-6b34-458b-d4bd-701d7c268de3"
      },
      "source": [
        "# Encoding mittels Get_Dummies von Pandas.\n",
        "tdoe = pd.get_dummies(tdo, columns=['send_bc_nr','rcv_bc_nr', \n",
        "            'rcv_bc_iban','rcv_bc_country','rcv_bc_code','rcv_iban',\n",
        "            'valuta_date','cust_konto_nr','cust_ort',\n",
        "            'cust_kanton','cust_sprachregion','cust_auth_device'],drop_first=True)\n",
        "                            \n",
        "\n",
        "\n",
        "tdoe.head()"
      ],
      "execution_count": 30,
      "outputs": [
        {
          "output_type": "stream",
          "text": [
            "/Users/dili/anaconda3/lib/python3.6/site-packages/pandas/core/generic.py:3111: PerformanceWarning: dropping on a non-lexsorted multi-index without a level parameter may impact performance.\n",
            "  obj = obj._drop_axis(labels, axis, level=level, errors=errors)\n"
          ],
          "name": "stderr"
        },
        {
          "output_type": "execute_result",
          "data": {
            "text/plain": [
              "   (amount,)  (cust_vertrag_nr,)  (cust_plz,)  ('rcv_bc_nr',)_AEBANK83XXX  \\\n",
              "0      82910               79201         6130                           0   \n",
              "1       5778               84625         9056                           0   \n",
              "2      50994               81691         5000                           0   \n",
              "3       1373               67958         1231                           0   \n",
              "4      77060               67326         6106                           0   \n",
              "\n",
              "   ('rcv_bc_nr',)_ALBANK11XXX  ('rcv_bc_nr',)_ATBANK60XXX  \\\n",
              "0                           0                           0   \n",
              "1                           0                           0   \n",
              "2                           0                           0   \n",
              "3                           0                           0   \n",
              "4                           0                           0   \n",
              "\n",
              "   ('rcv_bc_nr',)_AZBANK13XXX  ('rcv_bc_nr',)_BABANK16XXX  \\\n",
              "0                           0                           0   \n",
              "1                           0                           0   \n",
              "2                           0                           0   \n",
              "3                           0                           0   \n",
              "4                           0                           0   \n",
              "\n",
              "   ('rcv_bc_nr',)_BEBANK15XXX  ('rcv_bc_nr',)_BGBANK19XXX  \\\n",
              "0                           0                           0   \n",
              "1                           0                           0   \n",
              "2                           0                           0   \n",
              "3                           0                           0   \n",
              "4                           0                           0   \n",
              "\n",
              "              ...              ('cust_ort',)_Wünnewil  ('cust_ort',)_Zell LU  \\\n",
              "0             ...                                   0                      0   \n",
              "1             ...                                   0                      0   \n",
              "2             ...                                   0                      0   \n",
              "3             ...                                   0                      0   \n",
              "4             ...                                   0                      0   \n",
              "\n",
              "   ('cust_kanton',)_AR  ('cust_kanton',)_FR  ('cust_kanton',)_GE  \\\n",
              "0                    0                    0                    0   \n",
              "1                    1                    0                    0   \n",
              "2                    0                    0                    0   \n",
              "3                    0                    0                    1   \n",
              "4                    0                    0                    0   \n",
              "\n",
              "   ('cust_kanton',)_LU  ('cust_kanton',)_TI  ('cust_sprachregion',)_fr  \\\n",
              "0                    1                    0                          0   \n",
              "1                    0                    0                          0   \n",
              "2                    0                    0                          0   \n",
              "3                    0                    0                          1   \n",
              "4                    1                    0                          0   \n",
              "\n",
              "   ('cust_sprachregion',)_it  ('cust_auth_device',)_ptan  \n",
              "0                          0                           1  \n",
              "1                          0                           1  \n",
              "2                          0                           0  \n",
              "3                          0                           1  \n",
              "4                          0                           0  \n",
              "\n",
              "[5 rows x 56160 columns]"
            ],
            "text/html": [
              "<div>\n",
              "<style scoped>\n",
              "    .dataframe tbody tr th:only-of-type {\n",
              "        vertical-align: middle;\n",
              "    }\n",
              "\n",
              "    .dataframe tbody tr th {\n",
              "        vertical-align: top;\n",
              "    }\n",
              "\n",
              "    .dataframe thead th {\n",
              "        text-align: right;\n",
              "    }\n",
              "</style>\n",
              "<table border=\"1\" class=\"dataframe\">\n",
              "  <thead>\n",
              "    <tr style=\"text-align: right;\">\n",
              "      <th></th>\n",
              "      <th>(amount,)</th>\n",
              "      <th>(cust_vertrag_nr,)</th>\n",
              "      <th>(cust_plz,)</th>\n",
              "      <th>('rcv_bc_nr',)_AEBANK83XXX</th>\n",
              "      <th>('rcv_bc_nr',)_ALBANK11XXX</th>\n",
              "      <th>('rcv_bc_nr',)_ATBANK60XXX</th>\n",
              "      <th>('rcv_bc_nr',)_AZBANK13XXX</th>\n",
              "      <th>('rcv_bc_nr',)_BABANK16XXX</th>\n",
              "      <th>('rcv_bc_nr',)_BEBANK15XXX</th>\n",
              "      <th>('rcv_bc_nr',)_BGBANK19XXX</th>\n",
              "      <th>...</th>\n",
              "      <th>('cust_ort',)_Wünnewil</th>\n",
              "      <th>('cust_ort',)_Zell LU</th>\n",
              "      <th>('cust_kanton',)_AR</th>\n",
              "      <th>('cust_kanton',)_FR</th>\n",
              "      <th>('cust_kanton',)_GE</th>\n",
              "      <th>('cust_kanton',)_LU</th>\n",
              "      <th>('cust_kanton',)_TI</th>\n",
              "      <th>('cust_sprachregion',)_fr</th>\n",
              "      <th>('cust_sprachregion',)_it</th>\n",
              "      <th>('cust_auth_device',)_ptan</th>\n",
              "    </tr>\n",
              "  </thead>\n",
              "  <tbody>\n",
              "    <tr>\n",
              "      <th>0</th>\n",
              "      <td>82910</td>\n",
              "      <td>79201</td>\n",
              "      <td>6130</td>\n",
              "      <td>0</td>\n",
              "      <td>0</td>\n",
              "      <td>0</td>\n",
              "      <td>0</td>\n",
              "      <td>0</td>\n",
              "      <td>0</td>\n",
              "      <td>0</td>\n",
              "      <td>...</td>\n",
              "      <td>0</td>\n",
              "      <td>0</td>\n",
              "      <td>0</td>\n",
              "      <td>0</td>\n",
              "      <td>0</td>\n",
              "      <td>1</td>\n",
              "      <td>0</td>\n",
              "      <td>0</td>\n",
              "      <td>0</td>\n",
              "      <td>1</td>\n",
              "    </tr>\n",
              "    <tr>\n",
              "      <th>1</th>\n",
              "      <td>5778</td>\n",
              "      <td>84625</td>\n",
              "      <td>9056</td>\n",
              "      <td>0</td>\n",
              "      <td>0</td>\n",
              "      <td>0</td>\n",
              "      <td>0</td>\n",
              "      <td>0</td>\n",
              "      <td>0</td>\n",
              "      <td>0</td>\n",
              "      <td>...</td>\n",
              "      <td>0</td>\n",
              "      <td>0</td>\n",
              "      <td>1</td>\n",
              "      <td>0</td>\n",
              "      <td>0</td>\n",
              "      <td>0</td>\n",
              "      <td>0</td>\n",
              "      <td>0</td>\n",
              "      <td>0</td>\n",
              "      <td>1</td>\n",
              "    </tr>\n",
              "    <tr>\n",
              "      <th>2</th>\n",
              "      <td>50994</td>\n",
              "      <td>81691</td>\n",
              "      <td>5000</td>\n",
              "      <td>0</td>\n",
              "      <td>0</td>\n",
              "      <td>0</td>\n",
              "      <td>0</td>\n",
              "      <td>0</td>\n",
              "      <td>0</td>\n",
              "      <td>0</td>\n",
              "      <td>...</td>\n",
              "      <td>0</td>\n",
              "      <td>0</td>\n",
              "      <td>0</td>\n",
              "      <td>0</td>\n",
              "      <td>0</td>\n",
              "      <td>0</td>\n",
              "      <td>0</td>\n",
              "      <td>0</td>\n",
              "      <td>0</td>\n",
              "      <td>0</td>\n",
              "    </tr>\n",
              "    <tr>\n",
              "      <th>3</th>\n",
              "      <td>1373</td>\n",
              "      <td>67958</td>\n",
              "      <td>1231</td>\n",
              "      <td>0</td>\n",
              "      <td>0</td>\n",
              "      <td>0</td>\n",
              "      <td>0</td>\n",
              "      <td>0</td>\n",
              "      <td>0</td>\n",
              "      <td>0</td>\n",
              "      <td>...</td>\n",
              "      <td>0</td>\n",
              "      <td>0</td>\n",
              "      <td>0</td>\n",
              "      <td>0</td>\n",
              "      <td>1</td>\n",
              "      <td>0</td>\n",
              "      <td>0</td>\n",
              "      <td>1</td>\n",
              "      <td>0</td>\n",
              "      <td>1</td>\n",
              "    </tr>\n",
              "    <tr>\n",
              "      <th>4</th>\n",
              "      <td>77060</td>\n",
              "      <td>67326</td>\n",
              "      <td>6106</td>\n",
              "      <td>0</td>\n",
              "      <td>0</td>\n",
              "      <td>0</td>\n",
              "      <td>0</td>\n",
              "      <td>0</td>\n",
              "      <td>0</td>\n",
              "      <td>0</td>\n",
              "      <td>...</td>\n",
              "      <td>0</td>\n",
              "      <td>0</td>\n",
              "      <td>0</td>\n",
              "      <td>0</td>\n",
              "      <td>0</td>\n",
              "      <td>1</td>\n",
              "      <td>0</td>\n",
              "      <td>0</td>\n",
              "      <td>0</td>\n",
              "      <td>0</td>\n",
              "    </tr>\n",
              "  </tbody>\n",
              "</table>\n",
              "<p>5 rows × 56160 columns</p>\n",
              "</div>"
            ]
          },
          "metadata": {
            "tags": []
          },
          "execution_count": 30
        }
      ]
    },
    {
      "cell_type": "markdown",
      "metadata": {
        "id": "nQcTNfjYIME8",
        "colab_type": "text"
      },
      "source": [
        "**Datensatz in Trainings- und Testingdatensatz aufteilen 80/20**\n",
        "\n",
        "Trainingsdatensatz  = 16320\n",
        "Testdatensatz = 4080"
      ]
    },
    {
      "cell_type": "code",
      "metadata": {
        "id": "2Qp0gsmF9fN0",
        "colab_type": "code",
        "outputId": "5f05bdd5-b8d4-4e6a-8246-79c7435cfef2",
        "colab": {
          "base_uri": "https://localhost:8080/",
          "height": 52
        }
      },
      "source": [
        "from sklearn.model_selection import train_test_split\n",
        "tdoe_train, tdoe_test = train_test_split(tdoe,test_size=0.2, random_state = 70)\n",
        "\n",
        "print ('Grösse Trainingsdatesatz (Shape) = ', tdoe_train.shape)\n",
        "print ('Grösse Testdatensatz (Shape) =', tdoe_test.shape)"
      ],
      "execution_count": 31,
      "outputs": [
        {
          "output_type": "stream",
          "text": [
            "Grösse Trainingsdatesatz (Shape) =  (16320, 56160)\n",
            "Grösse Testdatensatz (Shape) = (4080, 56160)\n"
          ],
          "name": "stdout"
        }
      ]
    },
    {
      "cell_type": "markdown",
      "metadata": {
        "id": "83xNdxJPnPAk",
        "colab_type": "text"
      },
      "source": [
        "###Standardisierung der Daten###\n",
        "\n",
        "Zur optimalen Verwendung der Daten für ein Neuronales Netzwerk werden die Daten in ein einheitliches Format gebracht."
      ]
    },
    {
      "cell_type": "code",
      "metadata": {
        "id": "AecNSWsETQzO",
        "colab_type": "code",
        "colab": {
          "base_uri": "https://localhost:8080/",
          "height": 175
        },
        "outputId": "38522676-59b0-4e67-ec89-ea148513d073"
      },
      "source": [
        "tdoe_train = pd.DataFrame(StandardScaler().fit_transform(tdoe_train),columns = tdoe_train.columns)\n",
        "tdoe_test = pd.DataFrame(StandardScaler().fit_transform(tdoe_test),columns = tdoe_test.columns)"
      ],
      "execution_count": 14,
      "outputs": [
        {
          "output_type": "stream",
          "text": [
            "/Users/dili/anaconda3/lib/python3.6/site-packages/sklearn/preprocessing/data.py:625: DataConversionWarning: Data with input dtype uint8, int64 were all converted to float64 by StandardScaler.\n",
            "  return self.partial_fit(X, y)\n",
            "/Users/dili/anaconda3/lib/python3.6/site-packages/sklearn/base.py:462: DataConversionWarning: Data with input dtype uint8, int64 were all converted to float64 by StandardScaler.\n",
            "  return self.fit(X, **fit_params).transform(X)\n",
            "/Users/dili/anaconda3/lib/python3.6/site-packages/sklearn/preprocessing/data.py:625: DataConversionWarning: Data with input dtype uint8, int64 were all converted to float64 by StandardScaler.\n",
            "  return self.partial_fit(X, y)\n",
            "/Users/dili/anaconda3/lib/python3.6/site-packages/sklearn/base.py:462: DataConversionWarning: Data with input dtype uint8, int64 were all converted to float64 by StandardScaler.\n",
            "  return self.fit(X, **fit_params).transform(X)\n"
          ],
          "name": "stderr"
        }
      ]
    },
    {
      "cell_type": "code",
      "metadata": {
        "id": "fIeGJUwhpnqd",
        "colab_type": "code",
        "colab": {
          "base_uri": "https://localhost:8080/",
          "height": 35
        },
        "outputId": "6e593de3-7bbe-4c72-d1b1-e12c0b2a8b8a"
      },
      "source": [
        "#Automated Feature Engineering\n",
        "\n"
      ],
      "execution_count": 19,
      "outputs": [
        {
          "output_type": "execute_result",
          "data": {
            "text/plain": [
              "(16320, 56102)"
            ]
          },
          "metadata": {
            "tags": []
          },
          "execution_count": 19
        }
      ]
    },
    {
      "cell_type": "code",
      "metadata": {
        "id": "MdkcZPWRy-pV",
        "colab_type": "code",
        "colab": {}
      },
      "source": [
        "from sklearn.decomposition import PCA\n",
        "\n",
        "pca = PCA(.95)\n",
        "\n"
      ],
      "execution_count": 0,
      "outputs": []
    },
    {
      "cell_type": "code",
      "metadata": {
        "id": "9cQLSvMAE9Oj",
        "colab_type": "code",
        "outputId": "0260e55d-5195-4c7e-8e00-436d0b94460d",
        "colab": {
          "base_uri": "https://localhost:8080/",
          "height": 669
        }
      },
      "source": [
        "pca.fit(tdoe_train)\n"
      ],
      "execution_count": 18,
      "outputs": [
        {
          "output_type": "error",
          "ename": "LinAlgError",
          "evalue": "ignored",
          "traceback": [
            "\u001b[0;31m---------------------------------------------------------------------------\u001b[0m",
            "\u001b[0;31mLinAlgError\u001b[0m                               Traceback (most recent call last)",
            "\u001b[0;32m<ipython-input-18-51ddaa29d627>\u001b[0m in \u001b[0;36m<module>\u001b[0;34m\u001b[0m\n\u001b[0;32m----> 1\u001b[0;31m \u001b[0mpca\u001b[0m\u001b[0;34m.\u001b[0m\u001b[0mfit\u001b[0m\u001b[0;34m(\u001b[0m\u001b[0mtdoe_train\u001b[0m\u001b[0;34m)\u001b[0m\u001b[0;34m\u001b[0m\u001b[0;34m\u001b[0m\u001b[0m\n\u001b[0m",
            "\u001b[0;32m~/anaconda3/lib/python3.6/site-packages/sklearn/decomposition/pca.py\u001b[0m in \u001b[0;36mfit\u001b[0;34m(self, X, y)\u001b[0m\n\u001b[1;32m    338\u001b[0m             \u001b[0mReturns\u001b[0m \u001b[0mthe\u001b[0m \u001b[0minstance\u001b[0m \u001b[0mitself\u001b[0m\u001b[0;34m.\u001b[0m\u001b[0;34m\u001b[0m\u001b[0;34m\u001b[0m\u001b[0m\n\u001b[1;32m    339\u001b[0m         \"\"\"\n\u001b[0;32m--> 340\u001b[0;31m         \u001b[0mself\u001b[0m\u001b[0;34m.\u001b[0m\u001b[0m_fit\u001b[0m\u001b[0;34m(\u001b[0m\u001b[0mX\u001b[0m\u001b[0;34m)\u001b[0m\u001b[0;34m\u001b[0m\u001b[0;34m\u001b[0m\u001b[0m\n\u001b[0m\u001b[1;32m    341\u001b[0m         \u001b[0;32mreturn\u001b[0m \u001b[0mself\u001b[0m\u001b[0;34m\u001b[0m\u001b[0;34m\u001b[0m\u001b[0m\n\u001b[1;32m    342\u001b[0m \u001b[0;34m\u001b[0m\u001b[0m\n",
            "\u001b[0;32m~/anaconda3/lib/python3.6/site-packages/sklearn/decomposition/pca.py\u001b[0m in \u001b[0;36m_fit\u001b[0;34m(self, X)\u001b[0m\n\u001b[1;32m    404\u001b[0m         \u001b[0;31m# Call different fits for either full or truncated SVD\u001b[0m\u001b[0;34m\u001b[0m\u001b[0;34m\u001b[0m\u001b[0;34m\u001b[0m\u001b[0m\n\u001b[1;32m    405\u001b[0m         \u001b[0;32mif\u001b[0m \u001b[0mself\u001b[0m\u001b[0;34m.\u001b[0m\u001b[0m_fit_svd_solver\u001b[0m \u001b[0;34m==\u001b[0m \u001b[0;34m'full'\u001b[0m\u001b[0;34m:\u001b[0m\u001b[0;34m\u001b[0m\u001b[0;34m\u001b[0m\u001b[0m\n\u001b[0;32m--> 406\u001b[0;31m             \u001b[0;32mreturn\u001b[0m \u001b[0mself\u001b[0m\u001b[0;34m.\u001b[0m\u001b[0m_fit_full\u001b[0m\u001b[0;34m(\u001b[0m\u001b[0mX\u001b[0m\u001b[0;34m,\u001b[0m \u001b[0mn_components\u001b[0m\u001b[0;34m)\u001b[0m\u001b[0;34m\u001b[0m\u001b[0;34m\u001b[0m\u001b[0m\n\u001b[0m\u001b[1;32m    407\u001b[0m         \u001b[0;32melif\u001b[0m \u001b[0mself\u001b[0m\u001b[0;34m.\u001b[0m\u001b[0m_fit_svd_solver\u001b[0m \u001b[0;32min\u001b[0m \u001b[0;34m[\u001b[0m\u001b[0;34m'arpack'\u001b[0m\u001b[0;34m,\u001b[0m \u001b[0;34m'randomized'\u001b[0m\u001b[0;34m]\u001b[0m\u001b[0;34m:\u001b[0m\u001b[0;34m\u001b[0m\u001b[0;34m\u001b[0m\u001b[0m\n\u001b[1;32m    408\u001b[0m             \u001b[0;32mreturn\u001b[0m \u001b[0mself\u001b[0m\u001b[0;34m.\u001b[0m\u001b[0m_fit_truncated\u001b[0m\u001b[0;34m(\u001b[0m\u001b[0mX\u001b[0m\u001b[0;34m,\u001b[0m \u001b[0mn_components\u001b[0m\u001b[0;34m,\u001b[0m \u001b[0mself\u001b[0m\u001b[0;34m.\u001b[0m\u001b[0m_fit_svd_solver\u001b[0m\u001b[0;34m)\u001b[0m\u001b[0;34m\u001b[0m\u001b[0;34m\u001b[0m\u001b[0m\n",
            "\u001b[0;32m~/anaconda3/lib/python3.6/site-packages/sklearn/decomposition/pca.py\u001b[0m in \u001b[0;36m_fit_full\u001b[0;34m(self, X, n_components)\u001b[0m\n\u001b[1;32m    435\u001b[0m         \u001b[0mX\u001b[0m \u001b[0;34m-=\u001b[0m \u001b[0mself\u001b[0m\u001b[0;34m.\u001b[0m\u001b[0mmean_\u001b[0m\u001b[0;34m\u001b[0m\u001b[0;34m\u001b[0m\u001b[0m\n\u001b[1;32m    436\u001b[0m \u001b[0;34m\u001b[0m\u001b[0m\n\u001b[0;32m--> 437\u001b[0;31m         \u001b[0mU\u001b[0m\u001b[0;34m,\u001b[0m \u001b[0mS\u001b[0m\u001b[0;34m,\u001b[0m \u001b[0mV\u001b[0m \u001b[0;34m=\u001b[0m \u001b[0mlinalg\u001b[0m\u001b[0;34m.\u001b[0m\u001b[0msvd\u001b[0m\u001b[0;34m(\u001b[0m\u001b[0mX\u001b[0m\u001b[0;34m,\u001b[0m \u001b[0mfull_matrices\u001b[0m\u001b[0;34m=\u001b[0m\u001b[0;32mFalse\u001b[0m\u001b[0;34m)\u001b[0m\u001b[0;34m\u001b[0m\u001b[0;34m\u001b[0m\u001b[0m\n\u001b[0m\u001b[1;32m    438\u001b[0m         \u001b[0;31m# flip eigenvectors' sign to enforce deterministic output\u001b[0m\u001b[0;34m\u001b[0m\u001b[0;34m\u001b[0m\u001b[0;34m\u001b[0m\u001b[0m\n\u001b[1;32m    439\u001b[0m         \u001b[0mU\u001b[0m\u001b[0;34m,\u001b[0m \u001b[0mV\u001b[0m \u001b[0;34m=\u001b[0m \u001b[0msvd_flip\u001b[0m\u001b[0;34m(\u001b[0m\u001b[0mU\u001b[0m\u001b[0;34m,\u001b[0m \u001b[0mV\u001b[0m\u001b[0;34m)\u001b[0m\u001b[0;34m\u001b[0m\u001b[0;34m\u001b[0m\u001b[0m\n",
            "\u001b[0;32m~/anaconda3/lib/python3.6/site-packages/scipy/linalg/decomp_svd.py\u001b[0m in \u001b[0;36msvd\u001b[0;34m(a, full_matrices, compute_uv, overwrite_a, check_finite, lapack_driver)\u001b[0m\n\u001b[1;32m    130\u001b[0m \u001b[0;34m\u001b[0m\u001b[0m\n\u001b[1;32m    131\u001b[0m     \u001b[0;32mif\u001b[0m \u001b[0minfo\u001b[0m \u001b[0;34m>\u001b[0m \u001b[0;36m0\u001b[0m\u001b[0;34m:\u001b[0m\u001b[0;34m\u001b[0m\u001b[0;34m\u001b[0m\u001b[0m\n\u001b[0;32m--> 132\u001b[0;31m         \u001b[0;32mraise\u001b[0m \u001b[0mLinAlgError\u001b[0m\u001b[0;34m(\u001b[0m\u001b[0;34m\"SVD did not converge\"\u001b[0m\u001b[0;34m)\u001b[0m\u001b[0;34m\u001b[0m\u001b[0;34m\u001b[0m\u001b[0m\n\u001b[0m\u001b[1;32m    133\u001b[0m     \u001b[0;32mif\u001b[0m \u001b[0minfo\u001b[0m \u001b[0;34m<\u001b[0m \u001b[0;36m0\u001b[0m\u001b[0;34m:\u001b[0m\u001b[0;34m\u001b[0m\u001b[0;34m\u001b[0m\u001b[0m\n\u001b[1;32m    134\u001b[0m         raise ValueError('illegal value in %d-th argument of internal gesdd'\n",
            "\u001b[0;31mLinAlgError\u001b[0m: SVD did not converge"
          ]
        }
      ]
    },
    {
      "cell_type": "code",
      "metadata": {
        "id": "hXC6WrBYO8Vj",
        "colab_type": "code",
        "colab": {}
      },
      "source": [
        "#pca.fit(tdoe_test)\n",
        "\n",
        "pca.fit(tdoe_test.as_matrix())"
      ],
      "execution_count": 0,
      "outputs": []
    },
    {
      "cell_type": "code",
      "metadata": {
        "id": "b-Fpxwmk0FR9",
        "colab_type": "code",
        "colab": {}
      },
      "source": [
        "tdoesp_train = pca.transform(tdoe_train)\n",
        "tdoesp_test = pca.transform(tdoe_test)"
      ],
      "execution_count": 0,
      "outputs": []
    },
    {
      "cell_type": "code",
      "metadata": {
        "id": "4IZgmlLX-71t",
        "colab_type": "code",
        "outputId": "f7f0da15-f9fa-45ee-d52f-97457cae8042",
        "colab": {
          "base_uri": "https://localhost:8080/",
          "height": 52
        }
      },
      "source": [
        "print (tdoesp_train.shape)\n",
        "print (tdoesp_test.shape)"
      ],
      "execution_count": 0,
      "outputs": [
        {
          "output_type": "stream",
          "text": [
            "(916074240, 1)\n",
            "(229018560, 1)\n"
          ],
          "name": "stdout"
        }
      ]
    },
    {
      "cell_type": "markdown",
      "metadata": {
        "id": "Lz_l4l9VX0jr",
        "colab_type": "text"
      },
      "source": [
        "#Erkennung von Betrugszahlungen# \n",
        "\n",
        "##Unsupervised Learning mit neuronalen Netzwerken##"
      ]
    },
    {
      "cell_type": "markdown",
      "metadata": {
        "id": "yFc3cqUKZOMF",
        "colab_type": "text"
      },
      "source": [
        "###Modell Training###\n",
        "\n",
        "Nachfolgenden werden wir ein neuronales Netzwerk definieren und dieses mit den oben bearbeiteten Daten trainieren.\n",
        "\n",
        "Für den Aufbau des neuronalen Netzwerks werden ich die Machine Learning Library **TensorFlow** von Google verwenden."
      ]
    },
    {
      "cell_type": "markdown",
      "metadata": {
        "id": "KfTD7txqbgiY",
        "colab_type": "text"
      },
      "source": [
        "**TensorFlow laden und Hyperparameter definieren**"
      ]
    },
    {
      "cell_type": "markdown",
      "metadata": {
        "id": "s10dtH9h-VLv",
        "colab_type": "text"
      },
      "source": [
        "https://www.datascience.com/blog/fraud-detection-with-tensorflow"
      ]
    },
    {
      "cell_type": "code",
      "metadata": {
        "id": "eozbqvhW-W7F",
        "colab_type": "code",
        "colab": {}
      },
      "source": [
        "nb_epoch = 100\n",
        "batch_size = 128\n",
        "input_dim = tdoesp_train.shape[1] #num of columns, 30\n",
        "encoding_dim = 14\n",
        "hidden_dim = int(encoding_dim / 2) #i.e. 7\n",
        "learning_rate = 1e-7\n",
        "\n",
        "input_layer = Input(shape=(input_dim, ))\n",
        "encoder = Dense(encoding_dim, activation=\"tanh\", activity_regularizer=regularizers.l1(learning_rate))(input_layer)\n",
        "encoder = Dense(hidden_dim, activation=\"relu\")(encoder)\n",
        "decoder = Dense(hidden_dim, activation='tanh')(encoder)\n",
        "decoder = Dense(input_dim, activation='relu')(decoder)\n",
        "autoencoder = Model(inputs=input_layer, outputs=decoder)"
      ],
      "execution_count": 0,
      "outputs": []
    },
    {
      "cell_type": "code",
      "metadata": {
        "id": "WwYkBXu1DQJB",
        "colab_type": "code",
        "outputId": "8c84165b-a750-4120-f129-e6254fd0dfa0",
        "colab": {
          "base_uri": "https://localhost:8080/",
          "height": 35
        }
      },
      "source": [
        "autoencoder.compile(metrics=['accuracy'],\n",
        "                    loss='mean_squared_error',\n",
        "                    optimizer='adam')\n",
        "\n",
        "cp = ModelCheckpoint(filepath=\"autoencoder_fraud.h5\",\n",
        "                               save_best_only=True,\n",
        "                               verbose=0)\n",
        "\n",
        "tb = TensorBoard(log_dir='./logs',\n",
        "                histogram_freq=0,\n",
        "                write_graph=True,\n",
        "                write_images=True)\n",
        "\n",
        "history = autoencoder.fit(tdoesp_train,tdoesp_train,\n",
        "                    epochs=nb_epoch,\n",
        "                    batch_size=batch_size,\n",
        "                    shuffle=True,\n",
        "                    validation_data=(tdoesp_test,tdoesp_test),\n",
        "                    verbose=1,\n",
        "                    callbacks=[cp, tb]).history"
      ],
      "execution_count": 0,
      "outputs": [
        {
          "output_type": "stream",
          "text": [
            "Train on 916074240 samples, validate on 229018560 samples\n"
          ],
          "name": "stdout"
        }
      ]
    },
    {
      "cell_type": "code",
      "metadata": {
        "id": "zlGe3F7yEAwf",
        "colab_type": "code",
        "colab": {}
      },
      "source": [
        "autoencoder = load_model('autoencoder_fraud.h5')"
      ],
      "execution_count": 0,
      "outputs": []
    },
    {
      "cell_type": "code",
      "metadata": {
        "id": "O7Yspf-4EHt1",
        "colab_type": "code",
        "outputId": "9d0ab9c6-3832-47c6-b199-9f452e03fd5d",
        "colab": {
          "base_uri": "https://localhost:8080/",
          "height": 295
        }
      },
      "source": [
        "plt.plot(history['loss'], linewidth=2, label='Train')\n",
        "plt.plot(history['val_loss'], linewidth=2, label='Test')\n",
        "plt.legend(loc='upper right')\n",
        "plt.title('Model loss')\n",
        "plt.ylabel('Loss')\n",
        "plt.xlabel('Epoch')\n",
        "#plt.ylim(ymin=0.70,ymax=1)\n",
        "plt.show()"
      ],
      "execution_count": 0,
      "outputs": [
        {
          "output_type": "display_data",
          "data": {
            "text/plain": [
              "<Figure size 432x288 with 1 Axes>"
            ],
            "image/png": "[encoded data removed]"
          },
          "metadata": {
            "tags": [],
            "needs_background": "light"
          }
        }
      ]
    },
    {
      "cell_type": "markdown",
      "metadata": {
        "id": "T7I1cx12_2Gv",
        "colab_type": "text"
      },
      "source": [
        "#Ermittlung potenzieller Kundenrisikogruppen# \n",
        "##Supervised Learning mit neuronalen Netzwerken##\n"
      ]
    },
    {
      "cell_type": "code",
      "metadata": {
        "id": "b57Ggf-x-Iet",
        "colab_type": "code",
        "colab": {}
      },
      "source": [
        "%matplotlib inline\n",
        "import pandas as pd\n",
        "import numpy as np\n",
        "import matplotlib.pyplot as plt\n",
        "\n",
        "\n",
        "# Laden der 600000 Transaktionsdaten \n",
        "trx_data_url = 'https://raw.githubusercontent.com/sakuronohana/cas_datenanalyse/master/Semesterarbeit/Dataset/trx_data_ml.csv'\n",
        "\n",
        "trx_data_ml = pd.read_csv(trx_data_url, delimiter=';')\n",
        "trx_data_ml.head()\n"
      ],
      "execution_count": 0,
      "outputs": []
    },
    {
      "cell_type": "code",
      "metadata": {
        "id": "4reOVH6SOoEs",
        "colab_type": "code",
        "colab": {}
      },
      "source": [
        "trx_data_ol.nunique()"
      ],
      "execution_count": 0,
      "outputs": []
    },
    {
      "cell_type": "code",
      "metadata": {
        "id": "Qa3UBsB4PUcz",
        "colab_type": "code",
        "colab": {}
      },
      "source": [
        "trx_data.fraud_id.map(lambda x:1 if x>=1 else 0).mean()"
      ],
      "execution_count": 0,
      "outputs": []
    },
    {
      "cell_type": "markdown",
      "metadata": {
        "id": "nBv9TMCtc2s6",
        "colab_type": "text"
      },
      "source": [
        "**Erstellung des neuronalen Netzwerk-Modells**\n",
        "\n",
        "https://www.youtube.com/watch?v=BhpvH5DuVu8&list=PLQVvvaa0QuDfKTOs3Keq_kaG2P55YRn5v&index=46\n",
        "\n"
      ]
    },
    {
      "cell_type": "code",
      "metadata": {
        "id": "BjPo4kEvdD8s",
        "colab_type": "code",
        "colab": {}
      },
      "source": [
        "import tensorflow as tf\n",
        "\n",
        "n_nodes_hl1 = 500\n",
        "n_nodes_hl2 = 500\n",
        "n_nodes_hl3 = 500\n",
        "\n",
        "n_classes = 10\n",
        "batch_size = 1000\n",
        "\n",
        "x = tf.placeholder('float',[None, 784])\n",
        "\n",
        "def neural_network_model(data):\n",
        "  hidden_1_layer = {'weights':tf.Variable(tf.random_normal([784,n_nodes_hl1])),\n",
        "                   'biases':tf.Variable(tf.random_normal(n_nodes_hl1))}\n",
        "  hidden_2_layer = {'weights':tf.Variable(tf.random_normal([n_nodes_hl2,n_nodes_hl2])),\n",
        "                   'biases':tf.Variable(tf.random_normal(n_nodes_hl2))}\n",
        "  hidden_3_layer = {'weights':tf.Variable(tf.random_normal([n_nodes_hl2,n_nodes_hl3])),\n",
        "                   'biases':tf.Variable(tf.random_normal(n_nodes_hl3))}\n",
        "  output_layer = {'weights':tf.Variable(tf.random_normal([n_nodes_hl3,n_nodes_hl1])),\n",
        "                   'biases':tf.Variable(tf.random_normal(n_classes))}\n",
        "  \n",
        "  l1 = tf.add(tf.matmul(data, hidden_1_layer['weights']), hidden_1_layer['biases'])\n",
        "  l1 = tf.nn.relu(l1)\n",
        "  \n",
        "  l2 = tf.add(tf.matmul(l1, hidden_2_layer['weights']), hidden_2_layer['biases'])\n",
        "  l2 = tf.nn.relu(l2)\n",
        "  \n",
        "  l3 = tf.add(tf.matmul(l2, hidden_3_layer['weights']), hidden_3_layer['biases'])\n",
        "  l3 = tf.nn.relu(l3)\n",
        "                 \n",
        "  output = tf.add(l3, output_layer['weights'])+ output_layer['biases']\n",
        "  \n",
        "  return output\n",
        "                  \n",
        "def train_neural_network(x):\n",
        "  prediction = neural_network_model(x)\n",
        "  cost = tf.reduce_mean(tf.nn.softmax_cross_entropy_with_logits(prediction,y))\n",
        "  optimizer = tf.train.AdamOptimizer().minimize(cost)\n",
        "  \n",
        "  hm_epochs = 10\n",
        "                  \n",
        "  with tf.Session() as sess:\n",
        "    sess.run(tf.initialize_all_variables())\n",
        "    # Hier wird das Modell trainiert\n",
        "    for epoch in hm_epochs:\n",
        "        epoch_loss = 0\n",
        "        for _ in range(int(tdo_train.train.num_examples/batch_size)):\n",
        "            x = tdo_train.next_batch(batch_size)\n",
        "            _, c = sess.run([optimizer, cost], feed_dict = {x: x})\n",
        "            epoch_loss += c\n",
        "        print('Epoch', epoch, 'completed out of', hm_epochs, 'loss:', epoch_loss)\n",
        "                  \n",
        "    correct = tf.equal(tf.argmax(prediction, 1), tf.argmax(y,1))\n",
        "    accuracy = tf.reduce_mean(tf.cast(correct,'float'))\n",
        "    print('Accuracy:', accuracy.eval({x:tdo_test}))\n",
        "    \n",
        "train_neural_network(x)"
      ],
      "execution_count": 0,
      "outputs": []
    },
    {
      "cell_type": "markdown",
      "metadata": {
        "id": "g0Oh1LK53rMd",
        "colab_type": "text"
      },
      "source": [
        "##Datensatz analysieren##\n",
        "\n",
        "##Tipp: Plotting Learning Curves - Scikit !!!!"
      ]
    },
    {
      "cell_type": "code",
      "metadata": {
        "id": "6bzsG7nZ25CG",
        "colab_type": "code",
        "colab": {}
      },
      "source": [
        "# Visualisierung der Nummerischen Daten in dem Datensatz\n",
        "trx_data.hist(bins=50, figsize=(20,15))\n",
        "plt.show()"
      ],
      "execution_count": 0,
      "outputs": []
    },
    {
      "cell_type": "code",
      "metadata": {
        "id": "K-MjsTaU3kS8",
        "colab_type": "code",
        "colab": {}
      },
      "source": [
        "# Suche nach den Korrelationen - Teil 1\n",
        "corr_matrix = trx_data.corr()\n",
        "print ('Korrelation zu Payment ID','\\n',corr_matrix['paym_id'].sort_values(ascending=False))\n",
        "print ('Korrelation zu Zahlungssumme','\\n',corr_matrix['amount'].sort_values(ascending=False))\n",
        "print ('Korrelation zu Kundenvertrag','\\n',corr_matrix['cust_vertrag_nr'].sort_values(ascending=False))\n",
        "print ('Korrelation zu Betrugsid','\\n',corr_matrix['fraud_id'].sort_values(ascending=False))"
      ],
      "execution_count": 0,
      "outputs": []
    },
    {
      "cell_type": "code",
      "metadata": {
        "id": "GXoUuDUY3LpU",
        "colab_type": "code",
        "colab": {}
      },
      "source": [
        "# Bereinigung der Daten\n",
        "pd.to_datetime(trx_data['timestamp'])\n",
        "pd.to_datetime(trx_data['valuta_date'])\n",
        "np.where(np.isnan(trx_data))"
      ],
      "execution_count": 0,
      "outputs": []
    },
    {
      "cell_type": "code",
      "metadata": {
        "id": "c6Vx75189gJV",
        "colab_type": "code",
        "colab": {}
      },
      "source": [
        "# Datensatz in Trainings(80%)- und Testdatenset (20%) teilen\n",
        "from sklearn.model_selection import train_test_split\n",
        "train_trx_data, test_trx_data = train_test_split(trx_data, test_size=0.2, random_state=42) \n",
        "train_trx_data.count(), test_trx_data.count()"
      ],
      "execution_count": 0,
      "outputs": []
    },
    {
      "cell_type": "code",
      "metadata": {
        "id": "WKYDanXj3Vm9",
        "colab_type": "code",
        "colab": {}
      },
      "source": [
        "# Dimensionsreduktion mit PCA\n",
        "from sklearn.decomposition import PCA # Import der PCA Funktion von Scikit Learn\n",
        "from sklearn import preprocessing # Die Preprocessing Funktion hilft uns die Daten zu skalieren bevor sie mit PCA verwendet werden."
      ],
      "execution_count": 0,
      "outputs": []
    }
  ]
}