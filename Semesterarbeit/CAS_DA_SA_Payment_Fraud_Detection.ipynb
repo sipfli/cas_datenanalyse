{
  "nbformat": 4,
  "nbformat_minor": 0,
  "metadata": {
    "colab": {
      "name": "CAS-DA-SA_Payment_Fraud_Detection.ipynb",
      "version": "0.3.2",
      "provenance": [],
      "include_colab_link": true
    },
    "kernelspec": {
      "name": "python3",
      "display_name": "Python 3"
    }
  },
  "cells": [
    {
      "cell_type": "markdown",
      "metadata": {
        "id": "view-in-github",
        "colab_type": "text"
      },
      "source": [
        "<a href=\"https://colab.research.google.com/github/sakuronohana/cas_datenanalyse/blob/master/Semesterarbeit/CAS_DA_SA_Payment_Fraud_Detection.ipynb\" target=\"_parent\"><img src=\"https://colab.research.google.com/assets/colab-badge.svg\" alt=\"Open In Colab\"/></a>"
      ]
    },
    {
      "metadata": {
        "id": "jRcJtvy3IiFf",
        "colab_type": "text"
      },
      "cell_type": "markdown",
      "source": [
        "<img \n",
        "src=\"https://www.ffhs.ch/templates/ffhs/img/logo@2x.png\" width=\"100\"> \n",
        "###DaAn, Data Analysis, MAS/CAS Web4B 2018, ZH1, FS19, Dr. Tödtli Beat###\n",
        "\n",
        "##*Semesterarbeit von Patrik Di Lena*##\n",
        "#Betrugserkennung Zahlungsverkehr#\n",
        "\n"
      ]
    },
    {
      "metadata": {
        "id": "Cu2Lax6MMPh0",
        "colab_type": "text"
      },
      "cell_type": "markdown",
      "source": [
        "##Ziel##\n",
        "Auf der Grundlage von maschinellen Lernalgorithmen soll ein Betrugserkennungssystem für den Zahlungsverkehr einer ausschliesslich in der Schweiz tätigen Bank erstellt werden. Auf Basis historisierter Daten in Bezug auf das E-Banking Session- und Zahlungsverhalten von Bankkunden sollen mögliche Betrugsintensionen erkannt und für bestimmte Risikogruppen vorhergesagt werden.\n",
        "\n",
        "##Aufgabenstellung##\n",
        "\n",
        "Aus dem oben formulierten Ziel ergeben sich zwei wesentliche Aufgabenstellungen:\n",
        "1.\tErkennung betrügerischer Handlungen im Zahlungsverkehr\n",
        "2.\tErmittlung potenzieller Kundenrisikogruppen\n",
        "\n",
        "##Betrugsanfällige Risikogruppen##\n",
        "Die für den Betrug im Zahlungsverkehr anfälligen Gruppen werden auf Basis der folgenden Merkmale durch den Lernalgorithmus bestimmt:\n",
        "\n",
        "*\tGeschlecht\n",
        "*\tAlter\n",
        "*\tZivilstand\n",
        "*\tNationalität\n",
        "*\tKontosaldo\n",
        "*\tWohnort\n",
        "*\tRegion\n",
        "*\tZahlungsmethode (E-Rechnung, Einzahlungsschein etc.)\n",
        "*\tRechtsform (Juristisch oder natürliche Person)\n",
        "\n",
        "## Datensatz##\n",
        "Die im Rahmen dieser Semesterarbeit verwendeten Daten entstammen, von ihrer Datenstruktur her, aus einem bereits eingesetzten nicht ML-basierten E-Banking Betrugserkennungssystem. Die Datenwerte wurde zu Wahrung der datenschutzrechtlichen und bankengesetzlichen Aspekte mit Hilfe des folgenden Python-Scripts künstlich erzeugt und beinhalten somit keine reale Zahlungs-, Kunden-, und betrugsspezifischen Informationen. Weiter wurden einige durch die Bank definierten Spezifikationen bzw. Merkmale aus sicherheitstechnischen Gründen umbenannt.  \n",
        "\n",
        "\n",
        "\n",
        "\n",
        "\n",
        "\n"
      ]
    },
    {
      "metadata": {
        "id": "2N7wwJlJIMIX",
        "colab_type": "code",
        "outputId": "151e0bff-3cde-47ef-890f-055b06a90264",
        "colab": {
          "base_uri": "https://localhost:8080/",
          "height": 1105
        }
      },
      "cell_type": "code",
      "source": [
        "import pandas as pd\n",
        "import numpy as np\n",
        "\n",
        "def payment_data():\n",
        "  \n",
        "  #columns = ['Bankenclearing',\t'ursprüngliche Mandanten-ID']#\tDokumentennummer\tZeitstempel\tVertrag\tVorname\tName\tProdukt\tZREG\tVertragsverwaltungsuser\tService\tPayNet-Nummer\tDokumentenschlüssel\tAnzahl Seiten\n",
        "  columns = ['contract_no', 'payment_amount']\n",
        "\n",
        "  timestamp = pd.DataFrame()\n",
        "  payment_id = pd.DataFrame(np.arange(1,100001), columns=['payment_id'])\n",
        "  contract_no = pd.DataFrame(np.random.randint(1000001, size=100001), columns=['contract'])\n",
        "  payment_amount = pd.DataFrame((np.random.sample(1000001)*50000), columns=['amount'])\n",
        "  payment_amount = np.round_(payment_amount, decimals = 2)\n",
        "  \n",
        "  print(payment_amount)\n",
        " \n",
        "  return\n",
        "\n",
        "def transaction_checker():\n",
        "  return\n",
        "  \n",
        "def session_checker():\n",
        "  return\n",
        "\n",
        "  #print(np.round_(payment_amount, decimals = 2))\n",
        "payment_data()\n",
        "\n",
        "#print (payment_id.shape, contract_no.shape, payment_amount.shape)\n",
        "\n",
        "#pd.merge(payment_id, contract_no, payment_amount)\n",
        "\n"
      ],
      "execution_count": 24,
      "outputs": [
        {
          "output_type": "stream",
          "text": [
            "           amount\n",
            "0        41633.73\n",
            "1        22056.76\n",
            "2        29328.93\n",
            "3        44650.76\n",
            "4        24587.83\n",
            "5        41779.27\n",
            "6        28046.32\n",
            "7        30616.24\n",
            "8        14015.30\n",
            "9        23881.90\n",
            "10       46277.12\n",
            "11       29020.90\n",
            "12        2357.53\n",
            "13       27464.67\n",
            "14       18181.00\n",
            "15        7426.32\n",
            "16       31222.36\n",
            "17       12599.80\n",
            "18       32110.45\n",
            "19       39219.76\n",
            "20       23135.86\n",
            "21       14236.93\n",
            "22       24825.79\n",
            "23       43907.33\n",
            "24        3126.25\n",
            "25       24625.49\n",
            "26       17271.45\n",
            "27       47854.71\n",
            "28       23476.72\n",
            "29       15129.70\n",
            "...           ...\n",
            "999971   14352.81\n",
            "999972   47848.53\n",
            "999973   20643.68\n",
            "999974    7680.35\n",
            "999975    2233.52\n",
            "999976   47429.73\n",
            "999977   30337.39\n",
            "999978   21061.68\n",
            "999979   26842.49\n",
            "999980   47493.67\n",
            "999981   26174.75\n",
            "999982   32659.88\n",
            "999983    8571.59\n",
            "999984   17947.25\n",
            "999985   27550.41\n",
            "999986   10276.21\n",
            "999987   42378.34\n",
            "999988    5237.55\n",
            "999989   26972.49\n",
            "999990   27099.20\n",
            "999991   30400.73\n",
            "999992   36066.19\n",
            "999993   28244.11\n",
            "999994   41687.29\n",
            "999995   30741.49\n",
            "999996   29197.37\n",
            "999997   39061.81\n",
            "999998   16741.76\n",
            "999999   11379.33\n",
            "1000000   2633.70\n",
            "\n",
            "[1000001 rows x 1 columns]\n"
          ],
          "name": "stdout"
        }
      ]
    }
  ]
}