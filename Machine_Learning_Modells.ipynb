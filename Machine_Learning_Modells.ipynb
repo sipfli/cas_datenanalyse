{
  "nbformat": 4,
  "nbformat_minor": 0,
  "metadata": {
    "colab": {
      "name": "Machine Learning - Modells.ipynb",
      "version": "0.3.2",
      "provenance": [],
      "include_colab_link": true
    },
    "kernelspec": {
      "name": "python3",
      "display_name": "Python 3"
    }
  },
  "cells": [
    {
      "cell_type": "markdown",
      "metadata": {
        "id": "view-in-github",
        "colab_type": "text"
      },
      "source": [
        "<a href=\"https://colab.research.google.com/github/sakuronohana/cas_datenanalyse/blob/master/Machine_Learning_Modells.ipynb\" target=\"_parent\"><img src=\"https://colab.research.google.com/assets/colab-badge.svg\" alt=\"Open In Colab\"/></a>"
      ]
    },
    {
      "metadata": {
        "id": "3rii-tTbj4wj",
        "colab_type": "text"
      },
      "cell_type": "markdown",
      "source": [
        "#Machine Learning - Modelle & Maths#\n",
        "\n",
        "In diesem Jupyter Notebook werden die bekanntesten ML Modelle inkl. der dazugehörtenden mathematische Formeln erläutert.\n",
        "\n",
        "![alt text](https://cdn-images-1.medium.com/max/1600/1*Gbfq8wTIyHBnC5oDhzNACw.png)"
      ]
    },
    {
      "metadata": {
        "id": "JrA8UEapktKg",
        "colab_type": "text"
      },
      "cell_type": "markdown",
      "source": [
        "##Regression##\n",
        "\n",
        "Bei den regressiven Modellen geht es vereinfacht gesagt darum, mit Hilfe von historischen Daten in Form von Zahlen eine Prediction bzw. Voraussage über die zukünftige Entwicklung des untersuchten Gebiets (bsp. Börsenkurse, Temperatur, Materialverschleis, usw.) zu treffen."
      ]
    },
    {
      "metadata": {
        "id": "ys9T5vDUj3Tg",
        "colab_type": "code",
        "colab": {}
      },
      "cell_type": "code",
      "source": [
        "#Lineare Regression"
      ],
      "execution_count": 0,
      "outputs": []
    }
  ]
}