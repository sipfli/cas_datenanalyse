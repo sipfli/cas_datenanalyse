{
 "cells": [
  {
   "cell_type": "code",
   "execution_count": 1,
   "metadata": {
    "collapsed": true
   },
   "outputs": [],
   "source": [
    "%matplotlib inline"
   ]
  },
  {
   "cell_type": "code",
   "execution_count": 21,
   "metadata": {},
   "outputs": [
    {
     "data": {
      "text/plain": [
       "'0.18.1'"
      ]
     },
     "execution_count": 21,
     "metadata": {},
     "output_type": "execute_result"
    }
   ],
   "source": [
    "import numpy as np\n",
    "import matplotlib.pyplot as plt\n",
    "import sklearn\n",
    "from sklearn.ensemble import AdaBoostClassifier\n",
    "from sklearn.tree import DecisionTreeClassifier\n",
    "from sklearn.datasets import make_gaussian_quantiles\n",
    "sklearn.__version__"
   ]
  },
  {
   "cell_type": "code",
   "execution_count": 22,
   "metadata": {},
   "outputs": [
    {
     "data": {
      "text/plain": [
       "((297, 13), (297,))"
      ]
     },
     "execution_count": 22,
     "metadata": {},
     "output_type": "execute_result"
    }
   ],
   "source": [
    "import pandas as pd\n",
    "df=pd.read_csv('../../data/processed.cleveland.data',na_values={'?':np.nan})\n",
    "#X.dropna?\n",
    "df1 = df.apply(pd.to_numeric, args=('coerce',)).dropna()\n",
    "\n",
    "y = pd.Series(np.where(df1.num>0,1,0),name='target').as_matrix()\n",
    "X = df1\n",
    "del X['num']\n",
    "X=X.as_matrix()\n",
    "X.shape,y.shape"
   ]
  },
  {
   "cell_type": "code",
   "execution_count": 23,
   "metadata": {},
   "outputs": [
    {
     "data": {
      "text/plain": [
       "((222, 13), (222,), (75, 13), (75,))"
      ]
     },
     "execution_count": 23,
     "metadata": {},
     "output_type": "execute_result"
    }
   ],
   "source": [
    "from sklearn.model_selection import train_test_split\n",
    "#train_test_split?\n",
    "Xtrain,Xvalid,ytrain,yvalid=train_test_split(X,y)\n",
    "Xtrain.shape,ytrain.shape,Xvalid.shape,yvalid.shape"
   ]
  },
  {
   "cell_type": "code",
   "execution_count": 24,
   "metadata": {},
   "outputs": [],
   "source": [
    "from sklearn.metrics import accuracy_score\n",
    "\n",
    "trainErrorList=[]\n",
    "validationErrorList=[]\n",
    "\n",
    "n_estimator_list=range(1,200,10)\n",
    "for n_estimators in n_estimator_list:\n",
    "    # Create and fit an AdaBoosted decision tree\n",
    "    bdt = AdaBoostClassifier(DecisionTreeClassifier(max_depth=1),\n",
    "                             algorithm=\"SAMME\",\n",
    "                             n_estimators=n_estimators)\n",
    "\n",
    "    bdt.fit(Xtrain, ytrain)\n",
    "    \n",
    "    yhattrain=bdt.predict(Xtrain)\n",
    "    yhat_val=bdt.predict(Xvalid)\n",
    "    \n",
    "    train_error=1-accuracy_score(yhattrain,ytrain)\n",
    "    val_error=1-accuracy_score(yhat_val,yvalid)\n",
    "    \n",
    "    \n",
    "    trainErrorList.append(train_error)\n",
    "    validationErrorList.append(val_error)"
   ]
  },
  {
   "cell_type": "code",
   "execution_count": 25,
   "metadata": {},
   "outputs": [
    {
     "data": {
      "text/plain": [
       "<matplotlib.legend.Legend at 0x7f766506f5f8>"
      ]
     },
     "execution_count": 25,
     "metadata": {},
     "output_type": "execute_result"
    },
    {
     "data": {
      "image/png": "[encoded data removed]",
      "text/plain": [
       "<matplotlib.figure.Figure at 0x7f766508d5c0>"
      ]
     },
     "metadata": {},
     "output_type": "display_data"
    }
   ],
   "source": [
    "plt.plot(n_estimator_list,trainErrorList,'b',label='training score')\n",
    "plt.plot(n_estimator_list,validationErrorList,'r',label='validation score');\n",
    "plt.legend()"
   ]
  },
  {
   "cell_type": "code",
   "execution_count": 28,
   "metadata": {},
   "outputs": [
    {
     "name": "stdout",
     "output_type": "stream",
     "text": [
      "n_estimators: 1\n",
      "n_estimators: 11\n",
      "n_estimators: 21\n",
      "n_estimators: 31\n",
      "n_estimators: 41\n",
      "n_estimators: 51\n",
      "n_estimators: 61\n",
      "n_estimators: 71\n",
      "n_estimators: 81\n",
      "n_estimators: 91\n",
      "n_estimators: 101\n",
      "n_estimators: 111\n",
      "n_estimators: 121\n",
      "n_estimators: 131\n",
      "n_estimators: 141\n",
      "n_estimators: 151\n",
      "n_estimators: 161\n",
      "n_estimators: 171\n",
      "n_estimators: 181\n",
      "n_estimators: 191\n"
     ]
    }
   ],
   "source": [
    "from sklearn.model_selection import cross_val_score\n",
    "trainErrorList=[]\n",
    "crossvalidationErrorList=[]\n",
    "\n",
    "n_estimator_list=range(1,200+1,10)\n",
    "for n_estimators in n_estimator_list:\n",
    "    print('n_estimators:',n_estimators)\n",
    "    # Create and fit an AdaBoosted decision tree\n",
    "    bdt = AdaBoostClassifier(DecisionTreeClassifier(max_depth=1),\n",
    "                             algorithm=\"SAMME\",\n",
    "                             n_estimators=n_estimators)\n",
    "    cv_accuracy=np.mean(cross_val_score(bdt,Xtrain,ytrain,cv=10))\n",
    "    \n",
    "    bdt.fit(Xtrain, ytrain)\n",
    "    yhattrain=bdt.predict(Xtrain)\n",
    "    yhat_val=bdt.predict(Xvalid)\n",
    "    \n",
    "    train_error=1-accuracy_score(yhattrain,ytrain)\n",
    "    cval_error=1-cv_accuracy\n",
    "    \n",
    "    \n",
    "    trainErrorList.append(train_error)\n",
    "    crossvalidationErrorList.append(cval_error)"
   ]
  },
  {
   "cell_type": "code",
   "execution_count": 30,
   "metadata": {},
   "outputs": [
    {
     "data": {
      "text/plain": [
       "<matplotlib.legend.Legend at 0x7f7664d63fd0>"
      ]
     },
     "execution_count": 30,
     "metadata": {},
     "output_type": "execute_result"
    },
    {
     "data": {
      "image/png": "[encoded data removed]",
      "text/plain": [
       "<matplotlib.figure.Figure at 0x7f7664dd3198>"
      ]
     },
     "metadata": {},
     "output_type": "display_data"
    }
   ],
   "source": [
    "plt.plot(n_estimator_list,trainErrorList,'b',label='training error')\n",
    "plt.plot(n_estimator_list,crossvalidationErrorList,'r',label='validation error')\n",
    "plt.legend()"
   ]
  },
  {
   "cell_type": "code",
   "execution_count": null,
   "metadata": {
    "collapsed": true
   },
   "outputs": [],
   "source": []
  }
 ],
 "metadata": {
  "kernelspec": {
   "display_name": "Python 3",
   "language": "python",
   "name": "python3"
  },
  "language_info": {
   "codemirror_mode": {
    "name": "ipython",
    "version": 3
   },
   "file_extension": ".py",
   "mimetype": "text/x-python",
   "name": "python",
   "nbconvert_exporter": "python",
   "pygments_lexer": "ipython3",
   "version": "3.5.2"
  }
 },
 "nbformat": 4,
 "nbformat_minor": 2
}
