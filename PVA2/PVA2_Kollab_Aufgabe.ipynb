{
  "nbformat": 4,
  "nbformat_minor": 0,
  "metadata": {
    "colab": {
      "name": "PVA2_Kollab_Aufgabe.ipynb",
      "version": "0.3.2",
      "provenance": [],
      "include_colab_link": true
    },
    "kernelspec": {
      "name": "python3",
      "display_name": "Python 3"
    }
  },
  "cells": [
    {
      "cell_type": "markdown",
      "metadata": {
        "id": "view-in-github",
        "colab_type": "text"
      },
      "source": [
        "<a href=\"https://colab.research.google.com/github/sakuronohana/cas_datenanalyse/blob/master/PVA2/PVA2_Kollab_Aufgabe.ipynb\" target=\"_parent\"><img src=\"https://colab.research.google.com/assets/colab-badge.svg\" alt=\"Open In Colab\"/></a>"
      ]
    },
    {
      "metadata": {
        "id": "xicvQfvkZcNj",
        "colab_type": "text"
      },
      "cell_type": "markdown",
      "source": [
        "##Kollaborative Aufgabe: Analyse des erstellten Zeichen-Datensatzes##\n",
        "\n",
        "Ihre erste Aufgabe mit diesem Datensatz ist es, sich einen Überblick zu verschaffen. \n",
        "\n",
        "* Welche 5-fach cross-validierte Genauigkeit erreichen Sie in der Vorhersage von '+','x' und 'o'? Wenden Sie auf den Datensatz die besprochenen Klassifizierungen an und versuchen Sie, Ihr Featureengineering zu verbessern. Ein vorläufiges Ergebnis genügt hier vorerst. Konzentrieren Sie sich eher auf das Verständnis des Datensatzes  und das Feature Engineering. Wir werden später noch Klassifikatoren kennenlernen, welche wir ausführlicher Testen wollen.\n",
        "\n",
        "* Zusätzliche Fragen:\n",
        "\n",
        "  * Welche Studierenden haben einfache, welche schwierige Teildatensätze beigetragen?\n",
        "  * Ist es möglich, Teildatensätze von Studierenden zu identifizieren? Untersuchen Sie Ihren eigenen Datensatz: Finden Sie eine einfache Methode, um die von Ihnen beigetragenen Zeilen (nur!) an Hand der Pixelwerte zu identifizieren? Wenn ja teilen sie dies Ihren Mitstudierenden im Forum mit! Dies erleichtert möglicherweise die Klassifikationsaufgabe über alle Bilder, und ist daher für alle von Interesse.\n",
        "\n",
        "* Reichen Sie im Forum die verwendeten Skripts ein; beschreiben Sie ebenfalls, mit welchen Parametern (und Bildauflösungen) Sie die besten Resultate erhalten.\n",
        "* Kommentieren Sie die Ansätze Ihrer Mitstudierenden. Machen Sie Vorschläge, denken Sie bei den Arbeiten der anderen mit!\n",
        "\n"
      ]
    },
    {
      "metadata": {
        "id": "ruqG_GyDZjUj",
        "colab_type": "code",
        "colab": {}
      },
      "cell_type": "code",
      "source": [
        "import glob, os\n",
        "import pandas as pd\n",
        "import numpy as np\n",
        "\n",
        "\n",
        "#Import multiple csv-Files\n",
        "\n",
        "csv_files = glob.glob('*.csv')\n",
        "\n",
        "for files in csv_files:\n",
        "    ids = (files[:6])\n",
        "    df_data = pd.DataFrame(pd.read_csv(files, header=None))\n",
        "    df_data.insert(0,'id', ids)\n",
        "    df_data.to_csv('corrdata.csv', mode='a', index = False, header = False)\n",
        "    \n",
        "\n"
      ],
      "execution_count": 0,
      "outputs": []
    },
    {
      "metadata": {
        "id": "KSjpOKm0pK8T",
        "colab_type": "code",
        "colab": {}
      },
      "cell_type": "code",
      "source": [
        ""
      ],
      "execution_count": 0,
      "outputs": []
    }
  ]
}