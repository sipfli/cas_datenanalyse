{
  "nbformat": 4,
  "nbformat_minor": 0,
  "metadata": {
    "colab": {
      "name": "CAS-DA-SA_Payment_Fraud_Detection.ipynb",
      "version": "0.3.2",
      "provenance": [],
      "include_colab_link": true
    },
    "kernelspec": {
      "name": "python3",
      "display_name": "Python 3"
    },
    "accelerator": "GPU"
  },
  "cells": [
    {
      "cell_type": "markdown",
      "metadata": {
        "id": "view-in-github",
        "colab_type": "text"
      },
      "source": [
        "<a href=\"https://colab.research.google.com/github/sakuronohana/cas_datenanalyse/blob/master/Semesterarbeit/CAS_DA_SA_Payment_Fraud_Detection.ipynb\" target=\"_parent\"><img src=\"https://colab.research.google.com/assets/colab-badge.svg\" alt=\"Open In Colab\"/></a>"
      ]
    },
    {
      "cell_type": "markdown",
      "metadata": {
        "id": "jRcJtvy3IiFf",
        "colab_type": "text"
      },
      "source": [
        "<img \n",
        "src=\"https://www.ffhs.ch/templates/ffhs/img/logo@2x.png\" width=\"100\"> \n",
        "###DaAn, Data Analysis, MAS/CAS Web4B 2018, ZH1, FS19, Dr. Tödtli Beat###\n",
        "\n",
        "##*Semesterarbeit von Patrik Di Lena*##\n",
        "#Betrugserkennung Zahlungsverkehr#\n",
        "\n"
      ]
    },
    {
      "cell_type": "markdown",
      "metadata": {
        "id": "Cu2Lax6MMPh0",
        "colab_type": "text"
      },
      "source": [
        "##Ziel##\n",
        "Das Ziel dieser Semesterarbeit ist die Gegenüberstellung von Supervised und Unsupervised Lernverfahren mit Hilfe neuronaler Netzwerk Algorithmen. Dabei kommt  ein nicht gelabelter und ein gelabelter Datensatz aus einem Betrugserkennungssystem zum Einsatz. \n",
        "\n",
        "##Aufgabenstellung##\n",
        "###Erkennung von Betrugszahlungen###\n",
        "Mittels Unsupervised Learning sollen Betrugszahlungen aus einem nicht gelabelten Datensatz erkannt und die Effiktivität des vorhandenen Fraud-Detection Systems geprüft werden. In diesem Fall wird ein Autoencoder Neural Network mit Tensorflow aufgebaut. \n",
        "\n",
        "###Betrugsanfällige Risikogruppen###\n",
        "Mit Hilfe von Supervised Learning werden mögliche Risikogruppen ermittelt, welche im Visier von Betrügern stehen.  Auf Basis eines gelabelten Datensatzes  werden die Risikogruppen nach folgenden Merkmalen unterschieden:\n",
        "\n",
        "*\tGeschlecht\n",
        "*\tAlter\n",
        "*\tZivilstand\n",
        "*\tNationalität\n",
        "*\tKontosaldo\n",
        "*\tWohnort\n",
        "*\tRegion\n",
        "\n",
        "In diesem Fall wird der Deep Learning Algorithmus Convlutional Neural Network zum Einsatz kommen.\n",
        "\n",
        "##Datensatz##\n",
        "Die im Rahmen dieser Semesterarbeit verwendeten Daten entstammen, von ihrer Datenstruktur her, aus einem bereits eingesetzten nicht ML-basierten Betrugserkennungssystem. Die Datenwerte wurde zu Wahrung der datenschutzrechtlichen und bankengesetzlichen Aspekte mit Hilfe eines Python-Scripts künstlich erzeugt und beinhalten somit keine reale Zahlungs- oder Kunden-Informationen.   \n",
        "\n",
        "Datenselektion:\n",
        "\n",
        "- 20'800 synthetische Kunden (Vorname, Name, Strasse, Ort, Kanton, Sprachregion, Geschlecht, Alter, Zivilstand,  Nationalität, Kontonummer, Vertragsnummer, Rechtsform)\n",
        "\n",
        "- 60'000 synthetische Zahlungen (Transaktionsid, ,Erstellungdatum/Zeit, Empfängerkonto, Empfängerbank, Empfängerland, Währung, Betrag, Valuta Datum)\n",
        "\n",
        "\n",
        "\n",
        "\n",
        "\n",
        "\n"
      ]
    },
    {
      "cell_type": "markdown",
      "metadata": {
        "id": "4drgj5DtlDOo",
        "colab_type": "text"
      },
      "source": [
        "#Vorbereitungen# \n"
      ]
    },
    {
      "cell_type": "code",
      "metadata": {
        "id": "M9kpR8RAjMzw",
        "colab_type": "code",
        "outputId": "3b8f67a7-bc87-451e-aa9f-a377dd9aac1e",
        "colab": {
          "base_uri": "https://localhost:8080/",
          "height": 35
        }
      },
      "source": [
        "# import packages\n",
        "\n",
        "import pandas as pd\n",
        "import numpy as np\n",
        "from scipy import stats\n",
        "import tensorflow as tf\n",
        "import matplotlib.pyplot as plt\n",
        "import seaborn as sns\n",
        "import pickle\n",
        "from sklearn.model_selection import train_test_split\n",
        "from sklearn.metrics import confusion_matrix, precision_recall_curve\n",
        "from sklearn.metrics import recall_score, classification_report, auc, roc_curve\n",
        "from sklearn.metrics import precision_recall_fscore_support, f1_score\n",
        "from sklearn.preprocessing import StandardScaler\n",
        "from pylab import rcParams\n",
        "from keras.models import Model, load_model\n",
        "from keras.layers import Input, Dense\n",
        "from keras.callbacks import ModelCheckpoint, TensorBoard\n",
        "from keras import regularizers\n",
        "%matplotlib inline\n",
        "\n"
      ],
      "execution_count": 1,
      "outputs": [
        {
          "output_type": "stream",
          "text": [
            "Using TensorFlow backend.\n"
          ],
          "name": "stderr"
        }
      ]
    },
    {
      "cell_type": "code",
      "metadata": {
        "id": "tjFPNn0wQW6_",
        "colab_type": "code",
        "colab": {
          "base_uri": "https://localhost:8080/",
          "height": 322
        },
        "outputId": "353255bd-b32d-4be9-f79f-af16dd98111d"
      },
      "source": [
        "# Laden der 600000 Transaktionsdaten \n",
        "trx_data_url = 'https://raw.githubusercontent.com/sakuronohana/cas_datenanalyse/master/Semesterarbeit/Dataset/trx_data_ml.csv'\n",
        "trx_data = pd.read_csv(trx_data_url, delimiter=';')\n",
        "\n",
        "print (trx_data.shape)\n",
        "trx_data.head()"
      ],
      "execution_count": 18,
      "outputs": [
        {
          "output_type": "stream",
          "text": [
            "(60000, 20)\n"
          ],
          "name": "stdout"
        },
        {
          "output_type": "execute_result",
          "data": {
            "text/html": [
              "<div>\n",
              "<style scoped>\n",
              "    .dataframe tbody tr th:only-of-type {\n",
              "        vertical-align: middle;\n",
              "    }\n",
              "\n",
              "    .dataframe tbody tr th {\n",
              "        vertical-align: top;\n",
              "    }\n",
              "\n",
              "    .dataframe thead th {\n",
              "        text-align: right;\n",
              "    }\n",
              "</style>\n",
              "<table border=\"1\" class=\"dataframe\">\n",
              "  <thead>\n",
              "    <tr style=\"text-align: right;\">\n",
              "      <th></th>\n",
              "      <th>timestamp</th>\n",
              "      <th>paym_id</th>\n",
              "      <th>send_bc_nr</th>\n",
              "      <th>amount</th>\n",
              "      <th>rcv_bc_nr</th>\n",
              "      <th>rcv_bc_iban</th>\n",
              "      <th>rcv_bc_country</th>\n",
              "      <th>rcv_bc_code</th>\n",
              "      <th>rcv_iban</th>\n",
              "      <th>valuta_date</th>\n",
              "      <th>cust_vertrag_nr</th>\n",
              "      <th>cust_konto_nr</th>\n",
              "      <th>cust_vname</th>\n",
              "      <th>cust_nname</th>\n",
              "      <th>cust_plz</th>\n",
              "      <th>cust_ort</th>\n",
              "      <th>cust_kanton</th>\n",
              "      <th>cust_sprachregion</th>\n",
              "      <th>cust_auth_device</th>\n",
              "      <th>fraud_id</th>\n",
              "    </tr>\n",
              "  </thead>\n",
              "  <tbody>\n",
              "    <tr>\n",
              "      <th>0</th>\n",
              "      <td>01.01.18 08:00</td>\n",
              "      <td>10000010</td>\n",
              "      <td>CHBANK71XXX</td>\n",
              "      <td>15368</td>\n",
              "      <td>JOBANK40XXX</td>\n",
              "      <td>JO02SCBL1260000000018525836101</td>\n",
              "      <td>Jordanien</td>\n",
              "      <td>JO</td>\n",
              "      <td>JO40002096331755419</td>\n",
              "      <td>01.01.18 08:00</td>\n",
              "      <td>76311</td>\n",
              "      <td>CH5300772672529640195</td>\n",
              "      <td>Martin</td>\n",
              "      <td>Bader</td>\n",
              "      <td>6020</td>\n",
              "      <td>Emmenbrücke</td>\n",
              "      <td>LU</td>\n",
              "      <td>de</td>\n",
              "      <td>mtan</td>\n",
              "      <td>0</td>\n",
              "    </tr>\n",
              "    <tr>\n",
              "      <th>1</th>\n",
              "      <td>01.01.18 08:00</td>\n",
              "      <td>10000011</td>\n",
              "      <td>CHBANK71XXX</td>\n",
              "      <td>89137</td>\n",
              "      <td>STBANK68XXX</td>\n",
              "      <td>ST23000200000289355710148</td>\n",
              "      <td>Sao Tome und Principe</td>\n",
              "      <td>ST</td>\n",
              "      <td>ST68002492808312214</td>\n",
              "      <td>01.01.18 20:00</td>\n",
              "      <td>69891</td>\n",
              "      <td>CH5300772670061796126</td>\n",
              "      <td>Margaretha</td>\n",
              "      <td>Fehr</td>\n",
              "      <td>9056</td>\n",
              "      <td>Gais</td>\n",
              "      <td>AR</td>\n",
              "      <td>de</td>\n",
              "      <td>ptan</td>\n",
              "      <td>0</td>\n",
              "    </tr>\n",
              "    <tr>\n",
              "      <th>2</th>\n",
              "      <td>01.01.18 08:01</td>\n",
              "      <td>10000012</td>\n",
              "      <td>CHBANK71XXX</td>\n",
              "      <td>87673</td>\n",
              "      <td>XKBANK43XXX</td>\n",
              "      <td>XK051301001002074155</td>\n",
              "      <td>Kosovo</td>\n",
              "      <td>XK</td>\n",
              "      <td>XK43002422391264290</td>\n",
              "      <td>02.01.18 08:01</td>\n",
              "      <td>78573</td>\n",
              "      <td>CH5300772500037725234</td>\n",
              "      <td>Daniel</td>\n",
              "      <td>Miéville</td>\n",
              "      <td>1253</td>\n",
              "      <td>Vandoeuvres</td>\n",
              "      <td>GE</td>\n",
              "      <td>fr</td>\n",
              "      <td>ptan</td>\n",
              "      <td>0</td>\n",
              "    </tr>\n",
              "    <tr>\n",
              "      <th>3</th>\n",
              "      <td>01.01.18 08:01</td>\n",
              "      <td>10000013</td>\n",
              "      <td>CHBANK71XXX</td>\n",
              "      <td>55941</td>\n",
              "      <td>RSBANK72XXX</td>\n",
              "      <td>RS35105008054113238018</td>\n",
              "      <td>Serbien</td>\n",
              "      <td>RS</td>\n",
              "      <td>RS72002873180573624</td>\n",
              "      <td>02.01.18 20:01</td>\n",
              "      <td>75443</td>\n",
              "      <td>CH5300772732508635138</td>\n",
              "      <td>Andrea</td>\n",
              "      <td>Iseni</td>\n",
              "      <td>6026</td>\n",
              "      <td>Rain</td>\n",
              "      <td>LU</td>\n",
              "      <td>de</td>\n",
              "      <td>mtan</td>\n",
              "      <td>0</td>\n",
              "    </tr>\n",
              "    <tr>\n",
              "      <th>4</th>\n",
              "      <td>01.01.18 08:02</td>\n",
              "      <td>10000014</td>\n",
              "      <td>CHBANK71XXX</td>\n",
              "      <td>88173</td>\n",
              "      <td>LIBANK48XXX</td>\n",
              "      <td>LI0308800000022875748</td>\n",
              "      <td>Liechtenstein</td>\n",
              "      <td>LI</td>\n",
              "      <td>LI48002899580343897</td>\n",
              "      <td>03.01.18 08:02</td>\n",
              "      <td>73167</td>\n",
              "      <td>CH5300772640237288398</td>\n",
              "      <td>Andrea</td>\n",
              "      <td>Pinana</td>\n",
              "      <td>6693</td>\n",
              "      <td>Broglio</td>\n",
              "      <td>TI</td>\n",
              "      <td>it</td>\n",
              "      <td>mtan</td>\n",
              "      <td>0</td>\n",
              "    </tr>\n",
              "  </tbody>\n",
              "</table>\n",
              "</div>"
            ],
            "text/plain": [
              "        timestamp   paym_id  ... cust_auth_device  fraud_id\n",
              "0  01.01.18 08:00  10000010  ...             mtan         0\n",
              "1  01.01.18 08:00  10000011  ...             ptan         0\n",
              "2  01.01.18 08:01  10000012  ...             ptan         0\n",
              "3  01.01.18 08:01  10000013  ...             mtan         0\n",
              "4  01.01.18 08:02  10000014  ...             mtan         0\n",
              "\n",
              "[5 rows x 20 columns]"
            ]
          },
          "metadata": {
            "tags": []
          },
          "execution_count": 18
        }
      ]
    },
    {
      "cell_type": "markdown",
      "metadata": {
        "id": "RjQohIZplkAi",
        "colab_type": "text"
      },
      "source": [
        "###Reduktion des Datensatzes###\n",
        "\n",
        "Der Datensatz wird auf 10000 Daten reduziert, da die für die Semesterarbeit zur Verfügung stehende Infrastruktur über zuwenig Kapazitäten verfügt um die intensiven Rechenoperationen (Encoding, PCA, NN Training) durchzuführen.\n"
      ]
    },
    {
      "cell_type": "code",
      "metadata": {
        "id": "uSzG1YVhlVDk",
        "colab_type": "code",
        "colab": {
          "base_uri": "https://localhost:8080/",
          "height": 35
        },
        "outputId": "af662066-41d7-445f-f013-c18769bbba6b"
      },
      "source": [
        "# Reduktion des Datensatzes auf 10000 \n",
        "\n",
        "trx_data = trx_data.sample(frac=0.1668)\n",
        "trx_data.shape"
      ],
      "execution_count": 19,
      "outputs": [
        {
          "output_type": "execute_result",
          "data": {
            "text/plain": [
              "(10008, 20)"
            ]
          },
          "metadata": {
            "tags": []
          },
          "execution_count": 19
        }
      ]
    },
    {
      "cell_type": "code",
      "metadata": {
        "id": "hXnzVXY4nz3f",
        "colab_type": "code",
        "colab": {
          "base_uri": "https://localhost:8080/",
          "height": 69
        },
        "outputId": "0325113b-08fe-42be-b06c-2ddfb7c1ad1f"
      },
      "source": [
        "# Verhältnis zwischen Gesamtdatensatz und Fraud-Daten prüfen\n",
        "# Fraud-Zahlungen haben Wert 1 (Label = fraud_id)\n",
        "\n",
        "pd.value_counts(trx_data['fraud_id'], sort = True)"
      ],
      "execution_count": 20,
      "outputs": [
        {
          "output_type": "execute_result",
          "data": {
            "text/plain": [
              "0    9600\n",
              "1     408\n",
              "Name: fraud_id, dtype: int64"
            ]
          },
          "metadata": {
            "tags": []
          },
          "execution_count": 20
        }
      ]
    },
    {
      "cell_type": "code",
      "metadata": {
        "id": "AAMF1GtqQZKg",
        "colab_type": "code",
        "colab": {
          "base_uri": "https://localhost:8080/",
          "height": 598
        },
        "outputId": "373cf835-3ea4-48d2-bf7c-5d85c7f5a68b"
      },
      "source": [
        "# Kleine Bereinigungsarbeiten\n",
        "\n",
        "# Erstellung von Datensatz mit benötigen Merkmalen\n",
        "\n",
        "features = ['send_bc_nr','amount','rcv_bc_nr', \n",
        "            'rcv_bc_iban','rcv_bc_country','rcv_bc_code','rcv_iban',\n",
        "            'valuta_date','cust_vertrag_nr','cust_konto_nr','cust_plz','cust_ort',\n",
        "            'cust_kanton','cust_sprachregion','cust_auth_device','fraud_id'] \n",
        "\n",
        "trx_data = pd.DataFrame((trx_data.loc[:, features].values),columns=[features])\n",
        "\n",
        "# Umwandlung von offensichtlichen nummerische werten in Integers\n",
        "#trx_data['amount'] = trx_data['amount'].convert_objects(convert_numeric=True)\n",
        "#trx_data['cust_vertrag_nr'] = trx_data['cust_vertrag_nr'].convert_objects(convert_numeric=True)\n",
        "#trx_data['cust_plz'] = trx_data['cust_plz'].convert_objects(convert_numeric=True)\n",
        "\n",
        "#Suche des Datensatzes nach Null-Werten\n",
        "trx_data.isnull().values.sum()\n",
        "\n",
        "print(trx_data.dtypes)\n",
        "trx_data.head()"
      ],
      "execution_count": 3,
      "outputs": [
        {
          "output_type": "stream",
          "text": [
            "send_bc_nr           object\n",
            "amount               object\n",
            "rcv_bc_nr            object\n",
            "rcv_bc_iban          object\n",
            "rcv_bc_country       object\n",
            "rcv_bc_code          object\n",
            "rcv_iban             object\n",
            "valuta_date          object\n",
            "cust_vertrag_nr      object\n",
            "cust_konto_nr        object\n",
            "cust_plz             object\n",
            "cust_ort             object\n",
            "cust_kanton          object\n",
            "cust_sprachregion    object\n",
            "cust_auth_device     object\n",
            "fraud_id             object\n",
            "dtype: object\n"
          ],
          "name": "stdout"
        },
        {
          "output_type": "execute_result",
          "data": {
            "text/html": [
              "<div>\n",
              "<style scoped>\n",
              "    .dataframe tbody tr th:only-of-type {\n",
              "        vertical-align: middle;\n",
              "    }\n",
              "\n",
              "    .dataframe tbody tr th {\n",
              "        vertical-align: top;\n",
              "    }\n",
              "\n",
              "    .dataframe thead tr th {\n",
              "        text-align: left;\n",
              "    }\n",
              "</style>\n",
              "<table border=\"1\" class=\"dataframe\">\n",
              "  <thead>\n",
              "    <tr>\n",
              "      <th></th>\n",
              "      <th>send_bc_nr</th>\n",
              "      <th>amount</th>\n",
              "      <th>rcv_bc_nr</th>\n",
              "      <th>rcv_bc_iban</th>\n",
              "      <th>rcv_bc_country</th>\n",
              "      <th>rcv_bc_code</th>\n",
              "      <th>rcv_iban</th>\n",
              "      <th>valuta_date</th>\n",
              "      <th>cust_vertrag_nr</th>\n",
              "      <th>cust_konto_nr</th>\n",
              "      <th>cust_plz</th>\n",
              "      <th>cust_ort</th>\n",
              "      <th>cust_kanton</th>\n",
              "      <th>cust_sprachregion</th>\n",
              "      <th>cust_auth_device</th>\n",
              "      <th>fraud_id</th>\n",
              "    </tr>\n",
              "  </thead>\n",
              "  <tbody>\n",
              "    <tr>\n",
              "      <th>0</th>\n",
              "      <td>CHBANK71XXX</td>\n",
              "      <td>15368</td>\n",
              "      <td>JOBANK40XXX</td>\n",
              "      <td>JO02SCBL1260000000018525836101</td>\n",
              "      <td>Jordanien</td>\n",
              "      <td>JO</td>\n",
              "      <td>JO40002096331755419</td>\n",
              "      <td>01.01.18 08:00</td>\n",
              "      <td>76311</td>\n",
              "      <td>CH5300772672529640195</td>\n",
              "      <td>6020</td>\n",
              "      <td>Emmenbrücke</td>\n",
              "      <td>LU</td>\n",
              "      <td>de</td>\n",
              "      <td>mtan</td>\n",
              "      <td>0</td>\n",
              "    </tr>\n",
              "    <tr>\n",
              "      <th>1</th>\n",
              "      <td>CHBANK71XXX</td>\n",
              "      <td>89137</td>\n",
              "      <td>STBANK68XXX</td>\n",
              "      <td>ST23000200000289355710148</td>\n",
              "      <td>Sao Tome und Principe</td>\n",
              "      <td>ST</td>\n",
              "      <td>ST68002492808312214</td>\n",
              "      <td>01.01.18 20:00</td>\n",
              "      <td>69891</td>\n",
              "      <td>CH5300772670061796126</td>\n",
              "      <td>9056</td>\n",
              "      <td>Gais</td>\n",
              "      <td>AR</td>\n",
              "      <td>de</td>\n",
              "      <td>ptan</td>\n",
              "      <td>0</td>\n",
              "    </tr>\n",
              "    <tr>\n",
              "      <th>2</th>\n",
              "      <td>CHBANK71XXX</td>\n",
              "      <td>87673</td>\n",
              "      <td>XKBANK43XXX</td>\n",
              "      <td>XK051301001002074155</td>\n",
              "      <td>Kosovo</td>\n",
              "      <td>XK</td>\n",
              "      <td>XK43002422391264290</td>\n",
              "      <td>02.01.18 08:01</td>\n",
              "      <td>78573</td>\n",
              "      <td>CH5300772500037725234</td>\n",
              "      <td>1253</td>\n",
              "      <td>Vandoeuvres</td>\n",
              "      <td>GE</td>\n",
              "      <td>fr</td>\n",
              "      <td>ptan</td>\n",
              "      <td>0</td>\n",
              "    </tr>\n",
              "    <tr>\n",
              "      <th>3</th>\n",
              "      <td>CHBANK71XXX</td>\n",
              "      <td>55941</td>\n",
              "      <td>RSBANK72XXX</td>\n",
              "      <td>RS35105008054113238018</td>\n",
              "      <td>Serbien</td>\n",
              "      <td>RS</td>\n",
              "      <td>RS72002873180573624</td>\n",
              "      <td>02.01.18 20:01</td>\n",
              "      <td>75443</td>\n",
              "      <td>CH5300772732508635138</td>\n",
              "      <td>6026</td>\n",
              "      <td>Rain</td>\n",
              "      <td>LU</td>\n",
              "      <td>de</td>\n",
              "      <td>mtan</td>\n",
              "      <td>0</td>\n",
              "    </tr>\n",
              "    <tr>\n",
              "      <th>4</th>\n",
              "      <td>CHBANK71XXX</td>\n",
              "      <td>88173</td>\n",
              "      <td>LIBANK48XXX</td>\n",
              "      <td>LI0308800000022875748</td>\n",
              "      <td>Liechtenstein</td>\n",
              "      <td>LI</td>\n",
              "      <td>LI48002899580343897</td>\n",
              "      <td>03.01.18 08:02</td>\n",
              "      <td>73167</td>\n",
              "      <td>CH5300772640237288398</td>\n",
              "      <td>6693</td>\n",
              "      <td>Broglio</td>\n",
              "      <td>TI</td>\n",
              "      <td>it</td>\n",
              "      <td>mtan</td>\n",
              "      <td>0</td>\n",
              "    </tr>\n",
              "  </tbody>\n",
              "</table>\n",
              "</div>"
            ],
            "text/plain": [
              "    send_bc_nr amount    rcv_bc_nr  ... cust_sprachregion cust_auth_device fraud_id\n",
              "0  CHBANK71XXX  15368  JOBANK40XXX  ...                de             mtan        0\n",
              "1  CHBANK71XXX  89137  STBANK68XXX  ...                de             ptan        0\n",
              "2  CHBANK71XXX  87673  XKBANK43XXX  ...                fr             ptan        0\n",
              "3  CHBANK71XXX  55941  RSBANK72XXX  ...                de             mtan        0\n",
              "4  CHBANK71XXX  88173  LIBANK48XXX  ...                it             mtan        0\n",
              "\n",
              "[5 rows x 16 columns]"
            ]
          },
          "metadata": {
            "tags": []
          },
          "execution_count": 3
        }
      ]
    },
    {
      "cell_type": "code",
      "metadata": {
        "id": "58LKttDap8j4",
        "colab_type": "code",
        "colab": {
          "base_uri": "https://localhost:8080/",
          "height": 322
        },
        "outputId": "19631a9f-9ff5-4e8b-f20d-855ad7fab19a"
      },
      "source": [
        "# Erstellung Datensatz mit Label für Supervised Learning wobei\n",
        "\n",
        "tdm = trx_data\n",
        "\n",
        "print (tdm.shape)\n",
        "tdm.head()"
      ],
      "execution_count": 4,
      "outputs": [
        {
          "output_type": "stream",
          "text": [
            "(60000, 16)\n"
          ],
          "name": "stdout"
        },
        {
          "output_type": "execute_result",
          "data": {
            "text/html": [
              "<div>\n",
              "<style scoped>\n",
              "    .dataframe tbody tr th:only-of-type {\n",
              "        vertical-align: middle;\n",
              "    }\n",
              "\n",
              "    .dataframe tbody tr th {\n",
              "        vertical-align: top;\n",
              "    }\n",
              "\n",
              "    .dataframe thead tr th {\n",
              "        text-align: left;\n",
              "    }\n",
              "</style>\n",
              "<table border=\"1\" class=\"dataframe\">\n",
              "  <thead>\n",
              "    <tr>\n",
              "      <th></th>\n",
              "      <th>send_bc_nr</th>\n",
              "      <th>amount</th>\n",
              "      <th>rcv_bc_nr</th>\n",
              "      <th>rcv_bc_iban</th>\n",
              "      <th>rcv_bc_country</th>\n",
              "      <th>rcv_bc_code</th>\n",
              "      <th>rcv_iban</th>\n",
              "      <th>valuta_date</th>\n",
              "      <th>cust_vertrag_nr</th>\n",
              "      <th>cust_konto_nr</th>\n",
              "      <th>cust_plz</th>\n",
              "      <th>cust_ort</th>\n",
              "      <th>cust_kanton</th>\n",
              "      <th>cust_sprachregion</th>\n",
              "      <th>cust_auth_device</th>\n",
              "      <th>fraud_id</th>\n",
              "    </tr>\n",
              "  </thead>\n",
              "  <tbody>\n",
              "    <tr>\n",
              "      <th>0</th>\n",
              "      <td>CHBANK71XXX</td>\n",
              "      <td>15368</td>\n",
              "      <td>JOBANK40XXX</td>\n",
              "      <td>JO02SCBL1260000000018525836101</td>\n",
              "      <td>Jordanien</td>\n",
              "      <td>JO</td>\n",
              "      <td>JO40002096331755419</td>\n",
              "      <td>01.01.18 08:00</td>\n",
              "      <td>76311</td>\n",
              "      <td>CH5300772672529640195</td>\n",
              "      <td>6020</td>\n",
              "      <td>Emmenbrücke</td>\n",
              "      <td>LU</td>\n",
              "      <td>de</td>\n",
              "      <td>mtan</td>\n",
              "      <td>0</td>\n",
              "    </tr>\n",
              "    <tr>\n",
              "      <th>1</th>\n",
              "      <td>CHBANK71XXX</td>\n",
              "      <td>89137</td>\n",
              "      <td>STBANK68XXX</td>\n",
              "      <td>ST23000200000289355710148</td>\n",
              "      <td>Sao Tome und Principe</td>\n",
              "      <td>ST</td>\n",
              "      <td>ST68002492808312214</td>\n",
              "      <td>01.01.18 20:00</td>\n",
              "      <td>69891</td>\n",
              "      <td>CH5300772670061796126</td>\n",
              "      <td>9056</td>\n",
              "      <td>Gais</td>\n",
              "      <td>AR</td>\n",
              "      <td>de</td>\n",
              "      <td>ptan</td>\n",
              "      <td>0</td>\n",
              "    </tr>\n",
              "    <tr>\n",
              "      <th>2</th>\n",
              "      <td>CHBANK71XXX</td>\n",
              "      <td>87673</td>\n",
              "      <td>XKBANK43XXX</td>\n",
              "      <td>XK051301001002074155</td>\n",
              "      <td>Kosovo</td>\n",
              "      <td>XK</td>\n",
              "      <td>XK43002422391264290</td>\n",
              "      <td>02.01.18 08:01</td>\n",
              "      <td>78573</td>\n",
              "      <td>CH5300772500037725234</td>\n",
              "      <td>1253</td>\n",
              "      <td>Vandoeuvres</td>\n",
              "      <td>GE</td>\n",
              "      <td>fr</td>\n",
              "      <td>ptan</td>\n",
              "      <td>0</td>\n",
              "    </tr>\n",
              "    <tr>\n",
              "      <th>3</th>\n",
              "      <td>CHBANK71XXX</td>\n",
              "      <td>55941</td>\n",
              "      <td>RSBANK72XXX</td>\n",
              "      <td>RS35105008054113238018</td>\n",
              "      <td>Serbien</td>\n",
              "      <td>RS</td>\n",
              "      <td>RS72002873180573624</td>\n",
              "      <td>02.01.18 20:01</td>\n",
              "      <td>75443</td>\n",
              "      <td>CH5300772732508635138</td>\n",
              "      <td>6026</td>\n",
              "      <td>Rain</td>\n",
              "      <td>LU</td>\n",
              "      <td>de</td>\n",
              "      <td>mtan</td>\n",
              "      <td>0</td>\n",
              "    </tr>\n",
              "    <tr>\n",
              "      <th>4</th>\n",
              "      <td>CHBANK71XXX</td>\n",
              "      <td>88173</td>\n",
              "      <td>LIBANK48XXX</td>\n",
              "      <td>LI0308800000022875748</td>\n",
              "      <td>Liechtenstein</td>\n",
              "      <td>LI</td>\n",
              "      <td>LI48002899580343897</td>\n",
              "      <td>03.01.18 08:02</td>\n",
              "      <td>73167</td>\n",
              "      <td>CH5300772640237288398</td>\n",
              "      <td>6693</td>\n",
              "      <td>Broglio</td>\n",
              "      <td>TI</td>\n",
              "      <td>it</td>\n",
              "      <td>mtan</td>\n",
              "      <td>0</td>\n",
              "    </tr>\n",
              "  </tbody>\n",
              "</table>\n",
              "</div>"
            ],
            "text/plain": [
              "    send_bc_nr amount    rcv_bc_nr  ... cust_sprachregion cust_auth_device fraud_id\n",
              "0  CHBANK71XXX  15368  JOBANK40XXX  ...                de             mtan        0\n",
              "1  CHBANK71XXX  89137  STBANK68XXX  ...                de             ptan        0\n",
              "2  CHBANK71XXX  87673  XKBANK43XXX  ...                fr             ptan        0\n",
              "3  CHBANK71XXX  55941  RSBANK72XXX  ...                de             mtan        0\n",
              "4  CHBANK71XXX  88173  LIBANK48XXX  ...                it             mtan        0\n",
              "\n",
              "[5 rows x 16 columns]"
            ]
          },
          "metadata": {
            "tags": []
          },
          "execution_count": 4
        }
      ]
    },
    {
      "cell_type": "code",
      "metadata": {
        "id": "lIzDI6k_qQ10",
        "colab_type": "code",
        "colab": {
          "base_uri": "https://localhost:8080/",
          "height": 598
        },
        "outputId": "8e6bf7e1-b28b-418c-bd16-d72fa3217f72"
      },
      "source": [
        "# Erstellung Datensatz ohne Label (fraud_id) für Unsupervised Learning\n",
        "\n",
        "features = ['send_bc_nr','amount','rcv_bc_nr', \n",
        "            'rcv_bc_iban','rcv_bc_country','rcv_bc_code','rcv_iban',\n",
        "            'valuta_date','cust_vertrag_nr','cust_konto_nr','cust_plz','cust_ort',\n",
        "            'cust_kanton','cust_sprachregion','cust_auth_device'] \n",
        "\n",
        "tdo = pd.DataFrame((trx_data.loc[:, features].values),columns=[features])\n",
        "\n",
        "# Umwandlung von offensichtlichen nummerische werten in Integers\n",
        "#tdo['amount'] = tdo['amount'].convert_objects(convert_numeric=True)\n",
        "#tdo['cust_vertrag_nr'] = tdo['cust_vertrag_nr'].convert_objects(convert_numeric=True)\n",
        "#tdo['cust_plz'] = tdo['cust_plz'].convert_objects(convert_numeric=True)\n",
        "\n",
        "print (tdo.shape)\n",
        "print (tdo.dtypes)\n",
        "tdo.head()\n",
        "\n"
      ],
      "execution_count": 5,
      "outputs": [
        {
          "output_type": "stream",
          "text": [
            "(60000, 15)\n",
            "send_bc_nr           object\n",
            "amount               object\n",
            "rcv_bc_nr            object\n",
            "rcv_bc_iban          object\n",
            "rcv_bc_country       object\n",
            "rcv_bc_code          object\n",
            "rcv_iban             object\n",
            "valuta_date          object\n",
            "cust_vertrag_nr      object\n",
            "cust_konto_nr        object\n",
            "cust_plz             object\n",
            "cust_ort             object\n",
            "cust_kanton          object\n",
            "cust_sprachregion    object\n",
            "cust_auth_device     object\n",
            "dtype: object\n"
          ],
          "name": "stdout"
        },
        {
          "output_type": "execute_result",
          "data": {
            "text/html": [
              "<div>\n",
              "<style scoped>\n",
              "    .dataframe tbody tr th:only-of-type {\n",
              "        vertical-align: middle;\n",
              "    }\n",
              "\n",
              "    .dataframe tbody tr th {\n",
              "        vertical-align: top;\n",
              "    }\n",
              "\n",
              "    .dataframe thead tr th {\n",
              "        text-align: left;\n",
              "    }\n",
              "</style>\n",
              "<table border=\"1\" class=\"dataframe\">\n",
              "  <thead>\n",
              "    <tr>\n",
              "      <th></th>\n",
              "      <th>send_bc_nr</th>\n",
              "      <th>amount</th>\n",
              "      <th>rcv_bc_nr</th>\n",
              "      <th>rcv_bc_iban</th>\n",
              "      <th>rcv_bc_country</th>\n",
              "      <th>rcv_bc_code</th>\n",
              "      <th>rcv_iban</th>\n",
              "      <th>valuta_date</th>\n",
              "      <th>cust_vertrag_nr</th>\n",
              "      <th>cust_konto_nr</th>\n",
              "      <th>cust_plz</th>\n",
              "      <th>cust_ort</th>\n",
              "      <th>cust_kanton</th>\n",
              "      <th>cust_sprachregion</th>\n",
              "      <th>cust_auth_device</th>\n",
              "    </tr>\n",
              "  </thead>\n",
              "  <tbody>\n",
              "    <tr>\n",
              "      <th>0</th>\n",
              "      <td>CHBANK71XXX</td>\n",
              "      <td>15368</td>\n",
              "      <td>JOBANK40XXX</td>\n",
              "      <td>JO02SCBL1260000000018525836101</td>\n",
              "      <td>Jordanien</td>\n",
              "      <td>JO</td>\n",
              "      <td>JO40002096331755419</td>\n",
              "      <td>01.01.18 08:00</td>\n",
              "      <td>76311</td>\n",
              "      <td>CH5300772672529640195</td>\n",
              "      <td>6020</td>\n",
              "      <td>Emmenbrücke</td>\n",
              "      <td>LU</td>\n",
              "      <td>de</td>\n",
              "      <td>mtan</td>\n",
              "    </tr>\n",
              "    <tr>\n",
              "      <th>1</th>\n",
              "      <td>CHBANK71XXX</td>\n",
              "      <td>89137</td>\n",
              "      <td>STBANK68XXX</td>\n",
              "      <td>ST23000200000289355710148</td>\n",
              "      <td>Sao Tome und Principe</td>\n",
              "      <td>ST</td>\n",
              "      <td>ST68002492808312214</td>\n",
              "      <td>01.01.18 20:00</td>\n",
              "      <td>69891</td>\n",
              "      <td>CH5300772670061796126</td>\n",
              "      <td>9056</td>\n",
              "      <td>Gais</td>\n",
              "      <td>AR</td>\n",
              "      <td>de</td>\n",
              "      <td>ptan</td>\n",
              "    </tr>\n",
              "    <tr>\n",
              "      <th>2</th>\n",
              "      <td>CHBANK71XXX</td>\n",
              "      <td>87673</td>\n",
              "      <td>XKBANK43XXX</td>\n",
              "      <td>XK051301001002074155</td>\n",
              "      <td>Kosovo</td>\n",
              "      <td>XK</td>\n",
              "      <td>XK43002422391264290</td>\n",
              "      <td>02.01.18 08:01</td>\n",
              "      <td>78573</td>\n",
              "      <td>CH5300772500037725234</td>\n",
              "      <td>1253</td>\n",
              "      <td>Vandoeuvres</td>\n",
              "      <td>GE</td>\n",
              "      <td>fr</td>\n",
              "      <td>ptan</td>\n",
              "    </tr>\n",
              "    <tr>\n",
              "      <th>3</th>\n",
              "      <td>CHBANK71XXX</td>\n",
              "      <td>55941</td>\n",
              "      <td>RSBANK72XXX</td>\n",
              "      <td>RS35105008054113238018</td>\n",
              "      <td>Serbien</td>\n",
              "      <td>RS</td>\n",
              "      <td>RS72002873180573624</td>\n",
              "      <td>02.01.18 20:01</td>\n",
              "      <td>75443</td>\n",
              "      <td>CH5300772732508635138</td>\n",
              "      <td>6026</td>\n",
              "      <td>Rain</td>\n",
              "      <td>LU</td>\n",
              "      <td>de</td>\n",
              "      <td>mtan</td>\n",
              "    </tr>\n",
              "    <tr>\n",
              "      <th>4</th>\n",
              "      <td>CHBANK71XXX</td>\n",
              "      <td>88173</td>\n",
              "      <td>LIBANK48XXX</td>\n",
              "      <td>LI0308800000022875748</td>\n",
              "      <td>Liechtenstein</td>\n",
              "      <td>LI</td>\n",
              "      <td>LI48002899580343897</td>\n",
              "      <td>03.01.18 08:02</td>\n",
              "      <td>73167</td>\n",
              "      <td>CH5300772640237288398</td>\n",
              "      <td>6693</td>\n",
              "      <td>Broglio</td>\n",
              "      <td>TI</td>\n",
              "      <td>it</td>\n",
              "      <td>mtan</td>\n",
              "    </tr>\n",
              "  </tbody>\n",
              "</table>\n",
              "</div>"
            ],
            "text/plain": [
              "    send_bc_nr amount  ... cust_sprachregion cust_auth_device\n",
              "0  CHBANK71XXX  15368  ...                de             mtan\n",
              "1  CHBANK71XXX  89137  ...                de             ptan\n",
              "2  CHBANK71XXX  87673  ...                fr             ptan\n",
              "3  CHBANK71XXX  55941  ...                de             mtan\n",
              "4  CHBANK71XXX  88173  ...                it             mtan\n",
              "\n",
              "[5 rows x 15 columns]"
            ]
          },
          "metadata": {
            "tags": []
          },
          "execution_count": 5
        }
      ]
    },
    {
      "cell_type": "code",
      "metadata": {
        "id": "1JJT0VCeNyv5",
        "colab_type": "code",
        "colab": {}
      },
      "source": [
        "tdo.dropna(inplace=True)"
      ],
      "execution_count": 0,
      "outputs": []
    },
    {
      "cell_type": "markdown",
      "metadata": {
        "id": "TmODZafznm1I",
        "colab_type": "text"
      },
      "source": [
        "##Vorbereitung für Datenverarbeitung ##"
      ]
    },
    {
      "cell_type": "markdown",
      "metadata": {
        "id": "hBkBB-QLYE35",
        "colab_type": "text"
      },
      "source": [
        "###Encoding der Daten###\n",
        "\n",
        "Die importierten Daten werden als Object bzw. kategorische Daten ausgewiesen. Damit die Daten im Maschine Learning verwendet werden können müssen sie in nummerische Daten umgewandelt werden. Was natürlch nicht so ganz einfach ist wie es sich anhört, da eine hohe Anzahl von kategorischen Werten in einem Datensatz bei der Encodierung zu einer Vervielfachung der Features führt. \n",
        "Hat Beispielsweise eine Features 300 verschiedene Werte, dann entstehen bei der Encodierung auch 300 Features (Spalten)."
      ]
    },
    {
      "cell_type": "code",
      "metadata": {
        "id": "D2GAbTbYoRZ6",
        "colab_type": "code",
        "outputId": "1df91119-7581-4b98-867b-ec13bd643ccb",
        "colab": {
          "base_uri": "https://localhost:8080/",
          "height": 72
        }
      },
      "source": [
        "# Encoding mittels Get_Dummies von Pandas.\n",
        "tdoe = pd.DataFrame(pd.get_dummies(tdo, columns=['send_bc_nr','rcv_bc_nr', \n",
        "            'rcv_bc_iban','rcv_bc_country','rcv_bc_code','rcv_iban',\n",
        "            'valuta_date','cust_konto_nr','cust_ort',\n",
        "            'cust_kanton','cust_sprachregion','cust_auth_device'],drop_first=True))\n",
        "                            \n",
        "\n",
        "\n",
        "tdoe.head()"
      ],
      "execution_count": 0,
      "outputs": [
        {
          "output_type": "stream",
          "text": [
            "/usr/local/lib/python3.6/dist-packages/pandas/core/generic.py:3812: PerformanceWarning: dropping on a non-lexsorted multi-index without a level parameter may impact performance.\n",
            "  new_axis = axis.drop(labels, errors=errors)\n"
          ],
          "name": "stderr"
        }
      ]
    },
    {
      "cell_type": "code",
      "metadata": {
        "id": "DpnhP01ZvgXX",
        "colab_type": "code",
        "colab": {
          "base_uri": "https://localhost:8080/",
          "height": 35
        },
        "outputId": "276f2c14-72f7-4472-a7de-5ba9c50453ba"
      },
      "source": [
        "tdoe_small = tdoe.sample(frac=0.17)\n",
        "tdoe_small.shape"
      ],
      "execution_count": 42,
      "outputs": [
        {
          "output_type": "execute_result",
          "data": {
            "text/plain": [
              "(10200, 141354)"
            ]
          },
          "metadata": {
            "tags": []
          },
          "execution_count": 42
        }
      ]
    },
    {
      "cell_type": "markdown",
      "metadata": {
        "id": "83xNdxJPnPAk",
        "colab_type": "text"
      },
      "source": [
        "###Standardisierung der Daten###\n",
        "\n",
        "Zur optimalen Verwendung der Daten für ein Neuronales Netzwerk werden die Daten in ein einheitliches Format gebracht."
      ]
    },
    {
      "cell_type": "code",
      "metadata": {
        "id": "gkTWy6vtvqhd",
        "colab_type": "code",
        "colab": {
          "base_uri": "https://localhost:8080/",
          "height": 124
        },
        "outputId": "57840712-15c3-4c48-9929-0db948cfe8a5"
      },
      "source": [
        "tdoe_small = StandardScaler().fit_transform(tdoe_small)\n",
        "tdoe_small.shape"
      ],
      "execution_count": 43,
      "outputs": [
        {
          "output_type": "stream",
          "text": [
            "/Users/dili/anaconda3/lib/python3.6/site-packages/sklearn/preprocessing/data.py:625: DataConversionWarning: Data with input dtype uint8, object were all converted to float64 by StandardScaler.\n",
            "  return self.partial_fit(X, y)\n",
            "/Users/dili/anaconda3/lib/python3.6/site-packages/sklearn/base.py:462: DataConversionWarning: Data with input dtype uint8, object were all converted to float64 by StandardScaler.\n",
            "  return self.fit(X, **fit_params).transform(X)\n"
          ],
          "name": "stderr"
        },
        {
          "output_type": "execute_result",
          "data": {
            "text/plain": [
              "(10200, 141354)"
            ]
          },
          "metadata": {
            "tags": []
          },
          "execution_count": 43
        }
      ]
    },
    {
      "cell_type": "code",
      "metadata": {
        "id": "MdkcZPWRy-pV",
        "colab_type": "code",
        "colab": {}
      },
      "source": [
        "from sklearn.decomposition import PCA\n",
        "\n",
        "pca = PCA(.90)\n",
        "\n"
      ],
      "execution_count": 0,
      "outputs": []
    },
    {
      "cell_type": "code",
      "metadata": {
        "id": "9cQLSvMAE9Oj",
        "colab_type": "code",
        "colab": {
          "base_uri": "https://localhost:8080/",
          "height": 185
        },
        "outputId": "80be2cd1-d7f9-450a-b155-1f13716e4b1f"
      },
      "source": [
        "pca.fit(tdoe_small)"
      ],
      "execution_count": 2,
      "outputs": [
        {
          "output_type": "error",
          "ename": "NameError",
          "evalue": "ignored",
          "traceback": [
            "\u001b[0;31m---------------------------------------------------------------------------\u001b[0m",
            "\u001b[0;31mNameError\u001b[0m                                 Traceback (most recent call last)",
            "\u001b[0;32m<ipython-input-2-fee2a3f02471>\u001b[0m in \u001b[0;36m<module>\u001b[0;34m\u001b[0m\n\u001b[0;32m----> 1\u001b[0;31m \u001b[0mpca\u001b[0m\u001b[0;34m.\u001b[0m\u001b[0mfit\u001b[0m\u001b[0;34m(\u001b[0m\u001b[0mtdoe_small\u001b[0m\u001b[0;34m)\u001b[0m\u001b[0;34m\u001b[0m\u001b[0;34m\u001b[0m\u001b[0m\n\u001b[0m",
            "\u001b[0;31mNameError\u001b[0m: name 'pca' is not defined"
          ]
        }
      ]
    },
    {
      "cell_type": "code",
      "metadata": {
        "id": "b-Fpxwmk0FR9",
        "colab_type": "code",
        "colab": {}
      },
      "source": [
        "tdoesp = pca.transform(tdoe_small)"
      ],
      "execution_count": 0,
      "outputs": []
    },
    {
      "cell_type": "code",
      "metadata": {
        "id": "4IZgmlLX-71t",
        "colab_type": "code",
        "colab": {}
      },
      "source": [
        "tdoesp.shape"
      ],
      "execution_count": 0,
      "outputs": []
    },
    {
      "cell_type": "markdown",
      "metadata": {
        "id": "Lz_l4l9VX0jr",
        "colab_type": "text"
      },
      "source": [
        "#Erkennung von Betrugszahlungen# \n",
        "\n",
        "##Unsupervised Learning mit neuronalen Netzwerken##"
      ]
    },
    {
      "cell_type": "markdown",
      "metadata": {
        "id": "LOpc1G2kPtNB",
        "colab_type": "text"
      },
      "source": [
        "**Datensatz in Trainings- und Testingdatensatz aufteilen**\n",
        "\n",
        "Da wir über einen relative grosses Datenset verfügen können wir eine klassisches Spliting der Daten durchführen d.h. 80% (48'000)/20% (12'000) \n"
      ]
    },
    {
      "cell_type": "code",
      "metadata": {
        "id": "3bZxuuhWRook",
        "colab_type": "code",
        "outputId": "2255a214-5446-4194-be29-207f1a178a95",
        "colab": {
          "base_uri": "https://localhost:8080/",
          "height": 52
        }
      },
      "source": [
        "from sklearn.model_selection import train_test_split\n",
        "tdoesp_train, tdoesp_test = train_test_split(tdoesp,test_size=0.2, random_state = 70)\n",
        "\n",
        "print ('Grösse Trainingsdatesatz (Shape) = ', tdoesp_train.shape)\n",
        "print ('Grösse Testdatensatz (Shape) =', tdoesp_test.shape)"
      ],
      "execution_count": 14,
      "outputs": [
        {
          "output_type": "stream",
          "text": [
            "Grösse Trainingsdatesatz (Shape) =  (2400, 2789)\n",
            "Grösse Testdatensatz (Shape) = (600, 2789)\n"
          ],
          "name": "stdout"
        }
      ]
    },
    {
      "cell_type": "code",
      "metadata": {
        "id": "3wbzV5hWsyLo",
        "colab_type": "code",
        "outputId": "54aa36d4-eff2-4888-d882-d4269c8545fb",
        "colab": {
          "base_uri": "https://localhost:8080/",
          "height": 52
        }
      },
      "source": [
        "#Erstellung eines kleines Trainingsdatensets für die Überprüfung \n",
        "#der NN Funktionalität\n",
        "\n",
        "tdo_small_train = tdo_train.sample(frac=0.1)\n",
        "tdo_small_test = tdo_small_train.sample(frac=0.2)\n",
        "print (tdo_small_train.shape)\n",
        "print (tdo_small_test.shape)"
      ],
      "execution_count": 0,
      "outputs": [
        {
          "output_type": "stream",
          "text": [
            "(4800, 86027)\n",
            "(960, 86027)\n"
          ],
          "name": "stdout"
        }
      ]
    },
    {
      "cell_type": "markdown",
      "metadata": {
        "id": "yFc3cqUKZOMF",
        "colab_type": "text"
      },
      "source": [
        "###Modell Training###\n",
        "\n",
        "Nachfolgenden werden wir ein neuronales Netzwerk definieren und dieses mit den oben bearbeiteten Daten trainieren.\n",
        "\n",
        "Für den Aufbau des neuronalen Netzwerks werden ich die Machine Learning Library **TensorFlow** von Google verwenden."
      ]
    },
    {
      "cell_type": "markdown",
      "metadata": {
        "id": "KfTD7txqbgiY",
        "colab_type": "text"
      },
      "source": [
        "**TensorFlow laden und Hyperparameter definieren**"
      ]
    },
    {
      "cell_type": "markdown",
      "metadata": {
        "id": "s10dtH9h-VLv",
        "colab_type": "text"
      },
      "source": [
        "https://www.datascience.com/blog/fraud-detection-with-tensorflow"
      ]
    },
    {
      "cell_type": "code",
      "metadata": {
        "id": "eozbqvhW-W7F",
        "colab_type": "code",
        "colab": {}
      },
      "source": [
        "nb_epoch = 100\n",
        "batch_size = 128\n",
        "input_dim = tdoesp_train.shape[1] #num of columns, 30\n",
        "encoding_dim = 14\n",
        "hidden_dim = int(encoding_dim / 2) #i.e. 7\n",
        "learning_rate = 0.001#1e-7\n",
        "\n",
        "input_layer = Input(shape=(input_dim, ))\n",
        "encoder = Dense(encoding_dim, activation=\"tanh\", activity_regularizer=regularizers.l1(learning_rate))(input_layer)\n",
        "encoder = Dense(hidden_dim, activation=\"relu\")(encoder)\n",
        "decoder = Dense(hidden_dim, activation='tanh')(encoder)\n",
        "decoder = Dense(input_dim, activation='relu')(decoder)\n",
        "autoencoder = Model(inputs=input_layer, outputs=decoder)"
      ],
      "execution_count": 0,
      "outputs": []
    },
    {
      "cell_type": "code",
      "metadata": {
        "id": "WwYkBXu1DQJB",
        "colab_type": "code",
        "outputId": "928baaf0-9517-4137-d7c6-a4928df0dd57",
        "colab": {
          "base_uri": "https://localhost:8080/",
          "height": 3509
        }
      },
      "source": [
        "autoencoder.compile(metrics=['accuracy'],\n",
        "                    loss='mean_squared_error',\n",
        "                    optimizer='adam')\n",
        "\n",
        "cp = ModelCheckpoint(filepath=\"autoencoder_fraud.h5\",\n",
        "                               save_best_only=True,\n",
        "                               verbose=0)\n",
        "\n",
        "tb = TensorBoard(log_dir='./logs',\n",
        "                histogram_freq=0,\n",
        "                write_graph=True,\n",
        "                write_images=True)\n",
        "\n",
        "history = autoencoder.fit(tdoesp_train,tdoesp_train,\n",
        "                    epochs=nb_epoch,\n",
        "                    batch_size=batch_size,\n",
        "                    shuffle=True,\n",
        "                    validation_data=(tdoesp_test,tdoesp_test),\n",
        "                    verbose=1,\n",
        "                    callbacks=[cp, tb]).history"
      ],
      "execution_count": 19,
      "outputs": [
        {
          "output_type": "stream",
          "text": [
            "Train on 2400 samples, validate on 600 samples\n",
            "Epoch 1/100\n",
            "2400/2400 [==============================] - 0s 188us/step - loss: 3.2563 - acc: 0.0013 - val_loss: 3.2594 - val_acc: 0.0000e+00\n",
            "Epoch 2/100\n",
            "2400/2400 [==============================] - 0s 91us/step - loss: 3.2551 - acc: 8.3333e-04 - val_loss: 3.2594 - val_acc: 0.0000e+00\n",
            "Epoch 3/100\n",
            "2400/2400 [==============================] - 0s 89us/step - loss: 3.2545 - acc: 0.0025 - val_loss: 3.2596 - val_acc: 0.0000e+00\n",
            "Epoch 4/100\n",
            "2400/2400 [==============================] - 0s 89us/step - loss: 3.2540 - acc: 0.0029 - val_loss: 3.2598 - val_acc: 0.0017\n",
            "Epoch 5/100\n",
            "2400/2400 [==============================] - 0s 86us/step - loss: 3.2535 - acc: 0.0017 - val_loss: 3.2600 - val_acc: 0.0000e+00\n",
            "Epoch 6/100\n",
            "2400/2400 [==============================] - 0s 87us/step - loss: 3.2531 - acc: 0.0025 - val_loss: 3.2602 - val_acc: 0.0000e+00\n",
            "Epoch 7/100\n",
            "2400/2400 [==============================] - 0s 86us/step - loss: 3.2527 - acc: 0.0025 - val_loss: 3.2604 - val_acc: 0.0000e+00\n",
            "Epoch 8/100\n",
            "2400/2400 [==============================] - 0s 85us/step - loss: 3.2523 - acc: 0.0033 - val_loss: 3.2606 - val_acc: 0.0000e+00\n",
            "Epoch 9/100\n",
            "2400/2400 [==============================] - 0s 85us/step - loss: 3.2520 - acc: 0.0025 - val_loss: 3.2608 - val_acc: 0.0000e+00\n",
            "Epoch 10/100\n",
            "2400/2400 [==============================] - 0s 87us/step - loss: 3.2517 - acc: 0.0042 - val_loss: 3.2610 - val_acc: 0.0000e+00\n",
            "Epoch 11/100\n",
            "2400/2400 [==============================] - 0s 90us/step - loss: 3.2514 - acc: 0.0033 - val_loss: 3.2612 - val_acc: 0.0017\n",
            "Epoch 12/100\n",
            "2400/2400 [==============================] - 0s 96us/step - loss: 3.2511 - acc: 0.0025 - val_loss: 3.2614 - val_acc: 0.0000e+00\n",
            "Epoch 13/100\n",
            "2400/2400 [==============================] - 0s 73us/step - loss: 3.2508 - acc: 0.0046 - val_loss: 3.2616 - val_acc: 0.0017\n",
            "Epoch 14/100\n",
            "2400/2400 [==============================] - 0s 74us/step - loss: 3.2506 - acc: 0.0029 - val_loss: 3.2618 - val_acc: 0.0017\n",
            "Epoch 15/100\n",
            "2400/2400 [==============================] - 0s 79us/step - loss: 3.2503 - acc: 0.0042 - val_loss: 3.2619 - val_acc: 0.0017\n",
            "Epoch 16/100\n",
            "2400/2400 [==============================] - 0s 73us/step - loss: 3.2501 - acc: 0.0050 - val_loss: 3.2620 - val_acc: 0.0017\n",
            "Epoch 17/100\n",
            "2400/2400 [==============================] - 0s 72us/step - loss: 3.2498 - acc: 0.0046 - val_loss: 3.2622 - val_acc: 0.0017\n",
            "Epoch 18/100\n",
            "2400/2400 [==============================] - 0s 72us/step - loss: 3.2496 - acc: 0.0037 - val_loss: 3.2623 - val_acc: 0.0017\n",
            "Epoch 19/100\n",
            "2400/2400 [==============================] - 0s 71us/step - loss: 3.2494 - acc: 0.0033 - val_loss: 3.2625 - val_acc: 0.0017\n",
            "Epoch 20/100\n",
            "2400/2400 [==============================] - 0s 72us/step - loss: 3.2492 - acc: 0.0042 - val_loss: 3.2626 - val_acc: 0.0017\n",
            "Epoch 21/100\n",
            "2400/2400 [==============================] - 0s 72us/step - loss: 3.2490 - acc: 0.0050 - val_loss: 3.2627 - val_acc: 0.0017\n",
            "Epoch 22/100\n",
            "2400/2400 [==============================] - 0s 69us/step - loss: 3.2488 - acc: 0.0042 - val_loss: 3.2629 - val_acc: 0.0017\n",
            "Epoch 23/100\n",
            "2400/2400 [==============================] - 0s 72us/step - loss: 3.2487 - acc: 0.0042 - val_loss: 3.2630 - val_acc: 0.0017\n",
            "Epoch 24/100\n",
            "2400/2400 [==============================] - 0s 70us/step - loss: 3.2485 - acc: 0.0042 - val_loss: 3.2631 - val_acc: 0.0017\n",
            "Epoch 25/100\n",
            "2400/2400 [==============================] - 0s 69us/step - loss: 3.2483 - acc: 0.0042 - val_loss: 3.2632 - val_acc: 0.0017\n",
            "Epoch 26/100\n",
            "2400/2400 [==============================] - 0s 70us/step - loss: 3.2482 - acc: 0.0046 - val_loss: 3.2633 - val_acc: 0.0017\n",
            "Epoch 27/100\n",
            "2400/2400 [==============================] - 0s 76us/step - loss: 3.2480 - acc: 0.0042 - val_loss: 3.2634 - val_acc: 0.0017\n",
            "Epoch 28/100\n",
            "2400/2400 [==============================] - 0s 68us/step - loss: 3.2479 - acc: 0.0042 - val_loss: 3.2635 - val_acc: 0.0017\n",
            "Epoch 29/100\n",
            "2400/2400 [==============================] - 0s 73us/step - loss: 3.2478 - acc: 0.0063 - val_loss: 3.2636 - val_acc: 0.0017\n",
            "Epoch 30/100\n",
            "2400/2400 [==============================] - 0s 87us/step - loss: 3.2476 - acc: 0.0058 - val_loss: 3.2637 - val_acc: 0.0017\n",
            "Epoch 31/100\n",
            "2400/2400 [==============================] - 0s 67us/step - loss: 3.2475 - acc: 0.0058 - val_loss: 3.2638 - val_acc: 0.0017\n",
            "Epoch 32/100\n",
            "2400/2400 [==============================] - 0s 68us/step - loss: 3.2474 - acc: 0.0071 - val_loss: 3.2639 - val_acc: 0.0017\n",
            "Epoch 33/100\n",
            "2400/2400 [==============================] - 0s 69us/step - loss: 3.2472 - acc: 0.0067 - val_loss: 3.2640 - val_acc: 0.0017\n",
            "Epoch 34/100\n",
            "2400/2400 [==============================] - 0s 68us/step - loss: 3.2471 - acc: 0.0071 - val_loss: 3.2641 - val_acc: 0.0017\n",
            "Epoch 35/100\n",
            "2400/2400 [==============================] - 0s 67us/step - loss: 3.2470 - acc: 0.0075 - val_loss: 3.2642 - val_acc: 0.0017\n",
            "Epoch 36/100\n",
            "2400/2400 [==============================] - 0s 68us/step - loss: 3.2469 - acc: 0.0075 - val_loss: 3.2643 - val_acc: 0.0017\n",
            "Epoch 37/100\n",
            "2400/2400 [==============================] - 0s 66us/step - loss: 3.2468 - acc: 0.0079 - val_loss: 3.2643 - val_acc: 0.0017\n",
            "Epoch 38/100\n",
            "2400/2400 [==============================] - 0s 67us/step - loss: 3.2466 - acc: 0.0079 - val_loss: 3.2644 - val_acc: 0.0017\n",
            "Epoch 39/100\n",
            "2400/2400 [==============================] - 0s 69us/step - loss: 3.2465 - acc: 0.0071 - val_loss: 3.2645 - val_acc: 0.0017\n",
            "Epoch 40/100\n",
            "2400/2400 [==============================] - 0s 66us/step - loss: 3.2464 - acc: 0.0087 - val_loss: 3.2645 - val_acc: 0.0017\n",
            "Epoch 41/100\n",
            "2400/2400 [==============================] - 0s 70us/step - loss: 3.2463 - acc: 0.0083 - val_loss: 3.2646 - val_acc: 0.0017\n",
            "Epoch 42/100\n",
            "2400/2400 [==============================] - 0s 71us/step - loss: 3.2462 - acc: 0.0075 - val_loss: 3.2647 - val_acc: 0.0017\n",
            "Epoch 43/100\n",
            "2400/2400 [==============================] - 0s 69us/step - loss: 3.2461 - acc: 0.0083 - val_loss: 3.2647 - val_acc: 0.0000e+00\n",
            "Epoch 44/100\n",
            "2400/2400 [==============================] - 0s 72us/step - loss: 3.2460 - acc: 0.0088 - val_loss: 3.2648 - val_acc: 0.0000e+00\n",
            "Epoch 45/100\n",
            "2400/2400 [==============================] - 0s 89us/step - loss: 3.2459 - acc: 0.0096 - val_loss: 3.2649 - val_acc: 0.0000e+00\n",
            "Epoch 46/100\n",
            "2400/2400 [==============================] - 0s 71us/step - loss: 3.2458 - acc: 0.0092 - val_loss: 3.2650 - val_acc: 0.0000e+00\n",
            "Epoch 47/100\n",
            "2400/2400 [==============================] - 0s 87us/step - loss: 3.2458 - acc: 0.0092 - val_loss: 3.2650 - val_acc: 0.0000e+00\n",
            "Epoch 48/100\n",
            "2400/2400 [==============================] - 0s 73us/step - loss: 3.2457 - acc: 0.0096 - val_loss: 3.2651 - val_acc: 0.0000e+00\n",
            "Epoch 49/100\n",
            "2400/2400 [==============================] - 0s 75us/step - loss: 3.2456 - acc: 0.0096 - val_loss: 3.2651 - val_acc: 0.0000e+00\n",
            "Epoch 50/100\n",
            "2400/2400 [==============================] - 0s 72us/step - loss: 3.2455 - acc: 0.0083 - val_loss: 3.2651 - val_acc: 0.0000e+00\n",
            "Epoch 51/100\n",
            "2400/2400 [==============================] - 0s 69us/step - loss: 3.2454 - acc: 0.0079 - val_loss: 3.2652 - val_acc: 0.0000e+00\n",
            "Epoch 52/100\n",
            "2400/2400 [==============================] - 0s 70us/step - loss: 3.2454 - acc: 0.0092 - val_loss: 3.2652 - val_acc: 0.0000e+00\n",
            "Epoch 53/100\n",
            "2400/2400 [==============================] - 0s 71us/step - loss: 3.2453 - acc: 0.0088 - val_loss: 3.2653 - val_acc: 0.0000e+00\n",
            "Epoch 54/100\n",
            "2400/2400 [==============================] - 0s 69us/step - loss: 3.2452 - acc: 0.0092 - val_loss: 3.2654 - val_acc: 0.0000e+00\n",
            "Epoch 55/100\n",
            "2400/2400 [==============================] - 0s 70us/step - loss: 3.2451 - acc: 0.0092 - val_loss: 3.2654 - val_acc: 0.0000e+00\n",
            "Epoch 56/100\n",
            "2400/2400 [==============================] - 0s 75us/step - loss: 3.2450 - acc: 0.0108 - val_loss: 3.2654 - val_acc: 0.0000e+00\n",
            "Epoch 57/100\n",
            "2400/2400 [==============================] - 0s 77us/step - loss: 3.2449 - acc: 0.0100 - val_loss: 3.2655 - val_acc: 0.0000e+00\n",
            "Epoch 58/100\n",
            "2400/2400 [==============================] - 0s 75us/step - loss: 3.2449 - acc: 0.0096 - val_loss: 3.2656 - val_acc: 0.0000e+00\n",
            "Epoch 59/100\n",
            "2400/2400 [==============================] - 0s 72us/step - loss: 3.2448 - acc: 0.0096 - val_loss: 3.2656 - val_acc: 0.0000e+00\n",
            "Epoch 60/100\n",
            "2400/2400 [==============================] - 0s 72us/step - loss: 3.2447 - acc: 0.0104 - val_loss: 3.2657 - val_acc: 0.0033\n",
            "Epoch 61/100\n",
            "2400/2400 [==============================] - 0s 71us/step - loss: 3.2447 - acc: 0.0104 - val_loss: 3.2658 - val_acc: 0.0017\n",
            "Epoch 62/100\n",
            "2400/2400 [==============================] - 0s 69us/step - loss: 3.2446 - acc: 0.0104 - val_loss: 3.2658 - val_acc: 0.0033\n",
            "Epoch 63/100\n",
            "2400/2400 [==============================] - 0s 73us/step - loss: 3.2445 - acc: 0.0100 - val_loss: 3.2659 - val_acc: 0.0033\n",
            "Epoch 64/100\n",
            "2400/2400 [==============================] - 0s 70us/step - loss: 3.2445 - acc: 0.0096 - val_loss: 3.2659 - val_acc: 0.0017\n",
            "Epoch 65/100\n",
            "2400/2400 [==============================] - 0s 72us/step - loss: 3.2444 - acc: 0.0096 - val_loss: 3.2660 - val_acc: 0.0017\n",
            "Epoch 66/100\n",
            "2400/2400 [==============================] - 0s 73us/step - loss: 3.2444 - acc: 0.0092 - val_loss: 3.2661 - val_acc: 0.0017\n",
            "Epoch 67/100\n",
            "2400/2400 [==============================] - 0s 71us/step - loss: 3.2443 - acc: 0.0100 - val_loss: 3.2661 - val_acc: 0.0017\n",
            "Epoch 68/100\n",
            "2400/2400 [==============================] - 0s 69us/step - loss: 3.2442 - acc: 0.0096 - val_loss: 3.2661 - val_acc: 0.0017\n",
            "Epoch 69/100\n",
            "2400/2400 [==============================] - 0s 72us/step - loss: 3.2442 - acc: 0.0092 - val_loss: 3.2662 - val_acc: 0.0017\n",
            "Epoch 70/100\n",
            "2400/2400 [==============================] - 0s 69us/step - loss: 3.2441 - acc: 0.0092 - val_loss: 3.2662 - val_acc: 0.0017\n",
            "Epoch 71/100\n",
            "2400/2400 [==============================] - 0s 71us/step - loss: 3.2440 - acc: 0.0087 - val_loss: 3.2662 - val_acc: 0.0000e+00\n",
            "Epoch 72/100\n",
            "2400/2400 [==============================] - 0s 70us/step - loss: 3.2440 - acc: 0.0088 - val_loss: 3.2663 - val_acc: 0.0000e+00\n",
            "Epoch 73/100\n",
            "2400/2400 [==============================] - 0s 75us/step - loss: 3.2439 - acc: 0.0100 - val_loss: 3.2663 - val_acc: 0.0000e+00\n",
            "Epoch 74/100\n",
            "2400/2400 [==============================] - 0s 79us/step - loss: 3.2439 - acc: 0.0096 - val_loss: 3.2663 - val_acc: 0.0000e+00\n",
            "Epoch 75/100\n",
            "2400/2400 [==============================] - 0s 73us/step - loss: 3.2438 - acc: 0.0100 - val_loss: 3.2663 - val_acc: 0.0017\n",
            "Epoch 76/100\n",
            "2400/2400 [==============================] - 0s 74us/step - loss: 3.2438 - acc: 0.0100 - val_loss: 3.2664 - val_acc: 0.0000e+00\n",
            "Epoch 77/100\n",
            "2400/2400 [==============================] - 0s 70us/step - loss: 3.2437 - acc: 0.0104 - val_loss: 3.2664 - val_acc: 0.0017\n",
            "Epoch 78/100\n",
            "2400/2400 [==============================] - 0s 74us/step - loss: 3.2436 - acc: 0.0100 - val_loss: 3.2665 - val_acc: 0.0017\n",
            "Epoch 79/100\n",
            "2400/2400 [==============================] - 0s 72us/step - loss: 3.2436 - acc: 0.0104 - val_loss: 3.2665 - val_acc: 0.0017\n",
            "Epoch 80/100\n",
            "2400/2400 [==============================] - 0s 71us/step - loss: 3.2435 - acc: 0.0108 - val_loss: 3.2665 - val_acc: 0.0017\n",
            "Epoch 81/100\n",
            "2400/2400 [==============================] - 0s 72us/step - loss: 3.2435 - acc: 0.0108 - val_loss: 3.2665 - val_acc: 0.0017\n",
            "Epoch 82/100\n",
            "2400/2400 [==============================] - 0s 77us/step - loss: 3.2435 - acc: 0.0108 - val_loss: 3.2666 - val_acc: 0.0017\n",
            "Epoch 83/100\n",
            "2400/2400 [==============================] - 0s 79us/step - loss: 3.2435 - acc: 0.0113 - val_loss: 3.2666 - val_acc: 0.0000e+00\n",
            "Epoch 84/100\n",
            "2400/2400 [==============================] - 0s 74us/step - loss: 3.2434 - acc: 0.0113 - val_loss: 3.2666 - val_acc: 0.0017\n",
            "Epoch 85/100\n",
            "2400/2400 [==============================] - 0s 73us/step - loss: 3.2433 - acc: 0.0113 - val_loss: 3.2667 - val_acc: 0.0017\n",
            "Epoch 86/100\n",
            "2400/2400 [==============================] - 0s 72us/step - loss: 3.2433 - acc: 0.0117 - val_loss: 3.2667 - val_acc: 0.0017\n",
            "Epoch 87/100\n",
            "2400/2400 [==============================] - 0s 74us/step - loss: 3.2432 - acc: 0.0108 - val_loss: 3.2667 - val_acc: 0.0017\n",
            "Epoch 88/100\n",
            "2400/2400 [==============================] - 0s 79us/step - loss: 3.2432 - acc: 0.0112 - val_loss: 3.2668 - val_acc: 0.0017\n",
            "Epoch 89/100\n",
            "2400/2400 [==============================] - 0s 75us/step - loss: 3.2431 - acc: 0.0104 - val_loss: 3.2668 - val_acc: 0.0017\n",
            "Epoch 90/100\n",
            "2400/2400 [==============================] - 0s 73us/step - loss: 3.2431 - acc: 0.0104 - val_loss: 3.2668 - val_acc: 0.0017\n",
            "Epoch 91/100\n",
            "2400/2400 [==============================] - 0s 72us/step - loss: 3.2431 - acc: 0.0104 - val_loss: 3.2668 - val_acc: 0.0017\n",
            "Epoch 92/100\n",
            "2400/2400 [==============================] - 0s 71us/step - loss: 3.2430 - acc: 0.0100 - val_loss: 3.2669 - val_acc: 0.0017\n",
            "Epoch 93/100\n",
            "2400/2400 [==============================] - 0s 69us/step - loss: 3.2430 - acc: 0.0108 - val_loss: 3.2669 - val_acc: 0.0017\n",
            "Epoch 94/100\n",
            "2400/2400 [==============================] - 0s 70us/step - loss: 3.2429 - acc: 0.0112 - val_loss: 3.2669 - val_acc: 0.0017\n",
            "Epoch 95/100\n",
            "2400/2400 [==============================] - 0s 73us/step - loss: 3.2429 - acc: 0.0108 - val_loss: 3.2669 - val_acc: 0.0017\n",
            "Epoch 96/100\n",
            "2400/2400 [==============================] - 0s 72us/step - loss: 3.2429 - acc: 0.0108 - val_loss: 3.2670 - val_acc: 0.0017\n",
            "Epoch 97/100\n",
            "2400/2400 [==============================] - 0s 74us/step - loss: 3.2428 - acc: 0.0108 - val_loss: 3.2670 - val_acc: 0.0017\n",
            "Epoch 98/100\n",
            "2400/2400 [==============================] - 0s 72us/step - loss: 3.2428 - acc: 0.0104 - val_loss: 3.2670 - val_acc: 0.0017\n",
            "Epoch 99/100\n",
            "2400/2400 [==============================] - 0s 70us/step - loss: 3.2427 - acc: 0.0108 - val_loss: 3.2670 - val_acc: 0.0017\n",
            "Epoch 100/100\n",
            "2400/2400 [==============================] - 0s 71us/step - loss: 3.2427 - acc: 0.0104 - val_loss: 3.2671 - val_acc: 0.0017\n"
          ],
          "name": "stdout"
        }
      ]
    },
    {
      "cell_type": "code",
      "metadata": {
        "id": "zlGe3F7yEAwf",
        "colab_type": "code",
        "colab": {}
      },
      "source": [
        "autoencoder = load_model('autoencoder_fraud.h5')"
      ],
      "execution_count": 0,
      "outputs": []
    },
    {
      "cell_type": "code",
      "metadata": {
        "id": "O7Yspf-4EHt1",
        "colab_type": "code",
        "colab": {
          "base_uri": "https://localhost:8080/",
          "height": 295
        },
        "outputId": "3cabead0-d9c0-49d8-f20d-18947bda9cb6"
      },
      "source": [
        "plt.plot(history['loss'], linewidth=2, label='Train')\n",
        "plt.plot(history['val_loss'], linewidth=2, label='Test')\n",
        "plt.legend(loc='upper right')\n",
        "plt.title('Model loss')\n",
        "plt.ylabel('Loss')\n",
        "plt.xlabel('Epoch')\n",
        "#plt.ylim(ymin=0.70,ymax=1)\n",
        "plt.show()"
      ],
      "execution_count": 21,
      "outputs": [
        {
          "output_type": "display_data",
          "data": {
            "text/plain": [
              "<Figure size 432x288 with 1 Axes>"
            ],
            "image/png": "[encoded data removed]"
          },
          "metadata": {
            "tags": [],
            "needs_background": "light"
          }
        }
      ]
    },
    {
      "cell_type": "markdown",
      "metadata": {
        "id": "T7I1cx12_2Gv",
        "colab_type": "text"
      },
      "source": [
        "#Ermittlung potenzieller Kundenrisikogruppen# \n",
        "##Supervised Learning mit neuronalen Netzwerken##\n"
      ]
    },
    {
      "cell_type": "code",
      "metadata": {
        "id": "b57Ggf-x-Iet",
        "colab_type": "code",
        "colab": {}
      },
      "source": [
        "%matplotlib inline\n",
        "import pandas as pd\n",
        "import numpy as np\n",
        "import matplotlib.pyplot as plt\n",
        "\n",
        "\n",
        "# Laden der 600000 Transaktionsdaten \n",
        "trx_data_url = 'https://raw.githubusercontent.com/sakuronohana/cas_datenanalyse/master/Semesterarbeit/Dataset/trx_data_ml.csv'\n",
        "\n",
        "trx_data_ml = pd.read_csv(trx_data_url, delimiter=';')\n",
        "trx_data_ml.head()\n"
      ],
      "execution_count": 0,
      "outputs": []
    },
    {
      "cell_type": "code",
      "metadata": {
        "id": "4reOVH6SOoEs",
        "colab_type": "code",
        "colab": {}
      },
      "source": [
        "trx_data_ol.nunique()"
      ],
      "execution_count": 0,
      "outputs": []
    },
    {
      "cell_type": "code",
      "metadata": {
        "id": "Qa3UBsB4PUcz",
        "colab_type": "code",
        "colab": {}
      },
      "source": [
        "trx_data.fraud_id.map(lambda x:1 if x>=1 else 0).mean()"
      ],
      "execution_count": 0,
      "outputs": []
    },
    {
      "cell_type": "markdown",
      "metadata": {
        "id": "nBv9TMCtc2s6",
        "colab_type": "text"
      },
      "source": [
        "**Erstellung des neuronalen Netzwerk-Modells**\n",
        "\n",
        "https://www.youtube.com/watch?v=BhpvH5DuVu8&list=PLQVvvaa0QuDfKTOs3Keq_kaG2P55YRn5v&index=46\n",
        "\n"
      ]
    },
    {
      "cell_type": "code",
      "metadata": {
        "id": "BjPo4kEvdD8s",
        "colab_type": "code",
        "colab": {}
      },
      "source": [
        "import tensorflow as tf\n",
        "\n",
        "n_nodes_hl1 = 500\n",
        "n_nodes_hl2 = 500\n",
        "n_nodes_hl3 = 500\n",
        "\n",
        "n_classes = 10\n",
        "batch_size = 1000\n",
        "\n",
        "x = tf.placeholder('float',[None, 784])\n",
        "\n",
        "def neural_network_model(data):\n",
        "  hidden_1_layer = {'weights':tf.Variable(tf.random_normal([784,n_nodes_hl1])),\n",
        "                   'biases':tf.Variable(tf.random_normal(n_nodes_hl1))}\n",
        "  hidden_2_layer = {'weights':tf.Variable(tf.random_normal([n_nodes_hl2,n_nodes_hl2])),\n",
        "                   'biases':tf.Variable(tf.random_normal(n_nodes_hl2))}\n",
        "  hidden_3_layer = {'weights':tf.Variable(tf.random_normal([n_nodes_hl2,n_nodes_hl3])),\n",
        "                   'biases':tf.Variable(tf.random_normal(n_nodes_hl3))}\n",
        "  output_layer = {'weights':tf.Variable(tf.random_normal([n_nodes_hl3,n_nodes_hl1])),\n",
        "                   'biases':tf.Variable(tf.random_normal(n_classes))}\n",
        "  \n",
        "  l1 = tf.add(tf.matmul(data, hidden_1_layer['weights']), hidden_1_layer['biases'])\n",
        "  l1 = tf.nn.relu(l1)\n",
        "  \n",
        "  l2 = tf.add(tf.matmul(l1, hidden_2_layer['weights']), hidden_2_layer['biases'])\n",
        "  l2 = tf.nn.relu(l2)\n",
        "  \n",
        "  l3 = tf.add(tf.matmul(l2, hidden_3_layer['weights']), hidden_3_layer['biases'])\n",
        "  l3 = tf.nn.relu(l3)\n",
        "                 \n",
        "  output = tf.add(l3, output_layer['weights'])+ output_layer['biases']\n",
        "  \n",
        "  return output\n",
        "                  \n",
        "def train_neural_network(x):\n",
        "  prediction = neural_network_model(x)\n",
        "  cost = tf.reduce_mean(tf.nn.softmax_cross_entropy_with_logits(prediction,y))\n",
        "  optimizer = tf.train.AdamOptimizer().minimize(cost)\n",
        "  \n",
        "  hm_epochs = 10\n",
        "                  \n",
        "  with tf.Session() as sess:\n",
        "    sess.run(tf.initialize_all_variables())\n",
        "    # Hier wird das Modell trainiert\n",
        "    for epoch in hm_epochs:\n",
        "        epoch_loss = 0\n",
        "        for _ in range(int(tdo_train.train.num_examples/batch_size)):\n",
        "            x = tdo_train.next_batch(batch_size)\n",
        "            _, c = sess.run([optimizer, cost], feed_dict = {x: x})\n",
        "            epoch_loss += c\n",
        "        print('Epoch', epoch, 'completed out of', hm_epochs, 'loss:', epoch_loss)\n",
        "                  \n",
        "    correct = tf.equal(tf.argmax(prediction, 1), tf.argmax(y,1))\n",
        "    accuracy = tf.reduce_mean(tf.cast(correct,'float'))\n",
        "    print('Accuracy:', accuracy.eval({x:tdo_test}))\n",
        "    \n",
        "train_neural_network(x)"
      ],
      "execution_count": 0,
      "outputs": []
    },
    {
      "cell_type": "markdown",
      "metadata": {
        "id": "g0Oh1LK53rMd",
        "colab_type": "text"
      },
      "source": [
        "##Datensatz analysieren##\n",
        "\n",
        "##Tipp: Plotting Learning Curves - Scikit !!!!"
      ]
    },
    {
      "cell_type": "code",
      "metadata": {
        "id": "6bzsG7nZ25CG",
        "colab_type": "code",
        "colab": {}
      },
      "source": [
        "# Visualisierung der Nummerischen Daten in dem Datensatz\n",
        "trx_data.hist(bins=50, figsize=(20,15))\n",
        "plt.show()"
      ],
      "execution_count": 0,
      "outputs": []
    },
    {
      "cell_type": "code",
      "metadata": {
        "id": "K-MjsTaU3kS8",
        "colab_type": "code",
        "colab": {}
      },
      "source": [
        "# Suche nach den Korrelationen - Teil 1\n",
        "corr_matrix = trx_data.corr()\n",
        "print ('Korrelation zu Payment ID','\\n',corr_matrix['paym_id'].sort_values(ascending=False))\n",
        "print ('Korrelation zu Zahlungssumme','\\n',corr_matrix['amount'].sort_values(ascending=False))\n",
        "print ('Korrelation zu Kundenvertrag','\\n',corr_matrix['cust_vertrag_nr'].sort_values(ascending=False))\n",
        "print ('Korrelation zu Betrugsid','\\n',corr_matrix['fraud_id'].sort_values(ascending=False))"
      ],
      "execution_count": 0,
      "outputs": []
    },
    {
      "cell_type": "code",
      "metadata": {
        "id": "GXoUuDUY3LpU",
        "colab_type": "code",
        "colab": {}
      },
      "source": [
        "# Bereinigung der Daten\n",
        "pd.to_datetime(trx_data['timestamp'])\n",
        "pd.to_datetime(trx_data['valuta_date'])\n",
        "np.where(np.isnan(trx_data))"
      ],
      "execution_count": 0,
      "outputs": []
    },
    {
      "cell_type": "code",
      "metadata": {
        "id": "c6Vx75189gJV",
        "colab_type": "code",
        "colab": {}
      },
      "source": [
        "# Datensatz in Trainings(80%)- und Testdatenset (20%) teilen\n",
        "from sklearn.model_selection import train_test_split\n",
        "train_trx_data, test_trx_data = train_test_split(trx_data, test_size=0.2, random_state=42) \n",
        "train_trx_data.count(), test_trx_data.count()"
      ],
      "execution_count": 0,
      "outputs": []
    },
    {
      "cell_type": "code",
      "metadata": {
        "id": "WKYDanXj3Vm9",
        "colab_type": "code",
        "colab": {}
      },
      "source": [
        "# Dimensionsreduktion mit PCA\n",
        "from sklearn.decomposition import PCA # Import der PCA Funktion von Scikit Learn\n",
        "from sklearn import preprocessing # Die Preprocessing Funktion hilft uns die Daten zu skalieren bevor sie mit PCA verwendet werden."
      ],
      "execution_count": 0,
      "outputs": []
    }
  ]
}