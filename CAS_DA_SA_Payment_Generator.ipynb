{
  "nbformat": 4,
  "nbformat_minor": 0,
  "metadata": {
    "colab": {
      "name": "CAS-DA-SA_Payment_Generator.ipynb",
      "version": "0.3.2",
      "provenance": [],
      "collapsed_sections": [],
      "include_colab_link": true
    },
    "kernelspec": {
      "name": "python3",
      "display_name": "Python 3"
    },
    "accelerator": "GPU"
  },
  "cells": [
    {
      "cell_type": "markdown",
      "metadata": {
        "id": "view-in-github",
        "colab_type": "text"
      },
      "source": [
        "<a href=\"https://colab.research.google.com/github/sakuronohana/cas_datenanalyse/blob/master/CAS_DA_SA_Payment_Generator.ipynb\" target=\"_parent\"><img src=\"https://colab.research.google.com/assets/colab-badge.svg\" alt=\"Open In Colab\"/></a>"
      ]
    },
    {
      "metadata": {
        "id": "jRcJtvy3IiFf",
        "colab_type": "text"
      },
      "cell_type": "markdown",
      "source": [
        "<img \n",
        "src=\"https://www.ffhs.ch/templates/ffhs/img/logo@2x.png\" width=\"100\"> \n",
        "###DaAn, Data Analysis, MAS/CAS Web4B 2018, ZH1, FS19, Dr. Tödtli Beat###\n",
        "\n",
        "##*Semesterarbeit von Patrik Di Lena*##\n",
        "#Erstellung Transaktionsdatensatz#\n",
        "\n"
      ]
    },
    {
      "metadata": {
        "id": "Cu2Lax6MMPh0",
        "colab_type": "text"
      },
      "cell_type": "markdown",
      "source": [
        "\n",
        "## Datensatz##\n",
        "Die im Rahmen dieser Semesterarbeit verwendeten Daten entstammen, von ihrer Datenstruktur her, aus einem bereits eingesetzten nicht ML-basierten E-Banking Betrugserkennungssystem. Die Datenwerte wurde zu Wahrung der datenschutzrechtlichen und bankengesetzlichen Aspekte mit Hilfe des folgenden Python-Scripts künstlich erzeugt und beinhalten somit keine reale Zahlungs-, Kunden-, und betrugsspezifischen Informationen. Weiter wurden einige durch die Bank definierten Spezifikationen bzw. Merkmale aus sicherheitstechnischen Gründen umbenannt.  \n",
        "\n",
        "Datenselektion:\n",
        "\n",
        "- 20'000 synthetische Kunden (Vorname, Name, Strasse, Ort, Kanton, Sprachregion, Geschlecht, Alter, Zivilstand,  Nationalität, Kontonummer, Vertragsnummer, Rechtsform )\n",
        "\n",
        "- 60'000 synthetische Zahlungen (Transaktionsid, ,Erstellungdatum/Zeit, Empfängerkonto, Empfängerbank, Empfängerland, Währung, Betrag, Valuta Datum)\n",
        "\n",
        "\n",
        "\n",
        "\n",
        "\n",
        "\n"
      ]
    },
    {
      "metadata": {
        "id": "eSPNIKY7BlqD",
        "colab_type": "text"
      },
      "cell_type": "markdown",
      "source": [
        "###Datengeneratoren###\n",
        "\n",
        "Während die Stammdaten hauptsächlich im Excel manuell von verschiedenen Quellen \n",
        "\n",
        "Datenquellen:\n",
        "\n",
        "Open Government Data https://opendata.swiss/de/\n"
      ]
    },
    {
      "metadata": {
        "id": "juo_qNJ_Hvfc",
        "colab_type": "text"
      },
      "cell_type": "markdown",
      "source": [
        "###IBAN Generator###\n",
        "\n",
        "Mit der folgenden Code Cell wurden die IBAN Nummern für die Kunden Stammdaten erstellt. "
      ]
    },
    {
      "metadata": {
        "id": "1p72CDsQ4GzX",
        "colab_type": "code",
        "outputId": "fdeda7af-848f-497f-f8c2-bda7702ca67e",
        "colab": {
          "base_uri": "https://localhost:8080/",
          "height": 34
        }
      },
      "cell_type": "code",
      "source": [
        "# IBAN Generator\n",
        "\n",
        "import datetime\n",
        "import numpy as np\n",
        "import pandas as pd\n",
        "\n",
        "# Datenquellen Github\n",
        "ibandb_url = 'https://raw.githubusercontent.com/sakuronohana/cas_datenanalyse/master/Semesterarbeit/Dataset/iban_list.csv'\n",
        "\n",
        "# IBAN Generator in elektronischer Form\n",
        "\n",
        "iban_cc = pd.read_csv(ibandb_url, delimiter=';')\n",
        "iban_cc.columns=['Country','Code','Checkdig','Length','Sample','Bank']\n",
        "\n",
        "# IBAN Gen. 1.Teil - Erstellung IBAN Länder- und Bankencode\n",
        "code = np.random.choice(np.ravel(iban_cc['Code']).astype(str))\n",
        "checkdig = np.random.choice(np.ravel(iban_cc['Checkdig']).astype(str))\n",
        "iban_country_code = code + checkdig\n",
        "iban_bank_code = np.random.choice((iban_cc.loc[iban_cc['Code'] == code])['Length']).astype(str)\n",
        "iban_ccbc = iban_country_code + \"00\" + iban_bank_code \n",
        "\n",
        "# IBAN Gen. 2.Teil - Erstellung Kontonummer und Zusammensetzung der IBAN\n",
        "eiban = []\n",
        "for row in range(20):\n",
        "    part_eiban = pd.DataFrame(np.int64(np.random.randint(2000000000000,3000000000000,20800)))\n",
        "    eiban = iban_ccbc + part_eiban.astype(str)\n",
        "\n",
        "# Zufällige Auswahl einer IBAN aus dem generierten Datensatz\n",
        "eiban = np.ravel(eiban)\n",
        "eiban = np.random.choice(eiban)\n",
        "\n"
      ],
      "execution_count": 0,
      "outputs": [
        {
          "output_type": "stream",
          "text": [
            "LC7200322800994985921\n"
          ],
          "name": "stdout"
        }
      ]
    },
    {
      "metadata": {
        "id": "RUs5m-l3IRbC",
        "colab_type": "text"
      },
      "cell_type": "markdown",
      "source": [
        "###Payment Generator###\n",
        "\n",
        "Mit dem folgenden Python Code wurden synthetischen Transaktionsdaten inkl. Betrugserkennungsidentifikation generiert. Die Daten wurde vollumfänglich Zufrallsgeneriert. Die Daten beinhalten folgenden Merkmale:\n",
        "\n",
        "* **Zeitstempel** (timestamp) - Zeitpunkt der Transaktionserstellung\n",
        "* **Zahlungsidentifikationsnummer** (paym_id) - Eindeutige Nummer pro erstellter Transaktion\n",
        "* **Zahlungssendende Bank** (send_bc_nr) - Eindeutiger Bankcode der Bank, von welcher die zahlung gesendet wurde. In diesem Fall ist es immer die Gleiche\n",
        "* **Zahlungsbetrag** (amount) - Überweisungsbetrag an das Empfängerkonto (rcv_iban)\n",
        "* **Korrespondenzbank - Kontonummer.** (rcv_bc_nr) - Bankverbindung zur Empfängerbank\n",
        "* **IBAN Korresspondenzbank** (rcv_bc_iban) - Bankverbindung zu Empfängerkonto\n",
        "* **Land der Korrespondenzbank** (rcv_bc_country)\n",
        ",rcv_bc_code,rcv_iban,valuta_date,cust_vertrag_nr,cust_konto_nr,cust_vname,cust_nname,cust_plz,cust_ort,cust_kanton,cust_sprachregion,cust_auth_device,fraud_id\n",
        "\n"
      ]
    },
    {
      "metadata": {
        "id": "W7qPiAIaMj1S",
        "colab_type": "code",
        "colab": {}
      },
      "cell_type": "code",
      "source": [
        "# Erstellung von Transaktionsdaten \n",
        "\n",
        "from datetime import datetime, timedelta\n",
        "import numpy as np\n",
        "import pandas as pd\n",
        "\n",
        "# Bankbeziehungsdaten Datenquellen Github\n",
        "ibandb_url = 'https://raw.githubusercontent.com/sakuronohana/cas_datenanalyse/master/Semesterarbeit/Dataset/iban_list.csv'\n",
        "\n",
        "# Transaktionsinfromationen importieren\n",
        "\n",
        "iban_cc = pd.read_csv(ibandb_url, delimiter=';')\n",
        "iban_cc.columns=['Country','Code','Checkdig','Length','IBAN','Bank']\n",
        "\n",
        "# Betrugseinstufung \n",
        "# Kein Fraud ist immer 0\n",
        "fraud_ids = [[1,'External Caused Fraud (e.g. Trojans)'],[2,'Internal Caused Fraud (e.g. Employee)']]\n",
        "df_fraud = pd.DataFrame(fraud_ids, columns=['Fraud ID', 'Description'])\n",
        "\n",
        "# Betragswaehrungen (Schweizer Franken, Euro, US-Dollar)\n",
        "currency = [['CHF','Schweizer Franken'],['EUR','EU Euro'],['USD','US Dollar']]\n",
        "df_currency = pd.DataFrame(currency, columns=['Currency', 'Description'])\n",
        "\n",
        "# Bankkunden Stammdaten - Datenquellen Github\n",
        "custdb_url = 'https://raw.githubusercontent.com/sakuronohana/cas_datenanalyse/master/Semesterarbeit/Dataset/cutomer_base_data.csv'\n",
        "\n",
        "cust_data = pd.read_csv(custdb_url, delimiter=';')\n",
        "cust_data.columns=['anrede','vorname','nachname','strasse','nr','plz','ort',\n",
        "                   'kanton','sprachregion',\t'nation',\t'sexcode','mobile_nr',\t\n",
        "                   'vertrag_nr','konto_nr','auth_device']\n",
        "\n",
        "# Importierte Kundendaten bereinigen\n",
        "cust_data = cust_data.fillna(0)\n",
        "cust_data_dtype = {'plz':int,'mobile_nr':int,'vertrag_nr':int}\n",
        "cust_data = cust_data.astype(cust_data_dtype)\n",
        "\n",
        "# Erstellung der Zahlungs-Basisinformationen \n",
        "\n",
        "# Erster Teil der Zahlungs-Basisinformationen\n",
        "\n",
        "trx_data = pd.DataFrame(columns=['timestamp','paym_id','send_bc_nr','amount',\n",
        "                                 'rcv_bc_nr','rcv_bc_iban','rcv_bc_country','rcv_bc_code',\n",
        "                                 'rcv_iban','valuta_date','cust_vertrag_nr','cust_konto_nr',\n",
        "                                 'cust_vname','cust_nname','cust_plz','cust_ort',\n",
        "                                'cust_kanton','cust_sprachregion','cust_auth_device',\n",
        "                                'fraud_id'])\n",
        "\n",
        "for i in range(250):\n",
        "    trx_data.loc[i,['timestamp']] = timestamps = pd.Timestamp(datetime(2018,1,1,8,0,0)+timedelta(seconds=30*i)).strftime(\"%Y.%m.%d %H:%M\")\n",
        "    trx_data.loc[i,['paym_id']] =  10000000 + 10 +i\n",
        "    #trx_data.loc[i,['paym_id']] =  np.int64(np.random.randint(1000000000000,2000000000000,1))\n",
        "    trx_data.loc[i,['send_bc_nr']] =  'CHBANK71XXX'\n",
        "    trx_data.loc[i,['amount']] = np.int64(np.random.randint(100,100000,1)).astype(str)\n",
        "    trx_data.loc[i,['rcv_bc_nr']] = bc_bank = np.random.choice(np.ravel(iban_cc['Bank']).astype(str))\n",
        "    trx_data.loc[i,['rcv_bc_iban']] = np.ravel(iban_cc.loc[iban_cc['Bank'] == bc_bank,['IBAN']].astype(str))\n",
        "    trx_data.loc[i,['rcv_bc_country']] = np.ravel(iban_cc.loc[iban_cc['Bank'] == bc_bank,['Country']])\n",
        "    trx_data.loc[i,['rcv_bc_code']] = bc_code = np.ravel(iban_cc.loc[iban_cc['Bank'] == bc_bank,['Code']].astype(str))\n",
        "    iban_ccbc = bc_code + np.ravel(iban_cc.loc[iban_cc['Bank'] == bc_bank,['Checkdig']].astype(str)) + '00'\n",
        "    part_eiban = np.ravel(np.int64(np.random.randint(2000000000000,3000000000000,1)))\n",
        "    trx_data.loc[i,['rcv_iban']] = iban_ccbc + part_eiban.astype(str)\n",
        "    timestamps = datetime.strptime(timestamps,\"%Y.%m.%d %H:%M\")\n",
        "    trx_data.loc[i,['valuta_date']] = valuta = datetime.strftime((timestamps + timedelta(hours=12*i)),'%Y.%m.%d %H:%M')\n",
        "    trx_data.loc[i,['cust_vertrag_nr']] = cd_contract = np.random.choice(np.ravel(cust_data['vertrag_nr']).astype(int))\n",
        "    trx_data.loc[i,['fraud_id']] = np.random.choice(np.ravel(df_fraud['Fraud ID']).astype(str)) \n",
        "# Zeiter Teil der Zahlungs-Basisinformationen. \n",
        "    for row in trx_data['cust_vertrag_nr']:\n",
        "      if row == cd_contract:\n",
        "        trx_data.cust_konto_nr = cust_data.konto_nr\n",
        "      if row == cd_contract:\n",
        "        trx_data.cust_vname = cust_data.vorname\n",
        "      if row == cd_contract:\n",
        "        trx_data.cust_nname = cust_data.nachname\n",
        "      if row == cd_contract:\n",
        "        trx_data.cust_plz = (cust_data.plz).astype(int)\n",
        "      if row == cd_contract:\n",
        "        trx_data.cust_ort = cust_data.ort\n",
        "      if row == cd_contract:\n",
        "        trx_data.cust_kanton = cust_data.kanton\n",
        "      if row == cd_contract:\n",
        "        trx_data.cust_sprachregion = cust_data.sprachregion\n",
        "      if row == cd_contract:\n",
        "        trx_data.cust_auth_device = cust_data.auth_device\n",
        "     \n",
        "       \n",
        "\n",
        "# Von allen durchgeführten Zahlungen hat das Fraud-Detection System 0.5% Betrugszahlungen erkannt. \n",
        "trx_data_non_fraud = trx_data.sample(frac=0.95)\n",
        "\n",
        "for x in range(len(trx_data_non_fraud)):\n",
        "  trx_data_non_fraud.fraud_id = 0\n",
        "\n",
        "  \n",
        "# Löschung der Non Fraud aus DataFrame \"Trx_Data\" und Erstellung Fraud\n",
        "\n",
        "trx_data_fraud = trx_data.drop(trx_data.index[trx_data_non_fraud.index])\n",
        "\n",
        "# Non Fraud und Fraud Dataframes in ein csv exportieren\n",
        "trx_data = pd.concat([trx_data_non_fraud, trx_data_fraud], axis=0)\n",
        "trx_data.sort_values(['paym_id'], axis=0, ascending=True, inplace=True)\n",
        "trx_data.to_csv('trx_data.csv', index=False)\n",
        "trx_data.head(-5)\n",
        "  "
      ],
      "execution_count": 0,
      "outputs": []
    }
  ]
}