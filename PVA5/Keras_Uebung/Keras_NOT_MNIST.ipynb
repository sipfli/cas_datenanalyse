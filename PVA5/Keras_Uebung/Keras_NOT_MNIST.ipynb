{
 "cells": [
  {
   "cell_type": "code",
   "execution_count": 30,
   "metadata": {},
   "outputs": [],
   "source": [
    "# 3. Import libraries and modules\n",
    "import numpy as np\n",
    "np.random.seed(123)  # for reproducibility\n",
    "import pandas as pd\n",
    "from keras.models import Sequential\n",
    "from keras.layers import Dense, Dropout, Activation, Flatten\n",
    "from keras.layers import Conv2D,Convolution2D, MaxPooling2D\n",
    "from keras.utils import np_utils\n",
    "from keras.datasets import mnist\n",
    "import matplotlib.pyplot as plt\n",
    "%matplotlib inline"
   ]
  },
  {
   "cell_type": "markdown",
   "metadata": {},
   "source": [
    "Wir laden nochmals den MNIST-Datensatz und betrachten genau die Array-Shapes, welche wir auch beim geladenen NOTMNIST-Datensatz erhalten müssen:"
   ]
  },
  {
   "cell_type": "code",
   "execution_count": 169,
   "metadata": {
    "scrolled": true
   },
   "outputs": [
    {
     "data": {
      "text/plain": [
       "(dtype('float32'),\n",
       " dtype('uint8'),\n",
       " ((60000, 28, 28, 1), (60000,)),\n",
       " ((10000, 28, 28, 1), (10000,)))"
      ]
     },
     "execution_count": 169,
     "metadata": {},
     "output_type": "execute_result"
    }
   ],
   "source": [
    "# 4. Load pre-shuffled MNIST data into train and test sets\n",
    "(X_train, y_train), (X_test, y_test) = mnist.load_data()\n",
    "# 5. Preprocess input data\n",
    "X_train = X_train.reshape(X_train.shape[0], 28, 28, 1)\n",
    "X_test = X_test.reshape(X_test.shape[0], 28, 28, 1)\n",
    "X_train = X_train.astype('float32')\n",
    "X_test = X_test.astype('float32')\n",
    "X_train /= 255\n",
    "X_test /= 255\n",
    "X_train.dtype,y_train.dtype,(X_train.shape, y_train.shape), (X_test.shape, y_test.shape)"
   ]
  },
  {
   "cell_type": "code",
   "execution_count": 170,
   "metadata": {},
   "outputs": [
    {
     "data": {
      "text/plain": [
       "(0.0, 1.0)"
      ]
     },
     "execution_count": 170,
     "metadata": {},
     "output_type": "execute_result"
    }
   ],
   "source": [
    "np.min(X_train),np.max(X_train)"
   ]
  },
  {
   "cell_type": "markdown",
   "metadata": {},
   "source": [
    "import pandas as pd\n",
    "#ev. ist es nötig, die folgenden Befehle auszuführen:\n",
    "\n",
    "    !unzip train.csv.zip\n",
    "    !unzip test.csv.zip\n",
    "    !chmod 644 test.csv\n",
    "    !chmod 644 train.csv\n",
    "    !chmod 644 test.csv"
   ]
  },
  {
   "cell_type": "code",
   "execution_count": 178,
   "metadata": {},
   "outputs": [
    {
     "data": {
      "text/plain": [
       "(dtype('float32'), (9360, 28, 28, 1), 0.0, 1.0, (9360,))"
      ]
     },
     "execution_count": 178,
     "metadata": {},
     "output_type": "execute_result"
    }
   ],
   "source": [
    "from sklearn.preprocessing import OneHotEncoder\n",
    "df_train= pd.read_csv('train.csv',header=None,index_col=0)\n",
    "X = df_train.values[:,1:]\n",
    "y = df_train.values[:,0]\n",
    "X = X.reshape(-1,28,28,1)\n",
    "X = X.astype('float32')\n",
    "X /= 255\n",
    "X.dtype,X.shape,np.min(X),np.max(X),y.shape"
   ]
  },
  {
   "cell_type": "code",
   "execution_count": 179,
   "metadata": {},
   "outputs": [
    {
     "data": {
      "image/png": "[encoded data removed]",
      "text/plain": [
       "<Figure size 432x288 with 2 Axes>"
      ]
     },
     "metadata": {},
     "output_type": "display_data"
    }
   ],
   "source": [
    "plt.imshow(X[0].reshape(28,28))\n",
    "plt.title('label:{0}'.format(y[0]))\n",
    "plt.colorbar();"
   ]
  },
  {
   "cell_type": "code",
   "execution_count": 180,
   "metadata": {},
   "outputs": [
    {
     "data": {
      "text/plain": [
       "(9360,)"
      ]
     },
     "execution_count": 180,
     "metadata": {},
     "output_type": "execute_result"
    },
    {
     "data": {
      "image/png": "[encoded data removed]",
      "text/plain": [
       "<Figure size 432x288 with 1 Axes>"
      ]
     },
     "metadata": {},
     "output_type": "display_data"
    }
   ],
   "source": [
    "max_vals = np.max(X.reshape(-1,28*28),axis=1)\n",
    "min_vals = np.min(X.reshape(-1,28*28),axis=1)\n",
    "plt.hist(max_vals);\n",
    "plt.hist(min_vals);\n",
    "max_vals.shape"
   ]
  },
  {
   "cell_type": "code",
   "execution_count": 181,
   "metadata": {},
   "outputs": [
    {
     "data": {
      "image/png": "[encoded data removed]",
      "text/plain": [
       "<Figure size 432x288 with 5 Axes>"
      ]
     },
     "metadata": {},
     "output_type": "display_data"
    }
   ],
   "source": [
    "X_sel = X[min_vals>0.5,:,:,0]\n",
    "\n",
    "NrImages = 5\n",
    "for i in range(X_sel.shape[0]):\n",
    "    if i>=NrImages: break\n",
    "    plt.subplot(1,NrImages,i+1)\n",
    "    plt.imshow(X_sel[i,:,:])\n",
    "plt.suptitle('Einige der seltsamen Bilder',y=0.7);"
   ]
  },
  {
   "cell_type": "code",
   "execution_count": 182,
   "metadata": {},
   "outputs": [
    {
     "data": {
      "text/plain": [
       "((9360, 28, 28, 1), (9360,))"
      ]
     },
     "execution_count": 182,
     "metadata": {},
     "output_type": "execute_result"
    }
   ],
   "source": [
    "X.shape,y.shape"
   ]
  },
  {
   "cell_type": "code",
   "execution_count": 183,
   "metadata": {},
   "outputs": [],
   "source": [
    "#Entferne die leeren Bilder!\n",
    "X = X[min_vals<0.5,:,:,:]\n",
    "y = y[min_vals<0.5]\n",
    "y = pd.Series(y,name='target')"
   ]
  },
  {
   "cell_type": "code",
   "execution_count": 184,
   "metadata": {},
   "outputs": [
    {
     "data": {
      "text/plain": [
       "((9185, 28, 28, 1), (9185,))"
      ]
     },
     "execution_count": 184,
     "metadata": {},
     "output_type": "execute_result"
    }
   ],
   "source": [
    "X.shape,y.shape"
   ]
  },
  {
   "cell_type": "code",
   "execution_count": 185,
   "metadata": {},
   "outputs": [
    {
     "data": {
      "text/plain": [
       "(dtype('float32'), (9364, 28, 28, 1), 0.0, 1.0)"
      ]
     },
     "execution_count": 185,
     "metadata": {},
     "output_type": "execute_result"
    }
   ],
   "source": [
    "df_test= pd.read_csv('test.csv',header=None,index_col=0)\n",
    "X_test = df_test.values\n",
    "X_test = X_test.reshape(-1,28,28,1)\n",
    "X_test = X_test.astype('float32')\n",
    "X_test /= 255\n",
    "X_test.dtype,X_test.shape,np.min(X_test),np.max(X_test)"
   ]
  },
  {
   "cell_type": "code",
   "execution_count": 186,
   "metadata": {},
   "outputs": [],
   "source": [
    "label_to_int_dict = {'A':0,'B':1,'C':2,'D':3,'E':4,'F':5,'G':6,'H':7,'I':8,'J':9}"
   ]
  },
  {
   "cell_type": "code",
   "execution_count": 187,
   "metadata": {},
   "outputs": [
    {
     "data": {
      "text/plain": [
       "(dtype('uint8'), (9185, 1), array([0, 1, 2, 3, 4, 5, 6, 7, 8, 9], dtype=uint8))"
      ]
     },
     "execution_count": 187,
     "metadata": {},
     "output_type": "execute_result"
    }
   ],
   "source": [
    "y_int = y.map(label_to_int_dict)\n",
    "#Äquivalent, aber weniger transparent:\n",
    "#pd.Series(y_NotMNIST.unique()).map(ord)-65\n",
    "\n",
    "y_int = y_int.values.reshape(-1,1).astype('uint8')\n",
    "y_int.dtype,y_int.shape,np.unique(y_int)"
   ]
  },
  {
   "cell_type": "code",
   "execution_count": 188,
   "metadata": {},
   "outputs": [
    {
     "name": "stdout",
     "output_type": "stream",
     "text": [
      "(9185, 10)\n"
     ]
    },
    {
     "data": {
      "text/plain": [
       "(array([0], dtype=uint8),\n",
       " matrix([[1, 0, 0, 0, 0, 0, 0, 0, 0, 0]], dtype=uint8))"
      ]
     },
     "execution_count": 188,
     "metadata": {},
     "output_type": "execute_result"
    }
   ],
   "source": [
    "from sklearn.preprocessing import OneHotEncoder\n",
    "ohe = OneHotEncoder(categories='auto')\n",
    "\n",
    "y_ohe = ohe.fit_transform(y_int)\n",
    "\n",
    "#nicht sehr speichereffizient, aber wir haben ja auch nur wenig Daten...\n",
    "y_ohe = y_ohe.todense().astype('uint8')\n",
    "print(y_ohe.shape)\n",
    "y_int[0],y_ohe[0,:]"
   ]
  },
  {
   "cell_type": "code",
   "execution_count": 189,
   "metadata": {},
   "outputs": [
    {
     "data": {
      "text/plain": [
       "((7348, 28, 28, 1), (1837, 10))"
      ]
     },
     "execution_count": 189,
     "metadata": {},
     "output_type": "execute_result"
    }
   ],
   "source": [
    "from sklearn.model_selection import train_test_split\n",
    "\n",
    "X_train,X_val,y_train,y_val = train_test_split(X,y_ohe,test_size=0.2,random_state=42)\n",
    "X_train.shape,y_val.shape"
   ]
  },
  {
   "cell_type": "code",
   "execution_count": 198,
   "metadata": {},
   "outputs": [],
   "source": [
    "# 7. Define model architecture\n",
    "model = Sequential()\n",
    "model.add(Convolution2D(32, kernel_size=(3, 3),activation='relu',input_shape=(28,28,1),name='myconv1'))\n",
    "model.add(Convolution2D(32, (3, 3), activation='relu',name='myconv2'))\n",
    "model.add(MaxPooling2D(pool_size=(2,2)))\n",
    "model.add(Dropout(0.25))\n",
    " \n",
    "model.add(Flatten())\n",
    "model.add(Dense(128, activation='relu',name='mydense1'))\n",
    "model.add(Dropout(0.5))\n",
    "model.add(Dense(10, activation='softmax',name='mydense2'))"
   ]
  },
  {
   "cell_type": "code",
   "execution_count": 199,
   "metadata": {},
   "outputs": [],
   "source": [
    "# 8. Compile model\n",
    "model.compile(loss='categorical_crossentropy',\n",
    "              optimizer='adam',\n",
    "              metrics=['accuracy'])"
   ]
  },
  {
   "cell_type": "markdown",
   "metadata": {},
   "source": [
    "Hier lohnt es sich ev., kurz mit der batch_size zu spielen. Bei mir bspw dauert eine Epoche ~13s für eine batch_size von 32, für eine batch_size von 512 jedoch nur ~3s."
   ]
  },
  {
   "cell_type": "code",
   "execution_count": 200,
   "metadata": {},
   "outputs": [
    {
     "name": "stdout",
     "output_type": "stream",
     "text": [
      "Train on 7348 samples, validate on 1837 samples\n",
      "Epoch 1/10\n",
      "7348/7348 [==============================] - 5s 697us/step - loss: 1.4509 - acc: 0.5216 - val_loss: 0.6325 - val_acc: 0.8498\n",
      "Epoch 2/10\n",
      "7348/7348 [==============================] - 3s 374us/step - loss: 0.6750 - acc: 0.8048 - val_loss: 0.4961 - val_acc: 0.8639\n",
      "Epoch 3/10\n",
      "7348/7348 [==============================] - 3s 373us/step - loss: 0.5174 - acc: 0.8537 - val_loss: 0.4067 - val_acc: 0.8792\n",
      "Epoch 4/10\n",
      "7348/7348 [==============================] - 3s 369us/step - loss: 0.4305 - acc: 0.8772 - val_loss: 0.3666 - val_acc: 0.8884\n",
      "Epoch 5/10\n",
      "7348/7348 [==============================] - 3s 378us/step - loss: 0.3694 - acc: 0.8895 - val_loss: 0.3219 - val_acc: 0.9091\n",
      "Epoch 6/10\n",
      "7348/7348 [==============================] - 3s 374us/step - loss: 0.3275 - acc: 0.9031 - val_loss: 0.3031 - val_acc: 0.9113\n",
      "Epoch 7/10\n",
      "7348/7348 [==============================] - 3s 379us/step - loss: 0.2925 - acc: 0.9128 - val_loss: 0.2882 - val_acc: 0.9145\n",
      "Epoch 8/10\n",
      "7348/7348 [==============================] - 3s 366us/step - loss: 0.2648 - acc: 0.9217 - val_loss: 0.2737 - val_acc: 0.9205\n",
      "Epoch 9/10\n",
      "7348/7348 [==============================] - 3s 371us/step - loss: 0.2412 - acc: 0.9272 - val_loss: 0.2704 - val_acc: 0.9200\n",
      "Epoch 10/10\n",
      "7348/7348 [==============================] - 3s 373us/step - loss: 0.2262 - acc: 0.9276 - val_loss: 0.2667 - val_acc: 0.9222\n"
     ]
    }
   ],
   "source": [
    "# 9. Fit model on training data\n",
    "hist = model.fit(X_train, y_train, validation_data=(X_val, y_val), batch_size=512, epochs=10, verbose=1)"
   ]
  },
  {
   "cell_type": "code",
   "execution_count": 201,
   "metadata": {},
   "outputs": [
    {
     "data": {
      "text/plain": [
       "<matplotlib.legend.Legend at 0x7f1cd7ca58>"
      ]
     },
     "execution_count": 201,
     "metadata": {},
     "output_type": "execute_result"
    },
    {
     "data": {
      "image/png": "[encoded data removed]",
      "text/plain": [
       "<Figure size 432x288 with 1 Axes>"
      ]
     },
     "metadata": {},
     "output_type": "display_data"
    }
   ],
   "source": [
    "plt.plot(hist.history['acc'],label='acc')\n",
    "plt.plot(hist.history['val_acc'],label='val_acc')\n",
    "plt.ylim(0,1)\n",
    "plt.title('2 Conv, 2 Dense layers, after 10 Epochs')\n",
    "plt.legend()"
   ]
  },
  {
   "cell_type": "code",
   "execution_count": 202,
   "metadata": {},
   "outputs": [
    {
     "name": "stdout",
     "output_type": "stream",
     "text": [
      "Train on 7348 samples, validate on 1837 samples\n",
      "Epoch 1/30\n",
      "7348/7348 [==============================] - 3s 377us/step - loss: 0.2131 - acc: 0.9341 - val_loss: 0.2572 - val_acc: 0.9227\n",
      "Epoch 2/30\n",
      "7348/7348 [==============================] - 3s 364us/step - loss: 0.1959 - acc: 0.9373 - val_loss: 0.2526 - val_acc: 0.9260\n",
      "Epoch 3/30\n",
      "7348/7348 [==============================] - 3s 358us/step - loss: 0.1879 - acc: 0.9407 - val_loss: 0.2549 - val_acc: 0.9260\n",
      "Epoch 4/30\n",
      "7348/7348 [==============================] - 3s 372us/step - loss: 0.1671 - acc: 0.9476 - val_loss: 0.2518 - val_acc: 0.9292\n",
      "Epoch 5/30\n",
      "7348/7348 [==============================] - 3s 375us/step - loss: 0.1644 - acc: 0.9471 - val_loss: 0.2524 - val_acc: 0.9292\n",
      "Epoch 6/30\n",
      "7348/7348 [==============================] - 3s 381us/step - loss: 0.1552 - acc: 0.9498 - val_loss: 0.2607 - val_acc: 0.9260\n",
      "Epoch 7/30\n",
      "7348/7348 [==============================] - 3s 367us/step - loss: 0.1407 - acc: 0.9526 - val_loss: 0.2656 - val_acc: 0.9238\n",
      "Epoch 8/30\n",
      "7348/7348 [==============================] - 3s 383us/step - loss: 0.1339 - acc: 0.9556 - val_loss: 0.2527 - val_acc: 0.9298\n",
      "Epoch 9/30\n",
      "7348/7348 [==============================] - 3s 372us/step - loss: 0.1223 - acc: 0.9579 - val_loss: 0.2720 - val_acc: 0.9222\n",
      "Epoch 10/30\n",
      "7348/7348 [==============================] - 3s 363us/step - loss: 0.1198 - acc: 0.9612 - val_loss: 0.2655 - val_acc: 0.9265\n",
      "Epoch 11/30\n",
      "7348/7348 [==============================] - 3s 373us/step - loss: 0.1060 - acc: 0.9649 - val_loss: 0.2746 - val_acc: 0.9227\n",
      "Epoch 12/30\n",
      "7348/7348 [==============================] - 3s 368us/step - loss: 0.0997 - acc: 0.9660 - val_loss: 0.2686 - val_acc: 0.9260\n",
      "Epoch 13/30\n",
      "7348/7348 [==============================] - 3s 374us/step - loss: 0.0966 - acc: 0.9676 - val_loss: 0.2700 - val_acc: 0.9287\n",
      "Epoch 14/30\n",
      "7348/7348 [==============================] - 3s 367us/step - loss: 0.0984 - acc: 0.9680 - val_loss: 0.2822 - val_acc: 0.9292\n",
      "Epoch 15/30\n",
      "7348/7348 [==============================] - 3s 369us/step - loss: 0.0918 - acc: 0.9694 - val_loss: 0.2677 - val_acc: 0.9352\n",
      "Epoch 16/30\n",
      "7348/7348 [==============================] - 3s 372us/step - loss: 0.0936 - acc: 0.9676 - val_loss: 0.2718 - val_acc: 0.9298\n",
      "Epoch 17/30\n",
      "7348/7348 [==============================] - 3s 366us/step - loss: 0.0815 - acc: 0.9720 - val_loss: 0.2949 - val_acc: 0.9303\n",
      "Epoch 18/30\n",
      "7348/7348 [==============================] - 3s 383us/step - loss: 0.0837 - acc: 0.9710 - val_loss: 0.2865 - val_acc: 0.9320\n",
      "Epoch 19/30\n",
      "7348/7348 [==============================] - 3s 369us/step - loss: 0.0795 - acc: 0.9731 - val_loss: 0.2833 - val_acc: 0.9358\n",
      "Epoch 20/30\n",
      "7348/7348 [==============================] - 3s 366us/step - loss: 0.0724 - acc: 0.9750 - val_loss: 0.2855 - val_acc: 0.9287\n",
      "Epoch 21/30\n",
      "7348/7348 [==============================] - 3s 370us/step - loss: 0.0718 - acc: 0.9759 - val_loss: 0.2977 - val_acc: 0.9271\n",
      "Epoch 22/30\n",
      "7348/7348 [==============================] - 3s 374us/step - loss: 0.0719 - acc: 0.9750 - val_loss: 0.3182 - val_acc: 0.9298\n",
      "Epoch 23/30\n",
      "7348/7348 [==============================] - 3s 373us/step - loss: 0.0703 - acc: 0.9763 - val_loss: 0.2938 - val_acc: 0.9309\n",
      "Epoch 24/30\n",
      "7348/7348 [==============================] - 3s 370us/step - loss: 0.0652 - acc: 0.9780 - val_loss: 0.2905 - val_acc: 0.9341\n",
      "Epoch 25/30\n",
      "7348/7348 [==============================] - 3s 375us/step - loss: 0.0661 - acc: 0.9793 - val_loss: 0.3135 - val_acc: 0.9325\n",
      "Epoch 26/30\n",
      "7348/7348 [==============================] - 3s 364us/step - loss: 0.0664 - acc: 0.9750 - val_loss: 0.3076 - val_acc: 0.9303\n",
      "Epoch 27/30\n",
      "7348/7348 [==============================] - 3s 377us/step - loss: 0.0603 - acc: 0.9800 - val_loss: 0.3046 - val_acc: 0.9320\n",
      "Epoch 28/30\n",
      "7348/7348 [==============================] - 3s 384us/step - loss: 0.0571 - acc: 0.9789 - val_loss: 0.3216 - val_acc: 0.9292\n",
      "Epoch 29/30\n",
      "7348/7348 [==============================] - 3s 368us/step - loss: 0.0603 - acc: 0.9800 - val_loss: 0.3272 - val_acc: 0.9309\n",
      "Epoch 30/30\n",
      "7348/7348 [==============================] - 3s 368us/step - loss: 0.0560 - acc: 0.9803 - val_loss: 0.3166 - val_acc: 0.9309\n"
     ]
    }
   ],
   "source": [
    "#noch etwas weitertrainieren könnte helfen?\n",
    "hist = model.fit(X_train, y_train, validation_data=(X_val, y_val), batch_size=512, epochs=30, verbose=1)"
   ]
  },
  {
   "cell_type": "code",
   "execution_count": 224,
   "metadata": {},
   "outputs": [
    {
     "name": "stdout",
     "output_type": "stream",
     "text": [
      "['loss', 'acc']\n"
     ]
    },
    {
     "data": {
      "text/plain": [
       "array([0.32, 0.93])"
      ]
     },
     "execution_count": 224,
     "metadata": {},
     "output_type": "execute_result"
    }
   ],
   "source": [
    "# 10. Evaluate model on validation data\n",
    "score = model.evaluate(X_val, y_val, verbose=0)\n",
    "print(model.metrics_names)\n",
    "np.around(score,2)"
   ]
  },
  {
   "cell_type": "code",
   "execution_count": 225,
   "metadata": {},
   "outputs": [
    {
     "data": {
      "text/plain": [
       "<matplotlib.legend.Legend at 0x7f1ab93be0>"
      ]
     },
     "execution_count": 225,
     "metadata": {},
     "output_type": "execute_result"
    },
    {
     "data": {
      "image/png": "[encoded data removed]",
      "text/plain": [
       "<Figure size 432x288 with 1 Axes>"
      ]
     },
     "metadata": {},
     "output_type": "display_data"
    }
   ],
   "source": [
    "plt.plot(hist.history['acc'],label='acc')\n",
    "plt.plot(hist.history['val_acc'],label='val_acc')\n",
    "plt.ylim(0,1)\n",
    "plt.title('2 Conv, 2 Dense layers, after 40 Epochs\\Validation Score {0:1.2f}'.format(score[1]))\n",
    "plt.legend()"
   ]
  },
  {
   "cell_type": "markdown",
   "metadata": {},
   "source": [
    "Versuchen wir es nun mit einer etwas tieferen Architektur!"
   ]
  },
  {
   "cell_type": "code",
   "execution_count": 205,
   "metadata": {},
   "outputs": [],
   "source": [
    "# 7. Define model architecture\n",
    "model2 = Sequential()\n",
    "model2.add(Convolution2D(32, kernel_size=(3, 3),activation='relu',input_shape=(28,28,1),name='myconv1_1'))\n",
    "model2.add(Convolution2D(32, (3, 3), activation='relu',name='myconv1_2'))\n",
    "model2.add(MaxPooling2D(pool_size=(2,2)))\n",
    "model2.add(Dropout(0.25))\n",
    "\n",
    "model2.add(Convolution2D(32, kernel_size=(3, 3),activation='relu',input_shape=(28,28,1),name='myconv2_1'))\n",
    "model2.add(Convolution2D(32, (3, 3), activation='relu',name='myconv2_2'))\n",
    "model2.add(MaxPooling2D(pool_size=(2,2)))\n",
    "model2.add(Dropout(0.25))\n",
    " \n",
    "model2.add(Flatten())\n",
    "model2.add(Dense(128, activation='relu',name='mydense1'))\n",
    "model2.add(Dense(128, activation='relu',name='mydense2'))\n",
    "model2.add(Dropout(0.5))\n",
    "model2.add(Dense(10, activation='softmax'))\n",
    "\n",
    "# 8. Compile model\n",
    "model2.compile(loss='categorical_crossentropy',\n",
    "              optimizer='adam',\n",
    "              metrics=['accuracy'])"
   ]
  },
  {
   "cell_type": "code",
   "execution_count": 208,
   "metadata": {},
   "outputs": [
    {
     "name": "stdout",
     "output_type": "stream",
     "text": [
      "Train on 6613 samples, validate on 735 samples\n",
      "Epoch 1/20\n",
      "6613/6613 [==============================] - 4s 610us/step - loss: 0.2746 - acc: 0.9180 - val_loss: 0.3090 - val_acc: 0.9048\n",
      "Epoch 2/20\n",
      "6613/6613 [==============================] - 4s 588us/step - loss: 0.2534 - acc: 0.9221 - val_loss: 0.3154 - val_acc: 0.9075\n",
      "Epoch 3/20\n",
      "6613/6613 [==============================] - 4s 582us/step - loss: 0.2396 - acc: 0.9268 - val_loss: 0.2854 - val_acc: 0.9129\n",
      "Epoch 4/20\n",
      "6613/6613 [==============================] - 4s 601us/step - loss: 0.2313 - acc: 0.9258 - val_loss: 0.2800 - val_acc: 0.9238\n",
      "Epoch 5/20\n",
      "6613/6613 [==============================] - 4s 589us/step - loss: 0.2222 - acc: 0.9321 - val_loss: 0.2742 - val_acc: 0.9184\n",
      "Epoch 6/20\n",
      "6613/6613 [==============================] - 4s 597us/step - loss: 0.2120 - acc: 0.9326 - val_loss: 0.2600 - val_acc: 0.9279\n",
      "Epoch 7/20\n",
      "6613/6613 [==============================] - 4s 598us/step - loss: 0.2003 - acc: 0.9327 - val_loss: 0.2691 - val_acc: 0.9279\n",
      "Epoch 8/20\n",
      "6613/6613 [==============================] - 4s 603us/step - loss: 0.1900 - acc: 0.9422 - val_loss: 0.2646 - val_acc: 0.9252\n",
      "Epoch 9/20\n",
      "6613/6613 [==============================] - 4s 597us/step - loss: 0.1700 - acc: 0.9492 - val_loss: 0.2685 - val_acc: 0.9265\n",
      "Epoch 10/20\n",
      "6613/6613 [==============================] - 4s 608us/step - loss: 0.1728 - acc: 0.9457 - val_loss: 0.2674 - val_acc: 0.9224: 1s - loss: 0.16\n",
      "Epoch 11/20\n",
      "6613/6613 [==============================] - 4s 598us/step - loss: 0.1682 - acc: 0.9456 - val_loss: 0.2634 - val_acc: 0.9265\n",
      "Epoch 12/20\n",
      "6613/6613 [==============================] - 4s 600us/step - loss: 0.1665 - acc: 0.9468 - val_loss: 0.2539 - val_acc: 0.9347\n",
      "Epoch 13/20\n",
      "6613/6613 [==============================] - 4s 576us/step - loss: 0.1508 - acc: 0.9534 - val_loss: 0.2545 - val_acc: 0.9320\n",
      "Epoch 14/20\n",
      "6613/6613 [==============================] - 4s 582us/step - loss: 0.1514 - acc: 0.9527 - val_loss: 0.2585 - val_acc: 0.9306\n",
      "Epoch 15/20\n",
      "6613/6613 [==============================] - 4s 564us/step - loss: 0.1410 - acc: 0.9563 - val_loss: 0.2647 - val_acc: 0.9306\n",
      "Epoch 16/20\n",
      "6613/6613 [==============================] - 4s 591us/step - loss: 0.1431 - acc: 0.9548 - val_loss: 0.2758 - val_acc: 0.9265\n",
      "Epoch 17/20\n",
      "6613/6613 [==============================] - 4s 600us/step - loss: 0.1301 - acc: 0.9599 - val_loss: 0.3072 - val_acc: 0.9252\n",
      "Epoch 18/20\n",
      "6613/6613 [==============================] - 4s 598us/step - loss: 0.1235 - acc: 0.9599 - val_loss: 0.2636 - val_acc: 0.9306\n",
      "Epoch 19/20\n",
      "6613/6613 [==============================] - 4s 602us/step - loss: 0.1199 - acc: 0.9625 - val_loss: 0.2974 - val_acc: 0.9293\n",
      "Epoch 20/20\n",
      "6613/6613 [==============================] - 4s 588us/step - loss: 0.1206 - acc: 0.9604 - val_loss: 0.2783 - val_acc: 0.9347\n"
     ]
    }
   ],
   "source": [
    "# 9. Fit model on training data\n",
    "NrEpochs2 = 20\n",
    "hist2 = model2.fit(X_train, y_train, \n",
    "          batch_size=128, epochs=NrEpochs2, validation_data=(X_val, y_val),verbose=1)# oder validation_split=0.1"
   ]
  },
  {
   "cell_type": "code",
   "execution_count": 233,
   "metadata": {},
   "outputs": [
    {
     "data": {
      "text/plain": [
       "[0.07136770273408222, 0.9840772998806699]"
      ]
     },
     "execution_count": 233,
     "metadata": {},
     "output_type": "execute_result"
    }
   ],
   "source": [
    "# 10. Evaluate model on test data\n",
    "#model2.evaluate?\n",
    "training_score = model2.evaluate(X_train, y_train, verbose=0)\n",
    "validation_score = model2.evaluate(X_val, y_val, verbose=0)\n",
    "\n",
    "training_score"
   ]
  },
  {
   "cell_type": "code",
   "execution_count": 238,
   "metadata": {},
   "outputs": [
    {
     "data": {
      "image/png": "[encoded data removed]",
      "text/plain": [
       "<Figure size 432x288 with 1 Axes>"
      ]
     },
     "metadata": {},
     "output_type": "display_data"
    }
   ],
   "source": [
    "plt.plot(hist2.history['acc'],label='acc')\n",
    "plt.plot(hist2.history['val_acc'],label='val_acc')\n",
    "plt.ylim(0,1)\n",
    "plt.title('2 Conv, 2 Dense layers, after {0} Epochs\\nTraining Score {1:1.2f},\\n\\\n",
    "Validation Score {2:1.2f}'.format(NrEpochs2,training_score[1],validation_score[1]))\n",
    "plt.legend();"
   ]
  },
  {
   "cell_type": "markdown",
   "metadata": {},
   "source": [
    "Zuletzt versuchen wir noch ein fast komplettes AlexNet. Dies mag auf nichtspezialisierter Hardware etwas lange dauern..."
   ]
  },
  {
   "cell_type": "code",
   "execution_count": 226,
   "metadata": {},
   "outputs": [],
   "source": [
    "from keras.layers import Conv2D,BatchNormalization,ZeroPadding2D\n",
    "from keras.regularizers import l2\n",
    "l2_reg = 0.05\n",
    "n_classes = y_train.shape[1]\n",
    "\n",
    "alexnet = Sequential()\n",
    "alexnet.add(Conv2D(96, (11, 11), input_shape=(28,28,1),\n",
    "    padding='same', kernel_regularizer=l2(l2_reg)))\n",
    "alexnet.add(BatchNormalization())\n",
    "alexnet.add(Activation('relu'))\n",
    "alexnet.add(MaxPooling2D(pool_size=(2, 2)))\n",
    "\n",
    "# Layer 2\n",
    "alexnet.add(Conv2D(256, (5, 5), padding='same'))\n",
    "alexnet.add(BatchNormalization())\n",
    "alexnet.add(Activation('relu'))\n",
    "alexnet.add(MaxPooling2D(pool_size=(2, 2)))\n",
    "\n",
    "# Layer 3\n",
    "alexnet.add(ZeroPadding2D((1, 1)))\n",
    "alexnet.add(Conv2D(512, (3, 3), padding='same'))\n",
    "alexnet.add(BatchNormalization())\n",
    "alexnet.add(Activation('relu'))\n",
    "alexnet.add(MaxPooling2D(pool_size=(2, 2)))\n",
    "\n",
    "# Layer 6\n",
    "alexnet.add(Flatten())\n",
    "alexnet.add(Dense(3072))\n",
    "alexnet.add(BatchNormalization())\n",
    "alexnet.add(Activation('relu'))\n",
    "alexnet.add(Dropout(0.5))\n",
    "\n",
    "# Layer 7\n",
    "alexnet.add(Dense(4096))\n",
    "alexnet.add(BatchNormalization())\n",
    "alexnet.add(Activation('relu'))\n",
    "alexnet.add(Dropout(0.5))\n",
    "\n",
    "# Layer 8\n",
    "alexnet.add(Dense(n_classes))\n",
    "alexnet.add(BatchNormalization())\n",
    "alexnet.add(Activation('softmax'))"
   ]
  },
  {
   "cell_type": "code",
   "execution_count": 227,
   "metadata": {},
   "outputs": [],
   "source": [
    "# 8. Compile model\n",
    "alexnet.compile(loss='categorical_crossentropy',\n",
    "              optimizer='adam',\n",
    "              metrics=['accuracy'])"
   ]
  },
  {
   "cell_type": "code",
   "execution_count": 228,
   "metadata": {},
   "outputs": [
    {
     "name": "stdout",
     "output_type": "stream",
     "text": [
      "Train on 6613 samples, validate on 735 samples\n",
      "Epoch 1/10\n",
      "6613/6613 [==============================] - 54s 8ms/step - loss: 0.7888 - acc: 0.8660 - val_loss: 0.5753 - val_acc: 0.8871\n",
      "Epoch 2/10\n",
      "6613/6613 [==============================] - 35s 5ms/step - loss: 0.5284 - acc: 0.9344 - val_loss: 0.6327 - val_acc: 0.9102\n",
      "Epoch 3/10\n",
      "6613/6613 [==============================] - 35s 5ms/step - loss: 0.4316 - acc: 0.9512 - val_loss: 0.6811 - val_acc: 0.8884\n",
      "Epoch 4/10\n",
      "6613/6613 [==============================] - 35s 5ms/step - loss: 0.3739 - acc: 0.9584 - val_loss: 0.5255 - val_acc: 0.9333\n",
      "Epoch 5/10\n",
      "6613/6613 [==============================] - 36s 5ms/step - loss: 0.3185 - acc: 0.9710 - val_loss: 0.6043 - val_acc: 0.9197\n",
      "Epoch 6/10\n",
      "6613/6613 [==============================] - 36s 5ms/step - loss: 0.2803 - acc: 0.9778 - val_loss: 0.5157 - val_acc: 0.9224\n",
      "Epoch 7/10\n",
      "6613/6613 [==============================] - 36s 5ms/step - loss: 0.2471 - acc: 0.9823 - val_loss: 0.5354 - val_acc: 0.9184\n",
      "Epoch 8/10\n",
      "6613/6613 [==============================] - 35s 5ms/step - loss: 0.2091 - acc: 0.9891 - val_loss: 0.5443 - val_acc: 0.9252\n",
      "Epoch 9/10\n",
      "6613/6613 [==============================] - 35s 5ms/step - loss: 0.1876 - acc: 0.9924 - val_loss: 0.5034 - val_acc: 0.9333\n",
      "Epoch 10/10\n",
      "6613/6613 [==============================] - 35s 5ms/step - loss: 0.1702 - acc: 0.9927 - val_loss: 0.6339 - val_acc: 0.9075\n"
     ]
    }
   ],
   "source": [
    "# 9. Fit model on training data\n",
    "NrEpochs=20\n",
    "hist3 = alexnet.fit(X_train, y_train, \n",
    "          batch_size=128, epochs=10, validation_data=(X_val, y_val), verbose=1)"
   ]
  },
  {
   "cell_type": "code",
   "execution_count": 239,
   "metadata": {},
   "outputs": [],
   "source": [
    "training_score = alexnet.evaluate(X_train, y_train, verbose=0)\n",
    "validation_score = alexnet.evaluate(X_val, y_val, verbose=0)"
   ]
  },
  {
   "cell_type": "code",
   "execution_count": 240,
   "metadata": {},
   "outputs": [
    {
     "data": {
      "image/png": "[encoded data removed]",
      "text/plain": [
       "<Figure size 432x288 with 1 Axes>"
      ]
     },
     "metadata": {},
     "output_type": "display_data"
    }
   ],
   "source": [
    "plt.plot(hist3.history['acc'],label='acc')\n",
    "plt.plot(hist3.history['val_acc'],label='val_acc')\n",
    "plt.ylim(0,1)\n",
    "plt.title('2 Conv, 2 Dense layers, after {0} Epochs\\nTraining Score {1:1.2f}\\n\\\n",
    "Validation Score {2:1.2f}'.format(NrEpochs3,training_score[1],validation_score[1]))\n",
    "plt.legend();"
   ]
  },
  {
   "cell_type": "markdown",
   "metadata": {},
   "source": [
    "Aua! Hier ist Overfitting sichtbar: Wir haben zu wenig Daten, um all die Parameter zu fitten. Der Validierungsfehler ist kleiner als beim vorletzten Modell, `model2`. Bei der model selection entscheiden wir uns daher für Modell 2."
   ]
  },
  {
   "cell_type": "markdown",
   "metadata": {},
   "source": [
    "Versuchen wir nun, die Ausgabe des neuronalen Netzes zu verstehen:"
   ]
  },
  {
   "cell_type": "code",
   "execution_count": 249,
   "metadata": {},
   "outputs": [],
   "source": [
    "y_hat_train = model2.predict(X_train)\n",
    "y_hat_test = model2.predict(X_test)\n",
    "assert np.any(np.isnan(y_hat_train)) == False, 'Achtung, NaN-Werte sind vorhanden'"
   ]
  },
  {
   "cell_type": "code",
   "execution_count": 247,
   "metadata": {},
   "outputs": [
    {
     "name": "stdout",
     "output_type": "stream",
     "text": [
      "(7348, 10)\n",
      "1.0\n"
     ]
    },
    {
     "data": {
      "text/plain": [
       "array([3.1021794e-15, 9.9706179e-15, 9.9999809e-01, 3.9186774e-13,\n",
       "       8.6951317e-08, 1.5960460e-11, 1.8591437e-06, 5.2714343e-14,\n",
       "       1.3427264e-12, 3.4149105e-15], dtype=float32)"
      ]
     },
     "execution_count": 247,
     "metadata": {},
     "output_type": "execute_result"
    }
   ],
   "source": [
    "#Die Ausgabe ist one-hot:\n",
    "print(y_hat_train.shape)\n",
    "#und normiert, wegen dem Softmax-Layer am Schluss:\n",
    "print(np.sum(y_hat_train[0]))\n",
    "y_hat_train[0]"
   ]
  },
  {
   "cell_type": "markdown",
   "metadata": {},
   "source": [
    "Der Softmax-Layer ist deutlich sichtbar daran, dass das folgende Bild v.a. Werte nahe 0 und 1 zeigen, aber wenig dazwischen:"
   ]
  },
  {
   "cell_type": "code",
   "execution_count": 265,
   "metadata": {
    "scrolled": true
   },
   "outputs": [
    {
     "data": {
      "image/png": "[encoded data removed]",
      "text/plain": [
       "<Figure size 432x288 with 2 Axes>"
      ]
     },
     "metadata": {},
     "output_type": "display_data"
    }
   ],
   "source": [
    "plt.subplot(1,1,1)\n",
    "plt.imshow(y_hat_train)\n",
    "ax = plt.gca()\n",
    "ax.set_aspect('auto')\n",
    "plt.colorbar();"
   ]
  },
  {
   "cell_type": "code",
   "execution_count": 268,
   "metadata": {},
   "outputs": [
    {
     "data": {
      "text/plain": [
       "array([2, 9, 3, 0, 4, 5, 7, 1, 6, 8])"
      ]
     },
     "execution_count": 268,
     "metadata": {},
     "output_type": "execute_result"
    }
   ],
   "source": [
    "#Mit einem Argmax bestimmen wir das Label:\n",
    "y_hat_train_int = pd.Series(np.argmax(y_hat_train,axis=1),name='target')\n",
    "y_hat_test_int = pd.Series(np.argmax(y_hat_test,axis=1),name='target')\n",
    "\n",
    "#Das Netzwerk sollte zumindestens jedes Label mal benutzen!\n",
    "y_hat_train_int.unique()"
   ]
  },
  {
   "cell_type": "code",
   "execution_count": 270,
   "metadata": {},
   "outputs": [
    {
     "data": {
      "text/plain": [
       "{0: 'A',\n",
       " 1: 'B',\n",
       " 2: 'C',\n",
       " 3: 'D',\n",
       " 4: 'E',\n",
       " 5: 'F',\n",
       " 6: 'G',\n",
       " 7: 'H',\n",
       " 8: 'I',\n",
       " 9: 'J'}"
      ]
     },
     "execution_count": 270,
     "metadata": {},
     "output_type": "execute_result"
    }
   ],
   "source": [
    "#Nun benötigen wir für die Submission labels 'A' bis 'J':\n",
    "int_to_label_dict = dict(zip(label_to_int_dict.values(),label_to_int_dict.keys()))\n",
    "int_to_label_dict"
   ]
  },
  {
   "cell_type": "code",
   "execution_count": 273,
   "metadata": {},
   "outputs": [
    {
     "data": {
      "text/plain": [
       "array(['C', 'J', 'D', 'A', 'E', 'F', 'H', 'B', 'G', 'I'], dtype=object)"
      ]
     },
     "execution_count": 273,
     "metadata": {},
     "output_type": "execute_result"
    }
   ],
   "source": [
    "y_hat_train_as_letters = y_hat_train_int.map(int_to_label_dict)\n",
    "y_hat_train_as_letters.unique()"
   ]
  },
  {
   "cell_type": "code",
   "execution_count": 287,
   "metadata": {},
   "outputs": [],
   "source": [
    "y_hat_test_as_letters = y_hat_test_int.map(int_to_label_dict)"
   ]
  },
  {
   "cell_type": "code",
   "execution_count": 288,
   "metadata": {},
   "outputs": [],
   "source": [
    "y_hat_test = pd.Series(y_hat_test_as_letters,name='target')\n",
    "y_hat_test.index.name = 'Id'"
   ]
  },
  {
   "cell_type": "code",
   "execution_count": 291,
   "metadata": {},
   "outputs": [],
   "source": [
    "y_hat_test.to_csv('prediction_toedtli.csv',header=True)"
   ]
  },
  {
   "cell_type": "code",
   "execution_count": null,
   "metadata": {},
   "outputs": [],
   "source": []
  }
 ],
 "metadata": {
  "kernelspec": {
   "display_name": "v_py3",
   "language": "python",
   "name": "v_py3"
  },
  "language_info": {
   "codemirror_mode": {
    "name": "ipython",
    "version": 3
   },
   "file_extension": ".py",
   "mimetype": "text/x-python",
   "name": "python",
   "nbconvert_exporter": "python",
   "pygments_lexer": "ipython3",
   "version": "3.5.2"
  }
 },
 "nbformat": 4,
 "nbformat_minor": 2
}
