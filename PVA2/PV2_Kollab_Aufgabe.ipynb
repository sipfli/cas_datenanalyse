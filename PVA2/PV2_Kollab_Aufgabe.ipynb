{
  "nbformat": 4,
  "nbformat_minor": 0,
  "metadata": {
    "colab": {
      "name": "PV2_Kollab_Aufgabe.ipynb",
      "version": "0.3.2",
      "provenance": [],
      "include_colab_link": true
    },
    "kernelspec": {
      "name": "python3",
      "display_name": "Python 3"
    }
  },
  "cells": [
    {
      "cell_type": "markdown",
      "metadata": {
        "id": "view-in-github",
        "colab_type": "text"
      },
      "source": [
        "<a href=\"https://colab.research.google.com/github/sakuronohana/cas_datenanalyse/blob/master/PVA2/PV2_Kollab_Aufgabe.ipynb\" target=\"_parent\"><img src=\"https://colab.research.google.com/assets/colab-badge.svg\" alt=\"Open In Colab\"/></a>"
      ]
    },
    {
      "metadata": {
        "id": "xicvQfvkZcNj",
        "colab_type": "text"
      },
      "cell_type": "markdown",
      "source": [
        "##Kollaborative Aufgabe: Analyse des erstellten Zeichen-Datensatzes##"
      ]
    },
    {
      "metadata": {
        "id": "ruqG_GyDZjUj",
        "colab_type": "code",
        "colab": {
          "base_uri": "https://localhost:8080/",
          "height": 34
        },
        "outputId": "d5014103-8a2e-458c-e463-238a1e02d1e6"
      },
      "cell_type": "code",
      "source": [
        "import glob\n",
        "import pandas as pd\n",
        "import numpy as np\n",
        "\n",
        "#Import Datensatz\n",
        "\n",
        "data_path = 'https://raw.githubusercontent.com/sakuronohana/cas_datenanalyse/master/PVA2/Segment_pics/pd-pdi.csv'\n",
        "\n",
        "data = np.array(pd.read_csv(data_path, header=None))\n",
        "data = data.reshape(1,6060)\n",
        "data.shape\n",
        "\n",
        "\n",
        "\n",
        "\n"
      ],
      "execution_count": 27,
      "outputs": [
        {
          "output_type": "execute_result",
          "data": {
            "text/plain": [
              "(1, 6060)"
            ]
          },
          "metadata": {
            "tags": []
          },
          "execution_count": 27
        }
      ]
    }
  ]
}