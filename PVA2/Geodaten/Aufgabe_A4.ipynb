{
 "cells": [
  {
   "cell_type": "markdown",
   "metadata": {},
   "source": [
    "# Aufgabe A4"
   ]
  },
  {
   "cell_type": "markdown",
   "metadata": {},
   "source": [
    "### Imputation\n",
    "Der Datensatz: Diabetes Datensatz enthält Testdaten zur Prognose der Erkrankung an Diatbetes innerhalb von 5 Jahren basierend auf medizinischen Daten. Das ist ein binäres Klassifikationsproblem mit 8 Eingabevariablen und 1 Ausgabevariablen.\n",
    "Folgende Eingabevariablen sind vorhanden:\n",
    "1. Anzahl an Schwangerschaften\n",
    "2. Plasma Glucose Konzentration (2-Studnen oraler Glukose Toleranz test)\n",
    "3. Diastolischer Blutdruck \n",
    "4. Trizeps Hautfaltendicke\n",
    "5. 2-Stunden Serum Insulin\n",
    "6. erbliche Vorbelastung (Diabetes pedigree function)\n",
    "7. Alter (Jahr)\n",
    "8. Klassenvariable (0...kein Diabetes oder 1...Diabetes)\n",
    "\n",
    "Dieser Datensatz enthält fehlende Werte!\n",
    "***"
   ]
  },
  {
   "cell_type": "code",
   "execution_count": null,
   "metadata": {
    "collapsed": true
   },
   "outputs": [],
   "source": []
  },
  {
   "cell_type": "markdown",
   "metadata": {},
   "source": [
    "a. Lesen Sie den Datensatz \"pdiabetes.csv\" ein (Verwenden sie panda)\n",
    "    a.1 Sehen Sie sich die ersten 20 Zeilen an.\n",
    "    a.2 Sehen Sie sich die statistische Information der Datei an (describe)"
   ]
  },
  {
   "cell_type": "code",
   "execution_count": null,
   "metadata": {
    "collapsed": true
   },
   "outputs": [],
   "source": []
  },
  {
   "cell_type": "markdown",
   "metadata": {},
   "source": [
    "b. Analysieren Sie den Datensatz inhaltlich, d.h. bringen Sie folgende Informationen in Erfahrung <br>\n",
    "> b.2 Plasma Glukose Konzentration (nach 2Stunden): Was wird gemessen? Normal- bzw. Grenzwerte? Physikalische Einheit? Möglicher Einfluss auf Diabetes? <br>\n",
    "> b.3 Diastolischer Blutdruck: Was wird gemessen? Normal- bzw. Grenzwerte? Physikalische Einheit? Möglicher Einfluss auf Diabetes? <br>\n",
    "> b.4 Trizeps Hautfaltendicke: Was wird gemessen? Physikalische Einheit? Möglicher Einfluss auf Diabetes? <br>\n",
    "> b.5 2-Stunden Serum Insulin: Was wird gemessen? Normal- bzw. Grenzwerte? Physikalische Einheit? Möglicher Einfluss auf Diabetes? <br>"
   ]
  },
  {
   "cell_type": "code",
   "execution_count": null,
   "metadata": {
    "collapsed": true
   },
   "outputs": [],
   "source": []
  },
  {
   "cell_type": "markdown",
   "metadata": {},
   "source": [
    "c. Dieser Datensatz enthält \"missing values\" in den Variablen/Features 2,3,4,5. (Verwenden Sie pandas und numpy)\n",
    "> c.1 Finden Sie heraus, wieviele fehlende Werte es pro Feature gibt (Zählen der Null-Werte in der Spalte) <br>\n",
    "> c.2 Ersetzen Sie die Nullwerte durch numpy.NaN (Verwenden von replace und numpy.NaN <br>\n",
    "> c.3 Sehen Sie sich den umgewandelten Datensatz an (..head(20)"
   ]
  },
  {
   "cell_type": "code",
   "execution_count": null,
   "metadata": {
    "collapsed": true
   },
   "outputs": [],
   "source": []
  },
  {
   "cell_type": "markdown",
   "metadata": {},
   "source": [
    "d. Strategien des Imputation <br>\n",
    "> d.1 Wieviele Datensätze müsste man entfernen? (..dropna() )<br>\n",
    "> d.2 Ersetze Feature 2 (Plasma Glucuse) durch den Mittelwert der Spalte (fillna() oder sklearn.preprocessing Imputer) <br>\n",
    "> d.3 Ersetze \"missing values\" der Feature 3 (diastolischer Blutdruck) durch den median und Feature 4 (Trizeps Hautfaltendicke) durch den \"häufigsten Wert\" der Spalte\n",
    "> Ersetze Feature 5 (Serum Insulin) durch ein beliebiges \"prediction model\", wo die Daten OHNE missing values als Trainingsdaten verwendet werden."
   ]
  },
  {
   "cell_type": "code",
   "execution_count": null,
   "metadata": {
    "collapsed": true
   },
   "outputs": [],
   "source": []
  }
 ],
 "metadata": {
  "kernelspec": {
   "display_name": "Python 3",
   "language": "python",
   "name": "python3"
  },
  "language_info": {
   "codemirror_mode": {
    "name": "ipython",
    "version": 3
   },
   "file_extension": ".py",
   "mimetype": "text/x-python",
   "name": "python",
   "nbconvert_exporter": "python",
   "pygments_lexer": "ipython3",
   "version": "3.5.3"
  }
 },
 "nbformat": 4,
 "nbformat_minor": 2
}
