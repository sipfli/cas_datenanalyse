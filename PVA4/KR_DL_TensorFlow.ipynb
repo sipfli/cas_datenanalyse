{
  "nbformat": 4,
  "nbformat_minor": 0,
  "metadata": {
    "colab": {
      "name": "KR_DL_TensorFlow.ipynb",
      "version": "0.3.2",
      "provenance": [],
      "include_colab_link": true
    },
    "kernelspec": {
      "name": "python3",
      "display_name": "Python 3"
    }
  },
  "cells": [
    {
      "cell_type": "markdown",
      "metadata": {
        "id": "view-in-github",
        "colab_type": "text"
      },
      "source": [
        "<a href=\"https://colab.research.google.com/github/sakuronohana/cas_datenanalyse/blob/master/PVA4/KR_DL_TensorFlow.ipynb\" target=\"_parent\"><img src=\"https://colab.research.google.com/assets/colab-badge.svg\" alt=\"Open In Colab\"/></a>"
      ]
    },
    {
      "cell_type": "markdown",
      "metadata": {
        "id": "ayOdAN5EM-Uz",
        "colab_type": "text"
      },
      "source": [
        "##Kurzreferaten zu Deep Learning Anwendungen - TensorFlow - Tutorial##\n",
        "\n",
        "Autoren: Fabio Cavalera / Patrik Di Lena\n",
        "\n",
        "Inhalt:\n",
        "\n",
        "*   Entstehung von TF\n",
        "*   Einsatzgebiet von TF\n",
        "*   Bestandteile (Module) von TF\n",
        "*   Beispiel Code TF\n",
        "\n"
      ]
    },
    {
      "cell_type": "markdown",
      "metadata": {
        "id": "bICxdn2_Pvlx",
        "colab_type": "text"
      },
      "source": [
        "#"
      ]
    },
    {
      "cell_type": "code",
      "metadata": {
        "id": "32aXUb2LM1Mi",
        "colab_type": "code",
        "colab": {}
      },
      "source": [
        ""
      ],
      "execution_count": 0,
      "outputs": []
    }
  ]
}