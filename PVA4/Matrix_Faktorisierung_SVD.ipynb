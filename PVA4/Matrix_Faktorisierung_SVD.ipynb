{
 "cells": [
  {
   "cell_type": "code",
   "execution_count": 1,
   "metadata": {
    "collapsed": true
   },
   "outputs": [],
   "source": [
    "import numpy as np\n",
    "np.set_printoptions(precision=2)"
   ]
  },
  {
   "cell_type": "markdown",
   "metadata": {},
   "source": [
    "# Matrixfaktorisierung mit SVD"
   ]
  },
  {
   "cell_type": "markdown",
   "metadata": {},
   "source": [
    "Die Singulärwertzerlegung nimmt eine Matrix R und teilt sie in 3 Faktoren:\n",
    "$$R=U\\cdot D\\cdot V$$"
   ]
  },
  {
   "cell_type": "code",
   "execution_count": 9,
   "metadata": {
    "collapsed": true
   },
   "outputs": [],
   "source": [
    "np.linalg.svd?"
   ]
  },
  {
   "cell_type": "code",
   "execution_count": 10,
   "metadata": {},
   "outputs": [
    {
     "data": {
      "text/plain": [
       "matrix([[5, 3, 4],\n",
       "        [0, 2, 4],\n",
       "        [4, 2, 0]])"
      ]
     },
     "execution_count": 10,
     "metadata": {},
     "output_type": "execute_result"
    }
   ],
   "source": [
    "r = np.matrix([[5,3,4],[0,2,4],[4,2,0]])\n",
    "r"
   ]
  },
  {
   "cell_type": "code",
   "execution_count": 11,
   "metadata": {
    "collapsed": true
   },
   "outputs": [],
   "source": [
    "#Beschreibe die Matrix r durch k latente Faktoren, \n",
    "#bzw. als eine Matrix rhat vom Rang k\n",
    "k=1"
   ]
  },
  {
   "cell_type": "code",
   "execution_count": 12,
   "metadata": {},
   "outputs": [
    {
     "data": {
      "text/plain": [
       "(matrix([[-0.82,  0.03, -0.57],\n",
       "         [-0.37, -0.78,  0.51],\n",
       "         [-0.43,  0.63,  0.65]]), matrix([[ 8.57,  0.  ,  0.  ],\n",
       "         [ 0.  ,  0.  ,  0.  ],\n",
       "         [ 0.  ,  0.  ,  0.  ]]), matrix([[-0.68, -0.48, -0.56],\n",
       "         [ 0.66, -0.06, -0.75],\n",
       "         [-0.33,  0.88, -0.35]]))"
      ]
     },
     "execution_count": 12,
     "metadata": {},
     "output_type": "execute_result"
    }
   ],
   "source": [
    "U,S,V = np.linalg.svd(r)\n",
    "if k==1:\n",
    "    S = np.matrix(np.diag([S[0],0,0]))\n",
    "elif k==2:\n",
    "    S = np.matrix(np.diag([S[0],S[1],0]))\n",
    "elif k==3:\n",
    "    S = np.matrix(np.diag(S))\n",
    "U,S,V"
   ]
  },
  {
   "cell_type": "markdown",
   "metadata": {},
   "source": [
    "Diese Zerlegung kann natürlich auch in eine Zerlegung in zwei Faktoren umgewandelt werden:"
   ]
  },
  {
   "cell_type": "code",
   "execution_count": 13,
   "metadata": {
    "collapsed": true
   },
   "outputs": [],
   "source": [
    "P = U*np.sqrt(S)\n",
    "Q = np.sqrt(S)*V"
   ]
  },
  {
   "cell_type": "markdown",
   "metadata": {},
   "source": [
    "**Aufgaben:**\n",
    "- Welchen Rang hat die Matrix P*Q?\n",
    "- Wieviele Floats müssen für P und Q gespeichert werden? Wieviele für P*Q? Wieviele für R?"
   ]
  },
  {
   "cell_type": "code",
   "execution_count": 14,
   "metadata": {},
   "outputs": [
    {
     "data": {
      "text/plain": [
       "array([[ 4.8 ,  3.35,  3.94],\n",
       "       [ 2.17,  1.51,  1.77],\n",
       "       [ 2.5 ,  1.74,  2.05]])"
      ]
     },
     "execution_count": 14,
     "metadata": {},
     "output_type": "execute_result"
    }
   ],
   "source": [
    "rhat=np.around(P*Q,7)\n",
    "rhat"
   ]
  },
  {
   "cell_type": "markdown",
   "metadata": {},
   "source": [
    "Vergleiche mit der ursprünglichen Matrix:"
   ]
  },
  {
   "cell_type": "code",
   "execution_count": 15,
   "metadata": {},
   "outputs": [
    {
     "data": {
      "text/plain": [
       "matrix([[5, 3, 4],\n",
       "        [0, 2, 4],\n",
       "        [4, 2, 0]])"
      ]
     },
     "execution_count": 15,
     "metadata": {},
     "output_type": "execute_result"
    }
   ],
   "source": [
    "r"
   ]
  },
  {
   "cell_type": "code",
   "execution_count": 16,
   "metadata": {},
   "outputs": [
    {
     "data": {
      "text/plain": [
       "matrix([[ 0.2 , -0.35,  0.06],\n",
       "        [-2.17,  0.49,  2.23],\n",
       "        [ 1.5 ,  0.26, -2.05]])"
      ]
     },
     "execution_count": 16,
     "metadata": {},
     "output_type": "execute_result"
    }
   ],
   "source": [
    "e = r-rhat\n",
    "e"
   ]
  },
  {
   "cell_type": "code",
   "execution_count": 17,
   "metadata": {},
   "outputs": [
    {
     "data": {
      "text/plain": [
       "16.559832942885361"
      ]
     },
     "execution_count": 17,
     "metadata": {},
     "output_type": "execute_result"
    }
   ],
   "source": [
    "e2=np.multiply(e,e)\n",
    "#print(e2)\n",
    "e2=np.sum(e2)\n",
    "#Fehler e^2=sum (rhat - r)^2\n",
    "e2"
   ]
  },
  {
   "cell_type": "markdown",
   "metadata": {},
   "source": [
    "1. **Aufgabe:** - Wieviele Einträge haben die Matrizen r, p und q?"
   ]
  },
  {
   "cell_type": "code",
   "execution_count": 104,
   "metadata": {
    "collapsed": true
   },
   "outputs": [],
   "source": [
    "import scipy.sparse\n",
    "R_sparse = scipy.sparse.csr_matrix?"
   ]
  },
  {
   "cell_type": "code",
   "execution_count": null,
   "metadata": {
    "collapsed": true
   },
   "outputs": [],
   "source": [
    "R_sparse = scipy.sparse.csr_matrix"
   ]
  },
  {
   "cell_type": "code",
   "execution_count": 107,
   "metadata": {
    "collapsed": true
   },
   "outputs": [],
   "source": [
    "NrRows=10\n",
    "NrCols=12\n",
    "density=0.2\n",
    "MaxRating=3"
   ]
  },
  {
   "cell_type": "code",
   "execution_count": 108,
   "metadata": {
    "collapsed": true
   },
   "outputs": [],
   "source": [
    "R_sparse=np.around(MaxRating*scipy.sparse.rand(NrRows,NrCols,density=density,format='csr'))"
   ]
  },
  {
   "cell_type": "code",
   "execution_count": 109,
   "metadata": {},
   "outputs": [
    {
     "data": {
      "text/plain": [
       "matrix([[ 0.,  0.,  0.,  0.,  0.,  1.,  0.,  2.,  0.,  0.,  0.,  0.],\n",
       "        [ 0.,  0.,  0.,  1.,  0.,  0.,  0.,  0.,  0.,  2.,  0.,  0.],\n",
       "        [ 0.,  0.,  0.,  0.,  0.,  0.,  0.,  0.,  0.,  0.,  0.,  0.],\n",
       "        [ 0.,  1.,  0.,  0.,  0.,  3.,  0.,  0.,  0.,  0.,  0.,  0.],\n",
       "        [ 0.,  1.,  2.,  0.,  0.,  3.,  0.,  0.,  0.,  1.,  0.,  2.],\n",
       "        [ 0.,  0.,  1.,  0.,  0.,  0.,  0.,  0.,  0.,  0.,  0.,  0.],\n",
       "        [ 0.,  0.,  0.,  0.,  2.,  0.,  0.,  1.,  0.,  0.,  0.,  0.],\n",
       "        [ 0.,  0.,  0.,  0.,  0.,  3.,  0.,  0.,  0.,  0.,  0.,  0.],\n",
       "        [ 0.,  0.,  0.,  0.,  0.,  0.,  0.,  3.,  3.,  0.,  0.,  1.],\n",
       "        [ 1.,  0.,  0.,  0.,  0.,  0.,  0.,  0.,  0.,  0.,  0.,  0.]])"
      ]
     },
     "execution_count": 109,
     "metadata": {},
     "output_type": "execute_result"
    }
   ],
   "source": [
    "R_sparse.todense()"
   ]
  },
  {
   "cell_type": "code",
   "execution_count": null,
   "metadata": {
    "collapsed": true
   },
   "outputs": [],
   "source": []
  }
 ],
 "metadata": {
  "kernelspec": {
   "display_name": "Python 3",
   "language": "python",
   "name": "python3"
  },
  "language_info": {
   "codemirror_mode": {
    "name": "ipython",
    "version": 3
   },
   "file_extension": ".py",
   "mimetype": "text/x-python",
   "name": "python",
   "nbconvert_exporter": "python",
   "pygments_lexer": "ipython3",
   "version": "3.5.2"
  }
 },
 "nbformat": 4,
 "nbformat_minor": 2
}
