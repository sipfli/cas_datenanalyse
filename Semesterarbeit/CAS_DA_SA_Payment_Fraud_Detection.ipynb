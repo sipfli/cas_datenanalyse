{
  "nbformat": 4,
  "nbformat_minor": 0,
  "metadata": {
    "colab": {
      "name": "CAS-DA-SA_Payment_Fraud_Detection.ipynb",
      "version": "0.3.2",
      "provenance": [],
      "include_colab_link": true
    },
    "kernelspec": {
      "name": "python3",
      "display_name": "Python 3"
    }
  },
  "cells": [
    {
      "cell_type": "markdown",
      "metadata": {
        "id": "view-in-github",
        "colab_type": "text"
      },
      "source": [
        "<a href=\"https://colab.research.google.com/github/sakuronohana/cas_datenanalyse/blob/master/Semesterarbeit/CAS_DA_SA_Payment_Fraud_Detection.ipynb\" target=\"_parent\"><img src=\"https://colab.research.google.com/assets/colab-badge.svg\" alt=\"Open In Colab\"/></a>"
      ]
    },
    {
      "metadata": {
        "id": "jRcJtvy3IiFf",
        "colab_type": "text"
      },
      "cell_type": "markdown",
      "source": [
        "<img \n",
        "src=\"https://www.ffhs.ch/templates/ffhs/img/logo@2x.png\" width=\"100\"> \n",
        "###DaAn, Data Analysis, MAS/CAS Web4B 2018, ZH1, FS19, Dr. Tödtli Beat###\n",
        "\n",
        "##*Semesterarbeit von Patrik Di Lena*##\n",
        "#Betrugserkennung Zahlungsverkehr#\n",
        "\n"
      ]
    },
    {
      "metadata": {
        "id": "Cu2Lax6MMPh0",
        "colab_type": "text"
      },
      "cell_type": "markdown",
      "source": [
        "##Ziel##\n",
        "Auf der Grundlage von maschinellen Lernalgorithmen soll ein Betrugserkennungssystem für den Zahlungsverkehr einer ausschliesslich in der Schweiz tätigen Bank erstellt werden. Auf Basis historisierter Daten in Bezug auf das E-Banking Session- und Zahlungsverhalten von Bankkunden sollen mögliche Betrugsintensionen erkannt und für bestimmte Risikogruppen vorhergesagt werden.\n",
        "\n",
        "##Aufgabenstellung##\n",
        "\n",
        "Aus dem oben formulierten Ziel ergeben sich zwei wesentliche Aufgabenstellungen:\n",
        "1.\tErkennung betrügerischer Handlungen im Zahlungsverkehr\n",
        "2.\tErmittlung potenzieller Kundenrisikogruppen\n",
        "\n",
        "##Betrugsanfällige Risikogruppen##\n",
        "Die für den Betrug im Zahlungsverkehr anfälligen Gruppen werden auf Basis der folgenden Merkmale durch den Lernalgorithmus bestimmt:\n",
        "\n",
        "*\tGeschlecht\n",
        "*\tAlter\n",
        "*\tZivilstand\n",
        "*\tNationalität\n",
        "*\tKontosaldo\n",
        "*\tWohnort\n",
        "*\tRegion\n",
        "*\tZahlungsmethode (E-Rechnung, Einzahlungsschein etc.)\n",
        "*\tRechtsform (Juristisch oder natürliche Person)\n",
        "\n",
        "## Datensatz##\n",
        "Die im Rahmen dieser Semesterarbeit verwendeten Daten entstammen, von ihrer Datenstruktur her, aus einem bereits eingesetzten nicht ML-basierten E-Banking Betrugserkennungssystem. Die Datenwerte wurde zu Wahrung der datenschutzrechtlichen und bankengesetzlichen Aspekte mit Hilfe des folgenden Python-Scripts künstlich erzeugt und beinhalten somit keine reale Zahlungs-, Kunden-, und betrugsspezifischen Informationen. Weiter wurden einige durch die Bank definierten Spezifikationen bzw. Merkmale aus sicherheitstechnischen Gründen umbenannt.  \n",
        "\n",
        "Datenselektion:\n",
        "\n",
        "- 5'000 synthetische Kunden (Vorname, Name, Strasse, Ort, Kanton, Sprachregion, Geschlecht, Alter, Zivilstand,  Nationalität, Kontonummer, Vertragsnummer, Rechtsform )\n",
        "\n",
        "- 100'000 synthetische Zahlungen (Transaktionsid, ,Erstellungdatum/Zeit, Empfängerkonto, Empfängerbank, Empfängerland, Währung, Betrag, Valuta Datum)\n",
        "\n",
        "\n",
        "\n",
        "\n",
        "\n",
        "\n"
      ]
    },
    {
      "metadata": {
        "id": "eSPNIKY7BlqD",
        "colab_type": "text"
      },
      "cell_type": "markdown",
      "source": [
        "###Datengeneratoren###\n",
        "\n",
        "Während die Stammdaten hauptsächlich im Excel manuell von verschiedenen Quellen \n",
        "\n",
        "Datenquellen:\n",
        "\n",
        "Open Government Data https://opendata.swiss/de/\n"
      ]
    },
    {
      "metadata": {
        "id": "1p72CDsQ4GzX",
        "colab_type": "code",
        "outputId": "7da1a7af-1828-4f29-a66b-e3e8e0b76fc1",
        "colab": {
          "base_uri": "https://localhost:8080/",
          "height": 1118
        }
      },
      "cell_type": "code",
      "source": [
        "# Zahlungsauftrag Generator\n",
        "\n",
        "import numpy as np\n",
        "import pandas as pd\n",
        "\n",
        "# Datenquellen Github\n",
        "custdb_url = 'https://raw.githubusercontent.com/sakuronohana/cas_datenanalyse/master/Semesterarbeit/Dataset/cutomer_base_data.csv'\n",
        "ibandb_url = 'https://raw.githubusercontent.com/sakuronohana/cas_datenanalyse/master/Semesterarbeit/Dataset/iban_list.csv'\n",
        "\n",
        "# IBAN Generator in elektronischer Form\n",
        "\n",
        "iban_cc = pd.read_csv(ibandb_url, delimiter=';')\n",
        "iban_cc.columns=['Country','Code','Checkdig','Length','Sample']\n",
        "\n",
        "# IBAN Gen. 1.Teil - Erstellung IBAN Länder- und Bankencode\n",
        "code = np.random.choice(np.ravel(iban_cc['Code']).astype(str))\n",
        "checkdig = np.random.choice(np.ravel(iban_cc['Checkdig']).astype(str))\n",
        "iban_country_code = code + checkdig\n",
        "iban_bank_code = np.random.choice((iban_cc.loc[iban_cc['Code'] == code])['Length']).astype(str)\n",
        "iban_ccbc = iban_country_code + \"00\" + iban_bank_code \n",
        "\n",
        "# IBAN Gen. 2.Teil - Erstellung Kontonummer und Zusammensetzung der IBAN\n",
        "eiban = []\n",
        "for row in range(20):\n",
        "    part_eiban = pd.DataFrame(np.int64(np.random.randint(2000000000000,3000000000000,20800)))\n",
        "    eiban = iban_ccbc + part_eiban.astype(str)\n",
        "    \n",
        "# Zufällige Auswahl einer IBAN aus dem generierten Datensatz\n",
        "eiban = np.ravel(eiban)\n",
        "eiban = np.random.choice(eiban)\n",
        "\n",
        "\n",
        "# Erstellung von Transaktionsdaten \n",
        "# Daten Payment ID z.B. 1059295797\n",
        "\n",
        "cust_data = pd.read_csv(custdb_url, delimiter=';')\n",
        "cust_data.columns=['anrede','vorname','nachname','strasse','nr','plz','ort',\n",
        "                   'kanton','sprachregion',\t'nation',\t'sexcode','mobile_nr',\t\n",
        "                   'vertrag_nr','konto_nr','auth_device']\n",
        "\n",
        "# Importierte Kundendaten bereinigen\n",
        "cust_data = cust_data.fillna(0)\n",
        "cust_data_dtype = {'plz':int,'mobile_nr':int,'vertrag_nr':int}\n",
        "cust_data = cust_data.astype(cust_data_dtype)\n"
      ],
      "execution_count": 70,
      "outputs": [
        {
          "output_type": "execute_result",
          "data": {
            "text/plain": [
              "0        41798592521\n",
              "1        41797325018\n",
              "2        41797836917\n",
              "3        41798405934\n",
              "4        41797964636\n",
              "5        41798955800\n",
              "6        41798608122\n",
              "7        41798472625\n",
              "8        41797183929\n",
              "9        41797304739\n",
              "10       41797666857\n",
              "11       41797303396\n",
              "12       41798088036\n",
              "13       41798167045\n",
              "14       41798585430\n",
              "15       41797654389\n",
              "16       41797772648\n",
              "17       41797342512\n",
              "18       41797262621\n",
              "19       41798396332\n",
              "20       41798524795\n",
              "21       41798876159\n",
              "22       41797817253\n",
              "23       41797808526\n",
              "24       41798836037\n",
              "25       41797786764\n",
              "26       41797108611\n",
              "27       41797188775\n",
              "28       41798036257\n",
              "29       41797297672\n",
              "            ...     \n",
              "20970              0\n",
              "20971              0\n",
              "20972              0\n",
              "20973              0\n",
              "20974              0\n",
              "20975              0\n",
              "20976              0\n",
              "20977              0\n",
              "20978              0\n",
              "20979              0\n",
              "20980              0\n",
              "20981              0\n",
              "20982              0\n",
              "20983              0\n",
              "20984              0\n",
              "20985              0\n",
              "20986              0\n",
              "20987              0\n",
              "20988              0\n",
              "20989              0\n",
              "20990              0\n",
              "20991              0\n",
              "20992              0\n",
              "20993              0\n",
              "20994              0\n",
              "20995              0\n",
              "20996              0\n",
              "20997              0\n",
              "20998              0\n",
              "20999              0\n",
              "Name: mobile_nr, Length: 21000, dtype: int64"
            ]
          },
          "metadata": {
            "tags": []
          },
          "execution_count": 70
        }
      ]
    }
  ]
}