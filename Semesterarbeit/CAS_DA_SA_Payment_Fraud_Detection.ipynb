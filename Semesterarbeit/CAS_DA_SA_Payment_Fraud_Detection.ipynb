{
  "nbformat": 4,
  "nbformat_minor": 0,
  "metadata": {
    "colab": {
      "name": "CAS-DA-SA_Payment_Fraud_Detection.ipynb",
      "version": "0.3.2",
      "provenance": [],
      "include_colab_link": true
    },
    "kernelspec": {
      "name": "python3",
      "display_name": "Python 3"
    }
  },
  "cells": [
    {
      "cell_type": "markdown",
      "metadata": {
        "id": "view-in-github",
        "colab_type": "text"
      },
      "source": [
        "<a href=\"https://colab.research.google.com/github/sakuronohana/cas_datenanalyse/blob/master/Semesterarbeit/CAS_DA_SA_Payment_Fraud_Detection.ipynb\" target=\"_parent\"><img src=\"https://colab.research.google.com/assets/colab-badge.svg\" alt=\"Open In Colab\"/></a>"
      ]
    },
    {
      "metadata": {
        "id": "jRcJtvy3IiFf",
        "colab_type": "text"
      },
      "cell_type": "markdown",
      "source": [
        "<img \n",
        "src=\"https://www.ffhs.ch/templates/ffhs/img/logo@2x.png\" width=\"100\"> \n",
        "###DaAn, Data Analysis, MAS/CAS Web4B 2018, ZH1, FS19, Dr. Tödtli Beat###\n",
        "\n",
        "##*Semesterarbeit von Patrik Di Lena*##\n",
        "#Betrugserkennung Zahlungsverkehr#\n",
        "\n"
      ]
    },
    {
      "metadata": {
        "id": "Cu2Lax6MMPh0",
        "colab_type": "text"
      },
      "cell_type": "markdown",
      "source": [
        "##Ziel##\n",
        "Auf der Grundlage von maschinellen Lernalgorithmen soll ein Betrugserkennungssystem für den Zahlungsverkehr einer ausschliesslich in der Schweiz tätigen Bank erstellt werden. Auf Basis historisierter Daten in Bezug auf das E-Banking Session- und Zahlungsverhalten von Bankkunden sollen mögliche Betrugsintensionen erkannt und für bestimmte Risikogruppen vorhergesagt werden.\n",
        "\n",
        "##Aufgabenstellung##\n",
        "\n",
        "Aus dem oben formulierten Ziel ergeben sich zwei wesentliche Aufgabenstellungen:\n",
        "1.\tErkennung betrügerischer Handlungen im Zahlungsverkehr\n",
        "2.\tErmittlung potenzieller Kundenrisikogruppen\n",
        "\n",
        "##Betrugsanfällige Risikogruppen##\n",
        "Die für den Betrug im Zahlungsverkehr anfälligen Gruppen werden auf Basis der folgenden Merkmale durch den Lernalgorithmus bestimmt:\n",
        "\n",
        "*\tGeschlecht\n",
        "*\tAlter\n",
        "*\tZivilstand\n",
        "*\tNationalität\n",
        "*\tKontosaldo\n",
        "*\tWohnort\n",
        "*\tRegion\n",
        "*\tZahlungsmethode (E-Rechnung, Einzahlungsschein etc.)\n",
        "*\tRechtsform (Juristisch oder natürliche Person)\n",
        "\n",
        "## Datensatz##\n",
        "Die im Rahmen dieser Semesterarbeit verwendeten Daten entstammen, von ihrer Datenstruktur her, aus einem bereits eingesetzten nicht ML-basierten E-Banking Betrugserkennungssystem. Die Datenwerte wurde zu Wahrung der datenschutzrechtlichen und bankengesetzlichen Aspekte mit Hilfe des folgenden Python-Scripts künstlich erzeugt und beinhalten somit keine reale Zahlungs-, Kunden-, und betrugsspezifischen Informationen. Weiter wurden einige durch die Bank definierten Spezifikationen bzw. Merkmale aus sicherheitstechnischen Gründen umbenannt.  \n",
        "\n",
        "Datenselektion:\n",
        "\n",
        "- 5'000 synthetische Kunden (Vorname, Name, Strasse, Ort, Kanton, Sprachregion, Geschlecht, Alter, Zivilstand,  Nationalität, Kontonummer, Vertragsnummer, Rechtsform )\n",
        "\n",
        "- 100'000 synthetische Zahlungen (Transaktionsid, ,Erstellungdatum/Zeit, Empfängerkonto, Empfängerbank, Empfängerland, Währung, Betrag, Valuta Datum)\n",
        "\n",
        "\n",
        "\n",
        "\n",
        "\n",
        "\n"
      ]
    },
    {
      "metadata": {
        "id": "eSPNIKY7BlqD",
        "colab_type": "text"
      },
      "cell_type": "markdown",
      "source": [
        "###Datengeneratoren###\n",
        "\n",
        "Während die Stammdaten hauptsächlich im Excel manuell von verschiedenen Quellen \n",
        "\n",
        "Datenquellen:\n",
        "\n",
        "Open Government Data https://opendata.swiss/de/\n"
      ]
    },
    {
      "metadata": {
        "id": "aWZGaymEAFvT",
        "colab_type": "code",
        "colab": {
          "base_uri": "https://localhost:8080/",
          "height": 1154
        },
        "outputId": "2cd7c31c-2382-44ca-96e8-023bcf420913"
      },
      "cell_type": "code",
      "source": [
        "# IBAN Generator\n",
        "\n",
        "import numpy as np\n",
        "import pandas as pd\n",
        "\n",
        "\n",
        "iban_country_code = 'CH53'\n",
        "iban_bank_code = '0077'\n",
        " \n",
        "iban_cc = pd.read_csv('https://raw.githubusercontent.com/sakuronohana/cas_datenanalyse/master/Semesterarbeit/Dataset/iban_list.csv', delimiter=';')\n",
        "iban_cc.columns=['Country','Code','Checkdig','Length','Sample']\n",
        "\n",
        "cc_ch = iban_cc['Country'].where(iban_cc['Country'] != 'Albanien')\n",
        "\n",
        "\n",
        "iban_account1 = np.int64(np.random.randint(2000,3000,20800))\n",
        "iban_account2 = np.int64(np.random.randint(3000,4000,20800))\n",
        "iban_account3 = np.int64(np.random.randint(5000,6000,20800))\n",
        "iban_account4 = np.random.randint(1,9,20800)\n",
        "\n",
        "\n",
        "iban = {'a':iban_account1,'b':iban_account2 ,'c':iban_account3 ,'d':iban_account4}\n",
        "iban = pd.DataFrame(iban)\n",
        "\n",
        "ccode = []\n",
        "bcode = []\n",
        "\n",
        "for row in range(len(iban)):\n",
        "  if row > 1:\n",
        "    ccode.append(iban_country_code)\n",
        "    bcode.append(iban_bank_code)\n",
        "   \n",
        "cc = pd.DataFrame(ccode)\n",
        "bc = pd.DataFrame(bcode)\n",
        "iban.insert(0,'cc',cc)\n",
        "iban.insert(1,'bc',bc)\n",
        "\n",
        "iban.to_csv('gen_iban.csv',index=False, sep=' ')\n",
        "\n",
        "data = pd.read_csv('gen_iban.csv',header=None)\n",
        "\n",
        "print(data)"
      ],
      "execution_count": 35,
      "outputs": [
        {
          "output_type": "stream",
          "text": [
            "                                0\n",
            "0                   cc bc a b c d\n",
            "1      CH53 0077 2858 3890 5011 6\n",
            "2      CH53 0077 2302 3261 5820 7\n",
            "3      CH53 0077 2011 3771 5325 2\n",
            "4      CH53 0077 2555 3309 5895 3\n",
            "5      CH53 0077 2025 3414 5424 5\n",
            "6      CH53 0077 2511 3954 5979 3\n",
            "7      CH53 0077 2710 3140 5367 7\n",
            "8      CH53 0077 2048 3405 5755 1\n",
            "9      CH53 0077 2587 3403 5527 3\n",
            "10     CH53 0077 2221 3091 5378 6\n",
            "11     CH53 0077 2886 3533 5368 7\n",
            "12     CH53 0077 2318 3136 5268 7\n",
            "13     CH53 0077 2073 3229 5830 7\n",
            "14     CH53 0077 2264 3641 5106 7\n",
            "15     CH53 0077 2988 3787 5718 3\n",
            "16     CH53 0077 2149 3483 5599 3\n",
            "17     CH53 0077 2003 3347 5257 6\n",
            "18     CH53 0077 2364 3774 5678 3\n",
            "19     CH53 0077 2315 3569 5404 5\n",
            "20     CH53 0077 2729 3889 5621 4\n",
            "21     CH53 0077 2182 3607 5025 7\n",
            "22     CH53 0077 2877 3188 5043 6\n",
            "23     CH53 0077 2557 3942 5756 5\n",
            "24     CH53 0077 2744 3741 5472 3\n",
            "25     CH53 0077 2446 3464 5059 8\n",
            "26     CH53 0077 2665 3882 5361 1\n",
            "27     CH53 0077 2621 3222 5031 8\n",
            "28     CH53 0077 2434 3979 5257 2\n",
            "29     CH53 0077 2117 3806 5642 4\n",
            "...                           ...\n",
            "20771  CH53 0077 2341 3276 5675 2\n",
            "20772  CH53 0077 2329 3612 5195 7\n",
            "20773  CH53 0077 2750 3907 5190 3\n",
            "20774  CH53 0077 2615 3264 5875 4\n",
            "20775  CH53 0077 2303 3427 5846 4\n",
            "20776  CH53 0077 2572 3299 5770 3\n",
            "20777  CH53 0077 2451 3059 5587 2\n",
            "20778  CH53 0077 2573 3820 5111 7\n",
            "20779  CH53 0077 2677 3467 5106 1\n",
            "20780  CH53 0077 2567 3780 5370 5\n",
            "20781  CH53 0077 2496 3858 5307 1\n",
            "20782  CH53 0077 2620 3498 5895 1\n",
            "20783  CH53 0077 2197 3682 5232 8\n",
            "20784  CH53 0077 2601 3482 5175 5\n",
            "20785  CH53 0077 2634 3595 5178 3\n",
            "20786  CH53 0077 2514 3644 5080 2\n",
            "20787  CH53 0077 2863 3548 5623 3\n",
            "20788  CH53 0077 2831 3401 5206 7\n",
            "20789  CH53 0077 2425 3289 5901 5\n",
            "20790  CH53 0077 2053 3886 5927 5\n",
            "20791  CH53 0077 2621 3345 5876 8\n",
            "20792  CH53 0077 2248 3269 5625 1\n",
            "20793  CH53 0077 2975 3346 5774 2\n",
            "20794  CH53 0077 2403 3768 5185 3\n",
            "20795  CH53 0077 2093 3499 5955 5\n",
            "20796  CH53 0077 2194 3114 5488 1\n",
            "20797  CH53 0077 2585 3571 5071 6\n",
            "20798  CH53 0077 2348 3202 5302 5\n",
            "20799            2316 3235 5997 4\n",
            "20800            2070 3178 5999 3\n",
            "\n",
            "[20801 rows x 1 columns]\n"
          ],
          "name": "stdout"
        }
      ]
    },
    {
      "metadata": {
        "id": "2N7wwJlJIMIX",
        "colab_type": "code",
        "colab": {}
      },
      "cell_type": "code",
      "source": [
        "# Payment Transaction Generator\n",
        "\n",
        "\n",
        "\n",
        "\n"
      ],
      "execution_count": 0,
      "outputs": []
    }
  ]
}