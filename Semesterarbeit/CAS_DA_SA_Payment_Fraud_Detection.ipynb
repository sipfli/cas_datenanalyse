{
  "nbformat": 4,
  "nbformat_minor": 0,
  "metadata": {
    "colab": {
      "name": "CAS-DA-SA_Payment_Fraud_Detection.ipynb",
      "version": "0.3.2",
      "provenance": [],
      "include_colab_link": true
    },
    "kernelspec": {
      "name": "python3",
      "display_name": "Python 3"
    }
  },
  "cells": [
    {
      "cell_type": "markdown",
      "metadata": {
        "id": "view-in-github",
        "colab_type": "text"
      },
      "source": [
        "<a href=\"https://colab.research.google.com/github/sakuronohana/cas_datenanalyse/blob/master/Semesterarbeit/CAS_DA_SA_Payment_Fraud_Detection.ipynb\" target=\"_parent\"><img src=\"https://colab.research.google.com/assets/colab-badge.svg\" alt=\"Open In Colab\"/></a>"
      ]
    },
    {
      "metadata": {
        "id": "jRcJtvy3IiFf",
        "colab_type": "text"
      },
      "cell_type": "markdown",
      "source": [
        "<img \n",
        "src=\"https://www.ffhs.ch/templates/ffhs/img/logo@2x.png\" width=\"100\"> \n",
        "###DaAn, Data Analysis, MAS/CAS Web4B 2018, ZH1, FS19, Dr. Tödtli Beat###\n",
        "\n",
        "##*Semesterarbeit von Patrik Di Lena*##\n",
        "#Betrugserkennung Zahlungsverkehr#\n",
        "\n"
      ]
    },
    {
      "metadata": {
        "id": "Cu2Lax6MMPh0",
        "colab_type": "text"
      },
      "cell_type": "markdown",
      "source": [
        "##Ziel##\n",
        "Auf der Grundlage von maschinellen Lernalgorithmen soll ein Betrugserkennungssystem für den Zahlungsverkehr einer ausschliesslich in der Schweiz tätigen Bank erstellt werden. Auf Basis historisierter Daten in Bezug auf das E-Banking Session- und Zahlungsverhalten von Bankkunden sollen mögliche Betrugsintensionen erkannt und für bestimmte Risikogruppen vorhergesagt werden.\n",
        "\n",
        "##Aufgabenstellung##\n",
        "\n",
        "Aus dem oben formulierten Ziel ergeben sich zwei wesentliche Aufgabenstellungen:\n",
        "1.\tErkennung betrügerischer Handlungen im Zahlungsverkehr\n",
        "2.\tErmittlung potenzieller Kundenrisikogruppen\n",
        "\n",
        "##Betrugsanfällige Risikogruppen##\n",
        "Die für den Betrug im Zahlungsverkehr anfälligen Gruppen werden auf Basis der folgenden Merkmale durch den Lernalgorithmus bestimmt:\n",
        "\n",
        "*\tGeschlecht\n",
        "*\tAlter\n",
        "*\tZivilstand\n",
        "*\tNationalität\n",
        "*\tKontosaldo\n",
        "*\tWohnort\n",
        "*\tRegion\n",
        "*\tZahlungsmethode (E-Rechnung, Einzahlungsschein etc.)\n",
        "*\tRechtsform (Juristisch oder natürliche Person)\n",
        "\n",
        "## Datensatz##\n",
        "Die im Rahmen dieser Semesterarbeit verwendeten Daten entstammen, von ihrer Datenstruktur her, aus einem bereits eingesetzten nicht ML-basierten E-Banking Betrugserkennungssystem. Die Datenwerte wurde zu Wahrung der datenschutzrechtlichen und bankengesetzlichen Aspekte mit Hilfe des folgenden Python-Scripts künstlich erzeugt und beinhalten somit keine reale Zahlungs-, Kunden-, und betrugsspezifischen Informationen. Weiter wurden einige durch die Bank definierten Spezifikationen bzw. Merkmale aus sicherheitstechnischen Gründen umbenannt.  \n",
        "\n",
        "\n",
        "\n",
        "\n",
        "\n",
        "\n"
      ]
    },
    {
      "metadata": {
        "id": "2N7wwJlJIMIX",
        "colab_type": "code",
        "outputId": "792013f7-9abc-4b3a-d906-660e7eac8e15",
        "colab": {
          "base_uri": "https://localhost:8080/",
          "height": 1122
        }
      },
      "cell_type": "code",
      "source": [
        "import pandas as pd\n",
        "import numpy as np\n",
        "\n",
        "#columns = ['Bankenclearing',\t'ursprüngliche Mandanten-ID']#\tDokumentennummer\tZeitstempel\tVertrag\tVorname\tName\tProdukt\tZREG\tVertragsverwaltungsuser\tService\tPayNet-Nummer\tDokumentenschlüssel\tAnzahl Seiten\n",
        "columns = ['contract_no', 'payment_amount']\n",
        "\n",
        "payment_id = pd.DataFrame(np.arange(1,100001))\n",
        "contract_no = pd.DataFrame(np.random.randint(1000001, size=100001))\n",
        "payment_amount = pd.DataFrame(np.random.sample(1000001)*50000)\n",
        "\n",
        "print(np.round_(payment_amount, decimals = 2))\n",
        "\n",
        "\n",
        "print (payment_id.shape, contract_no.shape, payment_amount.shape)\n",
        "\n",
        "#pd.merge(payment_id, contract_no, payment_amount)\n",
        "\n"
      ],
      "execution_count": 37,
      "outputs": [
        {
          "output_type": "stream",
          "text": [
            "                0\n",
            "0        20907.58\n",
            "1        37785.02\n",
            "2        11870.02\n",
            "3        37977.73\n",
            "4         2174.39\n",
            "5         1908.84\n",
            "6        27686.54\n",
            "7        10233.37\n",
            "8        17802.57\n",
            "9        44151.22\n",
            "10       20034.08\n",
            "11       38130.66\n",
            "12       42327.81\n",
            "13        7395.15\n",
            "14       42903.75\n",
            "15       42607.06\n",
            "16       30928.35\n",
            "17       39410.80\n",
            "18       33236.75\n",
            "19       34488.05\n",
            "20        8750.66\n",
            "21       38944.89\n",
            "22       31993.98\n",
            "23       24388.25\n",
            "24       20177.68\n",
            "25       21854.19\n",
            "26       26988.68\n",
            "27       16759.06\n",
            "28        2569.68\n",
            "29       35759.22\n",
            "...           ...\n",
            "999971    3324.09\n",
            "999972   21955.48\n",
            "999973   18397.31\n",
            "999974    5670.43\n",
            "999975    5906.57\n",
            "999976   43710.09\n",
            "999977    2806.12\n",
            "999978   46350.49\n",
            "999979   16046.28\n",
            "999980   31671.18\n",
            "999981   46015.83\n",
            "999982    8430.24\n",
            "999983   18515.32\n",
            "999984   44622.17\n",
            "999985   18395.12\n",
            "999986   44437.82\n",
            "999987    8184.13\n",
            "999988   39536.07\n",
            "999989   16984.36\n",
            "999990   22272.47\n",
            "999991   42453.86\n",
            "999992   48526.42\n",
            "999993   47002.02\n",
            "999994   36885.48\n",
            "999995   22725.59\n",
            "999996   31810.09\n",
            "999997   18128.19\n",
            "999998   22974.23\n",
            "999999   35621.58\n",
            "1000000  21061.56\n",
            "\n",
            "[1000001 rows x 1 columns]\n",
            "(100000, 1) (100001, 1) (1000001, 1)\n"
          ],
          "name": "stdout"
        }
      ]
    }
  ]
}