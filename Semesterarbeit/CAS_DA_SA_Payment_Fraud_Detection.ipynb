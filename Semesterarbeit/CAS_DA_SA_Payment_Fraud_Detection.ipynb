{
  "nbformat": 4,
  "nbformat_minor": 0,
  "metadata": {
    "colab": {
      "name": "CAS-DA-SA_Payment_Fraud_Detection.ipynb",
      "version": "0.3.2",
      "provenance": [],
      "include_colab_link": true
    },
    "kernelspec": {
      "name": "python3",
      "display_name": "Python 3"
    }
  },
  "cells": [
    {
      "cell_type": "markdown",
      "metadata": {
        "id": "view-in-github",
        "colab_type": "text"
      },
      "source": [
        "<a href=\"https://colab.research.google.com/github/sakuronohana/cas_datenanalyse/blob/master/Semesterarbeit/CAS_DA_SA_Payment_Fraud_Detection.ipynb\" target=\"_parent\"><img src=\"https://colab.research.google.com/assets/colab-badge.svg\" alt=\"Open In Colab\"/></a>"
      ]
    },
    {
      "metadata": {
        "id": "jRcJtvy3IiFf",
        "colab_type": "text"
      },
      "cell_type": "markdown",
      "source": [
        "<img \n",
        "src=\"https://www.ffhs.ch/templates/ffhs/img/logo@2x.png\" width=\"100\"> \n",
        "###DaAn, Data Analysis, MAS/CAS Web4B 2018, ZH1, FS19, Dr. Tödtli Beat###\n",
        "\n",
        "##*Semesterarbeit von Patrik Di Lena*##\n",
        "#Betrugserkennung Zahlungsverkehr#\n",
        "\n"
      ]
    },
    {
      "metadata": {
        "id": "Cu2Lax6MMPh0",
        "colab_type": "text"
      },
      "cell_type": "markdown",
      "source": [
        "##Ziel##\n",
        "Auf der Grundlage von maschinellen Lernalgorithmen soll ein Betrugserkennungssystem für den Zahlungsverkehr einer ausschliesslich in der Schweiz tätigen Bank erstellt werden. Auf Basis historisierter Daten in Bezug auf das E-Banking Session- und Zahlungsverhalten von Bankkunden sollen mögliche Betrugsintensionen erkannt und für bestimmte Risikogruppen vorhergesagt werden.\n",
        "\n",
        "##Aufgabenstellung##\n",
        "\n",
        "Aus dem oben formulierten Ziel ergeben sich zwei wesentliche Aufgabenstellungen:\n",
        "1.\tErkennung betrügerischer Handlungen im Zahlungsverkehr\n",
        "2.\tErmittlung potenzieller Kundenrisikogruppen\n",
        "\n",
        "##Betrugsanfällige Risikogruppen##\n",
        "Die für den Betrug im Zahlungsverkehr anfälligen Gruppen werden auf Basis der folgenden Merkmale durch den Lernalgorithmus bestimmt:\n",
        "\n",
        "*\tGeschlecht\n",
        "*\tAlter\n",
        "*\tZivilstand\n",
        "*\tNationalität\n",
        "*\tKontosaldo\n",
        "*\tWohnort\n",
        "*\tRegion\n",
        "*\tZahlungsmethode (E-Rechnung, Einzahlungsschein etc.)\n",
        "*\tRechtsform (Juristisch oder natürliche Person)\n",
        "\n",
        "## Datensatz##\n",
        "Die im Rahmen dieser Semesterarbeit verwendeten Daten entstammen, von ihrer Datenstruktur her, aus einem bereits eingesetzten nicht ML-basierten E-Banking Betrugserkennungssystem. Die Datenwerte wurde zu Wahrung der datenschutzrechtlichen und bankengesetzlichen Aspekte mit Hilfe des folgenden Python-Scripts künstlich erzeugt und beinhalten somit keine reale Zahlungs-, Kunden-, und betrugsspezifischen Informationen. Weiter wurden einige durch die Bank definierten Spezifikationen bzw. Merkmale aus sicherheitstechnischen Gründen umbenannt.  \n",
        "\n",
        "Datenselektion:\n",
        "\n",
        "- 5'000 synthetische Kunden (Vorname, Name, Strasse, Ort, Kanton, Sprachregion, Geschlecht, Alter, Zivilstand,  Nationalität, Kontonummer, Vertragsnummer, Rechtsform )\n",
        "\n",
        "- 100'000 synthetische Zahlungen (Transaktionsid, ,Erstellungdatum/Zeit, Empfängerkonto, Empfängerbank, Empfängerland, Währung, Betrag, Valuta Datum)\n",
        "\n",
        "\n",
        "\n",
        "\n",
        "\n",
        "\n"
      ]
    },
    {
      "metadata": {
        "id": "eSPNIKY7BlqD",
        "colab_type": "text"
      },
      "cell_type": "markdown",
      "source": [
        "###Datengeneratoren###\n",
        "\n",
        "Während die Stammdaten hauptsächlich im Excel manuell von verschiedenen Quellen \n",
        "\n",
        "Datenquellen:\n",
        "\n",
        "Open Government Data https://opendata.swiss/de/\n"
      ]
    },
    {
      "metadata": {
        "id": "juo_qNJ_Hvfc",
        "colab_type": "text"
      },
      "cell_type": "markdown",
      "source": [
        "###IBAN Generator###"
      ]
    },
    {
      "metadata": {
        "id": "1p72CDsQ4GzX",
        "colab_type": "code",
        "outputId": "fdeda7af-848f-497f-f8c2-bda7702ca67e",
        "colab": {
          "base_uri": "https://localhost:8080/",
          "height": 34
        }
      },
      "cell_type": "code",
      "source": [
        "# IBAN Generator\n",
        "\n",
        "import datetime\n",
        "import numpy as np\n",
        "import pandas as pd\n",
        "\n",
        "# Datenquellen Github\n",
        "ibandb_url = 'https://raw.githubusercontent.com/sakuronohana/cas_datenanalyse/master/Semesterarbeit/Dataset/iban_list.csv'\n",
        "\n",
        "# IBAN Generator in elektronischer Form\n",
        "\n",
        "iban_cc = pd.read_csv(ibandb_url, delimiter=';')\n",
        "iban_cc.columns=['Country','Code','Checkdig','Length','Sample','Bank']\n",
        "\n",
        "# IBAN Gen. 1.Teil - Erstellung IBAN Länder- und Bankencode\n",
        "code = np.random.choice(np.ravel(iban_cc['Code']).astype(str))\n",
        "checkdig = np.random.choice(np.ravel(iban_cc['Checkdig']).astype(str))\n",
        "iban_country_code = code + checkdig\n",
        "iban_bank_code = np.random.choice((iban_cc.loc[iban_cc['Code'] == code])['Length']).astype(str)\n",
        "iban_ccbc = iban_country_code + \"00\" + iban_bank_code \n",
        "\n",
        "# IBAN Gen. 2.Teil - Erstellung Kontonummer und Zusammensetzung der IBAN\n",
        "eiban = []\n",
        "for row in range(20):\n",
        "    part_eiban = pd.DataFrame(np.int64(np.random.randint(2000000000000,3000000000000,20800)))\n",
        "    eiban = iban_ccbc + part_eiban.astype(str)\n",
        "\n",
        "# Zufällige Auswahl einer IBAN aus dem generierten Datensatz\n",
        "eiban = np.ravel(eiban)\n",
        "eiban = np.random.choice(eiban)\n",
        "print (eiban)\n",
        "\n",
        "\n",
        "\n"
      ],
      "execution_count": 107,
      "outputs": [
        {
          "output_type": "stream",
          "text": [
            "LC7200322800994985921\n"
          ],
          "name": "stdout"
        }
      ]
    },
    {
      "metadata": {
        "id": "RUs5m-l3IRbC",
        "colab_type": "text"
      },
      "cell_type": "markdown",
      "source": [
        "###Payment Generator###"
      ]
    },
    {
      "metadata": {
        "id": "mAzUQ-9EHthx",
        "colab_type": "code",
        "outputId": "de44e116-4a12-4c28-bad1-75efa68d191f",
        "colab": {
          "base_uri": "https://localhost:8080/",
          "height": 443
        }
      },
      "cell_type": "code",
      "source": [
        "# Erstellung von Transaktionsdaten \n",
        "# Daten Payment ID z.B. 1059295797\n",
        "\n",
        "from datetime import datetime, timedelta\n",
        "import random\n",
        "import numpy as np\n",
        "import pandas as pd\n",
        "\n",
        "# Datenquellen Github\n",
        "ibandb_url = 'https://raw.githubusercontent.com/sakuronohana/cas_datenanalyse/master/Semesterarbeit/Dataset/iban_list.csv'\n",
        "\n",
        "# IBAN Generator in elektronischer Form\n",
        "\n",
        "iban_cc = pd.read_csv(ibandb_url, delimiter=';')\n",
        "iban_cc.columns=['Country','Code','Checkdig','Length','IBAN','Bank']\n",
        "\n",
        "# IBAN Gen. 1.Teil - Erstellung IBAN Länder- und Bankencode\n",
        "code = np.random.choice(np.ravel(iban_cc['Code']).astype(str))\n",
        "checkdig = np.random.choice(np.ravel(iban_cc['Checkdig']).astype(str))\n",
        "iban_country_code = code + checkdig\n",
        "iban_bank_code = np.random.choice((iban_cc.loc[iban_cc['Code'] == code])['Length']).astype(str)\n",
        "iban_ccbc = iban_country_code + \"00\" + iban_bank_code \n",
        "\n",
        "\n",
        "# IBAN Gen. 2.Teil - Erstellung Kontonummer und Zusammensetzung der IBAN\n",
        "eiban = []\n",
        "for row in range(20):\n",
        "    part_eiban = pd.DataFrame(np.int64(np.random.randint(2000000000000,3000000000000,20800)))\n",
        "    eiban = iban_ccbc + part_eiban.astype(str)\n",
        "\n",
        "# Zufällige Auswahl einer IBAN aus dem generierten Datensatz\n",
        "eiban = np.ravel(eiban)\n",
        "eiban = np.random.choice(eiban)\n",
        "\n",
        "\n",
        "# Datenquellen Github\n",
        "custdb_url = 'https://raw.githubusercontent.com/sakuronohana/cas_datenanalyse/master/Semesterarbeit/Dataset/cutomer_base_data.csv'\n",
        "\n",
        "cust_data = pd.read_csv(custdb_url, delimiter=';')\n",
        "cust_data.columns=['anrede','vorname','nachname','strasse','nr','plz','ort',\n",
        "                   'kanton','sprachregion',\t'nation',\t'sexcode','mobile_nr',\t\n",
        "                   'vertrag_nr','konto_nr','auth_device']\n",
        "\n",
        "# Importierte Kundendaten bereinigen\n",
        "cust_data = cust_data.fillna(0)\n",
        "cust_data_dtype = {'plz':int,'mobile_nr':int,'vertrag_nr':int}\n",
        "cust_data = cust_data.astype(cust_data_dtype)\n",
        "\n",
        "# Zufallsauswahl Kundendaten\n",
        "cd_contract = np.random.choice(np.ravel(cust_data['vertrag_nr']))\n",
        "cd_kontonr = cust_data.loc[cust_data['vertrag_nr'] == cd_contract,['konto_nr']]\n",
        "#get_cids = cust_data.loc[cust_data['vertrag_nr'] == cd_contract,['konto_nr','vertrag_nr',\n",
        "                                                                 #'nachname','vorname','sexcode',\n",
        "                                                                 #'plz','ort','kanton',\n",
        "                                                                #'sprachregion','auth_device']]\n",
        "\n",
        "# Zufallsauswahl Empfängerbank\n",
        "bc_bank = np.random.choice(np.ravel(iban_cc['Bank']))\n",
        "bc_iban = np.ravel(iban_cc.loc[iban_cc['Bank'] == bc_bank,['IBAN']])\n",
        "print(bc_iban)\n",
        "\n",
        "\n",
        "\n",
        "# Erstellung der Zahlungs-Basisinformationen \n",
        "\n",
        "start_date = datetime(2018,1,1,8,0,0)\n",
        "trx_data = pd.DataFrame(columns=['timestamp','paym_id','send_bc_nr','amount',\n",
        "                                 'rcv_bc_nr','rcv_bc_iban','rcv_bc_country','rcv_bc_code',\n",
        "                                 'vertrag_nr'])\n",
        "\n",
        "for i in range(10):\n",
        "    trx_data.loc[i,['timestamp']] = pd.Timestamp(datetime(2018,1,1,8,0,0)+timedelta(minutes=30*i)).strftime(\"%Y.%m.%d %H:%M\")\n",
        "    trx_data.loc[i,['paym_id']] =  np.int64(np.random.randint(1000000000000,2000000000000,1))\n",
        "    trx_data.loc[i,['send_bc_nr']] =  'CHBANK71XXX'\n",
        "    trx_data.loc[i,['amount']] = np.int64(np.random.randint(100,100000,1)).astype(str)\n",
        "    trx_data.loc[i,['rcv_bc_nr']] = bc_bank = np.random.choice(np.ravel(iban_cc['Bank']).astype(str))\n",
        "    trx_data.loc[i,['rcv_bc_iban']] = np.ravel(iban_cc.loc[iban_cc['Bank'] == bc_bank,['IBAN']])\n",
        "    trx_data.loc[i,['rcv_bc_country']] = np.ravel(iban_cc.loc[iban_cc['Bank'] == bc_bank,['Country']])\n",
        "    trx_data.loc[i,['rcv_bc_code']] = np.ravel(iban_cc.loc[iban_cc['Bank'] == bc_bank,['Code']])\n",
        "    trx_data.loc[i,['vertrag_nr']] = cd_contract = np.random.choice(np.ravel(cust_data['vertrag_nr']))\n",
        "\n",
        "    \n",
        "\n",
        "print(trx_data)\n",
        "\n",
        "\n"
      ],
      "execution_count": 262,
      "outputs": [
        {
          "output_type": "stream",
          "text": [
            "['HU02116000060000000064247067']\n",
            "          timestamp        paym_id   send_bc_nr amount    rcv_bc_nr  \\\n",
            "0  2018.01.01 08:00  1780704164168  CHBANK71XXX  92003  CRBANK20XXX   \n",
            "1  2018.01.01 08:30  1763315893851  CHBANK71XXX  59062  LVBANK46XXX   \n",
            "2  2018.01.01 09:00  1623169958314  CHBANK71XXX  66303  BGBANK19XXX   \n",
            "3  2018.01.01 09:30  1065551787713  CHBANK71XXX  20152  DKBANK21XXX   \n",
            "4  2018.01.01 10:00  1841613114680  CHBANK71XXX  58419  IEBANK36XXX   \n",
            "5  2018.01.01 10:30  1553912925650  CHBANK71XXX   3711  PKBANK61XXX   \n",
            "6  2018.01.01 11:00  1424863228642  CHBANK71XXX  82879  MCBANK56XXX   \n",
            "7  2018.01.01 11:30  1633221052681  CHBANK71XXX  14417  IEBANK36XXX   \n",
            "8  2018.01.01 12:00  1587280910145  CHBANK71XXX  85795  DKBANK21XXX   \n",
            "9  2018.01.01 12:30  1228589550254  CHBANK71XXX  96888  GEBANK29XXX   \n",
            "\n",
            "                   rcv_bc_iban rcv_bc_country rcv_bc_code vertrag_nr  \n",
            "0       CR79015202220005614288     Costa Rica          CR      66547  \n",
            "1        LV02HABA0551007820897       Lettland          LV      78285  \n",
            "2       BG02RZBB91551002755190      Bulgarien          BG      82470  \n",
            "3           DK0220005036459478       Dänemark          DK      67601  \n",
            "4       IE02BOFI90008413113207         Irland          IE      80486  \n",
            "5     PK02SCBL0000001925518401       Pakistan          PK      76819  \n",
            "6  MC2412739000710075018000P14         Monaco          MC      83771  \n",
            "7       IE02BOFI90008413113207         Irland          IE      75582  \n",
            "8           DK0220005036459478       Dänemark          DK      71111  \n",
            "9       GE02TB7523045063700002        Georgia          GE      77232  \n"
          ],
          "name": "stdout"
        }
      ]
    },
    {
      "metadata": {
        "id": "bjKNR3iTCni5",
        "colab_type": "code",
        "colab": {
          "base_uri": "https://localhost:8080/",
          "height": 197
        },
        "outputId": "dd2d6373-1be8-46b6-a9ad-e09d6782949b"
      },
      "cell_type": "code",
      "source": [
        "\n",
        "\n",
        "import pandas as pd\n",
        "from random import randint\n",
        "\n",
        "df = pd.DataFrame(columns=['A','B','C','D','E'])\n",
        "\n",
        "for i in range(5): #add 5 rows of data\n",
        "    df.loc[i, ['A']] = randint(0,99)\n",
        "    df.loc[i, ['B']] = randint(0,99)\n",
        "    df.loc[i, ['C']] = randint(0,99)\n",
        "    df.loc[i, ['D']] = randint(0,99)\n",
        "    df.loc[i, ['E']] = randint(0,99)\n",
        "    \n",
        "df"
      ],
      "execution_count": 149,
      "outputs": [
        {
          "output_type": "execute_result",
          "data": {
            "text/html": [
              "<div>\n",
              "<style scoped>\n",
              "    .dataframe tbody tr th:only-of-type {\n",
              "        vertical-align: middle;\n",
              "    }\n",
              "\n",
              "    .dataframe tbody tr th {\n",
              "        vertical-align: top;\n",
              "    }\n",
              "\n",
              "    .dataframe thead th {\n",
              "        text-align: right;\n",
              "    }\n",
              "</style>\n",
              "<table border=\"1\" class=\"dataframe\">\n",
              "  <thead>\n",
              "    <tr style=\"text-align: right;\">\n",
              "      <th></th>\n",
              "      <th>A</th>\n",
              "      <th>B</th>\n",
              "      <th>C</th>\n",
              "      <th>D</th>\n",
              "      <th>E</th>\n",
              "    </tr>\n",
              "  </thead>\n",
              "  <tbody>\n",
              "    <tr>\n",
              "      <th>0</th>\n",
              "      <td>82.0</td>\n",
              "      <td>93.0</td>\n",
              "      <td>1.0</td>\n",
              "      <td>5.0</td>\n",
              "      <td>8.0</td>\n",
              "    </tr>\n",
              "    <tr>\n",
              "      <th>1</th>\n",
              "      <td>4.0</td>\n",
              "      <td>34.0</td>\n",
              "      <td>45.0</td>\n",
              "      <td>13.0</td>\n",
              "      <td>88.0</td>\n",
              "    </tr>\n",
              "    <tr>\n",
              "      <th>2</th>\n",
              "      <td>87.0</td>\n",
              "      <td>41.0</td>\n",
              "      <td>54.0</td>\n",
              "      <td>41.0</td>\n",
              "      <td>43.0</td>\n",
              "    </tr>\n",
              "    <tr>\n",
              "      <th>3</th>\n",
              "      <td>81.0</td>\n",
              "      <td>44.0</td>\n",
              "      <td>98.0</td>\n",
              "      <td>3.0</td>\n",
              "      <td>83.0</td>\n",
              "    </tr>\n",
              "    <tr>\n",
              "      <th>4</th>\n",
              "      <td>47.0</td>\n",
              "      <td>52.0</td>\n",
              "      <td>20.0</td>\n",
              "      <td>45.0</td>\n",
              "      <td>60.0</td>\n",
              "    </tr>\n",
              "  </tbody>\n",
              "</table>\n",
              "</div>"
            ],
            "text/plain": [
              "      A     B     C     D     E\n",
              "0  82.0  93.0   1.0   5.0   8.0\n",
              "1   4.0  34.0  45.0  13.0  88.0\n",
              "2  87.0  41.0  54.0  41.0  43.0\n",
              "3  81.0  44.0  98.0   3.0  83.0\n",
              "4  47.0  52.0  20.0  45.0  60.0"
            ]
          },
          "metadata": {
            "tags": []
          },
          "execution_count": 149
        }
      ]
    }
  ]
}