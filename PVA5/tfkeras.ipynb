{
 "cells": [
  {
   "cell_type": "code",
   "execution_count": 1,
   "metadata": {},
   "outputs": [
    {
     "name": "stdout",
     "output_type": "stream",
     "text": [
      "1.12.0\n",
      "2.1.6-tf\n"
     ]
    }
   ],
   "source": [
    "import tensorflow as tf\n",
    "from tensorflow.keras import layers\n",
    "\n",
    "print(tf.VERSION)\n",
    "print(tf.keras.__version__)"
   ]
  },
  {
   "cell_type": "code",
   "execution_count": 2,
   "metadata": {},
   "outputs": [],
   "source": [
    "model = tf.keras.Sequential()\n",
    "# Adds a densely-connected layer with 64 units to the model:\n",
    "model.add(layers.Dense(64, activation='relu'))\n",
    "# Add another:\n",
    "model.add(layers.Dense(64, activation='relu'))\n",
    "# Add a softmax layer with 10 output units:\n",
    "model.add(layers.Dense(10, activation='softmax'))"
   ]
  },
  {
   "cell_type": "code",
   "execution_count": 3,
   "metadata": {},
   "outputs": [],
   "source": [
    "model = tf.keras.Sequential([\n",
    "# Adds a densely-connected layer with 64 units to the model:\n",
    "layers.Dense(64, activation='relu'),\n",
    "# Add another:\n",
    "layers.Dense(64, activation='relu'),\n",
    "# Add a softmax layer with 10 output units:\n",
    "layers.Dense(10, activation='softmax')])\n",
    "\n",
    "model.compile(optimizer=tf.train.AdamOptimizer(0.001),\n",
    "              loss='categorical_crossentropy',\n",
    "              metrics=['accuracy'])"
   ]
  },
  {
   "cell_type": "code",
   "execution_count": 4,
   "metadata": {},
   "outputs": [
    {
     "name": "stdout",
     "output_type": "stream",
     "text": [
      "Train on 1000 samples, validate on 1000 samples\n",
      "Epoch 1/10\n",
      "1000/1000 [==============================] - 0s 241us/step - loss: 11.5007 - acc: 0.1140 - val_loss: 11.4635 - val_acc: 0.1070\n",
      "Epoch 2/10\n",
      "1000/1000 [==============================] - 0s 62us/step - loss: 11.4609 - acc: 0.0990 - val_loss: 11.4528 - val_acc: 0.1060\n",
      "Epoch 3/10\n",
      "1000/1000 [==============================] - 0s 66us/step - loss: 11.4534 - acc: 0.1010 - val_loss: 11.4473 - val_acc: 0.1290\n",
      "Epoch 4/10\n",
      "1000/1000 [==============================] - 0s 69us/step - loss: 11.4484 - acc: 0.1190 - val_loss: 11.4409 - val_acc: 0.1140\n",
      "Epoch 5/10\n",
      "1000/1000 [==============================] - 0s 80us/step - loss: 11.4423 - acc: 0.1140 - val_loss: 11.4356 - val_acc: 0.1340\n",
      "Epoch 6/10\n",
      "1000/1000 [==============================] - 0s 63us/step - loss: 11.4372 - acc: 0.1350 - val_loss: 11.4305 - val_acc: 0.1490\n",
      "Epoch 7/10\n",
      "1000/1000 [==============================] - 0s 63us/step - loss: 11.4332 - acc: 0.1330 - val_loss: 11.4262 - val_acc: 0.1490\n",
      "Epoch 8/10\n",
      "1000/1000 [==============================] - 0s 61us/step - loss: 11.4282 - acc: 0.1450 - val_loss: 11.4218 - val_acc: 0.1500\n",
      "Epoch 9/10\n",
      "1000/1000 [==============================] - 0s 84us/step - loss: 11.4240 - acc: 0.1580 - val_loss: 11.4164 - val_acc: 0.1560\n",
      "Epoch 10/10\n",
      "1000/1000 [==============================] - 0s 65us/step - loss: 11.4200 - acc: 0.1520 - val_loss: 11.4131 - val_acc: 0.1480\n"
     ]
    },
    {
     "data": {
      "text/plain": [
       "<tensorflow.python.keras.callbacks.History at 0x7f27ef27b080>"
      ]
     },
     "execution_count": 4,
     "metadata": {},
     "output_type": "execute_result"
    }
   ],
   "source": [
    "import numpy as np\n",
    "\n",
    "data = np.random.random((1000, 32))\n",
    "labels = np.random.random((1000, 10))\n",
    "\n",
    "model.fit(data, labels, epochs=10, batch_size=32,\n",
    "          validation_data=(data,labels))"
   ]
  },
  {
   "cell_type": "code",
   "execution_count": 5,
   "metadata": {},
   "outputs": [
    {
     "name": "stdout",
     "output_type": "stream",
     "text": [
      "1000/1000 [==============================] - 0s 39us/step\n",
      "loss:11.41\n",
      "acc : 0.15\n"
     ]
    }
   ],
   "source": [
    "#model.evaluate?\n",
    "loss,metrics = model.evaluate(data,labels, batch_size=32)\n",
    "print(f\"loss:{loss:3.2f}\\nacc : {metrics:1.2f}\")"
   ]
  },
  {
   "cell_type": "code",
   "execution_count": 6,
   "metadata": {},
   "outputs": [
    {
     "name": "stdout",
     "output_type": "stream",
     "text": [
      "30/30 [==============================] - 0s 2ms/step\n",
      "loss:11.41\n",
      "acc : 0.15\n"
     ]
    }
   ],
   "source": [
    "loss,metrics = model.evaluate(data,labels, steps=30)\n",
    "print(f\"loss:{loss:3.2f}\\nacc : {metrics:1.2f}\")"
   ]
  },
  {
   "cell_type": "code",
   "execution_count": 7,
   "metadata": {},
   "outputs": [],
   "source": [
    "json_string = model.to_json()"
   ]
  },
  {
   "cell_type": "code",
   "execution_count": 8,
   "metadata": {},
   "outputs": [],
   "source": [
    "# Save weights to a TensorFlow Checkpoint file\n",
    "model.save_weights('./weights/my_model')"
   ]
  },
  {
   "cell_type": "code",
   "execution_count": 9,
   "metadata": {},
   "outputs": [
    {
     "data": {
      "text/plain": [
       "<tensorflow.python.training.checkpointable.util.CheckpointLoadStatus at 0x7f27ec554550>"
      ]
     },
     "execution_count": 9,
     "metadata": {},
     "output_type": "execute_result"
    }
   ],
   "source": [
    "# Restore the model's state,\n",
    "# this requires a model with the same architecture.\n",
    "model.load_weights('./weights/my_model')"
   ]
  },
  {
   "cell_type": "code",
   "execution_count": 10,
   "metadata": {},
   "outputs": [],
   "source": [
    "fresh_model = tf.keras.models.model_from_json(json_string)"
   ]
  },
  {
   "cell_type": "code",
   "execution_count": null,
   "metadata": {},
   "outputs": [],
   "source": []
  }
 ],
 "metadata": {
  "kernelspec": {
   "display_name": "v_py3",
   "language": "python",
   "name": "v_py3"
  },
  "language_info": {
   "codemirror_mode": {
    "name": "ipython",
    "version": 3
   },
   "file_extension": ".py",
   "mimetype": "text/x-python",
   "name": "python",
   "nbconvert_exporter": "python",
   "pygments_lexer": "ipython3",
   "version": "3.6.5"
  }
 },
 "nbformat": 4,
 "nbformat_minor": 2
}
