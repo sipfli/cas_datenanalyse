{
  "nbformat": 4,
  "nbformat_minor": 0,
  "metadata": {
    "colab": {
      "name": "PCA_auf_Bilddaten.ipynb",
      "version": "0.3.2",
      "provenance": []
    },
    "kernelspec": {
      "name": "python3",
      "display_name": "Python 3"
    }
  },
  "cells": [
    {
      "metadata": {
        "id": "OsSLidElqg_E",
        "colab_type": "code",
        "colab": {}
      },
      "cell_type": "code",
      "source": [
        "from skimage import io,img_as_float\n",
        "import numpy as np\n",
        "import matplotlib.pyplot as plt\n",
        "%matplotlib inline"
      ],
      "execution_count": 0,
      "outputs": []
    },
    {
      "metadata": {
        "id": "neripgkeqg_K",
        "colab_type": "text"
      },
      "cell_type": "markdown",
      "source": [
        "# Hauptkomponentenanalyse von Bildern\n",
        "Die Hauptkomponentenanalyse (Principal Components Analysis, PCA) kann auch auf Bilder angewendet werden. Wie bei anderen Daten sucht die Hauptkomponentenanalyse jene Richtungen (Hauptkomponenten) im hochdimensionalen Bildraum, in welcher die Daten am meisten variieren. Dies sind nützliche Features, wie wir gleich sehen werden.\n",
        "Die PCA erstellt also Features nicht aus einem einzigen Bild, sondern aus dem ganzen Set von Bildern.\n",
        "\n",
        "Das folgende Notebook zeigt, wie mit scikit-learn aus Bildern die Hauptkompoonenten extrahiert werden können."
      ]
    },
    {
      "metadata": {
        "id": "wHwpxZVIqg_L",
        "colab_type": "code",
        "colab": {
          "base_uri": "https://localhost:8080/",
          "height": 34
        },
        "outputId": "b70af505-7bbc-4a98-deec-356df19d802f"
      },
      "cell_type": "code",
      "source": [
        "#Wir laden Bilddaten aus unserer Kreuz-Kreis-Plus-Kaggle-Competition \n",
        "#(eine .csv-Datei mit 225 Pixelwerten für jedes Bild):\n",
        "import pandas as pd\n",
        "gitload = 'https://raw.githubusercontent.com/sakuronohana/cas_datenanalyse/master/PVA2/Segment_pics/csvs/corrdata.csv'\n",
        "df = pd.read_csv(gitload, header=None).drop([0],axis=1)\n",
        "df.shape"
      ],
      "execution_count": 19,
      "outputs": [
        {
          "output_type": "execute_result",
          "data": {
            "text/plain": [
              "(456, 101)"
            ]
          },
          "metadata": {
            "tags": []
          },
          "execution_count": 19
        }
      ]
    },
    {
      "metadata": {
        "id": "9IQPAq63qg_S",
        "colab_type": "code",
        "colab": {}
      },
      "cell_type": "code",
      "source": [
        "X = df.iloc[:,0:-1].values\n",
        "y = df.iloc[:,-1].values"
      ],
      "execution_count": 0,
      "outputs": []
    },
    {
      "metadata": {
        "scrolled": true,
        "id": "P80DWTCrqg_V",
        "colab_type": "code",
        "colab": {
          "base_uri": "https://localhost:8080/",
          "height": 168
        },
        "outputId": "ba072c6e-da71-4034-ed50-1cd2100a53bf"
      },
      "cell_type": "code",
      "source": [
        "plt.imshow(X[1,:].reshape(15,15));"
      ],
      "execution_count": 17,
      "outputs": [
        {
          "output_type": "error",
          "ename": "ValueError",
          "evalue": "ignored",
          "traceback": [
            "\u001b[0;31m---------------------------------------------------------------------------\u001b[0m",
            "\u001b[0;31mValueError\u001b[0m                                Traceback (most recent call last)",
            "\u001b[0;32m<ipython-input-17-18f70346ef97>\u001b[0m in \u001b[0;36m<module>\u001b[0;34m()\u001b[0m\n\u001b[0;32m----> 1\u001b[0;31m \u001b[0mplt\u001b[0m\u001b[0;34m.\u001b[0m\u001b[0mimshow\u001b[0m\u001b[0;34m(\u001b[0m\u001b[0mX\u001b[0m\u001b[0;34m[\u001b[0m\u001b[0;36m1\u001b[0m\u001b[0;34m,\u001b[0m\u001b[0;34m:\u001b[0m\u001b[0;34m]\u001b[0m\u001b[0;34m.\u001b[0m\u001b[0mreshape\u001b[0m\u001b[0;34m(\u001b[0m\u001b[0;36m15\u001b[0m\u001b[0;34m,\u001b[0m\u001b[0;36m15\u001b[0m\u001b[0;34m)\u001b[0m\u001b[0;34m)\u001b[0m\u001b[0;34m;\u001b[0m\u001b[0;34m\u001b[0m\u001b[0;34m\u001b[0m\u001b[0m\n\u001b[0m",
            "\u001b[0;31mValueError\u001b[0m: cannot reshape array of size 100 into shape (15,15)"
          ]
        }
      ]
    },
    {
      "metadata": {
        "id": "bM39K6Zzqg_Y",
        "colab_type": "text"
      },
      "cell_type": "markdown",
      "source": [
        "## PCA anwenden"
      ]
    },
    {
      "metadata": {
        "id": "YGxmeg3eqg_Z",
        "colab_type": "text"
      },
      "cell_type": "markdown",
      "source": [
        "Die Daten müssen normiert werden! Entweder mit der PCA-Option whiten=True, oder via"
      ]
    },
    {
      "metadata": {
        "id": "L01MUdZJqg_b",
        "colab_type": "code",
        "colab": {},
        "outputId": "02eefef6-524d-4126-a7bd-bd1c3dc7642a"
      },
      "cell_type": "code",
      "source": [
        "from sklearn.preprocessing import scale\n",
        "Xnorm=scale(X,axis=1)\n",
        "np.all(np.mean(Xnorm,axis=1)<10**-10)"
      ],
      "execution_count": 0,
      "outputs": [
        {
          "output_type": "stream",
          "text": [
            "/media/lws_data/beat/Envs/v_py3/lib/python3.5/site-packages/sklearn/utils/validation.py:590: DataConversionWarning: Data with input dtype int64 was converted to float64 by the scale function.\n",
            "  warnings.warn(msg, DataConversionWarning)\n"
          ],
          "name": "stderr"
        },
        {
          "output_type": "execute_result",
          "data": {
            "text/plain": [
              "True"
            ]
          },
          "metadata": {
            "tags": []
          },
          "execution_count": 24
        }
      ]
    },
    {
      "metadata": {
        "id": "ehfWAXpNqg_f",
        "colab_type": "code",
        "colab": {},
        "outputId": "945f3669-6a88-4b63-9316-d9fb2ac7b047"
      },
      "cell_type": "code",
      "source": [
        "from sklearn.decomposition import PCA\n",
        "trf= PCA(n_components=3,whiten=True)\n",
        "trf.fit(X)"
      ],
      "execution_count": 0,
      "outputs": [
        {
          "output_type": "execute_result",
          "data": {
            "text/plain": [
              "PCA(copy=True, iterated_power='auto', n_components=3, random_state=None,\n",
              "  svd_solver='auto', tol=0.0, whiten=True)"
            ]
          },
          "metadata": {
            "tags": []
          },
          "execution_count": 25
        }
      ]
    },
    {
      "metadata": {
        "id": "oLajrzlyqg_j",
        "colab_type": "code",
        "colab": {}
      },
      "cell_type": "code",
      "source": [
        "comp = trf.components_\n",
        "comp_img=comp.reshape(-1,15,15)"
      ],
      "execution_count": 0,
      "outputs": []
    },
    {
      "metadata": {
        "id": "t9JzYuStqg_n",
        "colab_type": "text"
      },
      "cell_type": "markdown",
      "source": [
        "## Eigenfaces betrachten\n",
        "Die Hauptkomponenten sind nun Vektoren der Länge 225, und können wieder als Bilder (sog. Eigenfaces) dargestellt werden."
      ]
    },
    {
      "metadata": {
        "id": "MZMXEppkqg_o",
        "colab_type": "code",
        "colab": {}
      },
      "cell_type": "code",
      "source": [
        "def remove_ticks(x=True,y=True):\n",
        "    if x: plt.gca().axes.get_xaxis().set_visible(False)\n",
        "    if y: plt.gca().axes.get_yaxis().set_visible(False)\n",
        "        \n",
        "def compare_images(imglist,figsize=(15,15),**kwargs):\n",
        "    \"\"\"\n",
        "    Erstelle aus einer Liste von Pixel-Arrays eine Visualisierung \n",
        "    der dazugehörigen Bilder, für den praktischen visuellen Vergleich.\n",
        "    \"\"\"\n",
        "    nImages=len(imglist)\n",
        "    plt.figure(figsize=figsize)\n",
        "    for i,image in enumerate(imglist):\n",
        "        plt.subplot(1,nImages,i+1)\n",
        "        plt.imshow(image,**kwargs);remove_ticks()"
      ],
      "execution_count": 0,
      "outputs": []
    },
    {
      "metadata": {
        "id": "SS9kORJRqg_v",
        "colab_type": "code",
        "colab": {},
        "outputId": "c3ca0ed0-b246-4b64-ad98-1d905c9ac503"
      },
      "cell_type": "code",
      "source": [
        "compare_images(comp_img,interpolation='none')"
      ],
      "execution_count": 0,
      "outputs": [
        {
          "output_type": "display_data",
          "data": {
            "image/png": "[encoded data removed]",
            "text/plain": [
              "<Figure size 1080x1080 with 3 Axes>"
            ]
          },
          "metadata": {
            "tags": []
          }
        }
      ]
    },
    {
      "metadata": {
        "id": "ZeozdJ42qg_y",
        "colab_type": "text"
      },
      "cell_type": "markdown",
      "source": [
        "Diese drei Bilder sind die ersten drei Hauptkomponenten und heissen auch Eigenfaces. Sie zeigen eindrücklich die Stärke der PCA und geben Einblick in das, was passiert: Offensichtlich wurde eine Struktur erkannt. Die ersten drei Eigenfaces zeigen die Richtungen, in welche die Bilder am meisten variieren. Zwar sind dies nicht direkt '+','x' und 'o', sondern Linearkombinationen davon. Aber wenn die Bilder auf diese drei Komponenten projiziert werden, ergeben sich dreikomponentige Vektoren, in welchem sich die ursprünglichen Bilder sehr gut trennen lassen. \n",
        "\n",
        "Probieren wir's!"
      ]
    },
    {
      "metadata": {
        "id": "bf7tT2VQqg_z",
        "colab_type": "text"
      },
      "cell_type": "markdown",
      "source": [
        "Wir suchen uns erst mal ein Bild eines \"+\" raus:"
      ]
    },
    {
      "metadata": {
        "id": "g_hGEy42qg_0",
        "colab_type": "code",
        "colab": {},
        "outputId": "91571ba2-06e7-440a-b811-f29026900cdd"
      },
      "cell_type": "code",
      "source": [
        "from random import randint\n",
        "X_crosses = X[y==0,:]; X_circles = X[y==1,:]; X_plusses = X[y==2,:]; \n",
        "X_plusses.shape"
      ],
      "execution_count": 0,
      "outputs": [
        {
          "output_type": "execute_result",
          "data": {
            "text/plain": [
              "(212, 225)"
            ]
          },
          "metadata": {
            "tags": []
          },
          "execution_count": 29
        }
      ]
    },
    {
      "metadata": {
        "id": "RV8b17Igqg_4",
        "colab_type": "code",
        "colab": {},
        "outputId": "2fbd469b-2257-4afe-a714-ebed3b72ee2e"
      },
      "cell_type": "code",
      "source": [
        "sample_plus_image = X_plusses[randint(0,X_plusses.shape[0]),:]\n",
        "image_plus = sample_plus_image.reshape(15,15)\n",
        "image_plus.shape"
      ],
      "execution_count": 0,
      "outputs": [
        {
          "output_type": "execute_result",
          "data": {
            "text/plain": [
              "(15, 15)"
            ]
          },
          "metadata": {
            "tags": []
          },
          "execution_count": 30
        }
      ]
    },
    {
      "metadata": {
        "id": "bVAKvVVcqg_7",
        "colab_type": "text"
      },
      "cell_type": "markdown",
      "source": [
        "Erstellen wir die Darstellung in der Hauptkomponentenbasis: In dieser bedeutet ein Vektor `[1,-5,111]`, dass das Bild durch `1*comp[0]-5*comp[1]+111*comp[2]` dargestellt werden kann wobei `comp = trf.components_`"
      ]
    },
    {
      "metadata": {
        "id": "VqFxV9rLqg_8",
        "colab_type": "code",
        "colab": {}
      },
      "cell_type": "code",
      "source": [
        "image_plus_transformed = trf.transform(image_plus.reshape(1,-1))"
      ],
      "execution_count": 0,
      "outputs": []
    },
    {
      "metadata": {
        "id": "dwyGt4XXqg_-",
        "colab_type": "code",
        "colab": {},
        "outputId": "9d80d86b-e905-4dcf-be29-a664827b5c72"
      },
      "cell_type": "code",
      "source": [
        "image_plus_projected = trf.inverse_transform(image_plus_transformed)\n",
        "plt.subplot(1,2,1);plt.imshow(image_plus);plt.title('Originalbild');remove_ticks()\n",
        "plt.subplot(1,2,2);plt.imshow(image_plus_projected.reshape(15,15));plt.title('Projektion auf die \\nersten 3 Hauptkomponentnen');remove_ticks()\n"
      ],
      "execution_count": 0,
      "outputs": [
        {
          "output_type": "display_data",
          "data": {
            "image/png": "[encoded data removed]",
            "text/plain": [
              "<Figure size 432x288 with 2 Axes>"
            ]
          },
          "metadata": {
            "tags": []
          }
        }
      ]
    },
    {
      "metadata": {
        "id": "kvTsJTCXqhAD",
        "colab_type": "code",
        "colab": {},
        "outputId": "d85f3621-8f8d-4f9f-fac3-069303c5b125"
      },
      "cell_type": "code",
      "source": [
        "np.mean(trf.transform(X_crosses),axis=0)"
      ],
      "execution_count": 0,
      "outputs": [
        {
          "output_type": "execute_result",
          "data": {
            "text/plain": [
              "array([-0.51908506,  1.13817817, -0.09754236])"
            ]
          },
          "metadata": {
            "tags": []
          },
          "execution_count": 33
        }
      ]
    },
    {
      "metadata": {
        "id": "sJI4Qz5uqhAJ",
        "colab_type": "code",
        "colab": {},
        "outputId": "82ae116e-3703-49f9-8883-325d761681a2"
      },
      "cell_type": "code",
      "source": [
        "np.mean(trf.transform(X_circles),axis=0)"
      ],
      "execution_count": 0,
      "outputs": [
        {
          "output_type": "execute_result",
          "data": {
            "text/plain": [
              "array([ 1.16310044, -0.08225103, -0.00530774])"
            ]
          },
          "metadata": {
            "tags": []
          },
          "execution_count": 34
        }
      ]
    },
    {
      "metadata": {
        "id": "1xkj7fg2qhAM",
        "colab_type": "code",
        "colab": {},
        "outputId": "2f9f4239-654c-4e11-c8a0-dca3c1381d3e"
      },
      "cell_type": "code",
      "source": [
        "np.mean(trf.transform(X_plusses),axis=0)"
      ],
      "execution_count": 0,
      "outputs": [
        {
          "output_type": "execute_result",
          "data": {
            "text/plain": [
              "array([-0.55759548, -0.98929992,  0.09585782])"
            ]
          },
          "metadata": {
            "tags": []
          },
          "execution_count": 35
        }
      ]
    },
    {
      "metadata": {
        "id": "334vrF7OqhAR",
        "colab_type": "text"
      },
      "cell_type": "markdown",
      "source": [
        "Wir sehen, dass  \n",
        "  - Kreise v.a. eine grosse (positive) erste Hauptkomponente haben\n",
        "  - Kreuze v.a. eine grosse (positive) zweite Hauptkomponente haben\n",
        "  - Plusse v.a. eine grosse (negative) zweite Hauptkomponente haben\n",
        "  \n",
        "Diese drei Features enthalten also einen Grossteil aller relevanten Information über die Bilder."
      ]
    },
    {
      "metadata": {
        "id": "DWhb2ggJqhAS",
        "colab_type": "code",
        "colab": {},
        "outputId": "f4efeb18-ee93-4fa8-86ee-d2fa0817b9f6"
      },
      "cell_type": "code",
      "source": [
        "x=[0,1,2]\n",
        "plt.bar(x,100*trf.explained_variance_ratio_);plt.ylim(0,100)\n",
        "plt.xticks(x, ('1.Hauptkomponente', '2.Hauptkomponente', '3.Hauptkomponente'))\n",
        "plt.title('Anteil der erklärten Varianz\\n[in %]');"
      ],
      "execution_count": 0,
      "outputs": [
        {
          "output_type": "display_data",
          "data": {
            "image/png": "[encoded data removed]",
            "text/plain": [
              "<Figure size 432x288 with 1 Axes>"
            ]
          },
          "metadata": {
            "tags": []
          }
        }
      ]
    }
  ]
}