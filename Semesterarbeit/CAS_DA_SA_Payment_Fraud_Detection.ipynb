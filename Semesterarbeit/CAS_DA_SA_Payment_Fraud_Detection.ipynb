{
  "nbformat": 4,
  "nbformat_minor": 0,
  "metadata": {
    "colab": {
      "name": "CAS-DA-SA_Payment_Fraud_Detection.ipynb",
      "version": "0.3.2",
      "provenance": [],
      "include_colab_link": true
    },
    "kernelspec": {
      "name": "python3",
      "display_name": "Python 3"
    },
    "accelerator": "GPU"
  },
  "cells": [
    {
      "cell_type": "markdown",
      "metadata": {
        "id": "view-in-github",
        "colab_type": "text"
      },
      "source": [
        "<a href=\"https://colab.research.google.com/github/sakuronohana/cas_datenanalyse/blob/master/Semesterarbeit/CAS_DA_SA_Payment_Fraud_Detection.ipynb\" target=\"_parent\"><img src=\"https://colab.research.google.com/assets/colab-badge.svg\" alt=\"Open In Colab\"/></a>"
      ]
    },
    {
      "cell_type": "markdown",
      "metadata": {
        "id": "jRcJtvy3IiFf",
        "colab_type": "text"
      },
      "source": [
        "<img \n",
        "src=\"https://www.ffhs.ch/templates/ffhs/img/logo@2x.png\" width=\"100\"> \n",
        "###DaAn, Data Analysis, MAS/CAS Web4B 2018, ZH1, FS19, Dr. Tödtli Beat###\n",
        "\n",
        "##*Semesterarbeit von Patrik Di Lena*##\n",
        "#Betrugserkennung Zahlungsverkehr#\n",
        "\n"
      ]
    },
    {
      "cell_type": "markdown",
      "metadata": {
        "id": "Cu2Lax6MMPh0",
        "colab_type": "text"
      },
      "source": [
        "##Ziel##\n",
        "Das Ziel dieser Semesterarbeit ist die Gegenüberstellung von Supervised und Unsupervised Lernverfahren mit eine neuronalen Netzwerk Algorthmus. Dabei kommt  ein nicht gelabelter und ein gelabelter Datensatz aus einem Betrugserkennungssystem zum Einsatz. \n",
        "\n",
        "##Aufgabenstellung##\n",
        "###Erkennung von Betrugszahlungen###\n",
        "Mittels Unsupervised Learning sollen Betrugszahlungen aus einem nicht gelabelten Datensatz erkannt und die Effiktivität des vorhandenen Fraud-Detection Systems geprüft werden.\n",
        "\n",
        "###Betrugsanfällige Risikogruppen###\n",
        "Mit Hilfe von Supervised Learning werden mögliche Risikogruppen ermittelt, welche im Visier von Betrügern stehen.  Auf Basis eines gelabelten Datensatzes  werden die Risikogruppen nach folgenden Merkmalen unterschieden:\n",
        "\n",
        "*\tGeschlecht\n",
        "*\tAlter\n",
        "*\tZivilstand\n",
        "*\tNationalität\n",
        "*\tKontosaldo\n",
        "*\tWohnort\n",
        "*\tRegion\n",
        "\n",
        "##Datensatz##\n",
        "Die im Rahmen dieser Semesterarbeit verwendeten Daten entstammen, von ihrer Datenstruktur her, aus einem bereits eingesetzten nicht ML-basierten Betrugserkennungssystem. Die Datenwerte wurde zu Wahrung der datenschutzrechtlichen und bankengesetzlichen Aspekte mit Hilfe eines Python-Scripts künstlich erzeugt und beinhalten somit keine reale Zahlungs- oder Kunden-Informationen.   \n",
        "\n",
        "Datenselektion:\n",
        "\n",
        "- 20'800 synthetische Kunden (Vorname, Name, Strasse, Ort, Kanton, Sprachregion, Geschlecht, Alter, Zivilstand,  Nationalität, Kontonummer, Vertragsnummer, Rechtsform)\n",
        "\n",
        "- 60'000 synthetische Zahlungen (Transaktionsid, ,Erstellungdatum/Zeit, Empfängerkonto, Empfängerbank, Empfängerland, Währung, Betrag, Valuta Datum)\n",
        "\n",
        "\n",
        "\n",
        "\n",
        "\n",
        "\n"
      ]
    },
    {
      "cell_type": "markdown",
      "metadata": {
        "id": "Lz_l4l9VX0jr",
        "colab_type": "text"
      },
      "source": [
        "#Erkennung von Betrugszahlungen# \n",
        "\n",
        "##Unsupervised Learning mit neuronalen Netzwerken##"
      ]
    },
    {
      "cell_type": "markdown",
      "metadata": {
        "id": "fPNBtxFmnQg7",
        "colab_type": "text"
      },
      "source": [
        "###Importieren der ungelabelten Fraud-Zahlungsdaten###"
      ]
    },
    {
      "cell_type": "code",
      "metadata": {
        "id": "M9kpR8RAjMzw",
        "colab_type": "code",
        "outputId": "34ae2f5a-af3f-4b15-b239-f58724df93ce",
        "colab": {
          "base_uri": "https://localhost:8080/",
          "height": 305
        }
      },
      "source": [
        "%matplotlib inline\n",
        "import pandas as pd\n",
        "import numpy as np\n",
        "import matplotlib.pyplot as plt\n",
        "\n",
        "\n",
        "# Laden der 600000 nicht gelabelten Transaktionsdaten \n",
        "trx_data_url = 'https://raw.githubusercontent.com/sakuronohana/cas_datenanalyse/master/Semesterarbeit/Dataset/trx_data_ol.csv'\n",
        "\n",
        "trx_data_ol = pd.read_csv(trx_data_url, delimiter=';')\n",
        "trx_data_ol.head()\n",
        "\n"
      ],
      "execution_count": 1,
      "outputs": [
        {
          "output_type": "execute_result",
          "data": {
            "text/html": [
              "<div>\n",
              "<style scoped>\n",
              "    .dataframe tbody tr th:only-of-type {\n",
              "        vertical-align: middle;\n",
              "    }\n",
              "\n",
              "    .dataframe tbody tr th {\n",
              "        vertical-align: top;\n",
              "    }\n",
              "\n",
              "    .dataframe thead th {\n",
              "        text-align: right;\n",
              "    }\n",
              "</style>\n",
              "<table border=\"1\" class=\"dataframe\">\n",
              "  <thead>\n",
              "    <tr style=\"text-align: right;\">\n",
              "      <th></th>\n",
              "      <th>timestamp</th>\n",
              "      <th>paym_id</th>\n",
              "      <th>send_bc_nr</th>\n",
              "      <th>amount</th>\n",
              "      <th>rcv_bc_nr</th>\n",
              "      <th>rcv_bc_iban</th>\n",
              "      <th>rcv_bc_country</th>\n",
              "      <th>rcv_bc_code</th>\n",
              "      <th>rcv_iban</th>\n",
              "      <th>valuta_date</th>\n",
              "      <th>cust_vertrag_nr</th>\n",
              "      <th>cust_konto_nr</th>\n",
              "      <th>cust_vname</th>\n",
              "      <th>cust_nname</th>\n",
              "      <th>cust_plz</th>\n",
              "      <th>cust_ort</th>\n",
              "      <th>cust_kanton</th>\n",
              "      <th>cust_sprachregion</th>\n",
              "      <th>cust_auth_device</th>\n",
              "    </tr>\n",
              "  </thead>\n",
              "  <tbody>\n",
              "    <tr>\n",
              "      <th>0</th>\n",
              "      <td>01.01.18 08:00</td>\n",
              "      <td>10000010</td>\n",
              "      <td>CHBANK71XXX</td>\n",
              "      <td>15368</td>\n",
              "      <td>JOBANK40XXX</td>\n",
              "      <td>JO02SCBL1260000000018525836101</td>\n",
              "      <td>Jordanien</td>\n",
              "      <td>JO</td>\n",
              "      <td>JO40002096331755419</td>\n",
              "      <td>01.01.18 08:00</td>\n",
              "      <td>76311</td>\n",
              "      <td>CH5300772672529640195</td>\n",
              "      <td>Martin</td>\n",
              "      <td>Bader</td>\n",
              "      <td>6020</td>\n",
              "      <td>Emmenbrücke</td>\n",
              "      <td>LU</td>\n",
              "      <td>de</td>\n",
              "      <td>mtan</td>\n",
              "    </tr>\n",
              "    <tr>\n",
              "      <th>1</th>\n",
              "      <td>01.01.18 08:00</td>\n",
              "      <td>10000011</td>\n",
              "      <td>CHBANK71XXX</td>\n",
              "      <td>89137</td>\n",
              "      <td>STBANK68XXX</td>\n",
              "      <td>ST23000200000289355710148</td>\n",
              "      <td>Sao Tome und Principe</td>\n",
              "      <td>ST</td>\n",
              "      <td>ST68002492808312214</td>\n",
              "      <td>01.01.18 20:00</td>\n",
              "      <td>69891</td>\n",
              "      <td>CH5300772670061796126</td>\n",
              "      <td>Margaretha</td>\n",
              "      <td>Fehr</td>\n",
              "      <td>9056</td>\n",
              "      <td>Gais</td>\n",
              "      <td>AR</td>\n",
              "      <td>de</td>\n",
              "      <td>ptan</td>\n",
              "    </tr>\n",
              "    <tr>\n",
              "      <th>2</th>\n",
              "      <td>01.01.18 08:01</td>\n",
              "      <td>10000012</td>\n",
              "      <td>CHBANK71XXX</td>\n",
              "      <td>87673</td>\n",
              "      <td>XKBANK43XXX</td>\n",
              "      <td>XK051301001002074155</td>\n",
              "      <td>Kosovo</td>\n",
              "      <td>XK</td>\n",
              "      <td>XK43002422391264290</td>\n",
              "      <td>02.01.18 08:01</td>\n",
              "      <td>78573</td>\n",
              "      <td>CH5300772500037725234</td>\n",
              "      <td>Daniel</td>\n",
              "      <td>Miéville</td>\n",
              "      <td>1253</td>\n",
              "      <td>Vandoeuvres</td>\n",
              "      <td>GE</td>\n",
              "      <td>fr</td>\n",
              "      <td>ptan</td>\n",
              "    </tr>\n",
              "    <tr>\n",
              "      <th>3</th>\n",
              "      <td>01.01.18 08:01</td>\n",
              "      <td>10000013</td>\n",
              "      <td>CHBANK71XXX</td>\n",
              "      <td>55941</td>\n",
              "      <td>RSBANK72XXX</td>\n",
              "      <td>RS35105008054113238018</td>\n",
              "      <td>Serbien</td>\n",
              "      <td>RS</td>\n",
              "      <td>RS72002873180573624</td>\n",
              "      <td>02.01.18 20:01</td>\n",
              "      <td>75443</td>\n",
              "      <td>CH5300772732508635138</td>\n",
              "      <td>Andrea</td>\n",
              "      <td>Iseni</td>\n",
              "      <td>6026</td>\n",
              "      <td>Rain</td>\n",
              "      <td>LU</td>\n",
              "      <td>de</td>\n",
              "      <td>mtan</td>\n",
              "    </tr>\n",
              "    <tr>\n",
              "      <th>4</th>\n",
              "      <td>01.01.18 08:02</td>\n",
              "      <td>10000014</td>\n",
              "      <td>CHBANK71XXX</td>\n",
              "      <td>88173</td>\n",
              "      <td>LIBANK48XXX</td>\n",
              "      <td>LI0308800000022875748</td>\n",
              "      <td>Liechtenstein</td>\n",
              "      <td>LI</td>\n",
              "      <td>LI48002899580343897</td>\n",
              "      <td>03.01.18 08:02</td>\n",
              "      <td>73167</td>\n",
              "      <td>CH5300772640237288398</td>\n",
              "      <td>Andrea</td>\n",
              "      <td>Pinana</td>\n",
              "      <td>6693</td>\n",
              "      <td>Broglio</td>\n",
              "      <td>TI</td>\n",
              "      <td>it</td>\n",
              "      <td>mtan</td>\n",
              "    </tr>\n",
              "  </tbody>\n",
              "</table>\n",
              "</div>"
            ],
            "text/plain": [
              "        timestamp   paym_id   send_bc_nr  amount    rcv_bc_nr  \\\n",
              "0  01.01.18 08:00  10000010  CHBANK71XXX   15368  JOBANK40XXX   \n",
              "1  01.01.18 08:00  10000011  CHBANK71XXX   89137  STBANK68XXX   \n",
              "2  01.01.18 08:01  10000012  CHBANK71XXX   87673  XKBANK43XXX   \n",
              "3  01.01.18 08:01  10000013  CHBANK71XXX   55941  RSBANK72XXX   \n",
              "4  01.01.18 08:02  10000014  CHBANK71XXX   88173  LIBANK48XXX   \n",
              "\n",
              "                      rcv_bc_iban         rcv_bc_country rcv_bc_code  \\\n",
              "0  JO02SCBL1260000000018525836101              Jordanien          JO   \n",
              "1       ST23000200000289355710148  Sao Tome und Principe          ST   \n",
              "2            XK051301001002074155                 Kosovo          XK   \n",
              "3          RS35105008054113238018                Serbien          RS   \n",
              "4           LI0308800000022875748          Liechtenstein          LI   \n",
              "\n",
              "              rcv_iban     valuta_date  cust_vertrag_nr  \\\n",
              "0  JO40002096331755419  01.01.18 08:00            76311   \n",
              "1  ST68002492808312214  01.01.18 20:00            69891   \n",
              "2  XK43002422391264290  02.01.18 08:01            78573   \n",
              "3  RS72002873180573624  02.01.18 20:01            75443   \n",
              "4  LI48002899580343897  03.01.18 08:02            73167   \n",
              "\n",
              "           cust_konto_nr  cust_vname cust_nname  cust_plz     cust_ort  \\\n",
              "0  CH5300772672529640195      Martin      Bader      6020  Emmenbrücke   \n",
              "1  CH5300772670061796126  Margaretha       Fehr      9056         Gais   \n",
              "2  CH5300772500037725234      Daniel   Miéville      1253  Vandoeuvres   \n",
              "3  CH5300772732508635138      Andrea      Iseni      6026         Rain   \n",
              "4  CH5300772640237288398      Andrea     Pinana      6693      Broglio   \n",
              "\n",
              "  cust_kanton cust_sprachregion cust_auth_device  \n",
              "0          LU                de             mtan  \n",
              "1          AR                de             ptan  \n",
              "2          GE                fr             ptan  \n",
              "3          LU                de             mtan  \n",
              "4          TI                it             mtan  "
            ]
          },
          "metadata": {
            "tags": []
          },
          "execution_count": 1
        }
      ]
    },
    {
      "cell_type": "markdown",
      "metadata": {
        "id": "TmODZafznm1I",
        "colab_type": "text"
      },
      "source": [
        "###Feature Engineering###"
      ]
    },
    {
      "cell_type": "code",
      "metadata": {
        "id": "D2GAbTbYoRZ6",
        "colab_type": "code",
        "colab": {}
      },
      "source": [
        "# Bestimmte Daten in das richtige Format konvertieren\n",
        "\n",
        "trx_data_ol.info()\n",
        "\n",
        "# timestamp in Datums-und Zeitformat umwandeln\n",
        "trx_data_ol.timestamp = pd.to_datetime(trx_data_ol['timestamp'])\n"
      ],
      "execution_count": 0,
      "outputs": []
    },
    {
      "cell_type": "markdown",
      "metadata": {
        "id": "POjMMOv1eaOg",
        "colab_type": "text"
      },
      "source": [
        "###Encoding kategorische Werte in nummerische Werte###"
      ]
    },
    {
      "cell_type": "code",
      "metadata": {
        "id": "mjtsST2vuwFD",
        "colab_type": "code",
        "outputId": "fc2c0bad-d7d9-439b-991d-520cff7197c5",
        "colab": {
          "base_uri": "https://localhost:8080/",
          "height": 262
        }
      },
      "source": [
        "#Encoding Object Werte in Numeric Werte\n",
        "trx_data_ol.info()\n",
        "\n",
        "#Ausfilterung der kategorischen Variablen mittels Datentyp\n",
        "trx_data_ol_cat = trx.data_ol.select_dtypes(include=['object']).copy()\n",
        "\n",
        "\n",
        "# DictVectorizer\n",
        "from sklearn.feature_extraction import DictVectorizer\n",
        "# instantiate a Dictvectorizer object for X\n",
        "dv_X = DictVectorizer(sparse=False) \n",
        "# sparse = False makes the output is not a sparse matrix\n",
        "\n",
        "# convert trx_data_ol into dict\n",
        "trx_data_dict = trx_data_ol.to_dict(orient='records') # turn each row as key-value pairs\n",
        "\n",
        "# apply dv_X on X_dict\n",
        "X_encoded = dv_X.fit_transform(trx_data_dict)\n",
        "# show X_encoded\n",
        "X_encoded\n"
      ],
      "execution_count": 0,
      "outputs": [
        {
          "output_type": "execute_result",
          "data": {
            "text/plain": [
              "array([[1.5368e+04, 1.0000e+00, 0.0000e+00, ..., 0.0000e+00, 0.0000e+00,\n",
              "        0.0000e+00],\n",
              "       [8.9137e+04, 0.0000e+00, 1.0000e+00, ..., 0.0000e+00, 0.0000e+00,\n",
              "        0.0000e+00],\n",
              "       [8.7673e+04, 0.0000e+00, 1.0000e+00, ..., 0.0000e+00, 0.0000e+00,\n",
              "        0.0000e+00],\n",
              "       ...,\n",
              "       [6.8647e+04, 0.0000e+00, 1.0000e+00, ..., 0.0000e+00, 0.0000e+00,\n",
              "        0.0000e+00],\n",
              "       [3.7448e+04, 0.0000e+00, 1.0000e+00, ..., 0.0000e+00, 0.0000e+00,\n",
              "        0.0000e+00],\n",
              "       [9.2257e+04, 0.0000e+00, 1.0000e+00, ..., 0.0000e+00, 0.0000e+00,\n",
              "        0.0000e+00]])"
            ]
          },
          "metadata": {
            "tags": []
          },
          "execution_count": 2
        }
      ]
    },
    {
      "cell_type": "code",
      "metadata": {
        "id": "WZQ_isr_xzgv",
        "colab_type": "code",
        "outputId": "bfce52bd-819b-43e6-fa6e-0bb11f170740",
        "colab": {
          "base_uri": "https://localhost:8080/",
          "height": 348
        }
      },
      "source": [
        "# Categorical boolean mask\n",
        "categorical_feature_mask = trx_data_ol.dtypes==object\n",
        "# filter categorical columns using mask and turn it into a list\n",
        "categorical_cols = trx_data_ol.columns[categorical_feature_mask].tolist()\n",
        "\n",
        "# import labelencoder\n",
        "from sklearn.preprocessing import LabelEncoder\n",
        "# instantiate labelencoder object\n",
        "le = LabelEncoder()\n",
        "\n",
        "# apply le on categorical feature columns\n",
        "trx_data_ol[categorical_cols] = trx_data_ol[categorical_cols].apply(lambda col: le.fit_transform(col))\n",
        "trx_data_ol[categorical_cols].head(10)\n"
      ],
      "execution_count": 0,
      "outputs": [
        {
          "output_type": "execute_result",
          "data": {
            "text/html": [
              "<div>\n",
              "<style scoped>\n",
              "    .dataframe tbody tr th:only-of-type {\n",
              "        vertical-align: middle;\n",
              "    }\n",
              "\n",
              "    .dataframe tbody tr th {\n",
              "        vertical-align: top;\n",
              "    }\n",
              "\n",
              "    .dataframe thead th {\n",
              "        text-align: right;\n",
              "    }\n",
              "</style>\n",
              "<table border=\"1\" class=\"dataframe\">\n",
              "  <thead>\n",
              "    <tr style=\"text-align: right;\">\n",
              "      <th></th>\n",
              "      <th>timestamp</th>\n",
              "      <th>send_bc_nr</th>\n",
              "      <th>rcv_bc_nr</th>\n",
              "      <th>rcv_bc_iban</th>\n",
              "      <th>rcv_bc_country</th>\n",
              "      <th>rcv_bc_code</th>\n",
              "      <th>rcv_iban</th>\n",
              "      <th>valuta_date</th>\n",
              "      <th>cust_konto_nr</th>\n",
              "      <th>cust_vname</th>\n",
              "      <th>cust_nname</th>\n",
              "      <th>cust_ort</th>\n",
              "      <th>cust_kanton</th>\n",
              "      <th>cust_sprachregion</th>\n",
              "      <th>cust_auth_device</th>\n",
              "    </tr>\n",
              "  </thead>\n",
              "  <tbody>\n",
              "    <tr>\n",
              "      <th>0</th>\n",
              "      <td>0</td>\n",
              "      <td>0</td>\n",
              "      <td>36</td>\n",
              "      <td>36</td>\n",
              "      <td>29</td>\n",
              "      <td>36</td>\n",
              "      <td>28548</td>\n",
              "      <td>2</td>\n",
              "      <td>13943</td>\n",
              "      <td>261</td>\n",
              "      <td>164</td>\n",
              "      <td>217</td>\n",
              "      <td>4</td>\n",
              "      <td>0</td>\n",
              "      <td>0</td>\n",
              "    </tr>\n",
              "    <tr>\n",
              "      <th>1</th>\n",
              "      <td>0</td>\n",
              "      <td>0</td>\n",
              "      <td>67</td>\n",
              "      <td>67</td>\n",
              "      <td>56</td>\n",
              "      <td>67</td>\n",
              "      <td>53597</td>\n",
              "      <td>3</td>\n",
              "      <td>13891</td>\n",
              "      <td>247</td>\n",
              "      <td>1239</td>\n",
              "      <td>251</td>\n",
              "      <td>1</td>\n",
              "      <td>0</td>\n",
              "      <td>1</td>\n",
              "    </tr>\n",
              "    <tr>\n",
              "      <th>2</th>\n",
              "      <td>1</td>\n",
              "      <td>0</td>\n",
              "      <td>74</td>\n",
              "      <td>74</td>\n",
              "      <td>32</td>\n",
              "      <td>74</td>\n",
              "      <td>59059</td>\n",
              "      <td>1974</td>\n",
              "      <td>10414</td>\n",
              "      <td>84</td>\n",
              "      <td>2629</td>\n",
              "      <td>667</td>\n",
              "      <td>3</td>\n",
              "      <td>1</td>\n",
              "      <td>1</td>\n",
              "    </tr>\n",
              "    <tr>\n",
              "      <th>3</th>\n",
              "      <td>1</td>\n",
              "      <td>0</td>\n",
              "      <td>60</td>\n",
              "      <td>60</td>\n",
              "      <td>60</td>\n",
              "      <td>60</td>\n",
              "      <td>48335</td>\n",
              "      <td>1975</td>\n",
              "      <td>15222</td>\n",
              "      <td>18</td>\n",
              "      <td>1943</td>\n",
              "      <td>532</td>\n",
              "      <td>4</td>\n",
              "      <td>0</td>\n",
              "      <td>0</td>\n",
              "    </tr>\n",
              "    <tr>\n",
              "      <th>4</th>\n",
              "      <td>2</td>\n",
              "      <td>0</td>\n",
              "      <td>41</td>\n",
              "      <td>41</td>\n",
              "      <td>37</td>\n",
              "      <td>41</td>\n",
              "      <td>33136</td>\n",
              "      <td>3945</td>\n",
              "      <td>13286</td>\n",
              "      <td>18</td>\n",
              "      <td>2977</td>\n",
              "      <td>86</td>\n",
              "      <td>5</td>\n",
              "      <td>2</td>\n",
              "      <td>0</td>\n",
              "    </tr>\n",
              "    <tr>\n",
              "      <th>5</th>\n",
              "      <td>2</td>\n",
              "      <td>0</td>\n",
              "      <td>5</td>\n",
              "      <td>5</td>\n",
              "      <td>5</td>\n",
              "      <td>5</td>\n",
              "      <td>4390</td>\n",
              "      <td>3946</td>\n",
              "      <td>3589</td>\n",
              "      <td>313</td>\n",
              "      <td>1880</td>\n",
              "      <td>385</td>\n",
              "      <td>4</td>\n",
              "      <td>0</td>\n",
              "      <td>1</td>\n",
              "    </tr>\n",
              "    <tr>\n",
              "      <th>6</th>\n",
              "      <td>3</td>\n",
              "      <td>0</td>\n",
              "      <td>4</td>\n",
              "      <td>4</td>\n",
              "      <td>2</td>\n",
              "      <td>4</td>\n",
              "      <td>3287</td>\n",
              "      <td>5917</td>\n",
              "      <td>5494</td>\n",
              "      <td>401</td>\n",
              "      <td>1009</td>\n",
              "      <td>594</td>\n",
              "      <td>4</td>\n",
              "      <td>0</td>\n",
              "      <td>0</td>\n",
              "    </tr>\n",
              "    <tr>\n",
              "      <th>7</th>\n",
              "      <td>3</td>\n",
              "      <td>0</td>\n",
              "      <td>47</td>\n",
              "      <td>47</td>\n",
              "      <td>46</td>\n",
              "      <td>47</td>\n",
              "      <td>37623</td>\n",
              "      <td>5918</td>\n",
              "      <td>10647</td>\n",
              "      <td>277</td>\n",
              "      <td>2058</td>\n",
              "      <td>229</td>\n",
              "      <td>2</td>\n",
              "      <td>1</td>\n",
              "      <td>1</td>\n",
              "    </tr>\n",
              "    <tr>\n",
              "      <th>8</th>\n",
              "      <td>4</td>\n",
              "      <td>0</td>\n",
              "      <td>63</td>\n",
              "      <td>63</td>\n",
              "      <td>58</td>\n",
              "      <td>63</td>\n",
              "      <td>50252</td>\n",
              "      <td>7890</td>\n",
              "      <td>19990</td>\n",
              "      <td>128</td>\n",
              "      <td>2229</td>\n",
              "      <td>678</td>\n",
              "      <td>5</td>\n",
              "      <td>2</td>\n",
              "      <td>1</td>\n",
              "    </tr>\n",
              "    <tr>\n",
              "      <th>9</th>\n",
              "      <td>4</td>\n",
              "      <td>0</td>\n",
              "      <td>52</td>\n",
              "      <td>52</td>\n",
              "      <td>47</td>\n",
              "      <td>52</td>\n",
              "      <td>41360</td>\n",
              "      <td>7891</td>\n",
              "      <td>4624</td>\n",
              "      <td>396</td>\n",
              "      <td>2736</td>\n",
              "      <td>217</td>\n",
              "      <td>4</td>\n",
              "      <td>0</td>\n",
              "      <td>1</td>\n",
              "    </tr>\n",
              "  </tbody>\n",
              "</table>\n",
              "</div>"
            ],
            "text/plain": [
              "   timestamp  send_bc_nr  rcv_bc_nr  rcv_bc_iban  rcv_bc_country  rcv_bc_code  \\\n",
              "0          0           0         36           36              29           36   \n",
              "1          0           0         67           67              56           67   \n",
              "2          1           0         74           74              32           74   \n",
              "3          1           0         60           60              60           60   \n",
              "4          2           0         41           41              37           41   \n",
              "5          2           0          5            5               5            5   \n",
              "6          3           0          4            4               2            4   \n",
              "7          3           0         47           47              46           47   \n",
              "8          4           0         63           63              58           63   \n",
              "9          4           0         52           52              47           52   \n",
              "\n",
              "   rcv_iban  valuta_date  cust_konto_nr  cust_vname  cust_nname  cust_ort  \\\n",
              "0     28548            2          13943         261         164       217   \n",
              "1     53597            3          13891         247        1239       251   \n",
              "2     59059         1974          10414          84        2629       667   \n",
              "3     48335         1975          15222          18        1943       532   \n",
              "4     33136         3945          13286          18        2977        86   \n",
              "5      4390         3946           3589         313        1880       385   \n",
              "6      3287         5917           5494         401        1009       594   \n",
              "7     37623         5918          10647         277        2058       229   \n",
              "8     50252         7890          19990         128        2229       678   \n",
              "9     41360         7891           4624         396        2736       217   \n",
              "\n",
              "   cust_kanton  cust_sprachregion  cust_auth_device  \n",
              "0            4                  0                 0  \n",
              "1            1                  0                 1  \n",
              "2            3                  1                 1  \n",
              "3            4                  0                 0  \n",
              "4            5                  2                 0  \n",
              "5            4                  0                 1  \n",
              "6            4                  0                 0  \n",
              "7            2                  1                 1  \n",
              "8            5                  2                 1  \n",
              "9            4                  0                 1  "
            ]
          },
          "metadata": {
            "tags": []
          },
          "execution_count": 5
        }
      ]
    },
    {
      "cell_type": "markdown",
      "metadata": {
        "id": "T7I1cx12_2Gv",
        "colab_type": "text"
      },
      "source": [
        "#Ermittlung potenzieller Kundenrisikogruppen# \n",
        "##Supervised Learning mit neuronalen Netzwerken##\n"
      ]
    },
    {
      "cell_type": "code",
      "metadata": {
        "id": "b57Ggf-x-Iet",
        "colab_type": "code",
        "colab": {}
      },
      "source": [
        "%matplotlib inline\n",
        "import pandas as pd\n",
        "import numpy as np\n",
        "import matplotlib.pyplot as plt\n",
        "\n",
        "\n",
        "# Laden der 600000 Transaktionsdaten \n",
        "trx_data_url = 'https://raw.githubusercontent.com/sakuronohana/cas_datenanalyse/master/Semesterarbeit/Dataset/trx_data_ml.csv'\n",
        "\n",
        "trx_data_ml = pd.read_csv(trx_data_url, delimiter=';')\n",
        "trx_data_ml.head()\n"
      ],
      "execution_count": 0,
      "outputs": []
    },
    {
      "cell_type": "code",
      "metadata": {
        "id": "4reOVH6SOoEs",
        "colab_type": "code",
        "colab": {}
      },
      "source": [
        "trx_data_ol.nunique()"
      ],
      "execution_count": 0,
      "outputs": []
    },
    {
      "cell_type": "code",
      "metadata": {
        "id": "Qa3UBsB4PUcz",
        "colab_type": "code",
        "colab": {}
      },
      "source": [
        "trx_data.fraud_id.map(lambda x:1 if x>=1 else 0).mean()"
      ],
      "execution_count": 0,
      "outputs": []
    },
    {
      "cell_type": "markdown",
      "metadata": {
        "id": "g0Oh1LK53rMd",
        "colab_type": "text"
      },
      "source": [
        "##Datensatz analysieren##\n",
        "\n",
        "##Tipp: Plotting Learning Curves - Scikit !!!!"
      ]
    },
    {
      "cell_type": "code",
      "metadata": {
        "id": "6bzsG7nZ25CG",
        "colab_type": "code",
        "colab": {}
      },
      "source": [
        "# Visualisierung der Nummerischen Daten in dem Datensatz\n",
        "trx_data.hist(bins=50, figsize=(20,15))\n",
        "plt.show()"
      ],
      "execution_count": 0,
      "outputs": []
    },
    {
      "cell_type": "code",
      "metadata": {
        "id": "K-MjsTaU3kS8",
        "colab_type": "code",
        "colab": {}
      },
      "source": [
        "# Suche nach den Korrelationen - Teil 1\n",
        "corr_matrix = trx_data.corr()\n",
        "print ('Korrelation zu Payment ID','\\n',corr_matrix['paym_id'].sort_values(ascending=False))\n",
        "print ('Korrelation zu Zahlungssumme','\\n',corr_matrix['amount'].sort_values(ascending=False))\n",
        "print ('Korrelation zu Kundenvertrag','\\n',corr_matrix['cust_vertrag_nr'].sort_values(ascending=False))\n",
        "print ('Korrelation zu Betrugsid','\\n',corr_matrix['fraud_id'].sort_values(ascending=False))"
      ],
      "execution_count": 0,
      "outputs": []
    },
    {
      "cell_type": "code",
      "metadata": {
        "id": "GXoUuDUY3LpU",
        "colab_type": "code",
        "colab": {}
      },
      "source": [
        "# Bereinigung der Daten\n",
        "pd.to_datetime(trx_data['timestamp'])\n",
        "pd.to_datetime(trx_data['valuta_date'])\n",
        "np.where(np.isnan(trx_data))"
      ],
      "execution_count": 0,
      "outputs": []
    },
    {
      "cell_type": "code",
      "metadata": {
        "id": "c6Vx75189gJV",
        "colab_type": "code",
        "colab": {}
      },
      "source": [
        "# Datensatz in Trainings(80%)- und Testdatenset (20%) teilen\n",
        "from sklearn.model_selection import train_test_split\n",
        "train_trx_data, test_trx_data = train_test_split(trx_data, test_size=0.2, random_state=42) \n",
        "train_trx_data.count(), test_trx_data.count()"
      ],
      "execution_count": 0,
      "outputs": []
    },
    {
      "cell_type": "code",
      "metadata": {
        "id": "WKYDanXj3Vm9",
        "colab_type": "code",
        "colab": {}
      },
      "source": [
        "# Dimensionsreduktion mit PCA\n",
        "from sklearn.decomposition import PCA # Import der PCA Funktion von Scikit Learn\n",
        "from sklearn import preprocessing # Die Preprocessing Funktion hilft uns die Daten zu skalieren bevor sie mit PCA verwendet werden."
      ],
      "execution_count": 0,
      "outputs": []
    }
  ]
}